{
 "cells": [
  {
   "cell_type": "code",
   "execution_count": 25,
   "metadata": {},
   "outputs": [],
   "source": [
    "import pandas as pd\n",
    "import numpy as np"
   ]
  },
  {
   "cell_type": "code",
   "execution_count": 27,
   "metadata": {},
   "outputs": [],
   "source": [
    "# modelnames = ['Whisper_tiny', 'Whisper_large', 'Azure', 'GoogleCloud', 'Wav2vec', 'WeNet']\n",
    "modelnames = ['Whisper_tiny', 'Whisper_large']\n",
    "eval_metrics = ['WER', 'CER', 'BLEU', 'WordNet_first', 'WordNet_all', 'GloVe', 'BERT', 'Sent2Vec']\n",
    "\n",
    "placeholder = [np.nan] * len(modelnames)\n",
    "data = {'WER': placeholder,'CER': placeholder,'BLEU': placeholder,'WordNet_first': placeholder,'WordNet_all': placeholder,'GloVe': placeholder,'BERT': placeholder,'Sent2Vec': placeholder}\n",
    "df_analysis = pd.DataFrame(data, index=modelnames)\n",
    "\n",
    "for modelname in modelnames:\n",
    "    df = pd.read_csv(f'{modelname}_evaluation.csv')\n",
    "    for metrics in eval_metrics:\n",
    "        df_analysis.loc[modelname, metrics] = df[metrics].sum()/df[metrics].shape[0]"
   ]
  },
  {
   "cell_type": "code",
   "execution_count": 28,
   "metadata": {},
   "outputs": [
    {
     "data": {
      "text/html": [
       "<div>\n",
       "<style scoped>\n",
       "    .dataframe tbody tr th:only-of-type {\n",
       "        vertical-align: middle;\n",
       "    }\n",
       "\n",
       "    .dataframe tbody tr th {\n",
       "        vertical-align: top;\n",
       "    }\n",
       "\n",
       "    .dataframe thead th {\n",
       "        text-align: right;\n",
       "    }\n",
       "</style>\n",
       "<table border=\"1\" class=\"dataframe\">\n",
       "  <thead>\n",
       "    <tr style=\"text-align: right;\">\n",
       "      <th></th>\n",
       "      <th>WER</th>\n",
       "      <th>CER</th>\n",
       "      <th>BLEU</th>\n",
       "      <th>WordNet_first</th>\n",
       "      <th>WordNet_all</th>\n",
       "      <th>GloVe</th>\n",
       "      <th>BERT</th>\n",
       "      <th>Sent2Vec</th>\n",
       "    </tr>\n",
       "  </thead>\n",
       "  <tbody>\n",
       "    <tr>\n",
       "      <th>Whisper_tiny</th>\n",
       "      <td>0.733815</td>\n",
       "      <td>0.672080</td>\n",
       "      <td>0.059470</td>\n",
       "      <td>0.225569</td>\n",
       "      <td>0.193784</td>\n",
       "      <td>0.448664</td>\n",
       "      <td>0.632048</td>\n",
       "      <td>0.025071</td>\n",
       "    </tr>\n",
       "    <tr>\n",
       "      <th>Whisper_large</th>\n",
       "      <td>0.436943</td>\n",
       "      <td>0.320493</td>\n",
       "      <td>0.197269</td>\n",
       "      <td>0.359728</td>\n",
       "      <td>0.290138</td>\n",
       "      <td>0.544911</td>\n",
       "      <td>0.755377</td>\n",
       "      <td>0.017931</td>\n",
       "    </tr>\n",
       "  </tbody>\n",
       "</table>\n",
       "</div>"
      ],
      "text/plain": [
       "                    WER       CER      BLEU  WordNet_first  WordNet_all  \\\n",
       "Whisper_tiny   0.733815  0.672080  0.059470       0.225569     0.193784   \n",
       "Whisper_large  0.436943  0.320493  0.197269       0.359728     0.290138   \n",
       "\n",
       "                  GloVe      BERT  Sent2Vec  \n",
       "Whisper_tiny   0.448664  0.632048  0.025071  \n",
       "Whisper_large  0.544911  0.755377  0.017931  "
      ]
     },
     "execution_count": 28,
     "metadata": {},
     "output_type": "execute_result"
    }
   ],
   "source": [
    "df_analysis"
   ]
  }
 ],
 "metadata": {
  "kernelspec": {
   "display_name": "Python 3",
   "language": "python",
   "name": "python3"
  },
  "language_info": {
   "codemirror_mode": {
    "name": "ipython",
    "version": 3
   },
   "file_extension": ".py",
   "mimetype": "text/x-python",
   "name": "python",
   "nbconvert_exporter": "python",
   "pygments_lexer": "ipython3",
   "version": "3.12.3"
  },
  "orig_nbformat": 4
 },
 "nbformat": 4,
 "nbformat_minor": 2
}
