{
 "cells": [
  {
   "cell_type": "code",
   "execution_count": null,
   "metadata": {},
   "outputs": [],
   "source": [
    "# https://github.com/wenet-e2e/wenet\n",
    "# !pip3 install git+https://github.com/wenet-e2e/wenet.git"
   ]
  },
  {
   "cell_type": "code",
   "execution_count": null,
   "metadata": {},
   "outputs": [],
   "source": [
    "import os\n",
    "import re\n",
    "import wenet\n",
    "import pandas as pd\n",
    "\n",
    "model = wenet.load_model('chinese')\n",
    "\n",
    "def transcribe_WeNet(filename):\n",
    "    result = model.transcribe(filename)\n",
    "    return result['text']\n",
    "\n",
    "df_wenet = pd.DataFrame({\n",
    "    'Filename': [],\n",
    "    'Start_time': [],\n",
    "    'End_time': [],\n",
    "    'WeNet': []\n",
    "})"
   ]
  },
  {
   "cell_type": "code",
   "execution_count": null,
   "metadata": {},
   "outputs": [],
   "source": [
    "for i in range(1, 71):\n",
    "    number = str(i).zfill(2)\n",
    "    input_files = [f for f in os.listdir(f\"segmented_audio/conversationA/00{number}\")]\n",
    "    for input_file in input_files:\n",
    "        predicted = transcribe_WeNet(f'segmented_audio/conversationA/00{number}/{input_file}')\n",
    "        match = re.search(r'(\\d+\\.\\d+)_(\\d+\\.\\d+)\\.wav$', input_file)\n",
    "        start_time = match.group(1)\n",
    "        end_time = match.group(2)\n",
    "        df_wenet.loc[len(df_wenet)] = {'Filename': f'D00{number}_A','Start_time': start_time,'End_time': end_time,'WeNet': predicted}\n",
    "\n",
    "for i in range(1, 71):\n",
    "    number = str(i).zfill(2)\n",
    "    input_files = [f for f in os.listdir(f\"segmented_audio/conversationB/00{number}\")]\n",
    "    for input_file in input_files:\n",
    "        predicted = transcribe_WeNet(f'segmented_audio/conversationB/00{number}/{input_file}')\n",
    "        match = re.search(r'(\\d+\\.\\d+)_(\\d+\\.\\d+)\\.wav$', input_file)\n",
    "        start_time = match.group(1)\n",
    "        end_time = match.group(2)\n",
    "        df_wenet.loc[len(df_wenet)] = {'Filename': f'D00{number}_B','Start_time': start_time,'End_time': end_time,'WeNet': predicted}\n",
    "\n",
    "for i in range(1, 71):\n",
    "    number = str(i).zfill(2)\n",
    "    input_files = [f for f in os.listdir(f\"segmented_audio/voice_command/00{number}\")]\n",
    "    for input_file in input_files:\n",
    "        predicted = transcribe_WeNet(f'segmented_audio/voice_command/00{number}/{input_file}')\n",
    "        match = re.search(r'(\\d+\\.\\d+)_(\\d+\\.\\d+)\\.wav$', input_file)\n",
    "        start_time = match.group(1)\n",
    "        end_time = match.group(2)\n",
    "        df_wenet.loc[len(df_wenet)] = {'Filename': f'P00{number}','Start_time': start_time,'End_time': end_time,'WeNet': predicted}\n",
    "\n",
    "df_wenet.to_csv('predicted_transcription/WeNet.csv')"
   ]
  }
 ],
 "metadata": {
  "kernelspec": {
   "display_name": "Python 3",
   "language": "python",
   "name": "python3"
  },
  "language_info": {
   "codemirror_mode": {
    "name": "ipython",
    "version": 3
   },
   "file_extension": ".py",
   "mimetype": "text/x-python",
   "name": "python",
   "nbconvert_exporter": "python",
   "pygments_lexer": "ipython3",
   "version": "3.12.3"
  },
  "orig_nbformat": 4
 },
 "nbformat": 4,
 "nbformat_minor": 2
}
