{
 "cells": [
  {
   "cell_type": "markdown",
   "id": "39ade53f-41d9-4929-b8a6-c7bda2487903",
   "metadata": {},
   "source": [
    "# WeNet Model Evaluation On Stutterance"
   ]
  },
  {
   "cell_type": "markdown",
   "id": "0e91f32c-9f44-445e-af1d-d80438c80a73",
   "metadata": {},
   "source": [
    "1. Turn original transcripts into dataframes\n",
    "2. Read generated transcript dataframes\n",
    "3. Get Error & Stutterance count\n",
    "4. Get Error & Stutterance Type ==> show which stutterance type is more prone to error\n",
    "5. Calculate Correlation Score\n",
    "6. Generate Heatmap\n",
    "7. Summarize Trend\n",
    "\n",
    "*** \n",
    "\n",
    "### Error Metrics\n",
    "1. Net / Total Word Error Rate\n",
    "2. Word Error Rate Specific After Cleaning other Stutterance Type Annotations"
   ]
  },
  {
   "cell_type": "markdown",
   "id": "7f3447c6-7204-47d4-90e4-c5cfdea58819",
   "metadata": {},
   "source": [
    "***"
   ]
  },
  {
   "cell_type": "markdown",
   "id": "cea686dc-bce5-4d46-9064-b11e197e5a78",
   "metadata": {},
   "source": [
    "## Using Custom Kernel on SCC\n",
    "\n",
    "SCC sometimes has the problem with installed library not importable [`module not found` error], this is an alternative.\n",
    "\n",
    "Assuming you have a conda environment created, you would do the following:\n",
    "1. `conda install -c anaconda ipykernel` \n",
    "2. `python -m ipykernel install --user --name=<env name>`\n",
    "3. If the new kernel cannot be found, relaunch a new SCC instance\n",
    "\n",
    "**Remember to switch to the conda env kernel**"
   ]
  },
  {
   "cell_type": "code",
   "execution_count": 35,
   "id": "e07f1428-92a8-4db0-829c-f30a8146f0ed",
   "metadata": {
    "tags": []
   },
   "outputs": [],
   "source": [
    "ds_transcript_path = \"/projectnb/ds549/projects/AImpower/datasets/updated_annotation_deid_full\""
   ]
  },
  {
   "cell_type": "code",
   "execution_count": 36,
   "id": "148a20da-9100-47fe-b6b4-acd844df0194",
   "metadata": {
    "tags": []
   },
   "outputs": [
    {
     "name": "stdout",
     "output_type": "stream",
     "text": [
      "Defaulting to user installation because normal site-packages is not writeable\n",
      "Requirement already satisfied: pandas in /share/pkg.8/python3/3.10.12/install/lib/python3.10/site-packages (2.0.3)\n",
      "Requirement already satisfied: numpy in /share/pkg.8/python3/3.10.12/install/lib/python3.10/site-packages (1.24.4)\n",
      "Requirement already satisfied: scipy in /share/pkg.8/python3/3.10.12/install/lib/python3.10/site-packages (1.11.1)\n",
      "Requirement already satisfied: tqdm in /share/pkg.8/python3/3.10.12/install/lib/python3.10/site-packages (4.65.0)\n",
      "Requirement already satisfied: python-dateutil>=2.8.2 in /share/pkg.8/python3/3.10.12/install/lib/python3.10/site-packages (from pandas) (2.8.2)\n",
      "Requirement already satisfied: pytz>=2020.1 in /share/pkg.8/python3/3.10.12/install/lib/python3.10/site-packages (from pandas) (2023.3)\n",
      "Requirement already satisfied: tzdata>=2022.1 in /share/pkg.8/python3/3.10.12/install/lib/python3.10/site-packages (from pandas) (2023.3)\n",
      "Requirement already satisfied: six>=1.5 in /share/pkg.8/python3/3.10.12/install/lib/python3.10/site-packages (from python-dateutil>=2.8.2->pandas) (1.16.0)\n",
      "\n",
      "\u001b[1m[\u001b[0m\u001b[34;49mnotice\u001b[0m\u001b[1;39;49m]\u001b[0m\u001b[39;49m A new release of pip is available: \u001b[0m\u001b[31;49m23.2.1\u001b[0m\u001b[39;49m -> \u001b[0m\u001b[32;49m24.3.1\u001b[0m\n",
      "\u001b[1m[\u001b[0m\u001b[34;49mnotice\u001b[0m\u001b[1;39;49m]\u001b[0m\u001b[39;49m To update, run: \u001b[0m\u001b[32;49mpip install --upgrade pip\u001b[0m\n"
     ]
    }
   ],
   "source": [
    "!pip install pandas numpy scipy tqdm"
   ]
  },
  {
   "cell_type": "markdown",
   "id": "0c243649-dc9e-45da-84b9-1698d77b8232",
   "metadata": {},
   "source": [
    "---"
   ]
  },
  {
   "cell_type": "markdown",
   "id": "ca38fa21-278b-424f-8346-a22b6090b43a",
   "metadata": {},
   "source": [
    "## Word Error Rate\n",
    "\n",
    "Objectives:\n",
    "* split sequence into characters\n",
    "* count:\n",
    "    * deletion: missing words\n",
    "    * substitutions: wrongly recognized words\n",
    "    * insertions: extra words"
   ]
  },
  {
   "cell_type": "code",
   "execution_count": 37,
   "id": "0c81df43-e7a5-4fc8-bd91-aea09d092265",
   "metadata": {
    "tags": []
   },
   "outputs": [],
   "source": [
    "def wer(candidate, reference):\n",
    "    \"\"\"\n",
    "    Parameter(s)\n",
    "    ------------\n",
    "    candidate ==> generated transcript\n",
    "    reference ==> dataset transcript\n",
    "    \"\"\"\n",
    "    \n",
    "    candidate_tokens = list(candidate)\n",
    "    reference_tokens = list(reference)\n",
    "    \n",
    "    cand_len = len(candidate_tokens)\n",
    "    ref_len = len(reference_tokens)\n",
    "    \n",
    "    dist_mat = np.zeros((ref_len, cand_len), dtype=int)\n",
    "    \n",
    "    for i in range(ref_len):\n",
    "        dist_mat[i][0] = i\n",
    "    for j in range(cand_len):\n",
    "        dist_mat[0][j] = j\n",
    "        \n",
    "    for i in range(1, ref_len):\n",
    "        for j in range(1, cand_len):\n",
    "            if (candidate_tokens[j - 1] == reference_tokens[i - 1]):\n",
    "                cost = 0\n",
    "            else:\n",
    "                cost = 1\n",
    "                \n",
    "            dist_mat[i][j] = min(\n",
    "                dist_mat[i-1][j] + 1,\n",
    "                dist_mat[i][j-1] + 1,\n",
    "                dist_mat[i-1][j-1] + cost\n",
    "            )\n",
    "            # print(dist_mat)\n",
    "            \n",
    "    wer = dist_mat[-1][-1] / len(reference_tokens)\n",
    "    return wer"
   ]
  },
  {
   "cell_type": "markdown",
   "id": "febcf1a3-f6cc-4a91-adba-bcc77778de63",
   "metadata": {},
   "source": [
    "***"
   ]
  },
  {
   "cell_type": "markdown",
   "id": "b5a446d7-0d6b-4dee-bab6-04f07a352782",
   "metadata": {},
   "source": [
    "## Imports and Data Ingestion "
   ]
  },
  {
   "cell_type": "code",
   "execution_count": 38,
   "id": "e93b0091-575e-456b-98b3-512203307bbd",
   "metadata": {
    "tags": []
   },
   "outputs": [],
   "source": [
    "import pandas as pd\n",
    "import numpy as np\n",
    "import scipy\n",
    "import os\n",
    "from tqdm import tqdm\n",
    "import re\n",
    "import sys"
   ]
  },
  {
   "cell_type": "code",
   "execution_count": 39,
   "id": "fd42a3b2-7d82-49c2-8ef9-78072b41ea77",
   "metadata": {
    "tags": []
   },
   "outputs": [],
   "source": [
    "net_data = pd.DataFrame(columns=[\"Filename\", \"Start_time\", \"End_time\", \"Transcript\"]) \n",
    "net_aigenerated_data_wenet = pd.read_csv(\"/projectnb/ds549/projects/AImpower/datasets/generated-transcripts/WeNet.csv\", delimiter=\",\")\n",
    "\n",
    "del net_aigenerated_data_wenet[net_aigenerated_data_wenet.columns[0]]"
   ]
  },
  {
   "cell_type": "code",
   "execution_count": 40,
   "id": "39f9f360-6023-4820-8e62-0fec34f36acc",
   "metadata": {
    "tags": []
   },
   "outputs": [],
   "source": [
    "for folder in os.listdir(ds_transcript_path):\n",
    "    if folder == \"command_stats.xlsx\" or folder == \"command_stats.csv\":\n",
    "        continue\n",
    "    for audio_sample in os.listdir(os.path.join(ds_transcript_path, f\"{folder}\")):\n",
    "        if (\"_A.txt\" in audio_sample):\n",
    "            net_data = pd.concat([net_data, pd.read_csv(os.path.join(ds_transcript_path, f\"{folder}/{audio_sample}\"), sep=\"\\t\", names=[\"Start_time\", \"End_time\", \"Transcript\"]).assign(Filename=f\"D{folder}_A\")])\n",
    "        if (\"_B.txt\" in audio_sample):\n",
    "            net_data = pd.concat([net_data, pd.read_csv(os.path.join(ds_transcript_path, f\"{folder}/{audio_sample}\"), sep=\"\\t\", names=[\"Start_time\", \"End_time\", \"Transcript\"]).assign(Filename=f\"D{folder}_B\")])\n",
    "        if (\"P\" in audio_sample):\n",
    "            net_data = pd.concat([net_data, pd.read_csv(os.path.join(ds_transcript_path, f\"{folder}/{audio_sample}\"), sep=\"\\t\", names=[\"Start_time\", \"End_time\", \"Transcript\"]).assign(Filename=f\"P{folder}\")])"
   ]
  },
  {
   "cell_type": "code",
   "execution_count": 41,
   "id": "06ce2b50-9c43-40a6-ae23-69ed8676ff3b",
   "metadata": {
    "tags": []
   },
   "outputs": [],
   "source": [
    "mask_pattern = r\"\\<.*?\\>\"\n",
    "repetition_pattern = r\"\\[.*?\\]\"\n",
    "annotation_pattern = r\"/\\w\"\n",
    "\n",
    "\n",
    "net_data = net_data.assign(Cleaned_Transcript=net_data['Transcript'].apply(lambda x: re.sub(annotation_pattern, \"\", re.sub(repetition_pattern, \"\", re.sub(mask_pattern, \"\", x)))))\n",
    "net_data = net_data.assign(Stutterance_Count=net_data['Transcript'].apply(lambda x: len(re.findall(mask_pattern, x)) + len(re.findall(repetition_pattern, x)) + len(re.findall(annotation_pattern, x))))"
   ]
  },
  {
   "cell_type": "code",
   "execution_count": 42,
   "id": "0c0f8b87-c5bc-453f-9399-efef62a00a6c",
   "metadata": {
    "tags": []
   },
   "outputs": [
    {
     "data": {
      "text/html": [
       "<div>\n",
       "<style scoped>\n",
       "    .dataframe tbody tr th:only-of-type {\n",
       "        vertical-align: middle;\n",
       "    }\n",
       "\n",
       "    .dataframe tbody tr th {\n",
       "        vertical-align: top;\n",
       "    }\n",
       "\n",
       "    .dataframe thead th {\n",
       "        text-align: right;\n",
       "    }\n",
       "</style>\n",
       "<table border=\"1\" class=\"dataframe\">\n",
       "  <thead>\n",
       "    <tr style=\"text-align: right;\">\n",
       "      <th></th>\n",
       "      <th>Filename</th>\n",
       "      <th>Start_time</th>\n",
       "      <th>End_time</th>\n",
       "      <th>Transcript</th>\n",
       "      <th>Cleaned_Transcript</th>\n",
       "      <th>Stutterance_Count</th>\n",
       "    </tr>\n",
       "  </thead>\n",
       "  <tbody>\n",
       "    <tr>\n",
       "      <th>0</th>\n",
       "      <td>D0045_A</td>\n",
       "      <td>48.330</td>\n",
       "      <td>58.020</td>\n",
       "      <td>嗯，我[我/b我]现在已经工作了，我是/p一八年毕业的，然后我的专业是/p国际经济与贸易。</td>\n",
       "      <td>嗯，我现在已经工作了，我是一八年毕业的，然后我的专业是国际经济与贸易。</td>\n",
       "      <td>4</td>\n",
       "    </tr>\n",
       "    <tr>\n",
       "      <th>1</th>\n",
       "      <td>D0045_A</td>\n",
       "      <td>58.900</td>\n",
       "      <td>72.140</td>\n",
       "      <td>然后我现在嗯/i/p我现在的工作是/p[是]在/p[是在]&lt;人民银行&gt;，但是这个工作就是/p...</td>\n",
       "      <td>然后我现在嗯我现在的工作是在，但是这个工作就是可能快要就不干了。</td>\n",
       "      <td>8</td>\n",
       "    </tr>\n",
       "    <tr>\n",
       "      <th>2</th>\n",
       "      <td>D0045_A</td>\n",
       "      <td>74.100</td>\n",
       "      <td>81.260</td>\n",
       "      <td>嗯/i/p然后我平常的爱好是/p比较喜欢看电影，然后还喜欢打网球。</td>\n",
       "      <td>嗯然后我平常的爱好是比较喜欢看电影，然后还喜欢打网球。</td>\n",
       "      <td>3</td>\n",
       "    </tr>\n",
       "    <tr>\n",
       "      <th>3</th>\n",
       "      <td>D0045_A</td>\n",
       "      <td>84.930</td>\n",
       "      <td>86.320</td>\n",
       "      <td>嗯/i&lt;overlap&gt;结束了。</td>\n",
       "      <td>嗯结束了。</td>\n",
       "      <td>2</td>\n",
       "    </tr>\n",
       "    <tr>\n",
       "      <th>4</th>\n",
       "      <td>D0045_A</td>\n",
       "      <td>100.950</td>\n",
       "      <td>113.700</td>\n",
       "      <td>嗯，这个就是它[它]不是银行系统，然后它然/r后那个之所以不干，是因为就是这个，嗯/i就是现...</td>\n",
       "      <td>嗯，这个就是它不是银行系统，然后它然后那个之所以不干，是因为就是这个，嗯就是现在人民银行的县...</td>\n",
       "      <td>4</td>\n",
       "    </tr>\n",
       "    <tr>\n",
       "      <th>...</th>\n",
       "      <td>...</td>\n",
       "      <td>...</td>\n",
       "      <td>...</td>\n",
       "      <td>...</td>\n",
       "      <td>...</td>\n",
       "      <td>...</td>\n",
       "    </tr>\n",
       "    <tr>\n",
       "      <th>135</th>\n",
       "      <td>P0030</td>\n",
       "      <td>3202.732</td>\n",
       "      <td>3213.472</td>\n",
       "      <td>单曲循环歌曲最[最最]爱的为何没结果。</td>\n",
       "      <td>单曲循环歌曲最爱的为何没结果。</td>\n",
       "      <td>1</td>\n",
       "    </tr>\n",
       "    <tr>\n",
       "      <th>136</th>\n",
       "      <td>P0030</td>\n",
       "      <td>3216.222</td>\n",
       "      <td>3221.042</td>\n",
       "      <td>来[来]一首朴/p树的歌。</td>\n",
       "      <td>来一首朴树的歌。</td>\n",
       "      <td>2</td>\n",
       "    </tr>\n",
       "    <tr>\n",
       "      <th>137</th>\n",
       "      <td>P0030</td>\n",
       "      <td>3225.732</td>\n",
       "      <td>3236.142</td>\n",
       "      <td>搜[搜/r/b搜]索小灿的多/p年/p/r/b以后。</td>\n",
       "      <td>搜索小灿的多年以后。</td>\n",
       "      <td>7</td>\n",
       "    </tr>\n",
       "    <tr>\n",
       "      <th>138</th>\n",
       "      <td>P0030</td>\n",
       "      <td>3240.652</td>\n",
       "      <td>3253.172</td>\n",
       "      <td>播放半吨/b/r/p孙弟歌孙兄弟的歌。</td>\n",
       "      <td>播放半吨孙弟歌孙兄弟的歌。</td>\n",
       "      <td>3</td>\n",
       "    </tr>\n",
       "    <tr>\n",
       "      <th>139</th>\n",
       "      <td>P0030</td>\n",
       "      <td>3256.672</td>\n",
       "      <td>3264.012</td>\n",
       "      <td>单/p曲循环歌/p曲你的灵魂。</td>\n",
       "      <td>单曲循环歌曲你的灵魂。</td>\n",
       "      <td>2</td>\n",
       "    </tr>\n",
       "  </tbody>\n",
       "</table>\n",
       "<p>37250 rows × 6 columns</p>\n",
       "</div>"
      ],
      "text/plain": [
       "    Filename  Start_time  End_time  \\\n",
       "0    D0045_A      48.330    58.020   \n",
       "1    D0045_A      58.900    72.140   \n",
       "2    D0045_A      74.100    81.260   \n",
       "3    D0045_A      84.930    86.320   \n",
       "4    D0045_A     100.950   113.700   \n",
       "..       ...         ...       ...   \n",
       "135    P0030    3202.732  3213.472   \n",
       "136    P0030    3216.222  3221.042   \n",
       "137    P0030    3225.732  3236.142   \n",
       "138    P0030    3240.652  3253.172   \n",
       "139    P0030    3256.672  3264.012   \n",
       "\n",
       "                                            Transcript  \\\n",
       "0        嗯，我[我/b我]现在已经工作了，我是/p一八年毕业的，然后我的专业是/p国际经济与贸易。   \n",
       "1    然后我现在嗯/i/p我现在的工作是/p[是]在/p[是在]<人民银行>，但是这个工作就是/p...   \n",
       "2                    嗯/i/p然后我平常的爱好是/p比较喜欢看电影，然后还喜欢打网球。   \n",
       "3                                     嗯/i<overlap>结束了。   \n",
       "4    嗯，这个就是它[它]不是银行系统，然后它然/r后那个之所以不干，是因为就是这个，嗯/i就是现...   \n",
       "..                                                 ...   \n",
       "135                                单曲循环歌曲最[最最]爱的为何没结果。   \n",
       "136                                      来[来]一首朴/p树的歌。   \n",
       "137                         搜[搜/r/b搜]索小灿的多/p年/p/r/b以后。   \n",
       "138                                播放半吨/b/r/p孙弟歌孙兄弟的歌。   \n",
       "139                                    单/p曲循环歌/p曲你的灵魂。   \n",
       "\n",
       "                                    Cleaned_Transcript  Stutterance_Count  \n",
       "0                  嗯，我现在已经工作了，我是一八年毕业的，然后我的专业是国际经济与贸易。                  4  \n",
       "1                     然后我现在嗯我现在的工作是在，但是这个工作就是可能快要就不干了。                  8  \n",
       "2                          嗯然后我平常的爱好是比较喜欢看电影，然后还喜欢打网球。                  3  \n",
       "3                                                嗯结束了。                  2  \n",
       "4    嗯，这个就是它不是银行系统，然后它然后那个之所以不干，是因为就是这个，嗯就是现在人民银行的县...                  4  \n",
       "..                                                 ...                ...  \n",
       "135                                    单曲循环歌曲最爱的为何没结果。                  1  \n",
       "136                                           来一首朴树的歌。                  2  \n",
       "137                                         搜索小灿的多年以后。                  7  \n",
       "138                                      播放半吨孙弟歌孙兄弟的歌。                  3  \n",
       "139                                        单曲循环歌曲你的灵魂。                  2  \n",
       "\n",
       "[37250 rows x 6 columns]"
      ]
     },
     "execution_count": 42,
     "metadata": {},
     "output_type": "execute_result"
    }
   ],
   "source": [
    "net_data"
   ]
  },
  {
   "cell_type": "code",
   "execution_count": 43,
   "id": "04a8c032-607b-4eb7-ac99-6d82c28d846a",
   "metadata": {
    "tags": []
   },
   "outputs": [
    {
     "data": {
      "text/html": [
       "<div>\n",
       "<style scoped>\n",
       "    .dataframe tbody tr th:only-of-type {\n",
       "        vertical-align: middle;\n",
       "    }\n",
       "\n",
       "    .dataframe tbody tr th {\n",
       "        vertical-align: top;\n",
       "    }\n",
       "\n",
       "    .dataframe thead th {\n",
       "        text-align: right;\n",
       "    }\n",
       "</style>\n",
       "<table border=\"1\" class=\"dataframe\">\n",
       "  <thead>\n",
       "    <tr style=\"text-align: right;\">\n",
       "      <th></th>\n",
       "      <th>Filename</th>\n",
       "      <th>Start_time</th>\n",
       "      <th>End_time</th>\n",
       "      <th>WeNet</th>\n",
       "    </tr>\n",
       "  </thead>\n",
       "  <tbody>\n",
       "    <tr>\n",
       "      <th>0</th>\n",
       "      <td>D0001_A</td>\n",
       "      <td>2081.540000</td>\n",
       "      <td>2109.650000</td>\n",
       "      <td>我说出来就比较地需要时间然后那个识别的他的不就是他等你一会你那个话还没有说完的还没有说出来的...</td>\n",
       "    </tr>\n",
       "    <tr>\n",
       "      <th>1</th>\n",
       "      <td>D0001_A</td>\n",
       "      <td>790.130000</td>\n",
       "      <td>796.580000</td>\n",
       "      <td>第四句有我我说的话</td>\n",
       "    </tr>\n",
       "    <tr>\n",
       "      <th>2</th>\n",
       "      <td>D0001_A</td>\n",
       "      <td>1562.083518</td>\n",
       "      <td>1586.220000</td>\n",
       "      <td>这部剧是不怎么评分是不怎么好的就因为评评论区的那那些人他们都在说拿到号做好惨的那个就那么勤奋...</td>\n",
       "    </tr>\n",
       "    <tr>\n",
       "      <th>3</th>\n",
       "      <td>D0001_A</td>\n",
       "      <td>2016.780000</td>\n",
       "      <td>2035.673559</td>\n",
       "      <td>很精准对讯飞语音还是讯飞助手来着就我记得他是叫讯飞我之前就是他</td>\n",
       "    </tr>\n",
       "    <tr>\n",
       "      <th>4</th>\n",
       "      <td>D0001_A</td>\n",
       "      <td>1682.670000</td>\n",
       "      <td>1709.110000</td>\n",
       "      <td>一个个是叫啥来的我忘了就是出现了这一个人然后呢他他就射了一把剑然后就就把那个拿二号给长杀了就...</td>\n",
       "    </tr>\n",
       "    <tr>\n",
       "      <th>...</th>\n",
       "      <td>...</td>\n",
       "      <td>...</td>\n",
       "      <td>...</td>\n",
       "      <td>...</td>\n",
       "    </tr>\n",
       "    <tr>\n",
       "      <th>37248</th>\n",
       "      <td>P0070</td>\n",
       "      <td>2586.616000</td>\n",
       "      <td>2589.346000</td>\n",
       "      <td>单曲循环歌曲这样而已</td>\n",
       "    </tr>\n",
       "    <tr>\n",
       "      <th>37249</th>\n",
       "      <td>P0070</td>\n",
       "      <td>2782.496000</td>\n",
       "      <td>2783.706000</td>\n",
       "      <td>杨幂的电影</td>\n",
       "    </tr>\n",
       "    <tr>\n",
       "      <th>37250</th>\n",
       "      <td>P0070</td>\n",
       "      <td>2995.296000</td>\n",
       "      <td>2998.116000</td>\n",
       "      <td>你好米娅今天柴油价怎么样</td>\n",
       "    </tr>\n",
       "    <tr>\n",
       "      <th>37251</th>\n",
       "      <td>P0070</td>\n",
       "      <td>2604.066000</td>\n",
       "      <td>2606.656000</td>\n",
       "      <td>单曲循环歌曲琉璃光之歌</td>\n",
       "    </tr>\n",
       "    <tr>\n",
       "      <th>37252</th>\n",
       "      <td>P0070</td>\n",
       "      <td>2434.606000</td>\n",
       "      <td>2436.576000</td>\n",
       "      <td>导航到龙城明月</td>\n",
       "    </tr>\n",
       "  </tbody>\n",
       "</table>\n",
       "<p>37253 rows × 4 columns</p>\n",
       "</div>"
      ],
      "text/plain": [
       "      Filename   Start_time     End_time  \\\n",
       "0      D0001_A  2081.540000  2109.650000   \n",
       "1      D0001_A   790.130000   796.580000   \n",
       "2      D0001_A  1562.083518  1586.220000   \n",
       "3      D0001_A  2016.780000  2035.673559   \n",
       "4      D0001_A  1682.670000  1709.110000   \n",
       "...        ...          ...          ...   \n",
       "37248    P0070  2586.616000  2589.346000   \n",
       "37249    P0070  2782.496000  2783.706000   \n",
       "37250    P0070  2995.296000  2998.116000   \n",
       "37251    P0070  2604.066000  2606.656000   \n",
       "37252    P0070  2434.606000  2436.576000   \n",
       "\n",
       "                                                   WeNet  \n",
       "0      我说出来就比较地需要时间然后那个识别的他的不就是他等你一会你那个话还没有说完的还没有说出来的...  \n",
       "1                                              第四句有我我说的话  \n",
       "2      这部剧是不怎么评分是不怎么好的就因为评评论区的那那些人他们都在说拿到号做好惨的那个就那么勤奋...  \n",
       "3                        很精准对讯飞语音还是讯飞助手来着就我记得他是叫讯飞我之前就是他  \n",
       "4      一个个是叫啥来的我忘了就是出现了这一个人然后呢他他就射了一把剑然后就就把那个拿二号给长杀了就...  \n",
       "...                                                  ...  \n",
       "37248                                         单曲循环歌曲这样而已  \n",
       "37249                                              杨幂的电影  \n",
       "37250                                       你好米娅今天柴油价怎么样  \n",
       "37251                                        单曲循环歌曲琉璃光之歌  \n",
       "37252                                            导航到龙城明月  \n",
       "\n",
       "[37253 rows x 4 columns]"
      ]
     },
     "execution_count": 43,
     "metadata": {},
     "output_type": "execute_result"
    }
   ],
   "source": [
    "net_aigenerated_data_wenet"
   ]
  },
  {
   "cell_type": "markdown",
   "id": "70509616-62dc-494d-9914-f96010242e1c",
   "metadata": {},
   "source": [
    "**Now we have raw data of all audio transcriptions from datasets [updated_annotation_deid_full] in `net_data` and AI predicted transcriptions in `net_aigenerated_data_wenet`**"
   ]
  },
  {
   "cell_type": "markdown",
   "id": "ced1999f-2d44-4709-8169-719369c1067c",
   "metadata": {},
   "source": [
    "***"
   ]
  },
  {
   "cell_type": "markdown",
   "id": "060e2625-861c-4bd9-a7b2-82db58f4e931",
   "metadata": {},
   "source": [
    "## WeNet Large WER Analysis"
   ]
  },
  {
   "cell_type": "code",
   "execution_count": 46,
   "id": "a194fb38-ea3c-4028-92be-c106a00e84a8",
   "metadata": {
    "tags": []
   },
   "outputs": [
    {
     "name": "stderr",
     "output_type": "stream",
     "text": [
      "  2%|▏         | 711/37253 [00:04<03:51, 157.84it/s]"
     ]
    },
    {
     "name": "stdout",
     "output_type": "stream",
     "text": [
      "Skipping due to missing or non-string wenet.\n"
     ]
    },
    {
     "name": "stderr",
     "output_type": "stream",
     "text": [
      "  4%|▎         | 1347/37253 [00:08<03:59, 149.77it/s]"
     ]
    },
    {
     "name": "stdout",
     "output_type": "stream",
     "text": [
      "Skipping due to missing or non-string wenet.\n"
     ]
    },
    {
     "name": "stderr",
     "output_type": "stream",
     "text": [
      "  4%|▍         | 1455/37253 [00:09<04:07, 144.92it/s]"
     ]
    },
    {
     "name": "stdout",
     "output_type": "stream",
     "text": [
      "Skipping due to missing or non-string wenet.\n"
     ]
    },
    {
     "name": "stderr",
     "output_type": "stream",
     "text": [
      "  5%|▍         | 1853/37253 [00:11<03:41, 160.16it/s]"
     ]
    },
    {
     "name": "stdout",
     "output_type": "stream",
     "text": [
      "Skipping due to missing or non-string wenet.\n",
      "Skipping: One of the rows is empty.\n"
     ]
    },
    {
     "name": "stderr",
     "output_type": "stream",
     "text": [
      "  6%|▌         | 2163/37253 [00:13<03:40, 159.02it/s]"
     ]
    },
    {
     "name": "stdout",
     "output_type": "stream",
     "text": [
      "Skipping due to missing or non-string wenet.\n"
     ]
    },
    {
     "name": "stderr",
     "output_type": "stream",
     "text": [
      "  6%|▌         | 2214/37253 [00:14<03:39, 159.40it/s]"
     ]
    },
    {
     "name": "stdout",
     "output_type": "stream",
     "text": [
      "Skipping due to missing or non-string wenet.\n"
     ]
    },
    {
     "name": "stderr",
     "output_type": "stream",
     "text": [
      "  7%|▋         | 2736/37253 [00:17<03:30, 164.01it/s]"
     ]
    },
    {
     "name": "stdout",
     "output_type": "stream",
     "text": [
      "Skipping due to missing or non-string wenet.\n",
      "Skipping due to missing or non-string wenet.\n"
     ]
    },
    {
     "name": "stderr",
     "output_type": "stream",
     "text": [
      " 10%|█         | 3838/37253 [00:25<03:17, 168.84it/s]"
     ]
    },
    {
     "name": "stdout",
     "output_type": "stream",
     "text": [
      "Skipping due to missing or non-string wenet.\n"
     ]
    },
    {
     "name": "stderr",
     "output_type": "stream",
     "text": [
      " 11%|█         | 4051/37253 [00:26<03:12, 172.76it/s]"
     ]
    },
    {
     "name": "stdout",
     "output_type": "stream",
     "text": [
      "Skipping due to missing or non-string wenet.\n",
      "Skipping due to missing or non-string wenet.\n"
     ]
    },
    {
     "name": "stderr",
     "output_type": "stream",
     "text": [
      " 11%|█         | 4123/37253 [00:27<03:12, 171.90it/s]"
     ]
    },
    {
     "name": "stdout",
     "output_type": "stream",
     "text": [
      "Skipping due to missing or non-string wenet.\n"
     ]
    },
    {
     "name": "stderr",
     "output_type": "stream",
     "text": [
      " 12%|█▏        | 4450/37253 [00:29<03:08, 173.98it/s]"
     ]
    },
    {
     "name": "stdout",
     "output_type": "stream",
     "text": [
      "Skipping due to missing or non-string wenet.\n",
      "Skipping due to missing or non-string wenet.\n",
      "Skipping due to missing or non-string wenet.\n"
     ]
    },
    {
     "name": "stderr",
     "output_type": "stream",
     "text": [
      " 12%|█▏        | 4593/37253 [00:30<03:20, 163.16it/s]"
     ]
    },
    {
     "name": "stdout",
     "output_type": "stream",
     "text": [
      "Skipping due to missing or non-string wenet.\n"
     ]
    },
    {
     "name": "stderr",
     "output_type": "stream",
     "text": [
      " 13%|█▎        | 4764/37253 [00:31<03:14, 166.72it/s]"
     ]
    },
    {
     "name": "stdout",
     "output_type": "stream",
     "text": [
      "Skipping due to missing or non-string wenet.\n"
     ]
    },
    {
     "name": "stderr",
     "output_type": "stream",
     "text": [
      " 14%|█▎        | 5114/37253 [00:33<03:01, 176.98it/s]"
     ]
    },
    {
     "name": "stdout",
     "output_type": "stream",
     "text": [
      "Skipping due to missing or non-string wenet.\n"
     ]
    },
    {
     "name": "stderr",
     "output_type": "stream",
     "text": [
      " 14%|█▍        | 5239/37253 [00:33<03:18, 161.13it/s]"
     ]
    },
    {
     "name": "stdout",
     "output_type": "stream",
     "text": [
      "Skipping due to missing or non-string wenet.\n"
     ]
    },
    {
     "name": "stderr",
     "output_type": "stream",
     "text": [
      " 14%|█▍        | 5273/37253 [00:34<03:20, 159.13it/s]"
     ]
    },
    {
     "name": "stdout",
     "output_type": "stream",
     "text": [
      "Skipping due to missing or non-string wenet.\n"
     ]
    },
    {
     "name": "stderr",
     "output_type": "stream",
     "text": [
      " 14%|█▍        | 5339/37253 [00:34<03:24, 156.06it/s]"
     ]
    },
    {
     "name": "stdout",
     "output_type": "stream",
     "text": [
      "Skipping due to missing or non-string wenet.\n"
     ]
    },
    {
     "name": "stderr",
     "output_type": "stream",
     "text": [
      " 16%|█▌        | 5808/37253 [00:37<03:42, 141.46it/s]"
     ]
    },
    {
     "name": "stdout",
     "output_type": "stream",
     "text": [
      "Skipping due to missing or non-string wenet.\n"
     ]
    },
    {
     "name": "stderr",
     "output_type": "stream",
     "text": [
      " 16%|█▌        | 5921/37253 [00:38<03:12, 162.62it/s]"
     ]
    },
    {
     "name": "stdout",
     "output_type": "stream",
     "text": [
      "Skipping due to missing or non-string wenet.\n"
     ]
    },
    {
     "name": "stderr",
     "output_type": "stream",
     "text": [
      " 17%|█▋        | 6254/37253 [00:40<03:07, 165.31it/s]"
     ]
    },
    {
     "name": "stdout",
     "output_type": "stream",
     "text": [
      "Skipping due to missing or non-string wenet.\n"
     ]
    },
    {
     "name": "stderr",
     "output_type": "stream",
     "text": [
      " 17%|█▋        | 6291/37253 [00:40<02:59, 172.57it/s]"
     ]
    },
    {
     "name": "stdout",
     "output_type": "stream",
     "text": [
      "Skipping due to missing or non-string wenet.\n"
     ]
    },
    {
     "name": "stderr",
     "output_type": "stream",
     "text": [
      " 18%|█▊        | 6753/37253 [00:43<03:17, 154.50it/s]"
     ]
    },
    {
     "name": "stdout",
     "output_type": "stream",
     "text": [
      "Skipping due to missing or non-string wenet.\n"
     ]
    },
    {
     "name": "stderr",
     "output_type": "stream",
     "text": [
      " 19%|█▉        | 7165/37253 [00:46<02:51, 175.74it/s]"
     ]
    },
    {
     "name": "stdout",
     "output_type": "stream",
     "text": [
      "Skipping due to missing or non-string wenet.\n"
     ]
    },
    {
     "name": "stderr",
     "output_type": "stream",
     "text": [
      " 19%|█▉        | 7236/37253 [00:46<03:04, 162.82it/s]"
     ]
    },
    {
     "name": "stdout",
     "output_type": "stream",
     "text": [
      "Skipping due to missing or non-string wenet.\n"
     ]
    },
    {
     "name": "stderr",
     "output_type": "stream",
     "text": [
      " 20%|██        | 7498/37253 [00:48<03:06, 159.57it/s]"
     ]
    },
    {
     "name": "stdout",
     "output_type": "stream",
     "text": [
      "Skipping due to missing or non-string wenet.\n"
     ]
    },
    {
     "name": "stderr",
     "output_type": "stream",
     "text": [
      " 20%|██        | 7546/37253 [00:48<03:09, 156.80it/s]"
     ]
    },
    {
     "name": "stdout",
     "output_type": "stream",
     "text": [
      "Skipping due to missing or non-string wenet.\n"
     ]
    },
    {
     "name": "stderr",
     "output_type": "stream",
     "text": [
      " 21%|██        | 7897/37253 [00:51<03:02, 160.51it/s]"
     ]
    },
    {
     "name": "stdout",
     "output_type": "stream",
     "text": [
      "Skipping due to missing or non-string wenet.\n"
     ]
    },
    {
     "name": "stderr",
     "output_type": "stream",
     "text": [
      " 22%|██▏       | 8124/37253 [00:52<02:48, 172.63it/s]"
     ]
    },
    {
     "name": "stdout",
     "output_type": "stream",
     "text": [
      "Skipping due to missing or non-string wenet.\n"
     ]
    },
    {
     "name": "stderr",
     "output_type": "stream",
     "text": [
      " 22%|██▏       | 8211/37253 [00:52<02:54, 166.12it/s]"
     ]
    },
    {
     "name": "stdout",
     "output_type": "stream",
     "text": [
      "Skipping due to missing or non-string wenet.\n"
     ]
    },
    {
     "name": "stderr",
     "output_type": "stream",
     "text": [
      " 22%|██▏       | 8246/37253 [00:53<02:56, 164.31it/s]"
     ]
    },
    {
     "name": "stdout",
     "output_type": "stream",
     "text": [
      "Skipping due to missing or non-string wenet.\n",
      "Skipping due to missing or non-string wenet.\n"
     ]
    },
    {
     "name": "stderr",
     "output_type": "stream",
     "text": [
      " 22%|██▏       | 8297/37253 [00:53<02:59, 161.61it/s]"
     ]
    },
    {
     "name": "stdout",
     "output_type": "stream",
     "text": [
      "Skipping due to missing or non-string wenet.\n"
     ]
    },
    {
     "name": "stderr",
     "output_type": "stream",
     "text": [
      " 22%|██▏       | 8367/37253 [00:53<02:50, 169.03it/s]"
     ]
    },
    {
     "name": "stdout",
     "output_type": "stream",
     "text": [
      "Skipping due to missing or non-string wenet.\n",
      "Skipping due to missing or non-string wenet.\n",
      "Skipping due to missing or non-string wenet.\n",
      "Skipping due to missing or non-string wenet.\n"
     ]
    },
    {
     "name": "stderr",
     "output_type": "stream",
     "text": [
      " 23%|██▎       | 8418/37253 [00:54<02:54, 165.22it/s]"
     ]
    },
    {
     "name": "stdout",
     "output_type": "stream",
     "text": [
      "Skipping due to missing or non-string wenet.\n"
     ]
    },
    {
     "name": "stderr",
     "output_type": "stream",
     "text": [
      " 23%|██▎       | 8526/37253 [00:54<02:44, 174.38it/s]"
     ]
    },
    {
     "name": "stdout",
     "output_type": "stream",
     "text": [
      "Skipping due to missing or non-string wenet.\n",
      "Skipping due to missing or non-string wenet.\n"
     ]
    },
    {
     "name": "stderr",
     "output_type": "stream",
     "text": [
      " 23%|██▎       | 8628/37253 [00:55<02:59, 159.81it/s]"
     ]
    },
    {
     "name": "stdout",
     "output_type": "stream",
     "text": [
      "Skipping due to missing or non-string wenet.\n",
      "Skipping due to missing or non-string wenet.\n"
     ]
    },
    {
     "name": "stderr",
     "output_type": "stream",
     "text": [
      " 24%|██▎       | 8790/37253 [00:56<03:13, 147.32it/s]"
     ]
    },
    {
     "name": "stdout",
     "output_type": "stream",
     "text": [
      "Skipping due to missing or non-string wenet.\n"
     ]
    },
    {
     "name": "stderr",
     "output_type": "stream",
     "text": [
      " 24%|██▍       | 8852/37253 [00:56<03:14, 146.12it/s]"
     ]
    },
    {
     "name": "stdout",
     "output_type": "stream",
     "text": [
      "Skipping due to missing or non-string wenet.\n"
     ]
    },
    {
     "name": "stderr",
     "output_type": "stream",
     "text": [
      " 24%|██▍       | 9037/37253 [00:58<03:09, 148.95it/s]"
     ]
    },
    {
     "name": "stdout",
     "output_type": "stream",
     "text": [
      "Skipping due to missing or non-string wenet.\n"
     ]
    },
    {
     "name": "stderr",
     "output_type": "stream",
     "text": [
      " 25%|██▌       | 9381/37253 [01:00<03:13, 143.68it/s]"
     ]
    },
    {
     "name": "stdout",
     "output_type": "stream",
     "text": [
      "Skipping due to missing or non-string wenet.\n"
     ]
    },
    {
     "name": "stderr",
     "output_type": "stream",
     "text": [
      " 28%|██▊       | 10325/37253 [01:06<02:38, 170.34it/s]"
     ]
    },
    {
     "name": "stdout",
     "output_type": "stream",
     "text": [
      "Skipping due to missing or non-string wenet.\n"
     ]
    },
    {
     "name": "stderr",
     "output_type": "stream",
     "text": [
      " 28%|██▊       | 10497/37253 [01:07<02:58, 149.90it/s]"
     ]
    },
    {
     "name": "stdout",
     "output_type": "stream",
     "text": [
      "Skipping: One of the rows is empty.\n"
     ]
    },
    {
     "name": "stderr",
     "output_type": "stream",
     "text": [
      " 29%|██▉       | 10865/37253 [01:09<02:35, 169.43it/s]"
     ]
    },
    {
     "name": "stdout",
     "output_type": "stream",
     "text": [
      "Skipping due to missing or non-string wenet.\n"
     ]
    },
    {
     "name": "stderr",
     "output_type": "stream",
     "text": [
      " 29%|██▉       | 10986/37253 [01:10<02:45, 158.67it/s]"
     ]
    },
    {
     "name": "stdout",
     "output_type": "stream",
     "text": [
      "Skipping due to missing or non-string wenet.\n",
      "Skipping due to missing or non-string wenet.\n"
     ]
    },
    {
     "name": "stderr",
     "output_type": "stream",
     "text": [
      " 30%|███       | 11278/37253 [01:12<02:44, 157.93it/s]"
     ]
    },
    {
     "name": "stdout",
     "output_type": "stream",
     "text": [
      "Skipping due to missing or non-string wenet.\n"
     ]
    },
    {
     "name": "stderr",
     "output_type": "stream",
     "text": [
      " 31%|███       | 11595/37253 [01:14<02:41, 158.94it/s]"
     ]
    },
    {
     "name": "stdout",
     "output_type": "stream",
     "text": [
      "Skipping due to missing or non-string wenet.\n"
     ]
    },
    {
     "name": "stderr",
     "output_type": "stream",
     "text": [
      " 33%|███▎      | 12154/37253 [01:17<02:37, 158.88it/s]"
     ]
    },
    {
     "name": "stdout",
     "output_type": "stream",
     "text": [
      "Skipping due to missing or non-string wenet.\n"
     ]
    },
    {
     "name": "stderr",
     "output_type": "stream",
     "text": [
      " 33%|███▎      | 12222/37253 [01:18<02:32, 163.61it/s]"
     ]
    },
    {
     "name": "stdout",
     "output_type": "stream",
     "text": [
      "Skipping due to missing or non-string wenet.\n",
      "Skipping due to missing or non-string wenet.\n"
     ]
    },
    {
     "name": "stderr",
     "output_type": "stream",
     "text": [
      " 33%|███▎      | 12308/37253 [01:18<02:36, 159.27it/s]"
     ]
    },
    {
     "name": "stdout",
     "output_type": "stream",
     "text": [
      "Skipping due to missing or non-string wenet.\n"
     ]
    },
    {
     "name": "stderr",
     "output_type": "stream",
     "text": [
      " 34%|███▍      | 12735/37253 [01:21<02:33, 159.42it/s]"
     ]
    },
    {
     "name": "stdout",
     "output_type": "stream",
     "text": [
      "Skipping due to missing or non-string wenet.\n"
     ]
    },
    {
     "name": "stderr",
     "output_type": "stream",
     "text": [
      " 35%|███▍      | 12964/37253 [01:23<02:39, 152.33it/s]"
     ]
    },
    {
     "name": "stdout",
     "output_type": "stream",
     "text": [
      "Skipping due to missing or non-string wenet.\n"
     ]
    },
    {
     "name": "stderr",
     "output_type": "stream",
     "text": [
      " 35%|███▌      | 13108/37253 [01:23<02:39, 151.53it/s]"
     ]
    },
    {
     "name": "stdout",
     "output_type": "stream",
     "text": [
      "Skipping due to missing or non-string wenet.\n"
     ]
    },
    {
     "name": "stderr",
     "output_type": "stream",
     "text": [
      " 35%|███▌      | 13157/37253 [01:24<02:36, 153.83it/s]"
     ]
    },
    {
     "name": "stdout",
     "output_type": "stream",
     "text": [
      "Skipping due to missing or non-string wenet.\n",
      "Skipping due to missing or non-string wenet.\n"
     ]
    },
    {
     "name": "stderr",
     "output_type": "stream",
     "text": [
      " 36%|███▌      | 13288/37253 [01:25<02:30, 159.11it/s]"
     ]
    },
    {
     "name": "stdout",
     "output_type": "stream",
     "text": [
      "Skipping due to missing or non-string wenet.\n"
     ]
    },
    {
     "name": "stderr",
     "output_type": "stream",
     "text": [
      " 38%|███▊      | 13993/37253 [01:29<02:37, 147.89it/s]"
     ]
    },
    {
     "name": "stdout",
     "output_type": "stream",
     "text": [
      "Skipping due to missing or non-string wenet.\n"
     ]
    },
    {
     "name": "stderr",
     "output_type": "stream",
     "text": [
      " 38%|███▊      | 14100/37253 [01:30<02:16, 170.04it/s]"
     ]
    },
    {
     "name": "stdout",
     "output_type": "stream",
     "text": [
      "Skipping due to missing or non-string wenet.\n"
     ]
    },
    {
     "name": "stderr",
     "output_type": "stream",
     "text": [
      " 38%|███▊      | 14207/37253 [01:30<02:16, 169.40it/s]"
     ]
    },
    {
     "name": "stdout",
     "output_type": "stream",
     "text": [
      "Skipping due to missing or non-string wenet.\n"
     ]
    },
    {
     "name": "stderr",
     "output_type": "stream",
     "text": [
      " 39%|███▊      | 14396/37253 [01:32<02:27, 155.08it/s]"
     ]
    },
    {
     "name": "stdout",
     "output_type": "stream",
     "text": [
      "Skipping due to missing or non-string wenet.\n",
      "Skipping due to missing or non-string wenet.\n"
     ]
    },
    {
     "name": "stderr",
     "output_type": "stream",
     "text": [
      " 40%|███▉      | 14738/37253 [01:34<02:12, 169.76it/s]"
     ]
    },
    {
     "name": "stdout",
     "output_type": "stream",
     "text": [
      "Skipping due to missing or non-string wenet.\n"
     ]
    },
    {
     "name": "stderr",
     "output_type": "stream",
     "text": [
      " 42%|████▏     | 15674/37253 [01:39<01:54, 188.47it/s]"
     ]
    },
    {
     "name": "stdout",
     "output_type": "stream",
     "text": [
      "Skipping due to missing or non-string wenet.\n"
     ]
    },
    {
     "name": "stderr",
     "output_type": "stream",
     "text": [
      " 45%|████▍     | 16624/37253 [01:44<01:49, 188.08it/s]"
     ]
    },
    {
     "name": "stdout",
     "output_type": "stream",
     "text": [
      "Skipping due to missing or non-string wenet.\n"
     ]
    },
    {
     "name": "stderr",
     "output_type": "stream",
     "text": [
      " 47%|████▋     | 17499/37253 [01:49<01:44, 189.22it/s]"
     ]
    },
    {
     "name": "stdout",
     "output_type": "stream",
     "text": [
      "Skipping due to missing or non-string wenet.\n"
     ]
    },
    {
     "name": "stderr",
     "output_type": "stream",
     "text": [
      " 48%|████▊     | 17882/37253 [01:51<01:42, 189.68it/s]"
     ]
    },
    {
     "name": "stdout",
     "output_type": "stream",
     "text": [
      "Skipping due to missing or non-string wenet.\n",
      "Skipping due to missing or non-string wenet.\n",
      "Skipping due to missing or non-string wenet.\n"
     ]
    },
    {
     "name": "stderr",
     "output_type": "stream",
     "text": [
      " 48%|████▊     | 18038/37253 [01:52<01:41, 189.96it/s]"
     ]
    },
    {
     "name": "stdout",
     "output_type": "stream",
     "text": [
      "Skipping due to missing or non-string wenet.\n"
     ]
    },
    {
     "name": "stderr",
     "output_type": "stream",
     "text": [
      " 51%|█████     | 19090/37253 [01:57<01:36, 188.62it/s]"
     ]
    },
    {
     "name": "stdout",
     "output_type": "stream",
     "text": [
      "Skipping due to missing or non-string wenet.\n",
      "Skipping due to missing or non-string wenet.\n"
     ]
    },
    {
     "name": "stderr",
     "output_type": "stream",
     "text": [
      " 52%|█████▏    | 19262/37253 [01:58<01:35, 189.07it/s]"
     ]
    },
    {
     "name": "stdout",
     "output_type": "stream",
     "text": [
      "Skipping due to missing or non-string wenet.\n"
     ]
    },
    {
     "name": "stderr",
     "output_type": "stream",
     "text": [
      " 54%|█████▎    | 20010/37253 [02:02<01:31, 189.15it/s]"
     ]
    },
    {
     "name": "stdout",
     "output_type": "stream",
     "text": [
      "Skipping due to missing or non-string wenet.\n"
     ]
    },
    {
     "name": "stderr",
     "output_type": "stream",
     "text": [
      " 57%|█████▋    | 21271/37253 [02:09<01:24, 189.67it/s]"
     ]
    },
    {
     "name": "stdout",
     "output_type": "stream",
     "text": [
      "Skipping due to missing or non-string wenet.\n",
      "Skipping due to missing or non-string wenet.\n"
     ]
    },
    {
     "name": "stderr",
     "output_type": "stream",
     "text": [
      " 57%|█████▋    | 21310/37253 [02:09<01:24, 189.70it/s]"
     ]
    },
    {
     "name": "stdout",
     "output_type": "stream",
     "text": [
      "Skipping due to missing or non-string wenet.\n"
     ]
    },
    {
     "name": "stderr",
     "output_type": "stream",
     "text": [
      " 58%|█████▊    | 21558/37253 [02:10<01:23, 188.69it/s]"
     ]
    },
    {
     "name": "stdout",
     "output_type": "stream",
     "text": [
      "Skipping due to missing or non-string wenet.\n"
     ]
    },
    {
     "name": "stderr",
     "output_type": "stream",
     "text": [
      " 58%|█████▊    | 21615/37253 [02:11<01:23, 187.87it/s]"
     ]
    },
    {
     "name": "stdout",
     "output_type": "stream",
     "text": [
      "Skipping due to missing or non-string wenet.\n"
     ]
    },
    {
     "name": "stderr",
     "output_type": "stream",
     "text": [
      " 58%|█████▊    | 21710/37253 [02:11<01:22, 188.34it/s]"
     ]
    },
    {
     "name": "stdout",
     "output_type": "stream",
     "text": [
      "Skipping due to missing or non-string wenet.\n"
     ]
    },
    {
     "name": "stderr",
     "output_type": "stream",
     "text": [
      " 58%|█████▊    | 21748/37253 [02:11<01:22, 188.31it/s]"
     ]
    },
    {
     "name": "stdout",
     "output_type": "stream",
     "text": [
      "Skipping due to missing or non-string wenet.\n"
     ]
    },
    {
     "name": "stderr",
     "output_type": "stream",
     "text": [
      " 63%|██████▎   | 23424/37253 [02:20<01:13, 188.40it/s]"
     ]
    },
    {
     "name": "stdout",
     "output_type": "stream",
     "text": [
      "Skipping due to missing or non-string wenet.\n"
     ]
    },
    {
     "name": "stderr",
     "output_type": "stream",
     "text": [
      " 66%|██████▋   | 24720/37253 [02:27<01:06, 188.43it/s]"
     ]
    },
    {
     "name": "stdout",
     "output_type": "stream",
     "text": [
      "Skipping due to missing or non-string wenet.\n"
     ]
    },
    {
     "name": "stderr",
     "output_type": "stream",
     "text": [
      " 67%|██████▋   | 24853/37253 [02:28<01:06, 187.55it/s]"
     ]
    },
    {
     "name": "stdout",
     "output_type": "stream",
     "text": [
      "Skipping due to missing or non-string wenet.\n"
     ]
    },
    {
     "name": "stderr",
     "output_type": "stream",
     "text": [
      " 67%|██████▋   | 25081/37253 [02:29<01:04, 188.06it/s]"
     ]
    },
    {
     "name": "stdout",
     "output_type": "stream",
     "text": [
      "Skipping due to missing or non-string wenet.\n",
      "Skipping due to missing or non-string wenet.\n"
     ]
    },
    {
     "name": "stderr",
     "output_type": "stream",
     "text": [
      " 81%|████████  | 30116/37253 [02:56<00:37, 188.09it/s]"
     ]
    },
    {
     "name": "stdout",
     "output_type": "stream",
     "text": [
      "Skipping due to missing or non-string wenet.\n"
     ]
    },
    {
     "name": "stderr",
     "output_type": "stream",
     "text": [
      " 81%|████████  | 30249/37253 [02:57<00:37, 188.34it/s]"
     ]
    },
    {
     "name": "stdout",
     "output_type": "stream",
     "text": [
      "Skipping due to missing or non-string wenet.\n",
      "Skipping due to missing or non-string wenet.\n"
     ]
    },
    {
     "name": "stderr",
     "output_type": "stream",
     "text": [
      " 82%|████████▏ | 30363/37253 [02:57<00:36, 187.99it/s]"
     ]
    },
    {
     "name": "stdout",
     "output_type": "stream",
     "text": [
      "Skipping due to missing or non-string wenet.\n"
     ]
    },
    {
     "name": "stderr",
     "output_type": "stream",
     "text": [
      " 82%|████████▏ | 30705/37253 [02:59<00:34, 188.10it/s]"
     ]
    },
    {
     "name": "stdout",
     "output_type": "stream",
     "text": [
      "Skipping due to missing or non-string wenet.\n"
     ]
    },
    {
     "name": "stderr",
     "output_type": "stream",
     "text": [
      " 83%|████████▎ | 30762/37253 [02:59<00:34, 188.50it/s]"
     ]
    },
    {
     "name": "stdout",
     "output_type": "stream",
     "text": [
      "Skipping due to missing or non-string wenet.\n"
     ]
    },
    {
     "name": "stderr",
     "output_type": "stream",
     "text": [
      " 91%|█████████▏| 34068/37253 [03:17<00:16, 188.52it/s]"
     ]
    },
    {
     "name": "stdout",
     "output_type": "stream",
     "text": [
      "Skipping: One of the rows is empty.\n",
      "Skipping: One of the rows is empty.\n"
     ]
    },
    {
     "name": "stderr",
     "output_type": "stream",
     "text": [
      " 93%|█████████▎| 34600/37253 [03:20<00:14, 187.96it/s]"
     ]
    },
    {
     "name": "stdout",
     "output_type": "stream",
     "text": [
      "Skipping: One of the rows is empty.\n"
     ]
    },
    {
     "name": "stderr",
     "output_type": "stream",
     "text": [
      "100%|██████████| 37253/37253 [03:34<00:00, 173.77it/s]\n"
     ]
    }
   ],
   "source": [
    "na_count_large = 0\n",
    "na_count_cleaned = 0\n",
    "for index, row in tqdm(net_aigenerated_data_wenet.iterrows(), total=len(net_aigenerated_data_wenet)):\n",
    "    \n",
    "    mask_large = (\n",
    "        (net_aigenerated_data_wenet[\"Filename\"] == row[\"Filename\"]) &\n",
    "        (net_aigenerated_data_wenet[\"Start_time\"] == row[\"Start_time\"])\n",
    "    )\n",
    "\n",
    "    mask_net = (\n",
    "        (net_data[\"Filename\"] == row[\"Filename\"]) &\n",
    "        (net_data[\"Start_time\"] == row[\"Start_time\"])\n",
    "    )\n",
    "\n",
    "    \n",
    "    large_row = net_aigenerated_data_wenet.loc[mask_large]\n",
    "    net_row = net_data.loc[mask_net]\n",
    "\n",
    "    # print(large_row)\n",
    "    # print('\\n\\n\\n\\n')\n",
    "    # print(net_row)\n",
    "    \n",
    "    if large_row.empty or net_row.empty:\n",
    "        print(\"Skipping: One of the rows is empty.\")\n",
    "        continue\n",
    "        \n",
    "    wenet = large_row[\"WeNet\"].values[0]\n",
    "    cleaned_transcript = net_row[\"Cleaned_Transcript\"].values[0]\n",
    "    \n",
    "    if pd.isna(wenet) or not isinstance(wenet, str):\n",
    "        print(\"Skipping due to missing or non-string wenet.\")\n",
    "        na_count_large = na_count_large + 1\n",
    "        continue\n",
    "    if pd.isna(cleaned_transcript) or not isinstance(cleaned_transcript, str):\n",
    "        print(\"Skipping due to missing or non-string Cleaned_Transcript.\")\n",
    "        na_count_cleaned = na_count_cleaned + 1\n",
    "        continue\n",
    "\n",
    "    try:\n",
    "        \n",
    "        wer_value = wer(wenet, cleaned_transcript)\n",
    "        \n",
    "        net_aigenerated_data_wenet.loc[mask_large, \"WER\"] = wer_value\n",
    "        \n",
    "        stutterance_count = net_row[\"Stutterance_Count\"].values[0]\n",
    "        net_aigenerated_data_wenet.loc[mask_large, \"Stutterance_Count\"] = stutterance_count\n",
    "\n",
    "        # Verify assignment\n",
    "        # print(f'Assigned Stutterance_Count: {stutterance_count}')\n",
    "        # print(net_aigenerated_data_wenet.loc[mask_large, \"Stutterance_Count\"])\n",
    "\n",
    "    except Exception as e:\n",
    "        print(f'ERROR: {e}')\n",
    "        print('Occurred with the following data:')\n",
    "        print(large_row)\n",
    "        print(net_row)\n",
    "        \n",
    "net_aigenerated_data_wenet = net_aigenerated_data_wenet.assign(NA_Count=na_count_large)\n",
    "net_aigenerated_data_wenet = net_aigenerated_data_wenet.assign(NA_Cleaned_Count=na_count_cleaned)"
   ]
  },
  {
   "cell_type": "code",
   "execution_count": 47,
   "id": "6bc3731c-0be0-4659-955b-5d47f7e33137",
   "metadata": {
    "tags": []
   },
   "outputs": [
    {
     "data": {
      "text/html": [
       "<div>\n",
       "<style scoped>\n",
       "    .dataframe tbody tr th:only-of-type {\n",
       "        vertical-align: middle;\n",
       "    }\n",
       "\n",
       "    .dataframe tbody tr th {\n",
       "        vertical-align: top;\n",
       "    }\n",
       "\n",
       "    .dataframe thead th {\n",
       "        text-align: right;\n",
       "    }\n",
       "</style>\n",
       "<table border=\"1\" class=\"dataframe\">\n",
       "  <thead>\n",
       "    <tr style=\"text-align: right;\">\n",
       "      <th></th>\n",
       "      <th>Filename</th>\n",
       "      <th>Start_time</th>\n",
       "      <th>End_time</th>\n",
       "      <th>WeNet</th>\n",
       "      <th>WER</th>\n",
       "      <th>Stutterance_Count</th>\n",
       "      <th>NA_Count</th>\n",
       "      <th>NA_Cleaned_Count</th>\n",
       "    </tr>\n",
       "  </thead>\n",
       "  <tbody>\n",
       "    <tr>\n",
       "      <th>0</th>\n",
       "      <td>D0001_A</td>\n",
       "      <td>2081.540000</td>\n",
       "      <td>2109.650000</td>\n",
       "      <td>我说出来就比较地需要时间然后那个识别的他的不就是他等你一会你那个话还没有说完的还没有说出来的...</td>\n",
       "      <td>0.226804</td>\n",
       "      <td>1.0</td>\n",
       "      <td>100</td>\n",
       "      <td>0</td>\n",
       "    </tr>\n",
       "    <tr>\n",
       "      <th>1</th>\n",
       "      <td>D0001_A</td>\n",
       "      <td>790.130000</td>\n",
       "      <td>796.580000</td>\n",
       "      <td>第四句有我我说的话</td>\n",
       "      <td>0.500000</td>\n",
       "      <td>1.0</td>\n",
       "      <td>100</td>\n",
       "      <td>0</td>\n",
       "    </tr>\n",
       "    <tr>\n",
       "      <th>2</th>\n",
       "      <td>D0001_A</td>\n",
       "      <td>1562.083518</td>\n",
       "      <td>1586.220000</td>\n",
       "      <td>这部剧是不怎么评分是不怎么好的就因为评评论区的那那些人他们都在说拿到号做好惨的那个就那么勤奋...</td>\n",
       "      <td>0.203125</td>\n",
       "      <td>10.0</td>\n",
       "      <td>100</td>\n",
       "      <td>0</td>\n",
       "    </tr>\n",
       "    <tr>\n",
       "      <th>3</th>\n",
       "      <td>D0001_A</td>\n",
       "      <td>2016.780000</td>\n",
       "      <td>2035.673559</td>\n",
       "      <td>很精准对讯飞语音还是讯飞助手来着就我记得他是叫讯飞我之前就是他</td>\n",
       "      <td>0.210526</td>\n",
       "      <td>7.0</td>\n",
       "      <td>100</td>\n",
       "      <td>0</td>\n",
       "    </tr>\n",
       "    <tr>\n",
       "      <th>4</th>\n",
       "      <td>D0001_A</td>\n",
       "      <td>1682.670000</td>\n",
       "      <td>1709.110000</td>\n",
       "      <td>一个个是叫啥来的我忘了就是出现了这一个人然后呢他他就射了一把剑然后就就把那个拿二号给长杀了就...</td>\n",
       "      <td>0.250000</td>\n",
       "      <td>8.0</td>\n",
       "      <td>100</td>\n",
       "      <td>0</td>\n",
       "    </tr>\n",
       "    <tr>\n",
       "      <th>...</th>\n",
       "      <td>...</td>\n",
       "      <td>...</td>\n",
       "      <td>...</td>\n",
       "      <td>...</td>\n",
       "      <td>...</td>\n",
       "      <td>...</td>\n",
       "      <td>...</td>\n",
       "      <td>...</td>\n",
       "    </tr>\n",
       "    <tr>\n",
       "      <th>37248</th>\n",
       "      <td>P0070</td>\n",
       "      <td>2586.616000</td>\n",
       "      <td>2589.346000</td>\n",
       "      <td>单曲循环歌曲这样而已</td>\n",
       "      <td>0.090909</td>\n",
       "      <td>0.0</td>\n",
       "      <td>100</td>\n",
       "      <td>0</td>\n",
       "    </tr>\n",
       "    <tr>\n",
       "      <th>37249</th>\n",
       "      <td>P0070</td>\n",
       "      <td>2782.496000</td>\n",
       "      <td>2783.706000</td>\n",
       "      <td>杨幂的电影</td>\n",
       "      <td>0.166667</td>\n",
       "      <td>0.0</td>\n",
       "      <td>100</td>\n",
       "      <td>0</td>\n",
       "    </tr>\n",
       "    <tr>\n",
       "      <th>37250</th>\n",
       "      <td>P0070</td>\n",
       "      <td>2995.296000</td>\n",
       "      <td>2998.116000</td>\n",
       "      <td>你好米娅今天柴油价怎么样</td>\n",
       "      <td>0.266667</td>\n",
       "      <td>0.0</td>\n",
       "      <td>100</td>\n",
       "      <td>0</td>\n",
       "    </tr>\n",
       "    <tr>\n",
       "      <th>37251</th>\n",
       "      <td>P0070</td>\n",
       "      <td>2604.066000</td>\n",
       "      <td>2606.656000</td>\n",
       "      <td>单曲循环歌曲琉璃光之歌</td>\n",
       "      <td>0.083333</td>\n",
       "      <td>0.0</td>\n",
       "      <td>100</td>\n",
       "      <td>0</td>\n",
       "    </tr>\n",
       "    <tr>\n",
       "      <th>37252</th>\n",
       "      <td>P0070</td>\n",
       "      <td>2434.606000</td>\n",
       "      <td>2436.576000</td>\n",
       "      <td>导航到龙城明月</td>\n",
       "      <td>0.375000</td>\n",
       "      <td>0.0</td>\n",
       "      <td>100</td>\n",
       "      <td>0</td>\n",
       "    </tr>\n",
       "  </tbody>\n",
       "</table>\n",
       "<p>37253 rows × 8 columns</p>\n",
       "</div>"
      ],
      "text/plain": [
       "      Filename   Start_time     End_time  \\\n",
       "0      D0001_A  2081.540000  2109.650000   \n",
       "1      D0001_A   790.130000   796.580000   \n",
       "2      D0001_A  1562.083518  1586.220000   \n",
       "3      D0001_A  2016.780000  2035.673559   \n",
       "4      D0001_A  1682.670000  1709.110000   \n",
       "...        ...          ...          ...   \n",
       "37248    P0070  2586.616000  2589.346000   \n",
       "37249    P0070  2782.496000  2783.706000   \n",
       "37250    P0070  2995.296000  2998.116000   \n",
       "37251    P0070  2604.066000  2606.656000   \n",
       "37252    P0070  2434.606000  2436.576000   \n",
       "\n",
       "                                                   WeNet       WER  \\\n",
       "0      我说出来就比较地需要时间然后那个识别的他的不就是他等你一会你那个话还没有说完的还没有说出来的...  0.226804   \n",
       "1                                              第四句有我我说的话  0.500000   \n",
       "2      这部剧是不怎么评分是不怎么好的就因为评评论区的那那些人他们都在说拿到号做好惨的那个就那么勤奋...  0.203125   \n",
       "3                        很精准对讯飞语音还是讯飞助手来着就我记得他是叫讯飞我之前就是他  0.210526   \n",
       "4      一个个是叫啥来的我忘了就是出现了这一个人然后呢他他就射了一把剑然后就就把那个拿二号给长杀了就...  0.250000   \n",
       "...                                                  ...       ...   \n",
       "37248                                         单曲循环歌曲这样而已  0.090909   \n",
       "37249                                              杨幂的电影  0.166667   \n",
       "37250                                       你好米娅今天柴油价怎么样  0.266667   \n",
       "37251                                        单曲循环歌曲琉璃光之歌  0.083333   \n",
       "37252                                            导航到龙城明月  0.375000   \n",
       "\n",
       "       Stutterance_Count  NA_Count  NA_Cleaned_Count  \n",
       "0                    1.0       100                 0  \n",
       "1                    1.0       100                 0  \n",
       "2                   10.0       100                 0  \n",
       "3                    7.0       100                 0  \n",
       "4                    8.0       100                 0  \n",
       "...                  ...       ...               ...  \n",
       "37248                0.0       100                 0  \n",
       "37249                0.0       100                 0  \n",
       "37250                0.0       100                 0  \n",
       "37251                0.0       100                 0  \n",
       "37252                0.0       100                 0  \n",
       "\n",
       "[37253 rows x 8 columns]"
      ]
     },
     "execution_count": 47,
     "metadata": {},
     "output_type": "execute_result"
    }
   ],
   "source": [
    "net_aigenerated_data_wenet"
   ]
  },
  {
   "cell_type": "code",
   "execution_count": 48,
   "id": "3b9a6dfc-fa15-45c4-8c08-1682e3fb482e",
   "metadata": {
    "tags": []
   },
   "outputs": [],
   "source": [
    "# net_aigenerated_data_wenet.to_csv('net_aigenerated_data_wenet_performance_data.csv', sep=',')"
   ]
  },
  {
   "cell_type": "code",
   "execution_count": 49,
   "id": "df819360",
   "metadata": {},
   "outputs": [
    {
     "name": "stdout",
     "output_type": "stream",
     "text": [
      "Available columns in large_row: Index(['Filename', 'Start_time', 'End_time', 'WeNet', 'WER',\n",
      "       'Stutterance_Count'],\n",
      "      dtype='object')\n"
     ]
    }
   ],
   "source": [
    "# Check available columns and identify any issues\n",
    "print(\"Available columns in large_row:\", large_row.columns)\n",
    "\n",
    "# Optionally, try stripping whitespace\n",
    "large_row.columns = large_row.columns.str.strip()\n",
    "\n",
    "# Check if \"wenet\" exists before accessing it\n",
    "if \"WeNet\" in large_row.columns:\n",
    "    wenet = large_row[\"WeNet\"].values[0]\n",
    "else:\n",
    "    print(\"Column 'wenet' not found in large_row.\")\n"
   ]
  },
  {
   "cell_type": "markdown",
   "id": "79206fa2-50ce-4c59-aece-f17439fdcf92",
   "metadata": {},
   "source": [
    "***"
   ]
  },
  {
   "cell_type": "markdown",
   "id": "5dd854d6-464c-49a3-a82b-c6603567fb0c",
   "metadata": {
    "tags": []
   },
   "source": [
    "## Visualization of Relationship between Stutterance Count and Word Error Rate "
   ]
  },
  {
   "cell_type": "code",
   "execution_count": 50,
   "id": "b9f87049-4fd6-447b-aa37-1d3bb808a1e7",
   "metadata": {
    "tags": []
   },
   "outputs": [
    {
     "ename": "FileNotFoundError",
     "evalue": "[Errno 2] No such file or directory: '/projectnb/ds549/projects/AImpower/evaluation/net_aigenerated_data_wenet_performance_data.csv'",
     "output_type": "error",
     "traceback": [
      "\u001b[0;31m---------------------------------------------------------------------------\u001b[0m",
      "\u001b[0;31mFileNotFoundError\u001b[0m                         Traceback (most recent call last)",
      "Cell \u001b[0;32mIn[50], line 3\u001b[0m\n\u001b[1;32m      1\u001b[0m \u001b[38;5;66;03m## Load data from csv if starting here\u001b[39;00m\n\u001b[0;32m----> 3\u001b[0m net_aigenerated_data_wenet \u001b[38;5;241m=\u001b[39m \u001b[43mpd\u001b[49m\u001b[38;5;241;43m.\u001b[39;49m\u001b[43mread_csv\u001b[49m\u001b[43m(\u001b[49m\u001b[38;5;124;43m'\u001b[39;49m\u001b[38;5;124;43m/projectnb/ds549/projects/AImpower/evaluation/net_aigenerated_data_wenet_performance_data.csv\u001b[39;49m\u001b[38;5;124;43m'\u001b[39;49m\u001b[43m,\u001b[49m\u001b[43m \u001b[49m\u001b[43mdelimiter\u001b[49m\u001b[38;5;241;43m=\u001b[39;49m\u001b[38;5;124;43m'\u001b[39;49m\u001b[38;5;124;43m,\u001b[39;49m\u001b[38;5;124;43m'\u001b[39;49m\u001b[43m)\u001b[49m\n",
      "File \u001b[0;32m/share/pkg.8/python3/3.10.12/install/lib/python3.10/site-packages/pandas/io/parsers/readers.py:912\u001b[0m, in \u001b[0;36mread_csv\u001b[0;34m(filepath_or_buffer, sep, delimiter, header, names, index_col, usecols, dtype, engine, converters, true_values, false_values, skipinitialspace, skiprows, skipfooter, nrows, na_values, keep_default_na, na_filter, verbose, skip_blank_lines, parse_dates, infer_datetime_format, keep_date_col, date_parser, date_format, dayfirst, cache_dates, iterator, chunksize, compression, thousands, decimal, lineterminator, quotechar, quoting, doublequote, escapechar, comment, encoding, encoding_errors, dialect, on_bad_lines, delim_whitespace, low_memory, memory_map, float_precision, storage_options, dtype_backend)\u001b[0m\n\u001b[1;32m    899\u001b[0m kwds_defaults \u001b[38;5;241m=\u001b[39m _refine_defaults_read(\n\u001b[1;32m    900\u001b[0m     dialect,\n\u001b[1;32m    901\u001b[0m     delimiter,\n\u001b[0;32m   (...)\u001b[0m\n\u001b[1;32m    908\u001b[0m     dtype_backend\u001b[38;5;241m=\u001b[39mdtype_backend,\n\u001b[1;32m    909\u001b[0m )\n\u001b[1;32m    910\u001b[0m kwds\u001b[38;5;241m.\u001b[39mupdate(kwds_defaults)\n\u001b[0;32m--> 912\u001b[0m \u001b[38;5;28;01mreturn\u001b[39;00m \u001b[43m_read\u001b[49m\u001b[43m(\u001b[49m\u001b[43mfilepath_or_buffer\u001b[49m\u001b[43m,\u001b[49m\u001b[43m \u001b[49m\u001b[43mkwds\u001b[49m\u001b[43m)\u001b[49m\n",
      "File \u001b[0;32m/share/pkg.8/python3/3.10.12/install/lib/python3.10/site-packages/pandas/io/parsers/readers.py:577\u001b[0m, in \u001b[0;36m_read\u001b[0;34m(filepath_or_buffer, kwds)\u001b[0m\n\u001b[1;32m    574\u001b[0m _validate_names(kwds\u001b[38;5;241m.\u001b[39mget(\u001b[38;5;124m\"\u001b[39m\u001b[38;5;124mnames\u001b[39m\u001b[38;5;124m\"\u001b[39m, \u001b[38;5;28;01mNone\u001b[39;00m))\n\u001b[1;32m    576\u001b[0m \u001b[38;5;66;03m# Create the parser.\u001b[39;00m\n\u001b[0;32m--> 577\u001b[0m parser \u001b[38;5;241m=\u001b[39m \u001b[43mTextFileReader\u001b[49m\u001b[43m(\u001b[49m\u001b[43mfilepath_or_buffer\u001b[49m\u001b[43m,\u001b[49m\u001b[43m \u001b[49m\u001b[38;5;241;43m*\u001b[39;49m\u001b[38;5;241;43m*\u001b[39;49m\u001b[43mkwds\u001b[49m\u001b[43m)\u001b[49m\n\u001b[1;32m    579\u001b[0m \u001b[38;5;28;01mif\u001b[39;00m chunksize \u001b[38;5;129;01mor\u001b[39;00m iterator:\n\u001b[1;32m    580\u001b[0m     \u001b[38;5;28;01mreturn\u001b[39;00m parser\n",
      "File \u001b[0;32m/share/pkg.8/python3/3.10.12/install/lib/python3.10/site-packages/pandas/io/parsers/readers.py:1407\u001b[0m, in \u001b[0;36mTextFileReader.__init__\u001b[0;34m(self, f, engine, **kwds)\u001b[0m\n\u001b[1;32m   1404\u001b[0m     \u001b[38;5;28mself\u001b[39m\u001b[38;5;241m.\u001b[39moptions[\u001b[38;5;124m\"\u001b[39m\u001b[38;5;124mhas_index_names\u001b[39m\u001b[38;5;124m\"\u001b[39m] \u001b[38;5;241m=\u001b[39m kwds[\u001b[38;5;124m\"\u001b[39m\u001b[38;5;124mhas_index_names\u001b[39m\u001b[38;5;124m\"\u001b[39m]\n\u001b[1;32m   1406\u001b[0m \u001b[38;5;28mself\u001b[39m\u001b[38;5;241m.\u001b[39mhandles: IOHandles \u001b[38;5;241m|\u001b[39m \u001b[38;5;28;01mNone\u001b[39;00m \u001b[38;5;241m=\u001b[39m \u001b[38;5;28;01mNone\u001b[39;00m\n\u001b[0;32m-> 1407\u001b[0m \u001b[38;5;28mself\u001b[39m\u001b[38;5;241m.\u001b[39m_engine \u001b[38;5;241m=\u001b[39m \u001b[38;5;28;43mself\u001b[39;49m\u001b[38;5;241;43m.\u001b[39;49m\u001b[43m_make_engine\u001b[49m\u001b[43m(\u001b[49m\u001b[43mf\u001b[49m\u001b[43m,\u001b[49m\u001b[43m \u001b[49m\u001b[38;5;28;43mself\u001b[39;49m\u001b[38;5;241;43m.\u001b[39;49m\u001b[43mengine\u001b[49m\u001b[43m)\u001b[49m\n",
      "File \u001b[0;32m/share/pkg.8/python3/3.10.12/install/lib/python3.10/site-packages/pandas/io/parsers/readers.py:1661\u001b[0m, in \u001b[0;36mTextFileReader._make_engine\u001b[0;34m(self, f, engine)\u001b[0m\n\u001b[1;32m   1659\u001b[0m     \u001b[38;5;28;01mif\u001b[39;00m \u001b[38;5;124m\"\u001b[39m\u001b[38;5;124mb\u001b[39m\u001b[38;5;124m\"\u001b[39m \u001b[38;5;129;01mnot\u001b[39;00m \u001b[38;5;129;01min\u001b[39;00m mode:\n\u001b[1;32m   1660\u001b[0m         mode \u001b[38;5;241m+\u001b[39m\u001b[38;5;241m=\u001b[39m \u001b[38;5;124m\"\u001b[39m\u001b[38;5;124mb\u001b[39m\u001b[38;5;124m\"\u001b[39m\n\u001b[0;32m-> 1661\u001b[0m \u001b[38;5;28mself\u001b[39m\u001b[38;5;241m.\u001b[39mhandles \u001b[38;5;241m=\u001b[39m \u001b[43mget_handle\u001b[49m\u001b[43m(\u001b[49m\n\u001b[1;32m   1662\u001b[0m \u001b[43m    \u001b[49m\u001b[43mf\u001b[49m\u001b[43m,\u001b[49m\n\u001b[1;32m   1663\u001b[0m \u001b[43m    \u001b[49m\u001b[43mmode\u001b[49m\u001b[43m,\u001b[49m\n\u001b[1;32m   1664\u001b[0m \u001b[43m    \u001b[49m\u001b[43mencoding\u001b[49m\u001b[38;5;241;43m=\u001b[39;49m\u001b[38;5;28;43mself\u001b[39;49m\u001b[38;5;241;43m.\u001b[39;49m\u001b[43moptions\u001b[49m\u001b[38;5;241;43m.\u001b[39;49m\u001b[43mget\u001b[49m\u001b[43m(\u001b[49m\u001b[38;5;124;43m\"\u001b[39;49m\u001b[38;5;124;43mencoding\u001b[39;49m\u001b[38;5;124;43m\"\u001b[39;49m\u001b[43m,\u001b[49m\u001b[43m \u001b[49m\u001b[38;5;28;43;01mNone\u001b[39;49;00m\u001b[43m)\u001b[49m\u001b[43m,\u001b[49m\n\u001b[1;32m   1665\u001b[0m \u001b[43m    \u001b[49m\u001b[43mcompression\u001b[49m\u001b[38;5;241;43m=\u001b[39;49m\u001b[38;5;28;43mself\u001b[39;49m\u001b[38;5;241;43m.\u001b[39;49m\u001b[43moptions\u001b[49m\u001b[38;5;241;43m.\u001b[39;49m\u001b[43mget\u001b[49m\u001b[43m(\u001b[49m\u001b[38;5;124;43m\"\u001b[39;49m\u001b[38;5;124;43mcompression\u001b[39;49m\u001b[38;5;124;43m\"\u001b[39;49m\u001b[43m,\u001b[49m\u001b[43m \u001b[49m\u001b[38;5;28;43;01mNone\u001b[39;49;00m\u001b[43m)\u001b[49m\u001b[43m,\u001b[49m\n\u001b[1;32m   1666\u001b[0m \u001b[43m    \u001b[49m\u001b[43mmemory_map\u001b[49m\u001b[38;5;241;43m=\u001b[39;49m\u001b[38;5;28;43mself\u001b[39;49m\u001b[38;5;241;43m.\u001b[39;49m\u001b[43moptions\u001b[49m\u001b[38;5;241;43m.\u001b[39;49m\u001b[43mget\u001b[49m\u001b[43m(\u001b[49m\u001b[38;5;124;43m\"\u001b[39;49m\u001b[38;5;124;43mmemory_map\u001b[39;49m\u001b[38;5;124;43m\"\u001b[39;49m\u001b[43m,\u001b[49m\u001b[43m \u001b[49m\u001b[38;5;28;43;01mFalse\u001b[39;49;00m\u001b[43m)\u001b[49m\u001b[43m,\u001b[49m\n\u001b[1;32m   1667\u001b[0m \u001b[43m    \u001b[49m\u001b[43mis_text\u001b[49m\u001b[38;5;241;43m=\u001b[39;49m\u001b[43mis_text\u001b[49m\u001b[43m,\u001b[49m\n\u001b[1;32m   1668\u001b[0m \u001b[43m    \u001b[49m\u001b[43merrors\u001b[49m\u001b[38;5;241;43m=\u001b[39;49m\u001b[38;5;28;43mself\u001b[39;49m\u001b[38;5;241;43m.\u001b[39;49m\u001b[43moptions\u001b[49m\u001b[38;5;241;43m.\u001b[39;49m\u001b[43mget\u001b[49m\u001b[43m(\u001b[49m\u001b[38;5;124;43m\"\u001b[39;49m\u001b[38;5;124;43mencoding_errors\u001b[39;49m\u001b[38;5;124;43m\"\u001b[39;49m\u001b[43m,\u001b[49m\u001b[43m \u001b[49m\u001b[38;5;124;43m\"\u001b[39;49m\u001b[38;5;124;43mstrict\u001b[39;49m\u001b[38;5;124;43m\"\u001b[39;49m\u001b[43m)\u001b[49m\u001b[43m,\u001b[49m\n\u001b[1;32m   1669\u001b[0m \u001b[43m    \u001b[49m\u001b[43mstorage_options\u001b[49m\u001b[38;5;241;43m=\u001b[39;49m\u001b[38;5;28;43mself\u001b[39;49m\u001b[38;5;241;43m.\u001b[39;49m\u001b[43moptions\u001b[49m\u001b[38;5;241;43m.\u001b[39;49m\u001b[43mget\u001b[49m\u001b[43m(\u001b[49m\u001b[38;5;124;43m\"\u001b[39;49m\u001b[38;5;124;43mstorage_options\u001b[39;49m\u001b[38;5;124;43m\"\u001b[39;49m\u001b[43m,\u001b[49m\u001b[43m \u001b[49m\u001b[38;5;28;43;01mNone\u001b[39;49;00m\u001b[43m)\u001b[49m\u001b[43m,\u001b[49m\n\u001b[1;32m   1670\u001b[0m \u001b[43m\u001b[49m\u001b[43m)\u001b[49m\n\u001b[1;32m   1671\u001b[0m \u001b[38;5;28;01massert\u001b[39;00m \u001b[38;5;28mself\u001b[39m\u001b[38;5;241m.\u001b[39mhandles \u001b[38;5;129;01mis\u001b[39;00m \u001b[38;5;129;01mnot\u001b[39;00m \u001b[38;5;28;01mNone\u001b[39;00m\n\u001b[1;32m   1672\u001b[0m f \u001b[38;5;241m=\u001b[39m \u001b[38;5;28mself\u001b[39m\u001b[38;5;241m.\u001b[39mhandles\u001b[38;5;241m.\u001b[39mhandle\n",
      "File \u001b[0;32m/share/pkg.8/python3/3.10.12/install/lib/python3.10/site-packages/pandas/io/common.py:859\u001b[0m, in \u001b[0;36mget_handle\u001b[0;34m(path_or_buf, mode, encoding, compression, memory_map, is_text, errors, storage_options)\u001b[0m\n\u001b[1;32m    854\u001b[0m \u001b[38;5;28;01melif\u001b[39;00m \u001b[38;5;28misinstance\u001b[39m(handle, \u001b[38;5;28mstr\u001b[39m):\n\u001b[1;32m    855\u001b[0m     \u001b[38;5;66;03m# Check whether the filename is to be opened in binary mode.\u001b[39;00m\n\u001b[1;32m    856\u001b[0m     \u001b[38;5;66;03m# Binary mode does not support 'encoding' and 'newline'.\u001b[39;00m\n\u001b[1;32m    857\u001b[0m     \u001b[38;5;28;01mif\u001b[39;00m ioargs\u001b[38;5;241m.\u001b[39mencoding \u001b[38;5;129;01mand\u001b[39;00m \u001b[38;5;124m\"\u001b[39m\u001b[38;5;124mb\u001b[39m\u001b[38;5;124m\"\u001b[39m \u001b[38;5;129;01mnot\u001b[39;00m \u001b[38;5;129;01min\u001b[39;00m ioargs\u001b[38;5;241m.\u001b[39mmode:\n\u001b[1;32m    858\u001b[0m         \u001b[38;5;66;03m# Encoding\u001b[39;00m\n\u001b[0;32m--> 859\u001b[0m         handle \u001b[38;5;241m=\u001b[39m \u001b[38;5;28;43mopen\u001b[39;49m\u001b[43m(\u001b[49m\n\u001b[1;32m    860\u001b[0m \u001b[43m            \u001b[49m\u001b[43mhandle\u001b[49m\u001b[43m,\u001b[49m\n\u001b[1;32m    861\u001b[0m \u001b[43m            \u001b[49m\u001b[43mioargs\u001b[49m\u001b[38;5;241;43m.\u001b[39;49m\u001b[43mmode\u001b[49m\u001b[43m,\u001b[49m\n\u001b[1;32m    862\u001b[0m \u001b[43m            \u001b[49m\u001b[43mencoding\u001b[49m\u001b[38;5;241;43m=\u001b[39;49m\u001b[43mioargs\u001b[49m\u001b[38;5;241;43m.\u001b[39;49m\u001b[43mencoding\u001b[49m\u001b[43m,\u001b[49m\n\u001b[1;32m    863\u001b[0m \u001b[43m            \u001b[49m\u001b[43merrors\u001b[49m\u001b[38;5;241;43m=\u001b[39;49m\u001b[43merrors\u001b[49m\u001b[43m,\u001b[49m\n\u001b[1;32m    864\u001b[0m \u001b[43m            \u001b[49m\u001b[43mnewline\u001b[49m\u001b[38;5;241;43m=\u001b[39;49m\u001b[38;5;124;43m\"\u001b[39;49m\u001b[38;5;124;43m\"\u001b[39;49m\u001b[43m,\u001b[49m\n\u001b[1;32m    865\u001b[0m \u001b[43m        \u001b[49m\u001b[43m)\u001b[49m\n\u001b[1;32m    866\u001b[0m     \u001b[38;5;28;01melse\u001b[39;00m:\n\u001b[1;32m    867\u001b[0m         \u001b[38;5;66;03m# Binary mode\u001b[39;00m\n\u001b[1;32m    868\u001b[0m         handle \u001b[38;5;241m=\u001b[39m \u001b[38;5;28mopen\u001b[39m(handle, ioargs\u001b[38;5;241m.\u001b[39mmode)\n",
      "\u001b[0;31mFileNotFoundError\u001b[0m: [Errno 2] No such file or directory: '/projectnb/ds549/projects/AImpower/evaluation/net_aigenerated_data_wenet_performance_data.csv'"
     ]
    }
   ],
   "source": [
    "## Load data from csv if starting here\n",
    "\n",
    "net_aigenerated_data_wenet = pd.read_csv('/projectnb/ds549/projects/AImpower/evaluation/net_aigenerated_data_wenet_performance_data.csv', delimiter=',')"
   ]
  },
  {
   "cell_type": "code",
   "execution_count": null,
   "id": "797a7d2b-f110-4b04-8500-1a956ebf78be",
   "metadata": {
    "tags": []
   },
   "outputs": [],
   "source": [
    "import matplotlib.pyplot as plt"
   ]
  },
  {
   "cell_type": "code",
   "execution_count": null,
   "id": "414d5c7c-bc01-4dfc-959f-589115e8fd75",
   "metadata": {
    "tags": []
   },
   "outputs": [],
   "source": [
    "## Null value plots\n",
    "\n",
    "nonnull_count_large = net_aigenerated_data_wenet[\"NA_Count\"].count() - net_aigenerated_data_wenet.iloc[0][\"NA_Count\"]\n",
    "null_count_large = net_aigenerated_data_wenet.iloc[0][\"NA_Count\"]\n",
    "\n",
    "nonnull_count_cleaned = net_aigenerated_data_wenet[\"NA_Cleaned_Count\"].count() - net_aigenerated_data_wenet.iloc[0][\"NA_Cleaned_Count\"]\n",
    "null_count_cleaned = net_aigenerated_data_wenet.iloc[0][\"NA_Cleaned_Count\"]\n",
    "\n",
    "\n",
    "data = {\n",
    "    \"NA Values\": [null_count_large, null_count_cleaned],\n",
    "    \"Non NA Values\": [nonnull_count_large, nonnull_count_cleaned],\n",
    "}\n",
    "\n",
    "species = (\n",
    "    \"Whisper Large\",\n",
    "    \"Cleaned Ground Truth\"\n",
    ")\n",
    "\n",
    "width = 0.5\n",
    "\n",
    "fig, ax = plt.subplots()\n",
    "bottom = np.zeros(2)\n",
    "\n",
    "for na, count in data.items():\n",
    "    p = ax.bar(species, count, width, label=na, bottom=bottom)\n",
    "    bottom += count\n",
    "\n",
    "\n",
    "ax.set_title(\"NA value counting\", fontsize=16)\n",
    "ax.set_xlabel(\"Source\", fontsize=14)\n",
    "ax.set_ylabel(\"Count\", fontsize=14)\n",
    "ax.legend()\n",
    "ax.grid(True)\n",
    "\n",
    "plt.show()"
   ]
  },
  {
   "cell_type": "code",
   "execution_count": null,
   "id": "c8b57777-464a-43d5-b3c1-510ae5b7f459",
   "metadata": {
    "tags": []
   },
   "outputs": [],
   "source": [
    "plt.figure(figsize=(6, 4))\n",
    "plt.scatter(\n",
    "    net_aigenerated_data_wenet[\"Stutterance_Count\"], \n",
    "    net_aigenerated_data_wenet[\"WER\"], \n",
    "    alpha=0.7  # Handle overlapping points\n",
    ")\n",
    "\n",
    "plt.title(\"WER vs Stutterance Count\", fontsize=16)\n",
    "plt.xlabel(\"Stutterance Count\", fontsize=14)\n",
    "plt.ylabel(\"WER\", fontsize=14)\n",
    "plt.grid(True)\n",
    "plt.show()"
   ]
  },
  {
   "cell_type": "code",
   "execution_count": null,
   "id": "c787eb1b-8b2f-45bd-aca7-2e6490f4a56f",
   "metadata": {
    "tags": []
   },
   "outputs": [],
   "source": [
    "import seaborn as sns\n",
    "from matplotlib.colors import LinearSegmentedColormap\n",
    "\n",
    "net_aigenerated_data_wenet['WER_Binned'] = np.round(net_aigenerated_data_wenet['WER'], 2)\n",
    "\n",
    "grouped_data = net_aigenerated_data_wenet.groupby(\n",
    "    ['Stutterance_Count', 'WER_Binned']\n",
    ").size().reset_index(name='Count')\n",
    "heatmap_data = grouped_data.pivot(index='WER_Binned', columns='Stutterance_Count', values='Count').fillna(0)\n",
    "\n",
    "plt.figure(figsize=(6, 4))\n",
    "sns.heatmap(\n",
    "    heatmap_data, cmap='cool', annot=False, fmt='g', cbar=True\n",
    ")\n",
    "\n",
    "plt.title(\"Stutterance Count vs WER (Color = Number of Cases)\", fontsize=16)\n",
    "plt.xlabel(\"Stutterance Count\", fontsize=14)\n",
    "plt.ylabel(\"WER (Binned)\", fontsize=14)\n",
    "\n",
    "plt.show()"
   ]
  },
  {
   "cell_type": "code",
   "execution_count": null,
   "id": "0655e4f3-8870-45a1-bdcc-cbe54d532f63",
   "metadata": {
    "tags": []
   },
   "outputs": [],
   "source": [
    "from scipy.stats import spearmanr\n",
    "rho, p = spearmanr(net_aigenerated_data_wenet.dropna()['Stutterance_Count'], net_aigenerated_data_wenet.dropna()['WER'])\n",
    "print(f\"p-value = {p}\")\n",
    "print(f\"rho = {rho}\")"
   ]
  },
  {
   "cell_type": "markdown",
   "id": "c7f6bf6e-2993-485d-9141-a78634637a50",
   "metadata": {},
   "source": [
    "***"
   ]
  },
  {
   "cell_type": "markdown",
   "id": "343e4ac0-04a6-4896-b5b4-cbcfc330e0d6",
   "metadata": {
    "tags": []
   },
   "source": [
    "## ROUGE-N/L Scores (Semantic Evaluation)"
   ]
  },
  {
   "cell_type": "code",
   "execution_count": null,
   "id": "175ed190-1369-45ce-bd2e-863505f99a8d",
   "metadata": {},
   "outputs": [],
   "source": [
    "from rouge_chinese import Rouge\n",
    "import jieba"
   ]
  },
  {
   "cell_type": "code",
   "execution_count": null,
   "id": "f2f1133e-38f4-4798-8bfe-7afb95778756",
   "metadata": {
    "tags": []
   },
   "outputs": [],
   "source": [
    "rouge = Rouge()"
   ]
  },
  {
   "cell_type": "code",
   "execution_count": null,
   "id": "e5ee381a-b7b8-4dd5-8e76-d7a8f3483e1c",
   "metadata": {
    "tags": []
   },
   "outputs": [],
   "source": [
    "print_ = True\n",
    "\n",
    "for index, row in tqdm(net_aigenerated_data_wenet.iterrows(), total=len(net_aigenerated_data_wenet)):\n",
    "    \n",
    "    mask_large = (\n",
    "        (net_aigenerated_data_wenet[\"Filename\"] == row[\"Filename\"]) &\n",
    "        (net_aigenerated_data_wenet[\"Start_time\"] == row[\"Start_time\"])\n",
    "    )\n",
    "\n",
    "    mask_net = (\n",
    "        (net_data[\"Filename\"] == row[\"Filename\"]) &\n",
    "        (net_data[\"Start_time\"] == row[\"Start_time\"])\n",
    "    )\n",
    "\n",
    "    \n",
    "    large_row = net_aigenerated_data_wenet.loc[mask_large]\n",
    "    net_row = net_data.loc[mask_net]\n",
    "\n",
    "    # print(large_row)\n",
    "    # print('\\n\\n\\n\\n')\n",
    "    # print(net_row)\n",
    "    \n",
    "    if large_row.empty or net_row.empty:\n",
    "        print(\"Skipping: One of the rows is empty.\")\n",
    "        continue\n",
    "        \n",
    "    wenet = large_row[\"WeNet\"].values[0]\n",
    "    cleaned_transcript = net_row[\"Cleaned_Transcript\"].values[0]\n",
    "    \n",
    "    if pd.isna(wenet) or not isinstance(wenet, str):\n",
    "        print(\"Skipping due to missing or non-string wenet.\")\n",
    "        continue\n",
    "    if pd.isna(cleaned_transcript) or not isinstance(cleaned_transcript, str):\n",
    "        print(\"Skipping due to missing or non-string Cleaned_Transcript.\")\n",
    "        continue\n",
    "\n",
    "    try:\n",
    "        \n",
    "        scores = rouge.get_scores(' '.join(jieba.cut(wenet)), ' '.join(jieba.cut(cleaned_transcript)))\n",
    "        \n",
    "        net_aigenerated_data_wenet.loc[mask_large, \"rouge1-precision\"] = scores[0][\"rouge-1\"][\"p\"]\n",
    "        net_aigenerated_data_wenet.loc[mask_large, \"rouge1-recall\"] = scores[0][\"rouge-1\"][\"r\"]\n",
    "        net_aigenerated_data_wenet.loc[mask_large, \"rouge1-f1\"] = scores[0][\"rouge-1\"][\"f\"]\n",
    "        \n",
    "        \n",
    "        net_aigenerated_data_wenet.loc[mask_large, \"rouge2-precision\"] = scores[0][\"rouge-2\"][\"p\"]\n",
    "        net_aigenerated_data_wenet.loc[mask_large, \"rouge2-recall\"] = scores[0][\"rouge-2\"][\"r\"]\n",
    "        net_aigenerated_data_wenet.loc[mask_large, \"rouge2-f1\"] = scores[0][\"rouge-2\"][\"f\"]\n",
    "        \n",
    "        \n",
    "        net_aigenerated_data_wenet.loc[mask_large, \"rougel-precision\"] = scores[0][\"rouge-l\"][\"p\"]\n",
    "        net_aigenerated_data_wenet.loc[mask_large, \"rougel-recall\"] = scores[0][\"rouge-l\"][\"r\"]\n",
    "        net_aigenerated_data_wenet.loc[mask_large, \"rougel-f1\"] = scores[0][\"rouge-l\"][\"f\"]\n",
    "        \n",
    "        stutterance_count = net_row[\"Stutterance_Count\"].values[0]\n",
    "        net_aigenerated_data_wenet.loc[mask_large, \"Stutterance_Count\"] = stutterance_count\n",
    "\n",
    "        if (print_):\n",
    "            print(net_aigenerated_data_wenet)\n",
    "            print_ = False\n",
    "        \n",
    "        # Verify assignment\n",
    "        # print(f'Assigned Stutterance_Count: {stutterance_count}')\n",
    "        # print(net_aigenerated_data_wenet.loc[mask_large, \"Stutterance_Count\"])\n",
    "\n",
    "    except Exception as e:\n",
    "        print(f'ERROR: {e}')\n",
    "        print('Occurred with the following data:')\n",
    "        print(large_row)\n",
    "        print(net_row)"
   ]
  },
  {
   "cell_type": "code",
   "execution_count": null,
   "id": "8e6bc54a-90fb-409a-a30d-d90ddf2550cf",
   "metadata": {
    "tags": []
   },
   "outputs": [],
   "source": [
    "net_aigenerated_data_wenet"
   ]
  },
  {
   "cell_type": "code",
   "execution_count": null,
   "id": "92cba2a5-5178-4579-b0a0-5ec8b89181fb",
   "metadata": {
    "tags": []
   },
   "outputs": [],
   "source": [
    "# net_aigenerated_data_wenet.to_csv('net_aigenerated_data_wenet_performance_data.csv', sep=',')"
   ]
  },
  {
   "cell_type": "markdown",
   "id": "1c4dd59d-7ebd-49bd-8d18-acae4780be3c",
   "metadata": {},
   "source": [
    "***"
   ]
  },
  {
   "cell_type": "markdown",
   "id": "413e91e6-4f9d-423a-9d57-d19ba960bac1",
   "metadata": {},
   "source": [
    "## Visualization of Relationship between Stutterance Count and Rouge Scores"
   ]
  },
  {
   "cell_type": "code",
   "execution_count": null,
   "id": "edf03ee0-99ec-4f0a-8a29-bc6d6e53bcb1",
   "metadata": {
    "tags": []
   },
   "outputs": [],
   "source": [
    "## Load data from csv if starting here\n",
    "\n",
    "net_aigenerated_data_wenet = pd.read_csv('/projectnb/ds549/projects/AImpower/evaluation/net_aigenerated_data_wenet_performance_data.csv', delimiter=',')"
   ]
  },
  {
   "cell_type": "code",
   "execution_count": null,
   "id": "833e1afc-5996-44a9-a70a-feb0cdd29237",
   "metadata": {
    "tags": []
   },
   "outputs": [],
   "source": [
    "plt.figure(figsize=(6, 4))\n",
    "plt.scatter(\n",
    "    net_aigenerated_data_wenet[\"Stutterance_Count\"], \n",
    "    net_aigenerated_data_wenet[\"rouge1-precision\"], \n",
    "    facecolors=\"none\", edgecolors='r',\n",
    "    marker=\"8\",\n",
    "    alpha=0.7  # Handle overlapping points\n",
    ")\n",
    "\n",
    "plt.scatter(\n",
    "    net_aigenerated_data_wenet[\"Stutterance_Count\"], \n",
    "    net_aigenerated_data_wenet[\"rouge1-recall\"], \n",
    "    facecolors=\"none\", edgecolors='g',\n",
    "    marker=\"^\",\n",
    "    alpha=0.7  # Handle overlapping points\n",
    ")\n",
    "\n",
    "plt.scatter(\n",
    "    net_aigenerated_data_wenet[\"Stutterance_Count\"], \n",
    "    net_aigenerated_data_wenet[\"rouge1-f1\"], \n",
    "    facecolors=\"none\", edgecolors='b',\n",
    "    marker=\".\",\n",
    "    alpha=0.7  # Handle overlapping points\n",
    ")\n",
    "\n",
    "plt.title(\"Rouge-1 vs Stutterance Count\", fontsize=16)\n",
    "plt.xlabel(\"Stutterance Count\", fontsize=14)\n",
    "plt.ylabel(\"Rouge Score\", fontsize=14)\n",
    "plt.grid(True)\n",
    "plt.show()"
   ]
  },
  {
   "cell_type": "code",
   "execution_count": null,
   "id": "21b7c856-ac25-4ad8-af68-94b7603e413f",
   "metadata": {
    "tags": []
   },
   "outputs": [],
   "source": [
    "plt.figure(figsize=(6, 4))\n",
    "plt.scatter(\n",
    "    net_aigenerated_data_wenet[\"Stutterance_Count\"], \n",
    "    net_aigenerated_data_wenet[\"rouge2-precision\"], \n",
    "    facecolors=\"none\", edgecolors='r',\n",
    "    marker=\"8\",\n",
    "    alpha=0.7  # Handle overlapping points\n",
    ")\n",
    "\n",
    "plt.scatter(\n",
    "    net_aigenerated_data_wenet[\"Stutterance_Count\"], \n",
    "    net_aigenerated_data_wenet[\"rouge2-recall\"], \n",
    "    facecolors=\"none\", edgecolors='g',\n",
    "    marker=\"^\",\n",
    "    alpha=0.7  # Handle overlapping points\n",
    ")\n",
    "\n",
    "plt.scatter(\n",
    "    net_aigenerated_data_wenet[\"Stutterance_Count\"], \n",
    "    net_aigenerated_data_wenet[\"rouge2-f1\"], \n",
    "    facecolors=\"none\", edgecolors='b',\n",
    "    marker=\".\",\n",
    "    alpha=0.7  # Handle overlapping points\n",
    ")\n",
    "\n",
    "plt.title(\"Rouge-2 vs Stutterance Count\", fontsize=16)\n",
    "plt.xlabel(\"Stutterance Count\", fontsize=14)\n",
    "plt.ylabel(\"Rouge Score\", fontsize=14)\n",
    "plt.grid(True)\n",
    "plt.show()"
   ]
  },
  {
   "cell_type": "code",
   "execution_count": null,
   "id": "15aacd2e-8b9a-49e0-b93a-61cd141809ee",
   "metadata": {
    "tags": []
   },
   "outputs": [],
   "source": [
    "plt.figure(figsize=(6, 4))\n",
    "plt.scatter(\n",
    "    net_aigenerated_data_wenet[\"Stutterance_Count\"], \n",
    "    net_aigenerated_data_wenet[\"rougel-precision\"], \n",
    "    facecolors=\"none\", edgecolors='r',\n",
    "    marker=\"8\",\n",
    "    alpha=0.7  # Handle overlapping points\n",
    ")\n",
    "\n",
    "plt.scatter(\n",
    "    net_aigenerated_data_wenet[\"Stutterance_Count\"], \n",
    "    net_aigenerated_data_wenet[\"rougel-recall\"], \n",
    "    facecolors=\"none\", edgecolors='g',\n",
    "    marker=\"^\",\n",
    "    alpha=0.7  # Handle overlapping points\n",
    ")\n",
    "\n",
    "plt.scatter(\n",
    "    net_aigenerated_data_wenet[\"Stutterance_Count\"], \n",
    "    net_aigenerated_data_wenet[\"rougel-f1\"], \n",
    "    facecolors=\"none\", edgecolors='b',\n",
    "    marker=\".\",\n",
    "    alpha=0.7  # Handle overlapping points\n",
    ")\n",
    "\n",
    "plt.title(\"Rouge-L vs Stutterance Count\", fontsize=16)\n",
    "plt.xlabel(\"Stutterance Count\", fontsize=14)\n",
    "plt.ylabel(\"Rouge Score\", fontsize=14)\n",
    "plt.grid(True)\n",
    "plt.show()"
   ]
  },
  {
   "cell_type": "markdown",
   "id": "60ec04e9-605d-4d66-ab46-87f8441a790c",
   "metadata": {},
   "source": [
    "## Correlations between Stuttering and Rouge Scores "
   ]
  },
  {
   "cell_type": "code",
   "execution_count": null,
   "id": "2f1aeda0-f917-4f4c-b5aa-bf5fe18f17f1",
   "metadata": {
    "tags": []
   },
   "outputs": [],
   "source": [
    "from scipy.stats import spearmanr\n",
    "rho, p = spearmanr(net_aigenerated_data_wenet.dropna()['Stutterance_Count'], net_aigenerated_data_wenet.dropna()['rouge1-precision'])\n",
    "print(f\"p-value [stuttering count & rouge-1 precision] = {p}\")\n",
    "print(f\"rho [stuttering count & rouge-1 precision] = {rho}\")\n",
    "\n",
    "rho, p = spearmanr(net_aigenerated_data_wenet.dropna()['Stutterance_Count'], net_aigenerated_data_wenet.dropna()['rouge1-recall'])\n",
    "print(f\"p-value [stuttering count & rouge-1 recall] = {p}\")\n",
    "print(f\"rho [stuttering count & rouge-1 recall] = {rho}\")\n",
    "\n",
    "rho, p = spearmanr(net_aigenerated_data_wenet.dropna()['Stutterance_Count'], net_aigenerated_data_wenet.dropna()['rouge1-f1'])\n",
    "print(f\"p-value [stuttering count & rouge-1 f1] = {p}\")\n",
    "print(f\"rho [stuttering count & rouge-1 f1] = {rho}\")"
   ]
  },
  {
   "cell_type": "markdown",
   "id": "08c1a5f6-b696-4d93-bd2f-f8a0ec0df657",
   "metadata": {},
   "source": [
    "***"
   ]
  }
 ],
 "metadata": {
  "kernelspec": {
   "display_name": "Python 3 (ipykernel)",
   "language": "python",
   "name": "python3"
  },
  "language_info": {
   "codemirror_mode": {
    "name": "ipython",
    "version": 3
   },
   "file_extension": ".py",
   "mimetype": "text/x-python",
   "name": "python",
   "nbconvert_exporter": "python",
   "pygments_lexer": "ipython3",
   "version": "3.10.12"
  }
 },
 "nbformat": 4,
 "nbformat_minor": 5
}
