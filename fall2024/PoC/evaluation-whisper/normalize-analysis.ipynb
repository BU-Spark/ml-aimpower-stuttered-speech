{
 "cells": [
  {
   "cell_type": "markdown",
   "id": "7bb740b8-7260-4e47-bd49-055f99066047",
   "metadata": {},
   "source": [
    "# Evaluation on Frequency of Stuttering Count (Whisper)\n",
    "This script evaluates the role of frequency of stuttering count on the effect of accuracy. This merges the audio length & stuttering count as one variable for comparison."
   ]
  },
  {
   "cell_type": "code",
   "execution_count": 2,
   "id": "beb3dc6f-18f3-4a45-8e26-50fa8525798b",
   "metadata": {
    "tags": []
   },
   "outputs": [],
   "source": [
    "import pandas as pd\n",
    "import numpy as np\n",
    "import matplotlib.pyplot as plt"
   ]
  },
  {
   "cell_type": "code",
   "execution_count": 4,
   "id": "4134207a-d197-4897-bea4-8669fa968b2b",
   "metadata": {},
   "outputs": [
    {
     "name": "stdout",
     "output_type": "stream",
     "text": [
      "['Unnamed: 0', 'Filename', 'Start_time', 'End_time', 'Whisper_large', 'WER', 'Stutterance_Count', 'NA_Count', 'NA_Cleaned_Count', 'WER_Binned', 'rouge1-precision', 'rouge1-recall', 'rouge1-f1', 'rouge2-precision', 'rouge2-recall', 'rouge2-f1', 'rougel-precision', 'rougel-recall', 'rougel-f1', 'Cleaned_Transcript', 'GroundTruth_Transcript', 'Duration']\n"
     ]
    }
   ],
   "source": [
    "cols = list(pd.read_csv(\"net_aigenerated_data_whisper_large_performance_stu.csv\", nrows=1))\n",
    "print(cols)\n",
    "net_aigenerated_data_whisper_large = pd.read_csv('/projectnb/ds549/projects/AImpower/evaluation-whisper/net_aigenerated_data_whisper_large_performance_stu.csv', delimiter=',', usecols =[i for i in cols if \"Unnamed:\" not in i])"
   ]
  },
  {
   "cell_type": "code",
   "execution_count": 7,
   "id": "68a9f631-c360-46c5-89c2-5c84626a34c9",
   "metadata": {
    "tags": []
   },
   "outputs": [],
   "source": [
    "individual_stutter_record = net_aigenerated_data_whisper_large[net_aigenerated_data_whisper_large[\"Stutterance_Count\"] == 1]"
   ]
  },
  {
   "cell_type": "code",
   "execution_count": null,
   "id": "1c0c195d-1b6e-455b-9da7-b773bfbbe781",
   "metadata": {},
   "outputs": [],
   "source": [
    "net_aigenerated_data_whisper_large.to_csv('net_aigenerated_data_whisper_large_performance_stu.csv', sep=',')"
   ]
  }
 ],
 "metadata": {
  "kernelspec": {
   "display_name": "Python (learner-env)",
   "language": "python",
   "name": "learner-env"
  },
  "language_info": {
   "codemirror_mode": {
    "name": "ipython",
    "version": 3
   },
   "file_extension": ".py",
   "mimetype": "text/x-python",
   "name": "python",
   "nbconvert_exporter": "python",
   "pygments_lexer": "ipython3",
   "version": "3.12.4"
  }
 },
 "nbformat": 4,
 "nbformat_minor": 5
}
