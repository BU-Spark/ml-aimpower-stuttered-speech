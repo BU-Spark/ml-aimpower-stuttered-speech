{
 "cells": [
  {
   "cell_type": "markdown",
   "id": "dc29c479-35ec-4ec6-ab30-7baa4d778af2",
   "metadata": {},
   "source": [
    "## Debugging the mismatch transcription issue"
   ]
  },
  {
   "cell_type": "code",
   "execution_count": 2,
   "id": "95c2aea2-fbd4-49cd-a293-165c6fbb235c",
   "metadata": {
    "tags": []
   },
   "outputs": [],
   "source": [
    "import pandas as pd\n",
    "import numpy as np\n",
    "import matplotlib.pyplot as plt\n",
    "import os"
   ]
  },
  {
   "cell_type": "code",
   "execution_count": 3,
   "id": "3e8f21f3-97eb-4842-a1d3-eec002b97bab",
   "metadata": {
    "tags": []
   },
   "outputs": [],
   "source": [
    "net_aigenerated_data_whisper_large = pd.read_csv(f\"{os.getcwd()}/net_aigenerated_data_whisper_large_performance_stu.csv\")"
   ]
  },
  {
   "cell_type": "code",
   "execution_count": 5,
   "id": "043fdcaa-a871-4be2-9e9f-39df00500497",
   "metadata": {
    "tags": []
   },
   "outputs": [
    {
     "data": {
      "text/html": [
       "<div>\n",
       "<style scoped>\n",
       "    .dataframe tbody tr th:only-of-type {\n",
       "        vertical-align: middle;\n",
       "    }\n",
       "\n",
       "    .dataframe tbody tr th {\n",
       "        vertical-align: top;\n",
       "    }\n",
       "\n",
       "    .dataframe thead th {\n",
       "        text-align: right;\n",
       "    }\n",
       "</style>\n",
       "<table border=\"1\" class=\"dataframe\">\n",
       "  <thead>\n",
       "    <tr style=\"text-align: right;\">\n",
       "      <th></th>\n",
       "      <th>Unnamed: 0</th>\n",
       "      <th>Filename</th>\n",
       "      <th>Start_time</th>\n",
       "      <th>End_time</th>\n",
       "      <th>Whisper_large</th>\n",
       "      <th>WER</th>\n",
       "      <th>Stutterance_Count</th>\n",
       "      <th>NA_Count</th>\n",
       "      <th>NA_Cleaned_Count</th>\n",
       "      <th>WER_Binned</th>\n",
       "      <th>...</th>\n",
       "      <th>rouge2-f1</th>\n",
       "      <th>rougel-precision</th>\n",
       "      <th>rougel-recall</th>\n",
       "      <th>rougel-f1</th>\n",
       "      <th>Cleaned_Transcript</th>\n",
       "      <th>GroundTruth_Transcript</th>\n",
       "      <th>Duration</th>\n",
       "      <th>Frequency</th>\n",
       "      <th>Freq_Duration</th>\n",
       "      <th>Freq_CharCount</th>\n",
       "    </tr>\n",
       "  </thead>\n",
       "  <tbody>\n",
       "    <tr>\n",
       "      <th>8015</th>\n",
       "      <td>8015</td>\n",
       "      <td>D0057_A</td>\n",
       "      <td>878.01</td>\n",
       "      <td>878.92</td>\n",
       "      <td>----------------------------------------------...</td>\n",
       "      <td>18.75</td>\n",
       "      <td>0.0</td>\n",
       "      <td>6</td>\n",
       "      <td>0</td>\n",
       "      <td>18.75</td>\n",
       "      <td>...</td>\n",
       "      <td>0.0</td>\n",
       "      <td>0.0</td>\n",
       "      <td>0.0</td>\n",
       "      <td>0.0</td>\n",
       "      <td>嗯因为我原来一直在关注口吃说包括也在关注您。</td>\n",
       "      <td>嗯/p因为我原来一直在关注口吃说包括也在关注您。</td>\n",
       "      <td>0.91</td>\n",
       "      <td>0.0</td>\n",
       "      <td>0.0</td>\n",
       "      <td>0.0</td>\n",
       "    </tr>\n",
       "  </tbody>\n",
       "</table>\n",
       "<p>1 rows × 25 columns</p>\n",
       "</div>"
      ],
      "text/plain": [
       "      Unnamed: 0 Filename  Start_time  End_time  \\\n",
       "8015        8015  D0057_A      878.01    878.92   \n",
       "\n",
       "                                          Whisper_large    WER  \\\n",
       "8015  ----------------------------------------------...  18.75   \n",
       "\n",
       "      Stutterance_Count  NA_Count  NA_Cleaned_Count  WER_Binned  ...  \\\n",
       "8015                0.0         6                 0       18.75  ...   \n",
       "\n",
       "      rouge2-f1  rougel-precision  rougel-recall  rougel-f1  \\\n",
       "8015        0.0               0.0            0.0        0.0   \n",
       "\n",
       "          Cleaned_Transcript    GroundTruth_Transcript  Duration  Frequency  \\\n",
       "8015  嗯因为我原来一直在关注口吃说包括也在关注您。  嗯/p因为我原来一直在关注口吃说包括也在关注您。      0.91        0.0   \n",
       "\n",
       "      Freq_Duration Freq_CharCount  \n",
       "8015            0.0            0.0  \n",
       "\n",
       "[1 rows x 25 columns]"
      ]
     },
     "execution_count": 5,
     "metadata": {},
     "output_type": "execute_result"
    }
   ],
   "source": [
    "net_aigenerated_data_whisper_large[net_aigenerated_data_whisper_large[\"Start_time\"]==878.01]"
   ]
  },
  {
   "cell_type": "code",
   "execution_count": 6,
   "id": "fe479f71-fabc-4fa4-871d-c5813eb66861",
   "metadata": {
    "tags": []
   },
   "outputs": [
    {
     "data": {
      "text/html": [
       "<div>\n",
       "<style scoped>\n",
       "    .dataframe tbody tr th:only-of-type {\n",
       "        vertical-align: middle;\n",
       "    }\n",
       "\n",
       "    .dataframe tbody tr th {\n",
       "        vertical-align: top;\n",
       "    }\n",
       "\n",
       "    .dataframe thead th {\n",
       "        text-align: right;\n",
       "    }\n",
       "</style>\n",
       "<table border=\"1\" class=\"dataframe\">\n",
       "  <thead>\n",
       "    <tr style=\"text-align: right;\">\n",
       "      <th></th>\n",
       "      <th>Unnamed: 0</th>\n",
       "      <th>Filename</th>\n",
       "      <th>Start_time</th>\n",
       "      <th>End_time</th>\n",
       "      <th>Whisper_large</th>\n",
       "      <th>WER</th>\n",
       "      <th>Stutterance_Count</th>\n",
       "      <th>NA_Count</th>\n",
       "      <th>NA_Cleaned_Count</th>\n",
       "      <th>WER_Binned</th>\n",
       "      <th>...</th>\n",
       "      <th>rouge2-f1</th>\n",
       "      <th>rougel-precision</th>\n",
       "      <th>rougel-recall</th>\n",
       "      <th>rougel-f1</th>\n",
       "      <th>Cleaned_Transcript</th>\n",
       "      <th>GroundTruth_Transcript</th>\n",
       "      <th>Duration</th>\n",
       "      <th>Frequency</th>\n",
       "      <th>Freq_Duration</th>\n",
       "      <th>Freq_CharCount</th>\n",
       "    </tr>\n",
       "  </thead>\n",
       "  <tbody>\n",
       "    <tr>\n",
       "      <th>14926</th>\n",
       "      <td>14926</td>\n",
       "      <td>D0067_B</td>\n",
       "      <td>2231.13</td>\n",
       "      <td>2232.58</td>\n",
       "      <td>kenneth Wrong</td>\n",
       "      <td>2.6</td>\n",
       "      <td>1.0</td>\n",
       "      <td>6</td>\n",
       "      <td>0</td>\n",
       "      <td>2.6</td>\n",
       "      <td>...</td>\n",
       "      <td>0.0</td>\n",
       "      <td>0.0</td>\n",
       "      <td>0.0</td>\n",
       "      <td>0.0</td>\n",
       "      <td>就是他的音乐也是听的比较多。</td>\n",
       "      <td>就是他的音乐也是听的比较多。</td>\n",
       "      <td>1.45</td>\n",
       "      <td>0.071429</td>\n",
       "      <td>0.689655</td>\n",
       "      <td>0.071429</td>\n",
       "    </tr>\n",
       "  </tbody>\n",
       "</table>\n",
       "<p>1 rows × 25 columns</p>\n",
       "</div>"
      ],
      "text/plain": [
       "       Unnamed: 0 Filename  Start_time  End_time   Whisper_large  WER  \\\n",
       "14926       14926  D0067_B     2231.13   2232.58   kenneth Wrong  2.6   \n",
       "\n",
       "       Stutterance_Count  NA_Count  NA_Cleaned_Count  WER_Binned  ...  \\\n",
       "14926                1.0         6                 0         2.6  ...   \n",
       "\n",
       "       rouge2-f1  rougel-precision  rougel-recall  rougel-f1  \\\n",
       "14926        0.0               0.0            0.0        0.0   \n",
       "\n",
       "       Cleaned_Transcript  GroundTruth_Transcript  Duration  Frequency  \\\n",
       "14926      就是他的音乐也是听的比较多。          就是他的音乐也是听的比较多。      1.45   0.071429   \n",
       "\n",
       "       Freq_Duration Freq_CharCount  \n",
       "14926       0.689655       0.071429  \n",
       "\n",
       "[1 rows x 25 columns]"
      ]
     },
     "execution_count": 6,
     "metadata": {},
     "output_type": "execute_result"
    }
   ],
   "source": [
    "net_aigenerated_data_whisper_large[net_aigenerated_data_whisper_large[\"Start_time\"]==2231.13]"
   ]
  },
  {
   "cell_type": "code",
   "execution_count": null,
   "id": "2d2d19ba-b439-4106-b560-7b41be8cbdb2",
   "metadata": {},
   "outputs": [],
   "source": []
  }
 ],
 "metadata": {
  "kernelspec": {
   "display_name": "Python 3 (ipykernel)",
   "language": "python",
   "name": "python3"
  },
  "language_info": {
   "codemirror_mode": {
    "name": "ipython",
    "version": 3
   },
   "file_extension": ".py",
   "mimetype": "text/x-python",
   "name": "python",
   "nbconvert_exporter": "python",
   "pygments_lexer": "ipython3",
   "version": "3.10.12"
  }
 },
 "nbformat": 4,
 "nbformat_minor": 5
}
