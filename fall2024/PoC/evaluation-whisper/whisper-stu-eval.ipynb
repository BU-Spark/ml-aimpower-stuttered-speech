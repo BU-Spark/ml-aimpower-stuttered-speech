{
 "cells": [
  {
   "cell_type": "markdown",
   "id": "39ade53f-41d9-4929-b8a6-c7bda2487903",
   "metadata": {},
   "source": [
    "# Whisper Model (Large & Small) Evaluation On Stuttering"
   ]
  },
  {
   "cell_type": "markdown",
   "id": "0e91f32c-9f44-445e-af1d-d80438c80a73",
   "metadata": {},
   "source": [
    "1. Turn original transcripts into dataframes\n",
    "2. Read generated transcript dataframes\n",
    "3. Get Error & Stuttering count\n",
    "4. Get Error & Stuttering Type ==> show which Stuttering type is more prone to error\n",
    "5. Calculate Correlation Score\n",
    "6. Generate Heatmap\n",
    "7. Summarize Trend\n",
    "\n",
    "*** \n",
    "\n",
    "### Error Metrics\n",
    "1. Net / Total Word Error Rate\n",
    "2. Word Error Rate Specific After Cleaning other Stuttering Type Annotations"
   ]
  },
  {
   "cell_type": "markdown",
   "id": "7f3447c6-7204-47d4-90e4-c5cfdea58819",
   "metadata": {},
   "source": [
    "***"
   ]
  },
  {
   "cell_type": "markdown",
   "id": "cea686dc-bce5-4d46-9064-b11e197e5a78",
   "metadata": {},
   "source": [
    "## Using Custom Kernel on SCC\n",
    "\n",
    "SCC sometimes has the problem with installed library not importable [`module not found` error], this is an alternative.\n",
    "\n",
    "Assuming you have a conda environment created, you would do the following:\n",
    "1. `conda install -c anaconda ipykernel` \n",
    "2. `python -m ipykernel install --user --name=<env name>`\n",
    "3. If the new kernel cannot be found, relaunch a new SCC instance\n",
    "\n",
    "**Remember to switch to the conda env kernel**"
   ]
  },
  {
   "cell_type": "code",
   "execution_count": 5,
   "id": "e07f1428-92a8-4db0-829c-f30a8146f0ed",
   "metadata": {
    "tags": []
   },
   "outputs": [],
   "source": [
    "ds_transcript_path = \"/projectnb/ds549/projects/AImpower/datasets/updated_annotation_deid_full\""
   ]
  },
  {
   "cell_type": "code",
   "execution_count": 44,
   "id": "148a20da-9100-47fe-b6b4-acd844df0194",
   "metadata": {
    "tags": []
   },
   "outputs": [
    {
     "name": "stdout",
     "output_type": "stream",
     "text": [
      "Requirement already satisfied: pandas in /projectnb/ds549/students/wycheng/learner-env/lib/python3.12/site-packages (2.2.3)\n",
      "Requirement already satisfied: numpy in /projectnb/ds549/students/wycheng/learner-env/lib/python3.12/site-packages (2.1.2)\n",
      "Requirement already satisfied: scipy in /projectnb/ds549/students/wycheng/learner-env/lib/python3.12/site-packages (1.14.1)\n",
      "Requirement already satisfied: tqdm in /projectnb/ds549/students/wycheng/learner-env/lib/python3.12/site-packages (4.66.5)\n",
      "Requirement already satisfied: python-dateutil>=2.8.2 in /projectnb/ds549/students/wycheng/learner-env/lib/python3.12/site-packages (from pandas) (2.9.0.post0)\n",
      "Requirement already satisfied: pytz>=2020.1 in /projectnb/ds549/students/wycheng/learner-env/lib/python3.12/site-packages (from pandas) (2024.2)\n",
      "Requirement already satisfied: tzdata>=2022.7 in /projectnb/ds549/students/wycheng/learner-env/lib/python3.12/site-packages (from pandas) (2024.2)\n",
      "Requirement already satisfied: six>=1.5 in /projectnb/ds549/students/wycheng/learner-env/lib/python3.12/site-packages (from python-dateutil>=2.8.2->pandas) (1.16.0)\n"
     ]
    }
   ],
   "source": [
    "!pip install pandas numpy scipy tqdm"
   ]
  },
  {
   "cell_type": "markdown",
   "id": "0c243649-dc9e-45da-84b9-1698d77b8232",
   "metadata": {},
   "source": [
    "---"
   ]
  },
  {
   "cell_type": "markdown",
   "id": "ca38fa21-278b-424f-8346-a22b6090b43a",
   "metadata": {
    "tags": []
   },
   "source": [
    "## Word Error Rate\n",
    "\n",
    "Objectives:\n",
    "* split sequence into characters\n",
    "* count:\n",
    "    * deletion: missing words\n",
    "    * substitutions: wrongly recognized words\n",
    "    * insertions: extra words"
   ]
  },
  {
   "cell_type": "code",
   "execution_count": 54,
   "id": "0c81df43-e7a5-4fc8-bd91-aea09d092265",
   "metadata": {
    "tags": []
   },
   "outputs": [],
   "source": [
    "def wer(candidate, reference):\n",
    "    \"\"\"\n",
    "    Parameter(s)\n",
    "    ------------\n",
    "    candidate ==> generated transcript\n",
    "    reference ==> dataset transcript\n",
    "    \"\"\"\n",
    "    \n",
    "    candidate_tokens = list(candidate)\n",
    "    reference_tokens = list(reference)\n",
    "    \n",
    "    cand_len = len(candidate_tokens)\n",
    "    ref_len = len(reference_tokens)\n",
    "    \n",
    "    dist_mat = np.zeros((ref_len, cand_len), dtype=int)\n",
    "    \n",
    "    for i in range(ref_len):\n",
    "        dist_mat[i][0] = i\n",
    "    for j in range(cand_len):\n",
    "        dist_mat[0][j] = j\n",
    "        \n",
    "    for i in range(1, ref_len):\n",
    "        for j in range(1, cand_len):\n",
    "            if (candidate_tokens[j - 1] == reference_tokens[i - 1]):\n",
    "                cost = 0\n",
    "            else:\n",
    "                cost = 1\n",
    "                \n",
    "            dist_mat[i][j] = min(\n",
    "                dist_mat[i-1][j] + 1,\n",
    "                dist_mat[i][j-1] + 1,\n",
    "                dist_mat[i-1][j-1] + cost\n",
    "            )\n",
    "            # print(dist_mat)\n",
    "            \n",
    "    wer = dist_mat[-1][-1] / len(reference_tokens)\n",
    "    return wer"
   ]
  },
  {
   "cell_type": "markdown",
   "id": "febcf1a3-f6cc-4a91-adba-bcc77778de63",
   "metadata": {},
   "source": [
    "***"
   ]
  },
  {
   "cell_type": "markdown",
   "id": "b5a446d7-0d6b-4dee-bab6-04f07a352782",
   "metadata": {},
   "source": [
    "## Imports and Data Ingestion (Whisper Large)"
   ]
  },
  {
   "cell_type": "code",
   "execution_count": 66,
   "id": "e93b0091-575e-456b-98b3-512203307bbd",
   "metadata": {
    "tags": []
   },
   "outputs": [],
   "source": [
    "import pandas as pd\n",
    "import numpy as np\n",
    "import scipy\n",
    "import os\n",
    "from tqdm import tqdm\n",
    "import re\n",
    "import sys"
   ]
  },
  {
   "cell_type": "code",
   "execution_count": 67,
   "id": "fd42a3b2-7d82-49c2-8ef9-78072b41ea77",
   "metadata": {
    "tags": []
   },
   "outputs": [],
   "source": [
    "net_data = pd.DataFrame(columns=[\"Filename\", \"Start_time\", \"End_time\", \"Transcript\"]) \n",
    "net_aigenerated_data_whisper_large = pd.read_csv(\"/projectnb/ds549/projects/AImpower/datasets/generated-transcripts/Whisper_large.csv\", delimiter=\",\")\n",
    "\n",
    "del net_aigenerated_data_whisper_large[net_aigenerated_data_whisper_large.columns[0]]"
   ]
  },
  {
   "cell_type": "code",
   "execution_count": 68,
   "id": "39f9f360-6023-4820-8e62-0fec34f36acc",
   "metadata": {
    "tags": []
   },
   "outputs": [
    {
     "name": "stderr",
     "output_type": "stream",
     "text": [
      "/scratch/1364557.1.academic/ipykernel_162605/354492224.py:7: FutureWarning: The behavior of DataFrame concatenation with empty or all-NA entries is deprecated. In a future version, this will no longer exclude empty or all-NA columns when determining the result dtypes. To retain the old behavior, exclude the relevant entries before the concat operation.\n",
      "  net_data = pd.concat([net_data, pd.read_csv(os.path.join(ds_transcript_path, f\"{folder}/{audio_sample}\"), sep=\"\\t\", names=[\"Start_time\", \"End_time\", \"Transcript\"]).assign(Filename=f\"D{folder}_A\")])\n"
     ]
    }
   ],
   "source": [
    "for folder in os.listdir(ds_transcript_path):\n",
    "    if folder == \"command_stats.xlsx\" or folder == \"command_stats.csv\":\n",
    "        continue\n",
    "    for audio_sample in os.listdir(os.path.join(ds_transcript_path, f\"{folder}\")):\n",
    "        if (\"_A.txt\" in audio_sample):\n",
    "            # print(\"Appending A txt...\")\n",
    "            net_data = pd.concat([net_data, pd.read_csv(os.path.join(ds_transcript_path, f\"{folder}/{audio_sample}\"), sep=\"\\t\", names=[\"Start_time\", \"End_time\", \"Transcript\"]).assign(Filename=f\"D{folder}_A\")])\n",
    "        if (\"_B.txt\" in audio_sample):\n",
    "            # print(\"Appending B txt...\")\n",
    "            net_data = pd.concat([net_data, pd.read_csv(os.path.join(ds_transcript_path, f\"{folder}/{audio_sample}\"), sep=\"\\t\", names=[\"Start_time\", \"End_time\", \"Transcript\"]).assign(Filename=f\"D{folder}_B\")])\n",
    "        if (\"P\" in audio_sample):\n",
    "            # print(\"Appending P txt...\")\n",
    "            net_data = pd.concat([net_data, pd.read_csv(os.path.join(ds_transcript_path, f\"{folder}/{audio_sample}\"), sep=\"\\t\", names=[\"Start_time\", \"End_time\", \"Transcript\"]).assign(Filename=f\"P{folder}\")])"
   ]
  },
  {
   "cell_type": "code",
   "execution_count": 69,
   "id": "06ce2b50-9c43-40a6-ae23-69ed8676ff3b",
   "metadata": {
    "tags": []
   },
   "outputs": [],
   "source": [
    "mask_pattern = r\"\\<.*?\\>\"\n",
    "repetition_pattern = r\"\\[.*?\\]\"\n",
    "annotation_pattern = r\"/\\w\"\n",
    "\n",
    "\n",
    "net_data = net_data.assign(Cleaned_Transcript=net_data['Transcript'].apply(lambda x: re.sub(annotation_pattern, \"\", re.sub(repetition_pattern, \"\", re.sub(mask_pattern, \"\", x)))))\n",
    "net_data = net_data.assign(Stuttering_Count=net_data['Transcript'].apply(lambda x: len(re.findall(mask_pattern, x)) + len(re.findall(repetition_pattern, x)) + len(re.findall(annotation_pattern, x))))"
   ]
  },
  {
   "cell_type": "code",
   "execution_count": 70,
   "id": "0c0f8b87-c5bc-453f-9399-efef62a00a6c",
   "metadata": {
    "tags": []
   },
   "outputs": [
    {
     "data": {
      "text/html": [
       "<div>\n",
       "<style scoped>\n",
       "    .dataframe tbody tr th:only-of-type {\n",
       "        vertical-align: middle;\n",
       "    }\n",
       "\n",
       "    .dataframe tbody tr th {\n",
       "        vertical-align: top;\n",
       "    }\n",
       "\n",
       "    .dataframe thead th {\n",
       "        text-align: right;\n",
       "    }\n",
       "</style>\n",
       "<table border=\"1\" class=\"dataframe\">\n",
       "  <thead>\n",
       "    <tr style=\"text-align: right;\">\n",
       "      <th></th>\n",
       "      <th>Filename</th>\n",
       "      <th>Start_time</th>\n",
       "      <th>End_time</th>\n",
       "      <th>Transcript</th>\n",
       "      <th>Cleaned_Transcript</th>\n",
       "      <th>Stuttering_Count</th>\n",
       "    </tr>\n",
       "  </thead>\n",
       "  <tbody>\n",
       "    <tr>\n",
       "      <th>0</th>\n",
       "      <td>D0045_A</td>\n",
       "      <td>48.330</td>\n",
       "      <td>58.020</td>\n",
       "      <td>嗯，我[我/b我]现在已经工作了，我是/p一八年毕业的，然后我的专业是/p国际经济与贸易。</td>\n",
       "      <td>嗯，我现在已经工作了，我是一八年毕业的，然后我的专业是国际经济与贸易。</td>\n",
       "      <td>4</td>\n",
       "    </tr>\n",
       "    <tr>\n",
       "      <th>1</th>\n",
       "      <td>D0045_A</td>\n",
       "      <td>58.900</td>\n",
       "      <td>72.140</td>\n",
       "      <td>然后我现在嗯/i/p我现在的工作是/p[是]在/p[是在]&lt;人民银行&gt;，但是这个工作就是/p...</td>\n",
       "      <td>然后我现在嗯我现在的工作是在，但是这个工作就是可能快要就不干了。</td>\n",
       "      <td>8</td>\n",
       "    </tr>\n",
       "    <tr>\n",
       "      <th>2</th>\n",
       "      <td>D0045_A</td>\n",
       "      <td>74.100</td>\n",
       "      <td>81.260</td>\n",
       "      <td>嗯/i/p然后我平常的爱好是/p比较喜欢看电影，然后还喜欢打网球。</td>\n",
       "      <td>嗯然后我平常的爱好是比较喜欢看电影，然后还喜欢打网球。</td>\n",
       "      <td>3</td>\n",
       "    </tr>\n",
       "    <tr>\n",
       "      <th>3</th>\n",
       "      <td>D0045_A</td>\n",
       "      <td>84.930</td>\n",
       "      <td>86.320</td>\n",
       "      <td>嗯/i&lt;overlap&gt;结束了。</td>\n",
       "      <td>嗯结束了。</td>\n",
       "      <td>2</td>\n",
       "    </tr>\n",
       "    <tr>\n",
       "      <th>4</th>\n",
       "      <td>D0045_A</td>\n",
       "      <td>100.950</td>\n",
       "      <td>113.700</td>\n",
       "      <td>嗯，这个就是它[它]不是银行系统，然后它然/r后那个之所以不干，是因为就是这个，嗯/i就是现...</td>\n",
       "      <td>嗯，这个就是它不是银行系统，然后它然后那个之所以不干，是因为就是这个，嗯就是现在人民银行的县...</td>\n",
       "      <td>4</td>\n",
       "    </tr>\n",
       "    <tr>\n",
       "      <th>...</th>\n",
       "      <td>...</td>\n",
       "      <td>...</td>\n",
       "      <td>...</td>\n",
       "      <td>...</td>\n",
       "      <td>...</td>\n",
       "      <td>...</td>\n",
       "    </tr>\n",
       "    <tr>\n",
       "      <th>135</th>\n",
       "      <td>P0030</td>\n",
       "      <td>3202.732</td>\n",
       "      <td>3213.472</td>\n",
       "      <td>单曲循环歌曲最[最最]爱的为何没结果。</td>\n",
       "      <td>单曲循环歌曲最爱的为何没结果。</td>\n",
       "      <td>1</td>\n",
       "    </tr>\n",
       "    <tr>\n",
       "      <th>136</th>\n",
       "      <td>P0030</td>\n",
       "      <td>3216.222</td>\n",
       "      <td>3221.042</td>\n",
       "      <td>来[来]一首朴/p树的歌。</td>\n",
       "      <td>来一首朴树的歌。</td>\n",
       "      <td>2</td>\n",
       "    </tr>\n",
       "    <tr>\n",
       "      <th>137</th>\n",
       "      <td>P0030</td>\n",
       "      <td>3225.732</td>\n",
       "      <td>3236.142</td>\n",
       "      <td>搜[搜/r/b搜]索小灿的多/p年/p/r/b以后。</td>\n",
       "      <td>搜索小灿的多年以后。</td>\n",
       "      <td>7</td>\n",
       "    </tr>\n",
       "    <tr>\n",
       "      <th>138</th>\n",
       "      <td>P0030</td>\n",
       "      <td>3240.652</td>\n",
       "      <td>3253.172</td>\n",
       "      <td>播放半吨/b/r/p孙弟歌孙兄弟的歌。</td>\n",
       "      <td>播放半吨孙弟歌孙兄弟的歌。</td>\n",
       "      <td>3</td>\n",
       "    </tr>\n",
       "    <tr>\n",
       "      <th>139</th>\n",
       "      <td>P0030</td>\n",
       "      <td>3256.672</td>\n",
       "      <td>3264.012</td>\n",
       "      <td>单/p曲循环歌/p曲你的灵魂。</td>\n",
       "      <td>单曲循环歌曲你的灵魂。</td>\n",
       "      <td>2</td>\n",
       "    </tr>\n",
       "  </tbody>\n",
       "</table>\n",
       "<p>37250 rows × 6 columns</p>\n",
       "</div>"
      ],
      "text/plain": [
       "    Filename  Start_time  End_time  \\\n",
       "0    D0045_A      48.330    58.020   \n",
       "1    D0045_A      58.900    72.140   \n",
       "2    D0045_A      74.100    81.260   \n",
       "3    D0045_A      84.930    86.320   \n",
       "4    D0045_A     100.950   113.700   \n",
       "..       ...         ...       ...   \n",
       "135    P0030    3202.732  3213.472   \n",
       "136    P0030    3216.222  3221.042   \n",
       "137    P0030    3225.732  3236.142   \n",
       "138    P0030    3240.652  3253.172   \n",
       "139    P0030    3256.672  3264.012   \n",
       "\n",
       "                                            Transcript  \\\n",
       "0        嗯，我[我/b我]现在已经工作了，我是/p一八年毕业的，然后我的专业是/p国际经济与贸易。   \n",
       "1    然后我现在嗯/i/p我现在的工作是/p[是]在/p[是在]<人民银行>，但是这个工作就是/p...   \n",
       "2                    嗯/i/p然后我平常的爱好是/p比较喜欢看电影，然后还喜欢打网球。   \n",
       "3                                     嗯/i<overlap>结束了。   \n",
       "4    嗯，这个就是它[它]不是银行系统，然后它然/r后那个之所以不干，是因为就是这个，嗯/i就是现...   \n",
       "..                                                 ...   \n",
       "135                                单曲循环歌曲最[最最]爱的为何没结果。   \n",
       "136                                      来[来]一首朴/p树的歌。   \n",
       "137                         搜[搜/r/b搜]索小灿的多/p年/p/r/b以后。   \n",
       "138                                播放半吨/b/r/p孙弟歌孙兄弟的歌。   \n",
       "139                                    单/p曲循环歌/p曲你的灵魂。   \n",
       "\n",
       "                                    Cleaned_Transcript  Stuttering_Count  \n",
       "0                  嗯，我现在已经工作了，我是一八年毕业的，然后我的专业是国际经济与贸易。                 4  \n",
       "1                     然后我现在嗯我现在的工作是在，但是这个工作就是可能快要就不干了。                 8  \n",
       "2                          嗯然后我平常的爱好是比较喜欢看电影，然后还喜欢打网球。                 3  \n",
       "3                                                嗯结束了。                 2  \n",
       "4    嗯，这个就是它不是银行系统，然后它然后那个之所以不干，是因为就是这个，嗯就是现在人民银行的县...                 4  \n",
       "..                                                 ...               ...  \n",
       "135                                    单曲循环歌曲最爱的为何没结果。                 1  \n",
       "136                                           来一首朴树的歌。                 2  \n",
       "137                                         搜索小灿的多年以后。                 7  \n",
       "138                                      播放半吨孙弟歌孙兄弟的歌。                 3  \n",
       "139                                        单曲循环歌曲你的灵魂。                 2  \n",
       "\n",
       "[37250 rows x 6 columns]"
      ]
     },
     "execution_count": 70,
     "metadata": {},
     "output_type": "execute_result"
    }
   ],
   "source": [
    "net_data"
   ]
  },
  {
   "cell_type": "code",
   "execution_count": 71,
   "id": "04a8c032-607b-4eb7-ac99-6d82c28d846a",
   "metadata": {
    "tags": []
   },
   "outputs": [
    {
     "data": {
      "text/html": [
       "<div>\n",
       "<style scoped>\n",
       "    .dataframe tbody tr th:only-of-type {\n",
       "        vertical-align: middle;\n",
       "    }\n",
       "\n",
       "    .dataframe tbody tr th {\n",
       "        vertical-align: top;\n",
       "    }\n",
       "\n",
       "    .dataframe thead th {\n",
       "        text-align: right;\n",
       "    }\n",
       "</style>\n",
       "<table border=\"1\" class=\"dataframe\">\n",
       "  <thead>\n",
       "    <tr style=\"text-align: right;\">\n",
       "      <th></th>\n",
       "      <th>Filename</th>\n",
       "      <th>Start_time</th>\n",
       "      <th>End_time</th>\n",
       "      <th>Whisper_large</th>\n",
       "    </tr>\n",
       "  </thead>\n",
       "  <tbody>\n",
       "    <tr>\n",
       "      <th>0</th>\n",
       "      <td>D0001_A</td>\n",
       "      <td>2081.540000</td>\n",
       "      <td>2109.650000</td>\n",
       "      <td>我说出来就比较的需要时间然后识别的他等你一会儿你那个话还没有说完还没有说出来的话他就取消了也...</td>\n",
       "    </tr>\n",
       "    <tr>\n",
       "      <th>1</th>\n",
       "      <td>D0001_A</td>\n",
       "      <td>790.130000</td>\n",
       "      <td>796.580000</td>\n",
       "      <td>第四句有我说的话</td>\n",
       "    </tr>\n",
       "    <tr>\n",
       "      <th>2</th>\n",
       "      <td>D0001_A</td>\n",
       "      <td>1562.083518</td>\n",
       "      <td>1586.220000</td>\n",
       "      <td>这部剧评分是不怎么好的因为评论区的那些人都在说男二号好惨的那个就那么情绪但是就一直输给男主角</td>\n",
       "    </tr>\n",
       "    <tr>\n",
       "      <th>3</th>\n",
       "      <td>D0001_A</td>\n",
       "      <td>2016.780000</td>\n",
       "      <td>2035.673559</td>\n",
       "      <td>很精准迅飞语音还是迅飞出手来的我记得他是叫迅飞我之前就是他</td>\n",
       "    </tr>\n",
       "    <tr>\n",
       "      <th>4</th>\n",
       "      <td>D0001_A</td>\n",
       "      <td>1682.670000</td>\n",
       "      <td>1709.110000</td>\n",
       "      <td>那个是叫什么来的我忘了就是出现了另一个人然后呢他就射了一把箭然后就把那个男二号给绑杀了就是可...</td>\n",
       "    </tr>\n",
       "    <tr>\n",
       "      <th>...</th>\n",
       "      <td>...</td>\n",
       "      <td>...</td>\n",
       "      <td>...</td>\n",
       "      <td>...</td>\n",
       "    </tr>\n",
       "    <tr>\n",
       "      <th>37248</th>\n",
       "      <td>P0070</td>\n",
       "      <td>2586.616000</td>\n",
       "      <td>2589.346000</td>\n",
       "      <td>三曲循环歌曲这样而已</td>\n",
       "    </tr>\n",
       "    <tr>\n",
       "      <th>37249</th>\n",
       "      <td>P0070</td>\n",
       "      <td>2782.496000</td>\n",
       "      <td>2783.706000</td>\n",
       "      <td>杨幂的电影</td>\n",
       "    </tr>\n",
       "    <tr>\n",
       "      <th>37250</th>\n",
       "      <td>P0070</td>\n",
       "      <td>2995.296000</td>\n",
       "      <td>2998.116000</td>\n",
       "      <td>你好米亚今天柴油价怎么样</td>\n",
       "    </tr>\n",
       "    <tr>\n",
       "      <th>37251</th>\n",
       "      <td>P0070</td>\n",
       "      <td>2604.066000</td>\n",
       "      <td>2606.656000</td>\n",
       "      <td>单曲循环歌曲 琉璃光之歌</td>\n",
       "    </tr>\n",
       "    <tr>\n",
       "      <th>37252</th>\n",
       "      <td>P0070</td>\n",
       "      <td>2434.606000</td>\n",
       "      <td>2436.576000</td>\n",
       "      <td>導航到隆城民院</td>\n",
       "    </tr>\n",
       "  </tbody>\n",
       "</table>\n",
       "<p>37253 rows × 4 columns</p>\n",
       "</div>"
      ],
      "text/plain": [
       "      Filename   Start_time     End_time  \\\n",
       "0      D0001_A  2081.540000  2109.650000   \n",
       "1      D0001_A   790.130000   796.580000   \n",
       "2      D0001_A  1562.083518  1586.220000   \n",
       "3      D0001_A  2016.780000  2035.673559   \n",
       "4      D0001_A  1682.670000  1709.110000   \n",
       "...        ...          ...          ...   \n",
       "37248    P0070  2586.616000  2589.346000   \n",
       "37249    P0070  2782.496000  2783.706000   \n",
       "37250    P0070  2995.296000  2998.116000   \n",
       "37251    P0070  2604.066000  2606.656000   \n",
       "37252    P0070  2434.606000  2436.576000   \n",
       "\n",
       "                                           Whisper_large  \n",
       "0      我说出来就比较的需要时间然后识别的他等你一会儿你那个话还没有说完还没有说出来的话他就取消了也...  \n",
       "1                                               第四句有我说的话  \n",
       "2         这部剧评分是不怎么好的因为评论区的那些人都在说男二号好惨的那个就那么情绪但是就一直输给男主角  \n",
       "3                          很精准迅飞语音还是迅飞出手来的我记得他是叫迅飞我之前就是他  \n",
       "4      那个是叫什么来的我忘了就是出现了另一个人然后呢他就射了一把箭然后就把那个男二号给绑杀了就是可...  \n",
       "...                                                  ...  \n",
       "37248                                         三曲循环歌曲这样而已  \n",
       "37249                                              杨幂的电影  \n",
       "37250                                       你好米亚今天柴油价怎么样  \n",
       "37251                                       单曲循环歌曲 琉璃光之歌  \n",
       "37252                                            導航到隆城民院  \n",
       "\n",
       "[37253 rows x 4 columns]"
      ]
     },
     "execution_count": 71,
     "metadata": {},
     "output_type": "execute_result"
    }
   ],
   "source": [
    "net_aigenerated_data_whisper_large"
   ]
  },
  {
   "cell_type": "markdown",
   "id": "aecb51da-6d54-4cce-96ea-68e7b5f5e160",
   "metadata": {},
   "source": [
    "***"
   ]
  },
  {
   "cell_type": "markdown",
   "id": "c04002d0-99ab-4b8a-95c0-f4b0373affa8",
   "metadata": {},
   "source": [
    "## Exploration Sector (For validation)"
   ]
  },
  {
   "cell_type": "code",
   "execution_count": 72,
   "id": "f03b29a6-5973-4cdb-b19c-7cf3edfb4aee",
   "metadata": {
    "tags": []
   },
   "outputs": [
    {
     "data": {
      "text/html": [
       "<div>\n",
       "<style scoped>\n",
       "    .dataframe tbody tr th:only-of-type {\n",
       "        vertical-align: middle;\n",
       "    }\n",
       "\n",
       "    .dataframe tbody tr th {\n",
       "        vertical-align: top;\n",
       "    }\n",
       "\n",
       "    .dataframe thead th {\n",
       "        text-align: right;\n",
       "    }\n",
       "</style>\n",
       "<table border=\"1\" class=\"dataframe\">\n",
       "  <thead>\n",
       "    <tr style=\"text-align: right;\">\n",
       "      <th></th>\n",
       "      <th>Filename</th>\n",
       "      <th>Start_time</th>\n",
       "      <th>End_time</th>\n",
       "      <th>Transcript</th>\n",
       "      <th>Cleaned_Transcript</th>\n",
       "      <th>Stuttering_Count</th>\n",
       "    </tr>\n",
       "  </thead>\n",
       "  <tbody>\n",
       "    <tr>\n",
       "      <th>106</th>\n",
       "      <td>D0022_A</td>\n",
       "      <td>1201.99</td>\n",
       "      <td>1205.47</td>\n",
       "      <td>对对对对对确实[确实]。</td>\n",
       "      <td>对对对对对确实。</td>\n",
       "      <td>1</td>\n",
       "    </tr>\n",
       "  </tbody>\n",
       "</table>\n",
       "</div>"
      ],
      "text/plain": [
       "    Filename  Start_time  End_time    Transcript Cleaned_Transcript  \\\n",
       "106  D0022_A     1201.99   1205.47  对对对对对确实[确实]。           对对对对对确实。   \n",
       "\n",
       "     Stuttering_Count  \n",
       "106                 1  "
      ]
     },
     "execution_count": 72,
     "metadata": {},
     "output_type": "execute_result"
    }
   ],
   "source": [
    "net_data[net_data[\"Start_time\"] == 1201.99]"
   ]
  },
  {
   "cell_type": "code",
   "execution_count": 73,
   "id": "0e5f438e-e454-4000-87c2-9a6dfb19a499",
   "metadata": {
    "tags": []
   },
   "outputs": [
    {
     "data": {
      "text/html": [
       "<div>\n",
       "<style scoped>\n",
       "    .dataframe tbody tr th:only-of-type {\n",
       "        vertical-align: middle;\n",
       "    }\n",
       "\n",
       "    .dataframe tbody tr th {\n",
       "        vertical-align: top;\n",
       "    }\n",
       "\n",
       "    .dataframe thead th {\n",
       "        text-align: right;\n",
       "    }\n",
       "</style>\n",
       "<table border=\"1\" class=\"dataframe\">\n",
       "  <thead>\n",
       "    <tr style=\"text-align: right;\">\n",
       "      <th></th>\n",
       "      <th>Filename</th>\n",
       "      <th>Start_time</th>\n",
       "      <th>End_time</th>\n",
       "      <th>Whisper_large</th>\n",
       "    </tr>\n",
       "  </thead>\n",
       "  <tbody>\n",
       "    <tr>\n",
       "      <th>2713</th>\n",
       "      <td>D0022_A</td>\n",
       "      <td>1201.99</td>\n",
       "      <td>1205.47</td>\n",
       "      <td>tweet tweet tweet tweet tweet트를 � energized</td>\n",
       "    </tr>\n",
       "  </tbody>\n",
       "</table>\n",
       "</div>"
      ],
      "text/plain": [
       "     Filename  Start_time  End_time  \\\n",
       "2713  D0022_A     1201.99   1205.47   \n",
       "\n",
       "                                     Whisper_large  \n",
       "2713   tweet tweet tweet tweet tweet트를 � energized  "
      ]
     },
     "execution_count": 73,
     "metadata": {},
     "output_type": "execute_result"
    }
   ],
   "source": [
    "net_aigenerated_data_whisper_large[net_aigenerated_data_whisper_large[\"Start_time\"] == 1201.99]"
   ]
  },
  {
   "cell_type": "markdown",
   "id": "10d8db0c-25e1-4908-992d-6dc595105586",
   "metadata": {},
   "source": [
    "***"
   ]
  },
  {
   "cell_type": "markdown",
   "id": "70509616-62dc-494d-9914-f96010242e1c",
   "metadata": {},
   "source": [
    "**Now we have raw data of all audio transcriptions from datasets [updated_annotation_deid_full] in `net_data` and AI predicted transcriptions in `net_aigenerated_data_whisper_large`**"
   ]
  },
  {
   "cell_type": "markdown",
   "id": "ced1999f-2d44-4709-8169-719369c1067c",
   "metadata": {},
   "source": [
    "***"
   ]
  },
  {
   "cell_type": "markdown",
   "id": "060e2625-861c-4bd9-a7b2-82db58f4e931",
   "metadata": {},
   "source": [
    "## Whisper Large WER Analysis"
   ]
  },
  {
   "cell_type": "code",
   "execution_count": 74,
   "id": "a194fb38-ea3c-4028-92be-c106a00e84a8",
   "metadata": {
    "tags": []
   },
   "outputs": [
    {
     "name": "stderr",
     "output_type": "stream",
     "text": [
      "  5%|▍         | 1850/37253 [00:12<03:52, 151.99it/s]"
     ]
    },
    {
     "name": "stdout",
     "output_type": "stream",
     "text": [
      "Skipping: One of the rows is empty.\n"
     ]
    },
    {
     "name": "stderr",
     "output_type": "stream",
     "text": [
      " 13%|█▎        | 4705/37253 [00:32<03:32, 153.36it/s]"
     ]
    },
    {
     "name": "stdout",
     "output_type": "stream",
     "text": [
      "Skipping due to missing or non-string Whisper_large.\n"
     ]
    },
    {
     "name": "stderr",
     "output_type": "stream",
     "text": [
      " 15%|█▌        | 5629/37253 [00:38<03:37, 145.35it/s]"
     ]
    },
    {
     "name": "stdout",
     "output_type": "stream",
     "text": [
      "Skipping due to missing or non-string Whisper_large.\n"
     ]
    },
    {
     "name": "stderr",
     "output_type": "stream",
     "text": [
      " 16%|█▌        | 5806/37253 [00:39<03:52, 135.02it/s]"
     ]
    },
    {
     "name": "stdout",
     "output_type": "stream",
     "text": [
      "Skipping due to missing or non-string Whisper_large.\n"
     ]
    },
    {
     "name": "stderr",
     "output_type": "stream",
     "text": [
      " 17%|█▋        | 6229/37253 [00:42<03:23, 152.20it/s]"
     ]
    },
    {
     "name": "stdout",
     "output_type": "stream",
     "text": [
      "Skipping due to missing or non-string Whisper_large.\n"
     ]
    },
    {
     "name": "stderr",
     "output_type": "stream",
     "text": [
      " 28%|██▊       | 10498/37253 [01:11<03:09, 141.55it/s]"
     ]
    },
    {
     "name": "stdout",
     "output_type": "stream",
     "text": [
      "Skipping: One of the rows is empty.\n"
     ]
    },
    {
     "name": "stderr",
     "output_type": "stream",
     "text": [
      " 36%|███▌      | 13332/37253 [01:30<02:41, 148.11it/s]"
     ]
    },
    {
     "name": "stdout",
     "output_type": "stream",
     "text": [
      "Skipping due to missing or non-string Whisper_large.\n"
     ]
    },
    {
     "name": "stderr",
     "output_type": "stream",
     "text": [
      " 44%|████▍     | 16507/37253 [01:50<02:00, 171.59it/s]"
     ]
    },
    {
     "name": "stdout",
     "output_type": "stream",
     "text": [
      "Skipping due to missing or non-string Whisper_large.\n"
     ]
    },
    {
     "name": "stderr",
     "output_type": "stream",
     "text": [
      " 91%|█████████▏| 34070/37253 [03:32<00:18, 168.53it/s]"
     ]
    },
    {
     "name": "stdout",
     "output_type": "stream",
     "text": [
      "Skipping: One of the rows is empty.\n"
     ]
    },
    {
     "name": "stderr",
     "output_type": "stream",
     "text": [
      " 92%|█████████▏| 34104/37253 [03:33<00:18, 168.21it/s]"
     ]
    },
    {
     "name": "stdout",
     "output_type": "stream",
     "text": [
      "Skipping: One of the rows is empty.\n"
     ]
    },
    {
     "name": "stderr",
     "output_type": "stream",
     "text": [
      " 93%|█████████▎| 34601/37253 [03:36<00:15, 167.72it/s]"
     ]
    },
    {
     "name": "stdout",
     "output_type": "stream",
     "text": [
      "Skipping: One of the rows is empty.\n"
     ]
    },
    {
     "name": "stderr",
     "output_type": "stream",
     "text": [
      "100%|██████████| 37253/37253 [03:51<00:00, 160.82it/s]\n"
     ]
    }
   ],
   "source": [
    "na_count_large = 0\n",
    "na_count_cleaned = 0\n",
    "for index, row in tqdm(net_aigenerated_data_whisper_large.iterrows(), total=len(net_aigenerated_data_whisper_large)):\n",
    "    \n",
    "    mask_large = (\n",
    "        (net_aigenerated_data_whisper_large[\"Filename\"] == row[\"Filename\"]) &\n",
    "        (net_aigenerated_data_whisper_large[\"Start_time\"] == row[\"Start_time\"])\n",
    "    )\n",
    "\n",
    "    mask_net = (\n",
    "        (net_data[\"Filename\"] == row[\"Filename\"]) &\n",
    "        (net_data[\"Start_time\"] == row[\"Start_time\"])\n",
    "    )\n",
    "\n",
    "    \n",
    "    large_row = net_aigenerated_data_whisper_large.loc[mask_large]\n",
    "    net_row = net_data.loc[mask_net]\n",
    "\n",
    "    # print(large_row)\n",
    "    # print('\\n\\n\\n\\n')\n",
    "    # print(net_row)\n",
    "    \n",
    "    if large_row.empty or net_row.empty:\n",
    "        print(\"Skipping: One of the rows is empty.\")\n",
    "        continue\n",
    "        \n",
    "    whisper_large = large_row[\"Whisper_large\"].values[0]\n",
    "    cleaned_transcript = net_row[\"Cleaned_Transcript\"].values[0]\n",
    "    \n",
    "    if pd.isna(whisper_large) or not isinstance(whisper_large, str):\n",
    "        print(\"Skipping due to missing or non-string Whisper_large.\")\n",
    "        na_count_large = na_count_large + 1\n",
    "        continue\n",
    "    if pd.isna(cleaned_transcript) or not isinstance(cleaned_transcript, str):\n",
    "        print(\"Skipping due to missing or non-string Cleaned_Transcript.\")\n",
    "        na_count_cleaned = na_count_cleaned + 1\n",
    "        continue\n",
    "\n",
    "    try:\n",
    "        \n",
    "        wer_value = wer(whisper_large, cleaned_transcript)\n",
    "        \n",
    "        net_aigenerated_data_whisper_large.loc[mask_large, \"WER\"] = wer_value\n",
    "        \n",
    "        Stuttering_Count = net_row[\"Stuttering_Count\"].values[0]\n",
    "        net_aigenerated_data_whisper_large.loc[mask_large, \"Stuttering_Count\"] = Stuttering_Count\n",
    "        net_aigenerated_data_whisper_large.loc[mask_large, \"Stu-wer-compared-groundtruth\"] = cleaned_transcript\n",
    "\n",
    "        # Verify assignment\n",
    "        # print(f'Assigned Stuttering_Count: {Stuttering_Count}')\n",
    "        # print(net_aigenerated_data_whisper_large.loc[mask_large, \"Stuttering_Count\"])\n",
    "\n",
    "    except Exception as e:\n",
    "        print(f'ERROR: {e}')\n",
    "        print('Occurred with the following data:')\n",
    "        print(large_row)\n",
    "        print(net_row)\n",
    "        \n",
    "net_aigenerated_data_whisper_large = net_aigenerated_data_whisper_large.assign(NA_Count=na_count_large)\n",
    "net_aigenerated_data_whisper_large = net_aigenerated_data_whisper_large.assign(NA_Cleaned_Count=na_count_cleaned)"
   ]
  },
  {
   "cell_type": "code",
   "execution_count": 75,
   "id": "6bc3731c-0be0-4659-955b-5d47f7e33137",
   "metadata": {
    "tags": []
   },
   "outputs": [
    {
     "data": {
      "text/html": [
       "<div>\n",
       "<style scoped>\n",
       "    .dataframe tbody tr th:only-of-type {\n",
       "        vertical-align: middle;\n",
       "    }\n",
       "\n",
       "    .dataframe tbody tr th {\n",
       "        vertical-align: top;\n",
       "    }\n",
       "\n",
       "    .dataframe thead th {\n",
       "        text-align: right;\n",
       "    }\n",
       "</style>\n",
       "<table border=\"1\" class=\"dataframe\">\n",
       "  <thead>\n",
       "    <tr style=\"text-align: right;\">\n",
       "      <th></th>\n",
       "      <th>Filename</th>\n",
       "      <th>Start_time</th>\n",
       "      <th>End_time</th>\n",
       "      <th>Whisper_large</th>\n",
       "      <th>WER</th>\n",
       "      <th>Stuttering_Count</th>\n",
       "      <th>Stu-wer-compared-groundtruth</th>\n",
       "      <th>NA_Count</th>\n",
       "      <th>NA_Cleaned_Count</th>\n",
       "    </tr>\n",
       "  </thead>\n",
       "  <tbody>\n",
       "    <tr>\n",
       "      <th>0</th>\n",
       "      <td>D0001_A</td>\n",
       "      <td>2081.540000</td>\n",
       "      <td>2109.650000</td>\n",
       "      <td>我说出来就比较的需要时间然后识别的他等你一会儿你那个话还没有说完还没有说出来的话他就取消了也...</td>\n",
       "      <td>0.247423</td>\n",
       "      <td>1.0</td>\n",
       "      <td>我说出来就比较的需要时间，哦，然后那个嗯识别的它的就是它等你一会儿，你那个话还没有说完，的还...</td>\n",
       "      <td>6</td>\n",
       "      <td>0</td>\n",
       "    </tr>\n",
       "    <tr>\n",
       "      <th>1</th>\n",
       "      <td>D0001_A</td>\n",
       "      <td>790.130000</td>\n",
       "      <td>796.580000</td>\n",
       "      <td>第四句有我说的话</td>\n",
       "      <td>0.500000</td>\n",
       "      <td>1.0</td>\n",
       "      <td>电视剧有，我说的话。</td>\n",
       "      <td>6</td>\n",
       "      <td>0</td>\n",
       "    </tr>\n",
       "    <tr>\n",
       "      <th>2</th>\n",
       "      <td>D0001_A</td>\n",
       "      <td>1562.083518</td>\n",
       "      <td>1586.220000</td>\n",
       "      <td>这部剧评分是不怎么好的因为评论区的那些人都在说男二号好惨的那个就那么情绪但是就一直输给男主角</td>\n",
       "      <td>0.312500</td>\n",
       "      <td>10.0</td>\n",
       "      <td>这部剧是不怎么，评分是不怎么好的，呃就因为呃评论区的那些人，他们都在说，呃男二号就好惨的那个...</td>\n",
       "      <td>6</td>\n",
       "      <td>0</td>\n",
       "    </tr>\n",
       "    <tr>\n",
       "      <th>3</th>\n",
       "      <td>D0001_A</td>\n",
       "      <td>2016.780000</td>\n",
       "      <td>2035.673559</td>\n",
       "      <td>很精准迅飞语音还是迅飞出手来的我记得他是叫迅飞我之前就是他</td>\n",
       "      <td>0.394737</td>\n",
       "      <td>7.0</td>\n",
       "      <td>很精准，对，呃讯飞语音还是讯飞助手来着，就我记得它是叫讯飞，我之前就是它呃是</td>\n",
       "      <td>6</td>\n",
       "      <td>0</td>\n",
       "    </tr>\n",
       "    <tr>\n",
       "      <th>4</th>\n",
       "      <td>D0001_A</td>\n",
       "      <td>1682.670000</td>\n",
       "      <td>1709.110000</td>\n",
       "      <td>那个是叫什么来的我忘了就是出现了另一个人然后呢他就射了一把箭然后就把那个男二号给绑杀了就是可...</td>\n",
       "      <td>0.250000</td>\n",
       "      <td>8.0</td>\n",
       "      <td>一个那个是嗯叫啥来着，我忘了，就是出现了另一个人，然后呢他就射了一把剑，然后就把那个嗯男二号...</td>\n",
       "      <td>6</td>\n",
       "      <td>0</td>\n",
       "    </tr>\n",
       "    <tr>\n",
       "      <th>...</th>\n",
       "      <td>...</td>\n",
       "      <td>...</td>\n",
       "      <td>...</td>\n",
       "      <td>...</td>\n",
       "      <td>...</td>\n",
       "      <td>...</td>\n",
       "      <td>...</td>\n",
       "      <td>...</td>\n",
       "      <td>...</td>\n",
       "    </tr>\n",
       "    <tr>\n",
       "      <th>37248</th>\n",
       "      <td>P0070</td>\n",
       "      <td>2586.616000</td>\n",
       "      <td>2589.346000</td>\n",
       "      <td>三曲循环歌曲这样而已</td>\n",
       "      <td>0.181818</td>\n",
       "      <td>0.0</td>\n",
       "      <td>单曲循环歌曲这样而已。</td>\n",
       "      <td>6</td>\n",
       "      <td>0</td>\n",
       "    </tr>\n",
       "    <tr>\n",
       "      <th>37249</th>\n",
       "      <td>P0070</td>\n",
       "      <td>2782.496000</td>\n",
       "      <td>2783.706000</td>\n",
       "      <td>杨幂的电影</td>\n",
       "      <td>0.166667</td>\n",
       "      <td>0.0</td>\n",
       "      <td>杨幂的电影。</td>\n",
       "      <td>6</td>\n",
       "      <td>0</td>\n",
       "    </tr>\n",
       "    <tr>\n",
       "      <th>37250</th>\n",
       "      <td>P0070</td>\n",
       "      <td>2995.296000</td>\n",
       "      <td>2998.116000</td>\n",
       "      <td>你好米亚今天柴油价怎么样</td>\n",
       "      <td>0.266667</td>\n",
       "      <td>0.0</td>\n",
       "      <td>你好，米雅，今天柴油价怎么样。</td>\n",
       "      <td>6</td>\n",
       "      <td>0</td>\n",
       "    </tr>\n",
       "    <tr>\n",
       "      <th>37251</th>\n",
       "      <td>P0070</td>\n",
       "      <td>2604.066000</td>\n",
       "      <td>2606.656000</td>\n",
       "      <td>单曲循环歌曲 琉璃光之歌</td>\n",
       "      <td>0.166667</td>\n",
       "      <td>0.0</td>\n",
       "      <td>单曲循环歌曲琉璃光之歌。</td>\n",
       "      <td>6</td>\n",
       "      <td>0</td>\n",
       "    </tr>\n",
       "    <tr>\n",
       "      <th>37252</th>\n",
       "      <td>P0070</td>\n",
       "      <td>2434.606000</td>\n",
       "      <td>2436.576000</td>\n",
       "      <td>導航到隆城民院</td>\n",
       "      <td>0.500000</td>\n",
       "      <td>0.0</td>\n",
       "      <td>导航到荣城名苑。</td>\n",
       "      <td>6</td>\n",
       "      <td>0</td>\n",
       "    </tr>\n",
       "  </tbody>\n",
       "</table>\n",
       "<p>37253 rows × 9 columns</p>\n",
       "</div>"
      ],
      "text/plain": [
       "      Filename   Start_time     End_time  \\\n",
       "0      D0001_A  2081.540000  2109.650000   \n",
       "1      D0001_A   790.130000   796.580000   \n",
       "2      D0001_A  1562.083518  1586.220000   \n",
       "3      D0001_A  2016.780000  2035.673559   \n",
       "4      D0001_A  1682.670000  1709.110000   \n",
       "...        ...          ...          ...   \n",
       "37248    P0070  2586.616000  2589.346000   \n",
       "37249    P0070  2782.496000  2783.706000   \n",
       "37250    P0070  2995.296000  2998.116000   \n",
       "37251    P0070  2604.066000  2606.656000   \n",
       "37252    P0070  2434.606000  2436.576000   \n",
       "\n",
       "                                           Whisper_large       WER  \\\n",
       "0      我说出来就比较的需要时间然后识别的他等你一会儿你那个话还没有说完还没有说出来的话他就取消了也...  0.247423   \n",
       "1                                               第四句有我说的话  0.500000   \n",
       "2         这部剧评分是不怎么好的因为评论区的那些人都在说男二号好惨的那个就那么情绪但是就一直输给男主角  0.312500   \n",
       "3                          很精准迅飞语音还是迅飞出手来的我记得他是叫迅飞我之前就是他  0.394737   \n",
       "4      那个是叫什么来的我忘了就是出现了另一个人然后呢他就射了一把箭然后就把那个男二号给绑杀了就是可...  0.250000   \n",
       "...                                                  ...       ...   \n",
       "37248                                         三曲循环歌曲这样而已  0.181818   \n",
       "37249                                              杨幂的电影  0.166667   \n",
       "37250                                       你好米亚今天柴油价怎么样  0.266667   \n",
       "37251                                       单曲循环歌曲 琉璃光之歌  0.166667   \n",
       "37252                                            導航到隆城民院  0.500000   \n",
       "\n",
       "       Stuttering_Count                       Stu-wer-compared-groundtruth  \\\n",
       "0                   1.0  我说出来就比较的需要时间，哦，然后那个嗯识别的它的就是它等你一会儿，你那个话还没有说完，的还...   \n",
       "1                   1.0                                         电视剧有，我说的话。   \n",
       "2                  10.0  这部剧是不怎么，评分是不怎么好的，呃就因为呃评论区的那些人，他们都在说，呃男二号就好惨的那个...   \n",
       "3                   7.0             很精准，对，呃讯飞语音还是讯飞助手来着，就我记得它是叫讯飞，我之前就是它呃是   \n",
       "4                   8.0  一个那个是嗯叫啥来着，我忘了，就是出现了另一个人，然后呢他就射了一把剑，然后就把那个嗯男二号...   \n",
       "...                 ...                                                ...   \n",
       "37248               0.0                                        单曲循环歌曲这样而已。   \n",
       "37249               0.0                                             杨幂的电影。   \n",
       "37250               0.0                                    你好，米雅，今天柴油价怎么样。   \n",
       "37251               0.0                                       单曲循环歌曲琉璃光之歌。   \n",
       "37252               0.0                                           导航到荣城名苑。   \n",
       "\n",
       "       NA_Count  NA_Cleaned_Count  \n",
       "0             6                 0  \n",
       "1             6                 0  \n",
       "2             6                 0  \n",
       "3             6                 0  \n",
       "4             6                 0  \n",
       "...         ...               ...  \n",
       "37248         6                 0  \n",
       "37249         6                 0  \n",
       "37250         6                 0  \n",
       "37251         6                 0  \n",
       "37252         6                 0  \n",
       "\n",
       "[37253 rows x 9 columns]"
      ]
     },
     "execution_count": 75,
     "metadata": {},
     "output_type": "execute_result"
    }
   ],
   "source": [
    "net_aigenerated_data_whisper_large"
   ]
  },
  {
   "cell_type": "code",
   "execution_count": 76,
   "id": "2d13f850-6e69-4fa2-871a-4cfdadf86f3b",
   "metadata": {
    "tags": []
   },
   "outputs": [
    {
     "data": {
      "text/plain": [
       "Filename                         0\n",
       "Start_time                       0\n",
       "End_time                         0\n",
       "Whisper_large                    6\n",
       "WER                             11\n",
       "Stuttering_Count                11\n",
       "Stu-wer-compared-groundtruth    11\n",
       "NA_Count                         0\n",
       "NA_Cleaned_Count                 0\n",
       "dtype: int64"
      ]
     },
     "execution_count": 76,
     "metadata": {},
     "output_type": "execute_result"
    }
   ],
   "source": [
    "# net_aigenerated_data_whisper_large[net_aigenerated_data_whisper_large[\"Start_time\"] == 878.01]\n",
    "net_aigenerated_data_whisper_large.isna().sum()"
   ]
  },
  {
   "cell_type": "code",
   "execution_count": 77,
   "id": "3b9a6dfc-fa15-45c4-8c08-1682e3fb482e",
   "metadata": {
    "tags": []
   },
   "outputs": [],
   "source": [
    "net_aigenerated_data_whisper_large.to_csv('net_aigenerated_data_whisper_large_performance_stu.csv', sep=',')"
   ]
  },
  {
   "cell_type": "markdown",
   "id": "79206fa2-50ce-4c59-aece-f17439fdcf92",
   "metadata": {},
   "source": [
    "***"
   ]
  },
  {
   "cell_type": "markdown",
   "id": "5dd854d6-464c-49a3-a82b-c6603567fb0c",
   "metadata": {
    "tags": []
   },
   "source": [
    "## Visualization of Relationship between Stuttering Count and Word Error Rate (Whisper Large)"
   ]
  },
  {
   "cell_type": "code",
   "execution_count": 78,
   "id": "b9f87049-4fd6-447b-aa37-1d3bb808a1e7",
   "metadata": {
    "tags": []
   },
   "outputs": [],
   "source": [
    "## Load data from csv if starting here\n",
    "\n",
    "# net_aigenerated_data_whisper_large = pd.read_csv('/projectnb/ds549/projects/AImpower/evaluation-whisper/net_aigenerated_data_whisper_large_performance_stu.csv', delimiter=',')"
   ]
  },
  {
   "cell_type": "code",
   "execution_count": 79,
   "id": "797a7d2b-f110-4b04-8500-1a956ebf78be",
   "metadata": {
    "tags": []
   },
   "outputs": [],
   "source": [
    "import matplotlib.pyplot as plt"
   ]
  },
  {
   "cell_type": "code",
   "execution_count": 80,
   "id": "414d5c7c-bc01-4dfc-959f-589115e8fd75",
   "metadata": {
    "tags": []
   },
   "outputs": [
    {
     "data": {
      "image/png": "[encoded data removed]",
      "text/plain": [
       "<Figure size 640x480 with 1 Axes>"
      ]
     },
     "metadata": {},
     "output_type": "display_data"
    }
   ],
   "source": [
    "## Null value plots\n",
    "\n",
    "nonnull_count_large = net_aigenerated_data_whisper_large[\"NA_Count\"].count() - net_aigenerated_data_whisper_large.iloc[0][\"NA_Count\"]\n",
    "null_count_large = net_aigenerated_data_whisper_large.iloc[0][\"NA_Count\"]\n",
    "\n",
    "nonnull_count_cleaned = net_aigenerated_data_whisper_large[\"NA_Cleaned_Count\"].count() - net_aigenerated_data_whisper_large.iloc[0][\"NA_Cleaned_Count\"]\n",
    "null_count_cleaned = net_aigenerated_data_whisper_large.iloc[0][\"NA_Cleaned_Count\"]\n",
    "\n",
    "\n",
    "data = {\n",
    "    \"NA Values\": [null_count_large, null_count_cleaned],\n",
    "    \"Non NA Values\": [nonnull_count_large, nonnull_count_cleaned],\n",
    "}\n",
    "\n",
    "species = (\n",
    "    \"Whisper Large\",\n",
    "    \"Cleaned Ground Truth\"\n",
    ")\n",
    "\n",
    "width = 0.5\n",
    "\n",
    "fig, ax = plt.subplots()\n",
    "bottom = np.zeros(2)\n",
    "\n",
    "for na, count in data.items():\n",
    "    p = ax.bar(species, count, width, label=na, bottom=bottom)\n",
    "    bottom += count\n",
    "\n",
    "\n",
    "ax.set_title(\"NA value counting\", fontsize=16)\n",
    "ax.set_xlabel(\"Source\", fontsize=14)\n",
    "ax.set_ylabel(\"Count\", fontsize=14)\n",
    "ax.legend()\n",
    "ax.grid(True)\n",
    "\n",
    "plt.show()"
   ]
  },
  {
   "cell_type": "code",
   "execution_count": 81,
   "id": "c8b57777-464a-43d5-b3c1-510ae5b7f459",
   "metadata": {
    "tags": []
   },
   "outputs": [
    {
     "data": {
      "image/png": "[encoded data removed]",
      "text/plain": [
       "<Figure size 600x400 with 1 Axes>"
      ]
     },
     "metadata": {},
     "output_type": "display_data"
    }
   ],
   "source": [
    "plt.figure(figsize=(6, 4))\n",
    "plt.scatter(\n",
    "    net_aigenerated_data_whisper_large[\"Stuttering_Count\"], \n",
    "    net_aigenerated_data_whisper_large[\"WER\"], \n",
    "    alpha=0.7  # Handle overlapping points\n",
    ")\n",
    "\n",
    "plt.title(\"WER vs Stutterance Count\", fontsize=16)\n",
    "plt.xlabel(\"Stutterance Count\", fontsize=14)\n",
    "plt.ylabel(\"WER\", fontsize=14)\n",
    "plt.grid(True)\n",
    "plt.show()"
   ]
  },
  {
   "cell_type": "code",
   "execution_count": 82,
   "id": "c787eb1b-8b2f-45bd-aca7-2e6490f4a56f",
   "metadata": {
    "tags": []
   },
   "outputs": [
    {
     "data": {
      "image/png": "[encoded data removed]",
      "text/plain": [
       "<Figure size 600x400 with 2 Axes>"
      ]
     },
     "metadata": {},
     "output_type": "display_data"
    }
   ],
   "source": [
    "import seaborn as sns\n",
    "from matplotlib.colors import LinearSegmentedColormap\n",
    "\n",
    "net_aigenerated_data_whisper_large['WER_Binned'] = np.round(net_aigenerated_data_whisper_large['WER'], 2)\n",
    "\n",
    "grouped_data = net_aigenerated_data_whisper_large.groupby(\n",
    "    ['Stuttering_Count', 'WER_Binned']\n",
    ").size().reset_index(name='Count')\n",
    "heatmap_data = grouped_data.pivot(index='WER_Binned', columns='Stuttering_Count', values='Count').fillna(0)\n",
    "\n",
    "plt.figure(figsize=(6, 4))\n",
    "sns.heatmap(\n",
    "    heatmap_data, cmap='cool', annot=False, fmt='g', cbar=True\n",
    ")\n",
    "\n",
    "plt.title(\"Stutterance Count vs WER (Color = Number of Cases)\", fontsize=16)\n",
    "plt.xlabel(\"Stutterance Count\", fontsize=14)\n",
    "plt.ylabel(\"WER (Binned)\", fontsize=14)\n",
    "\n",
    "plt.show()"
   ]
  },
  {
   "cell_type": "code",
   "execution_count": 83,
   "id": "0655e4f3-8870-45a1-bdcc-cbe54d532f63",
   "metadata": {
    "tags": []
   },
   "outputs": [
    {
     "name": "stdout",
     "output_type": "stream",
     "text": [
      "p-value = 5.717674908371687e-196\n",
      "rho = -0.15383527583445916\n"
     ]
    }
   ],
   "source": [
    "from scipy.stats import spearmanr\n",
    "rho, p = spearmanr(net_aigenerated_data_whisper_large.dropna()['Stuttering_Count'], net_aigenerated_data_whisper_large.dropna()['WER'])\n",
    "print(f\"p-value = {p}\")\n",
    "print(f\"rho = {rho}\")"
   ]
  },
  {
   "cell_type": "markdown",
   "id": "c7f6bf6e-2993-485d-9141-a78634637a50",
   "metadata": {},
   "source": [
    "***"
   ]
  },
  {
   "cell_type": "markdown",
   "id": "343e4ac0-04a6-4896-b5b4-cbcfc330e0d6",
   "metadata": {
    "tags": []
   },
   "source": [
    "## ROUGE-N/L Scores (Semantic Evaluation) (Whisper Large)"
   ]
  },
  {
   "cell_type": "code",
   "execution_count": 84,
   "id": "175ed190-1369-45ce-bd2e-863505f99a8d",
   "metadata": {},
   "outputs": [],
   "source": [
    "from rouge_chinese import Rouge\n",
    "import jieba"
   ]
  },
  {
   "cell_type": "code",
   "execution_count": 85,
   "id": "f2f1133e-38f4-4798-8bfe-7afb95778756",
   "metadata": {
    "tags": []
   },
   "outputs": [],
   "source": [
    "rouge = Rouge()"
   ]
  },
  {
   "cell_type": "code",
   "execution_count": 86,
   "id": "e5ee381a-b7b8-4dd5-8e76-d7a8f3483e1c",
   "metadata": {
    "tags": []
   },
   "outputs": [
    {
     "name": "stderr",
     "output_type": "stream",
     "text": [
      "  0%|          | 0/37253 [00:00<?, ?it/s]Building prefix dict from the default dictionary ...\n",
      "Dumping model to file cache /scratch/1364557.1.academic/jieba.cache\n",
      "Loading model cost 0.598 seconds.\n",
      "Prefix dict has been built successfully.\n",
      "  0%|          | 13/37253 [00:00<26:53, 23.08it/s] "
     ]
    },
    {
     "name": "stdout",
     "output_type": "stream",
     "text": [
      "      Filename   Start_time     End_time  \\\n",
      "0      D0001_A  2081.540000  2109.650000   \n",
      "1      D0001_A   790.130000   796.580000   \n",
      "2      D0001_A  1562.083518  1586.220000   \n",
      "3      D0001_A  2016.780000  2035.673559   \n",
      "4      D0001_A  1682.670000  1709.110000   \n",
      "...        ...          ...          ...   \n",
      "37248    P0070  2586.616000  2589.346000   \n",
      "37249    P0070  2782.496000  2783.706000   \n",
      "37250    P0070  2995.296000  2998.116000   \n",
      "37251    P0070  2604.066000  2606.656000   \n",
      "37252    P0070  2434.606000  2436.576000   \n",
      "\n",
      "                                           Whisper_large       WER  \\\n",
      "0      我说出来就比较的需要时间然后识别的他等你一会儿你那个话还没有说完还没有说出来的话他就取消了也...  0.247423   \n",
      "1                                               第四句有我说的话  0.500000   \n",
      "2         这部剧评分是不怎么好的因为评论区的那些人都在说男二号好惨的那个就那么情绪但是就一直输给男主角  0.312500   \n",
      "3                          很精准迅飞语音还是迅飞出手来的我记得他是叫迅飞我之前就是他  0.394737   \n",
      "4      那个是叫什么来的我忘了就是出现了另一个人然后呢他就射了一把箭然后就把那个男二号给绑杀了就是可...  0.250000   \n",
      "...                                                  ...       ...   \n",
      "37248                                         三曲循环歌曲这样而已  0.181818   \n",
      "37249                                              杨幂的电影  0.166667   \n",
      "37250                                       你好米亚今天柴油价怎么样  0.266667   \n",
      "37251                                       单曲循环歌曲 琉璃光之歌  0.166667   \n",
      "37252                                            導航到隆城民院  0.500000   \n",
      "\n",
      "       Stuttering_Count                       Stu-wer-compared-groundtruth  \\\n",
      "0                   1.0  我说出来就比较的需要时间，哦，然后那个嗯识别的它的就是它等你一会儿，你那个话还没有说完，的还...   \n",
      "1                   1.0                                         电视剧有，我说的话。   \n",
      "2                  10.0  这部剧是不怎么，评分是不怎么好的，呃就因为呃评论区的那些人，他们都在说，呃男二号就好惨的那个...   \n",
      "3                   7.0             很精准，对，呃讯飞语音还是讯飞助手来着，就我记得它是叫讯飞，我之前就是它呃是   \n",
      "4                   8.0  一个那个是嗯叫啥来着，我忘了，就是出现了另一个人，然后呢他就射了一把剑，然后就把那个嗯男二号...   \n",
      "...                 ...                                                ...   \n",
      "37248               0.0                                        单曲循环歌曲这样而已。   \n",
      "37249               0.0                                             杨幂的电影。   \n",
      "37250               0.0                                    你好，米雅，今天柴油价怎么样。   \n",
      "37251               0.0                                       单曲循环歌曲琉璃光之歌。   \n",
      "37252               0.0                                           导航到荣城名苑。   \n",
      "\n",
      "       NA_Count  NA_Cleaned_Count  WER_Binned  stu-rouge1-precision  \\\n",
      "0             6                 0        0.25              0.916667   \n",
      "1             6                 0        0.50                   NaN   \n",
      "2             6                 0        0.31                   NaN   \n",
      "3             6                 0        0.39                   NaN   \n",
      "4             6                 0        0.25                   NaN   \n",
      "...         ...               ...         ...                   ...   \n",
      "37248         6                 0        0.18                   NaN   \n",
      "37249         6                 0        0.17                   NaN   \n",
      "37250         6                 0        0.27                   NaN   \n",
      "37251         6                 0        0.17                   NaN   \n",
      "37252         6                 0        0.50                   NaN   \n",
      "\n",
      "       stu-rouge1-recall  stu-rouge1-f1  stu-rouge2-precision  \\\n",
      "0               0.868421       0.891892              0.666667   \n",
      "1                    NaN            NaN                   NaN   \n",
      "2                    NaN            NaN                   NaN   \n",
      "3                    NaN            NaN                   NaN   \n",
      "4                    NaN            NaN                   NaN   \n",
      "...                  ...            ...                   ...   \n",
      "37248                NaN            NaN                   NaN   \n",
      "37249                NaN            NaN                   NaN   \n",
      "37250                NaN            NaN                   NaN   \n",
      "37251                NaN            NaN                   NaN   \n",
      "37252                NaN            NaN                   NaN   \n",
      "\n",
      "       stu-rouge2-recall  stu-rouge2-f1  stu-rougel-precision  \\\n",
      "0                0.52459       0.587156              0.888889   \n",
      "1                    NaN            NaN                   NaN   \n",
      "2                    NaN            NaN                   NaN   \n",
      "3                    NaN            NaN                   NaN   \n",
      "4                    NaN            NaN                   NaN   \n",
      "...                  ...            ...                   ...   \n",
      "37248                NaN            NaN                   NaN   \n",
      "37249                NaN            NaN                   NaN   \n",
      "37250                NaN            NaN                   NaN   \n",
      "37251                NaN            NaN                   NaN   \n",
      "37252                NaN            NaN                   NaN   \n",
      "\n",
      "       stu-rougel-recall  stu-rougel-f1  \\\n",
      "0               0.685714       0.774194   \n",
      "1                    NaN            NaN   \n",
      "2                    NaN            NaN   \n",
      "3                    NaN            NaN   \n",
      "4                    NaN            NaN   \n",
      "...                  ...            ...   \n",
      "37248                NaN            NaN   \n",
      "37249                NaN            NaN   \n",
      "37250                NaN            NaN   \n",
      "37251                NaN            NaN   \n",
      "37252                NaN            NaN   \n",
      "\n",
      "                          Stu-rouge-compared-groundtruth  \n",
      "0      我说出来就比较的需要时间，哦，然后那个嗯识别的它的就是它等你一会儿，你那个话还没有说完，的还...  \n",
      "1                                                    NaN  \n",
      "2                                                    NaN  \n",
      "3                                                    NaN  \n",
      "4                                                    NaN  \n",
      "...                                                  ...  \n",
      "37248                                                NaN  \n",
      "37249                                                NaN  \n",
      "37250                                                NaN  \n",
      "37251                                                NaN  \n",
      "37252                                                NaN  \n",
      "\n",
      "[37253 rows x 20 columns]\n"
     ]
    },
    {
     "name": "stderr",
     "output_type": "stream",
     "text": [
      "  5%|▍         | 1847/37253 [00:15<04:36, 128.03it/s]"
     ]
    },
    {
     "name": "stdout",
     "output_type": "stream",
     "text": [
      "Skipping: One of the rows is empty.\n"
     ]
    },
    {
     "name": "stderr",
     "output_type": "stream",
     "text": [
      " 13%|█▎        | 4707/37253 [00:38<04:12, 128.91it/s]"
     ]
    },
    {
     "name": "stdout",
     "output_type": "stream",
     "text": [
      "Skipping due to missing or non-string Whisper_large.\n"
     ]
    },
    {
     "name": "stderr",
     "output_type": "stream",
     "text": [
      " 15%|█▌        | 5624/37253 [00:45<04:05, 128.70it/s]"
     ]
    },
    {
     "name": "stdout",
     "output_type": "stream",
     "text": [
      "Skipping due to missing or non-string Whisper_large.\n"
     ]
    },
    {
     "name": "stderr",
     "output_type": "stream",
     "text": [
      " 16%|█▌        | 5807/37253 [00:46<04:11, 124.82it/s]"
     ]
    },
    {
     "name": "stdout",
     "output_type": "stream",
     "text": [
      "Skipping due to missing or non-string Whisper_large.\n"
     ]
    },
    {
     "name": "stderr",
     "output_type": "stream",
     "text": [
      " 17%|█▋        | 6231/37253 [00:50<03:59, 129.59it/s]"
     ]
    },
    {
     "name": "stdout",
     "output_type": "stream",
     "text": [
      "Skipping due to missing or non-string Whisper_large.\n"
     ]
    },
    {
     "name": "stderr",
     "output_type": "stream",
     "text": [
      " 28%|██▊       | 10496/37253 [01:23<03:30, 127.25it/s]"
     ]
    },
    {
     "name": "stdout",
     "output_type": "stream",
     "text": [
      "Skipping: One of the rows is empty.\n"
     ]
    },
    {
     "name": "stderr",
     "output_type": "stream",
     "text": [
      " 36%|███▌      | 13331/37253 [01:46<03:05, 128.65it/s]"
     ]
    },
    {
     "name": "stdout",
     "output_type": "stream",
     "text": [
      "Skipping due to missing or non-string Whisper_large.\n"
     ]
    },
    {
     "name": "stderr",
     "output_type": "stream",
     "text": [
      " 44%|████▍     | 16494/37253 [02:10<02:37, 131.96it/s]"
     ]
    },
    {
     "name": "stdout",
     "output_type": "stream",
     "text": [
      "Skipping due to missing or non-string Whisper_large.\n"
     ]
    },
    {
     "name": "stderr",
     "output_type": "stream",
     "text": [
      " 91%|█████████▏| 34066/37253 [04:24<00:24, 131.51it/s]"
     ]
    },
    {
     "name": "stdout",
     "output_type": "stream",
     "text": [
      "Skipping: One of the rows is empty.\n"
     ]
    },
    {
     "name": "stderr",
     "output_type": "stream",
     "text": [
      " 92%|█████████▏| 34108/37253 [04:25<00:23, 131.41it/s]"
     ]
    },
    {
     "name": "stdout",
     "output_type": "stream",
     "text": [
      "Skipping: One of the rows is empty.\n"
     ]
    },
    {
     "name": "stderr",
     "output_type": "stream",
     "text": [
      " 93%|█████████▎| 34597/37253 [04:29<00:20, 130.95it/s]"
     ]
    },
    {
     "name": "stdout",
     "output_type": "stream",
     "text": [
      "Skipping: One of the rows is empty.\n"
     ]
    },
    {
     "name": "stderr",
     "output_type": "stream",
     "text": [
      "100%|██████████| 37253/37253 [04:49<00:00, 128.77it/s]\n"
     ]
    }
   ],
   "source": [
    "print_ = True\n",
    "\n",
    "for index, row in tqdm(net_aigenerated_data_whisper_large.iterrows(), total=len(net_aigenerated_data_whisper_large)):\n",
    "    \n",
    "    mask_large = (\n",
    "        (net_aigenerated_data_whisper_large[\"Filename\"] == row[\"Filename\"]) &\n",
    "        (net_aigenerated_data_whisper_large[\"Start_time\"] == row[\"Start_time\"])\n",
    "    )\n",
    "\n",
    "    mask_net = (\n",
    "        (net_data[\"Filename\"] == row[\"Filename\"]) &\n",
    "        (net_data[\"Start_time\"] == row[\"Start_time\"])\n",
    "    )\n",
    "\n",
    "    \n",
    "    large_row = net_aigenerated_data_whisper_large.loc[mask_large]\n",
    "    net_row = net_data.loc[mask_net]\n",
    "\n",
    "    # print(large_row)\n",
    "    # print('\\n\\n\\n\\n')\n",
    "    # print(net_row)\n",
    "    \n",
    "    if large_row.empty or net_row.empty:\n",
    "        print(\"Skipping: One of the rows is empty.\")\n",
    "        continue\n",
    "        \n",
    "    whisper_large = large_row[\"Whisper_large\"].values[0]\n",
    "    cleaned_transcript = net_row[\"Cleaned_Transcript\"].values[0]\n",
    "    \n",
    "    if pd.isna(whisper_large) or not isinstance(whisper_large, str):\n",
    "        print(\"Skipping due to missing or non-string Whisper_large.\")\n",
    "        continue\n",
    "    if pd.isna(cleaned_transcript) or not isinstance(cleaned_transcript, str):\n",
    "        print(\"Skipping due to missing or non-string Cleaned_Transcript.\")\n",
    "        continue\n",
    "\n",
    "    try:\n",
    "        \n",
    "        scores = rouge.get_scores(' '.join(jieba.cut(whisper_large)), ' '.join(jieba.cut(cleaned_transcript)))\n",
    "        \n",
    "        net_aigenerated_data_whisper_large.loc[mask_large, \"stu-rouge1-precision\"] = scores[0][\"rouge-1\"][\"p\"]\n",
    "        net_aigenerated_data_whisper_large.loc[mask_large, \"stu-rouge1-recall\"] = scores[0][\"rouge-1\"][\"r\"]\n",
    "        net_aigenerated_data_whisper_large.loc[mask_large, \"stu-rouge1-f1\"] = scores[0][\"rouge-1\"][\"f\"]\n",
    "        \n",
    "        \n",
    "        net_aigenerated_data_whisper_large.loc[mask_large, \"stu-rouge2-precision\"] = scores[0][\"rouge-2\"][\"p\"]\n",
    "        net_aigenerated_data_whisper_large.loc[mask_large, \"stu-rouge2-recall\"] = scores[0][\"rouge-2\"][\"r\"]\n",
    "        net_aigenerated_data_whisper_large.loc[mask_large, \"stu-rouge2-f1\"] = scores[0][\"rouge-2\"][\"f\"]\n",
    "        \n",
    "        \n",
    "        net_aigenerated_data_whisper_large.loc[mask_large, \"stu-rougel-precision\"] = scores[0][\"rouge-l\"][\"p\"]\n",
    "        net_aigenerated_data_whisper_large.loc[mask_large, \"stu-rougel-recall\"] = scores[0][\"rouge-l\"][\"r\"]\n",
    "        net_aigenerated_data_whisper_large.loc[mask_large, \"stu-rougel-f1\"] = scores[0][\"rouge-l\"][\"f\"]\n",
    "        \n",
    "        Stuttering_Count = net_row[\"Stuttering_Count\"].values[0]\n",
    "        net_aigenerated_data_whisper_large.loc[mask_large, \"Stuttering_Count\"] = Stuttering_Count\n",
    "        net_aigenerated_data_whisper_large.loc[mask_large, \"Stu-rouge-compared-groundtruth\"] = cleaned_transcript\n",
    "\n",
    "        if (print_):\n",
    "            print(net_aigenerated_data_whisper_large)\n",
    "            print_ = False\n",
    "        \n",
    "        # Verify assignment\n",
    "        # print(f'Assigned Stuttering_Count: {Stuttering_Count}')\n",
    "        # print(net_aigenerated_data_whisper_large.loc[mask_large, \"Stuttering_Count\"])\n",
    "\n",
    "    except Exception as e:\n",
    "        print(f'ERROR: {e}')\n",
    "        print('Occurred with the following data:')\n",
    "        print(large_row)\n",
    "        print(net_row)"
   ]
  },
  {
   "cell_type": "code",
   "execution_count": 87,
   "id": "8e6bc54a-90fb-409a-a30d-d90ddf2550cf",
   "metadata": {
    "tags": []
   },
   "outputs": [
    {
     "data": {
      "text/html": [
       "<div>\n",
       "<style scoped>\n",
       "    .dataframe tbody tr th:only-of-type {\n",
       "        vertical-align: middle;\n",
       "    }\n",
       "\n",
       "    .dataframe tbody tr th {\n",
       "        vertical-align: top;\n",
       "    }\n",
       "\n",
       "    .dataframe thead th {\n",
       "        text-align: right;\n",
       "    }\n",
       "</style>\n",
       "<table border=\"1\" class=\"dataframe\">\n",
       "  <thead>\n",
       "    <tr style=\"text-align: right;\">\n",
       "      <th></th>\n",
       "      <th>Filename</th>\n",
       "      <th>Start_time</th>\n",
       "      <th>End_time</th>\n",
       "      <th>Whisper_large</th>\n",
       "      <th>WER</th>\n",
       "      <th>Stuttering_Count</th>\n",
       "      <th>Stu-wer-compared-groundtruth</th>\n",
       "      <th>NA_Count</th>\n",
       "      <th>NA_Cleaned_Count</th>\n",
       "      <th>WER_Binned</th>\n",
       "      <th>stu-rouge1-precision</th>\n",
       "      <th>stu-rouge1-recall</th>\n",
       "      <th>stu-rouge1-f1</th>\n",
       "      <th>stu-rouge2-precision</th>\n",
       "      <th>stu-rouge2-recall</th>\n",
       "      <th>stu-rouge2-f1</th>\n",
       "      <th>stu-rougel-precision</th>\n",
       "      <th>stu-rougel-recall</th>\n",
       "      <th>stu-rougel-f1</th>\n",
       "      <th>Stu-rouge-compared-groundtruth</th>\n",
       "    </tr>\n",
       "  </thead>\n",
       "  <tbody>\n",
       "    <tr>\n",
       "      <th>0</th>\n",
       "      <td>D0001_A</td>\n",
       "      <td>2081.540000</td>\n",
       "      <td>2109.650000</td>\n",
       "      <td>我说出来就比较的需要时间然后识别的他等你一会儿你那个话还没有说完还没有说出来的话他就取消了也...</td>\n",
       "      <td>0.247423</td>\n",
       "      <td>1.0</td>\n",
       "      <td>我说出来就比较的需要时间，哦，然后那个嗯识别的它的就是它等你一会儿，你那个话还没有说完，的还...</td>\n",
       "      <td>6</td>\n",
       "      <td>0</td>\n",
       "      <td>0.25</td>\n",
       "      <td>0.916667</td>\n",
       "      <td>0.868421</td>\n",
       "      <td>0.891892</td>\n",
       "      <td>0.666667</td>\n",
       "      <td>0.524590</td>\n",
       "      <td>0.587156</td>\n",
       "      <td>0.888889</td>\n",
       "      <td>0.685714</td>\n",
       "      <td>0.774194</td>\n",
       "      <td>我说出来就比较的需要时间，哦，然后那个嗯识别的它的就是它等你一会儿，你那个话还没有说完，的还...</td>\n",
       "    </tr>\n",
       "    <tr>\n",
       "      <th>1</th>\n",
       "      <td>D0001_A</td>\n",
       "      <td>790.130000</td>\n",
       "      <td>796.580000</td>\n",
       "      <td>第四句有我说的话</td>\n",
       "      <td>0.500000</td>\n",
       "      <td>1.0</td>\n",
       "      <td>电视剧有，我说的话。</td>\n",
       "      <td>6</td>\n",
       "      <td>0</td>\n",
       "      <td>0.50</td>\n",
       "      <td>0.800000</td>\n",
       "      <td>0.571429</td>\n",
       "      <td>0.666667</td>\n",
       "      <td>0.500000</td>\n",
       "      <td>0.333333</td>\n",
       "      <td>0.400000</td>\n",
       "      <td>0.800000</td>\n",
       "      <td>0.571429</td>\n",
       "      <td>0.666667</td>\n",
       "      <td>电视剧有，我说的话。</td>\n",
       "    </tr>\n",
       "    <tr>\n",
       "      <th>2</th>\n",
       "      <td>D0001_A</td>\n",
       "      <td>1562.083518</td>\n",
       "      <td>1586.220000</td>\n",
       "      <td>这部剧评分是不怎么好的因为评论区的那些人都在说男二号好惨的那个就那么情绪但是就一直输给男主角</td>\n",
       "      <td>0.312500</td>\n",
       "      <td>10.0</td>\n",
       "      <td>这部剧是不怎么，评分是不怎么好的，呃就因为呃评论区的那些人，他们都在说，呃男二号就好惨的那个...</td>\n",
       "      <td>6</td>\n",
       "      <td>0</td>\n",
       "      <td>0.31</td>\n",
       "      <td>0.880000</td>\n",
       "      <td>0.709677</td>\n",
       "      <td>0.785714</td>\n",
       "      <td>0.555556</td>\n",
       "      <td>0.375000</td>\n",
       "      <td>0.447761</td>\n",
       "      <td>0.857143</td>\n",
       "      <td>0.571429</td>\n",
       "      <td>0.685714</td>\n",
       "      <td>这部剧是不怎么，评分是不怎么好的，呃就因为呃评论区的那些人，他们都在说，呃男二号就好惨的那个...</td>\n",
       "    </tr>\n",
       "    <tr>\n",
       "      <th>3</th>\n",
       "      <td>D0001_A</td>\n",
       "      <td>2016.780000</td>\n",
       "      <td>2035.673559</td>\n",
       "      <td>很精准迅飞语音还是迅飞出手来的我记得他是叫迅飞我之前就是他</td>\n",
       "      <td>0.394737</td>\n",
       "      <td>7.0</td>\n",
       "      <td>很精准，对，呃讯飞语音还是讯飞助手来着，就我记得它是叫讯飞，我之前就是它呃是</td>\n",
       "      <td>6</td>\n",
       "      <td>0</td>\n",
       "      <td>0.39</td>\n",
       "      <td>0.733333</td>\n",
       "      <td>0.550000</td>\n",
       "      <td>0.628571</td>\n",
       "      <td>0.333333</td>\n",
       "      <td>0.214286</td>\n",
       "      <td>0.260870</td>\n",
       "      <td>0.631579</td>\n",
       "      <td>0.387097</td>\n",
       "      <td>0.480000</td>\n",
       "      <td>很精准，对，呃讯飞语音还是讯飞助手来着，就我记得它是叫讯飞，我之前就是它呃是</td>\n",
       "    </tr>\n",
       "    <tr>\n",
       "      <th>4</th>\n",
       "      <td>D0001_A</td>\n",
       "      <td>1682.670000</td>\n",
       "      <td>1709.110000</td>\n",
       "      <td>那个是叫什么来的我忘了就是出现了另一个人然后呢他就射了一把箭然后就把那个男二号给绑杀了就是可...</td>\n",
       "      <td>0.250000</td>\n",
       "      <td>8.0</td>\n",
       "      <td>一个那个是嗯叫啥来着，我忘了，就是出现了另一个人，然后呢他就射了一把剑，然后就把那个嗯男二号...</td>\n",
       "      <td>6</td>\n",
       "      <td>0</td>\n",
       "      <td>0.25</td>\n",
       "      <td>0.833333</td>\n",
       "      <td>0.757576</td>\n",
       "      <td>0.793651</td>\n",
       "      <td>0.583333</td>\n",
       "      <td>0.477273</td>\n",
       "      <td>0.525000</td>\n",
       "      <td>0.871795</td>\n",
       "      <td>0.693878</td>\n",
       "      <td>0.772727</td>\n",
       "      <td>一个那个是嗯叫啥来着，我忘了，就是出现了另一个人，然后呢他就射了一把剑，然后就把那个嗯男二号...</td>\n",
       "    </tr>\n",
       "    <tr>\n",
       "      <th>...</th>\n",
       "      <td>...</td>\n",
       "      <td>...</td>\n",
       "      <td>...</td>\n",
       "      <td>...</td>\n",
       "      <td>...</td>\n",
       "      <td>...</td>\n",
       "      <td>...</td>\n",
       "      <td>...</td>\n",
       "      <td>...</td>\n",
       "      <td>...</td>\n",
       "      <td>...</td>\n",
       "      <td>...</td>\n",
       "      <td>...</td>\n",
       "      <td>...</td>\n",
       "      <td>...</td>\n",
       "      <td>...</td>\n",
       "      <td>...</td>\n",
       "      <td>...</td>\n",
       "      <td>...</td>\n",
       "      <td>...</td>\n",
       "    </tr>\n",
       "    <tr>\n",
       "      <th>37248</th>\n",
       "      <td>P0070</td>\n",
       "      <td>2586.616000</td>\n",
       "      <td>2589.346000</td>\n",
       "      <td>三曲循环歌曲这样而已</td>\n",
       "      <td>0.181818</td>\n",
       "      <td>0.0</td>\n",
       "      <td>单曲循环歌曲这样而已。</td>\n",
       "      <td>6</td>\n",
       "      <td>0</td>\n",
       "      <td>0.18</td>\n",
       "      <td>0.800000</td>\n",
       "      <td>0.666667</td>\n",
       "      <td>0.727273</td>\n",
       "      <td>0.750000</td>\n",
       "      <td>0.600000</td>\n",
       "      <td>0.666667</td>\n",
       "      <td>0.800000</td>\n",
       "      <td>0.666667</td>\n",
       "      <td>0.727273</td>\n",
       "      <td>单曲循环歌曲这样而已。</td>\n",
       "    </tr>\n",
       "    <tr>\n",
       "      <th>37249</th>\n",
       "      <td>P0070</td>\n",
       "      <td>2782.496000</td>\n",
       "      <td>2783.706000</td>\n",
       "      <td>杨幂的电影</td>\n",
       "      <td>0.166667</td>\n",
       "      <td>0.0</td>\n",
       "      <td>杨幂的电影。</td>\n",
       "      <td>6</td>\n",
       "      <td>0</td>\n",
       "      <td>0.17</td>\n",
       "      <td>1.000000</td>\n",
       "      <td>0.750000</td>\n",
       "      <td>0.857143</td>\n",
       "      <td>1.000000</td>\n",
       "      <td>0.666667</td>\n",
       "      <td>0.800000</td>\n",
       "      <td>1.000000</td>\n",
       "      <td>0.750000</td>\n",
       "      <td>0.857143</td>\n",
       "      <td>杨幂的电影。</td>\n",
       "    </tr>\n",
       "    <tr>\n",
       "      <th>37250</th>\n",
       "      <td>P0070</td>\n",
       "      <td>2995.296000</td>\n",
       "      <td>2998.116000</td>\n",
       "      <td>你好米亚今天柴油价怎么样</td>\n",
       "      <td>0.266667</td>\n",
       "      <td>0.0</td>\n",
       "      <td>你好，米雅，今天柴油价怎么样。</td>\n",
       "      <td>6</td>\n",
       "      <td>0</td>\n",
       "      <td>0.27</td>\n",
       "      <td>0.833333</td>\n",
       "      <td>0.625000</td>\n",
       "      <td>0.714286</td>\n",
       "      <td>0.600000</td>\n",
       "      <td>0.375000</td>\n",
       "      <td>0.461538</td>\n",
       "      <td>0.833333</td>\n",
       "      <td>0.555556</td>\n",
       "      <td>0.666667</td>\n",
       "      <td>你好，米雅，今天柴油价怎么样。</td>\n",
       "    </tr>\n",
       "    <tr>\n",
       "      <th>37251</th>\n",
       "      <td>P0070</td>\n",
       "      <td>2604.066000</td>\n",
       "      <td>2606.656000</td>\n",
       "      <td>单曲循环歌曲 琉璃光之歌</td>\n",
       "      <td>0.166667</td>\n",
       "      <td>0.0</td>\n",
       "      <td>单曲循环歌曲琉璃光之歌。</td>\n",
       "      <td>6</td>\n",
       "      <td>0</td>\n",
       "      <td>0.17</td>\n",
       "      <td>1.000000</td>\n",
       "      <td>0.833333</td>\n",
       "      <td>0.909091</td>\n",
       "      <td>1.000000</td>\n",
       "      <td>0.800000</td>\n",
       "      <td>0.888889</td>\n",
       "      <td>1.000000</td>\n",
       "      <td>0.833333</td>\n",
       "      <td>0.909091</td>\n",
       "      <td>单曲循环歌曲琉璃光之歌。</td>\n",
       "    </tr>\n",
       "    <tr>\n",
       "      <th>37252</th>\n",
       "      <td>P0070</td>\n",
       "      <td>2434.606000</td>\n",
       "      <td>2436.576000</td>\n",
       "      <td>導航到隆城民院</td>\n",
       "      <td>0.500000</td>\n",
       "      <td>0.0</td>\n",
       "      <td>导航到荣城名苑。</td>\n",
       "      <td>6</td>\n",
       "      <td>0</td>\n",
       "      <td>0.50</td>\n",
       "      <td>0.000000</td>\n",
       "      <td>0.000000</td>\n",
       "      <td>0.000000</td>\n",
       "      <td>0.000000</td>\n",
       "      <td>0.000000</td>\n",
       "      <td>0.000000</td>\n",
       "      <td>0.000000</td>\n",
       "      <td>0.000000</td>\n",
       "      <td>0.000000</td>\n",
       "      <td>导航到荣城名苑。</td>\n",
       "    </tr>\n",
       "  </tbody>\n",
       "</table>\n",
       "<p>37253 rows × 20 columns</p>\n",
       "</div>"
      ],
      "text/plain": [
       "      Filename   Start_time     End_time  \\\n",
       "0      D0001_A  2081.540000  2109.650000   \n",
       "1      D0001_A   790.130000   796.580000   \n",
       "2      D0001_A  1562.083518  1586.220000   \n",
       "3      D0001_A  2016.780000  2035.673559   \n",
       "4      D0001_A  1682.670000  1709.110000   \n",
       "...        ...          ...          ...   \n",
       "37248    P0070  2586.616000  2589.346000   \n",
       "37249    P0070  2782.496000  2783.706000   \n",
       "37250    P0070  2995.296000  2998.116000   \n",
       "37251    P0070  2604.066000  2606.656000   \n",
       "37252    P0070  2434.606000  2436.576000   \n",
       "\n",
       "                                           Whisper_large       WER  \\\n",
       "0      我说出来就比较的需要时间然后识别的他等你一会儿你那个话还没有说完还没有说出来的话他就取消了也...  0.247423   \n",
       "1                                               第四句有我说的话  0.500000   \n",
       "2         这部剧评分是不怎么好的因为评论区的那些人都在说男二号好惨的那个就那么情绪但是就一直输给男主角  0.312500   \n",
       "3                          很精准迅飞语音还是迅飞出手来的我记得他是叫迅飞我之前就是他  0.394737   \n",
       "4      那个是叫什么来的我忘了就是出现了另一个人然后呢他就射了一把箭然后就把那个男二号给绑杀了就是可...  0.250000   \n",
       "...                                                  ...       ...   \n",
       "37248                                         三曲循环歌曲这样而已  0.181818   \n",
       "37249                                              杨幂的电影  0.166667   \n",
       "37250                                       你好米亚今天柴油价怎么样  0.266667   \n",
       "37251                                       单曲循环歌曲 琉璃光之歌  0.166667   \n",
       "37252                                            導航到隆城民院  0.500000   \n",
       "\n",
       "       Stuttering_Count                       Stu-wer-compared-groundtruth  \\\n",
       "0                   1.0  我说出来就比较的需要时间，哦，然后那个嗯识别的它的就是它等你一会儿，你那个话还没有说完，的还...   \n",
       "1                   1.0                                         电视剧有，我说的话。   \n",
       "2                  10.0  这部剧是不怎么，评分是不怎么好的，呃就因为呃评论区的那些人，他们都在说，呃男二号就好惨的那个...   \n",
       "3                   7.0             很精准，对，呃讯飞语音还是讯飞助手来着，就我记得它是叫讯飞，我之前就是它呃是   \n",
       "4                   8.0  一个那个是嗯叫啥来着，我忘了，就是出现了另一个人，然后呢他就射了一把剑，然后就把那个嗯男二号...   \n",
       "...                 ...                                                ...   \n",
       "37248               0.0                                        单曲循环歌曲这样而已。   \n",
       "37249               0.0                                             杨幂的电影。   \n",
       "37250               0.0                                    你好，米雅，今天柴油价怎么样。   \n",
       "37251               0.0                                       单曲循环歌曲琉璃光之歌。   \n",
       "37252               0.0                                           导航到荣城名苑。   \n",
       "\n",
       "       NA_Count  NA_Cleaned_Count  WER_Binned  stu-rouge1-precision  \\\n",
       "0             6                 0        0.25              0.916667   \n",
       "1             6                 0        0.50              0.800000   \n",
       "2             6                 0        0.31              0.880000   \n",
       "3             6                 0        0.39              0.733333   \n",
       "4             6                 0        0.25              0.833333   \n",
       "...         ...               ...         ...                   ...   \n",
       "37248         6                 0        0.18              0.800000   \n",
       "37249         6                 0        0.17              1.000000   \n",
       "37250         6                 0        0.27              0.833333   \n",
       "37251         6                 0        0.17              1.000000   \n",
       "37252         6                 0        0.50              0.000000   \n",
       "\n",
       "       stu-rouge1-recall  stu-rouge1-f1  stu-rouge2-precision  \\\n",
       "0               0.868421       0.891892              0.666667   \n",
       "1               0.571429       0.666667              0.500000   \n",
       "2               0.709677       0.785714              0.555556   \n",
       "3               0.550000       0.628571              0.333333   \n",
       "4               0.757576       0.793651              0.583333   \n",
       "...                  ...            ...                   ...   \n",
       "37248           0.666667       0.727273              0.750000   \n",
       "37249           0.750000       0.857143              1.000000   \n",
       "37250           0.625000       0.714286              0.600000   \n",
       "37251           0.833333       0.909091              1.000000   \n",
       "37252           0.000000       0.000000              0.000000   \n",
       "\n",
       "       stu-rouge2-recall  stu-rouge2-f1  stu-rougel-precision  \\\n",
       "0               0.524590       0.587156              0.888889   \n",
       "1               0.333333       0.400000              0.800000   \n",
       "2               0.375000       0.447761              0.857143   \n",
       "3               0.214286       0.260870              0.631579   \n",
       "4               0.477273       0.525000              0.871795   \n",
       "...                  ...            ...                   ...   \n",
       "37248           0.600000       0.666667              0.800000   \n",
       "37249           0.666667       0.800000              1.000000   \n",
       "37250           0.375000       0.461538              0.833333   \n",
       "37251           0.800000       0.888889              1.000000   \n",
       "37252           0.000000       0.000000              0.000000   \n",
       "\n",
       "       stu-rougel-recall  stu-rougel-f1  \\\n",
       "0               0.685714       0.774194   \n",
       "1               0.571429       0.666667   \n",
       "2               0.571429       0.685714   \n",
       "3               0.387097       0.480000   \n",
       "4               0.693878       0.772727   \n",
       "...                  ...            ...   \n",
       "37248           0.666667       0.727273   \n",
       "37249           0.750000       0.857143   \n",
       "37250           0.555556       0.666667   \n",
       "37251           0.833333       0.909091   \n",
       "37252           0.000000       0.000000   \n",
       "\n",
       "                          Stu-rouge-compared-groundtruth  \n",
       "0      我说出来就比较的需要时间，哦，然后那个嗯识别的它的就是它等你一会儿，你那个话还没有说完，的还...  \n",
       "1                                             电视剧有，我说的话。  \n",
       "2      这部剧是不怎么，评分是不怎么好的，呃就因为呃评论区的那些人，他们都在说，呃男二号就好惨的那个...  \n",
       "3                 很精准，对，呃讯飞语音还是讯飞助手来着，就我记得它是叫讯飞，我之前就是它呃是  \n",
       "4      一个那个是嗯叫啥来着，我忘了，就是出现了另一个人，然后呢他就射了一把剑，然后就把那个嗯男二号...  \n",
       "...                                                  ...  \n",
       "37248                                        单曲循环歌曲这样而已。  \n",
       "37249                                             杨幂的电影。  \n",
       "37250                                    你好，米雅，今天柴油价怎么样。  \n",
       "37251                                       单曲循环歌曲琉璃光之歌。  \n",
       "37252                                           导航到荣城名苑。  \n",
       "\n",
       "[37253 rows x 20 columns]"
      ]
     },
     "execution_count": 87,
     "metadata": {},
     "output_type": "execute_result"
    }
   ],
   "source": [
    "net_aigenerated_data_whisper_large"
   ]
  },
  {
   "cell_type": "code",
   "execution_count": 91,
   "id": "92cba2a5-5178-4579-b0a0-5ec8b89181fb",
   "metadata": {
    "tags": []
   },
   "outputs": [],
   "source": [
    "# net_aigenerated_data_whisper_large.to_csv('net_aigenerated_data_whisper_large_performance_stu.csv', sep=',')"
   ]
  },
  {
   "cell_type": "markdown",
   "id": "1c4dd59d-7ebd-49bd-8d18-acae4780be3c",
   "metadata": {},
   "source": [
    "***"
   ]
  },
  {
   "cell_type": "markdown",
   "id": "413e91e6-4f9d-423a-9d57-d19ba960bac1",
   "metadata": {},
   "source": [
    "## Visualization of Relationship between Stuttering Count and Rouge Scores (Whisper Large)"
   ]
  },
  {
   "cell_type": "code",
   "execution_count": 92,
   "id": "edf03ee0-99ec-4f0a-8a29-bc6d6e53bcb1",
   "metadata": {
    "tags": []
   },
   "outputs": [],
   "source": [
    "## Load data from csv if starting here\n",
    "\n",
    "# net_aigenerated_data_whisper_large = pd.read_csv('/projectnb/ds549/projects/AImpower/evaluation-whisper/net_aigenerated_data_whisper_large_performance_stu.csv', delimiter=',')"
   ]
  },
  {
   "cell_type": "code",
   "execution_count": 94,
   "id": "833e1afc-5996-44a9-a70a-feb0cdd29237",
   "metadata": {
    "tags": []
   },
   "outputs": [
    {
     "data": {
      "image/png": "[encoded data removed]",
      "text/plain": [
       "<Figure size 600x400 with 1 Axes>"
      ]
     },
     "metadata": {},
     "output_type": "display_data"
    }
   ],
   "source": [
    "plt.figure(figsize=(6, 4))\n",
    "# plt.scatter(\n",
    "#     net_aigenerated_data_whisper_large[\"Stuttering_Count\"], \n",
    "#     net_aigenerated_data_whisper_large[\"rouge1-precision\"], \n",
    "#     facecolors=\"none\", edgecolors='r',\n",
    "#     marker=\"8\",\n",
    "#     alpha=0.7  # Handle overlapping points\n",
    "# )\n",
    "\n",
    "# plt.scatter(\n",
    "#     net_aigenerated_data_whisper_large[\"Stuttering_Count\"], \n",
    "#     net_aigenerated_data_whisper_large[\"rouge1-recall\"], \n",
    "#     facecolors=\"none\", edgecolors='g',\n",
    "#     marker=\"^\",\n",
    "#     alpha=0.7  # Handle overlapping points\n",
    "# )\n",
    "\n",
    "plt.scatter(\n",
    "    net_aigenerated_data_whisper_large[\"Stuttering_Count\"], \n",
    "    net_aigenerated_data_whisper_large[\"stu-rouge1-f1\"], \n",
    "    facecolors=\"none\", edgecolors='b',\n",
    "    marker=\".\",\n",
    "    alpha=0.7  # Handle overlapping points\n",
    ")\n",
    "\n",
    "plt.title(\"Rouge-1 vs Stutterance Count (Large)\", fontsize=16)\n",
    "plt.xlabel(\"Stutterance Count\", fontsize=14)\n",
    "plt.ylabel(\"Rouge Score\", fontsize=14)\n",
    "plt.grid(True)\n",
    "plt.show()"
   ]
  },
  {
   "cell_type": "code",
   "execution_count": 95,
   "id": "21b7c856-ac25-4ad8-af68-94b7603e413f",
   "metadata": {
    "tags": []
   },
   "outputs": [
    {
     "data": {
      "image/png": "[encoded data removed]",
      "text/plain": [
       "<Figure size 600x400 with 1 Axes>"
      ]
     },
     "metadata": {},
     "output_type": "display_data"
    }
   ],
   "source": [
    "plt.figure(figsize=(6, 4))\n",
    "# plt.scatter(\n",
    "#     net_aigenerated_data_whisper_large[\"Stuttering_Count\"], \n",
    "#     net_aigenerated_data_whisper_large[\"rouge2-precision\"], \n",
    "#     facecolors=\"none\", edgecolors='r',\n",
    "#     marker=\"8\",\n",
    "#     alpha=0.7  # Handle overlapping points\n",
    "# )\n",
    "\n",
    "# plt.scatter(\n",
    "#     net_aigenerated_data_whisper_large[\"Stuttering_Count\"], \n",
    "#     net_aigenerated_data_whisper_large[\"rouge2-recall\"], \n",
    "#     facecolors=\"none\", edgecolors='g',\n",
    "#     marker=\"^\",\n",
    "#     alpha=0.7  # Handle overlapping points\n",
    "# )\n",
    "\n",
    "plt.scatter(\n",
    "    net_aigenerated_data_whisper_large[\"Stuttering_Count\"], \n",
    "    net_aigenerated_data_whisper_large[\"stu-rouge2-f1\"], \n",
    "    facecolors=\"none\", edgecolors='b',\n",
    "    marker=\".\",\n",
    "    alpha=0.7  # Handle overlapping points\n",
    ")\n",
    "\n",
    "plt.title(\"Rouge-2 vs Stutterance Count (Large)\", fontsize=16)\n",
    "plt.xlabel(\"Stutterance Count\", fontsize=14)\n",
    "plt.ylabel(\"Rouge Score\", fontsize=14)\n",
    "plt.grid(True)\n",
    "plt.show()"
   ]
  },
  {
   "cell_type": "code",
   "execution_count": 96,
   "id": "15aacd2e-8b9a-49e0-b93a-61cd141809ee",
   "metadata": {
    "tags": []
   },
   "outputs": [
    {
     "data": {
      "image/png": "[encoded data removed]",
      "text/plain": [
       "<Figure size 600x400 with 1 Axes>"
      ]
     },
     "metadata": {},
     "output_type": "display_data"
    }
   ],
   "source": [
    "plt.figure(figsize=(6, 4))\n",
    "# plt.scatter(\n",
    "#     net_aigenerated_data_whisper_large[\"Stuttering_Count\"], \n",
    "#     net_aigenerated_data_whisper_large[\"rougel-precision\"], \n",
    "#     facecolors=\"none\", edgecolors='r',\n",
    "#     marker=\"8\",\n",
    "#     alpha=0.7  # Handle overlapping points\n",
    "# )\n",
    "\n",
    "# plt.scatter(\n",
    "#     net_aigenerated_data_whisper_large[\"Stuttering_Count\"], \n",
    "#     net_aigenerated_data_whisper_large[\"rougel-recall\"], \n",
    "#     facecolors=\"none\", edgecolors='g',\n",
    "#     marker=\"^\",\n",
    "#     alpha=0.7  # Handle overlapping points\n",
    "# )\n",
    "\n",
    "plt.scatter(\n",
    "    net_aigenerated_data_whisper_large[\"Stuttering_Count\"], \n",
    "    net_aigenerated_data_whisper_large[\"stu-rougel-f1\"], \n",
    "    facecolors=\"none\", edgecolors='b',\n",
    "    marker=\".\",\n",
    "    alpha=0.7  # Handle overlapping points\n",
    ")\n",
    "\n",
    "plt.title(\"Rouge-L vs Stutterance Count (Large)\", fontsize=16)\n",
    "plt.xlabel(\"Stutterance Count\", fontsize=14)\n",
    "plt.ylabel(\"Rouge Score\", fontsize=14)\n",
    "plt.grid(True)\n",
    "plt.show()"
   ]
  },
  {
   "cell_type": "markdown",
   "id": "60ec04e9-605d-4d66-ab46-87f8441a790c",
   "metadata": {},
   "source": [
    "## Correlations between Stuttering and Rouge Scores (Whisper Large)"
   ]
  },
  {
   "cell_type": "code",
   "execution_count": 97,
   "id": "2f1aeda0-f917-4f4c-b5aa-bf5fe18f17f1",
   "metadata": {
    "tags": []
   },
   "outputs": [
    {
     "name": "stdout",
     "output_type": "stream",
     "text": [
      "p-value [stuttering count & rouge-1 f1] = 0.0\n",
      "rho [stuttering count & rouge-1 f1] = 0.27627549733913165\n",
      "p-value [stuttering count & rouge-2 f1] = 0.0\n",
      "rho [stuttering count & rouge-2 f1] = 0.22374210928694263\n",
      "p-value [stuttering count & rouge-L f1] = 0.0\n",
      "rho [stuttering count & rouge-L f1] = 0.2353466311993851\n"
     ]
    }
   ],
   "source": [
    "from scipy.stats import spearmanr\n",
    "\n",
    "rho, p = spearmanr(net_aigenerated_data_whisper_large.dropna()['Stuttering_Count'], net_aigenerated_data_whisper_large.dropna()['stu-rouge1-f1'])\n",
    "print(f\"p-value [stuttering count & rouge-1 f1] = {p}\")\n",
    "print(f\"rho [stuttering count & rouge-1 f1] = {rho}\")\n",
    "\n",
    "\n",
    "rho, p = spearmanr(net_aigenerated_data_whisper_large.dropna()['Stuttering_Count'], net_aigenerated_data_whisper_large.dropna()['stu-rouge2-f1'])\n",
    "print(f\"p-value [stuttering count & rouge-2 f1] = {p}\")\n",
    "print(f\"rho [stuttering count & rouge-2 f1] = {rho}\")\n",
    "\n",
    "\n",
    "rho, p = spearmanr(net_aigenerated_data_whisper_large.dropna()['Stuttering_Count'], net_aigenerated_data_whisper_large.dropna()['stu-rougel-f1'])\n",
    "print(f\"p-value [stuttering count & rouge-L f1] = {p}\")\n",
    "print(f\"rho [stuttering count & rouge-L f1] = {rho}\")"
   ]
  },
  {
   "cell_type": "markdown",
   "id": "65baa6fc-1c22-4b22-9311-7c0109502d32",
   "metadata": {},
   "source": [
    "***\n",
    "***\n",
    "***"
   ]
  },
  {
   "cell_type": "markdown",
   "id": "92e6035c-bb7e-4f16-9f8e-5cd4e2ba9642",
   "metadata": {},
   "source": [
    "## Importations and Data Ingestions (Whisper Tiny)"
   ]
  },
  {
   "cell_type": "code",
   "execution_count": 103,
   "id": "f96a17b0-58c4-41b2-b824-ce28e5aa682a",
   "metadata": {
    "tags": []
   },
   "outputs": [],
   "source": [
    "import pandas as pd\n",
    "import numpy as np\n",
    "import scipy\n",
    "import os\n",
    "from tqdm import tqdm\n",
    "import re\n",
    "import sys"
   ]
  },
  {
   "cell_type": "code",
   "execution_count": 104,
   "id": "0304efa7-4fb1-46ef-bef4-62aecbbdc9eb",
   "metadata": {
    "tags": []
   },
   "outputs": [],
   "source": [
    "net_data = pd.DataFrame(columns=[\"Filename\", \"Start_time\", \"End_time\", \"Transcript\"]) \n",
    "net_aigenerated_data_whisper_tiny = pd.read_csv(\"/projectnb/ds549/projects/AImpower/datasets/generated-transcripts/Whisper_tiny.csv\", delimiter=\",\")\n",
    "\n",
    "del net_aigenerated_data_whisper_tiny[net_aigenerated_data_whisper_tiny.columns[0]]"
   ]
  },
  {
   "cell_type": "code",
   "execution_count": 105,
   "id": "bbd2cddb-f019-4fe3-9f81-1729e2bc467c",
   "metadata": {
    "tags": []
   },
   "outputs": [
    {
     "name": "stderr",
     "output_type": "stream",
     "text": [
      "/scratch/1364557.1.academic/ipykernel_162605/4285821246.py:6: FutureWarning: The behavior of DataFrame concatenation with empty or all-NA entries is deprecated. In a future version, this will no longer exclude empty or all-NA columns when determining the result dtypes. To retain the old behavior, exclude the relevant entries before the concat operation.\n",
      "  net_data = pd.concat([net_data, pd.read_csv(os.path.join(ds_transcript_path, f\"{folder}/{audio_sample}\"), sep=\"\\t\", names=[\"Start_time\", \"End_time\", \"Transcript\"]).assign(Filename=f\"D{folder}_A\")])\n"
     ]
    }
   ],
   "source": [
    "for folder in os.listdir(ds_transcript_path):\n",
    "    if folder == \"command_stats.xlsx\" or folder == \"command_stats.csv\":\n",
    "        continue\n",
    "    for audio_sample in os.listdir(os.path.join(ds_transcript_path, f\"{folder}\")):\n",
    "        if (\"_A.txt\" in audio_sample):\n",
    "            net_data = pd.concat([net_data, pd.read_csv(os.path.join(ds_transcript_path, f\"{folder}/{audio_sample}\"), sep=\"\\t\", names=[\"Start_time\", \"End_time\", \"Transcript\"]).assign(Filename=f\"D{folder}_A\")])\n",
    "        if (\"_B.txt\" in audio_sample):\n",
    "            net_data = pd.concat([net_data, pd.read_csv(os.path.join(ds_transcript_path, f\"{folder}/{audio_sample}\"), sep=\"\\t\", names=[\"Start_time\", \"End_time\", \"Transcript\"]).assign(Filename=f\"D{folder}_B\")])\n",
    "        if (\"P\" in audio_sample):\n",
    "            net_data = pd.concat([net_data, pd.read_csv(os.path.join(ds_transcript_path, f\"{folder}/{audio_sample}\"), sep=\"\\t\", names=[\"Start_time\", \"End_time\", \"Transcript\"]).assign(Filename=f\"P{folder}\")])"
   ]
  },
  {
   "cell_type": "code",
   "execution_count": 106,
   "id": "c45c5590-f1ae-4e92-a648-46a4a7f86da0",
   "metadata": {
    "tags": []
   },
   "outputs": [],
   "source": [
    "mask_pattern = r\"\\<.*?\\>\"\n",
    "repetition_pattern = r\"\\[.*?\\]\"\n",
    "annotation_pattern = r\"/\\w\"\n",
    "\n",
    "\n",
    "net_data = net_data.assign(Cleaned_Transcript=net_data['Transcript'].apply(lambda x: re.sub(annotation_pattern, \"\", re.sub(repetition_pattern, \"\", re.sub(mask_pattern, \"\", x)))))\n",
    "net_data = net_data.assign(Stuttering_Count=net_data['Transcript'].apply(lambda x: len(re.findall(mask_pattern, x)) + len(re.findall(repetition_pattern, x)) + len(re.findall(annotation_pattern, x))))"
   ]
  },
  {
   "cell_type": "code",
   "execution_count": 107,
   "id": "ef2f4300-e0dc-4cb1-a950-05f18d3b2bef",
   "metadata": {
    "tags": []
   },
   "outputs": [
    {
     "data": {
      "text/html": [
       "<div>\n",
       "<style scoped>\n",
       "    .dataframe tbody tr th:only-of-type {\n",
       "        vertical-align: middle;\n",
       "    }\n",
       "\n",
       "    .dataframe tbody tr th {\n",
       "        vertical-align: top;\n",
       "    }\n",
       "\n",
       "    .dataframe thead th {\n",
       "        text-align: right;\n",
       "    }\n",
       "</style>\n",
       "<table border=\"1\" class=\"dataframe\">\n",
       "  <thead>\n",
       "    <tr style=\"text-align: right;\">\n",
       "      <th></th>\n",
       "      <th>Filename</th>\n",
       "      <th>Start_time</th>\n",
       "      <th>End_time</th>\n",
       "      <th>Whisper_tiny</th>\n",
       "    </tr>\n",
       "  </thead>\n",
       "  <tbody>\n",
       "    <tr>\n",
       "      <th>0</th>\n",
       "      <td>D0001_A</td>\n",
       "      <td>2081.540000</td>\n",
       "      <td>2109.650000</td>\n",
       "      <td>我说出来就比较不需要时间然后那个食别的他的就是他等你一会那个话还没有收完都还没有说出来的话他...</td>\n",
       "    </tr>\n",
       "    <tr>\n",
       "      <th>1</th>\n",
       "      <td>D0001_A</td>\n",
       "      <td>790.130000</td>\n",
       "      <td>796.580000</td>\n",
       "      <td>在牙我收到</td>\n",
       "    </tr>\n",
       "    <tr>\n",
       "      <th>2</th>\n",
       "      <td>D0001_A</td>\n",
       "      <td>1562.083518</td>\n",
       "      <td>1586.220000</td>\n",
       "      <td>在不计是不怎么平分是不怎么好的就因为平分缺的那些人都在说然后我做好产的那个就那么请问但是就一...</td>\n",
       "    </tr>\n",
       "    <tr>\n",
       "      <th>3</th>\n",
       "      <td>D0001_A</td>\n",
       "      <td>2016.780000</td>\n",
       "      <td>2035.673559</td>\n",
       "      <td>很精准的兴非女人还是兴非出手来的就我记得她是叫兴非我之前就是她</td>\n",
       "    </tr>\n",
       "    <tr>\n",
       "      <th>4</th>\n",
       "      <td>D0001_A</td>\n",
       "      <td>1682.670000</td>\n",
       "      <td>1709.110000</td>\n",
       "      <td>一个那个是叫抓来的我忘了就是出现了你那个一个人然后他就这了一把剑然后就就把那个拿到给葬撒了就...</td>\n",
       "    </tr>\n",
       "    <tr>\n",
       "      <th>...</th>\n",
       "      <td>...</td>\n",
       "      <td>...</td>\n",
       "      <td>...</td>\n",
       "      <td>...</td>\n",
       "    </tr>\n",
       "    <tr>\n",
       "      <th>37248</th>\n",
       "      <td>P0070</td>\n",
       "      <td>2586.616000</td>\n",
       "      <td>2589.346000</td>\n",
       "      <td>單許宣傳歌曲,這樣而已</td>\n",
       "    </tr>\n",
       "    <tr>\n",
       "      <th>37249</th>\n",
       "      <td>P0070</td>\n",
       "      <td>2782.496000</td>\n",
       "      <td>2783.706000</td>\n",
       "      <td>楊秘的電影</td>\n",
       "    </tr>\n",
       "    <tr>\n",
       "      <th>37250</th>\n",
       "      <td>P0070</td>\n",
       "      <td>2995.296000</td>\n",
       "      <td>2998.116000</td>\n",
       "      <td>你好米哈,今天菜油駕怎么样</td>\n",
       "    </tr>\n",
       "    <tr>\n",
       "      <th>37251</th>\n",
       "      <td>P0070</td>\n",
       "      <td>2604.066000</td>\n",
       "      <td>2606.656000</td>\n",
       "      <td>單取新環科曲劉旅光這個</td>\n",
       "    </tr>\n",
       "    <tr>\n",
       "      <th>37252</th>\n",
       "      <td>P0070</td>\n",
       "      <td>2434.606000</td>\n",
       "      <td>2436.576000</td>\n",
       "      <td>到行道龍城明月</td>\n",
       "    </tr>\n",
       "  </tbody>\n",
       "</table>\n",
       "<p>37253 rows × 4 columns</p>\n",
       "</div>"
      ],
      "text/plain": [
       "      Filename   Start_time     End_time  \\\n",
       "0      D0001_A  2081.540000  2109.650000   \n",
       "1      D0001_A   790.130000   796.580000   \n",
       "2      D0001_A  1562.083518  1586.220000   \n",
       "3      D0001_A  2016.780000  2035.673559   \n",
       "4      D0001_A  1682.670000  1709.110000   \n",
       "...        ...          ...          ...   \n",
       "37248    P0070  2586.616000  2589.346000   \n",
       "37249    P0070  2782.496000  2783.706000   \n",
       "37250    P0070  2995.296000  2998.116000   \n",
       "37251    P0070  2604.066000  2606.656000   \n",
       "37252    P0070  2434.606000  2436.576000   \n",
       "\n",
       "                                            Whisper_tiny  \n",
       "0      我说出来就比较不需要时间然后那个食别的他的就是他等你一会那个话还没有收完都还没有说出来的话他...  \n",
       "1                                                  在牙我收到  \n",
       "2      在不计是不怎么平分是不怎么好的就因为平分缺的那些人都在说然后我做好产的那个就那么请问但是就一...  \n",
       "3                        很精准的兴非女人还是兴非出手来的就我记得她是叫兴非我之前就是她  \n",
       "4      一个那个是叫抓来的我忘了就是出现了你那个一个人然后他就这了一把剑然后就就把那个拿到给葬撒了就...  \n",
       "...                                                  ...  \n",
       "37248                                        單許宣傳歌曲,這樣而已  \n",
       "37249                                              楊秘的電影  \n",
       "37250                                      你好米哈,今天菜油駕怎么样  \n",
       "37251                                        單取新環科曲劉旅光這個  \n",
       "37252                                            到行道龍城明月  \n",
       "\n",
       "[37253 rows x 4 columns]"
      ]
     },
     "execution_count": 107,
     "metadata": {},
     "output_type": "execute_result"
    }
   ],
   "source": [
    "net_aigenerated_data_whisper_tiny"
   ]
  },
  {
   "cell_type": "markdown",
   "id": "ef775203-5b01-4580-9407-bf9b1494cbd6",
   "metadata": {},
   "source": [
    "***"
   ]
  },
  {
   "cell_type": "markdown",
   "id": "1013937d-28a0-48a3-af29-3b68c532b5df",
   "metadata": {},
   "source": [
    "## Exploration Sector (For validation)"
   ]
  },
  {
   "cell_type": "code",
   "execution_count": 108,
   "id": "3c621501-e32c-4e3a-b6de-14e246258c64",
   "metadata": {
    "tags": []
   },
   "outputs": [
    {
     "data": {
      "text/html": [
       "<div>\n",
       "<style scoped>\n",
       "    .dataframe tbody tr th:only-of-type {\n",
       "        vertical-align: middle;\n",
       "    }\n",
       "\n",
       "    .dataframe tbody tr th {\n",
       "        vertical-align: top;\n",
       "    }\n",
       "\n",
       "    .dataframe thead th {\n",
       "        text-align: right;\n",
       "    }\n",
       "</style>\n",
       "<table border=\"1\" class=\"dataframe\">\n",
       "  <thead>\n",
       "    <tr style=\"text-align: right;\">\n",
       "      <th></th>\n",
       "      <th>Filename</th>\n",
       "      <th>Start_time</th>\n",
       "      <th>End_time</th>\n",
       "      <th>Transcript</th>\n",
       "      <th>Cleaned_Transcript</th>\n",
       "      <th>Stuttering_Count</th>\n",
       "    </tr>\n",
       "  </thead>\n",
       "  <tbody>\n",
       "    <tr>\n",
       "      <th>106</th>\n",
       "      <td>D0022_A</td>\n",
       "      <td>1201.99</td>\n",
       "      <td>1205.47</td>\n",
       "      <td>对对对对对确实[确实]。</td>\n",
       "      <td>对对对对对确实。</td>\n",
       "      <td>1</td>\n",
       "    </tr>\n",
       "  </tbody>\n",
       "</table>\n",
       "</div>"
      ],
      "text/plain": [
       "    Filename  Start_time  End_time    Transcript Cleaned_Transcript  \\\n",
       "106  D0022_A     1201.99   1205.47  对对对对对确实[确实]。           对对对对对确实。   \n",
       "\n",
       "     Stuttering_Count  \n",
       "106                 1  "
      ]
     },
     "execution_count": 108,
     "metadata": {},
     "output_type": "execute_result"
    }
   ],
   "source": [
    "net_data[net_data[\"Start_time\"] == 1201.99]"
   ]
  },
  {
   "cell_type": "code",
   "execution_count": 109,
   "id": "6e6de8b9-7ba1-4d0a-a1ac-f6c600e5e63a",
   "metadata": {
    "tags": []
   },
   "outputs": [
    {
     "data": {
      "text/html": [
       "<div>\n",
       "<style scoped>\n",
       "    .dataframe tbody tr th:only-of-type {\n",
       "        vertical-align: middle;\n",
       "    }\n",
       "\n",
       "    .dataframe tbody tr th {\n",
       "        vertical-align: top;\n",
       "    }\n",
       "\n",
       "    .dataframe thead th {\n",
       "        text-align: right;\n",
       "    }\n",
       "</style>\n",
       "<table border=\"1\" class=\"dataframe\">\n",
       "  <thead>\n",
       "    <tr style=\"text-align: right;\">\n",
       "      <th></th>\n",
       "      <th>Filename</th>\n",
       "      <th>Start_time</th>\n",
       "      <th>End_time</th>\n",
       "      <th>Whisper_large</th>\n",
       "      <th>WER</th>\n",
       "      <th>Stuttering_Count</th>\n",
       "      <th>Stu-wer-compared-groundtruth</th>\n",
       "      <th>NA_Count</th>\n",
       "      <th>NA_Cleaned_Count</th>\n",
       "      <th>WER_Binned</th>\n",
       "      <th>stu-rouge1-precision</th>\n",
       "      <th>stu-rouge1-recall</th>\n",
       "      <th>stu-rouge1-f1</th>\n",
       "      <th>stu-rouge2-precision</th>\n",
       "      <th>stu-rouge2-recall</th>\n",
       "      <th>stu-rouge2-f1</th>\n",
       "      <th>stu-rougel-precision</th>\n",
       "      <th>stu-rougel-recall</th>\n",
       "      <th>stu-rougel-f1</th>\n",
       "      <th>Stu-rouge-compared-groundtruth</th>\n",
       "    </tr>\n",
       "  </thead>\n",
       "  <tbody>\n",
       "    <tr>\n",
       "      <th>2713</th>\n",
       "      <td>D0022_A</td>\n",
       "      <td>1201.99</td>\n",
       "      <td>1205.47</td>\n",
       "      <td>tweet tweet tweet tweet tweet트를 � energized</td>\n",
       "      <td>5.375</td>\n",
       "      <td>1.0</td>\n",
       "      <td>对对对对对确实。</td>\n",
       "      <td>6</td>\n",
       "      <td>0</td>\n",
       "      <td>5.38</td>\n",
       "      <td>0.0</td>\n",
       "      <td>0.0</td>\n",
       "      <td>0.0</td>\n",
       "      <td>0.0</td>\n",
       "      <td>0.0</td>\n",
       "      <td>0.0</td>\n",
       "      <td>0.0</td>\n",
       "      <td>0.0</td>\n",
       "      <td>0.0</td>\n",
       "      <td>对对对对对确实。</td>\n",
       "    </tr>\n",
       "  </tbody>\n",
       "</table>\n",
       "</div>"
      ],
      "text/plain": [
       "     Filename  Start_time  End_time  \\\n",
       "2713  D0022_A     1201.99   1205.47   \n",
       "\n",
       "                                     Whisper_large    WER  Stuttering_Count  \\\n",
       "2713   tweet tweet tweet tweet tweet트를 � energized  5.375               1.0   \n",
       "\n",
       "     Stu-wer-compared-groundtruth  NA_Count  NA_Cleaned_Count  WER_Binned  \\\n",
       "2713                     对对对对对确实。         6                 0        5.38   \n",
       "\n",
       "      stu-rouge1-precision  stu-rouge1-recall  stu-rouge1-f1  \\\n",
       "2713                   0.0                0.0            0.0   \n",
       "\n",
       "      stu-rouge2-precision  stu-rouge2-recall  stu-rouge2-f1  \\\n",
       "2713                   0.0                0.0            0.0   \n",
       "\n",
       "      stu-rougel-precision  stu-rougel-recall  stu-rougel-f1  \\\n",
       "2713                   0.0                0.0            0.0   \n",
       "\n",
       "     Stu-rouge-compared-groundtruth  \n",
       "2713                       对对对对对确实。  "
      ]
     },
     "execution_count": 109,
     "metadata": {},
     "output_type": "execute_result"
    }
   ],
   "source": [
    "net_aigenerated_data_whisper_large[net_aigenerated_data_whisper_large[\"Start_time\"] == 1201.99]"
   ]
  },
  {
   "cell_type": "markdown",
   "id": "e168fe8f-996a-4cd6-95a3-2cf27a953bdb",
   "metadata": {},
   "source": [
    "***"
   ]
  },
  {
   "cell_type": "markdown",
   "id": "66df7896-9fb5-4e1c-9682-fd0eb7255141",
   "metadata": {
    "tags": []
   },
   "source": [
    "**Now we have raw data of all audio transcriptions from datasets [updated_annotation_deid_full] in `net_data` and AI predicted transcriptions in `net_aigenerated_data_whisper_tiny`**"
   ]
  },
  {
   "cell_type": "markdown",
   "id": "3badb06d-e52d-4982-a64e-2e233375d6ce",
   "metadata": {},
   "source": [
    "***"
   ]
  },
  {
   "cell_type": "markdown",
   "id": "09387ef6-9c22-4a03-8ec6-8f8afb2e00f3",
   "metadata": {},
   "source": [
    "## Whisper Tiny WER Analysis"
   ]
  },
  {
   "cell_type": "code",
   "execution_count": 110,
   "id": "64d64930-1ea6-4e4e-9863-7f0b346444d4",
   "metadata": {
    "tags": []
   },
   "outputs": [
    {
     "name": "stderr",
     "output_type": "stream",
     "text": [
      "  0%|          | 131/37253 [00:00<04:22, 141.63it/s]"
     ]
    },
    {
     "name": "stdout",
     "output_type": "stream",
     "text": [
      "Skipping due to missing or non-string Whisper_tiny.\n",
      "Skipping due to missing or non-string Whisper_tiny.\n"
     ]
    },
    {
     "name": "stderr",
     "output_type": "stream",
     "text": [
      "  0%|          | 179/37253 [00:01<04:06, 150.31it/s]"
     ]
    },
    {
     "name": "stdout",
     "output_type": "stream",
     "text": [
      "Skipping due to missing or non-string Whisper_tiny.\n"
     ]
    },
    {
     "name": "stderr",
     "output_type": "stream",
     "text": [
      "  1%|          | 306/37253 [00:02<03:59, 154.41it/s]"
     ]
    },
    {
     "name": "stdout",
     "output_type": "stream",
     "text": [
      "Skipping due to missing or non-string Whisper_tiny.\n"
     ]
    },
    {
     "name": "stderr",
     "output_type": "stream",
     "text": [
      "  1%|          | 451/37253 [00:03<04:02, 151.45it/s]"
     ]
    },
    {
     "name": "stdout",
     "output_type": "stream",
     "text": [
      "Skipping due to missing or non-string Whisper_tiny.\n"
     ]
    },
    {
     "name": "stderr",
     "output_type": "stream",
     "text": [
      "  1%|▏         | 531/37253 [00:03<03:55, 155.66it/s]"
     ]
    },
    {
     "name": "stdout",
     "output_type": "stream",
     "text": [
      "Skipping due to missing or non-string Whisper_tiny.\n"
     ]
    },
    {
     "name": "stderr",
     "output_type": "stream",
     "text": [
      "  2%|▏         | 882/37253 [00:05<04:00, 151.46it/s]"
     ]
    },
    {
     "name": "stdout",
     "output_type": "stream",
     "text": [
      "Skipping due to missing or non-string Whisper_tiny.\n",
      "Skipping due to missing or non-string Whisper_tiny.\n"
     ]
    },
    {
     "name": "stderr",
     "output_type": "stream",
     "text": [
      "  3%|▎         | 1183/37253 [00:07<03:37, 165.58it/s]"
     ]
    },
    {
     "name": "stdout",
     "output_type": "stream",
     "text": [
      "Skipping due to missing or non-string Whisper_tiny.\n"
     ]
    },
    {
     "name": "stderr",
     "output_type": "stream",
     "text": [
      "  3%|▎         | 1268/37253 [00:08<03:55, 152.99it/s]"
     ]
    },
    {
     "name": "stdout",
     "output_type": "stream",
     "text": [
      "Skipping due to missing or non-string Whisper_tiny.\n"
     ]
    },
    {
     "name": "stderr",
     "output_type": "stream",
     "text": [
      "  4%|▎         | 1360/37253 [00:09<04:17, 139.37it/s]"
     ]
    },
    {
     "name": "stdout",
     "output_type": "stream",
     "text": [
      "Skipping due to missing or non-string Whisper_tiny.\n"
     ]
    },
    {
     "name": "stderr",
     "output_type": "stream",
     "text": [
      "  4%|▍         | 1507/37253 [00:10<04:11, 142.25it/s]"
     ]
    },
    {
     "name": "stdout",
     "output_type": "stream",
     "text": [
      "Skipping due to missing or non-string Whisper_tiny.\n"
     ]
    },
    {
     "name": "stderr",
     "output_type": "stream",
     "text": [
      "  4%|▍         | 1610/37253 [00:10<04:10, 142.16it/s]"
     ]
    },
    {
     "name": "stdout",
     "output_type": "stream",
     "text": [
      "Skipping due to missing or non-string Whisper_tiny.\n",
      "Skipping due to missing or non-string Whisper_tiny.\n"
     ]
    },
    {
     "name": "stderr",
     "output_type": "stream",
     "text": [
      "  4%|▍         | 1657/37253 [00:11<03:59, 148.42it/s]"
     ]
    },
    {
     "name": "stdout",
     "output_type": "stream",
     "text": [
      "Skipping due to missing or non-string Whisper_tiny.\n",
      "Skipping due to missing or non-string Whisper_tiny.\n",
      "Skipping due to missing or non-string Whisper_tiny.\n",
      "Skipping due to missing or non-string Whisper_tiny.\n"
     ]
    },
    {
     "name": "stderr",
     "output_type": "stream",
     "text": [
      "  5%|▍         | 1705/37253 [00:11<03:50, 154.54it/s]"
     ]
    },
    {
     "name": "stdout",
     "output_type": "stream",
     "text": [
      "Skipping due to missing or non-string Whisper_tiny.\n",
      "Skipping due to missing or non-string Whisper_tiny.\n",
      "Skipping due to missing or non-string Whisper_tiny.\n"
     ]
    },
    {
     "name": "stderr",
     "output_type": "stream",
     "text": [
      "  5%|▍         | 1855/37253 [00:12<03:57, 148.80it/s]"
     ]
    },
    {
     "name": "stdout",
     "output_type": "stream",
     "text": [
      "Skipping: One of the rows is empty.\n"
     ]
    },
    {
     "name": "stderr",
     "output_type": "stream",
     "text": [
      "  5%|▌         | 1915/37253 [00:12<03:59, 147.31it/s]"
     ]
    },
    {
     "name": "stdout",
     "output_type": "stream",
     "text": [
      "Skipping due to missing or non-string Whisper_tiny.\n"
     ]
    },
    {
     "name": "stderr",
     "output_type": "stream",
     "text": [
      "  5%|▌         | 1975/37253 [00:13<04:06, 142.97it/s]"
     ]
    },
    {
     "name": "stdout",
     "output_type": "stream",
     "text": [
      "Skipping due to missing or non-string Whisper_tiny.\n",
      "Skipping due to missing or non-string Whisper_tiny.\n",
      "Skipping due to missing or non-string Whisper_tiny.\n"
     ]
    },
    {
     "name": "stderr",
     "output_type": "stream",
     "text": [
      "  5%|▌         | 2021/37253 [00:13<04:08, 141.82it/s]"
     ]
    },
    {
     "name": "stdout",
     "output_type": "stream",
     "text": [
      "Skipping due to missing or non-string Whisper_tiny.\n",
      "Skipping due to missing or non-string Whisper_tiny.\n"
     ]
    },
    {
     "name": "stderr",
     "output_type": "stream",
     "text": [
      "  6%|▌         | 2067/37253 [00:13<04:00, 146.12it/s]"
     ]
    },
    {
     "name": "stdout",
     "output_type": "stream",
     "text": [
      "Skipping due to missing or non-string Whisper_tiny.\n"
     ]
    },
    {
     "name": "stderr",
     "output_type": "stream",
     "text": [
      "  6%|▌         | 2144/37253 [00:14<03:56, 148.34it/s]"
     ]
    },
    {
     "name": "stdout",
     "output_type": "stream",
     "text": [
      "Skipping due to missing or non-string Whisper_tiny.\n",
      "Skipping due to missing or non-string Whisper_tiny.\n",
      "Skipping due to missing or non-string Whisper_tiny.\n"
     ]
    },
    {
     "name": "stderr",
     "output_type": "stream",
     "text": [
      "  6%|▌         | 2208/37253 [00:14<03:51, 151.15it/s]"
     ]
    },
    {
     "name": "stdout",
     "output_type": "stream",
     "text": [
      "Skipping due to missing or non-string Whisper_tiny.\n"
     ]
    },
    {
     "name": "stderr",
     "output_type": "stream",
     "text": [
      "  7%|▋         | 2560/37253 [00:17<03:56, 146.62it/s]"
     ]
    },
    {
     "name": "stdout",
     "output_type": "stream",
     "text": [
      "Skipping due to missing or non-string Whisper_tiny.\n"
     ]
    },
    {
     "name": "stderr",
     "output_type": "stream",
     "text": [
      "  7%|▋         | 2671/37253 [00:18<03:46, 152.49it/s]"
     ]
    },
    {
     "name": "stdout",
     "output_type": "stream",
     "text": [
      "Skipping due to missing or non-string Whisper_tiny.\n"
     ]
    },
    {
     "name": "stderr",
     "output_type": "stream",
     "text": [
      "  7%|▋         | 2703/37253 [00:18<03:44, 153.81it/s]"
     ]
    },
    {
     "name": "stdout",
     "output_type": "stream",
     "text": [
      "Skipping due to missing or non-string Whisper_tiny.\n"
     ]
    },
    {
     "name": "stderr",
     "output_type": "stream",
     "text": [
      "  7%|▋         | 2735/37253 [00:18<03:45, 153.02it/s]"
     ]
    },
    {
     "name": "stdout",
     "output_type": "stream",
     "text": [
      "Skipping due to missing or non-string Whisper_tiny.\n",
      "Skipping due to missing or non-string Whisper_tiny.\n"
     ]
    },
    {
     "name": "stderr",
     "output_type": "stream",
     "text": [
      "  7%|▋         | 2766/37253 [00:18<04:08, 138.68it/s]"
     ]
    },
    {
     "name": "stdout",
     "output_type": "stream",
     "text": [
      "Skipping due to missing or non-string Whisper_tiny.\n",
      "Skipping due to missing or non-string Whisper_tiny.\n"
     ]
    },
    {
     "name": "stderr",
     "output_type": "stream",
     "text": [
      "  8%|▊         | 2809/37253 [00:19<04:15, 134.59it/s]"
     ]
    },
    {
     "name": "stdout",
     "output_type": "stream",
     "text": [
      "Skipping due to missing or non-string Whisper_tiny.\n",
      "Skipping due to missing or non-string Whisper_tiny.\n"
     ]
    },
    {
     "name": "stderr",
     "output_type": "stream",
     "text": [
      "  8%|▊         | 2865/37253 [00:19<04:32, 126.31it/s]"
     ]
    },
    {
     "name": "stdout",
     "output_type": "stream",
     "text": [
      "Skipping due to missing or non-string Whisper_tiny.\n"
     ]
    },
    {
     "name": "stderr",
     "output_type": "stream",
     "text": [
      "  8%|▊         | 2940/37253 [00:20<04:00, 142.55it/s]"
     ]
    },
    {
     "name": "stdout",
     "output_type": "stream",
     "text": [
      "Skipping due to missing or non-string Whisper_tiny.\n"
     ]
    },
    {
     "name": "stderr",
     "output_type": "stream",
     "text": [
      "  9%|▉         | 3360/37253 [00:23<04:31, 124.95it/s]"
     ]
    },
    {
     "name": "stdout",
     "output_type": "stream",
     "text": [
      "Skipping due to missing or non-string Whisper_tiny.\n"
     ]
    },
    {
     "name": "stderr",
     "output_type": "stream",
     "text": [
      "  9%|▉         | 3386/37253 [00:23<04:32, 124.20it/s]"
     ]
    },
    {
     "name": "stdout",
     "output_type": "stream",
     "text": [
      "Skipping due to missing or non-string Whisper_tiny.\n",
      "Skipping due to missing or non-string Whisper_tiny.\n"
     ]
    },
    {
     "name": "stderr",
     "output_type": "stream",
     "text": [
      "  9%|▉         | 3464/37253 [00:24<04:44, 118.64it/s]"
     ]
    },
    {
     "name": "stdout",
     "output_type": "stream",
     "text": [
      "Skipping due to missing or non-string Whisper_tiny.\n"
     ]
    },
    {
     "name": "stderr",
     "output_type": "stream",
     "text": [
      " 10%|▉         | 3716/37253 [00:26<03:36, 154.71it/s]"
     ]
    },
    {
     "name": "stdout",
     "output_type": "stream",
     "text": [
      "Skipping due to missing or non-string Whisper_tiny.\n",
      "Skipping due to missing or non-string Whisper_tiny.\n",
      "Skipping due to missing or non-string Whisper_tiny.\n"
     ]
    },
    {
     "name": "stderr",
     "output_type": "stream",
     "text": [
      " 10%|█         | 3767/37253 [00:26<03:28, 160.71it/s]"
     ]
    },
    {
     "name": "stdout",
     "output_type": "stream",
     "text": [
      "Skipping due to missing or non-string Whisper_tiny.\n",
      "Skipping due to missing or non-string Whisper_tiny.\n"
     ]
    },
    {
     "name": "stderr",
     "output_type": "stream",
     "text": [
      " 10%|█         | 3801/37253 [00:26<03:32, 157.56it/s]"
     ]
    },
    {
     "name": "stdout",
     "output_type": "stream",
     "text": [
      "Skipping due to missing or non-string Whisper_tiny.\n",
      "Skipping due to missing or non-string Whisper_tiny.\n",
      "Skipping due to missing or non-string Whisper_tiny.\n",
      "Skipping due to missing or non-string Whisper_tiny.\n"
     ]
    },
    {
     "name": "stderr",
     "output_type": "stream",
     "text": [
      " 11%|█         | 4049/37253 [00:28<03:24, 162.75it/s]"
     ]
    },
    {
     "name": "stdout",
     "output_type": "stream",
     "text": [
      "Skipping due to missing or non-string Whisper_tiny.\n",
      "Skipping due to missing or non-string Whisper_tiny.\n",
      "Skipping due to missing or non-string Whisper_tiny.\n",
      "Skipping due to missing or non-string Whisper_tiny.\n"
     ]
    },
    {
     "name": "stderr",
     "output_type": "stream",
     "text": [
      " 11%|█         | 4083/37253 [00:28<03:30, 157.87it/s]"
     ]
    },
    {
     "name": "stdout",
     "output_type": "stream",
     "text": [
      "Skipping due to missing or non-string Whisper_tiny.\n",
      "Skipping due to missing or non-string Whisper_tiny.\n"
     ]
    },
    {
     "name": "stderr",
     "output_type": "stream",
     "text": [
      " 11%|█         | 4132/37253 [00:28<03:24, 161.76it/s]"
     ]
    },
    {
     "name": "stdout",
     "output_type": "stream",
     "text": [
      "Skipping due to missing or non-string Whisper_tiny.\n",
      "Skipping due to missing or non-string Whisper_tiny.\n",
      "Skipping due to missing or non-string Whisper_tiny.\n"
     ]
    },
    {
     "name": "stderr",
     "output_type": "stream",
     "text": [
      " 11%|█         | 4183/37253 [00:28<03:25, 160.60it/s]"
     ]
    },
    {
     "name": "stdout",
     "output_type": "stream",
     "text": [
      "Skipping due to missing or non-string Whisper_tiny.\n",
      "Skipping due to missing or non-string Whisper_tiny.\n"
     ]
    },
    {
     "name": "stderr",
     "output_type": "stream",
     "text": [
      " 11%|█▏        | 4249/37253 [00:29<03:38, 151.12it/s]"
     ]
    },
    {
     "name": "stdout",
     "output_type": "stream",
     "text": [
      "Skipping due to missing or non-string Whisper_tiny.\n"
     ]
    },
    {
     "name": "stderr",
     "output_type": "stream",
     "text": [
      " 12%|█▏        | 4372/37253 [00:30<03:44, 146.79it/s]"
     ]
    },
    {
     "name": "stdout",
     "output_type": "stream",
     "text": [
      "Skipping due to missing or non-string Whisper_tiny.\n"
     ]
    },
    {
     "name": "stderr",
     "output_type": "stream",
     "text": [
      " 12%|█▏        | 4456/37253 [00:30<03:23, 160.87it/s]"
     ]
    },
    {
     "name": "stdout",
     "output_type": "stream",
     "text": [
      "Skipping due to missing or non-string Whisper_tiny.\n",
      "Skipping due to missing or non-string Whisper_tiny.\n",
      "Skipping due to missing or non-string Whisper_tiny.\n"
     ]
    },
    {
     "name": "stderr",
     "output_type": "stream",
     "text": [
      " 12%|█▏        | 4604/37253 [00:31<03:36, 151.13it/s]"
     ]
    },
    {
     "name": "stdout",
     "output_type": "stream",
     "text": [
      "Skipping due to missing or non-string Whisper_tiny.\n",
      "Skipping due to missing or non-string Whisper_tiny.\n",
      "Skipping due to missing or non-string Whisper_tiny.\n"
     ]
    },
    {
     "name": "stderr",
     "output_type": "stream",
     "text": [
      " 13%|█▎        | 4668/37253 [00:32<03:36, 150.25it/s]"
     ]
    },
    {
     "name": "stdout",
     "output_type": "stream",
     "text": [
      "Skipping due to missing or non-string Whisper_tiny.\n"
     ]
    },
    {
     "name": "stderr",
     "output_type": "stream",
     "text": [
      " 13%|█▎        | 4701/37253 [00:32<03:34, 151.78it/s]"
     ]
    },
    {
     "name": "stdout",
     "output_type": "stream",
     "text": [
      "Skipping due to missing or non-string Whisper_tiny.\n"
     ]
    },
    {
     "name": "stderr",
     "output_type": "stream",
     "text": [
      " 13%|█▎        | 4749/37253 [00:32<03:29, 155.23it/s]"
     ]
    },
    {
     "name": "stdout",
     "output_type": "stream",
     "text": [
      "Skipping due to missing or non-string Whisper_tiny.\n"
     ]
    },
    {
     "name": "stderr",
     "output_type": "stream",
     "text": [
      " 13%|█▎        | 4925/37253 [00:33<03:36, 149.37it/s]"
     ]
    },
    {
     "name": "stdout",
     "output_type": "stream",
     "text": [
      "Skipping due to missing or non-string Whisper_tiny.\n"
     ]
    },
    {
     "name": "stderr",
     "output_type": "stream",
     "text": [
      " 13%|█▎        | 4973/37253 [00:34<03:31, 152.38it/s]"
     ]
    },
    {
     "name": "stdout",
     "output_type": "stream",
     "text": [
      "Skipping due to missing or non-string Whisper_tiny.\n"
     ]
    },
    {
     "name": "stderr",
     "output_type": "stream",
     "text": [
      " 14%|█▎        | 5108/37253 [00:35<03:15, 164.61it/s]"
     ]
    },
    {
     "name": "stdout",
     "output_type": "stream",
     "text": [
      "Skipping due to missing or non-string Whisper_tiny.\n"
     ]
    },
    {
     "name": "stderr",
     "output_type": "stream",
     "text": [
      " 14%|█▍        | 5176/37253 [00:35<03:17, 162.52it/s]"
     ]
    },
    {
     "name": "stdout",
     "output_type": "stream",
     "text": [
      "Skipping due to missing or non-string Whisper_tiny.\n"
     ]
    },
    {
     "name": "stderr",
     "output_type": "stream",
     "text": [
      " 14%|█▍        | 5335/37253 [00:36<03:34, 149.05it/s]"
     ]
    },
    {
     "name": "stdout",
     "output_type": "stream",
     "text": [
      "Skipping due to missing or non-string Whisper_tiny.\n"
     ]
    },
    {
     "name": "stderr",
     "output_type": "stream",
     "text": [
      " 15%|█▌        | 5773/37253 [00:39<04:02, 129.82it/s]"
     ]
    },
    {
     "name": "stdout",
     "output_type": "stream",
     "text": [
      "Skipping due to missing or non-string Whisper_tiny.\n"
     ]
    },
    {
     "name": "stderr",
     "output_type": "stream",
     "text": [
      " 16%|█▌        | 5802/37253 [00:39<03:54, 134.13it/s]"
     ]
    },
    {
     "name": "stdout",
     "output_type": "stream",
     "text": [
      "Skipping due to missing or non-string Whisper_tiny.\n"
     ]
    },
    {
     "name": "stderr",
     "output_type": "stream",
     "text": [
      " 16%|█▌        | 5832/37253 [00:40<03:42, 141.01it/s]"
     ]
    },
    {
     "name": "stdout",
     "output_type": "stream",
     "text": [
      "Skipping due to missing or non-string Whisper_tiny.\n",
      "Skipping due to missing or non-string Whisper_tiny.\n",
      "Skipping due to missing or non-string Whisper_tiny.\n"
     ]
    },
    {
     "name": "stderr",
     "output_type": "stream",
     "text": [
      " 16%|█▌        | 5877/37253 [00:40<03:42, 141.16it/s]"
     ]
    },
    {
     "name": "stdout",
     "output_type": "stream",
     "text": [
      "Skipping due to missing or non-string Whisper_tiny.\n"
     ]
    },
    {
     "name": "stderr",
     "output_type": "stream",
     "text": [
      " 16%|█▌        | 5911/37253 [00:40<03:26, 151.64it/s]"
     ]
    },
    {
     "name": "stdout",
     "output_type": "stream",
     "text": [
      "Skipping due to missing or non-string Whisper_tiny.\n"
     ]
    },
    {
     "name": "stderr",
     "output_type": "stream",
     "text": [
      " 16%|█▌        | 5962/37253 [00:40<03:16, 158.91it/s]"
     ]
    },
    {
     "name": "stdout",
     "output_type": "stream",
     "text": [
      "Skipping due to missing or non-string Whisper_tiny.\n"
     ]
    },
    {
     "name": "stderr",
     "output_type": "stream",
     "text": [
      " 16%|█▌        | 6009/37253 [00:41<03:30, 148.74it/s]"
     ]
    },
    {
     "name": "stdout",
     "output_type": "stream",
     "text": [
      "Skipping due to missing or non-string Whisper_tiny.\n",
      "Skipping due to missing or non-string Whisper_tiny.\n"
     ]
    },
    {
     "name": "stderr",
     "output_type": "stream",
     "text": [
      " 16%|█▌        | 6039/37253 [00:41<03:33, 145.89it/s]"
     ]
    },
    {
     "name": "stdout",
     "output_type": "stream",
     "text": [
      "Skipping due to missing or non-string Whisper_tiny.\n",
      "Skipping due to missing or non-string Whisper_tiny.\n"
     ]
    },
    {
     "name": "stderr",
     "output_type": "stream",
     "text": [
      " 16%|█▋        | 6084/37253 [00:41<03:38, 142.42it/s]"
     ]
    },
    {
     "name": "stdout",
     "output_type": "stream",
     "text": [
      "Skipping due to missing or non-string Whisper_tiny.\n"
     ]
    },
    {
     "name": "stderr",
     "output_type": "stream",
     "text": [
      " 17%|█▋        | 6176/37253 [00:42<03:31, 146.94it/s]"
     ]
    },
    {
     "name": "stdout",
     "output_type": "stream",
     "text": [
      "Skipping due to missing or non-string Whisper_tiny.\n",
      "Skipping due to missing or non-string Whisper_tiny.\n"
     ]
    },
    {
     "name": "stderr",
     "output_type": "stream",
     "text": [
      " 17%|█▋        | 6240/37253 [00:42<03:20, 154.81it/s]"
     ]
    },
    {
     "name": "stdout",
     "output_type": "stream",
     "text": [
      "Skipping due to missing or non-string Whisper_tiny.\n",
      "Skipping due to missing or non-string Whisper_tiny.\n",
      "Skipping due to missing or non-string Whisper_tiny.\n",
      "Skipping due to missing or non-string Whisper_tiny.\n",
      "Skipping due to missing or non-string Whisper_tiny.\n"
     ]
    },
    {
     "name": "stderr",
     "output_type": "stream",
     "text": [
      " 17%|█▋        | 6275/37253 [00:42<03:13, 159.82it/s]"
     ]
    },
    {
     "name": "stdout",
     "output_type": "stream",
     "text": [
      "Skipping due to missing or non-string Whisper_tiny.\n",
      "Skipping due to missing or non-string Whisper_tiny.\n",
      "Skipping due to missing or non-string Whisper_tiny.\n",
      "Skipping due to missing or non-string Whisper_tiny.\n",
      "Skipping due to missing or non-string Whisper_tiny.\n"
     ]
    },
    {
     "name": "stderr",
     "output_type": "stream",
     "text": [
      " 17%|█▋        | 6309/37253 [00:43<03:13, 159.64it/s]"
     ]
    },
    {
     "name": "stdout",
     "output_type": "stream",
     "text": [
      "Skipping due to missing or non-string Whisper_tiny.\n",
      "Skipping due to missing or non-string Whisper_tiny.\n"
     ]
    },
    {
     "name": "stderr",
     "output_type": "stream",
     "text": [
      " 18%|█▊        | 6615/37253 [00:45<03:20, 152.85it/s]"
     ]
    },
    {
     "name": "stdout",
     "output_type": "stream",
     "text": [
      "Skipping due to missing or non-string Whisper_tiny.\n"
     ]
    },
    {
     "name": "stderr",
     "output_type": "stream",
     "text": [
      " 18%|█▊        | 6663/37253 [00:45<03:19, 153.21it/s]"
     ]
    },
    {
     "name": "stdout",
     "output_type": "stream",
     "text": [
      "Skipping due to missing or non-string Whisper_tiny.\n"
     ]
    },
    {
     "name": "stderr",
     "output_type": "stream",
     "text": [
      " 18%|█▊        | 6696/37253 [00:45<03:16, 155.20it/s]"
     ]
    },
    {
     "name": "stdout",
     "output_type": "stream",
     "text": [
      "Skipping due to missing or non-string Whisper_tiny.\n",
      "Skipping due to missing or non-string Whisper_tiny.\n"
     ]
    },
    {
     "name": "stderr",
     "output_type": "stream",
     "text": [
      " 18%|█▊        | 6743/37253 [00:46<03:28, 146.43it/s]"
     ]
    },
    {
     "name": "stdout",
     "output_type": "stream",
     "text": [
      "Skipping due to missing or non-string Whisper_tiny.\n"
     ]
    },
    {
     "name": "stderr",
     "output_type": "stream",
     "text": [
      " 18%|█▊        | 6804/37253 [00:46<03:27, 146.76it/s]"
     ]
    },
    {
     "name": "stdout",
     "output_type": "stream",
     "text": [
      "Skipping due to missing or non-string Whisper_tiny.\n"
     ]
    },
    {
     "name": "stderr",
     "output_type": "stream",
     "text": [
      " 19%|█▉        | 7008/37253 [00:47<03:13, 156.16it/s]"
     ]
    },
    {
     "name": "stdout",
     "output_type": "stream",
     "text": [
      "Skipping due to missing or non-string Whisper_tiny.\n"
     ]
    },
    {
     "name": "stderr",
     "output_type": "stream",
     "text": [
      " 19%|█▉        | 7139/37253 [00:48<03:07, 160.45it/s]"
     ]
    },
    {
     "name": "stdout",
     "output_type": "stream",
     "text": [
      "Skipping due to missing or non-string Whisper_tiny.\n",
      "Skipping due to missing or non-string Whisper_tiny.\n"
     ]
    },
    {
     "name": "stderr",
     "output_type": "stream",
     "text": [
      " 19%|█▉        | 7173/37253 [00:48<03:04, 162.94it/s]"
     ]
    },
    {
     "name": "stdout",
     "output_type": "stream",
     "text": [
      "Skipping due to missing or non-string Whisper_tiny.\n"
     ]
    },
    {
     "name": "stderr",
     "output_type": "stream",
     "text": [
      " 19%|█▉        | 7239/37253 [00:49<03:17, 151.82it/s]"
     ]
    },
    {
     "name": "stdout",
     "output_type": "stream",
     "text": [
      "Skipping due to missing or non-string Whisper_tiny.\n",
      "Skipping due to missing or non-string Whisper_tiny.\n"
     ]
    },
    {
     "name": "stderr",
     "output_type": "stream",
     "text": [
      " 20%|██        | 7484/37253 [00:51<03:20, 148.36it/s]"
     ]
    },
    {
     "name": "stdout",
     "output_type": "stream",
     "text": [
      "Skipping due to missing or non-string Whisper_tiny.\n"
     ]
    },
    {
     "name": "stderr",
     "output_type": "stream",
     "text": [
      " 20%|██        | 7531/37253 [00:51<03:19, 149.02it/s]"
     ]
    },
    {
     "name": "stdout",
     "output_type": "stream",
     "text": [
      "Skipping due to missing or non-string Whisper_tiny.\n",
      "Skipping due to missing or non-string Whisper_tiny.\n",
      "Skipping due to missing or non-string Whisper_tiny.\n"
     ]
    },
    {
     "name": "stderr",
     "output_type": "stream",
     "text": [
      " 20%|██        | 7578/37253 [00:51<03:15, 152.17it/s]"
     ]
    },
    {
     "name": "stdout",
     "output_type": "stream",
     "text": [
      "Skipping due to missing or non-string Whisper_tiny.\n"
     ]
    },
    {
     "name": "stderr",
     "output_type": "stream",
     "text": [
      " 21%|██        | 7645/37253 [00:52<03:06, 158.83it/s]"
     ]
    },
    {
     "name": "stdout",
     "output_type": "stream",
     "text": [
      "Skipping due to missing or non-string Whisper_tiny.\n",
      "Skipping due to missing or non-string Whisper_tiny.\n"
     ]
    },
    {
     "name": "stderr",
     "output_type": "stream",
     "text": [
      " 21%|██        | 7726/37253 [00:52<03:14, 151.83it/s]"
     ]
    },
    {
     "name": "stdout",
     "output_type": "stream",
     "text": [
      "Skipping due to missing or non-string Whisper_tiny.\n"
     ]
    },
    {
     "name": "stderr",
     "output_type": "stream",
     "text": [
      " 21%|██▏       | 7972/37253 [00:54<03:09, 154.42it/s]"
     ]
    },
    {
     "name": "stdout",
     "output_type": "stream",
     "text": [
      "Skipping due to missing or non-string Whisper_tiny.\n",
      "Skipping due to missing or non-string Whisper_tiny.\n"
     ]
    },
    {
     "name": "stderr",
     "output_type": "stream",
     "text": [
      " 22%|██▏       | 8085/37253 [00:55<03:08, 154.68it/s]"
     ]
    },
    {
     "name": "stdout",
     "output_type": "stream",
     "text": [
      "Skipping due to missing or non-string Whisper_tiny.\n"
     ]
    },
    {
     "name": "stderr",
     "output_type": "stream",
     "text": [
      " 22%|██▏       | 8119/37253 [00:55<03:02, 159.89it/s]"
     ]
    },
    {
     "name": "stdout",
     "output_type": "stream",
     "text": [
      "Skipping due to missing or non-string Whisper_tiny.\n",
      "Skipping due to missing or non-string Whisper_tiny.\n"
     ]
    },
    {
     "name": "stderr",
     "output_type": "stream",
     "text": [
      " 22%|██▏       | 8201/37253 [00:55<03:09, 153.26it/s]"
     ]
    },
    {
     "name": "stdout",
     "output_type": "stream",
     "text": [
      "Skipping due to missing or non-string Whisper_tiny.\n",
      "Skipping due to missing or non-string Whisper_tiny.\n",
      "Skipping due to missing or non-string Whisper_tiny.\n"
     ]
    },
    {
     "name": "stderr",
     "output_type": "stream",
     "text": [
      " 22%|██▏       | 8233/37253 [00:56<03:07, 154.50it/s]"
     ]
    },
    {
     "name": "stdout",
     "output_type": "stream",
     "text": [
      "Skipping due to missing or non-string Whisper_tiny.\n",
      "Skipping due to missing or non-string Whisper_tiny.\n"
     ]
    },
    {
     "name": "stderr",
     "output_type": "stream",
     "text": [
      " 22%|██▏       | 8379/37253 [00:57<03:00, 159.74it/s]"
     ]
    },
    {
     "name": "stdout",
     "output_type": "stream",
     "text": [
      "Skipping due to missing or non-string Whisper_tiny.\n",
      "Skipping due to missing or non-string Whisper_tiny.\n",
      "Skipping due to missing or non-string Whisper_tiny.\n",
      "Skipping due to missing or non-string Whisper_tiny.\n",
      "Skipping due to missing or non-string Whisper_tiny.\n"
     ]
    },
    {
     "name": "stderr",
     "output_type": "stream",
     "text": [
      " 23%|██▎       | 8411/37253 [00:57<03:06, 154.75it/s]"
     ]
    },
    {
     "name": "stdout",
     "output_type": "stream",
     "text": [
      "Skipping due to missing or non-string Whisper_tiny.\n"
     ]
    },
    {
     "name": "stderr",
     "output_type": "stream",
     "text": [
      " 23%|██▎       | 8529/37253 [00:57<02:57, 162.19it/s]"
     ]
    },
    {
     "name": "stdout",
     "output_type": "stream",
     "text": [
      "Skipping due to missing or non-string Whisper_tiny.\n",
      "Skipping due to missing or non-string Whisper_tiny.\n"
     ]
    },
    {
     "name": "stderr",
     "output_type": "stream",
     "text": [
      " 23%|██▎       | 8562/37253 [00:58<03:05, 154.91it/s]"
     ]
    },
    {
     "name": "stdout",
     "output_type": "stream",
     "text": [
      "Skipping due to missing or non-string Whisper_tiny.\n"
     ]
    },
    {
     "name": "stderr",
     "output_type": "stream",
     "text": [
      " 23%|██▎       | 8625/37253 [00:58<03:12, 148.35it/s]"
     ]
    },
    {
     "name": "stdout",
     "output_type": "stream",
     "text": [
      "Skipping due to missing or non-string Whisper_tiny.\n"
     ]
    },
    {
     "name": "stderr",
     "output_type": "stream",
     "text": [
      " 23%|██▎       | 8688/37253 [00:59<03:13, 147.34it/s]"
     ]
    },
    {
     "name": "stdout",
     "output_type": "stream",
     "text": [
      "Skipping due to missing or non-string Whisper_tiny.\n"
     ]
    },
    {
     "name": "stderr",
     "output_type": "stream",
     "text": [
      " 24%|██▎       | 8793/37253 [00:59<03:23, 140.19it/s]"
     ]
    },
    {
     "name": "stdout",
     "output_type": "stream",
     "text": [
      "Skipping due to missing or non-string Whisper_tiny.\n"
     ]
    },
    {
     "name": "stderr",
     "output_type": "stream",
     "text": [
      " 24%|██▍       | 9046/37253 [01:01<03:16, 143.37it/s]"
     ]
    },
    {
     "name": "stdout",
     "output_type": "stream",
     "text": [
      "Skipping due to missing or non-string Whisper_tiny.\n"
     ]
    },
    {
     "name": "stderr",
     "output_type": "stream",
     "text": [
      " 25%|██▍       | 9140/37253 [01:02<03:04, 152.36it/s]"
     ]
    },
    {
     "name": "stdout",
     "output_type": "stream",
     "text": [
      "Skipping due to missing or non-string Whisper_tiny.\n"
     ]
    },
    {
     "name": "stderr",
     "output_type": "stream",
     "text": [
      " 25%|██▍       | 9205/37253 [01:02<03:00, 155.21it/s]"
     ]
    },
    {
     "name": "stdout",
     "output_type": "stream",
     "text": [
      "Skipping due to missing or non-string Whisper_tiny.\n"
     ]
    },
    {
     "name": "stderr",
     "output_type": "stream",
     "text": [
      " 25%|██▌       | 9386/37253 [01:03<03:22, 137.47it/s]"
     ]
    },
    {
     "name": "stdout",
     "output_type": "stream",
     "text": [
      "Skipping due to missing or non-string Whisper_tiny.\n",
      "Skipping due to missing or non-string Whisper_tiny.\n"
     ]
    },
    {
     "name": "stderr",
     "output_type": "stream",
     "text": [
      " 25%|██▌       | 9447/37253 [01:04<03:15, 142.19it/s]"
     ]
    },
    {
     "name": "stdout",
     "output_type": "stream",
     "text": [
      "Skipping due to missing or non-string Whisper_tiny.\n"
     ]
    },
    {
     "name": "stderr",
     "output_type": "stream",
     "text": [
      " 26%|██▌       | 9621/37253 [01:05<03:03, 150.75it/s]"
     ]
    },
    {
     "name": "stdout",
     "output_type": "stream",
     "text": [
      "Skipping due to missing or non-string Whisper_tiny.\n"
     ]
    },
    {
     "name": "stderr",
     "output_type": "stream",
     "text": [
      " 26%|██▌       | 9777/37253 [01:06<03:04, 149.26it/s]"
     ]
    },
    {
     "name": "stdout",
     "output_type": "stream",
     "text": [
      "Skipping due to missing or non-string Whisper_tiny.\n",
      "Skipping due to missing or non-string Whisper_tiny.\n"
     ]
    },
    {
     "name": "stderr",
     "output_type": "stream",
     "text": [
      " 26%|██▋       | 9809/37253 [01:06<03:02, 150.33it/s]"
     ]
    },
    {
     "name": "stdout",
     "output_type": "stream",
     "text": [
      "Skipping due to missing or non-string Whisper_tiny.\n"
     ]
    },
    {
     "name": "stderr",
     "output_type": "stream",
     "text": [
      " 27%|██▋       | 10011/37253 [01:08<03:00, 150.91it/s]"
     ]
    },
    {
     "name": "stdout",
     "output_type": "stream",
     "text": [
      "Skipping due to missing or non-string Whisper_tiny.\n"
     ]
    },
    {
     "name": "stderr",
     "output_type": "stream",
     "text": [
      " 27%|██▋       | 10093/37253 [01:08<02:52, 157.55it/s]"
     ]
    },
    {
     "name": "stdout",
     "output_type": "stream",
     "text": [
      "Skipping due to missing or non-string Whisper_tiny.\n",
      "Skipping due to missing or non-string Whisper_tiny.\n"
     ]
    },
    {
     "name": "stderr",
     "output_type": "stream",
     "text": [
      " 28%|██▊       | 10321/37253 [01:10<02:50, 158.21it/s]"
     ]
    },
    {
     "name": "stdout",
     "output_type": "stream",
     "text": [
      "Skipping due to missing or non-string Whisper_tiny.\n"
     ]
    },
    {
     "name": "stderr",
     "output_type": "stream",
     "text": [
      " 28%|██▊       | 10484/37253 [01:11<03:06, 143.18it/s]"
     ]
    },
    {
     "name": "stdout",
     "output_type": "stream",
     "text": [
      "Skipping: One of the rows is empty.\n"
     ]
    },
    {
     "name": "stderr",
     "output_type": "stream",
     "text": [
      " 29%|██▊       | 10623/37253 [01:12<02:57, 150.29it/s]"
     ]
    },
    {
     "name": "stdout",
     "output_type": "stream",
     "text": [
      "Skipping due to missing or non-string Whisper_tiny.\n",
      "Skipping due to missing or non-string Whisper_tiny.\n"
     ]
    },
    {
     "name": "stderr",
     "output_type": "stream",
     "text": [
      " 29%|██▊       | 10704/37253 [01:12<02:50, 155.99it/s]"
     ]
    },
    {
     "name": "stdout",
     "output_type": "stream",
     "text": [
      "Skipping due to missing or non-string Whisper_tiny.\n",
      "Skipping due to missing or non-string Whisper_tiny.\n",
      "Skipping due to missing or non-string Whisper_tiny.\n",
      "Skipping due to missing or non-string Whisper_tiny.\n",
      "Skipping due to missing or non-string Whisper_tiny.\n"
     ]
    },
    {
     "name": "stderr",
     "output_type": "stream",
     "text": [
      " 29%|██▉       | 10864/37253 [01:13<02:48, 156.36it/s]"
     ]
    },
    {
     "name": "stdout",
     "output_type": "stream",
     "text": [
      "Skipping due to missing or non-string Whisper_tiny.\n",
      "Skipping due to missing or non-string Whisper_tiny.\n",
      "Skipping due to missing or non-string Whisper_tiny.\n"
     ]
    },
    {
     "name": "stderr",
     "output_type": "stream",
     "text": [
      " 29%|██▉       | 10913/37253 [01:14<02:49, 155.43it/s]"
     ]
    },
    {
     "name": "stdout",
     "output_type": "stream",
     "text": [
      "Skipping due to missing or non-string Whisper_tiny.\n"
     ]
    },
    {
     "name": "stderr",
     "output_type": "stream",
     "text": [
      " 30%|██▉       | 10993/37253 [01:14<02:57, 148.22it/s]"
     ]
    },
    {
     "name": "stdout",
     "output_type": "stream",
     "text": [
      "Skipping due to missing or non-string Whisper_tiny.\n",
      "Skipping due to missing or non-string Whisper_tiny.\n"
     ]
    },
    {
     "name": "stderr",
     "output_type": "stream",
     "text": [
      " 30%|███       | 11177/37253 [01:15<02:58, 146.24it/s]"
     ]
    },
    {
     "name": "stdout",
     "output_type": "stream",
     "text": [
      "Skipping due to missing or non-string Whisper_tiny.\n",
      "Skipping due to missing or non-string Whisper_tiny.\n"
     ]
    },
    {
     "name": "stderr",
     "output_type": "stream",
     "text": [
      " 30%|███       | 11301/37253 [01:16<02:53, 149.29it/s]"
     ]
    },
    {
     "name": "stdout",
     "output_type": "stream",
     "text": [
      "Skipping due to missing or non-string Whisper_tiny.\n",
      "Skipping due to missing or non-string Whisper_tiny.\n"
     ]
    },
    {
     "name": "stderr",
     "output_type": "stream",
     "text": [
      " 31%|███       | 11503/37253 [01:18<02:46, 154.94it/s]"
     ]
    },
    {
     "name": "stdout",
     "output_type": "stream",
     "text": [
      "Skipping due to missing or non-string Whisper_tiny.\n",
      "Skipping due to missing or non-string Whisper_tiny.\n"
     ]
    },
    {
     "name": "stderr",
     "output_type": "stream",
     "text": [
      " 31%|███       | 11535/37253 [01:18<02:45, 155.79it/s]"
     ]
    },
    {
     "name": "stdout",
     "output_type": "stream",
     "text": [
      "Skipping due to missing or non-string Whisper_tiny.\n"
     ]
    },
    {
     "name": "stderr",
     "output_type": "stream",
     "text": [
      " 31%|███       | 11614/37253 [01:18<02:59, 143.02it/s]"
     ]
    },
    {
     "name": "stdout",
     "output_type": "stream",
     "text": [
      "Skipping due to missing or non-string Whisper_tiny.\n"
     ]
    },
    {
     "name": "stderr",
     "output_type": "stream",
     "text": [
      " 31%|███▏      | 11701/37253 [01:19<03:16, 130.08it/s]"
     ]
    },
    {
     "name": "stdout",
     "output_type": "stream",
     "text": [
      "Skipping due to missing or non-string Whisper_tiny.\n"
     ]
    },
    {
     "name": "stderr",
     "output_type": "stream",
     "text": [
      " 31%|███▏      | 11730/37253 [01:19<03:07, 136.07it/s]"
     ]
    },
    {
     "name": "stdout",
     "output_type": "stream",
     "text": [
      "Skipping due to missing or non-string Whisper_tiny.\n"
     ]
    },
    {
     "name": "stderr",
     "output_type": "stream",
     "text": [
      " 32%|███▏      | 11852/37253 [01:20<02:58, 142.24it/s]"
     ]
    },
    {
     "name": "stdout",
     "output_type": "stream",
     "text": [
      "Skipping due to missing or non-string Whisper_tiny.\n"
     ]
    },
    {
     "name": "stderr",
     "output_type": "stream",
     "text": [
      " 32%|███▏      | 11963/37253 [01:21<02:47, 151.04it/s]"
     ]
    },
    {
     "name": "stdout",
     "output_type": "stream",
     "text": [
      "Skipping due to missing or non-string Whisper_tiny.\n"
     ]
    },
    {
     "name": "stderr",
     "output_type": "stream",
     "text": [
      " 32%|███▏      | 11996/37253 [01:21<02:48, 150.17it/s]"
     ]
    },
    {
     "name": "stdout",
     "output_type": "stream",
     "text": [
      "Skipping due to missing or non-string Whisper_tiny.\n"
     ]
    },
    {
     "name": "stderr",
     "output_type": "stream",
     "text": [
      " 33%|███▎      | 12124/37253 [01:22<02:46, 151.29it/s]"
     ]
    },
    {
     "name": "stdout",
     "output_type": "stream",
     "text": [
      "Skipping due to missing or non-string Whisper_tiny.\n"
     ]
    },
    {
     "name": "stderr",
     "output_type": "stream",
     "text": [
      " 33%|███▎      | 12171/37253 [01:22<02:47, 149.66it/s]"
     ]
    },
    {
     "name": "stdout",
     "output_type": "stream",
     "text": [
      "Skipping due to missing or non-string Whisper_tiny.\n",
      "Skipping due to missing or non-string Whisper_tiny.\n",
      "Skipping due to missing or non-string Whisper_tiny.\n",
      "Skipping due to missing or non-string Whisper_tiny.\n",
      "Skipping due to missing or non-string Whisper_tiny.\n"
     ]
    },
    {
     "name": "stderr",
     "output_type": "stream",
     "text": [
      " 33%|███▎      | 12220/37253 [01:22<02:42, 153.92it/s]"
     ]
    },
    {
     "name": "stdout",
     "output_type": "stream",
     "text": [
      "Skipping due to missing or non-string Whisper_tiny.\n",
      "Skipping due to missing or non-string Whisper_tiny.\n",
      "Skipping due to missing or non-string Whisper_tiny.\n",
      "Skipping due to missing or non-string Whisper_tiny.\n"
     ]
    },
    {
     "name": "stderr",
     "output_type": "stream",
     "text": [
      " 33%|███▎      | 12253/37253 [01:23<02:41, 154.98it/s]"
     ]
    },
    {
     "name": "stdout",
     "output_type": "stream",
     "text": [
      "Skipping due to missing or non-string Whisper_tiny.\n",
      "Skipping due to missing or non-string Whisper_tiny.\n",
      "Skipping due to missing or non-string Whisper_tiny.\n"
     ]
    },
    {
     "name": "stderr",
     "output_type": "stream",
     "text": [
      " 33%|███▎      | 12317/37253 [01:23<02:47, 149.06it/s]"
     ]
    },
    {
     "name": "stdout",
     "output_type": "stream",
     "text": [
      "Skipping due to missing or non-string Whisper_tiny.\n",
      "Skipping due to missing or non-string Whisper_tiny.\n"
     ]
    },
    {
     "name": "stderr",
     "output_type": "stream",
     "text": [
      " 33%|███▎      | 12462/37253 [01:24<02:36, 158.50it/s]"
     ]
    },
    {
     "name": "stdout",
     "output_type": "stream",
     "text": [
      "Skipping due to missing or non-string Whisper_tiny.\n"
     ]
    },
    {
     "name": "stderr",
     "output_type": "stream",
     "text": [
      " 34%|███▎      | 12560/37253 [01:25<02:45, 149.47it/s]"
     ]
    },
    {
     "name": "stdout",
     "output_type": "stream",
     "text": [
      "Skipping due to missing or non-string Whisper_tiny.\n"
     ]
    },
    {
     "name": "stderr",
     "output_type": "stream",
     "text": [
      " 34%|███▍      | 12736/37253 [01:26<02:46, 147.44it/s]"
     ]
    },
    {
     "name": "stdout",
     "output_type": "stream",
     "text": [
      "Skipping due to missing or non-string Whisper_tiny.\n"
     ]
    },
    {
     "name": "stderr",
     "output_type": "stream",
     "text": [
      " 34%|███▍      | 12782/37253 [01:26<02:46, 146.70it/s]"
     ]
    },
    {
     "name": "stdout",
     "output_type": "stream",
     "text": [
      "Skipping due to missing or non-string Whisper_tiny.\n"
     ]
    },
    {
     "name": "stderr",
     "output_type": "stream",
     "text": [
      " 34%|███▍      | 12827/37253 [01:26<02:47, 145.58it/s]"
     ]
    },
    {
     "name": "stdout",
     "output_type": "stream",
     "text": [
      "Skipping due to missing or non-string Whisper_tiny.\n"
     ]
    },
    {
     "name": "stderr",
     "output_type": "stream",
     "text": [
      " 35%|███▍      | 12905/37253 [01:27<02:42, 149.63it/s]"
     ]
    },
    {
     "name": "stdout",
     "output_type": "stream",
     "text": [
      "Skipping due to missing or non-string Whisper_tiny.\n",
      "Skipping due to missing or non-string Whisper_tiny.\n",
      "Skipping due to missing or non-string Whisper_tiny.\n",
      "Skipping due to missing or non-string Whisper_tiny.\n",
      "Skipping due to missing or non-string Whisper_tiny.\n"
     ]
    },
    {
     "name": "stderr",
     "output_type": "stream",
     "text": [
      " 35%|███▍      | 12965/37253 [01:27<02:49, 143.66it/s]"
     ]
    },
    {
     "name": "stdout",
     "output_type": "stream",
     "text": [
      "Skipping due to missing or non-string Whisper_tiny.\n",
      "Skipping due to missing or non-string Whisper_tiny.\n",
      "Skipping due to missing or non-string Whisper_tiny.\n"
     ]
    },
    {
     "name": "stderr",
     "output_type": "stream",
     "text": [
      " 35%|███▌      | 13041/37253 [01:28<02:44, 147.52it/s]"
     ]
    },
    {
     "name": "stdout",
     "output_type": "stream",
     "text": [
      "Skipping due to missing or non-string Whisper_tiny.\n",
      "Skipping due to missing or non-string Whisper_tiny.\n"
     ]
    },
    {
     "name": "stderr",
     "output_type": "stream",
     "text": [
      " 35%|███▌      | 13071/37253 [01:28<02:48, 143.68it/s]"
     ]
    },
    {
     "name": "stdout",
     "output_type": "stream",
     "text": [
      "Skipping due to missing or non-string Whisper_tiny.\n",
      "Skipping due to missing or non-string Whisper_tiny.\n",
      "Skipping due to missing or non-string Whisper_tiny.\n"
     ]
    },
    {
     "name": "stderr",
     "output_type": "stream",
     "text": [
      " 35%|███▌      | 13116/37253 [01:29<02:52, 139.75it/s]"
     ]
    },
    {
     "name": "stdout",
     "output_type": "stream",
     "text": [
      "Skipping due to missing or non-string Whisper_tiny.\n",
      "Skipping due to missing or non-string Whisper_tiny.\n"
     ]
    },
    {
     "name": "stderr",
     "output_type": "stream",
     "text": [
      " 35%|███▌      | 13162/37253 [01:29<02:47, 143.44it/s]"
     ]
    },
    {
     "name": "stdout",
     "output_type": "stream",
     "text": [
      "Skipping due to missing or non-string Whisper_tiny.\n",
      "Skipping due to missing or non-string Whisper_tiny.\n",
      "Skipping due to missing or non-string Whisper_tiny.\n"
     ]
    },
    {
     "name": "stderr",
     "output_type": "stream",
     "text": [
      " 35%|███▌      | 13208/37253 [01:29<02:49, 141.99it/s]"
     ]
    },
    {
     "name": "stdout",
     "output_type": "stream",
     "text": [
      "Skipping due to missing or non-string Whisper_tiny.\n",
      "Skipping due to missing or non-string Whisper_tiny.\n"
     ]
    },
    {
     "name": "stderr",
     "output_type": "stream",
     "text": [
      " 36%|███▌      | 13255/37253 [01:29<02:40, 149.14it/s]"
     ]
    },
    {
     "name": "stdout",
     "output_type": "stream",
     "text": [
      "Skipping due to missing or non-string Whisper_tiny.\n",
      "Skipping due to missing or non-string Whisper_tiny.\n",
      "Skipping due to missing or non-string Whisper_tiny.\n",
      "Skipping due to missing or non-string Whisper_tiny.\n",
      "Skipping due to missing or non-string Whisper_tiny.\n"
     ]
    },
    {
     "name": "stderr",
     "output_type": "stream",
     "text": [
      " 36%|███▌      | 13317/37253 [01:30<02:37, 151.83it/s]"
     ]
    },
    {
     "name": "stdout",
     "output_type": "stream",
     "text": [
      "Skipping due to missing or non-string Whisper_tiny.\n",
      "Skipping due to missing or non-string Whisper_tiny.\n"
     ]
    },
    {
     "name": "stderr",
     "output_type": "stream",
     "text": [
      " 36%|███▌      | 13366/37253 [01:30<02:38, 150.86it/s]"
     ]
    },
    {
     "name": "stdout",
     "output_type": "stream",
     "text": [
      "Skipping due to missing or non-string Whisper_tiny.\n"
     ]
    },
    {
     "name": "stderr",
     "output_type": "stream",
     "text": [
      " 36%|███▌      | 13412/37253 [01:31<02:41, 147.54it/s]"
     ]
    },
    {
     "name": "stdout",
     "output_type": "stream",
     "text": [
      "Skipping due to missing or non-string Whisper_tiny.\n",
      "Skipping due to missing or non-string Whisper_tiny.\n",
      "Skipping due to missing or non-string Whisper_tiny.\n"
     ]
    },
    {
     "name": "stderr",
     "output_type": "stream",
     "text": [
      " 36%|███▌      | 13461/37253 [01:31<02:37, 151.29it/s]"
     ]
    },
    {
     "name": "stdout",
     "output_type": "stream",
     "text": [
      "Skipping due to missing or non-string Whisper_tiny.\n"
     ]
    },
    {
     "name": "stderr",
     "output_type": "stream",
     "text": [
      " 36%|███▌      | 13494/37253 [01:31<02:33, 154.51it/s]"
     ]
    },
    {
     "name": "stdout",
     "output_type": "stream",
     "text": [
      "Skipping due to missing or non-string Whisper_tiny.\n",
      "Skipping due to missing or non-string Whisper_tiny.\n",
      "Skipping due to missing or non-string Whisper_tiny.\n"
     ]
    },
    {
     "name": "stderr",
     "output_type": "stream",
     "text": [
      " 36%|███▋      | 13561/37253 [01:31<02:28, 159.51it/s]"
     ]
    },
    {
     "name": "stdout",
     "output_type": "stream",
     "text": [
      "Skipping due to missing or non-string Whisper_tiny.\n"
     ]
    },
    {
     "name": "stderr",
     "output_type": "stream",
     "text": [
      " 37%|███▋      | 13655/37253 [01:32<02:54, 135.27it/s]"
     ]
    },
    {
     "name": "stdout",
     "output_type": "stream",
     "text": [
      "Skipping due to missing or non-string Whisper_tiny.\n"
     ]
    },
    {
     "name": "stderr",
     "output_type": "stream",
     "text": [
      " 37%|███▋      | 13714/37253 [01:33<02:47, 140.65it/s]"
     ]
    },
    {
     "name": "stdout",
     "output_type": "stream",
     "text": [
      "Skipping due to missing or non-string Whisper_tiny.\n",
      "Skipping due to missing or non-string Whisper_tiny.\n",
      "Skipping due to missing or non-string Whisper_tiny.\n"
     ]
    },
    {
     "name": "stderr",
     "output_type": "stream",
     "text": [
      " 37%|███▋      | 13760/37253 [01:33<02:41, 145.41it/s]"
     ]
    },
    {
     "name": "stdout",
     "output_type": "stream",
     "text": [
      "Skipping due to missing or non-string Whisper_tiny.\n"
     ]
    },
    {
     "name": "stderr",
     "output_type": "stream",
     "text": [
      " 37%|███▋      | 13841/37253 [01:33<02:35, 150.29it/s]"
     ]
    },
    {
     "name": "stdout",
     "output_type": "stream",
     "text": [
      "Skipping due to missing or non-string Whisper_tiny.\n"
     ]
    },
    {
     "name": "stderr",
     "output_type": "stream",
     "text": [
      " 37%|███▋      | 13906/37253 [01:34<02:38, 146.93it/s]"
     ]
    },
    {
     "name": "stdout",
     "output_type": "stream",
     "text": [
      "Skipping due to missing or non-string Whisper_tiny.\n"
     ]
    },
    {
     "name": "stderr",
     "output_type": "stream",
     "text": [
      " 37%|███▋      | 13966/37253 [01:34<02:47, 139.26it/s]"
     ]
    },
    {
     "name": "stdout",
     "output_type": "stream",
     "text": [
      "Skipping due to missing or non-string Whisper_tiny.\n",
      "Skipping due to missing or non-string Whisper_tiny.\n",
      "Skipping due to missing or non-string Whisper_tiny.\n",
      "Skipping due to missing or non-string Whisper_tiny.\n"
     ]
    },
    {
     "name": "stderr",
     "output_type": "stream",
     "text": [
      " 38%|███▊      | 14059/37253 [01:35<02:29, 154.88it/s]"
     ]
    },
    {
     "name": "stdout",
     "output_type": "stream",
     "text": [
      "Skipping due to missing or non-string Whisper_tiny.\n"
     ]
    },
    {
     "name": "stderr",
     "output_type": "stream",
     "text": [
      " 38%|███▊      | 14124/37253 [01:35<02:29, 155.22it/s]"
     ]
    },
    {
     "name": "stdout",
     "output_type": "stream",
     "text": [
      "Skipping due to missing or non-string Whisper_tiny.\n"
     ]
    },
    {
     "name": "stderr",
     "output_type": "stream",
     "text": [
      " 38%|███▊      | 14253/37253 [01:36<02:31, 151.71it/s]"
     ]
    },
    {
     "name": "stdout",
     "output_type": "stream",
     "text": [
      "Skipping due to missing or non-string Whisper_tiny.\n",
      "Skipping due to missing or non-string Whisper_tiny.\n"
     ]
    },
    {
     "name": "stderr",
     "output_type": "stream",
     "text": [
      " 38%|███▊      | 14269/37253 [01:36<02:33, 150.09it/s]"
     ]
    },
    {
     "name": "stdout",
     "output_type": "stream",
     "text": [
      "Skipping due to missing or non-string Whisper_tiny.\n",
      "Skipping due to missing or non-string Whisper_tiny.\n"
     ]
    },
    {
     "name": "stderr",
     "output_type": "stream",
     "text": [
      " 38%|███▊      | 14301/37253 [01:36<02:32, 150.28it/s]"
     ]
    },
    {
     "name": "stdout",
     "output_type": "stream",
     "text": [
      "Skipping due to missing or non-string Whisper_tiny.\n",
      "Skipping due to missing or non-string Whisper_tiny.\n",
      "Skipping due to missing or non-string Whisper_tiny.\n",
      "Skipping due to missing or non-string Whisper_tiny.\n",
      "Skipping due to missing or non-string Whisper_tiny.\n",
      "Skipping due to missing or non-string Whisper_tiny.\n"
     ]
    },
    {
     "name": "stderr",
     "output_type": "stream",
     "text": [
      " 39%|███▊      | 14349/37253 [01:37<02:35, 147.02it/s]"
     ]
    },
    {
     "name": "stdout",
     "output_type": "stream",
     "text": [
      "Skipping due to missing or non-string Whisper_tiny.\n",
      "Skipping due to missing or non-string Whisper_tiny.\n",
      "Skipping due to missing or non-string Whisper_tiny.\n",
      "Skipping due to missing or non-string Whisper_tiny.\n",
      "Skipping due to missing or non-string Whisper_tiny.\n"
     ]
    },
    {
     "name": "stderr",
     "output_type": "stream",
     "text": [
      " 39%|███▊      | 14395/37253 [01:37<02:37, 145.09it/s]"
     ]
    },
    {
     "name": "stdout",
     "output_type": "stream",
     "text": [
      "Skipping due to missing or non-string Whisper_tiny.\n",
      "Skipping due to missing or non-string Whisper_tiny.\n",
      "Skipping due to missing or non-string Whisper_tiny.\n",
      "Skipping due to missing or non-string Whisper_tiny.\n",
      "Skipping due to missing or non-string Whisper_tiny.\n"
     ]
    },
    {
     "name": "stderr",
     "output_type": "stream",
     "text": [
      " 39%|███▊      | 14428/37253 [01:37<02:30, 152.15it/s]"
     ]
    },
    {
     "name": "stdout",
     "output_type": "stream",
     "text": [
      "Skipping due to missing or non-string Whisper_tiny.\n",
      "Skipping due to missing or non-string Whisper_tiny.\n",
      "Skipping due to missing or non-string Whisper_tiny.\n",
      "Skipping due to missing or non-string Whisper_tiny.\n",
      "Skipping due to missing or non-string Whisper_tiny.\n"
     ]
    },
    {
     "name": "stderr",
     "output_type": "stream",
     "text": [
      " 40%|███▉      | 14746/37253 [01:39<02:23, 156.78it/s]"
     ]
    },
    {
     "name": "stdout",
     "output_type": "stream",
     "text": [
      "Skipping due to missing or non-string Whisper_tiny.\n"
     ]
    },
    {
     "name": "stderr",
     "output_type": "stream",
     "text": [
      " 40%|███▉      | 14795/37253 [01:40<02:21, 159.08it/s]"
     ]
    },
    {
     "name": "stdout",
     "output_type": "stream",
     "text": [
      "Skipping due to missing or non-string Whisper_tiny.\n"
     ]
    },
    {
     "name": "stderr",
     "output_type": "stream",
     "text": [
      " 40%|███▉      | 14887/37253 [01:40<02:41, 138.71it/s]"
     ]
    },
    {
     "name": "stdout",
     "output_type": "stream",
     "text": [
      "Skipping due to missing or non-string Whisper_tiny.\n"
     ]
    },
    {
     "name": "stderr",
     "output_type": "stream",
     "text": [
      " 40%|████      | 14945/37253 [01:41<02:40, 138.90it/s]"
     ]
    },
    {
     "name": "stdout",
     "output_type": "stream",
     "text": [
      "Skipping due to missing or non-string Whisper_tiny.\n",
      "Skipping due to missing or non-string Whisper_tiny.\n",
      "Skipping due to missing or non-string Whisper_tiny.\n"
     ]
    },
    {
     "name": "stderr",
     "output_type": "stream",
     "text": [
      " 40%|████      | 14975/37253 [01:41<02:36, 142.58it/s]"
     ]
    },
    {
     "name": "stdout",
     "output_type": "stream",
     "text": [
      "Skipping due to missing or non-string Whisper_tiny.\n"
     ]
    },
    {
     "name": "stderr",
     "output_type": "stream",
     "text": [
      " 40%|████      | 15021/37253 [01:41<02:32, 146.05it/s]"
     ]
    },
    {
     "name": "stdout",
     "output_type": "stream",
     "text": [
      "Skipping due to missing or non-string Whisper_tiny.\n"
     ]
    },
    {
     "name": "stderr",
     "output_type": "stream",
     "text": [
      " 41%|████      | 15164/37253 [01:42<02:20, 157.67it/s]"
     ]
    },
    {
     "name": "stdout",
     "output_type": "stream",
     "text": [
      "Skipping due to missing or non-string Whisper_tiny.\n"
     ]
    },
    {
     "name": "stderr",
     "output_type": "stream",
     "text": [
      " 42%|████▏     | 15593/37253 [01:45<02:09, 167.50it/s]"
     ]
    },
    {
     "name": "stdout",
     "output_type": "stream",
     "text": [
      "Skipping due to missing or non-string Whisper_tiny.\n"
     ]
    },
    {
     "name": "stderr",
     "output_type": "stream",
     "text": [
      " 45%|████▌     | 16841/37253 [01:52<02:01, 167.73it/s]"
     ]
    },
    {
     "name": "stdout",
     "output_type": "stream",
     "text": [
      "Skipping due to missing or non-string Whisper_tiny.\n"
     ]
    },
    {
     "name": "stderr",
     "output_type": "stream",
     "text": [
      " 47%|████▋     | 17433/37253 [01:56<01:55, 171.95it/s]"
     ]
    },
    {
     "name": "stdout",
     "output_type": "stream",
     "text": [
      "Skipping due to missing or non-string Whisper_tiny.\n"
     ]
    },
    {
     "name": "stderr",
     "output_type": "stream",
     "text": [
      " 49%|████▉     | 18369/37253 [02:01<01:51, 169.46it/s]"
     ]
    },
    {
     "name": "stdout",
     "output_type": "stream",
     "text": [
      "Skipping due to missing or non-string Whisper_tiny.\n"
     ]
    },
    {
     "name": "stderr",
     "output_type": "stream",
     "text": [
      " 50%|████▉     | 18548/37253 [02:02<01:49, 170.90it/s]"
     ]
    },
    {
     "name": "stdout",
     "output_type": "stream",
     "text": [
      "Skipping due to missing or non-string Whisper_tiny.\n"
     ]
    },
    {
     "name": "stderr",
     "output_type": "stream",
     "text": [
      " 52%|█████▏    | 19501/37253 [02:08<01:42, 173.14it/s]"
     ]
    },
    {
     "name": "stdout",
     "output_type": "stream",
     "text": [
      "Skipping due to missing or non-string Whisper_tiny.\n"
     ]
    },
    {
     "name": "stderr",
     "output_type": "stream",
     "text": [
      " 58%|█████▊    | 21550/37253 [02:20<01:31, 172.51it/s]"
     ]
    },
    {
     "name": "stdout",
     "output_type": "stream",
     "text": [
      "Skipping due to missing or non-string Whisper_tiny.\n"
     ]
    },
    {
     "name": "stderr",
     "output_type": "stream",
     "text": [
      " 62%|██████▏   | 23223/37253 [02:29<01:21, 171.93it/s]"
     ]
    },
    {
     "name": "stdout",
     "output_type": "stream",
     "text": [
      "Skipping due to missing or non-string Whisper_tiny.\n",
      "Skipping due to missing or non-string Whisper_tiny.\n"
     ]
    },
    {
     "name": "stderr",
     "output_type": "stream",
     "text": [
      " 63%|██████▎   | 23349/37253 [02:30<01:21, 170.74it/s]"
     ]
    },
    {
     "name": "stdout",
     "output_type": "stream",
     "text": [
      "Skipping due to missing or non-string Whisper_tiny.\n"
     ]
    },
    {
     "name": "stderr",
     "output_type": "stream",
     "text": [
      " 63%|██████▎   | 23439/37253 [02:31<01:20, 171.15it/s]"
     ]
    },
    {
     "name": "stdout",
     "output_type": "stream",
     "text": [
      "Skipping due to missing or non-string Whisper_tiny.\n"
     ]
    },
    {
     "name": "stderr",
     "output_type": "stream",
     "text": [
      " 63%|██████▎   | 23601/37253 [02:32<01:19, 171.74it/s]"
     ]
    },
    {
     "name": "stdout",
     "output_type": "stream",
     "text": [
      "Skipping due to missing or non-string Whisper_tiny.\n"
     ]
    },
    {
     "name": "stderr",
     "output_type": "stream",
     "text": [
      " 65%|██████▌   | 24375/37253 [02:36<01:14, 172.75it/s]"
     ]
    },
    {
     "name": "stdout",
     "output_type": "stream",
     "text": [
      "Skipping due to missing or non-string Whisper_tiny.\n"
     ]
    },
    {
     "name": "stderr",
     "output_type": "stream",
     "text": [
      " 66%|██████▋   | 24681/37253 [02:38<01:13, 170.52it/s]"
     ]
    },
    {
     "name": "stdout",
     "output_type": "stream",
     "text": [
      "Skipping due to missing or non-string Whisper_tiny.\n"
     ]
    },
    {
     "name": "stderr",
     "output_type": "stream",
     "text": [
      " 66%|██████▋   | 24717/37253 [02:38<01:13, 171.46it/s]"
     ]
    },
    {
     "name": "stdout",
     "output_type": "stream",
     "text": [
      "Skipping due to missing or non-string Whisper_tiny.\n"
     ]
    },
    {
     "name": "stderr",
     "output_type": "stream",
     "text": [
      " 67%|██████▋   | 24806/37253 [02:39<01:12, 170.88it/s]"
     ]
    },
    {
     "name": "stdout",
     "output_type": "stream",
     "text": [
      "Skipping due to missing or non-string Whisper_tiny.\n",
      "Skipping due to missing or non-string Whisper_tiny.\n"
     ]
    },
    {
     "name": "stderr",
     "output_type": "stream",
     "text": [
      " 67%|██████▋   | 24842/37253 [02:39<01:13, 169.48it/s]"
     ]
    },
    {
     "name": "stdout",
     "output_type": "stream",
     "text": [
      "Skipping due to missing or non-string Whisper_tiny.\n"
     ]
    },
    {
     "name": "stderr",
     "output_type": "stream",
     "text": [
      " 67%|██████▋   | 24912/37253 [02:39<01:12, 169.58it/s]"
     ]
    },
    {
     "name": "stdout",
     "output_type": "stream",
     "text": [
      "Skipping due to missing or non-string Whisper_tiny.\n"
     ]
    },
    {
     "name": "stderr",
     "output_type": "stream",
     "text": [
      " 67%|██████▋   | 24983/37253 [02:40<01:12, 170.41it/s]"
     ]
    },
    {
     "name": "stdout",
     "output_type": "stream",
     "text": [
      "Skipping due to missing or non-string Whisper_tiny.\n"
     ]
    },
    {
     "name": "stderr",
     "output_type": "stream",
     "text": [
      " 67%|██████▋   | 25088/37253 [02:40<01:11, 169.41it/s]"
     ]
    },
    {
     "name": "stdout",
     "output_type": "stream",
     "text": [
      "Skipping due to missing or non-string Whisper_tiny.\n",
      "Skipping due to missing or non-string Whisper_tiny.\n"
     ]
    },
    {
     "name": "stderr",
     "output_type": "stream",
     "text": [
      " 70%|███████   | 26138/37253 [02:47<01:05, 168.87it/s]"
     ]
    },
    {
     "name": "stdout",
     "output_type": "stream",
     "text": [
      "Skipping due to missing or non-string Whisper_tiny.\n"
     ]
    },
    {
     "name": "stderr",
     "output_type": "stream",
     "text": [
      " 77%|███████▋  | 28812/37253 [03:02<00:49, 170.06it/s]"
     ]
    },
    {
     "name": "stdout",
     "output_type": "stream",
     "text": [
      "Skipping due to missing or non-string Whisper_tiny.\n"
     ]
    },
    {
     "name": "stderr",
     "output_type": "stream",
     "text": [
      " 81%|████████  | 30121/37253 [03:10<00:41, 171.37it/s]"
     ]
    },
    {
     "name": "stdout",
     "output_type": "stream",
     "text": [
      "Skipping due to missing or non-string Whisper_tiny.\n"
     ]
    },
    {
     "name": "stderr",
     "output_type": "stream",
     "text": [
      " 81%|████████▏ | 30317/37253 [03:11<00:40, 171.18it/s]"
     ]
    },
    {
     "name": "stdout",
     "output_type": "stream",
     "text": [
      "Skipping due to missing or non-string Whisper_tiny.\n",
      "Skipping due to missing or non-string Whisper_tiny.\n",
      "Skipping due to missing or non-string Whisper_tiny.\n"
     ]
    },
    {
     "name": "stderr",
     "output_type": "stream",
     "text": [
      " 82%|████████▏ | 30389/37253 [03:11<00:40, 171.33it/s]"
     ]
    },
    {
     "name": "stdout",
     "output_type": "stream",
     "text": [
      "Skipping due to missing or non-string Whisper_tiny.\n",
      "Skipping due to missing or non-string Whisper_tiny.\n"
     ]
    },
    {
     "name": "stderr",
     "output_type": "stream",
     "text": [
      " 82%|████████▏ | 30568/37253 [03:13<00:38, 171.92it/s]"
     ]
    },
    {
     "name": "stdout",
     "output_type": "stream",
     "text": [
      "Skipping due to missing or non-string Whisper_tiny.\n",
      "Skipping due to missing or non-string Whisper_tiny.\n",
      "Skipping due to missing or non-string Whisper_tiny.\n"
     ]
    },
    {
     "name": "stderr",
     "output_type": "stream",
     "text": [
      " 82%|████████▏ | 30622/37253 [03:13<00:38, 170.30it/s]"
     ]
    },
    {
     "name": "stdout",
     "output_type": "stream",
     "text": [
      "Skipping due to missing or non-string Whisper_tiny.\n",
      "Skipping due to missing or non-string Whisper_tiny.\n"
     ]
    },
    {
     "name": "stderr",
     "output_type": "stream",
     "text": [
      " 83%|████████▎ | 30748/37253 [03:14<00:37, 171.55it/s]"
     ]
    },
    {
     "name": "stdout",
     "output_type": "stream",
     "text": [
      "Skipping due to missing or non-string Whisper_tiny.\n"
     ]
    },
    {
     "name": "stderr",
     "output_type": "stream",
     "text": [
      " 86%|████████▌ | 31988/37253 [03:21<00:30, 169.99it/s]"
     ]
    },
    {
     "name": "stdout",
     "output_type": "stream",
     "text": [
      "Skipping due to missing or non-string Whisper_tiny.\n"
     ]
    },
    {
     "name": "stderr",
     "output_type": "stream",
     "text": [
      " 91%|█████████▏| 34069/37253 [03:33<00:18, 171.39it/s]"
     ]
    },
    {
     "name": "stdout",
     "output_type": "stream",
     "text": [
      "Skipping: One of the rows is empty.\n"
     ]
    },
    {
     "name": "stderr",
     "output_type": "stream",
     "text": [
      " 92%|█████████▏| 34105/37253 [03:33<00:18, 171.86it/s]"
     ]
    },
    {
     "name": "stdout",
     "output_type": "stream",
     "text": [
      "Skipping: One of the rows is empty.\n"
     ]
    },
    {
     "name": "stderr",
     "output_type": "stream",
     "text": [
      " 93%|█████████▎| 34602/37253 [03:36<00:15, 166.79it/s]"
     ]
    },
    {
     "name": "stdout",
     "output_type": "stream",
     "text": [
      "Skipping: One of the rows is empty.\n"
     ]
    },
    {
     "name": "stderr",
     "output_type": "stream",
     "text": [
      "100%|██████████| 37253/37253 [03:52<00:00, 160.26it/s]\n"
     ]
    }
   ],
   "source": [
    "na_count_tiny = 0\n",
    "na_count_cleaned = 0\n",
    "\n",
    "for index, row in tqdm(net_aigenerated_data_whisper_tiny.iterrows(), total=len(net_aigenerated_data_whisper_tiny)):\n",
    "    \n",
    "    mask_tiny = (\n",
    "        (net_aigenerated_data_whisper_tiny[\"Filename\"] == row[\"Filename\"]) &\n",
    "        (net_aigenerated_data_whisper_tiny[\"Start_time\"] == row[\"Start_time\"])\n",
    "    )\n",
    "\n",
    "    mask_net = (\n",
    "        (net_data[\"Filename\"] == row[\"Filename\"]) &\n",
    "        (net_data[\"Start_time\"] == row[\"Start_time\"])\n",
    "    )\n",
    "\n",
    "    \n",
    "    tiny_row = net_aigenerated_data_whisper_tiny.loc[mask_tiny]\n",
    "    net_row = net_data.loc[mask_net]\n",
    "\n",
    "    # print(large_row)\n",
    "    # print('\\n\\n\\n\\n')\n",
    "    # print(net_row)\n",
    "    \n",
    "    if tiny_row.empty or net_row.empty:\n",
    "        print(\"Skipping: One of the rows is empty.\")\n",
    "        continue\n",
    "        \n",
    "    whisper_tiny = tiny_row[\"Whisper_tiny\"].values[0]\n",
    "    cleaned_transcript = net_row[\"Cleaned_Transcript\"].values[0]\n",
    "    \n",
    "    if pd.isna(whisper_large) or not isinstance(whisper_tiny, str):\n",
    "        print(\"Skipping due to missing or non-string Whisper_tiny.\")\n",
    "        na_count_tiny = na_count_tiny + 1\n",
    "        continue\n",
    "    if pd.isna(cleaned_transcript) or not isinstance(cleaned_transcript, str):\n",
    "        print(\"Skipping due to missing or non-string Cleaned_Transcript.\")\n",
    "        na_count_cleaned = na_count_cleaned + 1\n",
    "        continue\n",
    "\n",
    "    try:\n",
    "        \n",
    "        wer_value = wer(whisper_tiny, cleaned_transcript)\n",
    "        \n",
    "        net_aigenerated_data_whisper_tiny.loc[mask_tiny, \"WER\"] = wer_value\n",
    "        \n",
    "        Stuttering_Count = net_row[\"Stuttering_Count\"].values[0]\n",
    "        net_aigenerated_data_whisper_tiny.loc[mask_tiny, \"Stuttering_Count\"] = Stuttering_Count\n",
    "        net_aigenerated_data_whisper_tiny.loc[mask_tiny, \"Stu-wer-compared-groundtruth\"] = cleaned_transcript\n",
    "\n",
    "        # Verify assignment\n",
    "        # print(f'Assigned Stuttering_Count: {Stuttering_Count}')\n",
    "        # print(net_aigenerated_data_whisper_large.loc[mask_large, \"Stuttering_Count\"])\n",
    "\n",
    "    except Exception as e:\n",
    "        print(f'ERROR: {e}')\n",
    "        print('Occurred with the following data:')\n",
    "        print(large_row)\n",
    "        print(net_row)\n",
    "        \n",
    "net_aigenerated_data_whisper_tiny = net_aigenerated_data_whisper_tiny.assign(NA_Count=na_count_tiny)\n",
    "net_aigenerated_data_whisper_tiny = net_aigenerated_data_whisper_tiny.assign(NA_Cleaned_Count=na_count_cleaned)"
   ]
  },
  {
   "cell_type": "code",
   "execution_count": 113,
   "id": "5ac2208a-3a86-4efd-9421-0ce57cbc12a7",
   "metadata": {
    "tags": []
   },
   "outputs": [
    {
     "data": {
      "text/html": [
       "<div>\n",
       "<style scoped>\n",
       "    .dataframe tbody tr th:only-of-type {\n",
       "        vertical-align: middle;\n",
       "    }\n",
       "\n",
       "    .dataframe tbody tr th {\n",
       "        vertical-align: top;\n",
       "    }\n",
       "\n",
       "    .dataframe thead th {\n",
       "        text-align: right;\n",
       "    }\n",
       "</style>\n",
       "<table border=\"1\" class=\"dataframe\">\n",
       "  <thead>\n",
       "    <tr style=\"text-align: right;\">\n",
       "      <th></th>\n",
       "      <th>Filename</th>\n",
       "      <th>Start_time</th>\n",
       "      <th>End_time</th>\n",
       "      <th>Whisper_tiny</th>\n",
       "      <th>WER</th>\n",
       "      <th>Stuttering_Count</th>\n",
       "      <th>Stu-wer-compared-groundtruth</th>\n",
       "      <th>NA_Count</th>\n",
       "      <th>NA_Cleaned_Count</th>\n",
       "    </tr>\n",
       "  </thead>\n",
       "  <tbody>\n",
       "    <tr>\n",
       "      <th>0</th>\n",
       "      <td>D0001_A</td>\n",
       "      <td>2081.540000</td>\n",
       "      <td>2109.650000</td>\n",
       "      <td>我说出来就比较不需要时间然后那个食别的他的就是他等你一会那个话还没有收完都还没有说出来的话他...</td>\n",
       "      <td>0.278351</td>\n",
       "      <td>1.0</td>\n",
       "      <td>我说出来就比较的需要时间，哦，然后那个嗯识别的它的就是它等你一会儿，你那个话还没有说完，的还...</td>\n",
       "      <td>332</td>\n",
       "      <td>0</td>\n",
       "    </tr>\n",
       "    <tr>\n",
       "      <th>1</th>\n",
       "      <td>D0001_A</td>\n",
       "      <td>790.130000</td>\n",
       "      <td>796.580000</td>\n",
       "      <td>在牙我收到</td>\n",
       "      <td>0.800000</td>\n",
       "      <td>1.0</td>\n",
       "      <td>电视剧有，我说的话。</td>\n",
       "      <td>332</td>\n",
       "      <td>0</td>\n",
       "    </tr>\n",
       "    <tr>\n",
       "      <th>2</th>\n",
       "      <td>D0001_A</td>\n",
       "      <td>1562.083518</td>\n",
       "      <td>1586.220000</td>\n",
       "      <td>在不计是不怎么平分是不怎么好的就因为平分缺的那些人都在说然后我做好产的那个就那么请问但是就一...</td>\n",
       "      <td>0.437500</td>\n",
       "      <td>10.0</td>\n",
       "      <td>这部剧是不怎么，评分是不怎么好的，呃就因为呃评论区的那些人，他们都在说，呃男二号就好惨的那个...</td>\n",
       "      <td>332</td>\n",
       "      <td>0</td>\n",
       "    </tr>\n",
       "    <tr>\n",
       "      <th>3</th>\n",
       "      <td>D0001_A</td>\n",
       "      <td>2016.780000</td>\n",
       "      <td>2035.673559</td>\n",
       "      <td>很精准的兴非女人还是兴非出手来的就我记得她是叫兴非我之前就是她</td>\n",
       "      <td>0.500000</td>\n",
       "      <td>7.0</td>\n",
       "      <td>很精准，对，呃讯飞语音还是讯飞助手来着，就我记得它是叫讯飞，我之前就是它呃是</td>\n",
       "      <td>332</td>\n",
       "      <td>0</td>\n",
       "    </tr>\n",
       "    <tr>\n",
       "      <th>4</th>\n",
       "      <td>D0001_A</td>\n",
       "      <td>1682.670000</td>\n",
       "      <td>1709.110000</td>\n",
       "      <td>一个那个是叫抓来的我忘了就是出现了你那个一个人然后他就这了一把剑然后就就把那个拿到给葬撒了就...</td>\n",
       "      <td>0.367647</td>\n",
       "      <td>8.0</td>\n",
       "      <td>一个那个是嗯叫啥来着，我忘了，就是出现了另一个人，然后呢他就射了一把剑，然后就把那个嗯男二号...</td>\n",
       "      <td>332</td>\n",
       "      <td>0</td>\n",
       "    </tr>\n",
       "    <tr>\n",
       "      <th>...</th>\n",
       "      <td>...</td>\n",
       "      <td>...</td>\n",
       "      <td>...</td>\n",
       "      <td>...</td>\n",
       "      <td>...</td>\n",
       "      <td>...</td>\n",
       "      <td>...</td>\n",
       "      <td>...</td>\n",
       "      <td>...</td>\n",
       "    </tr>\n",
       "    <tr>\n",
       "      <th>37248</th>\n",
       "      <td>P0070</td>\n",
       "      <td>2586.616000</td>\n",
       "      <td>2589.346000</td>\n",
       "      <td>單許宣傳歌曲,這樣而已</td>\n",
       "      <td>0.727273</td>\n",
       "      <td>0.0</td>\n",
       "      <td>单曲循环歌曲这样而已。</td>\n",
       "      <td>332</td>\n",
       "      <td>0</td>\n",
       "    </tr>\n",
       "    <tr>\n",
       "      <th>37249</th>\n",
       "      <td>P0070</td>\n",
       "      <td>2782.496000</td>\n",
       "      <td>2783.706000</td>\n",
       "      <td>楊秘的電影</td>\n",
       "      <td>0.666667</td>\n",
       "      <td>0.0</td>\n",
       "      <td>杨幂的电影。</td>\n",
       "      <td>332</td>\n",
       "      <td>0</td>\n",
       "    </tr>\n",
       "    <tr>\n",
       "      <th>37250</th>\n",
       "      <td>P0070</td>\n",
       "      <td>2995.296000</td>\n",
       "      <td>2998.116000</td>\n",
       "      <td>你好米哈,今天菜油駕怎么样</td>\n",
       "      <td>0.400000</td>\n",
       "      <td>0.0</td>\n",
       "      <td>你好，米雅，今天柴油价怎么样。</td>\n",
       "      <td>332</td>\n",
       "      <td>0</td>\n",
       "    </tr>\n",
       "    <tr>\n",
       "      <th>37251</th>\n",
       "      <td>P0070</td>\n",
       "      <td>2604.066000</td>\n",
       "      <td>2606.656000</td>\n",
       "      <td>單取新環科曲劉旅光這個</td>\n",
       "      <td>0.750000</td>\n",
       "      <td>0.0</td>\n",
       "      <td>单曲循环歌曲琉璃光之歌。</td>\n",
       "      <td>332</td>\n",
       "      <td>0</td>\n",
       "    </tr>\n",
       "    <tr>\n",
       "      <th>37252</th>\n",
       "      <td>P0070</td>\n",
       "      <td>2434.606000</td>\n",
       "      <td>2436.576000</td>\n",
       "      <td>到行道龍城明月</td>\n",
       "      <td>0.750000</td>\n",
       "      <td>0.0</td>\n",
       "      <td>导航到荣城名苑。</td>\n",
       "      <td>332</td>\n",
       "      <td>0</td>\n",
       "    </tr>\n",
       "  </tbody>\n",
       "</table>\n",
       "<p>37253 rows × 9 columns</p>\n",
       "</div>"
      ],
      "text/plain": [
       "      Filename   Start_time     End_time  \\\n",
       "0      D0001_A  2081.540000  2109.650000   \n",
       "1      D0001_A   790.130000   796.580000   \n",
       "2      D0001_A  1562.083518  1586.220000   \n",
       "3      D0001_A  2016.780000  2035.673559   \n",
       "4      D0001_A  1682.670000  1709.110000   \n",
       "...        ...          ...          ...   \n",
       "37248    P0070  2586.616000  2589.346000   \n",
       "37249    P0070  2782.496000  2783.706000   \n",
       "37250    P0070  2995.296000  2998.116000   \n",
       "37251    P0070  2604.066000  2606.656000   \n",
       "37252    P0070  2434.606000  2436.576000   \n",
       "\n",
       "                                            Whisper_tiny       WER  \\\n",
       "0      我说出来就比较不需要时间然后那个食别的他的就是他等你一会那个话还没有收完都还没有说出来的话他...  0.278351   \n",
       "1                                                  在牙我收到  0.800000   \n",
       "2      在不计是不怎么平分是不怎么好的就因为平分缺的那些人都在说然后我做好产的那个就那么请问但是就一...  0.437500   \n",
       "3                        很精准的兴非女人还是兴非出手来的就我记得她是叫兴非我之前就是她  0.500000   \n",
       "4      一个那个是叫抓来的我忘了就是出现了你那个一个人然后他就这了一把剑然后就就把那个拿到给葬撒了就...  0.367647   \n",
       "...                                                  ...       ...   \n",
       "37248                                        單許宣傳歌曲,這樣而已  0.727273   \n",
       "37249                                              楊秘的電影  0.666667   \n",
       "37250                                      你好米哈,今天菜油駕怎么样  0.400000   \n",
       "37251                                        單取新環科曲劉旅光這個  0.750000   \n",
       "37252                                            到行道龍城明月  0.750000   \n",
       "\n",
       "       Stuttering_Count                       Stu-wer-compared-groundtruth  \\\n",
       "0                   1.0  我说出来就比较的需要时间，哦，然后那个嗯识别的它的就是它等你一会儿，你那个话还没有说完，的还...   \n",
       "1                   1.0                                         电视剧有，我说的话。   \n",
       "2                  10.0  这部剧是不怎么，评分是不怎么好的，呃就因为呃评论区的那些人，他们都在说，呃男二号就好惨的那个...   \n",
       "3                   7.0             很精准，对，呃讯飞语音还是讯飞助手来着，就我记得它是叫讯飞，我之前就是它呃是   \n",
       "4                   8.0  一个那个是嗯叫啥来着，我忘了，就是出现了另一个人，然后呢他就射了一把剑，然后就把那个嗯男二号...   \n",
       "...                 ...                                                ...   \n",
       "37248               0.0                                        单曲循环歌曲这样而已。   \n",
       "37249               0.0                                             杨幂的电影。   \n",
       "37250               0.0                                    你好，米雅，今天柴油价怎么样。   \n",
       "37251               0.0                                       单曲循环歌曲琉璃光之歌。   \n",
       "37252               0.0                                           导航到荣城名苑。   \n",
       "\n",
       "       NA_Count  NA_Cleaned_Count  \n",
       "0           332                 0  \n",
       "1           332                 0  \n",
       "2           332                 0  \n",
       "3           332                 0  \n",
       "4           332                 0  \n",
       "...         ...               ...  \n",
       "37248       332                 0  \n",
       "37249       332                 0  \n",
       "37250       332                 0  \n",
       "37251       332                 0  \n",
       "37252       332                 0  \n",
       "\n",
       "[37253 rows x 9 columns]"
      ]
     },
     "execution_count": 113,
     "metadata": {},
     "output_type": "execute_result"
    }
   ],
   "source": [
    "net_aigenerated_data_whisper_tiny"
   ]
  },
  {
   "cell_type": "code",
   "execution_count": 115,
   "id": "36a347e1-97e2-4c96-a87a-f3d9b339bbd7",
   "metadata": {
    "tags": []
   },
   "outputs": [],
   "source": [
    "# net_aigenerated_data_whisper_large.to_csv('net_aigenerated_data_whisper_tiny_performance_stu.csv', sep=',')"
   ]
  },
  {
   "cell_type": "markdown",
   "id": "08c1a5f6-b696-4d93-bd2f-f8a0ec0df657",
   "metadata": {},
   "source": [
    "***"
   ]
  },
  {
   "cell_type": "markdown",
   "id": "8778cb77-2139-410a-aa74-366d0eed500e",
   "metadata": {
    "tags": []
   },
   "source": [
    "## Visualization of Relationship between Stuttering Count and Word Error Rate (Whisper Tiny)"
   ]
  },
  {
   "cell_type": "code",
   "execution_count": 116,
   "id": "ab493e80-1027-43d4-8926-b5cf8d5cf422",
   "metadata": {
    "tags": []
   },
   "outputs": [],
   "source": [
    "## Load data from csv if starting here\n",
    "\n",
    "# net_aigenerated_data_whisper_tiny = pd.read_csv('/projectnb/ds549/projects/AImpower/evaluation-whisper/net_aigenerated_data_whisper_tiny_performance_stu.csv', delimiter=',')"
   ]
  },
  {
   "cell_type": "code",
   "execution_count": 117,
   "id": "51399035-b61a-4115-abdd-149efe8129a7",
   "metadata": {
    "tags": []
   },
   "outputs": [],
   "source": [
    "import matplotlib.pyplot as plt"
   ]
  },
  {
   "cell_type": "code",
   "execution_count": 118,
   "id": "56fca6e7-09a7-44e6-919c-5e70b55957fe",
   "metadata": {
    "tags": []
   },
   "outputs": [
    {
     "data": {
      "image/png": "[encoded data removed]",
      "text/plain": [
       "<Figure size 640x480 with 1 Axes>"
      ]
     },
     "metadata": {},
     "output_type": "display_data"
    }
   ],
   "source": [
    "## Null value plots\n",
    "\n",
    "nonnull_count_tiny = net_aigenerated_data_whisper_tiny[\"NA_Count\"].count() - net_aigenerated_data_whisper_tiny.iloc[0][\"NA_Count\"]\n",
    "null_count_tiny = net_aigenerated_data_whisper_tiny.iloc[0][\"NA_Count\"]\n",
    "\n",
    "nonnull_count_cleaned = net_aigenerated_data_whisper_tiny[\"NA_Cleaned_Count\"].count() - net_aigenerated_data_whisper_tiny.iloc[0][\"NA_Cleaned_Count\"]\n",
    "null_count_cleaned = net_aigenerated_data_whisper_tiny.iloc[0][\"NA_Cleaned_Count\"]\n",
    "\n",
    "\n",
    "data = {\n",
    "    \"NA Values\": [null_count_tiny, null_count_cleaned],\n",
    "    \"Non NA Values\": [nonnull_count_tiny, nonnull_count_cleaned],\n",
    "}\n",
    "\n",
    "species = (\n",
    "    \"Whisper Tiny\",\n",
    "    \"Cleaned Ground Truth\"\n",
    ")\n",
    "\n",
    "width = 0.5\n",
    "\n",
    "fig, ax = plt.subplots()\n",
    "bottom = np.zeros(2)\n",
    "\n",
    "for na, count in data.items():\n",
    "    p = ax.bar(species, count, width, label=na, bottom=bottom)\n",
    "    bottom += count\n",
    "\n",
    "\n",
    "ax.set_title(\"NA value counting\", fontsize=16)\n",
    "ax.set_xlabel(\"Source\", fontsize=14)\n",
    "ax.set_ylabel(\"Count\", fontsize=14)\n",
    "ax.legend()\n",
    "ax.grid(True)\n",
    "\n",
    "plt.show()"
   ]
  },
  {
   "cell_type": "code",
   "execution_count": 119,
   "id": "862c02cf-b498-4b97-b1b3-1f2c5c866b85",
   "metadata": {
    "tags": []
   },
   "outputs": [
    {
     "data": {
      "image/png": "[encoded data removed]",
      "text/plain": [
       "<Figure size 600x400 with 1 Axes>"
      ]
     },
     "metadata": {},
     "output_type": "display_data"
    }
   ],
   "source": [
    "plt.figure(figsize=(6, 4))\n",
    "plt.scatter(\n",
    "    net_aigenerated_data_whisper_tiny[\"Stuttering_Count\"], \n",
    "    net_aigenerated_data_whisper_tiny[\"WER\"], \n",
    "    alpha=0.7  # Handle overlapping points\n",
    ")\n",
    "\n",
    "plt.title(\"WER vs Stutterance Count\", fontsize=16)\n",
    "plt.xlabel(\"Stutterance Count\", fontsize=14)\n",
    "plt.ylabel(\"WER\", fontsize=14)\n",
    "plt.grid(True)\n",
    "plt.show()"
   ]
  },
  {
   "cell_type": "code",
   "execution_count": 120,
   "id": "10f24b15-3aee-4de3-ad08-fe3d4ddcc7f1",
   "metadata": {
    "tags": []
   },
   "outputs": [
    {
     "data": {
      "image/png": "[encoded data removed]",
      "text/plain": [
       "<Figure size 600x400 with 2 Axes>"
      ]
     },
     "metadata": {},
     "output_type": "display_data"
    }
   ],
   "source": [
    "import seaborn as sns\n",
    "from matplotlib.colors import LinearSegmentedColormap\n",
    "\n",
    "net_aigenerated_data_whisper_tiny['WER_Binned'] = np.round(net_aigenerated_data_whisper_tiny['WER'], 2)\n",
    "\n",
    "grouped_data = net_aigenerated_data_whisper_tiny.groupby(\n",
    "    ['Stuttering_Count', 'WER_Binned']\n",
    ").size().reset_index(name='Count')\n",
    "heatmap_data = grouped_data.pivot(index='WER_Binned', columns='Stuttering_Count', values='Count').fillna(0)\n",
    "\n",
    "plt.figure(figsize=(6, 4))\n",
    "sns.heatmap(\n",
    "    heatmap_data, cmap='cool', annot=False, fmt='g', cbar=True\n",
    ")\n",
    "\n",
    "plt.title(\"Stutterance Count vs WER (Color = Number of Cases)\", fontsize=16)\n",
    "plt.xlabel(\"Stutterance Count\", fontsize=14)\n",
    "plt.ylabel(\"WER (Binned)\", fontsize=14)\n",
    "\n",
    "plt.show()"
   ]
  },
  {
   "cell_type": "code",
   "execution_count": 121,
   "id": "baa6aa77-0f58-4c2b-9e35-1f9bb0f9054b",
   "metadata": {
    "tags": []
   },
   "outputs": [
    {
     "name": "stdout",
     "output_type": "stream",
     "text": [
      "p-value = 0.0\n",
      "rho = -0.23094531169290533\n"
     ]
    }
   ],
   "source": [
    "from scipy.stats import spearmanr\n",
    "rho, p = spearmanr(net_aigenerated_data_whisper_tiny.dropna()['Stuttering_Count'], net_aigenerated_data_whisper_tiny.dropna()['WER'])\n",
    "print(f\"p-value = {p}\")\n",
    "print(f\"rho = {rho}\")"
   ]
  },
  {
   "cell_type": "markdown",
   "id": "3de26ad6-67aa-40cd-9815-fbf8297b4317",
   "metadata": {},
   "source": [
    "***"
   ]
  },
  {
   "cell_type": "markdown",
   "id": "f05bfc81-0bb6-471e-a68b-5823b81afec9",
   "metadata": {
    "tags": []
   },
   "source": [
    "## ROUGE-N/L Scores (Semantic Evaluation) (Whisper Tiny)"
   ]
  },
  {
   "cell_type": "code",
   "execution_count": 122,
   "id": "2317b879-4ecb-41e8-8136-8301a0aa819c",
   "metadata": {},
   "outputs": [],
   "source": [
    "from rouge_chinese import Rouge\n",
    "import jieba"
   ]
  },
  {
   "cell_type": "code",
   "execution_count": 123,
   "id": "dcfc15fd-b7b7-4a2e-974f-e0850f3e9c1e",
   "metadata": {
    "tags": []
   },
   "outputs": [],
   "source": [
    "rouge = Rouge()"
   ]
  },
  {
   "cell_type": "code",
   "execution_count": 124,
   "id": "1100befe-e82d-4cde-a692-a5105009955c",
   "metadata": {
    "tags": []
   },
   "outputs": [
    {
     "name": "stderr",
     "output_type": "stream",
     "text": [
      "  0%|          | 22/37253 [00:00<05:37, 110.48it/s]"
     ]
    },
    {
     "name": "stdout",
     "output_type": "stream",
     "text": [
      "      Filename   Start_time     End_time  \\\n",
      "0      D0001_A  2081.540000  2109.650000   \n",
      "1      D0001_A   790.130000   796.580000   \n",
      "2      D0001_A  1562.083518  1586.220000   \n",
      "3      D0001_A  2016.780000  2035.673559   \n",
      "4      D0001_A  1682.670000  1709.110000   \n",
      "...        ...          ...          ...   \n",
      "37248    P0070  2586.616000  2589.346000   \n",
      "37249    P0070  2782.496000  2783.706000   \n",
      "37250    P0070  2995.296000  2998.116000   \n",
      "37251    P0070  2604.066000  2606.656000   \n",
      "37252    P0070  2434.606000  2436.576000   \n",
      "\n",
      "                                            Whisper_tiny       WER  \\\n",
      "0      我说出来就比较不需要时间然后那个食别的他的就是他等你一会那个话还没有收完都还没有说出来的话他...  0.278351   \n",
      "1                                                  在牙我收到  0.800000   \n",
      "2      在不计是不怎么平分是不怎么好的就因为平分缺的那些人都在说然后我做好产的那个就那么请问但是就一...  0.437500   \n",
      "3                        很精准的兴非女人还是兴非出手来的就我记得她是叫兴非我之前就是她  0.500000   \n",
      "4      一个那个是叫抓来的我忘了就是出现了你那个一个人然后他就这了一把剑然后就就把那个拿到给葬撒了就...  0.367647   \n",
      "...                                                  ...       ...   \n",
      "37248                                        單許宣傳歌曲,這樣而已  0.727273   \n",
      "37249                                              楊秘的電影  0.666667   \n",
      "37250                                      你好米哈,今天菜油駕怎么样  0.400000   \n",
      "37251                                        單取新環科曲劉旅光這個  0.750000   \n",
      "37252                                            到行道龍城明月  0.750000   \n",
      "\n",
      "       Stuttering_Count                       Stu-wer-compared-groundtruth  \\\n",
      "0                   1.0  我说出来就比较的需要时间，哦，然后那个嗯识别的它的就是它等你一会儿，你那个话还没有说完，的还...   \n",
      "1                   1.0                                         电视剧有，我说的话。   \n",
      "2                  10.0  这部剧是不怎么，评分是不怎么好的，呃就因为呃评论区的那些人，他们都在说，呃男二号就好惨的那个...   \n",
      "3                   7.0             很精准，对，呃讯飞语音还是讯飞助手来着，就我记得它是叫讯飞，我之前就是它呃是   \n",
      "4                   8.0  一个那个是嗯叫啥来着，我忘了，就是出现了另一个人，然后呢他就射了一把剑，然后就把那个嗯男二号...   \n",
      "...                 ...                                                ...   \n",
      "37248               0.0                                        单曲循环歌曲这样而已。   \n",
      "37249               0.0                                             杨幂的电影。   \n",
      "37250               0.0                                    你好，米雅，今天柴油价怎么样。   \n",
      "37251               0.0                                       单曲循环歌曲琉璃光之歌。   \n",
      "37252               0.0                                           导航到荣城名苑。   \n",
      "\n",
      "       NA_Count  NA_Cleaned_Count  WER_Binned  stu-rouge1-precision  \\\n",
      "0           332                 0        0.28                  0.75   \n",
      "1           332                 0        0.80                   NaN   \n",
      "2           332                 0        0.44                   NaN   \n",
      "3           332                 0        0.50                   NaN   \n",
      "4           332                 0        0.37                   NaN   \n",
      "...         ...               ...         ...                   ...   \n",
      "37248       332                 0        0.73                   NaN   \n",
      "37249       332                 0        0.67                   NaN   \n",
      "37250       332                 0        0.40                   NaN   \n",
      "37251       332                 0        0.75                   NaN   \n",
      "37252       332                 0        0.75                   NaN   \n",
      "\n",
      "       stu-rouge1-recall  stu-rouge1-f1  stu-rouge2-precision  \\\n",
      "0               0.710526        0.72973              0.480769   \n",
      "1                    NaN            NaN                   NaN   \n",
      "2                    NaN            NaN                   NaN   \n",
      "3                    NaN            NaN                   NaN   \n",
      "4                    NaN            NaN                   NaN   \n",
      "...                  ...            ...                   ...   \n",
      "37248                NaN            NaN                   NaN   \n",
      "37249                NaN            NaN                   NaN   \n",
      "37250                NaN            NaN                   NaN   \n",
      "37251                NaN            NaN                   NaN   \n",
      "37252                NaN            NaN                   NaN   \n",
      "\n",
      "       stu-rouge2-recall  stu-rouge2-f1  stu-rougel-precision  \\\n",
      "0               0.409836       0.442478              0.724138   \n",
      "1                    NaN            NaN                   NaN   \n",
      "2                    NaN            NaN                   NaN   \n",
      "3                    NaN            NaN                   NaN   \n",
      "4                    NaN            NaN                   NaN   \n",
      "...                  ...            ...                   ...   \n",
      "37248                NaN            NaN                   NaN   \n",
      "37249                NaN            NaN                   NaN   \n",
      "37250                NaN            NaN                   NaN   \n",
      "37251                NaN            NaN                   NaN   \n",
      "37252                NaN            NaN                   NaN   \n",
      "\n",
      "       stu-rougel-recall  stu-rougel-f1  \\\n",
      "0                    0.6        0.65625   \n",
      "1                    NaN            NaN   \n",
      "2                    NaN            NaN   \n",
      "3                    NaN            NaN   \n",
      "4                    NaN            NaN   \n",
      "...                  ...            ...   \n",
      "37248                NaN            NaN   \n",
      "37249                NaN            NaN   \n",
      "37250                NaN            NaN   \n",
      "37251                NaN            NaN   \n",
      "37252                NaN            NaN   \n",
      "\n",
      "                          Stu-rouge-compared-groundtruth  \n",
      "0      我说出来就比较的需要时间，哦，然后那个嗯识别的它的就是它等你一会儿，你那个话还没有说完，的还...  \n",
      "1                                                    NaN  \n",
      "2                                                    NaN  \n",
      "3                                                    NaN  \n",
      "4                                                    NaN  \n",
      "...                                                  ...  \n",
      "37248                                                NaN  \n",
      "37249                                                NaN  \n",
      "37250                                                NaN  \n",
      "37251                                                NaN  \n",
      "37252                                                NaN  \n",
      "\n",
      "[37253 rows x 20 columns]\n"
     ]
    },
    {
     "name": "stderr",
     "output_type": "stream",
     "text": [
      "  0%|          | 137/37253 [00:01<04:55, 125.81it/s]"
     ]
    },
    {
     "name": "stdout",
     "output_type": "stream",
     "text": [
      "Skipping due to missing or non-string Whisper_tiny.\n",
      "Skipping due to missing or non-string Whisper_tiny.\n"
     ]
    },
    {
     "name": "stderr",
     "output_type": "stream",
     "text": [
      "  0%|          | 177/37253 [00:01<04:48, 128.35it/s]"
     ]
    },
    {
     "name": "stdout",
     "output_type": "stream",
     "text": [
      "Skipping due to missing or non-string Whisper_tiny.\n"
     ]
    },
    {
     "name": "stderr",
     "output_type": "stream",
     "text": [
      "  1%|          | 309/37253 [00:02<04:44, 129.86it/s]"
     ]
    },
    {
     "name": "stdout",
     "output_type": "stream",
     "text": [
      "Skipping due to missing or non-string Whisper_tiny.\n"
     ]
    },
    {
     "name": "stderr",
     "output_type": "stream",
     "text": [
      "  1%|          | 440/37253 [00:03<04:47, 128.03it/s]"
     ]
    },
    {
     "name": "stdout",
     "output_type": "stream",
     "text": [
      "Skipping due to missing or non-string Whisper_tiny.\n"
     ]
    },
    {
     "name": "stderr",
     "output_type": "stream",
     "text": [
      "  1%|▏         | 532/37253 [00:04<04:44, 129.20it/s]"
     ]
    },
    {
     "name": "stdout",
     "output_type": "stream",
     "text": [
      "Skipping due to missing or non-string Whisper_tiny.\n"
     ]
    },
    {
     "name": "stderr",
     "output_type": "stream",
     "text": [
      "  2%|▏         | 875/37253 [00:06<04:40, 129.70it/s]"
     ]
    },
    {
     "name": "stdout",
     "output_type": "stream",
     "text": [
      "Skipping due to missing or non-string Whisper_tiny.\n",
      "Skipping due to missing or non-string Whisper_tiny.\n"
     ]
    },
    {
     "name": "stderr",
     "output_type": "stream",
     "text": [
      "  3%|▎         | 1179/37253 [00:09<04:35, 130.87it/s]"
     ]
    },
    {
     "name": "stdout",
     "output_type": "stream",
     "text": [
      "Skipping due to missing or non-string Whisper_tiny.\n"
     ]
    },
    {
     "name": "stderr",
     "output_type": "stream",
     "text": [
      "  3%|▎         | 1276/37253 [00:10<04:39, 128.88it/s]"
     ]
    },
    {
     "name": "stdout",
     "output_type": "stream",
     "text": [
      "Skipping due to missing or non-string Whisper_tiny.\n"
     ]
    },
    {
     "name": "stderr",
     "output_type": "stream",
     "text": [
      "  4%|▎         | 1354/37253 [00:10<04:48, 124.35it/s]"
     ]
    },
    {
     "name": "stdout",
     "output_type": "stream",
     "text": [
      "Skipping due to missing or non-string Whisper_tiny.\n"
     ]
    },
    {
     "name": "stderr",
     "output_type": "stream",
     "text": [
      "  4%|▍         | 1497/37253 [00:11<04:41, 126.86it/s]"
     ]
    },
    {
     "name": "stdout",
     "output_type": "stream",
     "text": [
      "Skipping due to missing or non-string Whisper_tiny.\n"
     ]
    },
    {
     "name": "stderr",
     "output_type": "stream",
     "text": [
      "  4%|▍         | 1615/37253 [00:12<04:37, 128.38it/s]"
     ]
    },
    {
     "name": "stdout",
     "output_type": "stream",
     "text": [
      "Skipping due to missing or non-string Whisper_tiny.\n",
      "Skipping due to missing or non-string Whisper_tiny.\n"
     ]
    },
    {
     "name": "stderr",
     "output_type": "stream",
     "text": [
      "  4%|▍         | 1655/37253 [00:13<04:35, 129.34it/s]"
     ]
    },
    {
     "name": "stdout",
     "output_type": "stream",
     "text": [
      "Skipping due to missing or non-string Whisper_tiny.\n",
      "Skipping due to missing or non-string Whisper_tiny.\n",
      "Skipping due to missing or non-string Whisper_tiny.\n"
     ]
    },
    {
     "name": "stderr",
     "output_type": "stream",
     "text": [
      "  5%|▍         | 1683/37253 [00:13<04:31, 130.95it/s]"
     ]
    },
    {
     "name": "stdout",
     "output_type": "stream",
     "text": [
      "Skipping due to missing or non-string Whisper_tiny.\n",
      "Skipping due to missing or non-string Whisper_tiny.\n",
      "Skipping due to missing or non-string Whisper_tiny.\n",
      "Skipping due to missing or non-string Whisper_tiny.\n"
     ]
    },
    {
     "name": "stderr",
     "output_type": "stream",
     "text": [
      "  5%|▍         | 1847/37253 [00:14<04:35, 128.42it/s]"
     ]
    },
    {
     "name": "stdout",
     "output_type": "stream",
     "text": [
      "Skipping: One of the rows is empty.\n"
     ]
    },
    {
     "name": "stderr",
     "output_type": "stream",
     "text": [
      "  5%|▌         | 1925/37253 [00:15<04:38, 126.77it/s]"
     ]
    },
    {
     "name": "stdout",
     "output_type": "stream",
     "text": [
      "Skipping due to missing or non-string Whisper_tiny.\n"
     ]
    },
    {
     "name": "stderr",
     "output_type": "stream",
     "text": [
      "  5%|▌         | 1965/37253 [00:15<04:37, 127.36it/s]"
     ]
    },
    {
     "name": "stdout",
     "output_type": "stream",
     "text": [
      "Skipping due to missing or non-string Whisper_tiny.\n",
      "Skipping due to missing or non-string Whisper_tiny.\n"
     ]
    },
    {
     "name": "stderr",
     "output_type": "stream",
     "text": [
      "  5%|▌         | 1991/37253 [00:15<04:39, 125.95it/s]"
     ]
    },
    {
     "name": "stdout",
     "output_type": "stream",
     "text": [
      "Skipping due to missing or non-string Whisper_tiny.\n"
     ]
    },
    {
     "name": "stderr",
     "output_type": "stream",
     "text": [
      "  5%|▌         | 2030/37253 [00:15<04:41, 125.16it/s]"
     ]
    },
    {
     "name": "stdout",
     "output_type": "stream",
     "text": [
      "Skipping due to missing or non-string Whisper_tiny.\n",
      "Skipping due to missing or non-string Whisper_tiny.\n"
     ]
    },
    {
     "name": "stderr",
     "output_type": "stream",
     "text": [
      "  6%|▌         | 2070/37253 [00:16<04:36, 127.37it/s]"
     ]
    },
    {
     "name": "stdout",
     "output_type": "stream",
     "text": [
      "Skipping due to missing or non-string Whisper_tiny.\n"
     ]
    },
    {
     "name": "stderr",
     "output_type": "stream",
     "text": [
      "  6%|▌         | 2136/37253 [00:16<04:33, 128.21it/s]"
     ]
    },
    {
     "name": "stdout",
     "output_type": "stream",
     "text": [
      "Skipping due to missing or non-string Whisper_tiny.\n",
      "Skipping due to missing or non-string Whisper_tiny.\n",
      "Skipping due to missing or non-string Whisper_tiny.\n"
     ]
    },
    {
     "name": "stderr",
     "output_type": "stream",
     "text": [
      "  6%|▌         | 2203/37253 [00:17<04:32, 128.74it/s]"
     ]
    },
    {
     "name": "stdout",
     "output_type": "stream",
     "text": [
      "Skipping due to missing or non-string Whisper_tiny.\n"
     ]
    },
    {
     "name": "stderr",
     "output_type": "stream",
     "text": [
      "  7%|▋         | 2567/37253 [00:20<04:30, 128.20it/s]"
     ]
    },
    {
     "name": "stdout",
     "output_type": "stream",
     "text": [
      "Skipping due to missing or non-string Whisper_tiny.\n"
     ]
    },
    {
     "name": "stderr",
     "output_type": "stream",
     "text": [
      "  7%|▋         | 2659/37253 [00:20<04:30, 128.07it/s]"
     ]
    },
    {
     "name": "stdout",
     "output_type": "stream",
     "text": [
      "Skipping due to missing or non-string Whisper_tiny.\n"
     ]
    },
    {
     "name": "stderr",
     "output_type": "stream",
     "text": [
      "  7%|▋         | 2699/37253 [00:21<04:27, 129.19it/s]"
     ]
    },
    {
     "name": "stdout",
     "output_type": "stream",
     "text": [
      "Skipping due to missing or non-string Whisper_tiny.\n"
     ]
    },
    {
     "name": "stderr",
     "output_type": "stream",
     "text": [
      "  7%|▋         | 2727/37253 [00:21<04:25, 130.24it/s]"
     ]
    },
    {
     "name": "stdout",
     "output_type": "stream",
     "text": [
      "Skipping due to missing or non-string Whisper_tiny.\n",
      "Skipping due to missing or non-string Whisper_tiny.\n"
     ]
    },
    {
     "name": "stderr",
     "output_type": "stream",
     "text": [
      "  7%|▋         | 2780/37253 [00:21<04:32, 126.32it/s]"
     ]
    },
    {
     "name": "stdout",
     "output_type": "stream",
     "text": [
      "Skipping due to missing or non-string Whisper_tiny.\n",
      "Skipping due to missing or non-string Whisper_tiny.\n"
     ]
    },
    {
     "name": "stderr",
     "output_type": "stream",
     "text": [
      "  8%|▊         | 2806/37253 [00:22<04:31, 126.81it/s]"
     ]
    },
    {
     "name": "stdout",
     "output_type": "stream",
     "text": [
      "Skipping due to missing or non-string Whisper_tiny.\n",
      "Skipping due to missing or non-string Whisper_tiny.\n"
     ]
    },
    {
     "name": "stderr",
     "output_type": "stream",
     "text": [
      "  8%|▊         | 2858/37253 [00:22<04:35, 124.98it/s]"
     ]
    },
    {
     "name": "stdout",
     "output_type": "stream",
     "text": [
      "Skipping due to missing or non-string Whisper_tiny.\n"
     ]
    },
    {
     "name": "stderr",
     "output_type": "stream",
     "text": [
      "  8%|▊         | 2936/37253 [00:23<04:31, 126.58it/s]"
     ]
    },
    {
     "name": "stdout",
     "output_type": "stream",
     "text": [
      "Skipping due to missing or non-string Whisper_tiny.\n"
     ]
    },
    {
     "name": "stderr",
     "output_type": "stream",
     "text": [
      "  9%|▉         | 3365/37253 [00:26<04:37, 122.32it/s]"
     ]
    },
    {
     "name": "stdout",
     "output_type": "stream",
     "text": [
      "Skipping due to missing or non-string Whisper_tiny.\n"
     ]
    },
    {
     "name": "stderr",
     "output_type": "stream",
     "text": [
      "  9%|▉         | 3391/37253 [00:26<04:33, 123.77it/s]"
     ]
    },
    {
     "name": "stdout",
     "output_type": "stream",
     "text": [
      "Skipping due to missing or non-string Whisper_tiny.\n",
      "Skipping due to missing or non-string Whisper_tiny.\n"
     ]
    },
    {
     "name": "stderr",
     "output_type": "stream",
     "text": [
      "  9%|▉         | 3456/37253 [00:27<04:36, 122.37it/s]"
     ]
    },
    {
     "name": "stdout",
     "output_type": "stream",
     "text": [
      "Skipping due to missing or non-string Whisper_tiny.\n"
     ]
    },
    {
     "name": "stderr",
     "output_type": "stream",
     "text": [
      " 10%|▉         | 3718/37253 [00:29<04:17, 130.39it/s]"
     ]
    },
    {
     "name": "stdout",
     "output_type": "stream",
     "text": [
      "Skipping due to missing or non-string Whisper_tiny.\n",
      "Skipping due to missing or non-string Whisper_tiny.\n"
     ]
    },
    {
     "name": "stderr",
     "output_type": "stream",
     "text": [
      " 10%|█         | 3746/37253 [00:29<04:14, 131.49it/s]"
     ]
    },
    {
     "name": "stdout",
     "output_type": "stream",
     "text": [
      "Skipping due to missing or non-string Whisper_tiny.\n",
      "Skipping due to missing or non-string Whisper_tiny.\n",
      "Skipping due to missing or non-string Whisper_tiny.\n"
     ]
    },
    {
     "name": "stderr",
     "output_type": "stream",
     "text": [
      " 10%|█         | 3802/37253 [00:30<04:11, 132.81it/s]"
     ]
    },
    {
     "name": "stdout",
     "output_type": "stream",
     "text": [
      "Skipping due to missing or non-string Whisper_tiny.\n",
      "Skipping due to missing or non-string Whisper_tiny.\n",
      "Skipping due to missing or non-string Whisper_tiny.\n",
      "Skipping due to missing or non-string Whisper_tiny.\n"
     ]
    },
    {
     "name": "stderr",
     "output_type": "stream",
     "text": [
      " 11%|█         | 4049/37253 [00:31<04:08, 133.60it/s]"
     ]
    },
    {
     "name": "stdout",
     "output_type": "stream",
     "text": [
      "Skipping due to missing or non-string Whisper_tiny.\n",
      "Skipping due to missing or non-string Whisper_tiny.\n",
      "Skipping due to missing or non-string Whisper_tiny.\n",
      "Skipping due to missing or non-string Whisper_tiny.\n"
     ]
    },
    {
     "name": "stderr",
     "output_type": "stream",
     "text": [
      " 11%|█         | 4091/37253 [00:32<04:09, 132.67it/s]"
     ]
    },
    {
     "name": "stdout",
     "output_type": "stream",
     "text": [
      "Skipping due to missing or non-string Whisper_tiny.\n",
      "Skipping due to missing or non-string Whisper_tiny.\n"
     ]
    },
    {
     "name": "stderr",
     "output_type": "stream",
     "text": [
      " 11%|█         | 4119/37253 [00:32<04:11, 131.81it/s]"
     ]
    },
    {
     "name": "stdout",
     "output_type": "stream",
     "text": [
      "Skipping due to missing or non-string Whisper_tiny.\n",
      "Skipping due to missing or non-string Whisper_tiny.\n",
      "Skipping due to missing or non-string Whisper_tiny.\n"
     ]
    },
    {
     "name": "stderr",
     "output_type": "stream",
     "text": [
      " 11%|█         | 4175/37253 [00:32<04:11, 131.59it/s]"
     ]
    },
    {
     "name": "stdout",
     "output_type": "stream",
     "text": [
      "Skipping due to missing or non-string Whisper_tiny.\n",
      "Skipping due to missing or non-string Whisper_tiny.\n"
     ]
    },
    {
     "name": "stderr",
     "output_type": "stream",
     "text": [
      " 11%|█▏        | 4243/37253 [00:33<04:18, 127.74it/s]"
     ]
    },
    {
     "name": "stdout",
     "output_type": "stream",
     "text": [
      "Skipping due to missing or non-string Whisper_tiny.\n"
     ]
    },
    {
     "name": "stderr",
     "output_type": "stream",
     "text": [
      " 12%|█▏        | 4374/37253 [00:34<04:15, 128.60it/s]"
     ]
    },
    {
     "name": "stdout",
     "output_type": "stream",
     "text": [
      "Skipping due to missing or non-string Whisper_tiny.\n"
     ]
    },
    {
     "name": "stderr",
     "output_type": "stream",
     "text": [
      " 12%|█▏        | 4457/37253 [00:35<04:07, 132.33it/s]"
     ]
    },
    {
     "name": "stdout",
     "output_type": "stream",
     "text": [
      "Skipping due to missing or non-string Whisper_tiny.\n",
      "Skipping due to missing or non-string Whisper_tiny.\n",
      "Skipping due to missing or non-string Whisper_tiny.\n"
     ]
    },
    {
     "name": "stderr",
     "output_type": "stream",
     "text": [
      " 12%|█▏        | 4604/37253 [00:36<04:13, 128.95it/s]"
     ]
    },
    {
     "name": "stdout",
     "output_type": "stream",
     "text": [
      "Skipping due to missing or non-string Whisper_tiny.\n",
      "Skipping due to missing or non-string Whisper_tiny.\n",
      "Skipping due to missing or non-string Whisper_tiny.\n"
     ]
    },
    {
     "name": "stderr",
     "output_type": "stream",
     "text": [
      " 13%|█▎        | 4670/37253 [00:36<04:12, 128.86it/s]"
     ]
    },
    {
     "name": "stdout",
     "output_type": "stream",
     "text": [
      "Skipping due to missing or non-string Whisper_tiny.\n"
     ]
    },
    {
     "name": "stderr",
     "output_type": "stream",
     "text": [
      " 13%|█▎        | 4697/37253 [00:36<04:11, 129.35it/s]"
     ]
    },
    {
     "name": "stdout",
     "output_type": "stream",
     "text": [
      "Skipping due to missing or non-string Whisper_tiny.\n"
     ]
    },
    {
     "name": "stderr",
     "output_type": "stream",
     "text": [
      " 13%|█▎        | 4750/37253 [00:37<04:10, 129.76it/s]"
     ]
    },
    {
     "name": "stdout",
     "output_type": "stream",
     "text": [
      "Skipping due to missing or non-string Whisper_tiny.\n"
     ]
    },
    {
     "name": "stderr",
     "output_type": "stream",
     "text": [
      " 13%|█▎        | 4921/37253 [00:38<04:14, 126.88it/s]"
     ]
    },
    {
     "name": "stdout",
     "output_type": "stream",
     "text": [
      "Skipping due to missing or non-string Whisper_tiny.\n"
     ]
    },
    {
     "name": "stderr",
     "output_type": "stream",
     "text": [
      " 13%|█▎        | 4961/37253 [00:39<04:11, 128.44it/s]"
     ]
    },
    {
     "name": "stdout",
     "output_type": "stream",
     "text": [
      "Skipping due to missing or non-string Whisper_tiny.\n"
     ]
    },
    {
     "name": "stderr",
     "output_type": "stream",
     "text": [
      " 14%|█▎        | 5096/37253 [00:40<04:05, 130.89it/s]"
     ]
    },
    {
     "name": "stdout",
     "output_type": "stream",
     "text": [
      "Skipping due to missing or non-string Whisper_tiny.\n"
     ]
    },
    {
     "name": "stderr",
     "output_type": "stream",
     "text": [
      " 14%|█▍        | 5166/37253 [00:40<04:04, 131.27it/s]"
     ]
    },
    {
     "name": "stdout",
     "output_type": "stream",
     "text": [
      "Skipping due to missing or non-string Whisper_tiny.\n"
     ]
    },
    {
     "name": "stderr",
     "output_type": "stream",
     "text": [
      " 14%|█▍        | 5337/37253 [00:41<04:09, 128.08it/s]"
     ]
    },
    {
     "name": "stdout",
     "output_type": "stream",
     "text": [
      "Skipping due to missing or non-string Whisper_tiny.\n"
     ]
    },
    {
     "name": "stderr",
     "output_type": "stream",
     "text": [
      " 16%|█▌        | 5780/37253 [00:45<04:13, 124.30it/s]"
     ]
    },
    {
     "name": "stdout",
     "output_type": "stream",
     "text": [
      "Skipping due to missing or non-string Whisper_tiny.\n"
     ]
    },
    {
     "name": "stderr",
     "output_type": "stream",
     "text": [
      " 16%|█▌        | 5806/37253 [00:45<04:11, 125.07it/s]"
     ]
    },
    {
     "name": "stdout",
     "output_type": "stream",
     "text": [
      "Skipping due to missing or non-string Whisper_tiny.\n"
     ]
    },
    {
     "name": "stderr",
     "output_type": "stream",
     "text": [
      " 16%|█▌        | 5833/37253 [00:45<04:07, 127.00it/s]"
     ]
    },
    {
     "name": "stdout",
     "output_type": "stream",
     "text": [
      "Skipping due to missing or non-string Whisper_tiny.\n",
      "Skipping due to missing or non-string Whisper_tiny.\n",
      "Skipping due to missing or non-string Whisper_tiny.\n"
     ]
    },
    {
     "name": "stderr",
     "output_type": "stream",
     "text": [
      " 16%|█▌        | 5872/37253 [00:46<04:09, 125.86it/s]"
     ]
    },
    {
     "name": "stdout",
     "output_type": "stream",
     "text": [
      "Skipping due to missing or non-string Whisper_tiny.\n"
     ]
    },
    {
     "name": "stderr",
     "output_type": "stream",
     "text": [
      " 16%|█▌        | 5913/37253 [00:46<04:02, 129.23it/s]"
     ]
    },
    {
     "name": "stdout",
     "output_type": "stream",
     "text": [
      "Skipping due to missing or non-string Whisper_tiny.\n"
     ]
    },
    {
     "name": "stderr",
     "output_type": "stream",
     "text": [
      " 16%|█▌        | 5968/37253 [00:46<03:59, 130.71it/s]"
     ]
    },
    {
     "name": "stdout",
     "output_type": "stream",
     "text": [
      "Skipping due to missing or non-string Whisper_tiny.\n"
     ]
    },
    {
     "name": "stderr",
     "output_type": "stream",
     "text": [
      " 16%|█▌        | 5996/37253 [00:47<04:00, 130.06it/s]"
     ]
    },
    {
     "name": "stdout",
     "output_type": "stream",
     "text": [
      "Skipping due to missing or non-string Whisper_tiny.\n",
      "Skipping due to missing or non-string Whisper_tiny.\n"
     ]
    },
    {
     "name": "stderr",
     "output_type": "stream",
     "text": [
      " 16%|█▌        | 6037/37253 [00:47<04:01, 129.36it/s]"
     ]
    },
    {
     "name": "stdout",
     "output_type": "stream",
     "text": [
      "Skipping due to missing or non-string Whisper_tiny.\n",
      "Skipping due to missing or non-string Whisper_tiny.\n"
     ]
    },
    {
     "name": "stderr",
     "output_type": "stream",
     "text": [
      " 16%|█▋        | 6089/37253 [00:47<04:02, 128.26it/s]"
     ]
    },
    {
     "name": "stdout",
     "output_type": "stream",
     "text": [
      "Skipping due to missing or non-string Whisper_tiny.\n"
     ]
    },
    {
     "name": "stderr",
     "output_type": "stream",
     "text": [
      " 17%|█▋        | 6168/37253 [00:48<04:04, 126.95it/s]"
     ]
    },
    {
     "name": "stdout",
     "output_type": "stream",
     "text": [
      "Skipping due to missing or non-string Whisper_tiny.\n",
      "Skipping due to missing or non-string Whisper_tiny.\n"
     ]
    },
    {
     "name": "stderr",
     "output_type": "stream",
     "text": [
      " 17%|█▋        | 6236/37253 [00:49<03:55, 131.47it/s]"
     ]
    },
    {
     "name": "stdout",
     "output_type": "stream",
     "text": [
      "Skipping due to missing or non-string Whisper_tiny.\n",
      "Skipping due to missing or non-string Whisper_tiny.\n",
      "Skipping due to missing or non-string Whisper_tiny.\n",
      "Skipping due to missing or non-string Whisper_tiny.\n"
     ]
    },
    {
     "name": "stderr",
     "output_type": "stream",
     "text": [
      " 17%|█▋        | 6264/37253 [00:49<03:52, 133.44it/s]"
     ]
    },
    {
     "name": "stdout",
     "output_type": "stream",
     "text": [
      "Skipping due to missing or non-string Whisper_tiny.\n",
      "Skipping due to missing or non-string Whisper_tiny.\n",
      "Skipping due to missing or non-string Whisper_tiny.\n",
      "Skipping due to missing or non-string Whisper_tiny.\n",
      "Skipping due to missing or non-string Whisper_tiny.\n"
     ]
    },
    {
     "name": "stderr",
     "output_type": "stream",
     "text": [
      " 17%|█▋        | 6292/37253 [00:49<03:48, 135.78it/s]"
     ]
    },
    {
     "name": "stdout",
     "output_type": "stream",
     "text": [
      "Skipping due to missing or non-string Whisper_tiny.\n",
      "Skipping due to missing or non-string Whisper_tiny.\n",
      "Skipping due to missing or non-string Whisper_tiny.\n"
     ]
    },
    {
     "name": "stderr",
     "output_type": "stream",
     "text": [
      " 18%|█▊        | 6611/37253 [00:51<03:57, 128.90it/s]"
     ]
    },
    {
     "name": "stdout",
     "output_type": "stream",
     "text": [
      "Skipping due to missing or non-string Whisper_tiny.\n"
     ]
    },
    {
     "name": "stderr",
     "output_type": "stream",
     "text": [
      " 18%|█▊        | 6651/37253 [00:52<03:57, 129.06it/s]"
     ]
    },
    {
     "name": "stdout",
     "output_type": "stream",
     "text": [
      "Skipping due to missing or non-string Whisper_tiny.\n"
     ]
    },
    {
     "name": "stderr",
     "output_type": "stream",
     "text": [
      " 18%|█▊        | 6692/37253 [00:52<03:54, 130.20it/s]"
     ]
    },
    {
     "name": "stdout",
     "output_type": "stream",
     "text": [
      "Skipping due to missing or non-string Whisper_tiny.\n",
      "Skipping due to missing or non-string Whisper_tiny.\n"
     ]
    },
    {
     "name": "stderr",
     "output_type": "stream",
     "text": [
      " 18%|█▊        | 6732/37253 [00:52<03:56, 128.86it/s]"
     ]
    },
    {
     "name": "stdout",
     "output_type": "stream",
     "text": [
      "Skipping due to missing or non-string Whisper_tiny.\n"
     ]
    },
    {
     "name": "stderr",
     "output_type": "stream",
     "text": [
      " 18%|█▊        | 6798/37253 [00:53<03:57, 128.33it/s]"
     ]
    },
    {
     "name": "stdout",
     "output_type": "stream",
     "text": [
      "Skipping due to missing or non-string Whisper_tiny.\n"
     ]
    },
    {
     "name": "stderr",
     "output_type": "stream",
     "text": [
      " 19%|█▉        | 6995/37253 [00:54<03:52, 130.06it/s]"
     ]
    },
    {
     "name": "stdout",
     "output_type": "stream",
     "text": [
      "Skipping due to missing or non-string Whisper_tiny.\n"
     ]
    },
    {
     "name": "stderr",
     "output_type": "stream",
     "text": [
      " 19%|█▉        | 7131/37253 [00:56<03:55, 128.17it/s]"
     ]
    },
    {
     "name": "stdout",
     "output_type": "stream",
     "text": [
      "Skipping due to missing or non-string Whisper_tiny.\n",
      "Skipping due to missing or non-string Whisper_tiny.\n"
     ]
    },
    {
     "name": "stderr",
     "output_type": "stream",
     "text": [
      " 19%|█▉        | 7171/37253 [00:56<03:54, 128.33it/s]"
     ]
    },
    {
     "name": "stdout",
     "output_type": "stream",
     "text": [
      "Skipping due to missing or non-string Whisper_tiny.\n"
     ]
    },
    {
     "name": "stderr",
     "output_type": "stream",
     "text": [
      " 19%|█▉        | 7237/37253 [00:56<03:55, 127.37it/s]"
     ]
    },
    {
     "name": "stdout",
     "output_type": "stream",
     "text": [
      "Skipping due to missing or non-string Whisper_tiny.\n",
      "Skipping due to missing or non-string Whisper_tiny.\n"
     ]
    },
    {
     "name": "stderr",
     "output_type": "stream",
     "text": [
      " 20%|██        | 7471/37253 [00:58<03:56, 125.89it/s]"
     ]
    },
    {
     "name": "stdout",
     "output_type": "stream",
     "text": [
      "Skipping due to missing or non-string Whisper_tiny.\n"
     ]
    },
    {
     "name": "stderr",
     "output_type": "stream",
     "text": [
      " 20%|██        | 7538/37253 [00:59<03:49, 129.47it/s]"
     ]
    },
    {
     "name": "stdout",
     "output_type": "stream",
     "text": [
      "Skipping due to missing or non-string Whisper_tiny.\n",
      "Skipping due to missing or non-string Whisper_tiny.\n",
      "Skipping due to missing or non-string Whisper_tiny.\n"
     ]
    },
    {
     "name": "stderr",
     "output_type": "stream",
     "text": [
      " 20%|██        | 7565/37253 [00:59<03:49, 129.47it/s]"
     ]
    },
    {
     "name": "stdout",
     "output_type": "stream",
     "text": [
      "Skipping due to missing or non-string Whisper_tiny.\n"
     ]
    },
    {
     "name": "stderr",
     "output_type": "stream",
     "text": [
      " 20%|██        | 7634/37253 [00:59<03:45, 131.24it/s]"
     ]
    },
    {
     "name": "stdout",
     "output_type": "stream",
     "text": [
      "Skipping due to missing or non-string Whisper_tiny.\n",
      "Skipping due to missing or non-string Whisper_tiny.\n"
     ]
    },
    {
     "name": "stderr",
     "output_type": "stream",
     "text": [
      " 21%|██        | 7718/37253 [01:00<03:47, 129.70it/s]"
     ]
    },
    {
     "name": "stdout",
     "output_type": "stream",
     "text": [
      "Skipping due to missing or non-string Whisper_tiny.\n"
     ]
    },
    {
     "name": "stderr",
     "output_type": "stream",
     "text": [
      " 21%|██▏       | 7969/37253 [01:02<03:44, 130.60it/s]"
     ]
    },
    {
     "name": "stdout",
     "output_type": "stream",
     "text": [
      "Skipping due to missing or non-string Whisper_tiny.\n",
      "Skipping due to missing or non-string Whisper_tiny.\n"
     ]
    },
    {
     "name": "stderr",
     "output_type": "stream",
     "text": [
      " 22%|██▏       | 8075/37253 [01:03<03:47, 128.42it/s]"
     ]
    },
    {
     "name": "stdout",
     "output_type": "stream",
     "text": [
      "Skipping due to missing or non-string Whisper_tiny.\n"
     ]
    },
    {
     "name": "stderr",
     "output_type": "stream",
     "text": [
      " 22%|██▏       | 8114/37253 [01:03<03:48, 127.34it/s]"
     ]
    },
    {
     "name": "stdout",
     "output_type": "stream",
     "text": [
      "Skipping due to missing or non-string Whisper_tiny.\n",
      "Skipping due to missing or non-string Whisper_tiny.\n"
     ]
    },
    {
     "name": "stderr",
     "output_type": "stream",
     "text": [
      " 22%|██▏       | 8207/37253 [01:04<03:44, 129.66it/s]"
     ]
    },
    {
     "name": "stdout",
     "output_type": "stream",
     "text": [
      "Skipping due to missing or non-string Whisper_tiny.\n",
      "Skipping due to missing or non-string Whisper_tiny.\n",
      "Skipping due to missing or non-string Whisper_tiny.\n"
     ]
    },
    {
     "name": "stderr",
     "output_type": "stream",
     "text": [
      " 22%|██▏       | 8235/37253 [01:04<03:43, 130.03it/s]"
     ]
    },
    {
     "name": "stdout",
     "output_type": "stream",
     "text": [
      "Skipping due to missing or non-string Whisper_tiny.\n",
      "Skipping due to missing or non-string Whisper_tiny.\n"
     ]
    },
    {
     "name": "stderr",
     "output_type": "stream",
     "text": [
      " 22%|██▏       | 8370/37253 [01:05<03:41, 130.65it/s]"
     ]
    },
    {
     "name": "stdout",
     "output_type": "stream",
     "text": [
      "Skipping due to missing or non-string Whisper_tiny.\n",
      "Skipping due to missing or non-string Whisper_tiny.\n",
      "Skipping due to missing or non-string Whisper_tiny.\n"
     ]
    },
    {
     "name": "stderr",
     "output_type": "stream",
     "text": [
      " 23%|██▎       | 8398/37253 [01:05<03:39, 131.35it/s]"
     ]
    },
    {
     "name": "stdout",
     "output_type": "stream",
     "text": [
      "Skipping due to missing or non-string Whisper_tiny.\n",
      "Skipping due to missing or non-string Whisper_tiny.\n",
      "Skipping due to missing or non-string Whisper_tiny.\n"
     ]
    },
    {
     "name": "stderr",
     "output_type": "stream",
     "text": [
      " 23%|██▎       | 8521/37253 [01:06<03:39, 130.84it/s]"
     ]
    },
    {
     "name": "stdout",
     "output_type": "stream",
     "text": [
      "Skipping due to missing or non-string Whisper_tiny.\n",
      "Skipping due to missing or non-string Whisper_tiny.\n"
     ]
    },
    {
     "name": "stderr",
     "output_type": "stream",
     "text": [
      " 23%|██▎       | 8563/37253 [01:07<03:41, 129.68it/s]"
     ]
    },
    {
     "name": "stdout",
     "output_type": "stream",
     "text": [
      "Skipping due to missing or non-string Whisper_tiny.\n"
     ]
    },
    {
     "name": "stderr",
     "output_type": "stream",
     "text": [
      " 23%|██▎       | 8628/37253 [01:07<03:42, 128.60it/s]"
     ]
    },
    {
     "name": "stdout",
     "output_type": "stream",
     "text": [
      "Skipping due to missing or non-string Whisper_tiny.\n"
     ]
    },
    {
     "name": "stderr",
     "output_type": "stream",
     "text": [
      " 23%|██▎       | 8694/37253 [01:08<03:41, 128.81it/s]"
     ]
    },
    {
     "name": "stdout",
     "output_type": "stream",
     "text": [
      "Skipping due to missing or non-string Whisper_tiny.\n"
     ]
    },
    {
     "name": "stderr",
     "output_type": "stream",
     "text": [
      " 24%|██▎       | 8785/37253 [01:08<03:46, 125.44it/s]"
     ]
    },
    {
     "name": "stdout",
     "output_type": "stream",
     "text": [
      "Skipping due to missing or non-string Whisper_tiny.\n"
     ]
    },
    {
     "name": "stderr",
     "output_type": "stream",
     "text": [
      " 24%|██▍       | 9032/37253 [01:10<03:42, 126.92it/s]"
     ]
    },
    {
     "name": "stdout",
     "output_type": "stream",
     "text": [
      "Skipping due to missing or non-string Whisper_tiny.\n"
     ]
    },
    {
     "name": "stderr",
     "output_type": "stream",
     "text": [
      " 25%|██▍       | 9137/37253 [01:11<03:39, 128.12it/s]"
     ]
    },
    {
     "name": "stdout",
     "output_type": "stream",
     "text": [
      "Skipping due to missing or non-string Whisper_tiny.\n"
     ]
    },
    {
     "name": "stderr",
     "output_type": "stream",
     "text": [
      " 25%|██▍       | 9203/37253 [01:12<03:38, 128.60it/s]"
     ]
    },
    {
     "name": "stdout",
     "output_type": "stream",
     "text": [
      "Skipping due to missing or non-string Whisper_tiny.\n"
     ]
    },
    {
     "name": "stderr",
     "output_type": "stream",
     "text": [
      " 25%|██▌       | 9372/37253 [01:13<03:47, 122.50it/s]"
     ]
    },
    {
     "name": "stdout",
     "output_type": "stream",
     "text": [
      "Skipping due to missing or non-string Whisper_tiny.\n",
      "Skipping due to missing or non-string Whisper_tiny.\n"
     ]
    },
    {
     "name": "stderr",
     "output_type": "stream",
     "text": [
      " 25%|██▌       | 9437/37253 [01:14<03:48, 121.71it/s]"
     ]
    },
    {
     "name": "stdout",
     "output_type": "stream",
     "text": [
      "Skipping due to missing or non-string Whisper_tiny.\n"
     ]
    },
    {
     "name": "stderr",
     "output_type": "stream",
     "text": [
      " 26%|██▌       | 9619/37253 [01:15<03:43, 123.68it/s]"
     ]
    },
    {
     "name": "stdout",
     "output_type": "stream",
     "text": [
      "Skipping due to missing or non-string Whisper_tiny.\n"
     ]
    },
    {
     "name": "stderr",
     "output_type": "stream",
     "text": [
      " 26%|██▌       | 9762/37253 [01:16<03:39, 125.07it/s]"
     ]
    },
    {
     "name": "stdout",
     "output_type": "stream",
     "text": [
      "Skipping due to missing or non-string Whisper_tiny.\n",
      "Skipping due to missing or non-string Whisper_tiny.\n"
     ]
    },
    {
     "name": "stderr",
     "output_type": "stream",
     "text": [
      " 26%|██▋       | 9814/37253 [01:17<03:38, 125.49it/s]"
     ]
    },
    {
     "name": "stdout",
     "output_type": "stream",
     "text": [
      "Skipping due to missing or non-string Whisper_tiny.\n"
     ]
    },
    {
     "name": "stderr",
     "output_type": "stream",
     "text": [
      " 27%|██▋       | 10009/37253 [01:18<03:37, 125.27it/s]"
     ]
    },
    {
     "name": "stdout",
     "output_type": "stream",
     "text": [
      "Skipping due to missing or non-string Whisper_tiny.\n"
     ]
    },
    {
     "name": "stderr",
     "output_type": "stream",
     "text": [
      " 27%|██▋       | 10088/37253 [01:19<03:32, 127.88it/s]"
     ]
    },
    {
     "name": "stdout",
     "output_type": "stream",
     "text": [
      "Skipping due to missing or non-string Whisper_tiny.\n"
     ]
    },
    {
     "name": "stderr",
     "output_type": "stream",
     "text": [
      " 27%|██▋       | 10115/37253 [01:19<03:31, 128.41it/s]"
     ]
    },
    {
     "name": "stdout",
     "output_type": "stream",
     "text": [
      "Skipping due to missing or non-string Whisper_tiny.\n"
     ]
    },
    {
     "name": "stderr",
     "output_type": "stream",
     "text": [
      " 28%|██▊       | 10311/37253 [01:21<03:30, 128.23it/s]"
     ]
    },
    {
     "name": "stdout",
     "output_type": "stream",
     "text": [
      "Skipping due to missing or non-string Whisper_tiny.\n"
     ]
    },
    {
     "name": "stderr",
     "output_type": "stream",
     "text": [
      " 28%|██▊       | 10494/37253 [01:22<03:33, 125.22it/s]"
     ]
    },
    {
     "name": "stdout",
     "output_type": "stream",
     "text": [
      "Skipping: One of the rows is empty.\n"
     ]
    },
    {
     "name": "stderr",
     "output_type": "stream",
     "text": [
      " 28%|██▊       | 10611/37253 [01:23<03:29, 127.39it/s]"
     ]
    },
    {
     "name": "stdout",
     "output_type": "stream",
     "text": [
      "Skipping due to missing or non-string Whisper_tiny.\n",
      "Skipping due to missing or non-string Whisper_tiny.\n"
     ]
    },
    {
     "name": "stderr",
     "output_type": "stream",
     "text": [
      " 29%|██▊       | 10705/37253 [01:24<03:23, 130.68it/s]"
     ]
    },
    {
     "name": "stdout",
     "output_type": "stream",
     "text": [
      "Skipping due to missing or non-string Whisper_tiny.\n",
      "Skipping due to missing or non-string Whisper_tiny.\n",
      "Skipping due to missing or non-string Whisper_tiny.\n",
      "Skipping due to missing or non-string Whisper_tiny.\n",
      "Skipping due to missing or non-string Whisper_tiny.\n"
     ]
    },
    {
     "name": "stderr",
     "output_type": "stream",
     "text": [
      " 29%|██▉       | 10864/37253 [01:25<03:22, 130.36it/s]"
     ]
    },
    {
     "name": "stdout",
     "output_type": "stream",
     "text": [
      "Skipping due to missing or non-string Whisper_tiny.\n",
      "Skipping due to missing or non-string Whisper_tiny.\n",
      "Skipping due to missing or non-string Whisper_tiny.\n"
     ]
    },
    {
     "name": "stderr",
     "output_type": "stream",
     "text": [
      " 29%|██▉       | 10906/37253 [01:25<03:22, 130.26it/s]"
     ]
    },
    {
     "name": "stdout",
     "output_type": "stream",
     "text": [
      "Skipping due to missing or non-string Whisper_tiny.\n"
     ]
    },
    {
     "name": "stderr",
     "output_type": "stream",
     "text": [
      " 29%|██▉       | 10985/37253 [01:26<03:27, 126.64it/s]"
     ]
    },
    {
     "name": "stdout",
     "output_type": "stream",
     "text": [
      "Skipping due to missing or non-string Whisper_tiny.\n",
      "Skipping due to missing or non-string Whisper_tiny.\n"
     ]
    },
    {
     "name": "stderr",
     "output_type": "stream",
     "text": [
      " 30%|██▉       | 11167/37253 [01:27<03:30, 123.87it/s]"
     ]
    },
    {
     "name": "stdout",
     "output_type": "stream",
     "text": [
      "Skipping due to missing or non-string Whisper_tiny.\n",
      "Skipping due to missing or non-string Whisper_tiny.\n"
     ]
    },
    {
     "name": "stderr",
     "output_type": "stream",
     "text": [
      " 30%|███       | 11297/37253 [01:28<03:30, 123.41it/s]"
     ]
    },
    {
     "name": "stdout",
     "output_type": "stream",
     "text": [
      "Skipping due to missing or non-string Whisper_tiny.\n"
     ]
    },
    {
     "name": "stderr",
     "output_type": "stream",
     "text": [
      " 30%|███       | 11323/37253 [01:29<03:27, 125.07it/s]"
     ]
    },
    {
     "name": "stdout",
     "output_type": "stream",
     "text": [
      "Skipping due to missing or non-string Whisper_tiny.\n"
     ]
    },
    {
     "name": "stderr",
     "output_type": "stream",
     "text": [
      " 31%|███       | 11507/37253 [01:30<03:17, 130.47it/s]"
     ]
    },
    {
     "name": "stdout",
     "output_type": "stream",
     "text": [
      "Skipping due to missing or non-string Whisper_tiny.\n",
      "Skipping due to missing or non-string Whisper_tiny.\n"
     ]
    },
    {
     "name": "stderr",
     "output_type": "stream",
     "text": [
      " 31%|███       | 11535/37253 [01:30<03:17, 130.11it/s]"
     ]
    },
    {
     "name": "stdout",
     "output_type": "stream",
     "text": [
      "Skipping due to missing or non-string Whisper_tiny.\n"
     ]
    },
    {
     "name": "stderr",
     "output_type": "stream",
     "text": [
      " 31%|███       | 11615/37253 [01:31<03:24, 125.49it/s]"
     ]
    },
    {
     "name": "stdout",
     "output_type": "stream",
     "text": [
      "Skipping due to missing or non-string Whisper_tiny.\n"
     ]
    },
    {
     "name": "stderr",
     "output_type": "stream",
     "text": [
      " 31%|███▏      | 11706/37253 [01:32<03:24, 124.68it/s]"
     ]
    },
    {
     "name": "stdout",
     "output_type": "stream",
     "text": [
      "Skipping due to missing or non-string Whisper_tiny.\n"
     ]
    },
    {
     "name": "stderr",
     "output_type": "stream",
     "text": [
      " 31%|███▏      | 11732/37253 [01:32<03:22, 126.14it/s]"
     ]
    },
    {
     "name": "stdout",
     "output_type": "stream",
     "text": [
      "Skipping due to missing or non-string Whisper_tiny.\n"
     ]
    },
    {
     "name": "stderr",
     "output_type": "stream",
     "text": [
      " 32%|███▏      | 11850/37253 [01:33<03:19, 127.10it/s]"
     ]
    },
    {
     "name": "stdout",
     "output_type": "stream",
     "text": [
      "Skipping due to missing or non-string Whisper_tiny.\n"
     ]
    },
    {
     "name": "stderr",
     "output_type": "stream",
     "text": [
      " 32%|███▏      | 11954/37253 [01:34<03:17, 127.95it/s]"
     ]
    },
    {
     "name": "stdout",
     "output_type": "stream",
     "text": [
      "Skipping due to missing or non-string Whisper_tiny.\n"
     ]
    },
    {
     "name": "stderr",
     "output_type": "stream",
     "text": [
      " 32%|███▏      | 11994/37253 [01:34<03:16, 128.76it/s]"
     ]
    },
    {
     "name": "stdout",
     "output_type": "stream",
     "text": [
      "Skipping due to missing or non-string Whisper_tiny.\n"
     ]
    },
    {
     "name": "stderr",
     "output_type": "stream",
     "text": [
      " 33%|███▎      | 12115/37253 [01:35<03:14, 129.14it/s]"
     ]
    },
    {
     "name": "stdout",
     "output_type": "stream",
     "text": [
      "Skipping due to missing or non-string Whisper_tiny.\n"
     ]
    },
    {
     "name": "stderr",
     "output_type": "stream",
     "text": [
      " 33%|███▎      | 12156/37253 [01:35<03:13, 129.62it/s]"
     ]
    },
    {
     "name": "stdout",
     "output_type": "stream",
     "text": [
      "Skipping due to missing or non-string Whisper_tiny.\n",
      "Skipping due to missing or non-string Whisper_tiny.\n",
      "Skipping due to missing or non-string Whisper_tiny.\n",
      "Skipping due to missing or non-string Whisper_tiny.\n",
      "Skipping due to missing or non-string Whisper_tiny.\n"
     ]
    },
    {
     "name": "stderr",
     "output_type": "stream",
     "text": [
      " 33%|███▎      | 12212/37253 [01:36<03:14, 128.44it/s]"
     ]
    },
    {
     "name": "stdout",
     "output_type": "stream",
     "text": [
      "Skipping due to missing or non-string Whisper_tiny.\n",
      "Skipping due to missing or non-string Whisper_tiny.\n",
      "Skipping due to missing or non-string Whisper_tiny.\n",
      "Skipping due to missing or non-string Whisper_tiny.\n"
     ]
    },
    {
     "name": "stderr",
     "output_type": "stream",
     "text": [
      " 33%|███▎      | 12251/37253 [01:36<03:19, 125.55it/s]"
     ]
    },
    {
     "name": "stdout",
     "output_type": "stream",
     "text": [
      "Skipping due to missing or non-string Whisper_tiny.\n",
      "Skipping due to missing or non-string Whisper_tiny.\n",
      "Skipping due to missing or non-string Whisper_tiny.\n"
     ]
    },
    {
     "name": "stderr",
     "output_type": "stream",
     "text": [
      " 33%|███▎      | 12317/37253 [01:36<03:14, 128.25it/s]"
     ]
    },
    {
     "name": "stdout",
     "output_type": "stream",
     "text": [
      "Skipping due to missing or non-string Whisper_tiny.\n",
      "Skipping due to missing or non-string Whisper_tiny.\n"
     ]
    },
    {
     "name": "stderr",
     "output_type": "stream",
     "text": [
      " 33%|███▎      | 12464/37253 [01:38<03:09, 130.67it/s]"
     ]
    },
    {
     "name": "stdout",
     "output_type": "stream",
     "text": [
      "Skipping due to missing or non-string Whisper_tiny.\n"
     ]
    },
    {
     "name": "stderr",
     "output_type": "stream",
     "text": [
      " 34%|███▎      | 12558/37253 [01:38<03:12, 128.47it/s]"
     ]
    },
    {
     "name": "stdout",
     "output_type": "stream",
     "text": [
      "Skipping due to missing or non-string Whisper_tiny.\n"
     ]
    },
    {
     "name": "stderr",
     "output_type": "stream",
     "text": [
      " 34%|███▍      | 12728/37253 [01:40<03:10, 128.60it/s]"
     ]
    },
    {
     "name": "stdout",
     "output_type": "stream",
     "text": [
      "Skipping due to missing or non-string Whisper_tiny.\n"
     ]
    },
    {
     "name": "stderr",
     "output_type": "stream",
     "text": [
      " 34%|███▍      | 12780/37253 [01:40<03:10, 128.29it/s]"
     ]
    },
    {
     "name": "stdout",
     "output_type": "stream",
     "text": [
      "Skipping due to missing or non-string Whisper_tiny.\n"
     ]
    },
    {
     "name": "stderr",
     "output_type": "stream",
     "text": [
      " 34%|███▍      | 12820/37253 [01:40<03:10, 127.97it/s]"
     ]
    },
    {
     "name": "stdout",
     "output_type": "stream",
     "text": [
      "Skipping due to missing or non-string Whisper_tiny.\n"
     ]
    },
    {
     "name": "stderr",
     "output_type": "stream",
     "text": [
      " 35%|███▍      | 12900/37253 [01:41<03:09, 128.70it/s]"
     ]
    },
    {
     "name": "stdout",
     "output_type": "stream",
     "text": [
      "Skipping due to missing or non-string Whisper_tiny.\n",
      "Skipping due to missing or non-string Whisper_tiny.\n",
      "Skipping due to missing or non-string Whisper_tiny.\n",
      "Skipping due to missing or non-string Whisper_tiny.\n"
     ]
    },
    {
     "name": "stderr",
     "output_type": "stream",
     "text": [
      " 35%|███▍      | 12928/37253 [01:41<03:07, 129.61it/s]"
     ]
    },
    {
     "name": "stdout",
     "output_type": "stream",
     "text": [
      "Skipping due to missing or non-string Whisper_tiny.\n"
     ]
    },
    {
     "name": "stderr",
     "output_type": "stream",
     "text": [
      " 35%|███▍      | 12969/37253 [01:42<03:07, 129.81it/s]"
     ]
    },
    {
     "name": "stdout",
     "output_type": "stream",
     "text": [
      "Skipping due to missing or non-string Whisper_tiny.\n",
      "Skipping due to missing or non-string Whisper_tiny.\n",
      "Skipping due to missing or non-string Whisper_tiny.\n"
     ]
    },
    {
     "name": "stderr",
     "output_type": "stream",
     "text": [
      " 35%|███▍      | 13036/37253 [01:42<03:05, 130.82it/s]"
     ]
    },
    {
     "name": "stdout",
     "output_type": "stream",
     "text": [
      "Skipping due to missing or non-string Whisper_tiny.\n",
      "Skipping due to missing or non-string Whisper_tiny.\n"
     ]
    },
    {
     "name": "stderr",
     "output_type": "stream",
     "text": [
      " 35%|███▌      | 13077/37253 [01:42<03:07, 129.09it/s]"
     ]
    },
    {
     "name": "stdout",
     "output_type": "stream",
     "text": [
      "Skipping due to missing or non-string Whisper_tiny.\n",
      "Skipping due to missing or non-string Whisper_tiny.\n",
      "Skipping due to missing or non-string Whisper_tiny.\n"
     ]
    },
    {
     "name": "stderr",
     "output_type": "stream",
     "text": [
      " 35%|███▌      | 13103/37253 [01:43<03:08, 128.09it/s]"
     ]
    },
    {
     "name": "stdout",
     "output_type": "stream",
     "text": [
      "Skipping due to missing or non-string Whisper_tiny.\n",
      "Skipping due to missing or non-string Whisper_tiny.\n"
     ]
    },
    {
     "name": "stderr",
     "output_type": "stream",
     "text": [
      " 35%|███▌      | 13157/37253 [01:43<03:05, 129.72it/s]"
     ]
    },
    {
     "name": "stdout",
     "output_type": "stream",
     "text": [
      "Skipping due to missing or non-string Whisper_tiny.\n",
      "Skipping due to missing or non-string Whisper_tiny.\n"
     ]
    },
    {
     "name": "stderr",
     "output_type": "stream",
     "text": [
      " 35%|███▌      | 13185/37253 [01:43<03:07, 128.53it/s]"
     ]
    },
    {
     "name": "stdout",
     "output_type": "stream",
     "text": [
      "Skipping due to missing or non-string Whisper_tiny.\n",
      "Skipping due to missing or non-string Whisper_tiny.\n"
     ]
    },
    {
     "name": "stderr",
     "output_type": "stream",
     "text": [
      " 36%|███▌      | 13238/37253 [01:44<03:07, 127.75it/s]"
     ]
    },
    {
     "name": "stdout",
     "output_type": "stream",
     "text": [
      "Skipping due to missing or non-string Whisper_tiny.\n",
      "Skipping due to missing or non-string Whisper_tiny.\n",
      "Skipping due to missing or non-string Whisper_tiny.\n"
     ]
    },
    {
     "name": "stderr",
     "output_type": "stream",
     "text": [
      " 36%|███▌      | 13266/37253 [01:44<03:04, 130.23it/s]"
     ]
    },
    {
     "name": "stdout",
     "output_type": "stream",
     "text": [
      "Skipping due to missing or non-string Whisper_tiny.\n",
      "Skipping due to missing or non-string Whisper_tiny.\n",
      "Skipping due to missing or non-string Whisper_tiny.\n"
     ]
    },
    {
     "name": "stderr",
     "output_type": "stream",
     "text": [
      " 36%|███▌      | 13321/37253 [01:44<03:03, 130.07it/s]"
     ]
    },
    {
     "name": "stdout",
     "output_type": "stream",
     "text": [
      "Skipping due to missing or non-string Whisper_tiny.\n",
      "Skipping due to missing or non-string Whisper_tiny.\n"
     ]
    },
    {
     "name": "stderr",
     "output_type": "stream",
     "text": [
      " 36%|███▌      | 13363/37253 [01:45<03:04, 129.66it/s]"
     ]
    },
    {
     "name": "stdout",
     "output_type": "stream",
     "text": [
      "Skipping due to missing or non-string Whisper_tiny.\n"
     ]
    },
    {
     "name": "stderr",
     "output_type": "stream",
     "text": [
      " 36%|███▌      | 13416/37253 [01:45<03:04, 129.06it/s]"
     ]
    },
    {
     "name": "stdout",
     "output_type": "stream",
     "text": [
      "Skipping due to missing or non-string Whisper_tiny.\n",
      "Skipping due to missing or non-string Whisper_tiny.\n",
      "Skipping due to missing or non-string Whisper_tiny.\n"
     ]
    },
    {
     "name": "stderr",
     "output_type": "stream",
     "text": [
      " 36%|███▌      | 13458/37253 [01:45<03:03, 129.37it/s]"
     ]
    },
    {
     "name": "stdout",
     "output_type": "stream",
     "text": [
      "Skipping due to missing or non-string Whisper_tiny.\n"
     ]
    },
    {
     "name": "stderr",
     "output_type": "stream",
     "text": [
      " 36%|███▌      | 13499/37253 [01:46<03:00, 131.49it/s]"
     ]
    },
    {
     "name": "stdout",
     "output_type": "stream",
     "text": [
      "Skipping due to missing or non-string Whisper_tiny.\n",
      "Skipping due to missing or non-string Whisper_tiny.\n",
      "Skipping due to missing or non-string Whisper_tiny.\n"
     ]
    },
    {
     "name": "stderr",
     "output_type": "stream",
     "text": [
      " 36%|███▋      | 13555/37253 [01:46<03:03, 129.07it/s]"
     ]
    },
    {
     "name": "stdout",
     "output_type": "stream",
     "text": [
      "Skipping due to missing or non-string Whisper_tiny.\n"
     ]
    },
    {
     "name": "stderr",
     "output_type": "stream",
     "text": [
      " 37%|███▋      | 13647/37253 [01:47<03:07, 126.06it/s]"
     ]
    },
    {
     "name": "stdout",
     "output_type": "stream",
     "text": [
      "Skipping due to missing or non-string Whisper_tiny.\n"
     ]
    },
    {
     "name": "stderr",
     "output_type": "stream",
     "text": [
      " 37%|███▋      | 13713/37253 [01:47<03:02, 128.71it/s]"
     ]
    },
    {
     "name": "stdout",
     "output_type": "stream",
     "text": [
      "Skipping due to missing or non-string Whisper_tiny.\n",
      "Skipping due to missing or non-string Whisper_tiny.\n",
      "Skipping due to missing or non-string Whisper_tiny.\n"
     ]
    },
    {
     "name": "stderr",
     "output_type": "stream",
     "text": [
      " 37%|███▋      | 13767/37253 [01:48<03:01, 129.09it/s]"
     ]
    },
    {
     "name": "stdout",
     "output_type": "stream",
     "text": [
      "Skipping due to missing or non-string Whisper_tiny.\n"
     ]
    },
    {
     "name": "stderr",
     "output_type": "stream",
     "text": [
      " 37%|███▋      | 13848/37253 [01:48<03:00, 129.82it/s]"
     ]
    },
    {
     "name": "stdout",
     "output_type": "stream",
     "text": [
      "Skipping due to missing or non-string Whisper_tiny.\n"
     ]
    },
    {
     "name": "stderr",
     "output_type": "stream",
     "text": [
      " 37%|███▋      | 13913/37253 [01:49<03:03, 127.29it/s]"
     ]
    },
    {
     "name": "stdout",
     "output_type": "stream",
     "text": [
      "Skipping due to missing or non-string Whisper_tiny.\n"
     ]
    },
    {
     "name": "stderr",
     "output_type": "stream",
     "text": [
      " 37%|███▋      | 13966/37253 [01:49<03:01, 128.23it/s]"
     ]
    },
    {
     "name": "stdout",
     "output_type": "stream",
     "text": [
      "Skipping due to missing or non-string Whisper_tiny.\n",
      "Skipping due to missing or non-string Whisper_tiny.\n",
      "Skipping due to missing or non-string Whisper_tiny.\n",
      "Skipping due to missing or non-string Whisper_tiny.\n"
     ]
    },
    {
     "name": "stderr",
     "output_type": "stream",
     "text": [
      " 38%|███▊      | 14047/37253 [01:50<02:57, 130.45it/s]"
     ]
    },
    {
     "name": "stdout",
     "output_type": "stream",
     "text": [
      "Skipping due to missing or non-string Whisper_tiny.\n"
     ]
    },
    {
     "name": "stderr",
     "output_type": "stream",
     "text": [
      " 38%|███▊      | 14131/37253 [01:51<02:57, 130.49it/s]"
     ]
    },
    {
     "name": "stdout",
     "output_type": "stream",
     "text": [
      "Skipping due to missing or non-string Whisper_tiny.\n"
     ]
    },
    {
     "name": "stderr",
     "output_type": "stream",
     "text": [
      " 38%|███▊      | 14238/37253 [01:51<02:57, 129.82it/s]"
     ]
    },
    {
     "name": "stdout",
     "output_type": "stream",
     "text": [
      "Skipping due to missing or non-string Whisper_tiny.\n",
      "Skipping due to missing or non-string Whisper_tiny.\n"
     ]
    },
    {
     "name": "stderr",
     "output_type": "stream",
     "text": [
      " 38%|███▊      | 14277/37253 [01:52<02:59, 128.18it/s]"
     ]
    },
    {
     "name": "stdout",
     "output_type": "stream",
     "text": [
      "Skipping due to missing or non-string Whisper_tiny.\n",
      "Skipping due to missing or non-string Whisper_tiny.\n"
     ]
    },
    {
     "name": "stderr",
     "output_type": "stream",
     "text": [
      " 38%|███▊      | 14305/37253 [01:52<02:54, 131.76it/s]"
     ]
    },
    {
     "name": "stdout",
     "output_type": "stream",
     "text": [
      "Skipping due to missing or non-string Whisper_tiny.\n",
      "Skipping due to missing or non-string Whisper_tiny.\n",
      "Skipping due to missing or non-string Whisper_tiny.\n",
      "Skipping due to missing or non-string Whisper_tiny.\n",
      "Skipping due to missing or non-string Whisper_tiny.\n",
      "Skipping due to missing or non-string Whisper_tiny.\n"
     ]
    },
    {
     "name": "stderr",
     "output_type": "stream",
     "text": [
      " 39%|███▊      | 14347/37253 [01:52<02:54, 131.15it/s]"
     ]
    },
    {
     "name": "stdout",
     "output_type": "stream",
     "text": [
      "Skipping due to missing or non-string Whisper_tiny.\n",
      "Skipping due to missing or non-string Whisper_tiny.\n",
      "Skipping due to missing or non-string Whisper_tiny.\n"
     ]
    },
    {
     "name": "stderr",
     "output_type": "stream",
     "text": [
      " 39%|███▊      | 14375/37253 [01:52<02:52, 132.64it/s]"
     ]
    },
    {
     "name": "stdout",
     "output_type": "stream",
     "text": [
      "Skipping due to missing or non-string Whisper_tiny.\n",
      "Skipping due to missing or non-string Whisper_tiny.\n",
      "Skipping due to missing or non-string Whisper_tiny.\n",
      "Skipping due to missing or non-string Whisper_tiny.\n",
      "Skipping due to missing or non-string Whisper_tiny.\n"
     ]
    },
    {
     "name": "stderr",
     "output_type": "stream",
     "text": [
      " 39%|███▊      | 14403/37253 [01:53<02:53, 131.37it/s]"
     ]
    },
    {
     "name": "stdout",
     "output_type": "stream",
     "text": [
      "Skipping due to missing or non-string Whisper_tiny.\n",
      "Skipping due to missing or non-string Whisper_tiny.\n",
      "Skipping due to missing or non-string Whisper_tiny.\n",
      "Skipping due to missing or non-string Whisper_tiny.\n"
     ]
    },
    {
     "name": "stderr",
     "output_type": "stream",
     "text": [
      " 39%|███▊      | 14431/37253 [01:53<02:50, 134.05it/s]"
     ]
    },
    {
     "name": "stdout",
     "output_type": "stream",
     "text": [
      "Skipping due to missing or non-string Whisper_tiny.\n",
      "Skipping due to missing or non-string Whisper_tiny.\n",
      "Skipping due to missing or non-string Whisper_tiny.\n"
     ]
    },
    {
     "name": "stderr",
     "output_type": "stream",
     "text": [
      " 40%|███▉      | 14737/37253 [01:55<02:53, 129.71it/s]"
     ]
    },
    {
     "name": "stdout",
     "output_type": "stream",
     "text": [
      "Skipping due to missing or non-string Whisper_tiny.\n"
     ]
    },
    {
     "name": "stderr",
     "output_type": "stream",
     "text": [
      " 40%|███▉      | 14778/37253 [01:56<02:52, 130.65it/s]"
     ]
    },
    {
     "name": "stdout",
     "output_type": "stream",
     "text": [
      "Skipping due to missing or non-string Whisper_tiny.\n"
     ]
    },
    {
     "name": "stderr",
     "output_type": "stream",
     "text": [
      " 40%|███▉      | 14885/37253 [01:56<02:58, 125.59it/s]"
     ]
    },
    {
     "name": "stdout",
     "output_type": "stream",
     "text": [
      "Skipping due to missing or non-string Whisper_tiny.\n"
     ]
    },
    {
     "name": "stderr",
     "output_type": "stream",
     "text": [
      " 40%|████      | 14937/37253 [01:57<02:55, 127.40it/s]"
     ]
    },
    {
     "name": "stdout",
     "output_type": "stream",
     "text": [
      "Skipping due to missing or non-string Whisper_tiny.\n",
      "Skipping due to missing or non-string Whisper_tiny.\n",
      "Skipping due to missing or non-string Whisper_tiny.\n"
     ]
    },
    {
     "name": "stderr",
     "output_type": "stream",
     "text": [
      " 40%|████      | 14964/37253 [01:57<02:52, 128.96it/s]"
     ]
    },
    {
     "name": "stdout",
     "output_type": "stream",
     "text": [
      "Skipping due to missing or non-string Whisper_tiny.\n"
     ]
    },
    {
     "name": "stderr",
     "output_type": "stream",
     "text": [
      " 40%|████      | 15017/37253 [01:57<02:53, 128.47it/s]"
     ]
    },
    {
     "name": "stdout",
     "output_type": "stream",
     "text": [
      "Skipping due to missing or non-string Whisper_tiny.\n"
     ]
    },
    {
     "name": "stderr",
     "output_type": "stream",
     "text": [
      " 41%|████      | 15150/37253 [01:58<02:50, 129.69it/s]"
     ]
    },
    {
     "name": "stdout",
     "output_type": "stream",
     "text": [
      "Skipping due to missing or non-string Whisper_tiny.\n"
     ]
    },
    {
     "name": "stderr",
     "output_type": "stream",
     "text": [
      " 42%|████▏     | 15597/37253 [02:02<02:43, 132.43it/s]"
     ]
    },
    {
     "name": "stdout",
     "output_type": "stream",
     "text": [
      "Skipping due to missing or non-string Whisper_tiny.\n"
     ]
    },
    {
     "name": "stderr",
     "output_type": "stream",
     "text": [
      " 45%|████▌     | 16842/37253 [02:11<02:35, 131.25it/s]"
     ]
    },
    {
     "name": "stdout",
     "output_type": "stream",
     "text": [
      "Skipping due to missing or non-string Whisper_tiny.\n"
     ]
    },
    {
     "name": "stderr",
     "output_type": "stream",
     "text": [
      " 47%|████▋     | 17430/37253 [02:16<02:30, 131.33it/s]"
     ]
    },
    {
     "name": "stdout",
     "output_type": "stream",
     "text": [
      "Skipping due to missing or non-string Whisper_tiny.\n"
     ]
    },
    {
     "name": "stderr",
     "output_type": "stream",
     "text": [
      " 49%|████▉     | 18354/37253 [02:23<02:22, 132.77it/s]"
     ]
    },
    {
     "name": "stdout",
     "output_type": "stream",
     "text": [
      "Skipping due to missing or non-string Whisper_tiny.\n"
     ]
    },
    {
     "name": "stderr",
     "output_type": "stream",
     "text": [
      " 50%|████▉     | 18536/37253 [02:24<02:22, 131.80it/s]"
     ]
    },
    {
     "name": "stdout",
     "output_type": "stream",
     "text": [
      "Skipping due to missing or non-string Whisper_tiny.\n"
     ]
    },
    {
     "name": "stderr",
     "output_type": "stream",
     "text": [
      " 52%|█████▏    | 19501/37253 [02:32<02:14, 131.73it/s]"
     ]
    },
    {
     "name": "stdout",
     "output_type": "stream",
     "text": [
      "Skipping due to missing or non-string Whisper_tiny.\n"
     ]
    },
    {
     "name": "stderr",
     "output_type": "stream",
     "text": [
      " 58%|█████▊    | 21556/37253 [02:47<01:58, 132.11it/s]"
     ]
    },
    {
     "name": "stdout",
     "output_type": "stream",
     "text": [
      "Skipping due to missing or non-string Whisper_tiny.\n"
     ]
    },
    {
     "name": "stderr",
     "output_type": "stream",
     "text": [
      " 62%|██████▏   | 23216/37253 [03:00<01:45, 133.19it/s]"
     ]
    },
    {
     "name": "stdout",
     "output_type": "stream",
     "text": [
      "Skipping due to missing or non-string Whisper_tiny.\n",
      "Skipping due to missing or non-string Whisper_tiny.\n"
     ]
    },
    {
     "name": "stderr",
     "output_type": "stream",
     "text": [
      " 63%|██████▎   | 23356/37253 [03:01<01:44, 132.81it/s]"
     ]
    },
    {
     "name": "stdout",
     "output_type": "stream",
     "text": [
      "Skipping due to missing or non-string Whisper_tiny.\n"
     ]
    },
    {
     "name": "stderr",
     "output_type": "stream",
     "text": [
      " 63%|██████▎   | 23440/37253 [03:02<01:44, 131.95it/s]"
     ]
    },
    {
     "name": "stdout",
     "output_type": "stream",
     "text": [
      "Skipping due to missing or non-string Whisper_tiny.\n"
     ]
    },
    {
     "name": "stderr",
     "output_type": "stream",
     "text": [
      " 63%|██████▎   | 23608/37253 [03:03<01:42, 133.07it/s]"
     ]
    },
    {
     "name": "stdout",
     "output_type": "stream",
     "text": [
      "Skipping due to missing or non-string Whisper_tiny.\n"
     ]
    },
    {
     "name": "stderr",
     "output_type": "stream",
     "text": [
      " 65%|██████▌   | 24377/37253 [03:09<01:36, 133.25it/s]"
     ]
    },
    {
     "name": "stdout",
     "output_type": "stream",
     "text": [
      "Skipping due to missing or non-string Whisper_tiny.\n"
     ]
    },
    {
     "name": "stderr",
     "output_type": "stream",
     "text": [
      " 66%|██████▌   | 24671/37253 [03:11<01:35, 132.02it/s]"
     ]
    },
    {
     "name": "stdout",
     "output_type": "stream",
     "text": [
      "Skipping due to missing or non-string Whisper_tiny.\n"
     ]
    },
    {
     "name": "stderr",
     "output_type": "stream",
     "text": [
      " 66%|██████▋   | 24713/37253 [03:11<01:36, 130.56it/s]"
     ]
    },
    {
     "name": "stdout",
     "output_type": "stream",
     "text": [
      "Skipping due to missing or non-string Whisper_tiny.\n"
     ]
    },
    {
     "name": "stderr",
     "output_type": "stream",
     "text": [
      " 67%|██████▋   | 24797/37253 [03:12<01:34, 131.55it/s]"
     ]
    },
    {
     "name": "stdout",
     "output_type": "stream",
     "text": [
      "Skipping due to missing or non-string Whisper_tiny.\n",
      "Skipping due to missing or non-string Whisper_tiny.\n"
     ]
    },
    {
     "name": "stderr",
     "output_type": "stream",
     "text": [
      " 67%|██████▋   | 24839/37253 [03:12<01:34, 131.74it/s]"
     ]
    },
    {
     "name": "stdout",
     "output_type": "stream",
     "text": [
      "Skipping due to missing or non-string Whisper_tiny.\n"
     ]
    },
    {
     "name": "stderr",
     "output_type": "stream",
     "text": [
      " 67%|██████▋   | 24895/37253 [03:13<01:34, 131.44it/s]"
     ]
    },
    {
     "name": "stdout",
     "output_type": "stream",
     "text": [
      "Skipping due to missing or non-string Whisper_tiny.\n"
     ]
    },
    {
     "name": "stderr",
     "output_type": "stream",
     "text": [
      " 67%|██████▋   | 24979/37253 [03:13<01:32, 132.23it/s]"
     ]
    },
    {
     "name": "stdout",
     "output_type": "stream",
     "text": [
      "Skipping due to missing or non-string Whisper_tiny.\n"
     ]
    },
    {
     "name": "stderr",
     "output_type": "stream",
     "text": [
      " 67%|██████▋   | 25077/37253 [03:14<01:32, 131.76it/s]"
     ]
    },
    {
     "name": "stdout",
     "output_type": "stream",
     "text": [
      "Skipping due to missing or non-string Whisper_tiny.\n",
      "Skipping due to missing or non-string Whisper_tiny.\n"
     ]
    },
    {
     "name": "stderr",
     "output_type": "stream",
     "text": [
      " 70%|███████   | 26129/37253 [03:22<01:26, 129.28it/s]"
     ]
    },
    {
     "name": "stdout",
     "output_type": "stream",
     "text": [
      "Skipping due to missing or non-string Whisper_tiny.\n"
     ]
    },
    {
     "name": "stderr",
     "output_type": "stream",
     "text": [
      " 77%|███████▋  | 28807/37253 [03:43<01:03, 132.01it/s]"
     ]
    },
    {
     "name": "stdout",
     "output_type": "stream",
     "text": [
      "Skipping due to missing or non-string Whisper_tiny.\n"
     ]
    },
    {
     "name": "stderr",
     "output_type": "stream",
     "text": [
      " 81%|████████  | 30119/37253 [03:53<00:54, 132.10it/s]"
     ]
    },
    {
     "name": "stdout",
     "output_type": "stream",
     "text": [
      "Skipping due to missing or non-string Whisper_tiny.\n"
     ]
    },
    {
     "name": "stderr",
     "output_type": "stream",
     "text": [
      " 81%|████████▏ | 30301/37253 [03:54<00:52, 132.39it/s]"
     ]
    },
    {
     "name": "stdout",
     "output_type": "stream",
     "text": [
      "Skipping due to missing or non-string Whisper_tiny.\n",
      "Skipping due to missing or non-string Whisper_tiny.\n",
      "Skipping due to missing or non-string Whisper_tiny.\n"
     ]
    },
    {
     "name": "stderr",
     "output_type": "stream",
     "text": [
      " 82%|████████▏ | 30385/37253 [03:55<00:52, 131.22it/s]"
     ]
    },
    {
     "name": "stdout",
     "output_type": "stream",
     "text": [
      "Skipping due to missing or non-string Whisper_tiny.\n",
      "Skipping due to missing or non-string Whisper_tiny.\n"
     ]
    },
    {
     "name": "stderr",
     "output_type": "stream",
     "text": [
      " 82%|████████▏ | 30567/37253 [03:56<00:49, 134.43it/s]"
     ]
    },
    {
     "name": "stdout",
     "output_type": "stream",
     "text": [
      "Skipping due to missing or non-string Whisper_tiny.\n",
      "Skipping due to missing or non-string Whisper_tiny.\n",
      "Skipping due to missing or non-string Whisper_tiny.\n"
     ]
    },
    {
     "name": "stderr",
     "output_type": "stream",
     "text": [
      " 82%|████████▏ | 30609/37253 [03:56<00:49, 133.37it/s]"
     ]
    },
    {
     "name": "stdout",
     "output_type": "stream",
     "text": [
      "Skipping due to missing or non-string Whisper_tiny.\n",
      "Skipping due to missing or non-string Whisper_tiny.\n"
     ]
    },
    {
     "name": "stderr",
     "output_type": "stream",
     "text": [
      " 83%|████████▎ | 30749/37253 [03:57<00:49, 131.70it/s]"
     ]
    },
    {
     "name": "stdout",
     "output_type": "stream",
     "text": [
      "Skipping due to missing or non-string Whisper_tiny.\n"
     ]
    },
    {
     "name": "stderr",
     "output_type": "stream",
     "text": [
      " 86%|████████▌ | 31980/37253 [04:07<00:40, 131.22it/s]"
     ]
    },
    {
     "name": "stdout",
     "output_type": "stream",
     "text": [
      "Skipping due to missing or non-string Whisper_tiny.\n"
     ]
    },
    {
     "name": "stderr",
     "output_type": "stream",
     "text": [
      " 91%|█████████▏| 34070/37253 [04:23<00:24, 132.00it/s]"
     ]
    },
    {
     "name": "stdout",
     "output_type": "stream",
     "text": [
      "Skipping: One of the rows is empty.\n"
     ]
    },
    {
     "name": "stderr",
     "output_type": "stream",
     "text": [
      " 92%|█████████▏| 34098/37253 [04:23<00:23, 132.28it/s]"
     ]
    },
    {
     "name": "stdout",
     "output_type": "stream",
     "text": [
      "Skipping: One of the rows is empty.\n"
     ]
    },
    {
     "name": "stderr",
     "output_type": "stream",
     "text": [
      " 93%|█████████▎| 34588/37253 [04:27<00:20, 130.10it/s]"
     ]
    },
    {
     "name": "stdout",
     "output_type": "stream",
     "text": [
      "Skipping: One of the rows is empty.\n"
     ]
    },
    {
     "name": "stderr",
     "output_type": "stream",
     "text": [
      "100%|██████████| 37253/37253 [04:47<00:00, 129.55it/s]\n"
     ]
    }
   ],
   "source": [
    "print_ = True\n",
    "\n",
    "for index, row in tqdm(net_aigenerated_data_whisper_tiny.iterrows(), total=len(net_aigenerated_data_whisper_tiny)):\n",
    "    \n",
    "    mask_tiny = (\n",
    "        (net_aigenerated_data_whisper_tiny[\"Filename\"] == row[\"Filename\"]) &\n",
    "        (net_aigenerated_data_whisper_tiny[\"Start_time\"] == row[\"Start_time\"])\n",
    "    )\n",
    "\n",
    "    mask_net = (\n",
    "        (net_data[\"Filename\"] == row[\"Filename\"]) &\n",
    "        (net_data[\"Start_time\"] == row[\"Start_time\"])\n",
    "    )\n",
    "\n",
    "    \n",
    "    tiny_row = net_aigenerated_data_whisper_tiny.loc[mask_tiny]\n",
    "    net_row = net_data.loc[mask_net]\n",
    "\n",
    "    # print(large_row)\n",
    "    # print('\\n\\n\\n\\n')\n",
    "    # print(net_row)\n",
    "    \n",
    "    if tiny_row.empty or net_row.empty:\n",
    "        print(\"Skipping: One of the rows is empty.\")\n",
    "        continue\n",
    "        \n",
    "    whisper_tiny = tiny_row[\"Whisper_tiny\"].values[0]\n",
    "    cleaned_transcript = net_row[\"Cleaned_Transcript\"].values[0]\n",
    "    \n",
    "    if pd.isna(whisper_tiny) or not isinstance(whisper_tiny, str):\n",
    "        print(\"Skipping due to missing or non-string Whisper_tiny.\")\n",
    "        continue\n",
    "    if pd.isna(cleaned_transcript) or not isinstance(cleaned_transcript, str):\n",
    "        print(\"Skipping due to missing or non-string Cleaned_Transcript.\")\n",
    "        continue\n",
    "\n",
    "    try:\n",
    "        \n",
    "        scores = rouge.get_scores(' '.join(jieba.cut(whisper_tiny)), ' '.join(jieba.cut(cleaned_transcript)))\n",
    "        \n",
    "        net_aigenerated_data_whisper_tiny.loc[mask_tiny, \"stu-rouge1-precision\"] = scores[0][\"rouge-1\"][\"p\"]\n",
    "        net_aigenerated_data_whisper_tiny.loc[mask_tiny, \"stu-rouge1-recall\"] = scores[0][\"rouge-1\"][\"r\"]\n",
    "        net_aigenerated_data_whisper_tiny.loc[mask_tiny, \"stu-rouge1-f1\"] = scores[0][\"rouge-1\"][\"f\"]\n",
    "        \n",
    "        \n",
    "        net_aigenerated_data_whisper_tiny.loc[mask_tiny, \"stu-rouge2-precision\"] = scores[0][\"rouge-2\"][\"p\"]\n",
    "        net_aigenerated_data_whisper_tiny.loc[mask_tiny, \"stu-rouge2-recall\"] = scores[0][\"rouge-2\"][\"r\"]\n",
    "        net_aigenerated_data_whisper_tiny.loc[mask_tiny, \"stu-rouge2-f1\"] = scores[0][\"rouge-2\"][\"f\"]\n",
    "        \n",
    "        \n",
    "        net_aigenerated_data_whisper_tiny.loc[mask_tiny, \"stu-rougel-precision\"] = scores[0][\"rouge-l\"][\"p\"]\n",
    "        net_aigenerated_data_whisper_tiny.loc[mask_tiny, \"stu-rougel-recall\"] = scores[0][\"rouge-l\"][\"r\"]\n",
    "        net_aigenerated_data_whisper_tiny.loc[mask_tiny, \"stu-rougel-f1\"] = scores[0][\"rouge-l\"][\"f\"]\n",
    "        \n",
    "        Stuttering_Count = net_row[\"Stuttering_Count\"].values[0]\n",
    "        net_aigenerated_data_whisper_tiny.loc[mask_tiny, \"Stuttering_Count\"] = Stuttering_Count\n",
    "        net_aigenerated_data_whisper_tiny.loc[mask_tiny, \"Stu-rouge-compared-groundtruth\"] = cleaned_transcript\n",
    "\n",
    "        if (print_):\n",
    "            print(net_aigenerated_data_whisper_tiny)\n",
    "            print_ = False\n",
    "        \n",
    "        # Verify assignment\n",
    "        # print(f'Assigned Stuttering_Count: {Stuttering_Count}')\n",
    "        # print(net_aigenerated_data_whisper_tiny.loc[mask_tiny, \"Stuttering_Count\"])\n",
    "\n",
    "    except Exception as e:\n",
    "        print(f'ERROR: {e}')\n",
    "        print('Occurred with the following data:')\n",
    "        print(tiny_row)\n",
    "        print(net_row)"
   ]
  },
  {
   "cell_type": "code",
   "execution_count": 125,
   "id": "de943419-a6f9-4e95-832d-5b8f0bcec981",
   "metadata": {
    "tags": []
   },
   "outputs": [
    {
     "data": {
      "text/html": [
       "<div>\n",
       "<style scoped>\n",
       "    .dataframe tbody tr th:only-of-type {\n",
       "        vertical-align: middle;\n",
       "    }\n",
       "\n",
       "    .dataframe tbody tr th {\n",
       "        vertical-align: top;\n",
       "    }\n",
       "\n",
       "    .dataframe thead th {\n",
       "        text-align: right;\n",
       "    }\n",
       "</style>\n",
       "<table border=\"1\" class=\"dataframe\">\n",
       "  <thead>\n",
       "    <tr style=\"text-align: right;\">\n",
       "      <th></th>\n",
       "      <th>Filename</th>\n",
       "      <th>Start_time</th>\n",
       "      <th>End_time</th>\n",
       "      <th>Whisper_tiny</th>\n",
       "      <th>WER</th>\n",
       "      <th>Stuttering_Count</th>\n",
       "      <th>Stu-wer-compared-groundtruth</th>\n",
       "      <th>NA_Count</th>\n",
       "      <th>NA_Cleaned_Count</th>\n",
       "      <th>WER_Binned</th>\n",
       "      <th>stu-rouge1-precision</th>\n",
       "      <th>stu-rouge1-recall</th>\n",
       "      <th>stu-rouge1-f1</th>\n",
       "      <th>stu-rouge2-precision</th>\n",
       "      <th>stu-rouge2-recall</th>\n",
       "      <th>stu-rouge2-f1</th>\n",
       "      <th>stu-rougel-precision</th>\n",
       "      <th>stu-rougel-recall</th>\n",
       "      <th>stu-rougel-f1</th>\n",
       "      <th>Stu-rouge-compared-groundtruth</th>\n",
       "    </tr>\n",
       "  </thead>\n",
       "  <tbody>\n",
       "    <tr>\n",
       "      <th>0</th>\n",
       "      <td>D0001_A</td>\n",
       "      <td>2081.540000</td>\n",
       "      <td>2109.650000</td>\n",
       "      <td>我说出来就比较不需要时间然后那个食别的他的就是他等你一会那个话还没有收完都还没有说出来的话他...</td>\n",
       "      <td>0.278351</td>\n",
       "      <td>1.0</td>\n",
       "      <td>我说出来就比较的需要时间，哦，然后那个嗯识别的它的就是它等你一会儿，你那个话还没有说完，的还...</td>\n",
       "      <td>332</td>\n",
       "      <td>0</td>\n",
       "      <td>0.28</td>\n",
       "      <td>0.750000</td>\n",
       "      <td>0.710526</td>\n",
       "      <td>0.729730</td>\n",
       "      <td>0.480769</td>\n",
       "      <td>0.409836</td>\n",
       "      <td>0.442478</td>\n",
       "      <td>0.724138</td>\n",
       "      <td>0.600000</td>\n",
       "      <td>0.656250</td>\n",
       "      <td>我说出来就比较的需要时间，哦，然后那个嗯识别的它的就是它等你一会儿，你那个话还没有说完，的还...</td>\n",
       "    </tr>\n",
       "    <tr>\n",
       "      <th>1</th>\n",
       "      <td>D0001_A</td>\n",
       "      <td>790.130000</td>\n",
       "      <td>796.580000</td>\n",
       "      <td>在牙我收到</td>\n",
       "      <td>0.800000</td>\n",
       "      <td>1.0</td>\n",
       "      <td>电视剧有，我说的话。</td>\n",
       "      <td>332</td>\n",
       "      <td>0</td>\n",
       "      <td>0.80</td>\n",
       "      <td>0.250000</td>\n",
       "      <td>0.142857</td>\n",
       "      <td>0.181818</td>\n",
       "      <td>0.000000</td>\n",
       "      <td>0.000000</td>\n",
       "      <td>0.000000</td>\n",
       "      <td>0.250000</td>\n",
       "      <td>0.142857</td>\n",
       "      <td>0.181818</td>\n",
       "      <td>电视剧有，我说的话。</td>\n",
       "    </tr>\n",
       "    <tr>\n",
       "      <th>2</th>\n",
       "      <td>D0001_A</td>\n",
       "      <td>1562.083518</td>\n",
       "      <td>1586.220000</td>\n",
       "      <td>在不计是不怎么平分是不怎么好的就因为平分缺的那些人都在说然后我做好产的那个就那么请问但是就一...</td>\n",
       "      <td>0.437500</td>\n",
       "      <td>10.0</td>\n",
       "      <td>这部剧是不怎么，评分是不怎么好的，呃就因为呃评论区的那些人，他们都在说，呃男二号就好惨的那个...</td>\n",
       "      <td>332</td>\n",
       "      <td>0</td>\n",
       "      <td>0.44</td>\n",
       "      <td>0.592593</td>\n",
       "      <td>0.516129</td>\n",
       "      <td>0.551724</td>\n",
       "      <td>0.333333</td>\n",
       "      <td>0.275000</td>\n",
       "      <td>0.301370</td>\n",
       "      <td>0.571429</td>\n",
       "      <td>0.476190</td>\n",
       "      <td>0.519481</td>\n",
       "      <td>这部剧是不怎么，评分是不怎么好的，呃就因为呃评论区的那些人，他们都在说，呃男二号就好惨的那个...</td>\n",
       "    </tr>\n",
       "    <tr>\n",
       "      <th>3</th>\n",
       "      <td>D0001_A</td>\n",
       "      <td>2016.780000</td>\n",
       "      <td>2035.673559</td>\n",
       "      <td>很精准的兴非女人还是兴非出手来的就我记得她是叫兴非我之前就是她</td>\n",
       "      <td>0.500000</td>\n",
       "      <td>7.0</td>\n",
       "      <td>很精准，对，呃讯飞语音还是讯飞助手来着，就我记得它是叫讯飞，我之前就是它呃是</td>\n",
       "      <td>332</td>\n",
       "      <td>0</td>\n",
       "      <td>0.50</td>\n",
       "      <td>0.687500</td>\n",
       "      <td>0.550000</td>\n",
       "      <td>0.611111</td>\n",
       "      <td>0.300000</td>\n",
       "      <td>0.214286</td>\n",
       "      <td>0.250000</td>\n",
       "      <td>0.571429</td>\n",
       "      <td>0.387097</td>\n",
       "      <td>0.461538</td>\n",
       "      <td>很精准，对，呃讯飞语音还是讯飞助手来着，就我记得它是叫讯飞，我之前就是它呃是</td>\n",
       "    </tr>\n",
       "    <tr>\n",
       "      <th>4</th>\n",
       "      <td>D0001_A</td>\n",
       "      <td>1682.670000</td>\n",
       "      <td>1709.110000</td>\n",
       "      <td>一个那个是叫抓来的我忘了就是出现了你那个一个人然后他就这了一把剑然后就就把那个拿到给葬撒了就...</td>\n",
       "      <td>0.367647</td>\n",
       "      <td>8.0</td>\n",
       "      <td>一个那个是嗯叫啥来着，我忘了，就是出现了另一个人，然后呢他就射了一把剑，然后就把那个嗯男二号...</td>\n",
       "      <td>332</td>\n",
       "      <td>0</td>\n",
       "      <td>0.37</td>\n",
       "      <td>0.740741</td>\n",
       "      <td>0.606061</td>\n",
       "      <td>0.666667</td>\n",
       "      <td>0.378378</td>\n",
       "      <td>0.318182</td>\n",
       "      <td>0.345679</td>\n",
       "      <td>0.717949</td>\n",
       "      <td>0.571429</td>\n",
       "      <td>0.636364</td>\n",
       "      <td>一个那个是嗯叫啥来着，我忘了，就是出现了另一个人，然后呢他就射了一把剑，然后就把那个嗯男二号...</td>\n",
       "    </tr>\n",
       "    <tr>\n",
       "      <th>...</th>\n",
       "      <td>...</td>\n",
       "      <td>...</td>\n",
       "      <td>...</td>\n",
       "      <td>...</td>\n",
       "      <td>...</td>\n",
       "      <td>...</td>\n",
       "      <td>...</td>\n",
       "      <td>...</td>\n",
       "      <td>...</td>\n",
       "      <td>...</td>\n",
       "      <td>...</td>\n",
       "      <td>...</td>\n",
       "      <td>...</td>\n",
       "      <td>...</td>\n",
       "      <td>...</td>\n",
       "      <td>...</td>\n",
       "      <td>...</td>\n",
       "      <td>...</td>\n",
       "      <td>...</td>\n",
       "      <td>...</td>\n",
       "    </tr>\n",
       "    <tr>\n",
       "      <th>37248</th>\n",
       "      <td>P0070</td>\n",
       "      <td>2586.616000</td>\n",
       "      <td>2589.346000</td>\n",
       "      <td>單許宣傳歌曲,這樣而已</td>\n",
       "      <td>0.727273</td>\n",
       "      <td>0.0</td>\n",
       "      <td>单曲循环歌曲这样而已。</td>\n",
       "      <td>332</td>\n",
       "      <td>0</td>\n",
       "      <td>0.73</td>\n",
       "      <td>0.333333</td>\n",
       "      <td>0.333333</td>\n",
       "      <td>0.333333</td>\n",
       "      <td>0.000000</td>\n",
       "      <td>0.000000</td>\n",
       "      <td>0.000000</td>\n",
       "      <td>0.333333</td>\n",
       "      <td>0.333333</td>\n",
       "      <td>0.333333</td>\n",
       "      <td>单曲循环歌曲这样而已。</td>\n",
       "    </tr>\n",
       "    <tr>\n",
       "      <th>37249</th>\n",
       "      <td>P0070</td>\n",
       "      <td>2782.496000</td>\n",
       "      <td>2783.706000</td>\n",
       "      <td>楊秘的電影</td>\n",
       "      <td>0.666667</td>\n",
       "      <td>0.0</td>\n",
       "      <td>杨幂的电影。</td>\n",
       "      <td>332</td>\n",
       "      <td>0</td>\n",
       "      <td>0.67</td>\n",
       "      <td>0.333333</td>\n",
       "      <td>0.250000</td>\n",
       "      <td>0.285714</td>\n",
       "      <td>0.000000</td>\n",
       "      <td>0.000000</td>\n",
       "      <td>0.000000</td>\n",
       "      <td>0.333333</td>\n",
       "      <td>0.250000</td>\n",
       "      <td>0.285714</td>\n",
       "      <td>杨幂的电影。</td>\n",
       "    </tr>\n",
       "    <tr>\n",
       "      <th>37250</th>\n",
       "      <td>P0070</td>\n",
       "      <td>2995.296000</td>\n",
       "      <td>2998.116000</td>\n",
       "      <td>你好米哈,今天菜油駕怎么样</td>\n",
       "      <td>0.400000</td>\n",
       "      <td>0.0</td>\n",
       "      <td>你好，米雅，今天柴油价怎么样。</td>\n",
       "      <td>332</td>\n",
       "      <td>0</td>\n",
       "      <td>0.40</td>\n",
       "      <td>0.428571</td>\n",
       "      <td>0.375000</td>\n",
       "      <td>0.400000</td>\n",
       "      <td>0.000000</td>\n",
       "      <td>0.000000</td>\n",
       "      <td>0.000000</td>\n",
       "      <td>0.428571</td>\n",
       "      <td>0.333333</td>\n",
       "      <td>0.375000</td>\n",
       "      <td>你好，米雅，今天柴油价怎么样。</td>\n",
       "    </tr>\n",
       "    <tr>\n",
       "      <th>37251</th>\n",
       "      <td>P0070</td>\n",
       "      <td>2604.066000</td>\n",
       "      <td>2606.656000</td>\n",
       "      <td>單取新環科曲劉旅光這個</td>\n",
       "      <td>0.750000</td>\n",
       "      <td>0.0</td>\n",
       "      <td>单曲循环歌曲琉璃光之歌。</td>\n",
       "      <td>332</td>\n",
       "      <td>0</td>\n",
       "      <td>0.75</td>\n",
       "      <td>0.000000</td>\n",
       "      <td>0.000000</td>\n",
       "      <td>0.000000</td>\n",
       "      <td>0.000000</td>\n",
       "      <td>0.000000</td>\n",
       "      <td>0.000000</td>\n",
       "      <td>0.000000</td>\n",
       "      <td>0.000000</td>\n",
       "      <td>0.000000</td>\n",
       "      <td>单曲循环歌曲琉璃光之歌。</td>\n",
       "    </tr>\n",
       "    <tr>\n",
       "      <th>37252</th>\n",
       "      <td>P0070</td>\n",
       "      <td>2434.606000</td>\n",
       "      <td>2436.576000</td>\n",
       "      <td>到行道龍城明月</td>\n",
       "      <td>0.750000</td>\n",
       "      <td>0.0</td>\n",
       "      <td>导航到荣城名苑。</td>\n",
       "      <td>332</td>\n",
       "      <td>0</td>\n",
       "      <td>0.75</td>\n",
       "      <td>0.250000</td>\n",
       "      <td>0.200000</td>\n",
       "      <td>0.222222</td>\n",
       "      <td>0.000000</td>\n",
       "      <td>0.000000</td>\n",
       "      <td>0.000000</td>\n",
       "      <td>0.250000</td>\n",
       "      <td>0.200000</td>\n",
       "      <td>0.222222</td>\n",
       "      <td>导航到荣城名苑。</td>\n",
       "    </tr>\n",
       "  </tbody>\n",
       "</table>\n",
       "<p>37253 rows × 20 columns</p>\n",
       "</div>"
      ],
      "text/plain": [
       "      Filename   Start_time     End_time  \\\n",
       "0      D0001_A  2081.540000  2109.650000   \n",
       "1      D0001_A   790.130000   796.580000   \n",
       "2      D0001_A  1562.083518  1586.220000   \n",
       "3      D0001_A  2016.780000  2035.673559   \n",
       "4      D0001_A  1682.670000  1709.110000   \n",
       "...        ...          ...          ...   \n",
       "37248    P0070  2586.616000  2589.346000   \n",
       "37249    P0070  2782.496000  2783.706000   \n",
       "37250    P0070  2995.296000  2998.116000   \n",
       "37251    P0070  2604.066000  2606.656000   \n",
       "37252    P0070  2434.606000  2436.576000   \n",
       "\n",
       "                                            Whisper_tiny       WER  \\\n",
       "0      我说出来就比较不需要时间然后那个食别的他的就是他等你一会那个话还没有收完都还没有说出来的话他...  0.278351   \n",
       "1                                                  在牙我收到  0.800000   \n",
       "2      在不计是不怎么平分是不怎么好的就因为平分缺的那些人都在说然后我做好产的那个就那么请问但是就一...  0.437500   \n",
       "3                        很精准的兴非女人还是兴非出手来的就我记得她是叫兴非我之前就是她  0.500000   \n",
       "4      一个那个是叫抓来的我忘了就是出现了你那个一个人然后他就这了一把剑然后就就把那个拿到给葬撒了就...  0.367647   \n",
       "...                                                  ...       ...   \n",
       "37248                                        單許宣傳歌曲,這樣而已  0.727273   \n",
       "37249                                              楊秘的電影  0.666667   \n",
       "37250                                      你好米哈,今天菜油駕怎么样  0.400000   \n",
       "37251                                        單取新環科曲劉旅光這個  0.750000   \n",
       "37252                                            到行道龍城明月  0.750000   \n",
       "\n",
       "       Stuttering_Count                       Stu-wer-compared-groundtruth  \\\n",
       "0                   1.0  我说出来就比较的需要时间，哦，然后那个嗯识别的它的就是它等你一会儿，你那个话还没有说完，的还...   \n",
       "1                   1.0                                         电视剧有，我说的话。   \n",
       "2                  10.0  这部剧是不怎么，评分是不怎么好的，呃就因为呃评论区的那些人，他们都在说，呃男二号就好惨的那个...   \n",
       "3                   7.0             很精准，对，呃讯飞语音还是讯飞助手来着，就我记得它是叫讯飞，我之前就是它呃是   \n",
       "4                   8.0  一个那个是嗯叫啥来着，我忘了，就是出现了另一个人，然后呢他就射了一把剑，然后就把那个嗯男二号...   \n",
       "...                 ...                                                ...   \n",
       "37248               0.0                                        单曲循环歌曲这样而已。   \n",
       "37249               0.0                                             杨幂的电影。   \n",
       "37250               0.0                                    你好，米雅，今天柴油价怎么样。   \n",
       "37251               0.0                                       单曲循环歌曲琉璃光之歌。   \n",
       "37252               0.0                                           导航到荣城名苑。   \n",
       "\n",
       "       NA_Count  NA_Cleaned_Count  WER_Binned  stu-rouge1-precision  \\\n",
       "0           332                 0        0.28              0.750000   \n",
       "1           332                 0        0.80              0.250000   \n",
       "2           332                 0        0.44              0.592593   \n",
       "3           332                 0        0.50              0.687500   \n",
       "4           332                 0        0.37              0.740741   \n",
       "...         ...               ...         ...                   ...   \n",
       "37248       332                 0        0.73              0.333333   \n",
       "37249       332                 0        0.67              0.333333   \n",
       "37250       332                 0        0.40              0.428571   \n",
       "37251       332                 0        0.75              0.000000   \n",
       "37252       332                 0        0.75              0.250000   \n",
       "\n",
       "       stu-rouge1-recall  stu-rouge1-f1  stu-rouge2-precision  \\\n",
       "0               0.710526       0.729730              0.480769   \n",
       "1               0.142857       0.181818              0.000000   \n",
       "2               0.516129       0.551724              0.333333   \n",
       "3               0.550000       0.611111              0.300000   \n",
       "4               0.606061       0.666667              0.378378   \n",
       "...                  ...            ...                   ...   \n",
       "37248           0.333333       0.333333              0.000000   \n",
       "37249           0.250000       0.285714              0.000000   \n",
       "37250           0.375000       0.400000              0.000000   \n",
       "37251           0.000000       0.000000              0.000000   \n",
       "37252           0.200000       0.222222              0.000000   \n",
       "\n",
       "       stu-rouge2-recall  stu-rouge2-f1  stu-rougel-precision  \\\n",
       "0               0.409836       0.442478              0.724138   \n",
       "1               0.000000       0.000000              0.250000   \n",
       "2               0.275000       0.301370              0.571429   \n",
       "3               0.214286       0.250000              0.571429   \n",
       "4               0.318182       0.345679              0.717949   \n",
       "...                  ...            ...                   ...   \n",
       "37248           0.000000       0.000000              0.333333   \n",
       "37249           0.000000       0.000000              0.333333   \n",
       "37250           0.000000       0.000000              0.428571   \n",
       "37251           0.000000       0.000000              0.000000   \n",
       "37252           0.000000       0.000000              0.250000   \n",
       "\n",
       "       stu-rougel-recall  stu-rougel-f1  \\\n",
       "0               0.600000       0.656250   \n",
       "1               0.142857       0.181818   \n",
       "2               0.476190       0.519481   \n",
       "3               0.387097       0.461538   \n",
       "4               0.571429       0.636364   \n",
       "...                  ...            ...   \n",
       "37248           0.333333       0.333333   \n",
       "37249           0.250000       0.285714   \n",
       "37250           0.333333       0.375000   \n",
       "37251           0.000000       0.000000   \n",
       "37252           0.200000       0.222222   \n",
       "\n",
       "                          Stu-rouge-compared-groundtruth  \n",
       "0      我说出来就比较的需要时间，哦，然后那个嗯识别的它的就是它等你一会儿，你那个话还没有说完，的还...  \n",
       "1                                             电视剧有，我说的话。  \n",
       "2      这部剧是不怎么，评分是不怎么好的，呃就因为呃评论区的那些人，他们都在说，呃男二号就好惨的那个...  \n",
       "3                 很精准，对，呃讯飞语音还是讯飞助手来着，就我记得它是叫讯飞，我之前就是它呃是  \n",
       "4      一个那个是嗯叫啥来着，我忘了，就是出现了另一个人，然后呢他就射了一把剑，然后就把那个嗯男二号...  \n",
       "...                                                  ...  \n",
       "37248                                        单曲循环歌曲这样而已。  \n",
       "37249                                             杨幂的电影。  \n",
       "37250                                    你好，米雅，今天柴油价怎么样。  \n",
       "37251                                       单曲循环歌曲琉璃光之歌。  \n",
       "37252                                           导航到荣城名苑。  \n",
       "\n",
       "[37253 rows x 20 columns]"
      ]
     },
     "execution_count": 125,
     "metadata": {},
     "output_type": "execute_result"
    }
   ],
   "source": [
    "net_aigenerated_data_whisper_tiny"
   ]
  },
  {
   "cell_type": "code",
   "execution_count": 127,
   "id": "8c8e988b-06e5-4079-ad35-1a89ce0708ae",
   "metadata": {
    "tags": []
   },
   "outputs": [],
   "source": [
    "# net_aigenerated_data_whisper_tiny.to_csv('net_aigenerated_data_whisper_tiny_performance_stu.csv', sep=',')"
   ]
  },
  {
   "cell_type": "markdown",
   "id": "409fe76a-8e52-4c77-a8d7-3f208ff13dcf",
   "metadata": {},
   "source": [
    "***"
   ]
  },
  {
   "cell_type": "markdown",
   "id": "b3ecb121-77a0-4142-b324-85d51f7e2fac",
   "metadata": {},
   "source": [
    "## Visualization of Relationship between Stuttering Count and Rouge Scores (Whisper Large)"
   ]
  },
  {
   "cell_type": "code",
   "execution_count": 128,
   "id": "e0f20860-292f-4069-8c4e-c43b0f3afe59",
   "metadata": {
    "tags": []
   },
   "outputs": [],
   "source": [
    "## Load data from csv if starting here\n",
    "\n",
    "# net_aigenerated_data_whisper_tiny = pd.read_csv('/projectnb/ds549/projects/AImpower/evaluation-whisper/net_aigenerated_data_whisper_tiny_performance_stu.csv', delimiter=',')"
   ]
  },
  {
   "cell_type": "code",
   "execution_count": 129,
   "id": "da18a701-b7e3-431f-bd60-3b4d3d3fdd61",
   "metadata": {
    "tags": []
   },
   "outputs": [
    {
     "data": {
      "image/png": "[encoded data removed]",
      "text/plain": [
       "<Figure size 600x400 with 1 Axes>"
      ]
     },
     "metadata": {},
     "output_type": "display_data"
    }
   ],
   "source": [
    "plt.figure(figsize=(6, 4))\n",
    "# plt.scatter(\n",
    "#     net_aigenerated_data_whisper_tiny[\"Stuttering_Count\"], \n",
    "#     net_aigenerated_data_whisper_tiny[\"rouge1-precision\"], \n",
    "#     facecolors=\"none\", edgecolors='r',\n",
    "#     marker=\"8\",\n",
    "#     alpha=0.7  # Handle overlapping points\n",
    "# )\n",
    "\n",
    "# plt.scatter(\n",
    "#     net_aigenerated_data_whisper_tiny[\"Stuttering_Count\"], \n",
    "#     net_aigenerated_data_whisper_tiny[\"rouge1-recall\"], \n",
    "#     facecolors=\"none\", edgecolors='g',\n",
    "#     marker=\"^\",\n",
    "#     alpha=0.7  # Handle overlapping points\n",
    "# )\n",
    "\n",
    "plt.scatter(\n",
    "    net_aigenerated_data_whisper_tiny[\"Stuttering_Count\"], \n",
    "    net_aigenerated_data_whisper_tiny[\"stu-rouge1-f1\"], \n",
    "    facecolors=\"none\", edgecolors='b',\n",
    "    marker=\".\",\n",
    "    alpha=0.7  # Handle overlapping points\n",
    ")\n",
    "\n",
    "plt.title(\"Rouge-1 vs Stutterance Count (Tiny)\", fontsize=16)\n",
    "plt.xlabel(\"Stutterance Count\", fontsize=14)\n",
    "plt.ylabel(\"Rouge Score\", fontsize=14)\n",
    "plt.grid(True)\n",
    "plt.show()"
   ]
  },
  {
   "cell_type": "code",
   "execution_count": 130,
   "id": "54eff111-673a-46a5-81c9-01411ca8355d",
   "metadata": {
    "tags": []
   },
   "outputs": [
    {
     "data": {
      "image/png": "[encoded data removed]",
      "text/plain": [
       "<Figure size 600x400 with 1 Axes>"
      ]
     },
     "metadata": {},
     "output_type": "display_data"
    }
   ],
   "source": [
    "plt.figure(figsize=(6, 4))\n",
    "# plt.scatter(\n",
    "#     net_aigenerated_data_whisper_tiny[\"Stuttering_Count\"], \n",
    "#     net_aigenerated_data_whisper_tiny[\"rouge2-precision\"], \n",
    "#     facecolors=\"none\", edgecolors='r',\n",
    "#     marker=\"8\",\n",
    "#     alpha=0.7  # Handle overlapping points\n",
    "# )\n",
    "\n",
    "# plt.scatter(\n",
    "#     net_aigenerated_data_whisper_tiny[\"Stuttering_Count\"], \n",
    "#     net_aigenerated_data_whisper_tiny[\"rouge2-recall\"], \n",
    "#     facecolors=\"none\", edgecolors='g',\n",
    "#     marker=\"^\",\n",
    "#     alpha=0.7  # Handle overlapping points\n",
    "# )\n",
    "\n",
    "plt.scatter(\n",
    "    net_aigenerated_data_whisper_tiny[\"Stuttering_Count\"], \n",
    "    net_aigenerated_data_whisper_tiny[\"stu-rouge2-f1\"], \n",
    "    facecolors=\"none\", edgecolors='b',\n",
    "    marker=\".\",\n",
    "    alpha=0.7  # Handle overlapping points\n",
    ")\n",
    "\n",
    "plt.title(\"Rouge-2 vs Stutterance Count (Tiny)\", fontsize=16)\n",
    "plt.xlabel(\"Stutterance Count\", fontsize=14)\n",
    "plt.ylabel(\"Rouge Score\", fontsize=14)\n",
    "plt.grid(True)\n",
    "plt.show()"
   ]
  },
  {
   "cell_type": "code",
   "execution_count": 131,
   "id": "93fad684-307f-4a13-afbb-f4f7c7224968",
   "metadata": {
    "tags": []
   },
   "outputs": [
    {
     "data": {
      "image/png": "[encoded data removed]",
      "text/plain": [
       "<Figure size 600x400 with 1 Axes>"
      ]
     },
     "metadata": {},
     "output_type": "display_data"
    }
   ],
   "source": [
    "plt.figure(figsize=(6, 4))\n",
    "# plt.scatter(\n",
    "#     net_aigenerated_data_whisper_tiny[\"Stuttering_Count\"], \n",
    "#     net_aigenerated_data_whisper_tiny[\"rougel-precision\"], \n",
    "#     facecolors=\"none\", edgecolors='r',\n",
    "#     marker=\"8\",\n",
    "#     alpha=0.7  # Handle overlapping points\n",
    "# )\n",
    "\n",
    "# plt.scatter(\n",
    "#     net_aigenerated_data_whisper_tiny[\"Stuttering_Count\"], \n",
    "#     net_aigenerated_data_whisper_tiny[\"rougel-recall\"], \n",
    "#     facecolors=\"none\", edgecolors='g',\n",
    "#     marker=\"^\",\n",
    "#     alpha=0.7  # Handle overlapping points\n",
    "# )\n",
    "\n",
    "plt.scatter(\n",
    "    net_aigenerated_data_whisper_tiny[\"Stuttering_Count\"], \n",
    "    net_aigenerated_data_whisper_tiny[\"stu-rougel-f1\"], \n",
    "    facecolors=\"none\", edgecolors='b',\n",
    "    marker=\".\",\n",
    "    alpha=0.7  # Handle overlapping points\n",
    ")\n",
    "\n",
    "plt.title(\"Rouge-L vs Stutterance Count\", fontsize=16)\n",
    "plt.xlabel(\"Stutterance Count\", fontsize=14)\n",
    "plt.ylabel(\"Rouge Score\", fontsize=14)\n",
    "plt.grid(True)\n",
    "plt.show()"
   ]
  },
  {
   "cell_type": "markdown",
   "id": "4daa5548-c59d-470e-80d5-ec9dca36d6f5",
   "metadata": {},
   "source": [
    "## Correlations between Stuttering and Rouge Scores (Whisper Large)"
   ]
  },
  {
   "cell_type": "code",
   "execution_count": 132,
   "id": "f5b22e2f-cdbc-4824-9fe6-d6735d07f4a1",
   "metadata": {
    "tags": []
   },
   "outputs": [
    {
     "name": "stdout",
     "output_type": "stream",
     "text": [
      "p-value [stuttering count & rouge-1 f1] = 0.0\n",
      "rho [stuttering count & rouge-1 f1] = 0.3803532009602399\n",
      "p-value [stuttering count & rouge-1 f1] = 0.0\n",
      "rho [stuttering count & rouge-1 f1] = 0.4165913363643142\n",
      "p-value [stuttering count & rouge-1 f1] = 0.0\n",
      "rho [stuttering count & rouge-1 f1] = 0.37240026947567445\n"
     ]
    }
   ],
   "source": [
    "from scipy.stats import spearmanr\n",
    "\n",
    "rho, p = spearmanr(net_aigenerated_data_whisper_tiny.dropna()['Stuttering_Count'], net_aigenerated_data_whisper_tiny.dropna()['stu-rouge1-f1'])\n",
    "print(f\"p-value [stuttering count & rouge-1 f1] = {p}\")\n",
    "print(f\"rho [stuttering count & rouge-1 f1] = {rho}\")\n",
    "\n",
    "\n",
    "rho, p = spearmanr(net_aigenerated_data_whisper_tiny.dropna()['Stuttering_Count'], net_aigenerated_data_whisper_tiny.dropna()['stu-rouge2-f1'])\n",
    "print(f\"p-value [stuttering count & rouge-1 f1] = {p}\")\n",
    "print(f\"rho [stuttering count & rouge-1 f1] = {rho}\")\n",
    "\n",
    "\n",
    "rho, p = spearmanr(net_aigenerated_data_whisper_tiny.dropna()['Stuttering_Count'], net_aigenerated_data_whisper_tiny.dropna()['stu-rougel-f1'])\n",
    "print(f\"p-value [stuttering count & rouge-1 f1] = {p}\")\n",
    "print(f\"rho [stuttering count & rouge-1 f1] = {rho}\")"
   ]
  }
 ],
 "metadata": {
  "kernelspec": {
   "display_name": "Python (learner-env)",
   "language": "python",
   "name": "learner-env"
  },
  "language_info": {
   "codemirror_mode": {
    "name": "ipython",
    "version": 3
   },
   "file_extension": ".py",
   "mimetype": "text/x-python",
   "name": "python",
   "nbconvert_exporter": "python",
   "pygments_lexer": "ipython3",
   "version": "3.12.4"
  }
 },
 "nbformat": 4,
 "nbformat_minor": 5
}
