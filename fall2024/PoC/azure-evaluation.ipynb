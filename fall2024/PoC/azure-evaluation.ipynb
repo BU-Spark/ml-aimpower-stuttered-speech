{
 "cells": [
  {
   "cell_type": "markdown",
   "id": "39ade53f-41d9-4929-b8a6-c7bda2487903",
   "metadata": {},
   "source": [
    "# Azure Model Evaluation On Stutterance"
   ]
  },
  {
   "cell_type": "markdown",
   "id": "0e91f32c-9f44-445e-af1d-d80438c80a73",
   "metadata": {},
   "source": [
    "1. Turn original transcripts into dataframes\n",
    "2. Read generated transcript dataframes\n",
    "3. Get Error & Stutterance count\n",
    "4. Get Error & Stutterance Type ==> show which stutterance type is more prone to error\n",
    "5. Calculate Correlation Score\n",
    "6. Generate Heatmap\n",
    "7. Summarize Trend\n",
    "\n",
    "*** \n",
    "\n",
    "### Error Metrics\n",
    "1. Net / Total Word Error Rate\n",
    "2. Word Error Rate Specific After Cleaning other Stutterance Type Annotations"
   ]
  },
  {
   "cell_type": "markdown",
   "id": "7f3447c6-7204-47d4-90e4-c5cfdea58819",
   "metadata": {},
   "source": [
    "***"
   ]
  },
  {
   "cell_type": "markdown",
   "id": "cea686dc-bce5-4d46-9064-b11e197e5a78",
   "metadata": {},
   "source": [
    "## Using Custom Kernel on SCC\n",
    "\n",
    "SCC sometimes has the problem with installed library not importable [`module not found` error], this is an alternative.\n",
    "\n",
    "Assuming you have a conda environment created, you would do the following:\n",
    "1. `conda install -c anaconda ipykernel` \n",
    "2. `python -m ipykernel install --user --name=<env name>`\n",
    "3. If the new kernel cannot be found, relaunch a new SCC instance\n",
    "\n",
    "**Remember to switch to the conda env kernel**"
   ]
  },
  {
   "cell_type": "code",
   "execution_count": 1,
   "id": "e07f1428-92a8-4db0-829c-f30a8146f0ed",
   "metadata": {
    "tags": []
   },
   "outputs": [],
   "source": [
    "ds_transcript_path = \"/projectnb/ds549/projects/AImpower/datasets/updated_annotation_deid_full\""
   ]
  },
  {
   "cell_type": "code",
   "execution_count": 2,
   "id": "148a20da-9100-47fe-b6b4-acd844df0194",
   "metadata": {
    "tags": []
   },
   "outputs": [
    {
     "name": "stdout",
     "output_type": "stream",
     "text": [
      "Defaulting to user installation because normal site-packages is not writeable\n",
      "Requirement already satisfied: pandas in /share/pkg.8/python3/3.10.12/install/lib/python3.10/site-packages (2.0.3)\n",
      "Requirement already satisfied: numpy in /share/pkg.8/python3/3.10.12/install/lib/python3.10/site-packages (1.24.4)\n",
      "Requirement already satisfied: scipy in /share/pkg.8/python3/3.10.12/install/lib/python3.10/site-packages (1.11.1)\n",
      "Requirement already satisfied: tqdm in /share/pkg.8/python3/3.10.12/install/lib/python3.10/site-packages (4.65.0)\n",
      "Requirement already satisfied: python-dateutil>=2.8.2 in /share/pkg.8/python3/3.10.12/install/lib/python3.10/site-packages (from pandas) (2.8.2)\n",
      "Requirement already satisfied: pytz>=2020.1 in /share/pkg.8/python3/3.10.12/install/lib/python3.10/site-packages (from pandas) (2023.3)\n",
      "Requirement already satisfied: tzdata>=2022.1 in /share/pkg.8/python3/3.10.12/install/lib/python3.10/site-packages (from pandas) (2023.3)\n",
      "Requirement already satisfied: six>=1.5 in /share/pkg.8/python3/3.10.12/install/lib/python3.10/site-packages (from python-dateutil>=2.8.2->pandas) (1.16.0)\n",
      "\n",
      "\u001b[1m[\u001b[0m\u001b[34;49mnotice\u001b[0m\u001b[1;39;49m]\u001b[0m\u001b[39;49m A new release of pip is available: \u001b[0m\u001b[31;49m23.2.1\u001b[0m\u001b[39;49m -> \u001b[0m\u001b[32;49m24.3.1\u001b[0m\n",
      "\u001b[1m[\u001b[0m\u001b[34;49mnotice\u001b[0m\u001b[1;39;49m]\u001b[0m\u001b[39;49m To update, run: \u001b[0m\u001b[32;49mpip install --upgrade pip\u001b[0m\n"
     ]
    }
   ],
   "source": [
    "!pip install pandas numpy scipy tqdm"
   ]
  },
  {
   "cell_type": "markdown",
   "id": "0c243649-dc9e-45da-84b9-1698d77b8232",
   "metadata": {},
   "source": [
    "---"
   ]
  },
  {
   "cell_type": "markdown",
   "id": "ca38fa21-278b-424f-8346-a22b6090b43a",
   "metadata": {},
   "source": [
    "## Word Error Rate\n",
    "\n",
    "Objectives:\n",
    "* split sequence into characters\n",
    "* count:\n",
    "    * deletion: missing words\n",
    "    * substitutions: wrongly recognized words\n",
    "    * insertions: extra words"
   ]
  },
  {
   "cell_type": "code",
   "execution_count": 3,
   "id": "0c81df43-e7a5-4fc8-bd91-aea09d092265",
   "metadata": {
    "tags": []
   },
   "outputs": [],
   "source": [
    "def wer(candidate, reference):\n",
    "    \"\"\"\n",
    "    Parameter(s)\n",
    "    ------------\n",
    "    candidate ==> generated transcript\n",
    "    reference ==> dataset transcript\n",
    "    \"\"\"\n",
    "    \n",
    "    candidate_tokens = list(candidate)\n",
    "    reference_tokens = list(reference)\n",
    "    \n",
    "    cand_len = len(candidate_tokens)\n",
    "    ref_len = len(reference_tokens)\n",
    "    \n",
    "    dist_mat = np.zeros((ref_len, cand_len), dtype=int)\n",
    "    \n",
    "    for i in range(ref_len):\n",
    "        dist_mat[i][0] = i\n",
    "    for j in range(cand_len):\n",
    "        dist_mat[0][j] = j\n",
    "        \n",
    "    for i in range(1, ref_len):\n",
    "        for j in range(1, cand_len):\n",
    "            if (candidate_tokens[j - 1] == reference_tokens[i - 1]):\n",
    "                cost = 0\n",
    "            else:\n",
    "                cost = 1\n",
    "                \n",
    "            dist_mat[i][j] = min(\n",
    "                dist_mat[i-1][j] + 1,\n",
    "                dist_mat[i][j-1] + 1,\n",
    "                dist_mat[i-1][j-1] + cost\n",
    "            )\n",
    "            # print(dist_mat)\n",
    "            \n",
    "    wer = dist_mat[-1][-1] / len(reference_tokens)\n",
    "    return wer"
   ]
  },
  {
   "cell_type": "markdown",
   "id": "febcf1a3-f6cc-4a91-adba-bcc77778de63",
   "metadata": {},
   "source": [
    "***"
   ]
  },
  {
   "cell_type": "markdown",
   "id": "b5a446d7-0d6b-4dee-bab6-04f07a352782",
   "metadata": {},
   "source": [
    "## Imports and Data Ingestion (Azure)"
   ]
  },
  {
   "cell_type": "code",
   "execution_count": 4,
   "id": "e93b0091-575e-456b-98b3-512203307bbd",
   "metadata": {
    "tags": []
   },
   "outputs": [],
   "source": [
    "import pandas as pd\n",
    "import numpy as np\n",
    "import scipy\n",
    "import os\n",
    "from tqdm import tqdm\n",
    "import re\n",
    "import sys"
   ]
  },
  {
   "cell_type": "code",
   "execution_count": 5,
   "id": "fd42a3b2-7d82-49c2-8ef9-78072b41ea77",
   "metadata": {
    "tags": []
   },
   "outputs": [],
   "source": [
    "net_data = pd.DataFrame(columns=[\"Filename\", \"Start_time\", \"End_time\", \"Transcript\"]) \n",
    "net_aigenerated_data_azure = pd.read_csv(\"/projectnb/ds549/projects/AImpower/datasets/generated-transcripts/Azure.csv\", delimiter=\",\")\n",
    "\n",
    "del net_aigenerated_data_azure[net_aigenerated_data_azure.columns[0]]"
   ]
  },
  {
   "cell_type": "code",
   "execution_count": 6,
   "id": "39f9f360-6023-4820-8e62-0fec34f36acc",
   "metadata": {
    "tags": []
   },
   "outputs": [],
   "source": [
    "for folder in os.listdir(ds_transcript_path):\n",
    "    if folder == \"command_stats.xlsx\" or folder == \"command_stats.csv\":\n",
    "        continue\n",
    "    for audio_sample in os.listdir(os.path.join(ds_transcript_path, f\"{folder}\")):\n",
    "        if (\"_A.txt\" in audio_sample):\n",
    "            net_data = pd.concat([net_data, pd.read_csv(os.path.join(ds_transcript_path, f\"{folder}/{audio_sample}\"), sep=\"\\t\", names=[\"Start_time\", \"End_time\", \"Transcript\"]).assign(Filename=f\"D{folder}_A\")])\n",
    "        if (\"_B.txt\" in audio_sample):\n",
    "            net_data = pd.concat([net_data, pd.read_csv(os.path.join(ds_transcript_path, f\"{folder}/{audio_sample}\"), sep=\"\\t\", names=[\"Start_time\", \"End_time\", \"Transcript\"]).assign(Filename=f\"D{folder}_B\")])\n",
    "        if (\"P\" in audio_sample):\n",
    "            net_data = pd.concat([net_data, pd.read_csv(os.path.join(ds_transcript_path, f\"{folder}/{audio_sample}\"), sep=\"\\t\", names=[\"Start_time\", \"End_time\", \"Transcript\"]).assign(Filename=f\"P{folder}\")])"
   ]
  },
  {
   "cell_type": "code",
   "execution_count": 7,
   "id": "06ce2b50-9c43-40a6-ae23-69ed8676ff3b",
   "metadata": {
    "tags": []
   },
   "outputs": [],
   "source": [
    "mask_pattern = r\"\\<.*?\\>\"\n",
    "repetition_pattern = r\"\\[.*?\\]\"\n",
    "annotation_pattern = r\"/\\w\"\n",
    "\n",
    "\n",
    "net_data = net_data.assign(Cleaned_Transcript=net_data['Transcript'].apply(lambda x: re.sub(annotation_pattern, \"\", re.sub(repetition_pattern, \"\", re.sub(mask_pattern, \"\", x)))))\n",
    "net_data = net_data.assign(Stutterance_Count=net_data['Transcript'].apply(lambda x: len(re.findall(mask_pattern, x)) + len(re.findall(repetition_pattern, x)) + len(re.findall(annotation_pattern, x))))"
   ]
  },
  {
   "cell_type": "code",
   "execution_count": 8,
   "id": "0c0f8b87-c5bc-453f-9399-efef62a00a6c",
   "metadata": {
    "tags": []
   },
   "outputs": [
    {
     "data": {
      "text/html": [
       "<div>\n",
       "<style scoped>\n",
       "    .dataframe tbody tr th:only-of-type {\n",
       "        vertical-align: middle;\n",
       "    }\n",
       "\n",
       "    .dataframe tbody tr th {\n",
       "        vertical-align: top;\n",
       "    }\n",
       "\n",
       "    .dataframe thead th {\n",
       "        text-align: right;\n",
       "    }\n",
       "</style>\n",
       "<table border=\"1\" class=\"dataframe\">\n",
       "  <thead>\n",
       "    <tr style=\"text-align: right;\">\n",
       "      <th></th>\n",
       "      <th>Filename</th>\n",
       "      <th>Start_time</th>\n",
       "      <th>End_time</th>\n",
       "      <th>Transcript</th>\n",
       "      <th>Cleaned_Transcript</th>\n",
       "      <th>Stutterance_Count</th>\n",
       "    </tr>\n",
       "  </thead>\n",
       "  <tbody>\n",
       "    <tr>\n",
       "      <th>0</th>\n",
       "      <td>D0045_A</td>\n",
       "      <td>48.330</td>\n",
       "      <td>58.020</td>\n",
       "      <td>嗯，我[我/b我]现在已经工作了，我是/p一八年毕业的，然后我的专业是/p国际经济与贸易。</td>\n",
       "      <td>嗯，我现在已经工作了，我是一八年毕业的，然后我的专业是国际经济与贸易。</td>\n",
       "      <td>4</td>\n",
       "    </tr>\n",
       "    <tr>\n",
       "      <th>1</th>\n",
       "      <td>D0045_A</td>\n",
       "      <td>58.900</td>\n",
       "      <td>72.140</td>\n",
       "      <td>然后我现在嗯/i/p我现在的工作是/p[是]在/p[是在]&lt;人民银行&gt;，但是这个工作就是/p...</td>\n",
       "      <td>然后我现在嗯我现在的工作是在，但是这个工作就是可能快要就不干了。</td>\n",
       "      <td>8</td>\n",
       "    </tr>\n",
       "    <tr>\n",
       "      <th>2</th>\n",
       "      <td>D0045_A</td>\n",
       "      <td>74.100</td>\n",
       "      <td>81.260</td>\n",
       "      <td>嗯/i/p然后我平常的爱好是/p比较喜欢看电影，然后还喜欢打网球。</td>\n",
       "      <td>嗯然后我平常的爱好是比较喜欢看电影，然后还喜欢打网球。</td>\n",
       "      <td>3</td>\n",
       "    </tr>\n",
       "    <tr>\n",
       "      <th>3</th>\n",
       "      <td>D0045_A</td>\n",
       "      <td>84.930</td>\n",
       "      <td>86.320</td>\n",
       "      <td>嗯/i&lt;overlap&gt;结束了。</td>\n",
       "      <td>嗯结束了。</td>\n",
       "      <td>2</td>\n",
       "    </tr>\n",
       "    <tr>\n",
       "      <th>4</th>\n",
       "      <td>D0045_A</td>\n",
       "      <td>100.950</td>\n",
       "      <td>113.700</td>\n",
       "      <td>嗯，这个就是它[它]不是银行系统，然后它然/r后那个之所以不干，是因为就是这个，嗯/i就是现...</td>\n",
       "      <td>嗯，这个就是它不是银行系统，然后它然后那个之所以不干，是因为就是这个，嗯就是现在人民银行的县...</td>\n",
       "      <td>4</td>\n",
       "    </tr>\n",
       "    <tr>\n",
       "      <th>...</th>\n",
       "      <td>...</td>\n",
       "      <td>...</td>\n",
       "      <td>...</td>\n",
       "      <td>...</td>\n",
       "      <td>...</td>\n",
       "      <td>...</td>\n",
       "    </tr>\n",
       "    <tr>\n",
       "      <th>135</th>\n",
       "      <td>P0030</td>\n",
       "      <td>3202.732</td>\n",
       "      <td>3213.472</td>\n",
       "      <td>单曲循环歌曲最[最最]爱的为何没结果。</td>\n",
       "      <td>单曲循环歌曲最爱的为何没结果。</td>\n",
       "      <td>1</td>\n",
       "    </tr>\n",
       "    <tr>\n",
       "      <th>136</th>\n",
       "      <td>P0030</td>\n",
       "      <td>3216.222</td>\n",
       "      <td>3221.042</td>\n",
       "      <td>来[来]一首朴/p树的歌。</td>\n",
       "      <td>来一首朴树的歌。</td>\n",
       "      <td>2</td>\n",
       "    </tr>\n",
       "    <tr>\n",
       "      <th>137</th>\n",
       "      <td>P0030</td>\n",
       "      <td>3225.732</td>\n",
       "      <td>3236.142</td>\n",
       "      <td>搜[搜/r/b搜]索小灿的多/p年/p/r/b以后。</td>\n",
       "      <td>搜索小灿的多年以后。</td>\n",
       "      <td>7</td>\n",
       "    </tr>\n",
       "    <tr>\n",
       "      <th>138</th>\n",
       "      <td>P0030</td>\n",
       "      <td>3240.652</td>\n",
       "      <td>3253.172</td>\n",
       "      <td>播放半吨/b/r/p孙弟歌孙兄弟的歌。</td>\n",
       "      <td>播放半吨孙弟歌孙兄弟的歌。</td>\n",
       "      <td>3</td>\n",
       "    </tr>\n",
       "    <tr>\n",
       "      <th>139</th>\n",
       "      <td>P0030</td>\n",
       "      <td>3256.672</td>\n",
       "      <td>3264.012</td>\n",
       "      <td>单/p曲循环歌/p曲你的灵魂。</td>\n",
       "      <td>单曲循环歌曲你的灵魂。</td>\n",
       "      <td>2</td>\n",
       "    </tr>\n",
       "  </tbody>\n",
       "</table>\n",
       "<p>37250 rows × 6 columns</p>\n",
       "</div>"
      ],
      "text/plain": [
       "    Filename  Start_time  End_time  \\\n",
       "0    D0045_A      48.330    58.020   \n",
       "1    D0045_A      58.900    72.140   \n",
       "2    D0045_A      74.100    81.260   \n",
       "3    D0045_A      84.930    86.320   \n",
       "4    D0045_A     100.950   113.700   \n",
       "..       ...         ...       ...   \n",
       "135    P0030    3202.732  3213.472   \n",
       "136    P0030    3216.222  3221.042   \n",
       "137    P0030    3225.732  3236.142   \n",
       "138    P0030    3240.652  3253.172   \n",
       "139    P0030    3256.672  3264.012   \n",
       "\n",
       "                                            Transcript  \\\n",
       "0        嗯，我[我/b我]现在已经工作了，我是/p一八年毕业的，然后我的专业是/p国际经济与贸易。   \n",
       "1    然后我现在嗯/i/p我现在的工作是/p[是]在/p[是在]<人民银行>，但是这个工作就是/p...   \n",
       "2                    嗯/i/p然后我平常的爱好是/p比较喜欢看电影，然后还喜欢打网球。   \n",
       "3                                     嗯/i<overlap>结束了。   \n",
       "4    嗯，这个就是它[它]不是银行系统，然后它然/r后那个之所以不干，是因为就是这个，嗯/i就是现...   \n",
       "..                                                 ...   \n",
       "135                                单曲循环歌曲最[最最]爱的为何没结果。   \n",
       "136                                      来[来]一首朴/p树的歌。   \n",
       "137                         搜[搜/r/b搜]索小灿的多/p年/p/r/b以后。   \n",
       "138                                播放半吨/b/r/p孙弟歌孙兄弟的歌。   \n",
       "139                                    单/p曲循环歌/p曲你的灵魂。   \n",
       "\n",
       "                                    Cleaned_Transcript  Stutterance_Count  \n",
       "0                  嗯，我现在已经工作了，我是一八年毕业的，然后我的专业是国际经济与贸易。                  4  \n",
       "1                     然后我现在嗯我现在的工作是在，但是这个工作就是可能快要就不干了。                  8  \n",
       "2                          嗯然后我平常的爱好是比较喜欢看电影，然后还喜欢打网球。                  3  \n",
       "3                                                嗯结束了。                  2  \n",
       "4    嗯，这个就是它不是银行系统，然后它然后那个之所以不干，是因为就是这个，嗯就是现在人民银行的县...                  4  \n",
       "..                                                 ...                ...  \n",
       "135                                    单曲循环歌曲最爱的为何没结果。                  1  \n",
       "136                                           来一首朴树的歌。                  2  \n",
       "137                                         搜索小灿的多年以后。                  7  \n",
       "138                                      播放半吨孙弟歌孙兄弟的歌。                  3  \n",
       "139                                        单曲循环歌曲你的灵魂。                  2  \n",
       "\n",
       "[37250 rows x 6 columns]"
      ]
     },
     "execution_count": 8,
     "metadata": {},
     "output_type": "execute_result"
    }
   ],
   "source": [
    "net_data"
   ]
  },
  {
   "cell_type": "code",
   "execution_count": 9,
   "id": "04a8c032-607b-4eb7-ac99-6d82c28d846a",
   "metadata": {
    "tags": []
   },
   "outputs": [
    {
     "data": {
      "text/html": [
       "<div>\n",
       "<style scoped>\n",
       "    .dataframe tbody tr th:only-of-type {\n",
       "        vertical-align: middle;\n",
       "    }\n",
       "\n",
       "    .dataframe tbody tr th {\n",
       "        vertical-align: top;\n",
       "    }\n",
       "\n",
       "    .dataframe thead th {\n",
       "        text-align: right;\n",
       "    }\n",
       "</style>\n",
       "<table border=\"1\" class=\"dataframe\">\n",
       "  <thead>\n",
       "    <tr style=\"text-align: right;\">\n",
       "      <th></th>\n",
       "      <th>Filename</th>\n",
       "      <th>Start_time</th>\n",
       "      <th>End_time</th>\n",
       "      <th>Azure</th>\n",
       "    </tr>\n",
       "  </thead>\n",
       "  <tbody>\n",
       "    <tr>\n",
       "      <th>0</th>\n",
       "      <td>D0001_A</td>\n",
       "      <td>2081.540000</td>\n",
       "      <td>2109.650000</td>\n",
       "      <td>我说出来就比较的需要时间啊，然后那个嗯识别的它的它就是它等你一会儿你那个话还没有说完的，还没...</td>\n",
       "    </tr>\n",
       "    <tr>\n",
       "      <th>1</th>\n",
       "      <td>D0001_A</td>\n",
       "      <td>790.130000</td>\n",
       "      <td>796.580000</td>\n",
       "      <td>电视剧。</td>\n",
       "    </tr>\n",
       "    <tr>\n",
       "      <th>2</th>\n",
       "      <td>D0001_A</td>\n",
       "      <td>1562.083518</td>\n",
       "      <td>1586.220000</td>\n",
       "      <td>这部剧是不怎么？</td>\n",
       "    </tr>\n",
       "    <tr>\n",
       "      <th>3</th>\n",
       "      <td>D0001_A</td>\n",
       "      <td>2016.780000</td>\n",
       "      <td>2035.673559</td>\n",
       "      <td>很很精准，对。</td>\n",
       "    </tr>\n",
       "    <tr>\n",
       "      <th>4</th>\n",
       "      <td>D0001_A</td>\n",
       "      <td>1682.670000</td>\n",
       "      <td>1709.110000</td>\n",
       "      <td>一个，那个是，嗯，叫。</td>\n",
       "    </tr>\n",
       "    <tr>\n",
       "      <th>...</th>\n",
       "      <td>...</td>\n",
       "      <td>...</td>\n",
       "      <td>...</td>\n",
       "      <td>...</td>\n",
       "    </tr>\n",
       "    <tr>\n",
       "      <th>37248</th>\n",
       "      <td>P0070</td>\n",
       "      <td>2586.616000</td>\n",
       "      <td>2589.346000</td>\n",
       "      <td>单曲循环歌曲，这样而已。</td>\n",
       "    </tr>\n",
       "    <tr>\n",
       "      <th>37249</th>\n",
       "      <td>P0070</td>\n",
       "      <td>2782.496000</td>\n",
       "      <td>2783.706000</td>\n",
       "      <td>杨幂的电影。</td>\n",
       "    </tr>\n",
       "    <tr>\n",
       "      <th>37250</th>\n",
       "      <td>P0070</td>\n",
       "      <td>2995.296000</td>\n",
       "      <td>2998.116000</td>\n",
       "      <td>你好米呀今天柴油价怎么样？</td>\n",
       "    </tr>\n",
       "    <tr>\n",
       "      <th>37251</th>\n",
       "      <td>P0070</td>\n",
       "      <td>2604.066000</td>\n",
       "      <td>2606.656000</td>\n",
       "      <td>单曲循环歌曲流离光之歌。</td>\n",
       "    </tr>\n",
       "    <tr>\n",
       "      <th>37252</th>\n",
       "      <td>P0070</td>\n",
       "      <td>2434.606000</td>\n",
       "      <td>2436.576000</td>\n",
       "      <td>导航到龙城苑。</td>\n",
       "    </tr>\n",
       "  </tbody>\n",
       "</table>\n",
       "<p>37253 rows × 4 columns</p>\n",
       "</div>"
      ],
      "text/plain": [
       "      Filename   Start_time     End_time  \\\n",
       "0      D0001_A  2081.540000  2109.650000   \n",
       "1      D0001_A   790.130000   796.580000   \n",
       "2      D0001_A  1562.083518  1586.220000   \n",
       "3      D0001_A  2016.780000  2035.673559   \n",
       "4      D0001_A  1682.670000  1709.110000   \n",
       "...        ...          ...          ...   \n",
       "37248    P0070  2586.616000  2589.346000   \n",
       "37249    P0070  2782.496000  2783.706000   \n",
       "37250    P0070  2995.296000  2998.116000   \n",
       "37251    P0070  2604.066000  2606.656000   \n",
       "37252    P0070  2434.606000  2436.576000   \n",
       "\n",
       "                                                   Azure  \n",
       "0      我说出来就比较的需要时间啊，然后那个嗯识别的它的它就是它等你一会儿你那个话还没有说完的，还没...  \n",
       "1                                                   电视剧。  \n",
       "2                                               这部剧是不怎么？  \n",
       "3                                                很很精准，对。  \n",
       "4                                            一个，那个是，嗯，叫。  \n",
       "...                                                  ...  \n",
       "37248                                       单曲循环歌曲，这样而已。  \n",
       "37249                                             杨幂的电影。  \n",
       "37250                                      你好米呀今天柴油价怎么样？  \n",
       "37251                                       单曲循环歌曲流离光之歌。  \n",
       "37252                                            导航到龙城苑。  \n",
       "\n",
       "[37253 rows x 4 columns]"
      ]
     },
     "execution_count": 9,
     "metadata": {},
     "output_type": "execute_result"
    }
   ],
   "source": [
    "net_aigenerated_data_azure"
   ]
  },
  {
   "cell_type": "markdown",
   "id": "70509616-62dc-494d-9914-f96010242e1c",
   "metadata": {},
   "source": [
    "**Now we have raw data of all audio transcriptions from datasets [updated_annotation_deid_full] in `net_data` and AI predicted transcriptions in `net_aigenerated_data_azure`**"
   ]
  },
  {
   "cell_type": "markdown",
   "id": "ced1999f-2d44-4709-8169-719369c1067c",
   "metadata": {},
   "source": [
    "***"
   ]
  },
  {
   "cell_type": "markdown",
   "id": "060e2625-861c-4bd9-a7b2-82db58f4e931",
   "metadata": {},
   "source": [
    "## Azure WER Analysis"
   ]
  },
  {
   "cell_type": "code",
   "execution_count": 10,
   "id": "a194fb38-ea3c-4028-92be-c106a00e84a8",
   "metadata": {
    "tags": []
   },
   "outputs": [
    {
     "name": "stderr",
     "output_type": "stream",
     "text": [
      "  0%|          | 46/37253 [00:00<04:05, 151.82it/s]"
     ]
    },
    {
     "name": "stdout",
     "output_type": "stream",
     "text": [
      "Skipping due to missing or non-string Azure.\n",
      "Skipping due to missing or non-string Azure.\n",
      "Skipping due to missing or non-string Azure.\n",
      "Skipping due to missing or non-string Azure.\n"
     ]
    },
    {
     "name": "stderr",
     "output_type": "stream",
     "text": [
      "  0%|          | 79/37253 [00:00<03:58, 155.78it/s]"
     ]
    },
    {
     "name": "stdout",
     "output_type": "stream",
     "text": [
      "Skipping due to missing or non-string Azure.\n",
      "Skipping due to missing or non-string Azure.\n",
      "Skipping due to missing or non-string Azure.\n"
     ]
    },
    {
     "name": "stderr",
     "output_type": "stream",
     "text": [
      "  0%|          | 129/37253 [00:00<04:08, 149.32it/s]"
     ]
    },
    {
     "name": "stdout",
     "output_type": "stream",
     "text": [
      "Skipping due to missing or non-string Azure.\n",
      "Skipping due to missing or non-string Azure.\n",
      "Skipping due to missing or non-string Azure.\n",
      "Skipping due to missing or non-string Azure.\n"
     ]
    },
    {
     "name": "stderr",
     "output_type": "stream",
     "text": [
      "  0%|          | 178/37253 [00:01<04:03, 152.04it/s]"
     ]
    },
    {
     "name": "stdout",
     "output_type": "stream",
     "text": [
      "Skipping due to missing or non-string Azure.\n"
     ]
    },
    {
     "name": "stderr",
     "output_type": "stream",
     "text": [
      "  2%|▏         | 797/37253 [00:05<03:59, 151.95it/s]"
     ]
    },
    {
     "name": "stdout",
     "output_type": "stream",
     "text": [
      "Skipping due to missing or non-string Azure.\n"
     ]
    },
    {
     "name": "stderr",
     "output_type": "stream",
     "text": [
      "  2%|▏         | 893/37253 [00:06<03:58, 152.36it/s]"
     ]
    },
    {
     "name": "stdout",
     "output_type": "stream",
     "text": [
      "Skipping due to missing or non-string Azure.\n"
     ]
    },
    {
     "name": "stderr",
     "output_type": "stream",
     "text": [
      "  4%|▎         | 1347/37253 [00:09<04:19, 138.46it/s]"
     ]
    },
    {
     "name": "stdout",
     "output_type": "stream",
     "text": [
      "Skipping due to missing or non-string Azure.\n"
     ]
    },
    {
     "name": "stderr",
     "output_type": "stream",
     "text": [
      "  4%|▍         | 1522/37253 [00:10<04:12, 141.24it/s]"
     ]
    },
    {
     "name": "stdout",
     "output_type": "stream",
     "text": [
      "Skipping due to missing or non-string Azure.\n"
     ]
    },
    {
     "name": "stderr",
     "output_type": "stream",
     "text": [
      "  4%|▍         | 1656/37253 [00:11<04:05, 144.82it/s]"
     ]
    },
    {
     "name": "stdout",
     "output_type": "stream",
     "text": [
      "Skipping due to missing or non-string Azure.\n",
      "Skipping due to missing or non-string Azure.\n",
      "Skipping due to missing or non-string Azure.\n",
      "Skipping due to missing or non-string Azure.\n"
     ]
    },
    {
     "name": "stderr",
     "output_type": "stream",
     "text": [
      "  5%|▍         | 1704/37253 [00:11<03:53, 152.07it/s]"
     ]
    },
    {
     "name": "stdout",
     "output_type": "stream",
     "text": [
      "Skipping due to missing or non-string Azure.\n"
     ]
    },
    {
     "name": "stderr",
     "output_type": "stream",
     "text": [
      "  5%|▍         | 1856/37253 [00:12<03:58, 148.54it/s]"
     ]
    },
    {
     "name": "stdout",
     "output_type": "stream",
     "text": [
      "Skipping: One of the rows is empty.\n"
     ]
    },
    {
     "name": "stderr",
     "output_type": "stream",
     "text": [
      "  5%|▌         | 1980/37253 [00:13<04:06, 143.34it/s]"
     ]
    },
    {
     "name": "stdout",
     "output_type": "stream",
     "text": [
      "Skipping due to missing or non-string Azure.\n",
      "Skipping due to missing or non-string Azure.\n",
      "Skipping due to missing or non-string Azure.\n",
      "Skipping due to missing or non-string Azure.\n"
     ]
    },
    {
     "name": "stderr",
     "output_type": "stream",
     "text": [
      "  5%|▌         | 2026/37253 [00:13<04:02, 145.52it/s]"
     ]
    },
    {
     "name": "stdout",
     "output_type": "stream",
     "text": [
      "Skipping due to missing or non-string Azure.\n"
     ]
    },
    {
     "name": "stderr",
     "output_type": "stream",
     "text": [
      "  6%|▌         | 2087/37253 [00:14<04:05, 143.44it/s]"
     ]
    },
    {
     "name": "stdout",
     "output_type": "stream",
     "text": [
      "Skipping due to missing or non-string Azure.\n"
     ]
    },
    {
     "name": "stderr",
     "output_type": "stream",
     "text": [
      "  6%|▌         | 2166/37253 [00:14<03:50, 151.91it/s]"
     ]
    },
    {
     "name": "stdout",
     "output_type": "stream",
     "text": [
      "Skipping due to missing or non-string Azure.\n"
     ]
    },
    {
     "name": "stderr",
     "output_type": "stream",
     "text": [
      "  6%|▌         | 2214/37253 [00:15<03:53, 150.35it/s]"
     ]
    },
    {
     "name": "stdout",
     "output_type": "stream",
     "text": [
      "Skipping due to missing or non-string Azure.\n",
      "Skipping due to missing or non-string Azure.\n"
     ]
    },
    {
     "name": "stderr",
     "output_type": "stream",
     "text": [
      "  6%|▌         | 2262/37253 [00:15<03:58, 146.98it/s]"
     ]
    },
    {
     "name": "stdout",
     "output_type": "stream",
     "text": [
      "Skipping due to missing or non-string Azure.\n"
     ]
    },
    {
     "name": "stderr",
     "output_type": "stream",
     "text": [
      "  7%|▋         | 2488/37253 [00:17<04:05, 141.84it/s]"
     ]
    },
    {
     "name": "stdout",
     "output_type": "stream",
     "text": [
      "Skipping due to missing or non-string Azure.\n"
     ]
    },
    {
     "name": "stderr",
     "output_type": "stream",
     "text": [
      "  7%|▋         | 2565/37253 [00:17<03:52, 149.49it/s]"
     ]
    },
    {
     "name": "stdout",
     "output_type": "stream",
     "text": [
      "Skipping due to missing or non-string Azure.\n"
     ]
    },
    {
     "name": "stderr",
     "output_type": "stream",
     "text": [
      "  7%|▋         | 2662/37253 [00:18<03:48, 151.09it/s]"
     ]
    },
    {
     "name": "stdout",
     "output_type": "stream",
     "text": [
      "Skipping due to missing or non-string Azure.\n",
      "Skipping due to missing or non-string Azure.\n"
     ]
    },
    {
     "name": "stderr",
     "output_type": "stream",
     "text": [
      "  7%|▋         | 2693/37253 [00:18<03:53, 147.93it/s]"
     ]
    },
    {
     "name": "stdout",
     "output_type": "stream",
     "text": [
      "Skipping due to missing or non-string Azure.\n",
      "Skipping due to missing or non-string Azure.\n"
     ]
    },
    {
     "name": "stderr",
     "output_type": "stream",
     "text": [
      "  8%|▊         | 2829/37253 [00:19<04:33, 125.82it/s]"
     ]
    },
    {
     "name": "stdout",
     "output_type": "stream",
     "text": [
      "Skipping due to missing or non-string Azure.\n"
     ]
    },
    {
     "name": "stderr",
     "output_type": "stream",
     "text": [
      "  9%|▊         | 3224/37253 [00:22<04:34, 124.15it/s]"
     ]
    },
    {
     "name": "stdout",
     "output_type": "stream",
     "text": [
      "Skipping due to missing or non-string Azure.\n"
     ]
    },
    {
     "name": "stderr",
     "output_type": "stream",
     "text": [
      "  9%|▉         | 3484/37253 [00:24<04:56, 113.96it/s]"
     ]
    },
    {
     "name": "stdout",
     "output_type": "stream",
     "text": [
      "Skipping due to missing or non-string Azure.\n"
     ]
    },
    {
     "name": "stderr",
     "output_type": "stream",
     "text": [
      " 10%|▉         | 3723/37253 [00:26<03:33, 157.03it/s]"
     ]
    },
    {
     "name": "stdout",
     "output_type": "stream",
     "text": [
      "Skipping due to missing or non-string Azure.\n",
      "Skipping due to missing or non-string Azure.\n",
      "Skipping due to missing or non-string Azure.\n"
     ]
    },
    {
     "name": "stderr",
     "output_type": "stream",
     "text": [
      " 10%|█         | 3774/37253 [00:26<03:25, 162.77it/s]"
     ]
    },
    {
     "name": "stdout",
     "output_type": "stream",
     "text": [
      "Skipping due to missing or non-string Azure.\n",
      "Skipping due to missing or non-string Azure.\n",
      "Skipping due to missing or non-string Azure.\n"
     ]
    },
    {
     "name": "stderr",
     "output_type": "stream",
     "text": [
      " 10%|█         | 3807/37253 [00:26<03:32, 157.11it/s]"
     ]
    },
    {
     "name": "stdout",
     "output_type": "stream",
     "text": [
      "Skipping due to missing or non-string Azure.\n",
      "Skipping due to missing or non-string Azure.\n"
     ]
    },
    {
     "name": "stderr",
     "output_type": "stream",
     "text": [
      " 10%|█         | 3858/37253 [00:27<03:25, 162.31it/s]"
     ]
    },
    {
     "name": "stdout",
     "output_type": "stream",
     "text": [
      "Skipping due to missing or non-string Azure.\n"
     ]
    },
    {
     "name": "stderr",
     "output_type": "stream",
     "text": [
      " 11%|█         | 4009/37253 [00:28<03:21, 164.90it/s]"
     ]
    },
    {
     "name": "stdout",
     "output_type": "stream",
     "text": [
      "Skipping due to missing or non-string Azure.\n"
     ]
    },
    {
     "name": "stderr",
     "output_type": "stream",
     "text": [
      " 11%|█         | 4043/37253 [00:28<03:20, 165.75it/s]"
     ]
    },
    {
     "name": "stdout",
     "output_type": "stream",
     "text": [
      "Skipping due to missing or non-string Azure.\n",
      "Skipping due to missing or non-string Azure.\n",
      "Skipping due to missing or non-string Azure.\n"
     ]
    },
    {
     "name": "stderr",
     "output_type": "stream",
     "text": [
      " 11%|█         | 4077/37253 [00:28<03:22, 163.92it/s]"
     ]
    },
    {
     "name": "stdout",
     "output_type": "stream",
     "text": [
      "Skipping due to missing or non-string Azure.\n",
      "Skipping due to missing or non-string Azure.\n"
     ]
    },
    {
     "name": "stderr",
     "output_type": "stream",
     "text": [
      " 11%|█         | 4130/37253 [00:28<03:17, 167.66it/s]"
     ]
    },
    {
     "name": "stdout",
     "output_type": "stream",
     "text": [
      "Skipping due to missing or non-string Azure.\n",
      "Skipping due to missing or non-string Azure.\n",
      "Skipping due to missing or non-string Azure.\n"
     ]
    },
    {
     "name": "stderr",
     "output_type": "stream",
     "text": [
      " 11%|█         | 4183/37253 [00:29<03:14, 169.61it/s]"
     ]
    },
    {
     "name": "stdout",
     "output_type": "stream",
     "text": [
      "Skipping due to missing or non-string Azure.\n",
      "Skipping due to missing or non-string Azure.\n"
     ]
    },
    {
     "name": "stderr",
     "output_type": "stream",
     "text": [
      " 11%|█▏        | 4217/37253 [00:29<03:36, 152.64it/s]"
     ]
    },
    {
     "name": "stdout",
     "output_type": "stream",
     "text": [
      "Skipping due to missing or non-string Azure.\n",
      "Skipping due to missing or non-string Azure.\n"
     ]
    },
    {
     "name": "stderr",
     "output_type": "stream",
     "text": [
      " 11%|█▏        | 4280/37253 [00:29<03:50, 143.17it/s]"
     ]
    },
    {
     "name": "stdout",
     "output_type": "stream",
     "text": [
      "Skipping due to missing or non-string Azure.\n"
     ]
    },
    {
     "name": "stderr",
     "output_type": "stream",
     "text": [
      " 12%|█▏        | 4309/37253 [00:30<04:01, 136.17it/s]"
     ]
    },
    {
     "name": "stdout",
     "output_type": "stream",
     "text": [
      "Skipping due to missing or non-string Azure.\n"
     ]
    },
    {
     "name": "stderr",
     "output_type": "stream",
     "text": [
      " 12%|█▏        | 4338/37253 [00:30<04:04, 134.77it/s]"
     ]
    },
    {
     "name": "stdout",
     "output_type": "stream",
     "text": [
      "Skipping due to missing or non-string Azure.\n"
     ]
    },
    {
     "name": "stderr",
     "output_type": "stream",
     "text": [
      " 12%|█▏        | 4397/37253 [00:30<03:54, 140.03it/s]"
     ]
    },
    {
     "name": "stdout",
     "output_type": "stream",
     "text": [
      "Skipping due to missing or non-string Azure.\n"
     ]
    },
    {
     "name": "stderr",
     "output_type": "stream",
     "text": [
      " 12%|█▏        | 4431/37253 [00:30<03:34, 152.94it/s]"
     ]
    },
    {
     "name": "stdout",
     "output_type": "stream",
     "text": [
      "Skipping due to missing or non-string Azure.\n",
      "Skipping due to missing or non-string Azure.\n",
      "Skipping due to missing or non-string Azure.\n",
      "Skipping due to missing or non-string Azure.\n"
     ]
    },
    {
     "name": "stderr",
     "output_type": "stream",
     "text": [
      " 12%|█▏        | 4604/37253 [00:31<03:20, 162.72it/s]"
     ]
    },
    {
     "name": "stdout",
     "output_type": "stream",
     "text": [
      "Skipping due to missing or non-string Azure.\n",
      "Skipping due to missing or non-string Azure.\n",
      "Skipping due to missing or non-string Azure.\n"
     ]
    },
    {
     "name": "stderr",
     "output_type": "stream",
     "text": [
      " 12%|█▏        | 4638/37253 [00:32<03:27, 157.20it/s]"
     ]
    },
    {
     "name": "stdout",
     "output_type": "stream",
     "text": [
      "Skipping due to missing or non-string Azure.\n"
     ]
    },
    {
     "name": "stderr",
     "output_type": "stream",
     "text": [
      " 13%|█▎        | 4689/37253 [00:32<03:20, 162.65it/s]"
     ]
    },
    {
     "name": "stdout",
     "output_type": "stream",
     "text": [
      "Skipping due to missing or non-string Azure.\n",
      "Skipping due to missing or non-string Azure.\n",
      "Skipping due to missing or non-string Azure.\n"
     ]
    },
    {
     "name": "stderr",
     "output_type": "stream",
     "text": [
      " 13%|█▎        | 4937/37253 [00:34<03:33, 151.36it/s]"
     ]
    },
    {
     "name": "stdout",
     "output_type": "stream",
     "text": [
      "Skipping due to missing or non-string Azure.\n"
     ]
    },
    {
     "name": "stderr",
     "output_type": "stream",
     "text": [
      " 14%|█▎        | 5053/37253 [00:34<03:17, 163.02it/s]"
     ]
    },
    {
     "name": "stdout",
     "output_type": "stream",
     "text": [
      "Skipping due to missing or non-string Azure.\n",
      "Skipping due to missing or non-string Azure.\n"
     ]
    },
    {
     "name": "stderr",
     "output_type": "stream",
     "text": [
      " 14%|█▎        | 5105/37253 [00:35<03:11, 167.99it/s]"
     ]
    },
    {
     "name": "stdout",
     "output_type": "stream",
     "text": [
      "Skipping due to missing or non-string Azure.\n"
     ]
    },
    {
     "name": "stderr",
     "output_type": "stream",
     "text": [
      " 14%|█▍        | 5173/37253 [00:35<03:27, 154.39it/s]"
     ]
    },
    {
     "name": "stdout",
     "output_type": "stream",
     "text": [
      "Skipping due to missing or non-string Azure.\n",
      "Skipping due to missing or non-string Azure.\n"
     ]
    },
    {
     "name": "stderr",
     "output_type": "stream",
     "text": [
      " 14%|█▍        | 5328/37253 [00:36<03:38, 146.31it/s]"
     ]
    },
    {
     "name": "stdout",
     "output_type": "stream",
     "text": [
      "Skipping due to missing or non-string Azure.\n"
     ]
    },
    {
     "name": "stderr",
     "output_type": "stream",
     "text": [
      " 15%|█▍        | 5441/37253 [00:37<03:32, 149.51it/s]"
     ]
    },
    {
     "name": "stdout",
     "output_type": "stream",
     "text": [
      "Skipping due to missing or non-string Azure.\n"
     ]
    },
    {
     "name": "stderr",
     "output_type": "stream",
     "text": [
      " 15%|█▌        | 5760/37253 [00:39<04:29, 116.77it/s]"
     ]
    },
    {
     "name": "stdout",
     "output_type": "stream",
     "text": [
      "Skipping due to missing or non-string Azure.\n",
      "Skipping due to missing or non-string Azure.\n"
     ]
    },
    {
     "name": "stderr",
     "output_type": "stream",
     "text": [
      " 16%|█▌        | 5843/37253 [00:40<04:01, 129.95it/s]"
     ]
    },
    {
     "name": "stdout",
     "output_type": "stream",
     "text": [
      "Skipping due to missing or non-string Azure.\n"
     ]
    },
    {
     "name": "stderr",
     "output_type": "stream",
     "text": [
      " 16%|█▌        | 5870/37253 [00:40<04:09, 125.87it/s]"
     ]
    },
    {
     "name": "stdout",
     "output_type": "stream",
     "text": [
      "Skipping due to missing or non-string Azure.\n"
     ]
    },
    {
     "name": "stderr",
     "output_type": "stream",
     "text": [
      " 16%|█▌        | 5918/37253 [00:41<03:34, 145.95it/s]"
     ]
    },
    {
     "name": "stdout",
     "output_type": "stream",
     "text": [
      "Skipping due to missing or non-string Azure.\n"
     ]
    },
    {
     "name": "stderr",
     "output_type": "stream",
     "text": [
      " 16%|█▌        | 5966/37253 [00:41<03:28, 150.26it/s]"
     ]
    },
    {
     "name": "stdout",
     "output_type": "stream",
     "text": [
      "Skipping due to missing or non-string Azure.\n"
     ]
    },
    {
     "name": "stderr",
     "output_type": "stream",
     "text": [
      " 16%|█▋        | 6072/37253 [00:42<03:35, 144.43it/s]"
     ]
    },
    {
     "name": "stdout",
     "output_type": "stream",
     "text": [
      "Skipping due to missing or non-string Azure.\n",
      "Skipping due to missing or non-string Azure.\n"
     ]
    },
    {
     "name": "stderr",
     "output_type": "stream",
     "text": [
      " 16%|█▋        | 6102/37253 [00:42<03:36, 143.76it/s]"
     ]
    },
    {
     "name": "stdout",
     "output_type": "stream",
     "text": [
      "Skipping due to missing or non-string Azure.\n"
     ]
    },
    {
     "name": "stderr",
     "output_type": "stream",
     "text": [
      " 17%|█▋        | 6147/37253 [00:42<03:40, 140.99it/s]"
     ]
    },
    {
     "name": "stdout",
     "output_type": "stream",
     "text": [
      "Skipping due to missing or non-string Azure.\n",
      "Skipping due to missing or non-string Azure.\n"
     ]
    },
    {
     "name": "stderr",
     "output_type": "stream",
     "text": [
      " 17%|█▋        | 6209/37253 [00:43<03:33, 145.70it/s]"
     ]
    },
    {
     "name": "stdout",
     "output_type": "stream",
     "text": [
      "Skipping due to missing or non-string Azure.\n",
      "Skipping due to missing or non-string Azure.\n"
     ]
    },
    {
     "name": "stderr",
     "output_type": "stream",
     "text": [
      " 17%|█▋        | 6258/37253 [00:43<03:24, 151.74it/s]"
     ]
    },
    {
     "name": "stdout",
     "output_type": "stream",
     "text": [
      "Skipping due to missing or non-string Azure.\n",
      "Skipping due to missing or non-string Azure.\n",
      "Skipping due to missing or non-string Azure.\n",
      "Skipping due to missing or non-string Azure.\n"
     ]
    },
    {
     "name": "stderr",
     "output_type": "stream",
     "text": [
      " 17%|█▋        | 6294/37253 [00:43<03:11, 161.93it/s]"
     ]
    },
    {
     "name": "stdout",
     "output_type": "stream",
     "text": [
      "Skipping due to missing or non-string Azure.\n",
      "Skipping due to missing or non-string Azure.\n",
      "Skipping due to missing or non-string Azure.\n"
     ]
    },
    {
     "name": "stderr",
     "output_type": "stream",
     "text": [
      " 17%|█▋        | 6389/37253 [00:44<03:41, 139.24it/s]"
     ]
    },
    {
     "name": "stdout",
     "output_type": "stream",
     "text": [
      "Skipping due to missing or non-string Azure.\n"
     ]
    },
    {
     "name": "stderr",
     "output_type": "stream",
     "text": [
      " 18%|█▊        | 6533/37253 [00:45<03:47, 135.19it/s]"
     ]
    },
    {
     "name": "stdout",
     "output_type": "stream",
     "text": [
      "Skipping due to missing or non-string Azure.\n"
     ]
    },
    {
     "name": "stderr",
     "output_type": "stream",
     "text": [
      " 18%|█▊        | 6579/37253 [00:45<03:29, 146.57it/s]"
     ]
    },
    {
     "name": "stdout",
     "output_type": "stream",
     "text": [
      "Skipping due to missing or non-string Azure.\n",
      "Skipping due to missing or non-string Azure.\n",
      "Skipping due to missing or non-string Azure.\n",
      "Skipping due to missing or non-string Azure.\n"
     ]
    },
    {
     "name": "stderr",
     "output_type": "stream",
     "text": [
      " 18%|█▊        | 6754/37253 [00:46<03:48, 133.59it/s]"
     ]
    },
    {
     "name": "stdout",
     "output_type": "stream",
     "text": [
      "Skipping due to missing or non-string Azure.\n"
     ]
    },
    {
     "name": "stderr",
     "output_type": "stream",
     "text": [
      " 19%|█▊        | 6917/37253 [00:48<03:29, 144.69it/s]"
     ]
    },
    {
     "name": "stdout",
     "output_type": "stream",
     "text": [
      "Skipping due to missing or non-string Azure.\n"
     ]
    },
    {
     "name": "stderr",
     "output_type": "stream",
     "text": [
      " 19%|█▉        | 6998/37253 [00:48<03:16, 154.14it/s]"
     ]
    },
    {
     "name": "stdout",
     "output_type": "stream",
     "text": [
      "Skipping due to missing or non-string Azure.\n",
      "Skipping due to missing or non-string Azure.\n"
     ]
    },
    {
     "name": "stderr",
     "output_type": "stream",
     "text": [
      " 19%|█▉        | 7165/37253 [00:49<03:05, 162.49it/s]"
     ]
    },
    {
     "name": "stdout",
     "output_type": "stream",
     "text": [
      "Skipping due to missing or non-string Azure.\n"
     ]
    },
    {
     "name": "stderr",
     "output_type": "stream",
     "text": [
      " 19%|█▉        | 7231/37253 [00:50<03:17, 151.88it/s]"
     ]
    },
    {
     "name": "stdout",
     "output_type": "stream",
     "text": [
      "Skipping due to missing or non-string Azure.\n"
     ]
    },
    {
     "name": "stderr",
     "output_type": "stream",
     "text": [
      " 20%|█▉        | 7392/37253 [00:51<03:39, 136.13it/s]"
     ]
    },
    {
     "name": "stdout",
     "output_type": "stream",
     "text": [
      "Skipping due to missing or non-string Azure.\n"
     ]
    },
    {
     "name": "stderr",
     "output_type": "stream",
     "text": [
      " 20%|██        | 7467/37253 [00:51<03:31, 141.03it/s]"
     ]
    },
    {
     "name": "stdout",
     "output_type": "stream",
     "text": [
      "Skipping due to missing or non-string Azure.\n"
     ]
    },
    {
     "name": "stderr",
     "output_type": "stream",
     "text": [
      " 20%|██        | 7543/37253 [00:52<03:26, 143.91it/s]"
     ]
    },
    {
     "name": "stdout",
     "output_type": "stream",
     "text": [
      "Skipping due to missing or non-string Azure.\n"
     ]
    },
    {
     "name": "stderr",
     "output_type": "stream",
     "text": [
      " 20%|██        | 7574/37253 [00:52<03:23, 146.01it/s]"
     ]
    },
    {
     "name": "stdout",
     "output_type": "stream",
     "text": [
      "Skipping due to missing or non-string Azure.\n"
     ]
    },
    {
     "name": "stderr",
     "output_type": "stream",
     "text": [
      " 21%|██        | 7721/37253 [00:53<03:25, 143.48it/s]"
     ]
    },
    {
     "name": "stdout",
     "output_type": "stream",
     "text": [
      "Skipping due to missing or non-string Azure.\n"
     ]
    },
    {
     "name": "stderr",
     "output_type": "stream",
     "text": [
      " 21%|██        | 7873/37253 [00:54<03:36, 135.61it/s]"
     ]
    },
    {
     "name": "stdout",
     "output_type": "stream",
     "text": [
      "Skipping due to missing or non-string Azure.\n",
      "Skipping due to missing or non-string Azure.\n"
     ]
    },
    {
     "name": "stderr",
     "output_type": "stream",
     "text": [
      " 21%|██        | 7904/37253 [00:55<03:25, 142.50it/s]"
     ]
    },
    {
     "name": "stdout",
     "output_type": "stream",
     "text": [
      "Skipping due to missing or non-string Azure.\n",
      "Skipping due to missing or non-string Azure.\n"
     ]
    },
    {
     "name": "stderr",
     "output_type": "stream",
     "text": [
      " 21%|██▏       | 7965/37253 [00:55<03:18, 147.27it/s]"
     ]
    },
    {
     "name": "stdout",
     "output_type": "stream",
     "text": [
      "Skipping due to missing or non-string Azure.\n"
     ]
    },
    {
     "name": "stderr",
     "output_type": "stream",
     "text": [
      " 22%|██▏       | 8075/37253 [00:56<03:06, 156.06it/s]"
     ]
    },
    {
     "name": "stdout",
     "output_type": "stream",
     "text": [
      "Skipping due to missing or non-string Azure.\n"
     ]
    },
    {
     "name": "stderr",
     "output_type": "stream",
     "text": [
      " 22%|██▏       | 8126/37253 [00:56<03:01, 160.79it/s]"
     ]
    },
    {
     "name": "stdout",
     "output_type": "stream",
     "text": [
      "Skipping due to missing or non-string Azure.\n",
      "Skipping due to missing or non-string Azure.\n"
     ]
    },
    {
     "name": "stderr",
     "output_type": "stream",
     "text": [
      " 22%|██▏       | 8192/37253 [00:56<03:07, 155.31it/s]"
     ]
    },
    {
     "name": "stdout",
     "output_type": "stream",
     "text": [
      "Skipping due to missing or non-string Azure.\n",
      "Skipping due to missing or non-string Azure.\n",
      "Skipping due to missing or non-string Azure.\n"
     ]
    },
    {
     "name": "stderr",
     "output_type": "stream",
     "text": [
      " 22%|██▏       | 8241/37253 [00:57<03:09, 153.41it/s]"
     ]
    },
    {
     "name": "stdout",
     "output_type": "stream",
     "text": [
      "Skipping due to missing or non-string Azure.\n",
      "Skipping due to missing or non-string Azure.\n"
     ]
    },
    {
     "name": "stderr",
     "output_type": "stream",
     "text": [
      " 22%|██▏       | 8288/37253 [00:57<03:26, 140.35it/s]"
     ]
    },
    {
     "name": "stdout",
     "output_type": "stream",
     "text": [
      "Skipping due to missing or non-string Azure.\n",
      "Skipping due to missing or non-string Azure.\n"
     ]
    },
    {
     "name": "stderr",
     "output_type": "stream",
     "text": [
      " 22%|██▏       | 8333/37253 [00:57<03:27, 139.47it/s]"
     ]
    },
    {
     "name": "stdout",
     "output_type": "stream",
     "text": [
      "Skipping due to missing or non-string Azure.\n"
     ]
    },
    {
     "name": "stderr",
     "output_type": "stream",
     "text": [
      " 22%|██▏       | 8364/37253 [00:58<03:18, 145.36it/s]"
     ]
    },
    {
     "name": "stdout",
     "output_type": "stream",
     "text": [
      "Skipping due to missing or non-string Azure.\n",
      "Skipping due to missing or non-string Azure.\n",
      "Skipping due to missing or non-string Azure.\n",
      "Skipping due to missing or non-string Azure.\n"
     ]
    },
    {
     "name": "stderr",
     "output_type": "stream",
     "text": [
      " 23%|██▎       | 8395/37253 [00:58<03:17, 146.06it/s]"
     ]
    },
    {
     "name": "stdout",
     "output_type": "stream",
     "text": [
      "Skipping due to missing or non-string Azure.\n",
      "Skipping due to missing or non-string Azure.\n"
     ]
    },
    {
     "name": "stderr",
     "output_type": "stream",
     "text": [
      " 23%|██▎       | 8528/37253 [00:59<02:57, 161.78it/s]"
     ]
    },
    {
     "name": "stdout",
     "output_type": "stream",
     "text": [
      "Skipping due to missing or non-string Azure.\n",
      "Skipping due to missing or non-string Azure.\n"
     ]
    },
    {
     "name": "stderr",
     "output_type": "stream",
     "text": [
      " 23%|██▎       | 8625/37253 [00:59<03:10, 150.01it/s]"
     ]
    },
    {
     "name": "stdout",
     "output_type": "stream",
     "text": [
      "Skipping due to missing or non-string Azure.\n",
      "Skipping due to missing or non-string Azure.\n"
     ]
    },
    {
     "name": "stderr",
     "output_type": "stream",
     "text": [
      " 24%|██▎       | 8790/37253 [01:01<03:47, 125.28it/s]"
     ]
    },
    {
     "name": "stdout",
     "output_type": "stream",
     "text": [
      "Skipping due to missing or non-string Azure.\n"
     ]
    },
    {
     "name": "stderr",
     "output_type": "stream",
     "text": [
      " 24%|██▎       | 8844/37253 [01:01<03:48, 124.46it/s]"
     ]
    },
    {
     "name": "stdout",
     "output_type": "stream",
     "text": [
      "Skipping due to missing or non-string Azure.\n"
     ]
    },
    {
     "name": "stderr",
     "output_type": "stream",
     "text": [
      " 24%|██▍       | 8968/37253 [01:02<03:26, 136.69it/s]"
     ]
    },
    {
     "name": "stdout",
     "output_type": "stream",
     "text": [
      "Skipping due to missing or non-string Azure.\n"
     ]
    },
    {
     "name": "stderr",
     "output_type": "stream",
     "text": [
      " 24%|██▍       | 9040/37253 [01:02<03:21, 140.17it/s]"
     ]
    },
    {
     "name": "stdout",
     "output_type": "stream",
     "text": [
      "Skipping due to missing or non-string Azure.\n"
     ]
    },
    {
     "name": "stderr",
     "output_type": "stream",
     "text": [
      " 25%|██▍       | 9218/37253 [01:04<02:57, 157.61it/s]"
     ]
    },
    {
     "name": "stdout",
     "output_type": "stream",
     "text": [
      "Skipping due to missing or non-string Azure.\n",
      "Skipping due to missing or non-string Azure.\n"
     ]
    },
    {
     "name": "stderr",
     "output_type": "stream",
     "text": [
      " 25%|██▌       | 9373/37253 [01:05<03:32, 131.23it/s]"
     ]
    },
    {
     "name": "stdout",
     "output_type": "stream",
     "text": [
      "Skipping due to missing or non-string Azure.\n",
      "Skipping due to missing or non-string Azure.\n"
     ]
    },
    {
     "name": "stderr",
     "output_type": "stream",
     "text": [
      " 26%|██▌       | 9514/37253 [01:06<03:03, 151.48it/s]"
     ]
    },
    {
     "name": "stdout",
     "output_type": "stream",
     "text": [
      "Skipping due to missing or non-string Azure.\n"
     ]
    },
    {
     "name": "stderr",
     "output_type": "stream",
     "text": [
      " 26%|██▌       | 9629/37253 [01:06<03:04, 149.82it/s]"
     ]
    },
    {
     "name": "stdout",
     "output_type": "stream",
     "text": [
      "Skipping due to missing or non-string Azure.\n"
     ]
    },
    {
     "name": "stderr",
     "output_type": "stream",
     "text": [
      " 26%|██▌       | 9693/37253 [01:07<03:03, 150.33it/s]"
     ]
    },
    {
     "name": "stdout",
     "output_type": "stream",
     "text": [
      "Skipping due to missing or non-string Azure.\n"
     ]
    },
    {
     "name": "stderr",
     "output_type": "stream",
     "text": [
      " 26%|██▌       | 9773/37253 [01:07<03:00, 152.34it/s]"
     ]
    },
    {
     "name": "stdout",
     "output_type": "stream",
     "text": [
      "Skipping due to missing or non-string Azure.\n"
     ]
    },
    {
     "name": "stderr",
     "output_type": "stream",
     "text": [
      " 26%|██▋       | 9804/37253 [01:08<03:06, 146.98it/s]"
     ]
    },
    {
     "name": "stdout",
     "output_type": "stream",
     "text": [
      "Skipping due to missing or non-string Azure.\n"
     ]
    },
    {
     "name": "stderr",
     "output_type": "stream",
     "text": [
      " 26%|██▋       | 9850/37253 [01:08<03:07, 146.00it/s]"
     ]
    },
    {
     "name": "stdout",
     "output_type": "stream",
     "text": [
      "Skipping due to missing or non-string Azure.\n"
     ]
    },
    {
     "name": "stderr",
     "output_type": "stream",
     "text": [
      " 27%|██▋       | 9943/37253 [01:09<02:59, 152.42it/s]"
     ]
    },
    {
     "name": "stdout",
     "output_type": "stream",
     "text": [
      "Skipping due to missing or non-string Azure.\n",
      "Skipping due to missing or non-string Azure.\n"
     ]
    },
    {
     "name": "stderr",
     "output_type": "stream",
     "text": [
      " 27%|██▋       | 10095/37253 [01:09<02:42, 166.82it/s]"
     ]
    },
    {
     "name": "stdout",
     "output_type": "stream",
     "text": [
      "Skipping due to missing or non-string Azure.\n",
      "Skipping due to missing or non-string Azure.\n",
      "Skipping due to missing or non-string Azure.\n"
     ]
    },
    {
     "name": "stderr",
     "output_type": "stream",
     "text": [
      " 28%|██▊       | 10312/37253 [01:11<02:49, 159.39it/s]"
     ]
    },
    {
     "name": "stdout",
     "output_type": "stream",
     "text": [
      "Skipping due to missing or non-string Azure.\n"
     ]
    },
    {
     "name": "stderr",
     "output_type": "stream",
     "text": [
      " 28%|██▊       | 10364/37253 [01:11<02:43, 164.79it/s]"
     ]
    },
    {
     "name": "stdout",
     "output_type": "stream",
     "text": [
      "Skipping due to missing or non-string Azure.\n"
     ]
    },
    {
     "name": "stderr",
     "output_type": "stream",
     "text": [
      " 28%|██▊       | 10417/37253 [01:12<02:47, 159.83it/s]"
     ]
    },
    {
     "name": "stdout",
     "output_type": "stream",
     "text": [
      "Skipping due to missing or non-string Azure.\n",
      "Skipping due to missing or non-string Azure.\n",
      "Skipping due to missing or non-string Azure.\n"
     ]
    },
    {
     "name": "stderr",
     "output_type": "stream",
     "text": [
      " 28%|██▊       | 10466/37253 [01:12<03:03, 145.59it/s]"
     ]
    },
    {
     "name": "stdout",
     "output_type": "stream",
     "text": [
      "Skipping due to missing or non-string Azure.\n",
      "Skipping due to missing or non-string Azure.\n"
     ]
    },
    {
     "name": "stderr",
     "output_type": "stream",
     "text": [
      " 28%|██▊       | 10496/37253 [01:12<03:13, 138.23it/s]"
     ]
    },
    {
     "name": "stdout",
     "output_type": "stream",
     "text": [
      "Skipping: One of the rows is empty.\n",
      "Skipping due to missing or non-string Azure.\n",
      "Skipping due to missing or non-string Azure.\n"
     ]
    },
    {
     "name": "stderr",
     "output_type": "stream",
     "text": [
      " 29%|██▊       | 10623/37253 [01:13<02:53, 153.90it/s]"
     ]
    },
    {
     "name": "stdout",
     "output_type": "stream",
     "text": [
      "Skipping due to missing or non-string Azure.\n"
     ]
    },
    {
     "name": "stderr",
     "output_type": "stream",
     "text": [
      " 29%|██▊       | 10672/37253 [01:13<02:49, 156.95it/s]"
     ]
    },
    {
     "name": "stdout",
     "output_type": "stream",
     "text": [
      "Skipping due to missing or non-string Azure.\n",
      "Skipping due to missing or non-string Azure.\n"
     ]
    },
    {
     "name": "stderr",
     "output_type": "stream",
     "text": [
      " 29%|██▊       | 10707/37253 [01:13<02:41, 164.28it/s]"
     ]
    },
    {
     "name": "stdout",
     "output_type": "stream",
     "text": [
      "Skipping due to missing or non-string Azure.\n",
      "Skipping due to missing or non-string Azure.\n"
     ]
    },
    {
     "name": "stderr",
     "output_type": "stream",
     "text": [
      " 29%|██▉       | 10822/37253 [01:14<02:48, 156.80it/s]"
     ]
    },
    {
     "name": "stdout",
     "output_type": "stream",
     "text": [
      "Skipping due to missing or non-string Azure.\n",
      "Skipping due to missing or non-string Azure.\n",
      "Skipping due to missing or non-string Azure.\n",
      "Skipping due to missing or non-string Azure.\n"
     ]
    },
    {
     "name": "stderr",
     "output_type": "stream",
     "text": [
      " 29%|██▉       | 10876/37253 [01:15<02:35, 169.28it/s]"
     ]
    },
    {
     "name": "stdout",
     "output_type": "stream",
     "text": [
      "Skipping due to missing or non-string Azure.\n",
      "Skipping due to missing or non-string Azure.\n",
      "Skipping due to missing or non-string Azure.\n"
     ]
    },
    {
     "name": "stderr",
     "output_type": "stream",
     "text": [
      " 29%|██▉       | 10912/37253 [01:15<02:38, 166.39it/s]"
     ]
    },
    {
     "name": "stdout",
     "output_type": "stream",
     "text": [
      "Skipping due to missing or non-string Azure.\n",
      "Skipping due to missing or non-string Azure.\n",
      "Skipping due to missing or non-string Azure.\n"
     ]
    },
    {
     "name": "stderr",
     "output_type": "stream",
     "text": [
      " 29%|██▉       | 10946/37253 [01:15<02:47, 156.61it/s]"
     ]
    },
    {
     "name": "stdout",
     "output_type": "stream",
     "text": [
      "Skipping due to missing or non-string Azure.\n"
     ]
    },
    {
     "name": "stderr",
     "output_type": "stream",
     "text": [
      " 30%|███       | 11187/37253 [01:17<02:56, 147.30it/s]"
     ]
    },
    {
     "name": "stdout",
     "output_type": "stream",
     "text": [
      "Skipping due to missing or non-string Azure.\n",
      "Skipping due to missing or non-string Azure.\n"
     ]
    },
    {
     "name": "stderr",
     "output_type": "stream",
     "text": [
      " 30%|███       | 11281/37253 [01:17<02:53, 149.63it/s]"
     ]
    },
    {
     "name": "stdout",
     "output_type": "stream",
     "text": [
      "Skipping due to missing or non-string Azure.\n",
      "Skipping due to missing or non-string Azure.\n",
      "Skipping due to missing or non-string Azure.\n"
     ]
    },
    {
     "name": "stderr",
     "output_type": "stream",
     "text": [
      " 30%|███       | 11314/37253 [01:17<02:47, 154.67it/s]"
     ]
    },
    {
     "name": "stdout",
     "output_type": "stream",
     "text": [
      "Skipping due to missing or non-string Azure.\n"
     ]
    },
    {
     "name": "stderr",
     "output_type": "stream",
     "text": [
      " 30%|███       | 11346/37253 [01:18<02:47, 154.29it/s]"
     ]
    },
    {
     "name": "stdout",
     "output_type": "stream",
     "text": [
      "Skipping due to missing or non-string Azure.\n",
      "Skipping due to missing or non-string Azure.\n"
     ]
    },
    {
     "name": "stderr",
     "output_type": "stream",
     "text": [
      " 31%|███       | 11510/37253 [01:19<02:41, 159.50it/s]"
     ]
    },
    {
     "name": "stdout",
     "output_type": "stream",
     "text": [
      "Skipping due to missing or non-string Azure.\n",
      "Skipping due to missing or non-string Azure.\n",
      "Skipping due to missing or non-string Azure.\n"
     ]
    },
    {
     "name": "stderr",
     "output_type": "stream",
     "text": [
      " 31%|███       | 11560/37253 [01:19<02:41, 159.29it/s]"
     ]
    },
    {
     "name": "stdout",
     "output_type": "stream",
     "text": [
      "Skipping due to missing or non-string Azure.\n"
     ]
    },
    {
     "name": "stderr",
     "output_type": "stream",
     "text": [
      " 31%|███       | 11592/37253 [01:19<02:52, 148.45it/s]"
     ]
    },
    {
     "name": "stdout",
     "output_type": "stream",
     "text": [
      "Skipping due to missing or non-string Azure.\n",
      "Skipping due to missing or non-string Azure.\n"
     ]
    },
    {
     "name": "stderr",
     "output_type": "stream",
     "text": [
      " 31%|███       | 11638/37253 [01:20<02:59, 142.93it/s]"
     ]
    },
    {
     "name": "stdout",
     "output_type": "stream",
     "text": [
      "Skipping due to missing or non-string Azure.\n"
     ]
    },
    {
     "name": "stderr",
     "output_type": "stream",
     "text": [
      " 32%|███▏      | 11742/37253 [01:20<02:59, 141.86it/s]"
     ]
    },
    {
     "name": "stdout",
     "output_type": "stream",
     "text": [
      "Skipping due to missing or non-string Azure.\n"
     ]
    },
    {
     "name": "stderr",
     "output_type": "stream",
     "text": [
      " 32%|███▏      | 11981/37253 [01:22<02:46, 151.67it/s]"
     ]
    },
    {
     "name": "stdout",
     "output_type": "stream",
     "text": [
      "Skipping due to missing or non-string Azure.\n"
     ]
    },
    {
     "name": "stderr",
     "output_type": "stream",
     "text": [
      " 32%|███▏      | 12063/37253 [01:22<02:41, 156.29it/s]"
     ]
    },
    {
     "name": "stdout",
     "output_type": "stream",
     "text": [
      "Skipping due to missing or non-string Azure.\n",
      "Skipping due to missing or non-string Azure.\n"
     ]
    },
    {
     "name": "stderr",
     "output_type": "stream",
     "text": [
      " 33%|███▎      | 12186/37253 [01:23<02:59, 139.43it/s]"
     ]
    },
    {
     "name": "stdout",
     "output_type": "stream",
     "text": [
      "Skipping due to missing or non-string Azure.\n",
      "Skipping due to missing or non-string Azure.\n"
     ]
    },
    {
     "name": "stderr",
     "output_type": "stream",
     "text": [
      " 33%|███▎      | 12217/37253 [01:24<02:54, 143.52it/s]"
     ]
    },
    {
     "name": "stdout",
     "output_type": "stream",
     "text": [
      "Skipping due to missing or non-string Azure.\n",
      "Skipping due to missing or non-string Azure.\n"
     ]
    },
    {
     "name": "stderr",
     "output_type": "stream",
     "text": [
      " 33%|███▎      | 12265/37253 [01:24<02:46, 149.83it/s]"
     ]
    },
    {
     "name": "stdout",
     "output_type": "stream",
     "text": [
      "Skipping due to missing or non-string Azure.\n",
      "Skipping due to missing or non-string Azure.\n"
     ]
    },
    {
     "name": "stderr",
     "output_type": "stream",
     "text": [
      " 33%|███▎      | 12311/37253 [01:24<02:50, 146.65it/s]"
     ]
    },
    {
     "name": "stdout",
     "output_type": "stream",
     "text": [
      "Skipping due to missing or non-string Azure.\n"
     ]
    },
    {
     "name": "stderr",
     "output_type": "stream",
     "text": [
      " 33%|███▎      | 12390/37253 [01:25<02:40, 154.93it/s]"
     ]
    },
    {
     "name": "stdout",
     "output_type": "stream",
     "text": [
      "Skipping due to missing or non-string Azure.\n"
     ]
    },
    {
     "name": "stderr",
     "output_type": "stream",
     "text": [
      " 33%|███▎      | 12423/37253 [01:25<02:38, 156.30it/s]"
     ]
    },
    {
     "name": "stdout",
     "output_type": "stream",
     "text": [
      "Skipping due to missing or non-string Azure.\n",
      "Skipping due to missing or non-string Azure.\n"
     ]
    },
    {
     "name": "stderr",
     "output_type": "stream",
     "text": [
      " 33%|███▎      | 12475/37253 [01:25<02:31, 163.44it/s]"
     ]
    },
    {
     "name": "stdout",
     "output_type": "stream",
     "text": [
      "Skipping due to missing or non-string Azure.\n"
     ]
    },
    {
     "name": "stderr",
     "output_type": "stream",
     "text": [
      " 34%|███▍      | 12642/37253 [01:26<02:37, 156.34it/s]"
     ]
    },
    {
     "name": "stdout",
     "output_type": "stream",
     "text": [
      "Skipping due to missing or non-string Azure.\n"
     ]
    },
    {
     "name": "stderr",
     "output_type": "stream",
     "text": [
      " 34%|███▍      | 12692/37253 [01:27<02:34, 159.26it/s]"
     ]
    },
    {
     "name": "stdout",
     "output_type": "stream",
     "text": [
      "Skipping due to missing or non-string Azure.\n"
     ]
    },
    {
     "name": "stderr",
     "output_type": "stream",
     "text": [
      " 34%|███▍      | 12772/37253 [01:27<02:49, 144.14it/s]"
     ]
    },
    {
     "name": "stdout",
     "output_type": "stream",
     "text": [
      "Skipping due to missing or non-string Azure.\n"
     ]
    },
    {
     "name": "stderr",
     "output_type": "stream",
     "text": [
      " 34%|███▍      | 12818/37253 [01:27<02:53, 140.79it/s]"
     ]
    },
    {
     "name": "stdout",
     "output_type": "stream",
     "text": [
      "Skipping due to missing or non-string Azure.\n"
     ]
    },
    {
     "name": "stderr",
     "output_type": "stream",
     "text": [
      " 35%|███▍      | 12862/37253 [01:28<02:57, 137.56it/s]"
     ]
    },
    {
     "name": "stdout",
     "output_type": "stream",
     "text": [
      "Skipping due to missing or non-string Azure.\n"
     ]
    },
    {
     "name": "stderr",
     "output_type": "stream",
     "text": [
      " 35%|███▍      | 12910/37253 [01:28<02:43, 149.18it/s]"
     ]
    },
    {
     "name": "stdout",
     "output_type": "stream",
     "text": [
      "Skipping due to missing or non-string Azure.\n",
      "Skipping due to missing or non-string Azure.\n",
      "Skipping due to missing or non-string Azure.\n",
      "Skipping due to missing or non-string Azure.\n",
      "Skipping due to missing or non-string Azure.\n"
     ]
    },
    {
     "name": "stderr",
     "output_type": "stream",
     "text": [
      " 35%|███▍      | 12941/37253 [01:28<02:49, 143.28it/s]"
     ]
    },
    {
     "name": "stdout",
     "output_type": "stream",
     "text": [
      "Skipping due to missing or non-string Azure.\n",
      "Skipping due to missing or non-string Azure.\n"
     ]
    },
    {
     "name": "stderr",
     "output_type": "stream",
     "text": [
      " 35%|███▍      | 12987/37253 [01:29<02:49, 143.54it/s]"
     ]
    },
    {
     "name": "stdout",
     "output_type": "stream",
     "text": [
      "Skipping due to missing or non-string Azure.\n"
     ]
    },
    {
     "name": "stderr",
     "output_type": "stream",
     "text": [
      " 35%|███▌      | 13049/37253 [01:29<02:48, 144.00it/s]"
     ]
    },
    {
     "name": "stdout",
     "output_type": "stream",
     "text": [
      "Skipping due to missing or non-string Azure.\n",
      "Skipping due to missing or non-string Azure.\n"
     ]
    },
    {
     "name": "stderr",
     "output_type": "stream",
     "text": [
      " 35%|███▌      | 13110/37253 [01:29<02:48, 143.16it/s]"
     ]
    },
    {
     "name": "stdout",
     "output_type": "stream",
     "text": [
      "Skipping due to missing or non-string Azure.\n"
     ]
    },
    {
     "name": "stderr",
     "output_type": "stream",
     "text": [
      " 35%|███▌      | 13156/37253 [01:30<02:44, 146.24it/s]"
     ]
    },
    {
     "name": "stdout",
     "output_type": "stream",
     "text": [
      "Skipping due to missing or non-string Azure.\n",
      "Skipping due to missing or non-string Azure.\n"
     ]
    },
    {
     "name": "stderr",
     "output_type": "stream",
     "text": [
      " 36%|███▌      | 13233/37253 [01:30<02:47, 143.21it/s]"
     ]
    },
    {
     "name": "stdout",
     "output_type": "stream",
     "text": [
      "Skipping due to missing or non-string Azure.\n",
      "Skipping due to missing or non-string Azure.\n",
      "Skipping due to missing or non-string Azure.\n",
      "Skipping due to missing or non-string Azure.\n"
     ]
    },
    {
     "name": "stderr",
     "output_type": "stream",
     "text": [
      " 36%|███▌      | 13451/37253 [01:32<02:41, 147.73it/s]"
     ]
    },
    {
     "name": "stdout",
     "output_type": "stream",
     "text": [
      "Skipping due to missing or non-string Azure.\n"
     ]
    },
    {
     "name": "stderr",
     "output_type": "stream",
     "text": [
      " 36%|███▋      | 13517/37253 [01:32<02:29, 158.74it/s]"
     ]
    },
    {
     "name": "stdout",
     "output_type": "stream",
     "text": [
      "Skipping due to missing or non-string Azure.\n",
      "Skipping due to missing or non-string Azure.\n"
     ]
    },
    {
     "name": "stderr",
     "output_type": "stream",
     "text": [
      " 36%|███▋      | 13550/37253 [01:32<02:27, 160.33it/s]"
     ]
    },
    {
     "name": "stdout",
     "output_type": "stream",
     "text": [
      "Skipping due to missing or non-string Azure.\n",
      "Skipping due to missing or non-string Azure.\n"
     ]
    },
    {
     "name": "stderr",
     "output_type": "stream",
     "text": [
      " 37%|███▋      | 13735/37253 [01:34<02:44, 142.56it/s]"
     ]
    },
    {
     "name": "stdout",
     "output_type": "stream",
     "text": [
      "Skipping due to missing or non-string Azure.\n",
      "Skipping due to missing or non-string Azure.\n"
     ]
    },
    {
     "name": "stderr",
     "output_type": "stream",
     "text": [
      " 37%|███▋      | 13799/37253 [01:34<02:39, 146.90it/s]"
     ]
    },
    {
     "name": "stdout",
     "output_type": "stream",
     "text": [
      "Skipping due to missing or non-string Azure.\n"
     ]
    },
    {
     "name": "stderr",
     "output_type": "stream",
     "text": [
      " 37%|███▋      | 13861/37253 [01:35<02:40, 146.17it/s]"
     ]
    },
    {
     "name": "stdout",
     "output_type": "stream",
     "text": [
      "Skipping due to missing or non-string Azure.\n"
     ]
    },
    {
     "name": "stderr",
     "output_type": "stream",
     "text": [
      " 38%|███▊      | 13985/37253 [01:36<03:05, 125.31it/s]"
     ]
    },
    {
     "name": "stdout",
     "output_type": "stream",
     "text": [
      "Skipping due to missing or non-string Azure.\n",
      "Skipping due to missing or non-string Azure.\n"
     ]
    },
    {
     "name": "stderr",
     "output_type": "stream",
     "text": [
      " 38%|███▊      | 14050/37253 [01:36<02:32, 152.13it/s]"
     ]
    },
    {
     "name": "stdout",
     "output_type": "stream",
     "text": [
      "Skipping due to missing or non-string Azure.\n"
     ]
    },
    {
     "name": "stderr",
     "output_type": "stream",
     "text": [
      " 38%|███▊      | 14136/37253 [01:37<02:24, 159.65it/s]"
     ]
    },
    {
     "name": "stdout",
     "output_type": "stream",
     "text": [
      "Skipping due to missing or non-string Azure.\n"
     ]
    },
    {
     "name": "stderr",
     "output_type": "stream",
     "text": [
      " 38%|███▊      | 14223/37253 [01:37<02:18, 166.29it/s]"
     ]
    },
    {
     "name": "stdout",
     "output_type": "stream",
     "text": [
      "Skipping due to missing or non-string Azure.\n"
     ]
    },
    {
     "name": "stderr",
     "output_type": "stream",
     "text": [
      " 38%|███▊      | 14273/37253 [01:37<02:28, 155.12it/s]"
     ]
    },
    {
     "name": "stdout",
     "output_type": "stream",
     "text": [
      "Skipping due to missing or non-string Azure.\n"
     ]
    },
    {
     "name": "stderr",
     "output_type": "stream",
     "text": [
      " 38%|███▊      | 14306/37253 [01:38<02:27, 155.60it/s]"
     ]
    },
    {
     "name": "stdout",
     "output_type": "stream",
     "text": [
      "Skipping due to missing or non-string Azure.\n",
      "Skipping due to missing or non-string Azure.\n",
      "Skipping due to missing or non-string Azure.\n",
      "Skipping due to missing or non-string Azure.\n",
      "Skipping due to missing or non-string Azure.\n"
     ]
    },
    {
     "name": "stderr",
     "output_type": "stream",
     "text": [
      " 38%|███▊      | 14338/37253 [01:38<02:32, 150.28it/s]"
     ]
    },
    {
     "name": "stdout",
     "output_type": "stream",
     "text": [
      "Skipping due to missing or non-string Azure.\n"
     ]
    },
    {
     "name": "stderr",
     "output_type": "stream",
     "text": [
      " 39%|███▊      | 14385/37253 [01:38<02:35, 147.05it/s]"
     ]
    },
    {
     "name": "stdout",
     "output_type": "stream",
     "text": [
      "Skipping due to missing or non-string Azure.\n",
      "Skipping due to missing or non-string Azure.\n",
      "Skipping due to missing or non-string Azure.\n",
      "Skipping due to missing or non-string Azure.\n",
      "Skipping due to missing or non-string Azure.\n"
     ]
    },
    {
     "name": "stderr",
     "output_type": "stream",
     "text": [
      " 39%|███▉      | 14450/37253 [01:39<02:27, 154.17it/s]"
     ]
    },
    {
     "name": "stdout",
     "output_type": "stream",
     "text": [
      "Skipping due to missing or non-string Azure.\n",
      "Skipping due to missing or non-string Azure.\n"
     ]
    },
    {
     "name": "stderr",
     "output_type": "stream",
     "text": [
      " 39%|███▉      | 14483/37253 [01:39<02:27, 154.42it/s]"
     ]
    },
    {
     "name": "stdout",
     "output_type": "stream",
     "text": [
      "Skipping due to missing or non-string Azure.\n"
     ]
    },
    {
     "name": "stderr",
     "output_type": "stream",
     "text": [
      " 39%|███▉      | 14499/37253 [01:39<02:36, 145.66it/s]"
     ]
    },
    {
     "name": "stdout",
     "output_type": "stream",
     "text": [
      "Skipping due to missing or non-string Azure.\n"
     ]
    },
    {
     "name": "stderr",
     "output_type": "stream",
     "text": [
      " 39%|███▉      | 14679/37253 [01:40<02:28, 152.03it/s]"
     ]
    },
    {
     "name": "stdout",
     "output_type": "stream",
     "text": [
      "Skipping due to missing or non-string Azure.\n",
      "Skipping due to missing or non-string Azure.\n"
     ]
    },
    {
     "name": "stderr",
     "output_type": "stream",
     "text": [
      " 40%|███▉      | 14745/37253 [01:41<02:20, 159.76it/s]"
     ]
    },
    {
     "name": "stdout",
     "output_type": "stream",
     "text": [
      "Skipping due to missing or non-string Azure.\n"
     ]
    },
    {
     "name": "stderr",
     "output_type": "stream",
     "text": [
      " 40%|███▉      | 14848/37253 [01:41<02:32, 146.76it/s]"
     ]
    },
    {
     "name": "stdout",
     "output_type": "stream",
     "text": [
      "Skipping due to missing or non-string Azure.\n",
      "Skipping due to missing or non-string Azure.\n"
     ]
    },
    {
     "name": "stderr",
     "output_type": "stream",
     "text": [
      " 40%|███▉      | 14878/37253 [01:41<02:38, 140.95it/s]"
     ]
    },
    {
     "name": "stdout",
     "output_type": "stream",
     "text": [
      "Skipping due to missing or non-string Azure.\n"
     ]
    },
    {
     "name": "stderr",
     "output_type": "stream",
     "text": [
      " 40%|████      | 14952/37253 [01:42<02:37, 142.02it/s]"
     ]
    },
    {
     "name": "stdout",
     "output_type": "stream",
     "text": [
      "Skipping due to missing or non-string Azure.\n"
     ]
    },
    {
     "name": "stderr",
     "output_type": "stream",
     "text": [
      " 40%|████      | 15028/37253 [01:42<02:32, 146.00it/s]"
     ]
    },
    {
     "name": "stdout",
     "output_type": "stream",
     "text": [
      "Skipping due to missing or non-string Azure.\n"
     ]
    },
    {
     "name": "stderr",
     "output_type": "stream",
     "text": [
      " 41%|████      | 15141/37253 [01:43<02:20, 157.09it/s]"
     ]
    },
    {
     "name": "stdout",
     "output_type": "stream",
     "text": [
      "Skipping due to missing or non-string Azure.\n",
      "Skipping due to missing or non-string Azure.\n"
     ]
    },
    {
     "name": "stderr",
     "output_type": "stream",
     "text": [
      " 41%|████      | 15235/37253 [01:44<02:02, 179.14it/s]"
     ]
    },
    {
     "name": "stdout",
     "output_type": "stream",
     "text": [
      "Skipping due to missing or non-string Azure.\n"
     ]
    },
    {
     "name": "stderr",
     "output_type": "stream",
     "text": [
      " 41%|████      | 15311/37253 [01:44<02:00, 182.52it/s]"
     ]
    },
    {
     "name": "stdout",
     "output_type": "stream",
     "text": [
      "Skipping due to missing or non-string Azure.\n",
      "Skipping due to missing or non-string Azure.\n",
      "Skipping due to missing or non-string Azure.\n",
      "Skipping due to missing or non-string Azure.\n"
     ]
    },
    {
     "name": "stderr",
     "output_type": "stream",
     "text": [
      " 41%|████      | 15349/37253 [01:44<02:00, 182.52it/s]"
     ]
    },
    {
     "name": "stdout",
     "output_type": "stream",
     "text": [
      "Skipping due to missing or non-string Azure.\n",
      "Skipping due to missing or non-string Azure.\n",
      "Skipping due to missing or non-string Azure.\n"
     ]
    },
    {
     "name": "stderr",
     "output_type": "stream",
     "text": [
      " 41%|████▏     | 15387/37253 [01:45<01:59, 182.97it/s]"
     ]
    },
    {
     "name": "stdout",
     "output_type": "stream",
     "text": [
      "Skipping due to missing or non-string Azure.\n"
     ]
    },
    {
     "name": "stderr",
     "output_type": "stream",
     "text": [
      " 42%|████▏     | 15482/37253 [01:45<01:59, 182.32it/s]"
     ]
    },
    {
     "name": "stdout",
     "output_type": "stream",
     "text": [
      "Skipping due to missing or non-string Azure.\n"
     ]
    },
    {
     "name": "stderr",
     "output_type": "stream",
     "text": [
      " 42%|████▏     | 15539/37253 [01:45<01:58, 182.52it/s]"
     ]
    },
    {
     "name": "stdout",
     "output_type": "stream",
     "text": [
      "Skipping due to missing or non-string Azure.\n"
     ]
    },
    {
     "name": "stderr",
     "output_type": "stream",
     "text": [
      " 42%|████▏     | 15672/37253 [01:46<01:57, 182.93it/s]"
     ]
    },
    {
     "name": "stdout",
     "output_type": "stream",
     "text": [
      "Skipping due to missing or non-string Azure.\n"
     ]
    },
    {
     "name": "stderr",
     "output_type": "stream",
     "text": [
      " 42%|████▏     | 15710/37253 [01:46<01:59, 179.95it/s]"
     ]
    },
    {
     "name": "stdout",
     "output_type": "stream",
     "text": [
      "Skipping due to missing or non-string Azure.\n"
     ]
    },
    {
     "name": "stderr",
     "output_type": "stream",
     "text": [
      " 43%|████▎     | 15988/37253 [01:48<01:58, 179.73it/s]"
     ]
    },
    {
     "name": "stdout",
     "output_type": "stream",
     "text": [
      "Skipping due to missing or non-string Azure.\n"
     ]
    },
    {
     "name": "stderr",
     "output_type": "stream",
     "text": [
      " 43%|████▎     | 16043/37253 [01:48<01:58, 178.42it/s]"
     ]
    },
    {
     "name": "stdout",
     "output_type": "stream",
     "text": [
      "Skipping due to missing or non-string Azure.\n"
     ]
    },
    {
     "name": "stderr",
     "output_type": "stream",
     "text": [
      " 43%|████▎     | 16098/37253 [01:49<01:58, 178.79it/s]"
     ]
    },
    {
     "name": "stdout",
     "output_type": "stream",
     "text": [
      "Skipping due to missing or non-string Azure.\n"
     ]
    },
    {
     "name": "stderr",
     "output_type": "stream",
     "text": [
      " 43%|████▎     | 16193/37253 [01:49<01:58, 177.88it/s]"
     ]
    },
    {
     "name": "stdout",
     "output_type": "stream",
     "text": [
      "Skipping due to missing or non-string Azure.\n"
     ]
    },
    {
     "name": "stderr",
     "output_type": "stream",
     "text": [
      " 44%|████▍     | 16326/37253 [01:50<01:56, 180.08it/s]"
     ]
    },
    {
     "name": "stdout",
     "output_type": "stream",
     "text": [
      "Skipping due to missing or non-string Azure.\n"
     ]
    },
    {
     "name": "stderr",
     "output_type": "stream",
     "text": [
      " 44%|████▍     | 16402/37253 [01:50<01:54, 181.79it/s]"
     ]
    },
    {
     "name": "stdout",
     "output_type": "stream",
     "text": [
      "Skipping due to missing or non-string Azure.\n",
      "Skipping due to missing or non-string Azure.\n"
     ]
    },
    {
     "name": "stderr",
     "output_type": "stream",
     "text": [
      " 44%|████▍     | 16477/37253 [01:51<01:57, 176.79it/s]"
     ]
    },
    {
     "name": "stdout",
     "output_type": "stream",
     "text": [
      "Skipping due to missing or non-string Azure.\n",
      "Skipping due to missing or non-string Azure.\n"
     ]
    },
    {
     "name": "stderr",
     "output_type": "stream",
     "text": [
      " 45%|████▍     | 16747/37253 [01:52<01:57, 173.92it/s]"
     ]
    },
    {
     "name": "stdout",
     "output_type": "stream",
     "text": [
      "Skipping due to missing or non-string Azure.\n",
      "Skipping due to missing or non-string Azure.\n"
     ]
    },
    {
     "name": "stderr",
     "output_type": "stream",
     "text": [
      " 45%|████▌     | 16783/37253 [01:52<02:00, 169.36it/s]"
     ]
    },
    {
     "name": "stdout",
     "output_type": "stream",
     "text": [
      "Skipping due to missing or non-string Azure.\n"
     ]
    },
    {
     "name": "stderr",
     "output_type": "stream",
     "text": [
      " 45%|████▌     | 16854/37253 [01:53<01:58, 172.00it/s]"
     ]
    },
    {
     "name": "stdout",
     "output_type": "stream",
     "text": [
      "Skipping due to missing or non-string Azure.\n"
     ]
    },
    {
     "name": "stderr",
     "output_type": "stream",
     "text": [
      " 46%|████▌     | 16962/37253 [01:53<01:57, 172.81it/s]"
     ]
    },
    {
     "name": "stdout",
     "output_type": "stream",
     "text": [
      "Skipping due to missing or non-string Azure.\n"
     ]
    },
    {
     "name": "stderr",
     "output_type": "stream",
     "text": [
      " 46%|████▌     | 17161/37253 [01:55<01:52, 178.07it/s]"
     ]
    },
    {
     "name": "stdout",
     "output_type": "stream",
     "text": [
      "Skipping due to missing or non-string Azure.\n",
      "Skipping due to missing or non-string Azure.\n"
     ]
    },
    {
     "name": "stderr",
     "output_type": "stream",
     "text": [
      " 46%|████▌     | 17197/37253 [01:55<01:52, 177.99it/s]"
     ]
    },
    {
     "name": "stdout",
     "output_type": "stream",
     "text": [
      "Skipping due to missing or non-string Azure.\n"
     ]
    },
    {
     "name": "stderr",
     "output_type": "stream",
     "text": [
      " 47%|████▋     | 17485/37253 [01:56<01:54, 172.92it/s]"
     ]
    },
    {
     "name": "stdout",
     "output_type": "stream",
     "text": [
      "Skipping due to missing or non-string Azure.\n",
      "Skipping due to missing or non-string Azure.\n",
      "Skipping due to missing or non-string Azure.\n"
     ]
    },
    {
     "name": "stderr",
     "output_type": "stream",
     "text": [
      " 47%|████▋     | 17539/37253 [01:57<01:55, 171.10it/s]"
     ]
    },
    {
     "name": "stdout",
     "output_type": "stream",
     "text": [
      "Skipping due to missing or non-string Azure.\n"
     ]
    },
    {
     "name": "stderr",
     "output_type": "stream",
     "text": [
      " 47%|████▋     | 17593/37253 [01:57<01:55, 170.50it/s]"
     ]
    },
    {
     "name": "stdout",
     "output_type": "stream",
     "text": [
      "Skipping due to missing or non-string Azure.\n",
      "Skipping due to missing or non-string Azure.\n"
     ]
    },
    {
     "name": "stderr",
     "output_type": "stream",
     "text": [
      " 47%|████▋     | 17629/37253 [01:57<01:54, 170.81it/s]"
     ]
    },
    {
     "name": "stdout",
     "output_type": "stream",
     "text": [
      "Skipping due to missing or non-string Azure.\n"
     ]
    },
    {
     "name": "stderr",
     "output_type": "stream",
     "text": [
      " 48%|████▊     | 17719/37253 [01:58<01:52, 173.58it/s]"
     ]
    },
    {
     "name": "stdout",
     "output_type": "stream",
     "text": [
      "Skipping due to missing or non-string Azure.\n"
     ]
    },
    {
     "name": "stderr",
     "output_type": "stream",
     "text": [
      " 48%|████▊     | 17828/37253 [01:58<01:49, 177.20it/s]"
     ]
    },
    {
     "name": "stdout",
     "output_type": "stream",
     "text": [
      "Skipping due to missing or non-string Azure.\n"
     ]
    },
    {
     "name": "stderr",
     "output_type": "stream",
     "text": [
      " 48%|████▊     | 17864/37253 [01:59<01:49, 176.43it/s]"
     ]
    },
    {
     "name": "stdout",
     "output_type": "stream",
     "text": [
      "Skipping due to missing or non-string Azure.\n",
      "Skipping due to missing or non-string Azure.\n",
      "Skipping due to missing or non-string Azure.\n"
     ]
    },
    {
     "name": "stderr",
     "output_type": "stream",
     "text": [
      " 48%|████▊     | 17918/37253 [01:59<01:48, 178.28it/s]"
     ]
    },
    {
     "name": "stdout",
     "output_type": "stream",
     "text": [
      "Skipping due to missing or non-string Azure.\n",
      "Skipping due to missing or non-string Azure.\n"
     ]
    },
    {
     "name": "stderr",
     "output_type": "stream",
     "text": [
      " 49%|████▊     | 18082/37253 [02:00<01:48, 177.05it/s]"
     ]
    },
    {
     "name": "stdout",
     "output_type": "stream",
     "text": [
      "Skipping due to missing or non-string Azure.\n",
      "Skipping due to missing or non-string Azure.\n"
     ]
    },
    {
     "name": "stderr",
     "output_type": "stream",
     "text": [
      " 49%|████▉     | 18208/37253 [02:01<01:50, 172.77it/s]"
     ]
    },
    {
     "name": "stdout",
     "output_type": "stream",
     "text": [
      "Skipping due to missing or non-string Azure.\n"
     ]
    },
    {
     "name": "stderr",
     "output_type": "stream",
     "text": [
      " 49%|████▉     | 18316/37253 [02:01<01:47, 175.61it/s]"
     ]
    },
    {
     "name": "stdout",
     "output_type": "stream",
     "text": [
      "Skipping due to missing or non-string Azure.\n"
     ]
    },
    {
     "name": "stderr",
     "output_type": "stream",
     "text": [
      " 49%|████▉     | 18389/37253 [02:02<01:46, 177.38it/s]"
     ]
    },
    {
     "name": "stdout",
     "output_type": "stream",
     "text": [
      "Skipping due to missing or non-string Azure.\n"
     ]
    },
    {
     "name": "stderr",
     "output_type": "stream",
     "text": [
      " 50%|████▉     | 18479/37253 [02:02<01:45, 177.15it/s]"
     ]
    },
    {
     "name": "stdout",
     "output_type": "stream",
     "text": [
      "Skipping due to missing or non-string Azure.\n"
     ]
    },
    {
     "name": "stderr",
     "output_type": "stream",
     "text": [
      " 50%|████▉     | 18534/37253 [02:02<01:45, 177.63it/s]"
     ]
    },
    {
     "name": "stdout",
     "output_type": "stream",
     "text": [
      "Skipping due to missing or non-string Azure.\n"
     ]
    },
    {
     "name": "stderr",
     "output_type": "stream",
     "text": [
      " 50%|████▉     | 18588/37253 [02:03<01:45, 176.45it/s]"
     ]
    },
    {
     "name": "stdout",
     "output_type": "stream",
     "text": [
      "Skipping due to missing or non-string Azure.\n"
     ]
    },
    {
     "name": "stderr",
     "output_type": "stream",
     "text": [
      " 50%|█████     | 18642/37253 [02:03<01:44, 177.59it/s]"
     ]
    },
    {
     "name": "stdout",
     "output_type": "stream",
     "text": [
      "Skipping due to missing or non-string Azure.\n"
     ]
    },
    {
     "name": "stderr",
     "output_type": "stream",
     "text": [
      " 50%|█████     | 18751/37253 [02:04<01:43, 178.42it/s]"
     ]
    },
    {
     "name": "stdout",
     "output_type": "stream",
     "text": [
      "Skipping due to missing or non-string Azure.\n",
      "Skipping due to missing or non-string Azure.\n"
     ]
    },
    {
     "name": "stderr",
     "output_type": "stream",
     "text": [
      " 50%|█████     | 18787/37253 [02:04<01:45, 175.56it/s]"
     ]
    },
    {
     "name": "stdout",
     "output_type": "stream",
     "text": [
      "Skipping due to missing or non-string Azure.\n"
     ]
    },
    {
     "name": "stderr",
     "output_type": "stream",
     "text": [
      " 51%|█████     | 18877/37253 [02:04<01:44, 176.51it/s]"
     ]
    },
    {
     "name": "stdout",
     "output_type": "stream",
     "text": [
      "Skipping due to missing or non-string Azure.\n"
     ]
    },
    {
     "name": "stderr",
     "output_type": "stream",
     "text": [
      " 51%|█████     | 18967/37253 [02:05<01:43, 177.28it/s]"
     ]
    },
    {
     "name": "stdout",
     "output_type": "stream",
     "text": [
      "Skipping due to missing or non-string Azure.\n"
     ]
    },
    {
     "name": "stderr",
     "output_type": "stream",
     "text": [
      " 51%|█████     | 19040/37253 [02:05<01:42, 178.06it/s]"
     ]
    },
    {
     "name": "stdout",
     "output_type": "stream",
     "text": [
      "Skipping due to missing or non-string Azure.\n",
      "Skipping due to missing or non-string Azure.\n",
      "Skipping due to missing or non-string Azure.\n"
     ]
    },
    {
     "name": "stderr",
     "output_type": "stream",
     "text": [
      " 51%|█████▏    | 19096/37253 [02:06<01:41, 178.76it/s]"
     ]
    },
    {
     "name": "stdout",
     "output_type": "stream",
     "text": [
      "Skipping due to missing or non-string Azure.\n",
      "Skipping due to missing or non-string Azure.\n",
      "Skipping due to missing or non-string Azure.\n"
     ]
    },
    {
     "name": "stderr",
     "output_type": "stream",
     "text": [
      " 51%|█████▏    | 19168/37253 [02:06<01:41, 177.35it/s]"
     ]
    },
    {
     "name": "stdout",
     "output_type": "stream",
     "text": [
      "Skipping due to missing or non-string Azure.\n"
     ]
    },
    {
     "name": "stderr",
     "output_type": "stream",
     "text": [
      " 52%|█████▏    | 19258/37253 [02:07<01:42, 175.86it/s]"
     ]
    },
    {
     "name": "stdout",
     "output_type": "stream",
     "text": [
      "Skipping due to missing or non-string Azure.\n"
     ]
    },
    {
     "name": "stderr",
     "output_type": "stream",
     "text": [
      " 52%|█████▏    | 19331/37253 [02:07<01:41, 177.32it/s]"
     ]
    },
    {
     "name": "stdout",
     "output_type": "stream",
     "text": [
      "Skipping due to missing or non-string Azure.\n"
     ]
    },
    {
     "name": "stderr",
     "output_type": "stream",
     "text": [
      " 53%|█████▎    | 19603/37253 [02:09<01:39, 177.50it/s]"
     ]
    },
    {
     "name": "stdout",
     "output_type": "stream",
     "text": [
      "Skipping due to missing or non-string Azure.\n"
     ]
    },
    {
     "name": "stderr",
     "output_type": "stream",
     "text": [
      " 53%|█████▎    | 19675/37253 [02:09<01:39, 177.35it/s]"
     ]
    },
    {
     "name": "stdout",
     "output_type": "stream",
     "text": [
      "Skipping due to missing or non-string Azure.\n",
      "Skipping due to missing or non-string Azure.\n"
     ]
    },
    {
     "name": "stderr",
     "output_type": "stream",
     "text": [
      " 53%|█████▎    | 19729/37253 [02:09<01:39, 177.00it/s]"
     ]
    },
    {
     "name": "stdout",
     "output_type": "stream",
     "text": [
      "Skipping due to missing or non-string Azure.\n",
      "Skipping due to missing or non-string Azure.\n",
      "Skipping due to missing or non-string Azure.\n"
     ]
    },
    {
     "name": "stderr",
     "output_type": "stream",
     "text": [
      " 53%|█████▎    | 19893/37253 [02:10<01:37, 178.26it/s]"
     ]
    },
    {
     "name": "stdout",
     "output_type": "stream",
     "text": [
      "Skipping due to missing or non-string Azure.\n"
     ]
    },
    {
     "name": "stderr",
     "output_type": "stream",
     "text": [
      " 54%|█████▎    | 19965/37253 [02:11<01:38, 175.38it/s]"
     ]
    },
    {
     "name": "stdout",
     "output_type": "stream",
     "text": [
      "Skipping due to missing or non-string Azure.\n",
      "Skipping due to missing or non-string Azure.\n",
      "Skipping due to missing or non-string Azure.\n"
     ]
    },
    {
     "name": "stderr",
     "output_type": "stream",
     "text": [
      " 54%|█████▍    | 20038/37253 [02:11<01:36, 177.94it/s]"
     ]
    },
    {
     "name": "stdout",
     "output_type": "stream",
     "text": [
      "Skipping due to missing or non-string Azure.\n",
      "Skipping due to missing or non-string Azure.\n",
      "Skipping due to missing or non-string Azure.\n",
      "Skipping due to missing or non-string Azure.\n"
     ]
    },
    {
     "name": "stderr",
     "output_type": "stream",
     "text": [
      " 54%|█████▍    | 20092/37253 [02:11<01:37, 175.40it/s]"
     ]
    },
    {
     "name": "stdout",
     "output_type": "stream",
     "text": [
      "Skipping due to missing or non-string Azure.\n"
     ]
    },
    {
     "name": "stderr",
     "output_type": "stream",
     "text": [
      " 54%|█████▍    | 20239/37253 [02:12<01:35, 178.84it/s]"
     ]
    },
    {
     "name": "stdout",
     "output_type": "stream",
     "text": [
      "Skipping due to missing or non-string Azure.\n"
     ]
    },
    {
     "name": "stderr",
     "output_type": "stream",
     "text": [
      " 54%|█████▍    | 20293/37253 [02:12<01:34, 178.79it/s]"
     ]
    },
    {
     "name": "stdout",
     "output_type": "stream",
     "text": [
      "Skipping due to missing or non-string Azure.\n",
      "Skipping due to missing or non-string Azure.\n"
     ]
    },
    {
     "name": "stderr",
     "output_type": "stream",
     "text": [
      " 55%|█████▍    | 20367/37253 [02:13<01:34, 177.99it/s]"
     ]
    },
    {
     "name": "stdout",
     "output_type": "stream",
     "text": [
      "Skipping due to missing or non-string Azure.\n",
      "Skipping due to missing or non-string Azure.\n"
     ]
    },
    {
     "name": "stderr",
     "output_type": "stream",
     "text": [
      " 55%|█████▌    | 20497/37253 [02:14<01:33, 180.15it/s]"
     ]
    },
    {
     "name": "stdout",
     "output_type": "stream",
     "text": [
      "Skipping due to missing or non-string Azure.\n",
      "Skipping due to missing or non-string Azure.\n"
     ]
    },
    {
     "name": "stderr",
     "output_type": "stream",
     "text": [
      " 55%|█████▌    | 20642/37253 [02:14<01:38, 169.45it/s]"
     ]
    },
    {
     "name": "stdout",
     "output_type": "stream",
     "text": [
      "Skipping due to missing or non-string Azure.\n"
     ]
    },
    {
     "name": "stderr",
     "output_type": "stream",
     "text": [
      " 56%|█████▋    | 21003/37253 [02:16<01:31, 177.72it/s]"
     ]
    },
    {
     "name": "stdout",
     "output_type": "stream",
     "text": [
      "Skipping due to missing or non-string Azure.\n",
      "Skipping due to missing or non-string Azure.\n"
     ]
    },
    {
     "name": "stderr",
     "output_type": "stream",
     "text": [
      " 57%|█████▋    | 21058/37253 [02:17<01:31, 177.15it/s]"
     ]
    },
    {
     "name": "stdout",
     "output_type": "stream",
     "text": [
      "Skipping due to missing or non-string Azure.\n"
     ]
    },
    {
     "name": "stderr",
     "output_type": "stream",
     "text": [
      " 57%|█████▋    | 21112/37253 [02:17<01:31, 176.29it/s]"
     ]
    },
    {
     "name": "stdout",
     "output_type": "stream",
     "text": [
      "Skipping due to missing or non-string Azure.\n",
      "Skipping due to missing or non-string Azure.\n"
     ]
    },
    {
     "name": "stderr",
     "output_type": "stream",
     "text": [
      " 57%|█████▋    | 21239/37253 [02:18<01:30, 176.62it/s]"
     ]
    },
    {
     "name": "stdout",
     "output_type": "stream",
     "text": [
      "Skipping due to missing or non-string Azure.\n",
      "Skipping due to missing or non-string Azure.\n"
     ]
    },
    {
     "name": "stderr",
     "output_type": "stream",
     "text": [
      " 57%|█████▋    | 21311/37253 [02:18<01:31, 173.74it/s]"
     ]
    },
    {
     "name": "stdout",
     "output_type": "stream",
     "text": [
      "Skipping due to missing or non-string Azure.\n"
     ]
    },
    {
     "name": "stderr",
     "output_type": "stream",
     "text": [
      " 58%|█████▊    | 21458/37253 [02:19<01:28, 177.98it/s]"
     ]
    },
    {
     "name": "stdout",
     "output_type": "stream",
     "text": [
      "Skipping due to missing or non-string Azure.\n"
     ]
    },
    {
     "name": "stderr",
     "output_type": "stream",
     "text": [
      " 58%|█████▊    | 21550/37253 [02:20<01:27, 179.77it/s]"
     ]
    },
    {
     "name": "stdout",
     "output_type": "stream",
     "text": [
      "Skipping due to missing or non-string Azure.\n",
      "Skipping due to missing or non-string Azure.\n"
     ]
    },
    {
     "name": "stderr",
     "output_type": "stream",
     "text": [
      " 58%|█████▊    | 21731/37253 [02:21<01:27, 177.67it/s]"
     ]
    },
    {
     "name": "stdout",
     "output_type": "stream",
     "text": [
      "Skipping due to missing or non-string Azure.\n"
     ]
    },
    {
     "name": "stderr",
     "output_type": "stream",
     "text": [
      " 58%|█████▊    | 21785/37253 [02:21<01:27, 177.29it/s]"
     ]
    },
    {
     "name": "stdout",
     "output_type": "stream",
     "text": [
      "Skipping due to missing or non-string Azure.\n"
     ]
    },
    {
     "name": "stderr",
     "output_type": "stream",
     "text": [
      " 59%|█████▊    | 21859/37253 [02:21<01:26, 178.42it/s]"
     ]
    },
    {
     "name": "stdout",
     "output_type": "stream",
     "text": [
      "Skipping due to missing or non-string Azure.\n"
     ]
    },
    {
     "name": "stderr",
     "output_type": "stream",
     "text": [
      " 59%|█████▉    | 21913/37253 [02:22<01:26, 177.46it/s]"
     ]
    },
    {
     "name": "stdout",
     "output_type": "stream",
     "text": [
      "Skipping due to missing or non-string Azure.\n"
     ]
    },
    {
     "name": "stderr",
     "output_type": "stream",
     "text": [
      " 59%|█████▉    | 21985/37253 [02:22<01:26, 176.34it/s]"
     ]
    },
    {
     "name": "stdout",
     "output_type": "stream",
     "text": [
      "Skipping due to missing or non-string Azure.\n",
      "Skipping due to missing or non-string Azure.\n"
     ]
    },
    {
     "name": "stderr",
     "output_type": "stream",
     "text": [
      " 59%|█████▉    | 22021/37253 [02:22<01:27, 174.62it/s]"
     ]
    },
    {
     "name": "stdout",
     "output_type": "stream",
     "text": [
      "Skipping due to missing or non-string Azure.\n",
      "Skipping due to missing or non-string Azure.\n"
     ]
    },
    {
     "name": "stderr",
     "output_type": "stream",
     "text": [
      " 59%|█████▉    | 22094/37253 [02:23<01:25, 177.54it/s]"
     ]
    },
    {
     "name": "stdout",
     "output_type": "stream",
     "text": [
      "Skipping due to missing or non-string Azure.\n"
     ]
    },
    {
     "name": "stderr",
     "output_type": "stream",
     "text": [
      " 59%|█████▉    | 22130/37253 [02:23<01:25, 176.18it/s]"
     ]
    },
    {
     "name": "stdout",
     "output_type": "stream",
     "text": [
      "Skipping due to missing or non-string Azure.\n"
     ]
    },
    {
     "name": "stderr",
     "output_type": "stream",
     "text": [
      " 60%|█████▉    | 22282/37253 [02:24<01:20, 185.30it/s]"
     ]
    },
    {
     "name": "stdout",
     "output_type": "stream",
     "text": [
      "Skipping due to missing or non-string Azure.\n"
     ]
    },
    {
     "name": "stderr",
     "output_type": "stream",
     "text": [
      " 60%|██████    | 22415/37253 [02:24<01:20, 184.68it/s]"
     ]
    },
    {
     "name": "stdout",
     "output_type": "stream",
     "text": [
      "Skipping due to missing or non-string Azure.\n"
     ]
    },
    {
     "name": "stderr",
     "output_type": "stream",
     "text": [
      " 60%|██████    | 22529/37253 [02:25<01:20, 183.67it/s]"
     ]
    },
    {
     "name": "stdout",
     "output_type": "stream",
     "text": [
      "Skipping due to missing or non-string Azure.\n"
     ]
    },
    {
     "name": "stderr",
     "output_type": "stream",
     "text": [
      " 61%|██████    | 22734/37253 [02:26<01:21, 177.68it/s]"
     ]
    },
    {
     "name": "stdout",
     "output_type": "stream",
     "text": [
      "Skipping due to missing or non-string Azure.\n",
      "Skipping due to missing or non-string Azure.\n"
     ]
    },
    {
     "name": "stderr",
     "output_type": "stream",
     "text": [
      " 61%|██████▏   | 22825/37253 [02:27<01:22, 175.22it/s]"
     ]
    },
    {
     "name": "stdout",
     "output_type": "stream",
     "text": [
      "Skipping due to missing or non-string Azure.\n"
     ]
    },
    {
     "name": "stderr",
     "output_type": "stream",
     "text": [
      " 62%|██████▏   | 22937/37253 [02:27<01:18, 182.48it/s]"
     ]
    },
    {
     "name": "stdout",
     "output_type": "stream",
     "text": [
      "Skipping due to missing or non-string Azure.\n"
     ]
    },
    {
     "name": "stderr",
     "output_type": "stream",
     "text": [
      " 62%|██████▏   | 23032/37253 [02:28<01:19, 179.42it/s]"
     ]
    },
    {
     "name": "stdout",
     "output_type": "stream",
     "text": [
      "Skipping due to missing or non-string Azure.\n"
     ]
    },
    {
     "name": "stderr",
     "output_type": "stream",
     "text": [
      " 62%|██████▏   | 23126/37253 [02:28<01:18, 180.49it/s]"
     ]
    },
    {
     "name": "stdout",
     "output_type": "stream",
     "text": [
      "Skipping due to missing or non-string Azure.\n"
     ]
    },
    {
     "name": "stderr",
     "output_type": "stream",
     "text": [
      " 62%|██████▏   | 23164/37253 [02:29<01:18, 180.04it/s]"
     ]
    },
    {
     "name": "stdout",
     "output_type": "stream",
     "text": [
      "Skipping due to missing or non-string Azure.\n"
     ]
    },
    {
     "name": "stderr",
     "output_type": "stream",
     "text": [
      " 63%|██████▎   | 23315/37253 [02:29<01:15, 183.60it/s]"
     ]
    },
    {
     "name": "stdout",
     "output_type": "stream",
     "text": [
      "Skipping due to missing or non-string Azure.\n",
      "Skipping due to missing or non-string Azure.\n"
     ]
    },
    {
     "name": "stderr",
     "output_type": "stream",
     "text": [
      " 63%|██████▎   | 23391/37253 [02:30<01:15, 183.02it/s]"
     ]
    },
    {
     "name": "stdout",
     "output_type": "stream",
     "text": [
      "Skipping due to missing or non-string Azure.\n",
      "Skipping due to missing or non-string Azure.\n"
     ]
    },
    {
     "name": "stderr",
     "output_type": "stream",
     "text": [
      " 63%|██████▎   | 23448/37253 [02:30<01:14, 184.41it/s]"
     ]
    },
    {
     "name": "stdout",
     "output_type": "stream",
     "text": [
      "Skipping due to missing or non-string Azure.\n"
     ]
    },
    {
     "name": "stderr",
     "output_type": "stream",
     "text": [
      " 63%|██████▎   | 23486/37253 [02:30<01:14, 185.25it/s]"
     ]
    },
    {
     "name": "stdout",
     "output_type": "stream",
     "text": [
      "Skipping due to missing or non-string Azure.\n"
     ]
    },
    {
     "name": "stderr",
     "output_type": "stream",
     "text": [
      " 63%|██████▎   | 23543/37253 [02:31<01:15, 181.42it/s]"
     ]
    },
    {
     "name": "stdout",
     "output_type": "stream",
     "text": [
      "Skipping due to missing or non-string Azure.\n"
     ]
    },
    {
     "name": "stderr",
     "output_type": "stream",
     "text": [
      " 64%|██████▍   | 23752/37253 [02:32<01:13, 183.12it/s]"
     ]
    },
    {
     "name": "stdout",
     "output_type": "stream",
     "text": [
      "Skipping due to missing or non-string Azure.\n"
     ]
    },
    {
     "name": "stderr",
     "output_type": "stream",
     "text": [
      " 64%|██████▍   | 23980/37253 [02:33<01:12, 182.19it/s]"
     ]
    },
    {
     "name": "stdout",
     "output_type": "stream",
     "text": [
      "Skipping due to missing or non-string Azure.\n"
     ]
    },
    {
     "name": "stderr",
     "output_type": "stream",
     "text": [
      " 65%|██████▍   | 24132/37253 [02:34<01:11, 184.21it/s]"
     ]
    },
    {
     "name": "stdout",
     "output_type": "stream",
     "text": [
      "Skipping due to missing or non-string Azure.\n"
     ]
    },
    {
     "name": "stderr",
     "output_type": "stream",
     "text": [
      " 65%|██████▌   | 24227/37253 [02:34<01:10, 184.01it/s]"
     ]
    },
    {
     "name": "stdout",
     "output_type": "stream",
     "text": [
      "Skipping due to missing or non-string Azure.\n"
     ]
    },
    {
     "name": "stderr",
     "output_type": "stream",
     "text": [
      " 65%|██████▌   | 24303/37253 [02:35<01:11, 182.35it/s]"
     ]
    },
    {
     "name": "stdout",
     "output_type": "stream",
     "text": [
      "Skipping due to missing or non-string Azure.\n"
     ]
    },
    {
     "name": "stderr",
     "output_type": "stream",
     "text": [
      " 65%|██████▌   | 24379/37253 [02:35<01:10, 181.56it/s]"
     ]
    },
    {
     "name": "stdout",
     "output_type": "stream",
     "text": [
      "Skipping due to missing or non-string Azure.\n"
     ]
    },
    {
     "name": "stderr",
     "output_type": "stream",
     "text": [
      " 66%|██████▋   | 24720/37253 [02:37<01:09, 181.16it/s]"
     ]
    },
    {
     "name": "stdout",
     "output_type": "stream",
     "text": [
      "Skipping due to missing or non-string Azure.\n"
     ]
    },
    {
     "name": "stderr",
     "output_type": "stream",
     "text": [
      " 67%|██████▋   | 24777/37253 [02:37<01:08, 182.95it/s]"
     ]
    },
    {
     "name": "stdout",
     "output_type": "stream",
     "text": [
      "Skipping due to missing or non-string Azure.\n",
      "Skipping due to missing or non-string Azure.\n"
     ]
    },
    {
     "name": "stderr",
     "output_type": "stream",
     "text": [
      " 67%|██████▋   | 24851/37253 [02:38<01:13, 169.83it/s]"
     ]
    },
    {
     "name": "stdout",
     "output_type": "stream",
     "text": [
      "Skipping due to missing or non-string Azure.\n"
     ]
    },
    {
     "name": "stderr",
     "output_type": "stream",
     "text": [
      " 67%|██████▋   | 24994/37253 [02:39<01:10, 173.54it/s]"
     ]
    },
    {
     "name": "stdout",
     "output_type": "stream",
     "text": [
      "Skipping due to missing or non-string Azure.\n"
     ]
    },
    {
     "name": "stderr",
     "output_type": "stream",
     "text": [
      " 67%|██████▋   | 25105/37253 [02:39<01:07, 180.35it/s]"
     ]
    },
    {
     "name": "stdout",
     "output_type": "stream",
     "text": [
      "Skipping due to missing or non-string Azure.\n",
      "Skipping due to missing or non-string Azure.\n"
     ]
    },
    {
     "name": "stderr",
     "output_type": "stream",
     "text": [
      " 68%|██████▊   | 25295/37253 [02:40<01:05, 182.79it/s]"
     ]
    },
    {
     "name": "stdout",
     "output_type": "stream",
     "text": [
      "Skipping due to missing or non-string Azure.\n"
     ]
    },
    {
     "name": "stderr",
     "output_type": "stream",
     "text": [
      " 68%|██████▊   | 25390/37253 [02:41<01:05, 181.90it/s]"
     ]
    },
    {
     "name": "stdout",
     "output_type": "stream",
     "text": [
      "Skipping due to missing or non-string Azure.\n"
     ]
    },
    {
     "name": "stderr",
     "output_type": "stream",
     "text": [
      " 69%|██████▊   | 25542/37253 [02:42<01:04, 182.40it/s]"
     ]
    },
    {
     "name": "stdout",
     "output_type": "stream",
     "text": [
      "Skipping due to missing or non-string Azure.\n",
      "Skipping due to missing or non-string Azure.\n"
     ]
    },
    {
     "name": "stderr",
     "output_type": "stream",
     "text": [
      " 69%|██████▉   | 25827/37253 [02:43<01:02, 182.31it/s]"
     ]
    },
    {
     "name": "stdout",
     "output_type": "stream",
     "text": [
      "Skipping due to missing or non-string Azure.\n"
     ]
    },
    {
     "name": "stderr",
     "output_type": "stream",
     "text": [
      " 70%|███████   | 26226/37253 [02:45<01:00, 183.36it/s]"
     ]
    },
    {
     "name": "stdout",
     "output_type": "stream",
     "text": [
      "Skipping due to missing or non-string Azure.\n"
     ]
    },
    {
     "name": "stderr",
     "output_type": "stream",
     "text": [
      " 71%|███████   | 26264/37253 [02:46<00:59, 183.29it/s]"
     ]
    },
    {
     "name": "stdout",
     "output_type": "stream",
     "text": [
      "Skipping due to missing or non-string Azure.\n"
     ]
    },
    {
     "name": "stderr",
     "output_type": "stream",
     "text": [
      " 71%|███████   | 26454/37253 [02:47<00:59, 181.02it/s]"
     ]
    },
    {
     "name": "stdout",
     "output_type": "stream",
     "text": [
      "Skipping due to missing or non-string Azure.\n"
     ]
    },
    {
     "name": "stderr",
     "output_type": "stream",
     "text": [
      " 72%|███████▏  | 26968/37253 [02:50<00:57, 178.63it/s]"
     ]
    },
    {
     "name": "stdout",
     "output_type": "stream",
     "text": [
      "Skipping due to missing or non-string Azure.\n"
     ]
    },
    {
     "name": "stderr",
     "output_type": "stream",
     "text": [
      " 73%|███████▎  | 27081/37253 [02:50<00:56, 179.42it/s]"
     ]
    },
    {
     "name": "stdout",
     "output_type": "stream",
     "text": [
      "Skipping due to missing or non-string Azure.\n"
     ]
    },
    {
     "name": "stderr",
     "output_type": "stream",
     "text": [
      " 73%|███████▎  | 27154/37253 [02:51<00:56, 178.75it/s]"
     ]
    },
    {
     "name": "stdout",
     "output_type": "stream",
     "text": [
      "Skipping due to missing or non-string Azure.\n"
     ]
    },
    {
     "name": "stderr",
     "output_type": "stream",
     "text": [
      " 73%|███████▎  | 27337/37253 [02:52<00:55, 177.09it/s]"
     ]
    },
    {
     "name": "stdout",
     "output_type": "stream",
     "text": [
      "Skipping due to missing or non-string Azure.\n",
      "Skipping due to missing or non-string Azure.\n"
     ]
    },
    {
     "name": "stderr",
     "output_type": "stream",
     "text": [
      " 74%|███████▎  | 27393/37253 [02:52<00:55, 178.85it/s]"
     ]
    },
    {
     "name": "stdout",
     "output_type": "stream",
     "text": [
      "Skipping due to missing or non-string Azure.\n"
     ]
    },
    {
     "name": "stderr",
     "output_type": "stream",
     "text": [
      " 74%|███████▍  | 27544/37253 [02:53<00:52, 183.54it/s]"
     ]
    },
    {
     "name": "stdout",
     "output_type": "stream",
     "text": [
      "Skipping due to missing or non-string Azure.\n"
     ]
    },
    {
     "name": "stderr",
     "output_type": "stream",
     "text": [
      " 75%|███████▍  | 27867/37253 [02:55<00:51, 182.67it/s]"
     ]
    },
    {
     "name": "stdout",
     "output_type": "stream",
     "text": [
      "Skipping due to missing or non-string Azure.\n"
     ]
    },
    {
     "name": "stderr",
     "output_type": "stream",
     "text": [
      " 76%|███████▌  | 28238/37253 [02:57<00:52, 173.27it/s]"
     ]
    },
    {
     "name": "stdout",
     "output_type": "stream",
     "text": [
      "Skipping due to missing or non-string Azure.\n"
     ]
    },
    {
     "name": "stderr",
     "output_type": "stream",
     "text": [
      " 78%|███████▊  | 29236/37253 [03:02<00:44, 179.62it/s]"
     ]
    },
    {
     "name": "stdout",
     "output_type": "stream",
     "text": [
      "Skipping due to missing or non-string Azure.\n"
     ]
    },
    {
     "name": "stderr",
     "output_type": "stream",
     "text": [
      " 80%|███████▉  | 29633/37253 [03:04<00:42, 179.69it/s]"
     ]
    },
    {
     "name": "stdout",
     "output_type": "stream",
     "text": [
      "Skipping due to missing or non-string Azure.\n"
     ]
    },
    {
     "name": "stderr",
     "output_type": "stream",
     "text": [
      " 81%|████████  | 30080/37253 [03:07<00:41, 174.81it/s]"
     ]
    },
    {
     "name": "stdout",
     "output_type": "stream",
     "text": [
      "Skipping due to missing or non-string Azure.\n",
      "Skipping due to missing or non-string Azure.\n"
     ]
    },
    {
     "name": "stderr",
     "output_type": "stream",
     "text": [
      " 81%|████████  | 30172/37253 [03:07<00:39, 179.78it/s]"
     ]
    },
    {
     "name": "stdout",
     "output_type": "stream",
     "text": [
      "Skipping due to missing or non-string Azure.\n",
      "Skipping due to missing or non-string Azure.\n"
     ]
    },
    {
     "name": "stderr",
     "output_type": "stream",
     "text": [
      " 81%|████████  | 30247/37253 [03:08<00:38, 180.56it/s]"
     ]
    },
    {
     "name": "stdout",
     "output_type": "stream",
     "text": [
      "Skipping due to missing or non-string Azure.\n",
      "Skipping due to missing or non-string Azure.\n"
     ]
    },
    {
     "name": "stderr",
     "output_type": "stream",
     "text": [
      " 81%|████████▏ | 30285/37253 [03:08<00:38, 179.58it/s]"
     ]
    },
    {
     "name": "stdout",
     "output_type": "stream",
     "text": [
      "Skipping due to missing or non-string Azure.\n"
     ]
    },
    {
     "name": "stderr",
     "output_type": "stream",
     "text": [
      " 81%|████████▏ | 30321/37253 [03:08<00:39, 176.48it/s]"
     ]
    },
    {
     "name": "stdout",
     "output_type": "stream",
     "text": [
      "Skipping due to missing or non-string Azure.\n"
     ]
    },
    {
     "name": "stderr",
     "output_type": "stream",
     "text": [
      " 82%|████████▏ | 30396/37253 [03:09<00:38, 180.22it/s]"
     ]
    },
    {
     "name": "stdout",
     "output_type": "stream",
     "text": [
      "Skipping due to missing or non-string Azure.\n",
      "Skipping due to missing or non-string Azure.\n",
      "Skipping due to missing or non-string Azure.\n"
     ]
    },
    {
     "name": "stderr",
     "output_type": "stream",
     "text": [
      " 82%|████████▏ | 30491/37253 [03:09<00:37, 182.12it/s]"
     ]
    },
    {
     "name": "stdout",
     "output_type": "stream",
     "text": [
      "Skipping due to missing or non-string Azure.\n",
      "Skipping due to missing or non-string Azure.\n"
     ]
    },
    {
     "name": "stderr",
     "output_type": "stream",
     "text": [
      " 82%|████████▏ | 30586/37253 [03:10<00:36, 184.46it/s]"
     ]
    },
    {
     "name": "stdout",
     "output_type": "stream",
     "text": [
      "Skipping due to missing or non-string Azure.\n"
     ]
    },
    {
     "name": "stderr",
     "output_type": "stream",
     "text": [
      " 82%|████████▏ | 30662/37253 [03:10<00:36, 182.90it/s]"
     ]
    },
    {
     "name": "stdout",
     "output_type": "stream",
     "text": [
      "Skipping due to missing or non-string Azure.\n",
      "Skipping due to missing or non-string Azure.\n",
      "Skipping due to missing or non-string Azure.\n"
     ]
    },
    {
     "name": "stderr",
     "output_type": "stream",
     "text": [
      " 82%|████████▏ | 30700/37253 [03:10<00:35, 182.08it/s]"
     ]
    },
    {
     "name": "stdout",
     "output_type": "stream",
     "text": [
      "Skipping due to missing or non-string Azure.\n"
     ]
    },
    {
     "name": "stderr",
     "output_type": "stream",
     "text": [
      " 88%|████████▊ | 32706/37253 [03:21<00:25, 177.32it/s]"
     ]
    },
    {
     "name": "stdout",
     "output_type": "stream",
     "text": [
      "Skipping due to missing or non-string Azure.\n"
     ]
    },
    {
     "name": "stderr",
     "output_type": "stream",
     "text": [
      " 90%|█████████ | 33709/37253 [03:27<00:19, 180.98it/s]"
     ]
    },
    {
     "name": "stdout",
     "output_type": "stream",
     "text": [
      "Skipping due to missing or non-string Azure.\n"
     ]
    },
    {
     "name": "stderr",
     "output_type": "stream",
     "text": [
      " 91%|█████████▏| 33994/37253 [03:29<00:17, 183.23it/s]"
     ]
    },
    {
     "name": "stdout",
     "output_type": "stream",
     "text": [
      "Skipping due to missing or non-string Azure.\n"
     ]
    },
    {
     "name": "stderr",
     "output_type": "stream",
     "text": [
      " 91%|█████████▏| 34051/37253 [03:29<00:17, 180.49it/s]"
     ]
    },
    {
     "name": "stdout",
     "output_type": "stream",
     "text": [
      "Skipping due to missing or non-string Azure.\n",
      "Skipping: One of the rows is empty.\n"
     ]
    },
    {
     "name": "stderr",
     "output_type": "stream",
     "text": [
      " 92%|█████████▏| 34108/37253 [03:29<00:17, 179.81it/s]"
     ]
    },
    {
     "name": "stdout",
     "output_type": "stream",
     "text": [
      "Skipping: One of the rows is empty.\n"
     ]
    },
    {
     "name": "stderr",
     "output_type": "stream",
     "text": [
      " 93%|█████████▎| 34601/37253 [03:32<00:14, 184.33it/s]"
     ]
    },
    {
     "name": "stdout",
     "output_type": "stream",
     "text": [
      "Skipping: One of the rows is empty.\n"
     ]
    },
    {
     "name": "stderr",
     "output_type": "stream",
     "text": [
      " 94%|█████████▎| 34848/37253 [03:33<00:13, 179.89it/s]"
     ]
    },
    {
     "name": "stdout",
     "output_type": "stream",
     "text": [
      "Skipping due to missing or non-string Azure.\n"
     ]
    },
    {
     "name": "stderr",
     "output_type": "stream",
     "text": [
      " 94%|█████████▍| 34962/37253 [03:34<00:12, 181.49it/s]"
     ]
    },
    {
     "name": "stdout",
     "output_type": "stream",
     "text": [
      "Skipping due to missing or non-string Azure.\n"
     ]
    },
    {
     "name": "stderr",
     "output_type": "stream",
     "text": [
      " 96%|█████████▋| 35867/37253 [03:39<00:08, 168.30it/s]"
     ]
    },
    {
     "name": "stdout",
     "output_type": "stream",
     "text": [
      "Skipping due to missing or non-string Azure.\n",
      "Skipping due to missing or non-string Azure.\n"
     ]
    },
    {
     "name": "stderr",
     "output_type": "stream",
     "text": [
      "100%|██████████| 37253/37253 [03:47<00:00, 164.02it/s]\n"
     ]
    }
   ],
   "source": [
    "na_count_large = 0\n",
    "na_count_cleaned = 0\n",
    "for index, row in tqdm(net_aigenerated_data_azure.iterrows(), total=len(net_aigenerated_data_azure)):\n",
    "    \n",
    "    mask_large = (\n",
    "        (net_aigenerated_data_azure[\"Filename\"] == row[\"Filename\"]) &\n",
    "        (net_aigenerated_data_azure[\"Start_time\"] == row[\"Start_time\"])\n",
    "    )\n",
    "\n",
    "    mask_net = (\n",
    "        (net_data[\"Filename\"] == row[\"Filename\"]) &\n",
    "        (net_data[\"Start_time\"] == row[\"Start_time\"])\n",
    "    )\n",
    "\n",
    "    \n",
    "    large_row = net_aigenerated_data_azure.loc[mask_large]\n",
    "    net_row = net_data.loc[mask_net]\n",
    "\n",
    "    # print(large_row)\n",
    "    # print('\\n\\n\\n\\n')\n",
    "    # print(net_row)\n",
    "    \n",
    "    if large_row.empty or net_row.empty:\n",
    "        print(\"Skipping: One of the rows is empty.\")\n",
    "        continue\n",
    "        \n",
    "    azure = large_row[\"Azure\"].values[0]\n",
    "    cleaned_transcript = net_row[\"Cleaned_Transcript\"].values[0]\n",
    "    \n",
    "    if pd.isna(azure) or not isinstance(azure, str):\n",
    "        print(\"Skipping due to missing or non-string Azure.\")\n",
    "        na_count_large = na_count_large + 1\n",
    "        continue\n",
    "    if pd.isna(cleaned_transcript) or not isinstance(cleaned_transcript, str):\n",
    "        print(\"Skipping due to missing or non-string Cleaned_Transcript.\")\n",
    "        na_count_cleaned = na_count_cleaned + 1\n",
    "        continue\n",
    "\n",
    "    try:\n",
    "        \n",
    "        wer_value = wer(azure, cleaned_transcript)\n",
    "        \n",
    "        net_aigenerated_data_azure.loc[mask_large, \"WER\"] = wer_value\n",
    "        \n",
    "        stutterance_count = net_row[\"Stutterance_Count\"].values[0]\n",
    "        net_aigenerated_data_azure.loc[mask_large, \"Stutterance_Count\"] = stutterance_count\n",
    "\n",
    "        # Verify assignment\n",
    "        # print(f'Assigned Stutterance_Count: {stutterance_count}')\n",
    "        # print(net_aigenerated_data_azure.loc[mask_large, \"Stutterance_Count\"])\n",
    "\n",
    "    except Exception as e:\n",
    "        print(f'ERROR: {e}')\n",
    "        print('Occurred with the following data:')\n",
    "        print(large_row)\n",
    "        print(net_row)\n",
    "        \n",
    "net_aigenerated_data_azure = net_aigenerated_data_azure.assign(NA_Count=na_count_large)\n",
    "net_aigenerated_data_azure = net_aigenerated_data_azure.assign(NA_Cleaned_Count=na_count_cleaned)"
   ]
  },
  {
   "cell_type": "code",
   "execution_count": 11,
   "id": "6bc3731c-0be0-4659-955b-5d47f7e33137",
   "metadata": {
    "tags": []
   },
   "outputs": [
    {
     "data": {
      "text/html": [
       "<div>\n",
       "<style scoped>\n",
       "    .dataframe tbody tr th:only-of-type {\n",
       "        vertical-align: middle;\n",
       "    }\n",
       "\n",
       "    .dataframe tbody tr th {\n",
       "        vertical-align: top;\n",
       "    }\n",
       "\n",
       "    .dataframe thead th {\n",
       "        text-align: right;\n",
       "    }\n",
       "</style>\n",
       "<table border=\"1\" class=\"dataframe\">\n",
       "  <thead>\n",
       "    <tr style=\"text-align: right;\">\n",
       "      <th></th>\n",
       "      <th>Filename</th>\n",
       "      <th>Start_time</th>\n",
       "      <th>End_time</th>\n",
       "      <th>Azure</th>\n",
       "      <th>WER</th>\n",
       "      <th>Stutterance_Count</th>\n",
       "      <th>NA_Count</th>\n",
       "      <th>NA_Cleaned_Count</th>\n",
       "    </tr>\n",
       "  </thead>\n",
       "  <tbody>\n",
       "    <tr>\n",
       "      <th>0</th>\n",
       "      <td>D0001_A</td>\n",
       "      <td>2081.540000</td>\n",
       "      <td>2109.650000</td>\n",
       "      <td>我说出来就比较的需要时间啊，然后那个嗯识别的它的它就是它等你一会儿你那个话还没有说完的，还没...</td>\n",
       "      <td>0.072165</td>\n",
       "      <td>1.0</td>\n",
       "      <td>470</td>\n",
       "      <td>0</td>\n",
       "    </tr>\n",
       "    <tr>\n",
       "      <th>1</th>\n",
       "      <td>D0001_A</td>\n",
       "      <td>790.130000</td>\n",
       "      <td>796.580000</td>\n",
       "      <td>电视剧。</td>\n",
       "      <td>0.600000</td>\n",
       "      <td>1.0</td>\n",
       "      <td>470</td>\n",
       "      <td>0</td>\n",
       "    </tr>\n",
       "    <tr>\n",
       "      <th>2</th>\n",
       "      <td>D0001_A</td>\n",
       "      <td>1562.083518</td>\n",
       "      <td>1586.220000</td>\n",
       "      <td>这部剧是不怎么？</td>\n",
       "      <td>0.875000</td>\n",
       "      <td>10.0</td>\n",
       "      <td>470</td>\n",
       "      <td>0</td>\n",
       "    </tr>\n",
       "    <tr>\n",
       "      <th>3</th>\n",
       "      <td>D0001_A</td>\n",
       "      <td>2016.780000</td>\n",
       "      <td>2035.673559</td>\n",
       "      <td>很很精准，对。</td>\n",
       "      <td>0.868421</td>\n",
       "      <td>7.0</td>\n",
       "      <td>470</td>\n",
       "      <td>0</td>\n",
       "    </tr>\n",
       "    <tr>\n",
       "      <th>4</th>\n",
       "      <td>D0001_A</td>\n",
       "      <td>1682.670000</td>\n",
       "      <td>1709.110000</td>\n",
       "      <td>一个，那个是，嗯，叫。</td>\n",
       "      <td>0.882353</td>\n",
       "      <td>8.0</td>\n",
       "      <td>470</td>\n",
       "      <td>0</td>\n",
       "    </tr>\n",
       "    <tr>\n",
       "      <th>...</th>\n",
       "      <td>...</td>\n",
       "      <td>...</td>\n",
       "      <td>...</td>\n",
       "      <td>...</td>\n",
       "      <td>...</td>\n",
       "      <td>...</td>\n",
       "      <td>...</td>\n",
       "      <td>...</td>\n",
       "    </tr>\n",
       "    <tr>\n",
       "      <th>37248</th>\n",
       "      <td>P0070</td>\n",
       "      <td>2586.616000</td>\n",
       "      <td>2589.346000</td>\n",
       "      <td>单曲循环歌曲，这样而已。</td>\n",
       "      <td>0.090909</td>\n",
       "      <td>0.0</td>\n",
       "      <td>470</td>\n",
       "      <td>0</td>\n",
       "    </tr>\n",
       "    <tr>\n",
       "      <th>37249</th>\n",
       "      <td>P0070</td>\n",
       "      <td>2782.496000</td>\n",
       "      <td>2783.706000</td>\n",
       "      <td>杨幂的电影。</td>\n",
       "      <td>0.000000</td>\n",
       "      <td>0.0</td>\n",
       "      <td>470</td>\n",
       "      <td>0</td>\n",
       "    </tr>\n",
       "    <tr>\n",
       "      <th>37250</th>\n",
       "      <td>P0070</td>\n",
       "      <td>2995.296000</td>\n",
       "      <td>2998.116000</td>\n",
       "      <td>你好米呀今天柴油价怎么样？</td>\n",
       "      <td>0.200000</td>\n",
       "      <td>0.0</td>\n",
       "      <td>470</td>\n",
       "      <td>0</td>\n",
       "    </tr>\n",
       "    <tr>\n",
       "      <th>37251</th>\n",
       "      <td>P0070</td>\n",
       "      <td>2604.066000</td>\n",
       "      <td>2606.656000</td>\n",
       "      <td>单曲循环歌曲流离光之歌。</td>\n",
       "      <td>0.166667</td>\n",
       "      <td>0.0</td>\n",
       "      <td>470</td>\n",
       "      <td>0</td>\n",
       "    </tr>\n",
       "    <tr>\n",
       "      <th>37252</th>\n",
       "      <td>P0070</td>\n",
       "      <td>2434.606000</td>\n",
       "      <td>2436.576000</td>\n",
       "      <td>导航到龙城苑。</td>\n",
       "      <td>0.250000</td>\n",
       "      <td>0.0</td>\n",
       "      <td>470</td>\n",
       "      <td>0</td>\n",
       "    </tr>\n",
       "  </tbody>\n",
       "</table>\n",
       "<p>37253 rows × 8 columns</p>\n",
       "</div>"
      ],
      "text/plain": [
       "      Filename   Start_time     End_time  \\\n",
       "0      D0001_A  2081.540000  2109.650000   \n",
       "1      D0001_A   790.130000   796.580000   \n",
       "2      D0001_A  1562.083518  1586.220000   \n",
       "3      D0001_A  2016.780000  2035.673559   \n",
       "4      D0001_A  1682.670000  1709.110000   \n",
       "...        ...          ...          ...   \n",
       "37248    P0070  2586.616000  2589.346000   \n",
       "37249    P0070  2782.496000  2783.706000   \n",
       "37250    P0070  2995.296000  2998.116000   \n",
       "37251    P0070  2604.066000  2606.656000   \n",
       "37252    P0070  2434.606000  2436.576000   \n",
       "\n",
       "                                                   Azure       WER  \\\n",
       "0      我说出来就比较的需要时间啊，然后那个嗯识别的它的它就是它等你一会儿你那个话还没有说完的，还没...  0.072165   \n",
       "1                                                   电视剧。  0.600000   \n",
       "2                                               这部剧是不怎么？  0.875000   \n",
       "3                                                很很精准，对。  0.868421   \n",
       "4                                            一个，那个是，嗯，叫。  0.882353   \n",
       "...                                                  ...       ...   \n",
       "37248                                       单曲循环歌曲，这样而已。  0.090909   \n",
       "37249                                             杨幂的电影。  0.000000   \n",
       "37250                                      你好米呀今天柴油价怎么样？  0.200000   \n",
       "37251                                       单曲循环歌曲流离光之歌。  0.166667   \n",
       "37252                                            导航到龙城苑。  0.250000   \n",
       "\n",
       "       Stutterance_Count  NA_Count  NA_Cleaned_Count  \n",
       "0                    1.0       470                 0  \n",
       "1                    1.0       470                 0  \n",
       "2                   10.0       470                 0  \n",
       "3                    7.0       470                 0  \n",
       "4                    8.0       470                 0  \n",
       "...                  ...       ...               ...  \n",
       "37248                0.0       470                 0  \n",
       "37249                0.0       470                 0  \n",
       "37250                0.0       470                 0  \n",
       "37251                0.0       470                 0  \n",
       "37252                0.0       470                 0  \n",
       "\n",
       "[37253 rows x 8 columns]"
      ]
     },
     "execution_count": 11,
     "metadata": {},
     "output_type": "execute_result"
    }
   ],
   "source": [
    "net_aigenerated_data_azure"
   ]
  },
  {
   "cell_type": "code",
   "execution_count": 12,
   "id": "3b9a6dfc-fa15-45c4-8c08-1682e3fb482e",
   "metadata": {
    "tags": []
   },
   "outputs": [],
   "source": [
    "# net_aigenerated_data_azure.to_csv('net_aigenerated_data_azure_performance_data.csv', sep=',')"
   ]
  },
  {
   "cell_type": "markdown",
   "id": "79206fa2-50ce-4c59-aece-f17439fdcf92",
   "metadata": {},
   "source": [
    "***"
   ]
  },
  {
   "cell_type": "markdown",
   "id": "5dd854d6-464c-49a3-a82b-c6603567fb0c",
   "metadata": {
    "tags": []
   },
   "source": [
    "## Visualization of Relationship between Stutterance Count and Word Error Rate (Azure)"
   ]
  },
  {
   "cell_type": "code",
   "execution_count": 13,
   "id": "b9f87049-4fd6-447b-aa37-1d3bb808a1e7",
   "metadata": {
    "tags": []
   },
   "outputs": [],
   "source": [
    "## Load data from csv if starting here\n",
    "\n",
    "# net_aigenerated_data_azure = pd.read_csv('/projectnb/ds549/projects/AImpower/evaluation-azure/net_aigenerated_data_azure_performance_data.csv', delimiter=',')"
   ]
  },
  {
   "cell_type": "code",
   "execution_count": 14,
   "id": "797a7d2b-f110-4b04-8500-1a956ebf78be",
   "metadata": {
    "tags": []
   },
   "outputs": [],
   "source": [
    "import matplotlib.pyplot as plt"
   ]
  },
  {
   "cell_type": "code",
   "execution_count": 15,
   "id": "414d5c7c-bc01-4dfc-959f-589115e8fd75",
   "metadata": {
    "tags": []
   },
   "outputs": [
    {
     "data": {
      "image/png": "[encoded data removed]",
      "text/plain": [
       "<Figure size 640x480 with 1 Axes>"
      ]
     },
     "metadata": {},
     "output_type": "display_data"
    }
   ],
   "source": [
    "## Null value plots\n",
    "\n",
    "nonnull_count_large = net_aigenerated_data_azure[\"NA_Count\"].count() - net_aigenerated_data_azure.iloc[0][\"NA_Count\"]\n",
    "null_count_large = net_aigenerated_data_azure.iloc[0][\"NA_Count\"]\n",
    "\n",
    "nonnull_count_cleaned = net_aigenerated_data_azure[\"NA_Cleaned_Count\"].count() - net_aigenerated_data_azure.iloc[0][\"NA_Cleaned_Count\"]\n",
    "null_count_cleaned = net_aigenerated_data_azure.iloc[0][\"NA_Cleaned_Count\"]\n",
    "\n",
    "\n",
    "data = {\n",
    "    \"NA Values\": [null_count_large, null_count_cleaned],\n",
    "    \"Non NA Values\": [nonnull_count_large, nonnull_count_cleaned],\n",
    "}\n",
    "\n",
    "species = (\n",
    "    \"Azure\",\n",
    "    \"Cleaned Ground Truth\"\n",
    ")\n",
    "\n",
    "width = 0.5\n",
    "\n",
    "fig, ax = plt.subplots()\n",
    "bottom = np.zeros(2)\n",
    "\n",
    "for na, count in data.items():\n",
    "    p = ax.bar(species, count, width, label=na, bottom=bottom)\n",
    "    bottom += count\n",
    "\n",
    "\n",
    "ax.set_title(\"NA value counting\", fontsize=16)\n",
    "ax.set_xlabel(\"Source\", fontsize=14)\n",
    "ax.set_ylabel(\"Count\", fontsize=14)\n",
    "ax.legend()\n",
    "ax.grid(True)\n",
    "\n",
    "plt.show()"
   ]
  },
  {
   "cell_type": "code",
   "execution_count": 16,
   "id": "c8b57777-464a-43d5-b3c1-510ae5b7f459",
   "metadata": {
    "tags": []
   },
   "outputs": [
    {
     "data": {
      "image/png": "[encoded data removed]",
      "text/plain": [
       "<Figure size 600x400 with 1 Axes>"
      ]
     },
     "metadata": {},
     "output_type": "display_data"
    }
   ],
   "source": [
    "plt.figure(figsize=(6, 4))\n",
    "plt.scatter(\n",
    "    net_aigenerated_data_azure[\"Stutterance_Count\"], \n",
    "    net_aigenerated_data_azure[\"WER\"], \n",
    "    alpha=0.7  # Handle overlapping points\n",
    ")\n",
    "\n",
    "plt.title(\"WER vs Stutterance Count\", fontsize=16)\n",
    "plt.xlabel(\"Stutterance Count\", fontsize=14)\n",
    "plt.ylabel(\"WER\", fontsize=14)\n",
    "plt.grid(True)\n",
    "plt.show()"
   ]
  },
  {
   "cell_type": "code",
   "execution_count": 17,
   "id": "c787eb1b-8b2f-45bd-aca7-2e6490f4a56f",
   "metadata": {
    "tags": []
   },
   "outputs": [
    {
     "data": {
      "image/png": "[encoded data removed]",
      "text/plain": [
       "<Figure size 600x400 with 2 Axes>"
      ]
     },
     "metadata": {},
     "output_type": "display_data"
    }
   ],
   "source": [
    "import seaborn as sns\n",
    "from matplotlib.colors import LinearSegmentedColormap\n",
    "\n",
    "net_aigenerated_data_azure['WER_Binned'] = np.round(net_aigenerated_data_azure['WER'], 2)\n",
    "\n",
    "grouped_data = net_aigenerated_data_azure.groupby(\n",
    "    ['Stutterance_Count', 'WER_Binned']\n",
    ").size().reset_index(name='Count')\n",
    "heatmap_data = grouped_data.pivot(index='WER_Binned', columns='Stutterance_Count', values='Count').fillna(0)\n",
    "\n",
    "plt.figure(figsize=(6, 4))\n",
    "sns.heatmap(\n",
    "    heatmap_data, cmap='cool', annot=False, fmt='g', cbar=True\n",
    ")\n",
    "\n",
    "plt.title(\"Stutterance Count vs WER (Color = Number of Cases)\", fontsize=16)\n",
    "plt.xlabel(\"Stutterance Count\", fontsize=14)\n",
    "plt.ylabel(\"WER (Binned)\", fontsize=14)\n",
    "\n",
    "plt.show()"
   ]
  },
  {
   "cell_type": "code",
   "execution_count": 18,
   "id": "0655e4f3-8870-45a1-bdcc-cbe54d532f63",
   "metadata": {
    "tags": []
   },
   "outputs": [
    {
     "name": "stdout",
     "output_type": "stream",
     "text": [
      "p-value = 0.0\n",
      "rho = 0.43824975891281576\n"
     ]
    }
   ],
   "source": [
    "from scipy.stats import spearmanr\n",
    "rho, p = spearmanr(net_aigenerated_data_azure.dropna()['Stutterance_Count'], net_aigenerated_data_azure.dropna()['WER'])\n",
    "print(f\"p-value = {p}\")\n",
    "print(f\"rho = {rho}\")"
   ]
  },
  {
   "cell_type": "markdown",
   "id": "c7f6bf6e-2993-485d-9141-a78634637a50",
   "metadata": {},
   "source": [
    "***"
   ]
  },
  {
   "cell_type": "markdown",
   "id": "343e4ac0-04a6-4896-b5b4-cbcfc330e0d6",
   "metadata": {
    "tags": []
   },
   "source": [
    "## ROUGE-N/L Scores (Semantic Evaluation) (Azure)"
   ]
  },
  {
   "cell_type": "code",
   "execution_count": 19,
   "id": "93696353",
   "metadata": {},
   "outputs": [
    {
     "name": "stdout",
     "output_type": "stream",
     "text": [
      "Defaulting to user installation because normal site-packages is not writeable\n",
      "Requirement already satisfied: rouge_chinese in /usr4/ds549/chimmay/.local/lib/python3.10/site-packages (1.0.3)\n",
      "Requirement already satisfied: jieba in /usr4/ds549/chimmay/.local/lib/python3.10/site-packages (0.42.1)\n",
      "Requirement already satisfied: six in /share/pkg.8/python3/3.10.12/install/lib/python3.10/site-packages (from rouge_chinese) (1.16.0)\n",
      "\n",
      "\u001b[1m[\u001b[0m\u001b[34;49mnotice\u001b[0m\u001b[1;39;49m]\u001b[0m\u001b[39;49m A new release of pip is available: \u001b[0m\u001b[31;49m23.2.1\u001b[0m\u001b[39;49m -> \u001b[0m\u001b[32;49m24.3.1\u001b[0m\n",
      "\u001b[1m[\u001b[0m\u001b[34;49mnotice\u001b[0m\u001b[1;39;49m]\u001b[0m\u001b[39;49m To update, run: \u001b[0m\u001b[32;49mpip install --upgrade pip\u001b[0m\n",
      "Note: you may need to restart the kernel to use updated packages.\n"
     ]
    }
   ],
   "source": [
    "pip install rouge_chinese jieba"
   ]
  },
  {
   "cell_type": "code",
   "execution_count": 20,
   "id": "175ed190-1369-45ce-bd2e-863505f99a8d",
   "metadata": {},
   "outputs": [],
   "source": [
    "from rouge_chinese import Rouge\n",
    "import jieba"
   ]
  },
  {
   "cell_type": "code",
   "execution_count": 21,
   "id": "f2f1133e-38f4-4798-8bfe-7afb95778756",
   "metadata": {
    "tags": []
   },
   "outputs": [],
   "source": [
    "rouge = Rouge()"
   ]
  },
  {
   "cell_type": "code",
   "execution_count": 22,
   "id": "e5ee381a-b7b8-4dd5-8e76-d7a8f3483e1c",
   "metadata": {
    "tags": []
   },
   "outputs": [
    {
     "name": "stderr",
     "output_type": "stream",
     "text": [
      "  0%|          | 0/37253 [00:00<?, ?it/s]Building prefix dict from the default dictionary ...\n",
      "Dumping model to file cache /scratch/292171.1.ood/jieba.cache\n",
      "Loading model cost 0.700 seconds.\n",
      "Prefix dict has been built successfully.\n",
      "  0%|          | 15/37253 [00:00<26:25, 23.49it/s] "
     ]
    },
    {
     "name": "stdout",
     "output_type": "stream",
     "text": [
      "      Filename   Start_time     End_time  \\\n",
      "0      D0001_A  2081.540000  2109.650000   \n",
      "1      D0001_A   790.130000   796.580000   \n",
      "2      D0001_A  1562.083518  1586.220000   \n",
      "3      D0001_A  2016.780000  2035.673559   \n",
      "4      D0001_A  1682.670000  1709.110000   \n",
      "...        ...          ...          ...   \n",
      "37248    P0070  2586.616000  2589.346000   \n",
      "37249    P0070  2782.496000  2783.706000   \n",
      "37250    P0070  2995.296000  2998.116000   \n",
      "37251    P0070  2604.066000  2606.656000   \n",
      "37252    P0070  2434.606000  2436.576000   \n",
      "\n",
      "                                                   Azure       WER  \\\n",
      "0      我说出来就比较的需要时间啊，然后那个嗯识别的它的它就是它等你一会儿你那个话还没有说完的，还没...  0.072165   \n",
      "1                                                   电视剧。  0.600000   \n",
      "2                                               这部剧是不怎么？  0.875000   \n",
      "3                                                很很精准，对。  0.868421   \n",
      "4                                            一个，那个是，嗯，叫。  0.882353   \n",
      "...                                                  ...       ...   \n",
      "37248                                       单曲循环歌曲，这样而已。  0.090909   \n",
      "37249                                             杨幂的电影。  0.000000   \n",
      "37250                                      你好米呀今天柴油价怎么样？  0.200000   \n",
      "37251                                       单曲循环歌曲流离光之歌。  0.166667   \n",
      "37252                                            导航到龙城苑。  0.250000   \n",
      "\n",
      "       Stutterance_Count  NA_Count  NA_Cleaned_Count  WER_Binned  \\\n",
      "0                    1.0       470                 0        0.07   \n",
      "1                    1.0       470                 0        0.60   \n",
      "2                   10.0       470                 0        0.88   \n",
      "3                    7.0       470                 0        0.87   \n",
      "4                    8.0       470                 0        0.88   \n",
      "...                  ...       ...               ...         ...   \n",
      "37248                0.0       470                 0        0.09   \n",
      "37249                0.0       470                 0        0.00   \n",
      "37250                0.0       470                 0        0.20   \n",
      "37251                0.0       470                 0        0.17   \n",
      "37252                0.0       470                 0        0.25   \n",
      "\n",
      "       rouge1-precision  rouge1-recall  rouge1-f1  rouge2-precision  \\\n",
      "0              0.948718       0.973684   0.961039              0.85   \n",
      "1                   NaN            NaN        NaN               NaN   \n",
      "2                   NaN            NaN        NaN               NaN   \n",
      "3                   NaN            NaN        NaN               NaN   \n",
      "4                   NaN            NaN        NaN               NaN   \n",
      "...                 ...            ...        ...               ...   \n",
      "37248               NaN            NaN        NaN               NaN   \n",
      "37249               NaN            NaN        NaN               NaN   \n",
      "37250               NaN            NaN        NaN               NaN   \n",
      "37251               NaN            NaN        NaN               NaN   \n",
      "37252               NaN            NaN        NaN               NaN   \n",
      "\n",
      "       rouge2-recall  rouge2-f1  rougel-precision  rougel-recall  rougel-f1  \n",
      "0           0.836066   0.842975          0.942857       0.942857   0.942857  \n",
      "1                NaN        NaN               NaN            NaN        NaN  \n",
      "2                NaN        NaN               NaN            NaN        NaN  \n",
      "3                NaN        NaN               NaN            NaN        NaN  \n",
      "4                NaN        NaN               NaN            NaN        NaN  \n",
      "...              ...        ...               ...            ...        ...  \n",
      "37248            NaN        NaN               NaN            NaN        NaN  \n",
      "37249            NaN        NaN               NaN            NaN        NaN  \n",
      "37250            NaN        NaN               NaN            NaN        NaN  \n",
      "37251            NaN        NaN               NaN            NaN        NaN  \n",
      "37252            NaN        NaN               NaN            NaN        NaN  \n",
      "\n",
      "[37253 rows x 18 columns]\n",
      "Skipping due to missing or non-string Azure.\n",
      "Skipping due to missing or non-string Azure.\n"
     ]
    },
    {
     "name": "stderr",
     "output_type": "stream",
     "text": [
      "  0%|          | 57/37253 [00:01<07:43, 80.19it/s]"
     ]
    },
    {
     "name": "stdout",
     "output_type": "stream",
     "text": [
      "Skipping due to missing or non-string Azure.\n",
      "Skipping due to missing or non-string Azure.\n",
      "Skipping due to missing or non-string Azure.\n"
     ]
    },
    {
     "name": "stderr",
     "output_type": "stream",
     "text": [
      "  0%|          | 101/37253 [00:01<05:15, 117.85it/s]"
     ]
    },
    {
     "name": "stdout",
     "output_type": "stream",
     "text": [
      "Skipping due to missing or non-string Azure.\n",
      "Skipping due to missing or non-string Azure.\n",
      "Skipping due to missing or non-string Azure.\n"
     ]
    },
    {
     "name": "stderr",
     "output_type": "stream",
     "text": [
      "  0%|          | 129/37253 [00:01<04:51, 127.37it/s]"
     ]
    },
    {
     "name": "stdout",
     "output_type": "stream",
     "text": [
      "Skipping due to missing or non-string Azure.\n",
      "Skipping due to missing or non-string Azure.\n",
      "Skipping due to missing or non-string Azure.\n"
     ]
    },
    {
     "name": "stderr",
     "output_type": "stream",
     "text": [
      "  0%|          | 186/37253 [00:02<04:33, 135.73it/s]"
     ]
    },
    {
     "name": "stdout",
     "output_type": "stream",
     "text": [
      "Skipping due to missing or non-string Azure.\n"
     ]
    },
    {
     "name": "stderr",
     "output_type": "stream",
     "text": [
      "  2%|▏         | 801/37253 [00:06<04:22, 138.69it/s]"
     ]
    },
    {
     "name": "stdout",
     "output_type": "stream",
     "text": [
      "Skipping due to missing or non-string Azure.\n"
     ]
    },
    {
     "name": "stderr",
     "output_type": "stream",
     "text": [
      "  2%|▏         | 886/37253 [00:07<04:24, 137.44it/s]"
     ]
    },
    {
     "name": "stdout",
     "output_type": "stream",
     "text": [
      "Skipping due to missing or non-string Azure.\n"
     ]
    },
    {
     "name": "stderr",
     "output_type": "stream",
     "text": [
      "  4%|▎         | 1346/37253 [00:10<04:29, 133.48it/s]"
     ]
    },
    {
     "name": "stdout",
     "output_type": "stream",
     "text": [
      "Skipping due to missing or non-string Azure.\n"
     ]
    },
    {
     "name": "stderr",
     "output_type": "stream",
     "text": [
      "  4%|▍         | 1514/37253 [00:11<04:28, 133.32it/s]"
     ]
    },
    {
     "name": "stdout",
     "output_type": "stream",
     "text": [
      "Skipping due to missing or non-string Azure.\n"
     ]
    },
    {
     "name": "stderr",
     "output_type": "stream",
     "text": [
      "  4%|▍         | 1654/37253 [00:12<04:21, 136.07it/s]"
     ]
    },
    {
     "name": "stdout",
     "output_type": "stream",
     "text": [
      "Skipping due to missing or non-string Azure.\n",
      "Skipping due to missing or non-string Azure.\n",
      "Skipping due to missing or non-string Azure.\n"
     ]
    },
    {
     "name": "stderr",
     "output_type": "stream",
     "text": [
      "  5%|▍         | 1683/37253 [00:13<04:16, 138.44it/s]"
     ]
    },
    {
     "name": "stdout",
     "output_type": "stream",
     "text": [
      "Skipping due to missing or non-string Azure.\n",
      "Skipping due to missing or non-string Azure.\n"
     ]
    },
    {
     "name": "stderr",
     "output_type": "stream",
     "text": [
      "  5%|▍         | 1855/37253 [00:14<04:22, 134.94it/s]"
     ]
    },
    {
     "name": "stdout",
     "output_type": "stream",
     "text": [
      "Skipping: One of the rows is empty.\n"
     ]
    },
    {
     "name": "stderr",
     "output_type": "stream",
     "text": [
      "  5%|▌         | 1981/37253 [00:15<04:19, 136.02it/s]"
     ]
    },
    {
     "name": "stdout",
     "output_type": "stream",
     "text": [
      "Skipping due to missing or non-string Azure.\n",
      "Skipping due to missing or non-string Azure.\n",
      "Skipping due to missing or non-string Azure.\n",
      "Skipping due to missing or non-string Azure.\n"
     ]
    },
    {
     "name": "stderr",
     "output_type": "stream",
     "text": [
      "  5%|▌         | 2023/37253 [00:15<04:20, 135.17it/s]"
     ]
    },
    {
     "name": "stdout",
     "output_type": "stream",
     "text": [
      "Skipping due to missing or non-string Azure.\n"
     ]
    },
    {
     "name": "stderr",
     "output_type": "stream",
     "text": [
      "  6%|▌         | 2079/37253 [00:16<04:20, 134.89it/s]"
     ]
    },
    {
     "name": "stdout",
     "output_type": "stream",
     "text": [
      "Skipping due to missing or non-string Azure.\n"
     ]
    },
    {
     "name": "stderr",
     "output_type": "stream",
     "text": [
      "  6%|▌         | 2163/37253 [00:16<04:17, 136.07it/s]"
     ]
    },
    {
     "name": "stdout",
     "output_type": "stream",
     "text": [
      "Skipping due to missing or non-string Azure.\n"
     ]
    },
    {
     "name": "stderr",
     "output_type": "stream",
     "text": [
      "  6%|▌         | 2206/37253 [00:16<04:12, 138.95it/s]"
     ]
    },
    {
     "name": "stdout",
     "output_type": "stream",
     "text": [
      "Skipping due to missing or non-string Azure.\n",
      "Skipping due to missing or non-string Azure.\n"
     ]
    },
    {
     "name": "stderr",
     "output_type": "stream",
     "text": [
      "  6%|▌         | 2262/37253 [00:17<04:18, 135.43it/s]"
     ]
    },
    {
     "name": "stdout",
     "output_type": "stream",
     "text": [
      "Skipping due to missing or non-string Azure.\n"
     ]
    },
    {
     "name": "stderr",
     "output_type": "stream",
     "text": [
      "  7%|▋         | 2484/37253 [00:19<04:18, 134.76it/s]"
     ]
    },
    {
     "name": "stdout",
     "output_type": "stream",
     "text": [
      "Skipping due to missing or non-string Azure.\n"
     ]
    },
    {
     "name": "stderr",
     "output_type": "stream",
     "text": [
      "  7%|▋         | 2569/37253 [00:19<04:19, 133.57it/s]"
     ]
    },
    {
     "name": "stdout",
     "output_type": "stream",
     "text": [
      "Skipping due to missing or non-string Azure.\n"
     ]
    },
    {
     "name": "stderr",
     "output_type": "stream",
     "text": [
      "  7%|▋         | 2662/37253 [00:20<04:34, 126.24it/s]"
     ]
    },
    {
     "name": "stdout",
     "output_type": "stream",
     "text": [
      "Skipping due to missing or non-string Azure.\n",
      "Skipping due to missing or non-string Azure.\n"
     ]
    },
    {
     "name": "stderr",
     "output_type": "stream",
     "text": [
      "  7%|▋         | 2688/37253 [00:20<04:33, 126.23it/s]"
     ]
    },
    {
     "name": "stdout",
     "output_type": "stream",
     "text": [
      "Skipping due to missing or non-string Azure.\n"
     ]
    },
    {
     "name": "stderr",
     "output_type": "stream",
     "text": [
      "  7%|▋         | 2715/37253 [00:20<04:30, 127.89it/s]"
     ]
    },
    {
     "name": "stdout",
     "output_type": "stream",
     "text": [
      "Skipping due to missing or non-string Azure.\n"
     ]
    },
    {
     "name": "stderr",
     "output_type": "stream",
     "text": [
      "  8%|▊         | 2832/37253 [00:21<04:38, 123.79it/s]"
     ]
    },
    {
     "name": "stdout",
     "output_type": "stream",
     "text": [
      "Skipping due to missing or non-string Azure.\n"
     ]
    },
    {
     "name": "stderr",
     "output_type": "stream",
     "text": [
      "  9%|▊         | 3221/37253 [00:24<04:22, 129.57it/s]"
     ]
    },
    {
     "name": "stdout",
     "output_type": "stream",
     "text": [
      "Skipping due to missing or non-string Azure.\n"
     ]
    },
    {
     "name": "stderr",
     "output_type": "stream",
     "text": [
      "  9%|▉         | 3496/37253 [00:27<04:38, 121.24it/s]"
     ]
    },
    {
     "name": "stdout",
     "output_type": "stream",
     "text": [
      "Skipping due to missing or non-string Azure.\n"
     ]
    },
    {
     "name": "stderr",
     "output_type": "stream",
     "text": [
      " 10%|▉         | 3718/37253 [00:28<04:04, 137.25it/s]"
     ]
    },
    {
     "name": "stdout",
     "output_type": "stream",
     "text": [
      "Skipping due to missing or non-string Azure.\n",
      "Skipping due to missing or non-string Azure.\n"
     ]
    },
    {
     "name": "stderr",
     "output_type": "stream",
     "text": [
      " 10%|█         | 3762/37253 [00:29<04:00, 139.21it/s]"
     ]
    },
    {
     "name": "stdout",
     "output_type": "stream",
     "text": [
      "Skipping due to missing or non-string Azure.\n",
      "Skipping due to missing or non-string Azure.\n",
      "Skipping due to missing or non-string Azure.\n",
      "Skipping due to missing or non-string Azure.\n"
     ]
    },
    {
     "name": "stderr",
     "output_type": "stream",
     "text": [
      " 10%|█         | 3804/37253 [00:29<04:03, 137.51it/s]"
     ]
    },
    {
     "name": "stdout",
     "output_type": "stream",
     "text": [
      "Skipping due to missing or non-string Azure.\n",
      "Skipping due to missing or non-string Azure.\n"
     ]
    },
    {
     "name": "stderr",
     "output_type": "stream",
     "text": [
      " 10%|█         | 3846/37253 [00:29<04:06, 135.64it/s]"
     ]
    },
    {
     "name": "stdout",
     "output_type": "stream",
     "text": [
      "Skipping due to missing or non-string Azure.\n"
     ]
    },
    {
     "name": "stderr",
     "output_type": "stream",
     "text": [
      " 11%|█         | 4004/37253 [00:30<04:14, 130.88it/s]"
     ]
    },
    {
     "name": "stdout",
     "output_type": "stream",
     "text": [
      "Skipping due to missing or non-string Azure.\n"
     ]
    },
    {
     "name": "stderr",
     "output_type": "stream",
     "text": [
      " 11%|█         | 4044/37253 [00:31<04:35, 120.75it/s]"
     ]
    },
    {
     "name": "stdout",
     "output_type": "stream",
     "text": [
      "Skipping due to missing or non-string Azure.\n",
      "Skipping due to missing or non-string Azure.\n",
      "Skipping due to missing or non-string Azure.\n"
     ]
    },
    {
     "name": "stderr",
     "output_type": "stream",
     "text": [
      " 11%|█         | 4083/37253 [00:31<04:37, 119.51it/s]"
     ]
    },
    {
     "name": "stdout",
     "output_type": "stream",
     "text": [
      "Skipping due to missing or non-string Azure.\n",
      "Skipping due to missing or non-string Azure.\n"
     ]
    },
    {
     "name": "stderr",
     "output_type": "stream",
     "text": [
      " 11%|█         | 4121/37253 [00:31<04:33, 121.29it/s]"
     ]
    },
    {
     "name": "stdout",
     "output_type": "stream",
     "text": [
      "Skipping due to missing or non-string Azure.\n",
      "Skipping due to missing or non-string Azure.\n",
      "Skipping due to missing or non-string Azure.\n"
     ]
    },
    {
     "name": "stderr",
     "output_type": "stream",
     "text": [
      " 11%|█         | 4176/37253 [00:32<04:16, 129.15it/s]"
     ]
    },
    {
     "name": "stdout",
     "output_type": "stream",
     "text": [
      "Skipping due to missing or non-string Azure.\n",
      "Skipping due to missing or non-string Azure.\n"
     ]
    },
    {
     "name": "stderr",
     "output_type": "stream",
     "text": [
      " 11%|█▏        | 4218/37253 [00:32<04:16, 128.62it/s]"
     ]
    },
    {
     "name": "stdout",
     "output_type": "stream",
     "text": [
      "Skipping due to missing or non-string Azure.\n",
      "Skipping due to missing or non-string Azure.\n"
     ]
    },
    {
     "name": "stderr",
     "output_type": "stream",
     "text": [
      " 11%|█▏        | 4272/37253 [00:33<04:13, 129.96it/s]"
     ]
    },
    {
     "name": "stdout",
     "output_type": "stream",
     "text": [
      "Skipping due to missing or non-string Azure.\n"
     ]
    },
    {
     "name": "stderr",
     "output_type": "stream",
     "text": [
      " 12%|█▏        | 4314/37253 [00:33<04:10, 131.61it/s]"
     ]
    },
    {
     "name": "stdout",
     "output_type": "stream",
     "text": [
      "Skipping due to missing or non-string Azure.\n"
     ]
    },
    {
     "name": "stderr",
     "output_type": "stream",
     "text": [
      " 12%|█▏        | 4342/37253 [00:33<04:07, 133.15it/s]"
     ]
    },
    {
     "name": "stdout",
     "output_type": "stream",
     "text": [
      "Skipping due to missing or non-string Azure.\n"
     ]
    },
    {
     "name": "stderr",
     "output_type": "stream",
     "text": [
      " 12%|█▏        | 4399/37253 [00:33<04:00, 136.53it/s]"
     ]
    },
    {
     "name": "stdout",
     "output_type": "stream",
     "text": [
      "Skipping due to missing or non-string Azure.\n"
     ]
    },
    {
     "name": "stderr",
     "output_type": "stream",
     "text": [
      " 12%|█▏        | 4429/37253 [00:34<03:53, 140.57it/s]"
     ]
    },
    {
     "name": "stdout",
     "output_type": "stream",
     "text": [
      "Skipping due to missing or non-string Azure.\n",
      "Skipping due to missing or non-string Azure.\n",
      "Skipping due to missing or non-string Azure.\n",
      "Skipping due to missing or non-string Azure.\n"
     ]
    },
    {
     "name": "stderr",
     "output_type": "stream",
     "text": [
      " 12%|█▏        | 4594/37253 [00:35<03:52, 140.35it/s]"
     ]
    },
    {
     "name": "stdout",
     "output_type": "stream",
     "text": [
      "Skipping due to missing or non-string Azure.\n",
      "Skipping due to missing or non-string Azure.\n",
      "Skipping due to missing or non-string Azure.\n"
     ]
    },
    {
     "name": "stderr",
     "output_type": "stream",
     "text": [
      " 12%|█▏        | 4637/37253 [00:35<03:58, 136.90it/s]"
     ]
    },
    {
     "name": "stdout",
     "output_type": "stream",
     "text": [
      "Skipping due to missing or non-string Azure.\n"
     ]
    },
    {
     "name": "stderr",
     "output_type": "stream",
     "text": [
      " 13%|█▎        | 4679/37253 [00:35<04:02, 134.48it/s]"
     ]
    },
    {
     "name": "stdout",
     "output_type": "stream",
     "text": [
      "Skipping due to missing or non-string Azure.\n",
      "Skipping due to missing or non-string Azure.\n",
      "Skipping due to missing or non-string Azure.\n"
     ]
    },
    {
     "name": "stderr",
     "output_type": "stream",
     "text": [
      " 13%|█▎        | 4933/37253 [00:37<03:57, 135.99it/s]"
     ]
    },
    {
     "name": "stdout",
     "output_type": "stream",
     "text": [
      "Skipping due to missing or non-string Azure.\n"
     ]
    },
    {
     "name": "stderr",
     "output_type": "stream",
     "text": [
      " 14%|█▎        | 5049/37253 [00:38<03:47, 141.55it/s]"
     ]
    },
    {
     "name": "stdout",
     "output_type": "stream",
     "text": [
      "Skipping due to missing or non-string Azure.\n",
      "Skipping due to missing or non-string Azure.\n"
     ]
    },
    {
     "name": "stderr",
     "output_type": "stream",
     "text": [
      " 14%|█▎        | 5109/37253 [00:39<03:46, 142.03it/s]"
     ]
    },
    {
     "name": "stdout",
     "output_type": "stream",
     "text": [
      "Skipping due to missing or non-string Azure.\n"
     ]
    },
    {
     "name": "stderr",
     "output_type": "stream",
     "text": [
      " 14%|█▍        | 5168/37253 [00:39<03:55, 136.05it/s]"
     ]
    },
    {
     "name": "stdout",
     "output_type": "stream",
     "text": [
      "Skipping due to missing or non-string Azure.\n",
      "Skipping due to missing or non-string Azure.\n"
     ]
    },
    {
     "name": "stderr",
     "output_type": "stream",
     "text": [
      " 14%|█▍        | 5337/37253 [00:40<03:53, 136.59it/s]"
     ]
    },
    {
     "name": "stdout",
     "output_type": "stream",
     "text": [
      "Skipping due to missing or non-string Azure.\n"
     ]
    },
    {
     "name": "stderr",
     "output_type": "stream",
     "text": [
      " 15%|█▍        | 5449/37253 [00:41<03:51, 137.26it/s]"
     ]
    },
    {
     "name": "stdout",
     "output_type": "stream",
     "text": [
      "Skipping due to missing or non-string Azure.\n"
     ]
    },
    {
     "name": "stderr",
     "output_type": "stream",
     "text": [
      " 15%|█▌        | 5763/37253 [00:44<04:03, 129.09it/s]"
     ]
    },
    {
     "name": "stdout",
     "output_type": "stream",
     "text": [
      "Skipping due to missing or non-string Azure.\n",
      "Skipping due to missing or non-string Azure.\n"
     ]
    },
    {
     "name": "stderr",
     "output_type": "stream",
     "text": [
      " 16%|█▌        | 5833/37253 [00:44<03:53, 134.32it/s]"
     ]
    },
    {
     "name": "stdout",
     "output_type": "stream",
     "text": [
      "Skipping due to missing or non-string Azure.\n"
     ]
    },
    {
     "name": "stderr",
     "output_type": "stream",
     "text": [
      " 16%|█▌        | 5875/37253 [00:44<03:52, 135.13it/s]"
     ]
    },
    {
     "name": "stdout",
     "output_type": "stream",
     "text": [
      "Skipping due to missing or non-string Azure.\n"
     ]
    },
    {
     "name": "stderr",
     "output_type": "stream",
     "text": [
      " 16%|█▌        | 5917/37253 [00:45<03:48, 136.87it/s]"
     ]
    },
    {
     "name": "stdout",
     "output_type": "stream",
     "text": [
      "Skipping due to missing or non-string Azure.\n"
     ]
    },
    {
     "name": "stderr",
     "output_type": "stream",
     "text": [
      " 16%|█▌        | 5960/37253 [00:45<03:47, 137.66it/s]"
     ]
    },
    {
     "name": "stdout",
     "output_type": "stream",
     "text": [
      "Skipping due to missing or non-string Azure.\n"
     ]
    },
    {
     "name": "stderr",
     "output_type": "stream",
     "text": [
      " 16%|█▋        | 6073/37253 [00:46<03:51, 134.80it/s]"
     ]
    },
    {
     "name": "stdout",
     "output_type": "stream",
     "text": [
      "Skipping due to missing or non-string Azure.\n",
      "Skipping due to missing or non-string Azure.\n"
     ]
    },
    {
     "name": "stderr",
     "output_type": "stream",
     "text": [
      " 16%|█▋        | 6101/37253 [00:46<03:54, 133.04it/s]"
     ]
    },
    {
     "name": "stdout",
     "output_type": "stream",
     "text": [
      "Skipping due to missing or non-string Azure.\n"
     ]
    },
    {
     "name": "stderr",
     "output_type": "stream",
     "text": [
      " 17%|█▋        | 6157/37253 [00:46<03:52, 133.54it/s]"
     ]
    },
    {
     "name": "stdout",
     "output_type": "stream",
     "text": [
      "Skipping due to missing or non-string Azure.\n",
      "Skipping due to missing or non-string Azure.\n"
     ]
    },
    {
     "name": "stderr",
     "output_type": "stream",
     "text": [
      " 17%|█▋        | 6215/37253 [00:47<03:44, 138.54it/s]"
     ]
    },
    {
     "name": "stdout",
     "output_type": "stream",
     "text": [
      "Skipping due to missing or non-string Azure.\n",
      "Skipping due to missing or non-string Azure.\n"
     ]
    },
    {
     "name": "stderr",
     "output_type": "stream",
     "text": [
      " 17%|█▋        | 6259/37253 [00:47<03:39, 141.34it/s]"
     ]
    },
    {
     "name": "stdout",
     "output_type": "stream",
     "text": [
      "Skipping due to missing or non-string Azure.\n",
      "Skipping due to missing or non-string Azure.\n",
      "Skipping due to missing or non-string Azure.\n",
      "Skipping due to missing or non-string Azure.\n"
     ]
    },
    {
     "name": "stderr",
     "output_type": "stream",
     "text": [
      " 17%|█▋        | 6289/37253 [00:47<03:34, 144.45it/s]"
     ]
    },
    {
     "name": "stdout",
     "output_type": "stream",
     "text": [
      "Skipping due to missing or non-string Azure.\n",
      "Skipping due to missing or non-string Azure.\n"
     ]
    },
    {
     "name": "stderr",
     "output_type": "stream",
     "text": [
      " 17%|█▋        | 6319/37253 [00:48<03:40, 140.45it/s]"
     ]
    },
    {
     "name": "stdout",
     "output_type": "stream",
     "text": [
      "Skipping due to missing or non-string Azure.\n"
     ]
    },
    {
     "name": "stderr",
     "output_type": "stream",
     "text": [
      " 17%|█▋        | 6390/37253 [00:48<03:53, 132.34it/s]"
     ]
    },
    {
     "name": "stdout",
     "output_type": "stream",
     "text": [
      "Skipping due to missing or non-string Azure.\n"
     ]
    },
    {
     "name": "stderr",
     "output_type": "stream",
     "text": [
      " 18%|█▊        | 6531/37253 [00:49<03:48, 134.50it/s]"
     ]
    },
    {
     "name": "stdout",
     "output_type": "stream",
     "text": [
      "Skipping due to missing or non-string Azure.\n"
     ]
    },
    {
     "name": "stderr",
     "output_type": "stream",
     "text": [
      " 18%|█▊        | 6574/37253 [00:49<03:43, 137.10it/s]"
     ]
    },
    {
     "name": "stdout",
     "output_type": "stream",
     "text": [
      "Skipping due to missing or non-string Azure.\n",
      "Skipping due to missing or non-string Azure.\n",
      "Skipping due to missing or non-string Azure.\n",
      "Skipping due to missing or non-string Azure.\n"
     ]
    },
    {
     "name": "stderr",
     "output_type": "stream",
     "text": [
      " 18%|█▊        | 6758/37253 [00:51<03:48, 133.53it/s]"
     ]
    },
    {
     "name": "stdout",
     "output_type": "stream",
     "text": [
      "Skipping due to missing or non-string Azure.\n"
     ]
    },
    {
     "name": "stderr",
     "output_type": "stream",
     "text": [
      " 19%|█▊        | 6926/37253 [00:52<03:49, 131.98it/s]"
     ]
    },
    {
     "name": "stdout",
     "output_type": "stream",
     "text": [
      "Skipping due to missing or non-string Azure.\n"
     ]
    },
    {
     "name": "stderr",
     "output_type": "stream",
     "text": [
      " 19%|█▉        | 6985/37253 [00:53<03:37, 139.28it/s]"
     ]
    },
    {
     "name": "stdout",
     "output_type": "stream",
     "text": [
      "Skipping due to missing or non-string Azure.\n",
      "Skipping due to missing or non-string Azure.\n"
     ]
    },
    {
     "name": "stderr",
     "output_type": "stream",
     "text": [
      " 19%|█▉        | 7157/37253 [00:54<03:36, 139.25it/s]"
     ]
    },
    {
     "name": "stdout",
     "output_type": "stream",
     "text": [
      "Skipping due to missing or non-string Azure.\n"
     ]
    },
    {
     "name": "stderr",
     "output_type": "stream",
     "text": [
      " 19%|█▉        | 7241/37253 [00:54<03:42, 135.02it/s]"
     ]
    },
    {
     "name": "stdout",
     "output_type": "stream",
     "text": [
      "Skipping due to missing or non-string Azure.\n"
     ]
    },
    {
     "name": "stderr",
     "output_type": "stream",
     "text": [
      " 20%|█▉        | 7395/37253 [00:56<03:45, 132.50it/s]"
     ]
    },
    {
     "name": "stdout",
     "output_type": "stream",
     "text": [
      "Skipping due to missing or non-string Azure.\n"
     ]
    },
    {
     "name": "stderr",
     "output_type": "stream",
     "text": [
      " 20%|██        | 7465/37253 [00:56<03:38, 136.31it/s]"
     ]
    },
    {
     "name": "stdout",
     "output_type": "stream",
     "text": [
      "Skipping due to missing or non-string Azure.\n"
     ]
    },
    {
     "name": "stderr",
     "output_type": "stream",
     "text": [
      " 20%|██        | 7535/37253 [00:57<03:39, 135.41it/s]"
     ]
    },
    {
     "name": "stdout",
     "output_type": "stream",
     "text": [
      "Skipping due to missing or non-string Azure.\n"
     ]
    },
    {
     "name": "stderr",
     "output_type": "stream",
     "text": [
      " 20%|██        | 7563/37253 [00:57<03:37, 136.63it/s]"
     ]
    },
    {
     "name": "stdout",
     "output_type": "stream",
     "text": [
      "Skipping due to missing or non-string Azure.\n"
     ]
    },
    {
     "name": "stderr",
     "output_type": "stream",
     "text": [
      " 21%|██        | 7721/37253 [00:58<03:33, 138.21it/s]"
     ]
    },
    {
     "name": "stdout",
     "output_type": "stream",
     "text": [
      "Skipping due to missing or non-string Azure.\n"
     ]
    },
    {
     "name": "stderr",
     "output_type": "stream",
     "text": [
      " 21%|██        | 7874/37253 [00:59<03:39, 133.82it/s]"
     ]
    },
    {
     "name": "stdout",
     "output_type": "stream",
     "text": [
      "Skipping due to missing or non-string Azure.\n"
     ]
    },
    {
     "name": "stderr",
     "output_type": "stream",
     "text": [
      " 21%|██        | 7904/37253 [00:59<03:31, 138.53it/s]"
     ]
    },
    {
     "name": "stdout",
     "output_type": "stream",
     "text": [
      "Skipping due to missing or non-string Azure.\n",
      "Skipping due to missing or non-string Azure.\n",
      "Skipping due to missing or non-string Azure.\n"
     ]
    },
    {
     "name": "stderr",
     "output_type": "stream",
     "text": [
      " 21%|██▏       | 7961/37253 [01:00<03:30, 139.05it/s]"
     ]
    },
    {
     "name": "stdout",
     "output_type": "stream",
     "text": [
      "Skipping due to missing or non-string Azure.\n"
     ]
    },
    {
     "name": "stderr",
     "output_type": "stream",
     "text": [
      " 22%|██▏       | 8074/37253 [01:01<03:30, 138.87it/s]"
     ]
    },
    {
     "name": "stdout",
     "output_type": "stream",
     "text": [
      "Skipping due to missing or non-string Azure.\n"
     ]
    },
    {
     "name": "stderr",
     "output_type": "stream",
     "text": [
      " 22%|██▏       | 8118/37253 [01:01<03:25, 141.71it/s]"
     ]
    },
    {
     "name": "stdout",
     "output_type": "stream",
     "text": [
      "Skipping due to missing or non-string Azure.\n",
      "Skipping due to missing or non-string Azure.\n"
     ]
    },
    {
     "name": "stderr",
     "output_type": "stream",
     "text": [
      " 22%|██▏       | 8191/37253 [01:01<03:27, 139.95it/s]"
     ]
    },
    {
     "name": "stdout",
     "output_type": "stream",
     "text": [
      "Skipping due to missing or non-string Azure.\n",
      "Skipping due to missing or non-string Azure.\n",
      "Skipping due to missing or non-string Azure.\n"
     ]
    },
    {
     "name": "stderr",
     "output_type": "stream",
     "text": [
      " 22%|██▏       | 8235/37253 [01:02<03:27, 139.99it/s]"
     ]
    },
    {
     "name": "stdout",
     "output_type": "stream",
     "text": [
      "Skipping due to missing or non-string Azure.\n",
      "Skipping due to missing or non-string Azure.\n"
     ]
    },
    {
     "name": "stderr",
     "output_type": "stream",
     "text": [
      " 22%|██▏       | 8291/37253 [01:02<03:38, 132.59it/s]"
     ]
    },
    {
     "name": "stdout",
     "output_type": "stream",
     "text": [
      "Skipping due to missing or non-string Azure.\n",
      "Skipping due to missing or non-string Azure.\n"
     ]
    },
    {
     "name": "stderr",
     "output_type": "stream",
     "text": [
      " 22%|██▏       | 8333/37253 [01:02<03:35, 133.96it/s]"
     ]
    },
    {
     "name": "stdout",
     "output_type": "stream",
     "text": [
      "Skipping due to missing or non-string Azure.\n"
     ]
    },
    {
     "name": "stderr",
     "output_type": "stream",
     "text": [
      " 22%|██▏       | 8361/37253 [01:03<03:31, 136.34it/s]"
     ]
    },
    {
     "name": "stdout",
     "output_type": "stream",
     "text": [
      "Skipping due to missing or non-string Azure.\n",
      "Skipping due to missing or non-string Azure.\n",
      "Skipping due to missing or non-string Azure.\n",
      "Skipping due to missing or non-string Azure.\n"
     ]
    },
    {
     "name": "stderr",
     "output_type": "stream",
     "text": [
      " 23%|██▎       | 8404/37253 [01:03<03:29, 137.45it/s]"
     ]
    },
    {
     "name": "stdout",
     "output_type": "stream",
     "text": [
      "Skipping due to missing or non-string Azure.\n",
      "Skipping due to missing or non-string Azure.\n"
     ]
    },
    {
     "name": "stderr",
     "output_type": "stream",
     "text": [
      " 23%|██▎       | 8519/37253 [01:04<03:26, 139.27it/s]"
     ]
    },
    {
     "name": "stdout",
     "output_type": "stream",
     "text": [
      "Skipping due to missing or non-string Azure.\n",
      "Skipping due to missing or non-string Azure.\n"
     ]
    },
    {
     "name": "stderr",
     "output_type": "stream",
     "text": [
      " 23%|██▎       | 8632/37253 [01:05<03:30, 135.72it/s]"
     ]
    },
    {
     "name": "stdout",
     "output_type": "stream",
     "text": [
      "Skipping due to missing or non-string Azure.\n",
      "Skipping due to missing or non-string Azure.\n"
     ]
    },
    {
     "name": "stderr",
     "output_type": "stream",
     "text": [
      " 24%|██▎       | 8786/37253 [01:06<03:34, 132.98it/s]"
     ]
    },
    {
     "name": "stdout",
     "output_type": "stream",
     "text": [
      "Skipping due to missing or non-string Azure.\n"
     ]
    },
    {
     "name": "stderr",
     "output_type": "stream",
     "text": [
      " 24%|██▎       | 8842/37253 [01:06<03:33, 133.25it/s]"
     ]
    },
    {
     "name": "stdout",
     "output_type": "stream",
     "text": [
      "Skipping due to missing or non-string Azure.\n"
     ]
    },
    {
     "name": "stderr",
     "output_type": "stream",
     "text": [
      " 24%|██▍       | 8968/37253 [01:07<03:32, 132.93it/s]"
     ]
    },
    {
     "name": "stdout",
     "output_type": "stream",
     "text": [
      "Skipping due to missing or non-string Azure.\n"
     ]
    },
    {
     "name": "stderr",
     "output_type": "stream",
     "text": [
      " 24%|██▍       | 9038/37253 [01:08<03:28, 135.45it/s]"
     ]
    },
    {
     "name": "stdout",
     "output_type": "stream",
     "text": [
      "Skipping due to missing or non-string Azure.\n"
     ]
    },
    {
     "name": "stderr",
     "output_type": "stream",
     "text": [
      " 25%|██▍       | 9222/37253 [01:09<03:25, 136.23it/s]"
     ]
    },
    {
     "name": "stdout",
     "output_type": "stream",
     "text": [
      "Skipping due to missing or non-string Azure.\n",
      "Skipping due to missing or non-string Azure.\n"
     ]
    },
    {
     "name": "stderr",
     "output_type": "stream",
     "text": [
      " 25%|██▌       | 9376/37253 [01:10<03:28, 134.01it/s]"
     ]
    },
    {
     "name": "stdout",
     "output_type": "stream",
     "text": [
      "Skipping due to missing or non-string Azure.\n",
      "Skipping due to missing or non-string Azure.\n"
     ]
    },
    {
     "name": "stderr",
     "output_type": "stream",
     "text": [
      " 26%|██▌       | 9517/37253 [01:11<03:23, 136.34it/s]"
     ]
    },
    {
     "name": "stdout",
     "output_type": "stream",
     "text": [
      "Skipping due to missing or non-string Azure.\n"
     ]
    },
    {
     "name": "stderr",
     "output_type": "stream",
     "text": [
      " 26%|██▌       | 9615/37253 [01:12<03:27, 133.14it/s]"
     ]
    },
    {
     "name": "stdout",
     "output_type": "stream",
     "text": [
      "Skipping due to missing or non-string Azure.\n"
     ]
    },
    {
     "name": "stderr",
     "output_type": "stream",
     "text": [
      " 26%|██▌       | 9686/37253 [01:13<03:24, 135.10it/s]"
     ]
    },
    {
     "name": "stdout",
     "output_type": "stream",
     "text": [
      "Skipping due to missing or non-string Azure.\n"
     ]
    },
    {
     "name": "stderr",
     "output_type": "stream",
     "text": [
      " 26%|██▌       | 9770/37253 [01:13<03:21, 136.11it/s]"
     ]
    },
    {
     "name": "stdout",
     "output_type": "stream",
     "text": [
      "Skipping due to missing or non-string Azure.\n"
     ]
    },
    {
     "name": "stderr",
     "output_type": "stream",
     "text": [
      " 26%|██▋       | 9798/37253 [01:13<03:23, 135.21it/s]"
     ]
    },
    {
     "name": "stdout",
     "output_type": "stream",
     "text": [
      "Skipping due to missing or non-string Azure.\n"
     ]
    },
    {
     "name": "stderr",
     "output_type": "stream",
     "text": [
      " 26%|██▋       | 9854/37253 [01:14<03:26, 132.46it/s]"
     ]
    },
    {
     "name": "stdout",
     "output_type": "stream",
     "text": [
      "Skipping due to missing or non-string Azure.\n"
     ]
    },
    {
     "name": "stderr",
     "output_type": "stream",
     "text": [
      " 27%|██▋       | 9953/37253 [01:15<03:20, 136.40it/s]"
     ]
    },
    {
     "name": "stdout",
     "output_type": "stream",
     "text": [
      "Skipping due to missing or non-string Azure.\n",
      "Skipping due to missing or non-string Azure.\n"
     ]
    },
    {
     "name": "stderr",
     "output_type": "stream",
     "text": [
      " 27%|██▋       | 10082/37253 [01:15<03:14, 139.99it/s]"
     ]
    },
    {
     "name": "stdout",
     "output_type": "stream",
     "text": [
      "Skipping due to missing or non-string Azure.\n",
      "Skipping due to missing or non-string Azure.\n"
     ]
    },
    {
     "name": "stderr",
     "output_type": "stream",
     "text": [
      " 27%|██▋       | 10112/37253 [01:16<03:13, 140.61it/s]"
     ]
    },
    {
     "name": "stdout",
     "output_type": "stream",
     "text": [
      "Skipping due to missing or non-string Azure.\n"
     ]
    },
    {
     "name": "stderr",
     "output_type": "stream",
     "text": [
      " 28%|██▊       | 10311/37253 [01:17<03:14, 138.76it/s]"
     ]
    },
    {
     "name": "stdout",
     "output_type": "stream",
     "text": [
      "Skipping due to missing or non-string Azure.\n"
     ]
    },
    {
     "name": "stderr",
     "output_type": "stream",
     "text": [
      " 28%|██▊       | 10354/37253 [01:17<03:15, 137.71it/s]"
     ]
    },
    {
     "name": "stdout",
     "output_type": "stream",
     "text": [
      "Skipping due to missing or non-string Azure.\n"
     ]
    },
    {
     "name": "stderr",
     "output_type": "stream",
     "text": [
      " 28%|██▊       | 10425/37253 [01:18<03:16, 136.82it/s]"
     ]
    },
    {
     "name": "stdout",
     "output_type": "stream",
     "text": [
      "Skipping due to missing or non-string Azure.\n",
      "Skipping due to missing or non-string Azure.\n",
      "Skipping due to missing or non-string Azure.\n"
     ]
    },
    {
     "name": "stderr",
     "output_type": "stream",
     "text": [
      " 28%|██▊       | 10454/37253 [01:18<03:15, 137.30it/s]"
     ]
    },
    {
     "name": "stdout",
     "output_type": "stream",
     "text": [
      "Skipping due to missing or non-string Azure.\n",
      "Skipping due to missing or non-string Azure.\n"
     ]
    },
    {
     "name": "stderr",
     "output_type": "stream",
     "text": [
      " 28%|██▊       | 10496/37253 [01:18<03:20, 133.60it/s]"
     ]
    },
    {
     "name": "stdout",
     "output_type": "stream",
     "text": [
      "Skipping: One of the rows is empty.\n",
      "Skipping due to missing or non-string Azure.\n",
      "Skipping due to missing or non-string Azure.\n"
     ]
    },
    {
     "name": "stderr",
     "output_type": "stream",
     "text": [
      " 29%|██▊       | 10623/37253 [01:19<03:16, 135.76it/s]"
     ]
    },
    {
     "name": "stdout",
     "output_type": "stream",
     "text": [
      "Skipping due to missing or non-string Azure.\n"
     ]
    },
    {
     "name": "stderr",
     "output_type": "stream",
     "text": [
      " 29%|██▊       | 10680/37253 [01:20<03:13, 137.31it/s]"
     ]
    },
    {
     "name": "stdout",
     "output_type": "stream",
     "text": [
      "Skipping due to missing or non-string Azure.\n"
     ]
    },
    {
     "name": "stderr",
     "output_type": "stream",
     "text": [
      " 29%|██▊       | 10710/37253 [01:20<03:09, 140.19it/s]"
     ]
    },
    {
     "name": "stdout",
     "output_type": "stream",
     "text": [
      "Skipping due to missing or non-string Azure.\n",
      "Skipping due to missing or non-string Azure.\n",
      "Skipping due to missing or non-string Azure.\n"
     ]
    },
    {
     "name": "stderr",
     "output_type": "stream",
     "text": [
      " 29%|██▉       | 10810/37253 [01:21<03:13, 136.73it/s]"
     ]
    },
    {
     "name": "stdout",
     "output_type": "stream",
     "text": [
      "Skipping due to missing or non-string Azure.\n",
      "Skipping due to missing or non-string Azure.\n",
      "Skipping due to missing or non-string Azure.\n",
      "Skipping due to missing or non-string Azure.\n"
     ]
    },
    {
     "name": "stderr",
     "output_type": "stream",
     "text": [
      " 29%|██▉       | 10867/37253 [01:21<03:08, 139.93it/s]"
     ]
    },
    {
     "name": "stdout",
     "output_type": "stream",
     "text": [
      "Skipping due to missing or non-string Azure.\n",
      "Skipping due to missing or non-string Azure.\n",
      "Skipping due to missing or non-string Azure.\n"
     ]
    },
    {
     "name": "stderr",
     "output_type": "stream",
     "text": [
      " 29%|██▉       | 10912/37253 [01:22<03:06, 141.05it/s]"
     ]
    },
    {
     "name": "stdout",
     "output_type": "stream",
     "text": [
      "Skipping due to missing or non-string Azure.\n",
      "Skipping due to missing or non-string Azure.\n"
     ]
    },
    {
     "name": "stderr",
     "output_type": "stream",
     "text": [
      " 29%|██▉       | 10927/37253 [01:22<03:13, 135.85it/s]"
     ]
    },
    {
     "name": "stdout",
     "output_type": "stream",
     "text": [
      "Skipping due to missing or non-string Azure.\n",
      "Skipping due to missing or non-string Azure.\n"
     ]
    },
    {
     "name": "stderr",
     "output_type": "stream",
     "text": [
      " 30%|███       | 11194/37253 [01:24<03:15, 133.54it/s]"
     ]
    },
    {
     "name": "stdout",
     "output_type": "stream",
     "text": [
      "Skipping due to missing or non-string Azure.\n",
      "Skipping due to missing or non-string Azure.\n"
     ]
    },
    {
     "name": "stderr",
     "output_type": "stream",
     "text": [
      " 30%|███       | 11278/37253 [01:24<03:12, 134.87it/s]"
     ]
    },
    {
     "name": "stdout",
     "output_type": "stream",
     "text": [
      "Skipping due to missing or non-string Azure.\n",
      "Skipping due to missing or non-string Azure.\n",
      "Skipping due to missing or non-string Azure.\n"
     ]
    },
    {
     "name": "stderr",
     "output_type": "stream",
     "text": [
      " 30%|███       | 11306/37253 [01:24<03:09, 136.73it/s]"
     ]
    },
    {
     "name": "stdout",
     "output_type": "stream",
     "text": [
      "Skipping due to missing or non-string Azure.\n"
     ]
    },
    {
     "name": "stderr",
     "output_type": "stream",
     "text": [
      " 30%|███       | 11349/37253 [01:25<03:09, 136.55it/s]"
     ]
    },
    {
     "name": "stdout",
     "output_type": "stream",
     "text": [
      "Skipping due to missing or non-string Azure.\n",
      "Skipping due to missing or non-string Azure.\n"
     ]
    },
    {
     "name": "stderr",
     "output_type": "stream",
     "text": [
      " 31%|███       | 11503/37253 [01:26<03:07, 137.53it/s]"
     ]
    },
    {
     "name": "stdout",
     "output_type": "stream",
     "text": [
      "Skipping due to missing or non-string Azure.\n",
      "Skipping due to missing or non-string Azure.\n",
      "Skipping due to missing or non-string Azure.\n"
     ]
    },
    {
     "name": "stderr",
     "output_type": "stream",
     "text": [
      " 31%|███       | 11560/37253 [01:26<03:07, 137.14it/s]"
     ]
    },
    {
     "name": "stdout",
     "output_type": "stream",
     "text": [
      "Skipping due to missing or non-string Azure.\n"
     ]
    },
    {
     "name": "stderr",
     "output_type": "stream",
     "text": [
      " 31%|███       | 11588/37253 [01:27<03:09, 135.57it/s]"
     ]
    },
    {
     "name": "stdout",
     "output_type": "stream",
     "text": [
      "Skipping due to missing or non-string Azure.\n",
      "Skipping due to missing or non-string Azure.\n"
     ]
    },
    {
     "name": "stderr",
     "output_type": "stream",
     "text": [
      " 31%|███▏      | 11644/37253 [01:27<03:15, 131.10it/s]"
     ]
    },
    {
     "name": "stdout",
     "output_type": "stream",
     "text": [
      "Skipping due to missing or non-string Azure.\n"
     ]
    },
    {
     "name": "stderr",
     "output_type": "stream",
     "text": [
      " 31%|███▏      | 11728/37253 [01:28<03:14, 131.36it/s]"
     ]
    },
    {
     "name": "stdout",
     "output_type": "stream",
     "text": [
      "Skipping due to missing or non-string Azure.\n"
     ]
    },
    {
     "name": "stderr",
     "output_type": "stream",
     "text": [
      " 32%|███▏      | 11979/37253 [01:30<03:06, 135.39it/s]"
     ]
    },
    {
     "name": "stdout",
     "output_type": "stream",
     "text": [
      "Skipping due to missing or non-string Azure.\n"
     ]
    },
    {
     "name": "stderr",
     "output_type": "stream",
     "text": [
      " 32%|███▏      | 12066/37253 [01:30<03:01, 139.13it/s]"
     ]
    },
    {
     "name": "stdout",
     "output_type": "stream",
     "text": [
      "Skipping due to missing or non-string Azure.\n",
      "Skipping due to missing or non-string Azure.\n"
     ]
    },
    {
     "name": "stderr",
     "output_type": "stream",
     "text": [
      " 33%|███▎      | 12192/37253 [01:31<03:07, 134.00it/s]"
     ]
    },
    {
     "name": "stdout",
     "output_type": "stream",
     "text": [
      "Skipping due to missing or non-string Azure.\n"
     ]
    },
    {
     "name": "stderr",
     "output_type": "stream",
     "text": [
      " 33%|███▎      | 12220/37253 [01:31<03:09, 132.28it/s]"
     ]
    },
    {
     "name": "stdout",
     "output_type": "stream",
     "text": [
      "Skipping due to missing or non-string Azure.\n",
      "Skipping due to missing or non-string Azure.\n"
     ]
    },
    {
     "name": "stderr",
     "output_type": "stream",
     "text": [
      " 33%|███▎      | 12249/37253 [01:32<03:05, 134.97it/s]"
     ]
    },
    {
     "name": "stdout",
     "output_type": "stream",
     "text": [
      "Skipping due to missing or non-string Azure.\n",
      "Skipping due to missing or non-string Azure.\n",
      "Skipping due to missing or non-string Azure.\n"
     ]
    },
    {
     "name": "stderr",
     "output_type": "stream",
     "text": [
      " 33%|███▎      | 12305/37253 [01:32<03:05, 134.50it/s]"
     ]
    },
    {
     "name": "stdout",
     "output_type": "stream",
     "text": [
      "Skipping due to missing or non-string Azure.\n"
     ]
    },
    {
     "name": "stderr",
     "output_type": "stream",
     "text": [
      " 33%|███▎      | 12390/37253 [01:33<03:00, 137.94it/s]"
     ]
    },
    {
     "name": "stdout",
     "output_type": "stream",
     "text": [
      "Skipping due to missing or non-string Azure.\n"
     ]
    },
    {
     "name": "stderr",
     "output_type": "stream",
     "text": [
      " 33%|███▎      | 12418/37253 [01:33<03:00, 137.73it/s]"
     ]
    },
    {
     "name": "stdout",
     "output_type": "stream",
     "text": [
      "Skipping due to missing or non-string Azure.\n",
      "Skipping due to missing or non-string Azure.\n"
     ]
    },
    {
     "name": "stderr",
     "output_type": "stream",
     "text": [
      " 33%|███▎      | 12461/37253 [01:33<02:57, 139.48it/s]"
     ]
    },
    {
     "name": "stdout",
     "output_type": "stream",
     "text": [
      "Skipping due to missing or non-string Azure.\n"
     ]
    },
    {
     "name": "stderr",
     "output_type": "stream",
     "text": [
      " 34%|███▍      | 12644/37253 [01:34<03:08, 130.89it/s]"
     ]
    },
    {
     "name": "stdout",
     "output_type": "stream",
     "text": [
      "Skipping due to missing or non-string Azure.\n"
     ]
    },
    {
     "name": "stderr",
     "output_type": "stream",
     "text": [
      " 34%|███▍      | 12686/37253 [01:35<03:04, 133.33it/s]"
     ]
    },
    {
     "name": "stdout",
     "output_type": "stream",
     "text": [
      "Skipping due to missing or non-string Azure.\n"
     ]
    },
    {
     "name": "stderr",
     "output_type": "stream",
     "text": [
      " 34%|███▍      | 12769/37253 [01:35<03:05, 132.01it/s]"
     ]
    },
    {
     "name": "stdout",
     "output_type": "stream",
     "text": [
      "Skipping due to missing or non-string Azure.\n"
     ]
    },
    {
     "name": "stderr",
     "output_type": "stream",
     "text": [
      " 34%|███▍      | 12825/37253 [01:36<03:03, 133.36it/s]"
     ]
    },
    {
     "name": "stdout",
     "output_type": "stream",
     "text": [
      "Skipping due to missing or non-string Azure.\n"
     ]
    },
    {
     "name": "stderr",
     "output_type": "stream",
     "text": [
      " 35%|███▍      | 12867/37253 [01:36<03:01, 134.46it/s]"
     ]
    },
    {
     "name": "stdout",
     "output_type": "stream",
     "text": [
      "Skipping due to missing or non-string Azure.\n"
     ]
    },
    {
     "name": "stderr",
     "output_type": "stream",
     "text": [
      " 35%|███▍      | 12911/37253 [01:36<02:56, 138.30it/s]"
     ]
    },
    {
     "name": "stdout",
     "output_type": "stream",
     "text": [
      "Skipping due to missing or non-string Azure.\n",
      "Skipping due to missing or non-string Azure.\n",
      "Skipping due to missing or non-string Azure.\n",
      "Skipping due to missing or non-string Azure.\n",
      "Skipping due to missing or non-string Azure.\n"
     ]
    },
    {
     "name": "stderr",
     "output_type": "stream",
     "text": [
      " 35%|███▍      | 12939/37253 [01:37<02:58, 136.31it/s]"
     ]
    },
    {
     "name": "stdout",
     "output_type": "stream",
     "text": [
      "Skipping due to missing or non-string Azure.\n",
      "Skipping due to missing or non-string Azure.\n"
     ]
    },
    {
     "name": "stderr",
     "output_type": "stream",
     "text": [
      " 35%|███▍      | 12981/37253 [01:37<03:02, 133.32it/s]"
     ]
    },
    {
     "name": "stdout",
     "output_type": "stream",
     "text": [
      "Skipping due to missing or non-string Azure.\n"
     ]
    },
    {
     "name": "stderr",
     "output_type": "stream",
     "text": [
      " 35%|███▌      | 13052/37253 [01:37<03:01, 133.41it/s]"
     ]
    },
    {
     "name": "stdout",
     "output_type": "stream",
     "text": [
      "Skipping due to missing or non-string Azure.\n",
      "Skipping due to missing or non-string Azure.\n"
     ]
    },
    {
     "name": "stderr",
     "output_type": "stream",
     "text": [
      " 35%|███▌      | 13108/37253 [01:38<03:03, 131.45it/s]"
     ]
    },
    {
     "name": "stdout",
     "output_type": "stream",
     "text": [
      "Skipping due to missing or non-string Azure.\n"
     ]
    },
    {
     "name": "stderr",
     "output_type": "stream",
     "text": [
      " 35%|███▌      | 13164/37253 [01:38<03:05, 130.12it/s]"
     ]
    },
    {
     "name": "stdout",
     "output_type": "stream",
     "text": [
      "Skipping due to missing or non-string Azure.\n",
      "Skipping due to missing or non-string Azure.\n"
     ]
    },
    {
     "name": "stderr",
     "output_type": "stream",
     "text": [
      " 36%|███▌      | 13236/37253 [01:39<02:57, 135.42it/s]"
     ]
    },
    {
     "name": "stdout",
     "output_type": "stream",
     "text": [
      "Skipping due to missing or non-string Azure.\n",
      "Skipping due to missing or non-string Azure.\n",
      "Skipping due to missing or non-string Azure.\n",
      "Skipping due to missing or non-string Azure.\n"
     ]
    },
    {
     "name": "stderr",
     "output_type": "stream",
     "text": [
      " 36%|███▌      | 13450/37253 [01:40<02:53, 137.31it/s]"
     ]
    },
    {
     "name": "stdout",
     "output_type": "stream",
     "text": [
      "Skipping due to missing or non-string Azure.\n"
     ]
    },
    {
     "name": "stderr",
     "output_type": "stream",
     "text": [
      " 36%|███▋      | 13508/37253 [01:41<02:51, 138.77it/s]"
     ]
    },
    {
     "name": "stdout",
     "output_type": "stream",
     "text": [
      "Skipping due to missing or non-string Azure.\n"
     ]
    },
    {
     "name": "stderr",
     "output_type": "stream",
     "text": [
      " 36%|███▋      | 13538/37253 [01:41<02:46, 142.15it/s]"
     ]
    },
    {
     "name": "stdout",
     "output_type": "stream",
     "text": [
      "Skipping due to missing or non-string Azure.\n",
      "Skipping due to missing or non-string Azure.\n",
      "Skipping due to missing or non-string Azure.\n"
     ]
    },
    {
     "name": "stderr",
     "output_type": "stream",
     "text": [
      " 37%|███▋      | 13730/37253 [01:43<02:59, 130.94it/s]"
     ]
    },
    {
     "name": "stdout",
     "output_type": "stream",
     "text": [
      "Skipping due to missing or non-string Azure.\n"
     ]
    },
    {
     "name": "stderr",
     "output_type": "stream",
     "text": [
      " 37%|███▋      | 13758/37253 [01:43<02:59, 130.53it/s]"
     ]
    },
    {
     "name": "stdout",
     "output_type": "stream",
     "text": [
      "Skipping due to missing or non-string Azure.\n"
     ]
    },
    {
     "name": "stderr",
     "output_type": "stream",
     "text": [
      " 37%|███▋      | 13786/37253 [01:43<02:56, 133.25it/s]"
     ]
    },
    {
     "name": "stdout",
     "output_type": "stream",
     "text": [
      "Skipping due to missing or non-string Azure.\n"
     ]
    },
    {
     "name": "stderr",
     "output_type": "stream",
     "text": [
      " 37%|███▋      | 13867/37253 [01:44<03:03, 127.60it/s]"
     ]
    },
    {
     "name": "stdout",
     "output_type": "stream",
     "text": [
      "Skipping due to missing or non-string Azure.\n"
     ]
    },
    {
     "name": "stderr",
     "output_type": "stream",
     "text": [
      " 38%|███▊      | 13989/37253 [01:45<02:59, 129.28it/s]"
     ]
    },
    {
     "name": "stdout",
     "output_type": "stream",
     "text": [
      "Skipping due to missing or non-string Azure.\n",
      "Skipping due to missing or non-string Azure.\n"
     ]
    },
    {
     "name": "stderr",
     "output_type": "stream",
     "text": [
      " 38%|███▊      | 14044/37253 [01:45<02:56, 131.47it/s]"
     ]
    },
    {
     "name": "stdout",
     "output_type": "stream",
     "text": [
      "Skipping due to missing or non-string Azure.\n"
     ]
    },
    {
     "name": "stderr",
     "output_type": "stream",
     "text": [
      " 38%|███▊      | 14128/37253 [01:46<02:50, 135.37it/s]"
     ]
    },
    {
     "name": "stdout",
     "output_type": "stream",
     "text": [
      "Skipping due to missing or non-string Azure.\n"
     ]
    },
    {
     "name": "stderr",
     "output_type": "stream",
     "text": [
      " 38%|███▊      | 14214/37253 [01:46<02:46, 138.21it/s]"
     ]
    },
    {
     "name": "stdout",
     "output_type": "stream",
     "text": [
      "Skipping due to missing or non-string Azure.\n"
     ]
    },
    {
     "name": "stderr",
     "output_type": "stream",
     "text": [
      " 38%|███▊      | 14271/37253 [01:47<02:45, 138.84it/s]"
     ]
    },
    {
     "name": "stdout",
     "output_type": "stream",
     "text": [
      "Skipping due to missing or non-string Azure.\n"
     ]
    },
    {
     "name": "stderr",
     "output_type": "stream",
     "text": [
      " 38%|███▊      | 14315/37253 [01:47<02:43, 140.13it/s]"
     ]
    },
    {
     "name": "stdout",
     "output_type": "stream",
     "text": [
      "Skipping due to missing or non-string Azure.\n",
      "Skipping due to missing or non-string Azure.\n",
      "Skipping due to missing or non-string Azure.\n",
      "Skipping due to missing or non-string Azure.\n",
      "Skipping due to missing or non-string Azure.\n"
     ]
    },
    {
     "name": "stderr",
     "output_type": "stream",
     "text": [
      " 39%|███▊      | 14345/37253 [01:47<02:45, 138.01it/s]"
     ]
    },
    {
     "name": "stdout",
     "output_type": "stream",
     "text": [
      "Skipping due to missing or non-string Azure.\n"
     ]
    },
    {
     "name": "stderr",
     "output_type": "stream",
     "text": [
      " 39%|███▊      | 14388/37253 [01:48<02:45, 138.50it/s]"
     ]
    },
    {
     "name": "stdout",
     "output_type": "stream",
     "text": [
      "Skipping due to missing or non-string Azure.\n",
      "Skipping due to missing or non-string Azure.\n",
      "Skipping due to missing or non-string Azure.\n",
      "Skipping due to missing or non-string Azure.\n"
     ]
    },
    {
     "name": "stderr",
     "output_type": "stream",
     "text": [
      " 39%|███▊      | 14417/37253 [01:48<02:43, 139.30it/s]"
     ]
    },
    {
     "name": "stdout",
     "output_type": "stream",
     "text": [
      "Skipping due to missing or non-string Azure.\n",
      "Skipping due to missing or non-string Azure.\n"
     ]
    },
    {
     "name": "stderr",
     "output_type": "stream",
     "text": [
      " 39%|███▉      | 14459/37253 [01:48<02:48, 135.04it/s]"
     ]
    },
    {
     "name": "stdout",
     "output_type": "stream",
     "text": [
      "Skipping due to missing or non-string Azure.\n",
      "Skipping due to missing or non-string Azure.\n"
     ]
    },
    {
     "name": "stderr",
     "output_type": "stream",
     "text": [
      " 39%|███▉      | 14502/37253 [01:48<02:48, 135.21it/s]"
     ]
    },
    {
     "name": "stdout",
     "output_type": "stream",
     "text": [
      "Skipping due to missing or non-string Azure.\n"
     ]
    },
    {
     "name": "stderr",
     "output_type": "stream",
     "text": [
      " 39%|███▉      | 14687/37253 [01:50<02:45, 136.31it/s]"
     ]
    },
    {
     "name": "stdout",
     "output_type": "stream",
     "text": [
      "Skipping due to missing or non-string Azure.\n",
      "Skipping due to missing or non-string Azure.\n"
     ]
    },
    {
     "name": "stderr",
     "output_type": "stream",
     "text": [
      " 40%|███▉      | 14745/37253 [01:50<02:40, 139.80it/s]"
     ]
    },
    {
     "name": "stdout",
     "output_type": "stream",
     "text": [
      "Skipping due to missing or non-string Azure.\n"
     ]
    },
    {
     "name": "stderr",
     "output_type": "stream",
     "text": [
      " 40%|███▉      | 14842/37253 [01:51<02:54, 128.21it/s]"
     ]
    },
    {
     "name": "stdout",
     "output_type": "stream",
     "text": [
      "Skipping due to missing or non-string Azure.\n",
      "Skipping due to missing or non-string Azure.\n"
     ]
    },
    {
     "name": "stderr",
     "output_type": "stream",
     "text": [
      " 40%|███▉      | 14882/37253 [01:51<02:53, 128.81it/s]"
     ]
    },
    {
     "name": "stdout",
     "output_type": "stream",
     "text": [
      "Skipping due to missing or non-string Azure.\n"
     ]
    },
    {
     "name": "stderr",
     "output_type": "stream",
     "text": [
      " 40%|████      | 14950/37253 [01:52<02:48, 132.63it/s]"
     ]
    },
    {
     "name": "stdout",
     "output_type": "stream",
     "text": [
      "Skipping due to missing or non-string Azure.\n"
     ]
    },
    {
     "name": "stderr",
     "output_type": "stream",
     "text": [
      " 40%|████      | 15020/37253 [01:52<02:46, 133.70it/s]"
     ]
    },
    {
     "name": "stdout",
     "output_type": "stream",
     "text": [
      "Skipping due to missing or non-string Azure.\n"
     ]
    },
    {
     "name": "stderr",
     "output_type": "stream",
     "text": [
      " 41%|████      | 15130/37253 [01:53<02:50, 130.01it/s]"
     ]
    },
    {
     "name": "stdout",
     "output_type": "stream",
     "text": [
      "Skipping due to missing or non-string Azure.\n"
     ]
    },
    {
     "name": "stderr",
     "output_type": "stream",
     "text": [
      " 41%|████      | 15160/37253 [01:53<02:42, 135.81it/s]"
     ]
    },
    {
     "name": "stdout",
     "output_type": "stream",
     "text": [
      "Skipping due to missing or non-string Azure.\n"
     ]
    },
    {
     "name": "stderr",
     "output_type": "stream",
     "text": [
      " 41%|████      | 15220/37253 [01:54<02:34, 142.19it/s]"
     ]
    },
    {
     "name": "stdout",
     "output_type": "stream",
     "text": [
      "Skipping due to missing or non-string Azure.\n"
     ]
    },
    {
     "name": "stderr",
     "output_type": "stream",
     "text": [
      " 41%|████      | 15295/37253 [01:54<02:34, 141.78it/s]"
     ]
    },
    {
     "name": "stdout",
     "output_type": "stream",
     "text": [
      "Skipping due to missing or non-string Azure.\n",
      "Skipping due to missing or non-string Azure.\n",
      "Skipping due to missing or non-string Azure.\n",
      "Skipping due to missing or non-string Azure.\n"
     ]
    },
    {
     "name": "stderr",
     "output_type": "stream",
     "text": [
      " 41%|████      | 15340/37253 [01:55<02:38, 138.58it/s]"
     ]
    },
    {
     "name": "stdout",
     "output_type": "stream",
     "text": [
      "Skipping due to missing or non-string Azure.\n",
      "Skipping due to missing or non-string Azure.\n",
      "Skipping due to missing or non-string Azure.\n"
     ]
    },
    {
     "name": "stderr",
     "output_type": "stream",
     "text": [
      " 41%|████▏     | 15384/37253 [01:55<02:37, 138.99it/s]"
     ]
    },
    {
     "name": "stdout",
     "output_type": "stream",
     "text": [
      "Skipping due to missing or non-string Azure.\n"
     ]
    },
    {
     "name": "stderr",
     "output_type": "stream",
     "text": [
      " 42%|████▏     | 15486/37253 [01:56<02:35, 139.79it/s]"
     ]
    },
    {
     "name": "stdout",
     "output_type": "stream",
     "text": [
      "Skipping due to missing or non-string Azure.\n"
     ]
    },
    {
     "name": "stderr",
     "output_type": "stream",
     "text": [
      " 42%|████▏     | 15531/37253 [01:56<02:33, 141.65it/s]"
     ]
    },
    {
     "name": "stdout",
     "output_type": "stream",
     "text": [
      "Skipping due to missing or non-string Azure.\n"
     ]
    },
    {
     "name": "stderr",
     "output_type": "stream",
     "text": [
      " 42%|████▏     | 15663/37253 [01:57<02:33, 140.44it/s]"
     ]
    },
    {
     "name": "stdout",
     "output_type": "stream",
     "text": [
      "Skipping due to missing or non-string Azure.\n"
     ]
    },
    {
     "name": "stderr",
     "output_type": "stream",
     "text": [
      " 42%|████▏     | 15708/37253 [01:57<02:30, 142.82it/s]"
     ]
    },
    {
     "name": "stdout",
     "output_type": "stream",
     "text": [
      "Skipping due to missing or non-string Azure.\n"
     ]
    },
    {
     "name": "stderr",
     "output_type": "stream",
     "text": [
      " 43%|████▎     | 15989/37253 [01:59<02:30, 141.64it/s]"
     ]
    },
    {
     "name": "stdout",
     "output_type": "stream",
     "text": [
      "Skipping due to missing or non-string Azure.\n"
     ]
    },
    {
     "name": "stderr",
     "output_type": "stream",
     "text": [
      " 43%|████▎     | 16034/37253 [02:00<02:29, 142.17it/s]"
     ]
    },
    {
     "name": "stdout",
     "output_type": "stream",
     "text": [
      "Skipping due to missing or non-string Azure.\n"
     ]
    },
    {
     "name": "stderr",
     "output_type": "stream",
     "text": [
      " 43%|████▎     | 16094/37253 [02:00<02:31, 139.76it/s]"
     ]
    },
    {
     "name": "stdout",
     "output_type": "stream",
     "text": [
      "Skipping due to missing or non-string Azure.\n"
     ]
    },
    {
     "name": "stderr",
     "output_type": "stream",
     "text": [
      " 43%|████▎     | 16195/37253 [02:01<02:27, 142.35it/s]"
     ]
    },
    {
     "name": "stdout",
     "output_type": "stream",
     "text": [
      "Skipping due to missing or non-string Azure.\n"
     ]
    },
    {
     "name": "stderr",
     "output_type": "stream",
     "text": [
      " 44%|████▍     | 16313/37253 [02:02<02:30, 138.90it/s]"
     ]
    },
    {
     "name": "stdout",
     "output_type": "stream",
     "text": [
      "Skipping due to missing or non-string Azure.\n"
     ]
    },
    {
     "name": "stderr",
     "output_type": "stream",
     "text": [
      " 44%|████▍     | 16403/37253 [02:02<02:29, 139.78it/s]"
     ]
    },
    {
     "name": "stdout",
     "output_type": "stream",
     "text": [
      "Skipping due to missing or non-string Azure.\n"
     ]
    },
    {
     "name": "stderr",
     "output_type": "stream",
     "text": [
      " 44%|████▍     | 16432/37253 [02:02<02:31, 137.31it/s]"
     ]
    },
    {
     "name": "stdout",
     "output_type": "stream",
     "text": [
      "Skipping due to missing or non-string Azure.\n"
     ]
    },
    {
     "name": "stderr",
     "output_type": "stream",
     "text": [
      " 44%|████▍     | 16477/37253 [02:03<02:26, 141.88it/s]"
     ]
    },
    {
     "name": "stdout",
     "output_type": "stream",
     "text": [
      "Skipping due to missing or non-string Azure.\n",
      "Skipping due to missing or non-string Azure.\n"
     ]
    },
    {
     "name": "stderr",
     "output_type": "stream",
     "text": [
      " 45%|████▍     | 16745/37253 [02:05<02:29, 136.80it/s]"
     ]
    },
    {
     "name": "stdout",
     "output_type": "stream",
     "text": [
      "Skipping due to missing or non-string Azure.\n",
      "Skipping due to missing or non-string Azure.\n"
     ]
    },
    {
     "name": "stderr",
     "output_type": "stream",
     "text": [
      " 45%|████▌     | 16789/37253 [02:05<02:25, 140.57it/s]"
     ]
    },
    {
     "name": "stdout",
     "output_type": "stream",
     "text": [
      "Skipping due to missing or non-string Azure.\n"
     ]
    },
    {
     "name": "stderr",
     "output_type": "stream",
     "text": [
      " 45%|████▌     | 16834/37253 [02:05<02:25, 140.54it/s]"
     ]
    },
    {
     "name": "stdout",
     "output_type": "stream",
     "text": [
      "Skipping due to missing or non-string Azure.\n"
     ]
    },
    {
     "name": "stderr",
     "output_type": "stream",
     "text": [
      " 46%|████▌     | 16951/37253 [02:06<02:26, 138.80it/s]"
     ]
    },
    {
     "name": "stdout",
     "output_type": "stream",
     "text": [
      "Skipping due to missing or non-string Azure.\n"
     ]
    },
    {
     "name": "stderr",
     "output_type": "stream",
     "text": [
      " 46%|████▌     | 17161/37253 [02:08<02:22, 141.00it/s]"
     ]
    },
    {
     "name": "stdout",
     "output_type": "stream",
     "text": [
      "Skipping due to missing or non-string Azure.\n"
     ]
    },
    {
     "name": "stderr",
     "output_type": "stream",
     "text": [
      " 46%|████▌     | 17191/37253 [02:08<02:23, 140.20it/s]"
     ]
    },
    {
     "name": "stdout",
     "output_type": "stream",
     "text": [
      "Skipping due to missing or non-string Azure.\n",
      "Skipping due to missing or non-string Azure.\n"
     ]
    },
    {
     "name": "stderr",
     "output_type": "stream",
     "text": [
      " 47%|████▋     | 17475/37253 [02:10<02:20, 140.96it/s]"
     ]
    },
    {
     "name": "stdout",
     "output_type": "stream",
     "text": [
      "Skipping due to missing or non-string Azure.\n",
      "Skipping due to missing or non-string Azure.\n",
      "Skipping due to missing or non-string Azure.\n"
     ]
    },
    {
     "name": "stderr",
     "output_type": "stream",
     "text": [
      " 47%|████▋     | 17535/37253 [02:10<02:16, 144.70it/s]"
     ]
    },
    {
     "name": "stdout",
     "output_type": "stream",
     "text": [
      "Skipping due to missing or non-string Azure.\n"
     ]
    },
    {
     "name": "stderr",
     "output_type": "stream",
     "text": [
      " 47%|████▋     | 17580/37253 [02:10<02:15, 145.13it/s]"
     ]
    },
    {
     "name": "stdout",
     "output_type": "stream",
     "text": [
      "Skipping due to missing or non-string Azure.\n"
     ]
    },
    {
     "name": "stderr",
     "output_type": "stream",
     "text": [
      " 47%|████▋     | 17610/37253 [02:11<02:15, 144.51it/s]"
     ]
    },
    {
     "name": "stdout",
     "output_type": "stream",
     "text": [
      "Skipping due to missing or non-string Azure.\n",
      "Skipping due to missing or non-string Azure.\n"
     ]
    },
    {
     "name": "stderr",
     "output_type": "stream",
     "text": [
      " 48%|████▊     | 17715/37253 [02:11<02:18, 141.39it/s]"
     ]
    },
    {
     "name": "stdout",
     "output_type": "stream",
     "text": [
      "Skipping due to missing or non-string Azure.\n"
     ]
    },
    {
     "name": "stderr",
     "output_type": "stream",
     "text": [
      " 48%|████▊     | 17820/37253 [02:12<02:17, 141.55it/s]"
     ]
    },
    {
     "name": "stdout",
     "output_type": "stream",
     "text": [
      "Skipping due to missing or non-string Azure.\n"
     ]
    },
    {
     "name": "stderr",
     "output_type": "stream",
     "text": [
      " 48%|████▊     | 17865/37253 [02:12<02:14, 144.27it/s]"
     ]
    },
    {
     "name": "stdout",
     "output_type": "stream",
     "text": [
      "Skipping due to missing or non-string Azure.\n",
      "Skipping due to missing or non-string Azure.\n",
      "Skipping due to missing or non-string Azure.\n"
     ]
    },
    {
     "name": "stderr",
     "output_type": "stream",
     "text": [
      " 48%|████▊     | 17895/37253 [02:13<02:16, 141.82it/s]"
     ]
    },
    {
     "name": "stdout",
     "output_type": "stream",
     "text": [
      "Skipping due to missing or non-string Azure.\n",
      "Skipping due to missing or non-string Azure.\n"
     ]
    },
    {
     "name": "stderr",
     "output_type": "stream",
     "text": [
      " 49%|████▊     | 18068/37253 [02:14<02:14, 143.03it/s]"
     ]
    },
    {
     "name": "stdout",
     "output_type": "stream",
     "text": [
      "Skipping due to missing or non-string Azure.\n",
      "Skipping due to missing or non-string Azure.\n"
     ]
    },
    {
     "name": "stderr",
     "output_type": "stream",
     "text": [
      " 49%|████▉     | 18202/37253 [02:15<02:31, 125.44it/s]"
     ]
    },
    {
     "name": "stdout",
     "output_type": "stream",
     "text": [
      "Skipping due to missing or non-string Azure.\n"
     ]
    },
    {
     "name": "stderr",
     "output_type": "stream",
     "text": [
      " 49%|████▉     | 18307/37253 [02:16<02:15, 139.97it/s]"
     ]
    },
    {
     "name": "stdout",
     "output_type": "stream",
     "text": [
      "Skipping due to missing or non-string Azure.\n"
     ]
    },
    {
     "name": "stderr",
     "output_type": "stream",
     "text": [
      " 49%|████▉     | 18380/37253 [02:16<02:17, 137.52it/s]"
     ]
    },
    {
     "name": "stdout",
     "output_type": "stream",
     "text": [
      "Skipping due to missing or non-string Azure.\n"
     ]
    },
    {
     "name": "stderr",
     "output_type": "stream",
     "text": [
      " 50%|████▉     | 18484/37253 [02:17<02:12, 141.98it/s]"
     ]
    },
    {
     "name": "stdout",
     "output_type": "stream",
     "text": [
      "Skipping due to missing or non-string Azure.\n"
     ]
    },
    {
     "name": "stderr",
     "output_type": "stream",
     "text": [
      " 50%|████▉     | 18529/37253 [02:17<02:11, 141.97it/s]"
     ]
    },
    {
     "name": "stdout",
     "output_type": "stream",
     "text": [
      "Skipping due to missing or non-string Azure.\n"
     ]
    },
    {
     "name": "stderr",
     "output_type": "stream",
     "text": [
      " 50%|████▉     | 18574/37253 [02:18<02:15, 137.95it/s]"
     ]
    },
    {
     "name": "stdout",
     "output_type": "stream",
     "text": [
      "Skipping due to missing or non-string Azure.\n"
     ]
    },
    {
     "name": "stderr",
     "output_type": "stream",
     "text": [
      " 50%|█████     | 18648/37253 [02:18<02:12, 140.43it/s]"
     ]
    },
    {
     "name": "stdout",
     "output_type": "stream",
     "text": [
      "Skipping due to missing or non-string Azure.\n"
     ]
    },
    {
     "name": "stderr",
     "output_type": "stream",
     "text": [
      " 50%|█████     | 18751/37253 [02:19<02:12, 140.03it/s]"
     ]
    },
    {
     "name": "stdout",
     "output_type": "stream",
     "text": [
      "Skipping due to missing or non-string Azure.\n",
      "Skipping due to missing or non-string Azure.\n"
     ]
    },
    {
     "name": "stderr",
     "output_type": "stream",
     "text": [
      " 50%|█████     | 18781/37253 [02:19<02:11, 140.76it/s]"
     ]
    },
    {
     "name": "stdout",
     "output_type": "stream",
     "text": [
      "Skipping due to missing or non-string Azure.\n"
     ]
    },
    {
     "name": "stderr",
     "output_type": "stream",
     "text": [
      " 51%|█████     | 18882/37253 [02:20<02:10, 140.61it/s]"
     ]
    },
    {
     "name": "stdout",
     "output_type": "stream",
     "text": [
      "Skipping due to missing or non-string Azure.\n"
     ]
    },
    {
     "name": "stderr",
     "output_type": "stream",
     "text": [
      " 51%|█████     | 18957/37253 [02:20<02:07, 143.38it/s]"
     ]
    },
    {
     "name": "stdout",
     "output_type": "stream",
     "text": [
      "Skipping due to missing or non-string Azure.\n"
     ]
    },
    {
     "name": "stderr",
     "output_type": "stream",
     "text": [
      " 51%|█████     | 19032/37253 [02:21<02:09, 140.84it/s]"
     ]
    },
    {
     "name": "stdout",
     "output_type": "stream",
     "text": [
      "Skipping due to missing or non-string Azure.\n",
      "Skipping due to missing or non-string Azure.\n",
      "Skipping due to missing or non-string Azure.\n"
     ]
    },
    {
     "name": "stderr",
     "output_type": "stream",
     "text": [
      " 51%|█████     | 19092/37253 [02:21<02:09, 140.50it/s]"
     ]
    },
    {
     "name": "stdout",
     "output_type": "stream",
     "text": [
      "Skipping due to missing or non-string Azure.\n",
      "Skipping due to missing or non-string Azure.\n"
     ]
    },
    {
     "name": "stderr",
     "output_type": "stream",
     "text": [
      " 51%|█████▏    | 19137/37253 [02:22<02:08, 141.42it/s]"
     ]
    },
    {
     "name": "stdout",
     "output_type": "stream",
     "text": [
      "Skipping due to missing or non-string Azure.\n"
     ]
    },
    {
     "name": "stderr",
     "output_type": "stream",
     "text": [
      " 51%|█████▏    | 19167/37253 [02:22<02:07, 142.37it/s]"
     ]
    },
    {
     "name": "stdout",
     "output_type": "stream",
     "text": [
      "Skipping due to missing or non-string Azure.\n"
     ]
    },
    {
     "name": "stderr",
     "output_type": "stream",
     "text": [
      " 52%|█████▏    | 19255/37253 [02:23<02:06, 141.83it/s]"
     ]
    },
    {
     "name": "stdout",
     "output_type": "stream",
     "text": [
      "Skipping due to missing or non-string Azure.\n"
     ]
    },
    {
     "name": "stderr",
     "output_type": "stream",
     "text": [
      " 52%|█████▏    | 19330/37253 [02:23<02:04, 143.41it/s]"
     ]
    },
    {
     "name": "stdout",
     "output_type": "stream",
     "text": [
      "Skipping due to missing or non-string Azure.\n"
     ]
    },
    {
     "name": "stderr",
     "output_type": "stream",
     "text": [
      " 53%|█████▎    | 19598/37253 [02:25<02:04, 142.22it/s]"
     ]
    },
    {
     "name": "stdout",
     "output_type": "stream",
     "text": [
      "Skipping due to missing or non-string Azure.\n"
     ]
    },
    {
     "name": "stderr",
     "output_type": "stream",
     "text": [
      " 53%|█████▎    | 19673/37253 [02:25<02:04, 141.20it/s]"
     ]
    },
    {
     "name": "stdout",
     "output_type": "stream",
     "text": [
      "Skipping due to missing or non-string Azure.\n"
     ]
    },
    {
     "name": "stderr",
     "output_type": "stream",
     "text": [
      " 53%|█████▎    | 19703/37253 [02:26<02:04, 141.30it/s]"
     ]
    },
    {
     "name": "stdout",
     "output_type": "stream",
     "text": [
      "Skipping due to missing or non-string Azure.\n",
      "Skipping due to missing or non-string Azure.\n"
     ]
    },
    {
     "name": "stderr",
     "output_type": "stream",
     "text": [
      " 53%|█████▎    | 19746/37253 [02:26<02:07, 137.55it/s]"
     ]
    },
    {
     "name": "stdout",
     "output_type": "stream",
     "text": [
      "Skipping due to missing or non-string Azure.\n",
      "Skipping due to missing or non-string Azure.\n"
     ]
    },
    {
     "name": "stderr",
     "output_type": "stream",
     "text": [
      " 53%|█████▎    | 19895/37253 [02:27<02:03, 140.03it/s]"
     ]
    },
    {
     "name": "stdout",
     "output_type": "stream",
     "text": [
      "Skipping due to missing or non-string Azure.\n"
     ]
    },
    {
     "name": "stderr",
     "output_type": "stream",
     "text": [
      " 54%|█████▎    | 19969/37253 [02:28<02:04, 138.47it/s]"
     ]
    },
    {
     "name": "stdout",
     "output_type": "stream",
     "text": [
      "Skipping due to missing or non-string Azure.\n"
     ]
    },
    {
     "name": "stderr",
     "output_type": "stream",
     "text": [
      " 54%|█████▎    | 19999/37253 [02:28<02:00, 142.79it/s]"
     ]
    },
    {
     "name": "stdout",
     "output_type": "stream",
     "text": [
      "Skipping due to missing or non-string Azure.\n",
      "Skipping due to missing or non-string Azure.\n"
     ]
    },
    {
     "name": "stderr",
     "output_type": "stream",
     "text": [
      " 54%|█████▍    | 20030/37253 [02:28<01:58, 145.03it/s]"
     ]
    },
    {
     "name": "stdout",
     "output_type": "stream",
     "text": [
      "Skipping due to missing or non-string Azure.\n",
      "Skipping due to missing or non-string Azure.\n",
      "Skipping due to missing or non-string Azure.\n",
      "Skipping due to missing or non-string Azure.\n"
     ]
    },
    {
     "name": "stderr",
     "output_type": "stream",
     "text": [
      " 54%|█████▍    | 20089/37253 [02:28<02:03, 139.36it/s]"
     ]
    },
    {
     "name": "stdout",
     "output_type": "stream",
     "text": [
      "Skipping due to missing or non-string Azure.\n"
     ]
    },
    {
     "name": "stderr",
     "output_type": "stream",
     "text": [
      " 54%|█████▍    | 20235/37253 [02:29<02:04, 136.58it/s]"
     ]
    },
    {
     "name": "stdout",
     "output_type": "stream",
     "text": [
      "Skipping due to missing or non-string Azure.\n"
     ]
    },
    {
     "name": "stderr",
     "output_type": "stream",
     "text": [
      " 54%|█████▍    | 20295/37253 [02:30<02:01, 139.40it/s]"
     ]
    },
    {
     "name": "stdout",
     "output_type": "stream",
     "text": [
      "Skipping due to missing or non-string Azure.\n"
     ]
    },
    {
     "name": "stderr",
     "output_type": "stream",
     "text": [
      " 55%|█████▍    | 20323/37253 [02:30<02:02, 138.11it/s]"
     ]
    },
    {
     "name": "stdout",
     "output_type": "stream",
     "text": [
      "Skipping due to missing or non-string Azure.\n"
     ]
    },
    {
     "name": "stderr",
     "output_type": "stream",
     "text": [
      " 55%|█████▍    | 20353/37253 [02:30<02:00, 140.57it/s]"
     ]
    },
    {
     "name": "stdout",
     "output_type": "stream",
     "text": [
      "Skipping due to missing or non-string Azure.\n",
      "Skipping due to missing or non-string Azure.\n"
     ]
    },
    {
     "name": "stderr",
     "output_type": "stream",
     "text": [
      " 55%|█████▌    | 20501/37253 [02:31<01:59, 140.42it/s]"
     ]
    },
    {
     "name": "stdout",
     "output_type": "stream",
     "text": [
      "Skipping due to missing or non-string Azure.\n",
      "Skipping due to missing or non-string Azure.\n"
     ]
    },
    {
     "name": "stderr",
     "output_type": "stream",
     "text": [
      " 55%|█████▌    | 20635/37253 [02:32<01:57, 141.61it/s]"
     ]
    },
    {
     "name": "stdout",
     "output_type": "stream",
     "text": [
      "Skipping due to missing or non-string Azure.\n"
     ]
    },
    {
     "name": "stderr",
     "output_type": "stream",
     "text": [
      " 56%|█████▋    | 21000/37253 [02:35<01:57, 138.71it/s]"
     ]
    },
    {
     "name": "stdout",
     "output_type": "stream",
     "text": [
      "Skipping due to missing or non-string Azure.\n",
      "Skipping due to missing or non-string Azure.\n"
     ]
    },
    {
     "name": "stderr",
     "output_type": "stream",
     "text": [
      " 57%|█████▋    | 21056/37253 [02:35<01:58, 136.50it/s]"
     ]
    },
    {
     "name": "stdout",
     "output_type": "stream",
     "text": [
      "Skipping due to missing or non-string Azure.\n"
     ]
    },
    {
     "name": "stderr",
     "output_type": "stream",
     "text": [
      " 57%|█████▋    | 21112/37253 [02:36<01:58, 136.63it/s]"
     ]
    },
    {
     "name": "stdout",
     "output_type": "stream",
     "text": [
      "Skipping due to missing or non-string Azure.\n",
      "Skipping due to missing or non-string Azure.\n"
     ]
    },
    {
     "name": "stderr",
     "output_type": "stream",
     "text": [
      " 57%|█████▋    | 21240/37253 [02:37<01:55, 138.12it/s]"
     ]
    },
    {
     "name": "stdout",
     "output_type": "stream",
     "text": [
      "Skipping due to missing or non-string Azure.\n",
      "Skipping due to missing or non-string Azure.\n"
     ]
    },
    {
     "name": "stderr",
     "output_type": "stream",
     "text": [
      " 57%|█████▋    | 21310/37253 [02:37<01:57, 136.13it/s]"
     ]
    },
    {
     "name": "stdout",
     "output_type": "stream",
     "text": [
      "Skipping due to missing or non-string Azure.\n"
     ]
    },
    {
     "name": "stderr",
     "output_type": "stream",
     "text": [
      " 58%|█████▊    | 21457/37253 [02:38<01:51, 141.07it/s]"
     ]
    },
    {
     "name": "stdout",
     "output_type": "stream",
     "text": [
      "Skipping due to missing or non-string Azure.\n"
     ]
    },
    {
     "name": "stderr",
     "output_type": "stream",
     "text": [
      " 58%|█████▊    | 21547/37253 [02:39<01:52, 140.11it/s]"
     ]
    },
    {
     "name": "stdout",
     "output_type": "stream",
     "text": [
      "Skipping due to missing or non-string Azure.\n",
      "Skipping due to missing or non-string Azure.\n"
     ]
    },
    {
     "name": "stderr",
     "output_type": "stream",
     "text": [
      " 58%|█████▊    | 21723/37253 [02:40<01:51, 139.29it/s]"
     ]
    },
    {
     "name": "stdout",
     "output_type": "stream",
     "text": [
      "Skipping due to missing or non-string Azure.\n"
     ]
    },
    {
     "name": "stderr",
     "output_type": "stream",
     "text": [
      " 58%|█████▊    | 21781/37253 [02:41<01:54, 135.16it/s]"
     ]
    },
    {
     "name": "stdout",
     "output_type": "stream",
     "text": [
      "Skipping due to missing or non-string Azure.\n"
     ]
    },
    {
     "name": "stderr",
     "output_type": "stream",
     "text": [
      " 59%|█████▊    | 21854/37253 [02:41<01:49, 140.97it/s]"
     ]
    },
    {
     "name": "stdout",
     "output_type": "stream",
     "text": [
      "Skipping due to missing or non-string Azure.\n"
     ]
    },
    {
     "name": "stderr",
     "output_type": "stream",
     "text": [
      " 59%|█████▉    | 21899/37253 [02:41<01:48, 141.45it/s]"
     ]
    },
    {
     "name": "stdout",
     "output_type": "stream",
     "text": [
      "Skipping due to missing or non-string Azure.\n"
     ]
    },
    {
     "name": "stderr",
     "output_type": "stream",
     "text": [
      " 59%|█████▉    | 21974/37253 [02:42<01:47, 141.49it/s]"
     ]
    },
    {
     "name": "stdout",
     "output_type": "stream",
     "text": [
      "Skipping due to missing or non-string Azure.\n",
      "Skipping due to missing or non-string Azure.\n"
     ]
    },
    {
     "name": "stderr",
     "output_type": "stream",
     "text": [
      " 59%|█████▉    | 22019/37253 [02:42<01:46, 142.57it/s]"
     ]
    },
    {
     "name": "stdout",
     "output_type": "stream",
     "text": [
      "Skipping due to missing or non-string Azure.\n",
      "Skipping due to missing or non-string Azure.\n"
     ]
    },
    {
     "name": "stderr",
     "output_type": "stream",
     "text": [
      " 59%|█████▉    | 22094/37253 [02:43<01:46, 142.10it/s]"
     ]
    },
    {
     "name": "stdout",
     "output_type": "stream",
     "text": [
      "Skipping due to missing or non-string Azure.\n"
     ]
    },
    {
     "name": "stderr",
     "output_type": "stream",
     "text": [
      " 59%|█████▉    | 22139/37253 [02:43<01:45, 143.25it/s]"
     ]
    },
    {
     "name": "stdout",
     "output_type": "stream",
     "text": [
      "Skipping due to missing or non-string Azure.\n"
     ]
    },
    {
     "name": "stderr",
     "output_type": "stream",
     "text": [
      " 60%|█████▉    | 22271/37253 [02:44<01:50, 135.26it/s]"
     ]
    },
    {
     "name": "stdout",
     "output_type": "stream",
     "text": [
      "Skipping due to missing or non-string Azure.\n"
     ]
    },
    {
     "name": "stderr",
     "output_type": "stream",
     "text": [
      " 60%|██████    | 22404/37253 [02:45<01:43, 142.90it/s]"
     ]
    },
    {
     "name": "stdout",
     "output_type": "stream",
     "text": [
      "Skipping due to missing or non-string Azure.\n"
     ]
    },
    {
     "name": "stderr",
     "output_type": "stream",
     "text": [
      " 60%|██████    | 22524/37253 [02:46<01:44, 140.95it/s]"
     ]
    },
    {
     "name": "stdout",
     "output_type": "stream",
     "text": [
      "Skipping due to missing or non-string Azure.\n"
     ]
    },
    {
     "name": "stderr",
     "output_type": "stream",
     "text": [
      " 61%|██████    | 22734/37253 [02:47<01:43, 140.36it/s]"
     ]
    },
    {
     "name": "stdout",
     "output_type": "stream",
     "text": [
      "Skipping due to missing or non-string Azure.\n"
     ]
    },
    {
     "name": "stderr",
     "output_type": "stream",
     "text": [
      " 61%|██████    | 22779/37253 [02:48<01:41, 141.99it/s]"
     ]
    },
    {
     "name": "stdout",
     "output_type": "stream",
     "text": [
      "Skipping due to missing or non-string Azure.\n"
     ]
    },
    {
     "name": "stderr",
     "output_type": "stream",
     "text": [
      " 61%|██████    | 22809/37253 [02:48<01:43, 139.46it/s]"
     ]
    },
    {
     "name": "stdout",
     "output_type": "stream",
     "text": [
      "Skipping due to missing or non-string Azure.\n"
     ]
    },
    {
     "name": "stderr",
     "output_type": "stream",
     "text": [
      " 62%|██████▏   | 22929/37253 [02:49<01:40, 142.52it/s]"
     ]
    },
    {
     "name": "stdout",
     "output_type": "stream",
     "text": [
      "Skipping due to missing or non-string Azure.\n"
     ]
    },
    {
     "name": "stderr",
     "output_type": "stream",
     "text": [
      " 62%|██████▏   | 23019/37253 [02:49<01:40, 141.81it/s]"
     ]
    },
    {
     "name": "stdout",
     "output_type": "stream",
     "text": [
      "Skipping due to missing or non-string Azure.\n"
     ]
    },
    {
     "name": "stderr",
     "output_type": "stream",
     "text": [
      " 62%|██████▏   | 23109/37253 [02:50<01:40, 140.87it/s]"
     ]
    },
    {
     "name": "stdout",
     "output_type": "stream",
     "text": [
      "Skipping due to missing or non-string Azure.\n"
     ]
    },
    {
     "name": "stderr",
     "output_type": "stream",
     "text": [
      " 62%|██████▏   | 23154/37253 [02:50<01:39, 142.26it/s]"
     ]
    },
    {
     "name": "stdout",
     "output_type": "stream",
     "text": [
      "Skipping due to missing or non-string Azure.\n"
     ]
    },
    {
     "name": "stderr",
     "output_type": "stream",
     "text": [
      " 63%|██████▎   | 23303/37253 [02:51<01:39, 139.81it/s]"
     ]
    },
    {
     "name": "stdout",
     "output_type": "stream",
     "text": [
      "Skipping due to missing or non-string Azure.\n"
     ]
    },
    {
     "name": "stderr",
     "output_type": "stream",
     "text": [
      " 63%|██████▎   | 23332/37253 [02:52<01:40, 139.05it/s]"
     ]
    },
    {
     "name": "stdout",
     "output_type": "stream",
     "text": [
      "Skipping due to missing or non-string Azure.\n"
     ]
    },
    {
     "name": "stderr",
     "output_type": "stream",
     "text": [
      " 63%|██████▎   | 23375/37253 [02:52<01:39, 139.56it/s]"
     ]
    },
    {
     "name": "stdout",
     "output_type": "stream",
     "text": [
      "Skipping due to missing or non-string Azure.\n",
      "Skipping due to missing or non-string Azure.\n"
     ]
    },
    {
     "name": "stderr",
     "output_type": "stream",
     "text": [
      " 63%|██████▎   | 23435/37253 [02:52<01:38, 140.77it/s]"
     ]
    },
    {
     "name": "stdout",
     "output_type": "stream",
     "text": [
      "Skipping due to missing or non-string Azure.\n"
     ]
    },
    {
     "name": "stderr",
     "output_type": "stream",
     "text": [
      " 63%|██████▎   | 23480/37253 [02:53<01:36, 143.10it/s]"
     ]
    },
    {
     "name": "stdout",
     "output_type": "stream",
     "text": [
      "Skipping due to missing or non-string Azure.\n"
     ]
    },
    {
     "name": "stderr",
     "output_type": "stream",
     "text": [
      " 63%|██████▎   | 23540/37253 [02:53<01:36, 142.06it/s]"
     ]
    },
    {
     "name": "stdout",
     "output_type": "stream",
     "text": [
      "Skipping due to missing or non-string Azure.\n"
     ]
    },
    {
     "name": "stderr",
     "output_type": "stream",
     "text": [
      " 64%|██████▎   | 23747/37253 [02:55<01:37, 138.96it/s]"
     ]
    },
    {
     "name": "stdout",
     "output_type": "stream",
     "text": [
      "Skipping due to missing or non-string Azure.\n"
     ]
    },
    {
     "name": "stderr",
     "output_type": "stream",
     "text": [
      " 64%|██████▍   | 23970/37253 [02:56<01:31, 144.62it/s]"
     ]
    },
    {
     "name": "stdout",
     "output_type": "stream",
     "text": [
      "Skipping due to missing or non-string Azure.\n"
     ]
    },
    {
     "name": "stderr",
     "output_type": "stream",
     "text": [
      " 65%|██████▍   | 24135/37253 [02:57<01:31, 143.32it/s]"
     ]
    },
    {
     "name": "stdout",
     "output_type": "stream",
     "text": [
      "Skipping due to missing or non-string Azure.\n"
     ]
    },
    {
     "name": "stderr",
     "output_type": "stream",
     "text": [
      " 65%|██████▌   | 24225/37253 [02:58<01:31, 141.67it/s]"
     ]
    },
    {
     "name": "stdout",
     "output_type": "stream",
     "text": [
      "Skipping due to missing or non-string Azure.\n"
     ]
    },
    {
     "name": "stderr",
     "output_type": "stream",
     "text": [
      " 65%|██████▌   | 24300/37253 [02:58<01:30, 143.33it/s]"
     ]
    },
    {
     "name": "stdout",
     "output_type": "stream",
     "text": [
      "Skipping due to missing or non-string Azure.\n"
     ]
    },
    {
     "name": "stderr",
     "output_type": "stream",
     "text": [
      " 65%|██████▌   | 24375/37253 [02:59<01:31, 141.38it/s]"
     ]
    },
    {
     "name": "stdout",
     "output_type": "stream",
     "text": [
      "Skipping due to missing or non-string Azure.\n"
     ]
    },
    {
     "name": "stderr",
     "output_type": "stream",
     "text": [
      " 66%|██████▋   | 24717/37253 [03:01<01:32, 135.95it/s]"
     ]
    },
    {
     "name": "stdout",
     "output_type": "stream",
     "text": [
      "Skipping due to missing or non-string Azure.\n"
     ]
    },
    {
     "name": "stderr",
     "output_type": "stream",
     "text": [
      " 66%|██████▋   | 24759/37253 [03:02<01:37, 128.67it/s]"
     ]
    },
    {
     "name": "stdout",
     "output_type": "stream",
     "text": [
      "Skipping due to missing or non-string Azure.\n",
      "Skipping due to missing or non-string Azure.\n"
     ]
    },
    {
     "name": "stderr",
     "output_type": "stream",
     "text": [
      " 67%|██████▋   | 24842/37253 [03:02<01:33, 132.11it/s]"
     ]
    },
    {
     "name": "stdout",
     "output_type": "stream",
     "text": [
      "Skipping due to missing or non-string Azure.\n"
     ]
    },
    {
     "name": "stderr",
     "output_type": "stream",
     "text": [
      " 67%|██████▋   | 24982/37253 [03:03<01:30, 136.13it/s]"
     ]
    },
    {
     "name": "stdout",
     "output_type": "stream",
     "text": [
      "Skipping due to missing or non-string Azure.\n"
     ]
    },
    {
     "name": "stderr",
     "output_type": "stream",
     "text": [
      " 67%|██████▋   | 25095/37253 [03:04<01:31, 133.53it/s]"
     ]
    },
    {
     "name": "stdout",
     "output_type": "stream",
     "text": [
      "Skipping due to missing or non-string Azure.\n",
      "Skipping due to missing or non-string Azure.\n"
     ]
    },
    {
     "name": "stderr",
     "output_type": "stream",
     "text": [
      " 68%|██████▊   | 25279/37253 [03:06<01:25, 140.18it/s]"
     ]
    },
    {
     "name": "stdout",
     "output_type": "stream",
     "text": [
      "Skipping due to missing or non-string Azure.\n"
     ]
    },
    {
     "name": "stderr",
     "output_type": "stream",
     "text": [
      " 68%|██████▊   | 25382/37253 [03:06<01:25, 138.67it/s]"
     ]
    },
    {
     "name": "stdout",
     "output_type": "stream",
     "text": [
      "Skipping due to missing or non-string Azure.\n"
     ]
    },
    {
     "name": "stderr",
     "output_type": "stream",
     "text": [
      " 69%|██████▊   | 25530/37253 [03:07<01:23, 140.40it/s]"
     ]
    },
    {
     "name": "stdout",
     "output_type": "stream",
     "text": [
      "Skipping due to missing or non-string Azure.\n"
     ]
    },
    {
     "name": "stderr",
     "output_type": "stream",
     "text": [
      " 69%|██████▊   | 25560/37253 [03:08<01:23, 140.38it/s]"
     ]
    },
    {
     "name": "stdout",
     "output_type": "stream",
     "text": [
      "Skipping due to missing or non-string Azure.\n"
     ]
    },
    {
     "name": "stderr",
     "output_type": "stream",
     "text": [
      " 69%|██████▉   | 25822/37253 [03:10<01:21, 139.99it/s]"
     ]
    },
    {
     "name": "stdout",
     "output_type": "stream",
     "text": [
      "Skipping due to missing or non-string Azure.\n"
     ]
    },
    {
     "name": "stderr",
     "output_type": "stream",
     "text": [
      " 70%|███████   | 26214/37253 [03:12<01:19, 139.03it/s]"
     ]
    },
    {
     "name": "stdout",
     "output_type": "stream",
     "text": [
      "Skipping due to missing or non-string Azure.\n"
     ]
    },
    {
     "name": "stderr",
     "output_type": "stream",
     "text": [
      " 70%|███████   | 26258/37253 [03:13<01:17, 141.16it/s]"
     ]
    },
    {
     "name": "stdout",
     "output_type": "stream",
     "text": [
      "Skipping due to missing or non-string Azure.\n"
     ]
    },
    {
     "name": "stderr",
     "output_type": "stream",
     "text": [
      " 71%|███████   | 26452/37253 [03:14<01:15, 142.54it/s]"
     ]
    },
    {
     "name": "stdout",
     "output_type": "stream",
     "text": [
      "Skipping due to missing or non-string Azure.\n"
     ]
    },
    {
     "name": "stderr",
     "output_type": "stream",
     "text": [
      " 72%|███████▏  | 26958/37253 [03:18<01:13, 141.00it/s]"
     ]
    },
    {
     "name": "stdout",
     "output_type": "stream",
     "text": [
      "Skipping due to missing or non-string Azure.\n"
     ]
    },
    {
     "name": "stderr",
     "output_type": "stream",
     "text": [
      " 73%|███████▎  | 27078/37253 [03:19<01:12, 141.31it/s]"
     ]
    },
    {
     "name": "stdout",
     "output_type": "stream",
     "text": [
      "Skipping due to missing or non-string Azure.\n"
     ]
    },
    {
     "name": "stderr",
     "output_type": "stream",
     "text": [
      " 73%|███████▎  | 27151/37253 [03:19<01:12, 138.99it/s]"
     ]
    },
    {
     "name": "stdout",
     "output_type": "stream",
     "text": [
      "Skipping due to missing or non-string Azure.\n"
     ]
    },
    {
     "name": "stderr",
     "output_type": "stream",
     "text": [
      " 73%|███████▎  | 27336/37253 [03:20<01:10, 139.74it/s]"
     ]
    },
    {
     "name": "stdout",
     "output_type": "stream",
     "text": [
      "Skipping due to missing or non-string Azure.\n",
      "Skipping due to missing or non-string Azure.\n"
     ]
    },
    {
     "name": "stderr",
     "output_type": "stream",
     "text": [
      " 74%|███████▎  | 27396/37253 [03:21<01:08, 143.19it/s]"
     ]
    },
    {
     "name": "stdout",
     "output_type": "stream",
     "text": [
      "Skipping due to missing or non-string Azure.\n"
     ]
    },
    {
     "name": "stderr",
     "output_type": "stream",
     "text": [
      " 74%|███████▍  | 27531/37253 [03:22<01:08, 141.67it/s]"
     ]
    },
    {
     "name": "stdout",
     "output_type": "stream",
     "text": [
      "Skipping due to missing or non-string Azure.\n"
     ]
    },
    {
     "name": "stderr",
     "output_type": "stream",
     "text": [
      " 75%|███████▍  | 27857/37253 [03:24<01:06, 142.12it/s]"
     ]
    },
    {
     "name": "stdout",
     "output_type": "stream",
     "text": [
      "Skipping due to missing or non-string Azure.\n"
     ]
    },
    {
     "name": "stderr",
     "output_type": "stream",
     "text": [
      " 76%|███████▌  | 28229/37253 [03:27<01:06, 136.43it/s]"
     ]
    },
    {
     "name": "stdout",
     "output_type": "stream",
     "text": [
      "Skipping due to missing or non-string Azure.\n"
     ]
    },
    {
     "name": "stderr",
     "output_type": "stream",
     "text": [
      " 78%|███████▊  | 29241/37253 [03:34<00:57, 140.16it/s]"
     ]
    },
    {
     "name": "stdout",
     "output_type": "stream",
     "text": [
      "Skipping due to missing or non-string Azure.\n"
     ]
    },
    {
     "name": "stderr",
     "output_type": "stream",
     "text": [
      " 80%|███████▉  | 29627/37253 [03:37<00:55, 138.36it/s]"
     ]
    },
    {
     "name": "stdout",
     "output_type": "stream",
     "text": [
      "Skipping due to missing or non-string Azure.\n"
     ]
    },
    {
     "name": "stderr",
     "output_type": "stream",
     "text": [
      " 81%|████████  | 30073/37253 [03:40<00:51, 138.20it/s]"
     ]
    },
    {
     "name": "stdout",
     "output_type": "stream",
     "text": [
      "Skipping due to missing or non-string Azure.\n"
     ]
    },
    {
     "name": "stderr",
     "output_type": "stream",
     "text": [
      " 81%|████████  | 30102/37253 [03:40<00:51, 138.60it/s]"
     ]
    },
    {
     "name": "stdout",
     "output_type": "stream",
     "text": [
      "Skipping due to missing or non-string Azure.\n"
     ]
    },
    {
     "name": "stderr",
     "output_type": "stream",
     "text": [
      " 81%|████████  | 30161/37253 [03:40<00:49, 141.91it/s]"
     ]
    },
    {
     "name": "stdout",
     "output_type": "stream",
     "text": [
      "Skipping due to missing or non-string Azure.\n"
     ]
    },
    {
     "name": "stderr",
     "output_type": "stream",
     "text": [
      " 81%|████████  | 30191/37253 [03:41<00:49, 142.19it/s]"
     ]
    },
    {
     "name": "stdout",
     "output_type": "stream",
     "text": [
      "Skipping due to missing or non-string Azure.\n"
     ]
    },
    {
     "name": "stderr",
     "output_type": "stream",
     "text": [
      " 81%|████████  | 30236/37253 [03:41<00:49, 141.81it/s]"
     ]
    },
    {
     "name": "stdout",
     "output_type": "stream",
     "text": [
      "Skipping due to missing or non-string Azure.\n",
      "Skipping due to missing or non-string Azure.\n"
     ]
    },
    {
     "name": "stderr",
     "output_type": "stream",
     "text": [
      " 81%|████████  | 30266/37253 [03:41<00:49, 142.05it/s]"
     ]
    },
    {
     "name": "stdout",
     "output_type": "stream",
     "text": [
      "Skipping due to missing or non-string Azure.\n"
     ]
    },
    {
     "name": "stderr",
     "output_type": "stream",
     "text": [
      " 81%|████████▏ | 30326/37253 [03:42<00:49, 141.27it/s]"
     ]
    },
    {
     "name": "stdout",
     "output_type": "stream",
     "text": [
      "Skipping due to missing or non-string Azure.\n"
     ]
    },
    {
     "name": "stderr",
     "output_type": "stream",
     "text": [
      " 82%|████████▏ | 30386/37253 [03:42<00:47, 143.27it/s]"
     ]
    },
    {
     "name": "stdout",
     "output_type": "stream",
     "text": [
      "Skipping due to missing or non-string Azure.\n",
      "Skipping due to missing or non-string Azure.\n"
     ]
    },
    {
     "name": "stderr",
     "output_type": "stream",
     "text": [
      " 82%|████████▏ | 30431/37253 [03:42<00:47, 142.76it/s]"
     ]
    },
    {
     "name": "stdout",
     "output_type": "stream",
     "text": [
      "Skipping due to missing or non-string Azure.\n"
     ]
    },
    {
     "name": "stderr",
     "output_type": "stream",
     "text": [
      " 82%|████████▏ | 30491/37253 [03:43<00:47, 142.44it/s]"
     ]
    },
    {
     "name": "stdout",
     "output_type": "stream",
     "text": [
      "Skipping due to missing or non-string Azure.\n",
      "Skipping due to missing or non-string Azure.\n"
     ]
    },
    {
     "name": "stderr",
     "output_type": "stream",
     "text": [
      " 82%|████████▏ | 30578/37253 [03:43<00:48, 139.00it/s]"
     ]
    },
    {
     "name": "stdout",
     "output_type": "stream",
     "text": [
      "Skipping due to missing or non-string Azure.\n"
     ]
    },
    {
     "name": "stderr",
     "output_type": "stream",
     "text": [
      " 82%|████████▏ | 30653/37253 [03:44<00:45, 144.25it/s]"
     ]
    },
    {
     "name": "stdout",
     "output_type": "stream",
     "text": [
      "Skipping due to missing or non-string Azure.\n",
      "Skipping due to missing or non-string Azure.\n",
      "Skipping due to missing or non-string Azure.\n"
     ]
    },
    {
     "name": "stderr",
     "output_type": "stream",
     "text": [
      " 82%|████████▏ | 30683/37253 [03:44<00:45, 144.11it/s]"
     ]
    },
    {
     "name": "stdout",
     "output_type": "stream",
     "text": [
      "Skipping due to missing or non-string Azure.\n"
     ]
    },
    {
     "name": "stderr",
     "output_type": "stream",
     "text": [
      " 88%|████████▊ | 32698/37253 [03:58<00:31, 143.18it/s]"
     ]
    },
    {
     "name": "stdout",
     "output_type": "stream",
     "text": [
      "Skipping due to missing or non-string Azure.\n"
     ]
    },
    {
     "name": "stderr",
     "output_type": "stream",
     "text": [
      " 90%|█████████ | 33702/37253 [04:06<00:24, 143.25it/s]"
     ]
    },
    {
     "name": "stdout",
     "output_type": "stream",
     "text": [
      "Skipping due to missing or non-string Azure.\n"
     ]
    },
    {
     "name": "stderr",
     "output_type": "stream",
     "text": [
      " 91%|█████████ | 33987/37253 [04:08<00:22, 142.61it/s]"
     ]
    },
    {
     "name": "stdout",
     "output_type": "stream",
     "text": [
      "Skipping due to missing or non-string Azure.\n"
     ]
    },
    {
     "name": "stderr",
     "output_type": "stream",
     "text": [
      " 91%|█████████▏| 34032/37253 [04:08<00:22, 143.77it/s]"
     ]
    },
    {
     "name": "stdout",
     "output_type": "stream",
     "text": [
      "Skipping due to missing or non-string Azure.\n",
      "Skipping: One of the rows is empty.\n"
     ]
    },
    {
     "name": "stderr",
     "output_type": "stream",
     "text": [
      " 92%|█████████▏| 34107/37253 [04:08<00:21, 144.13it/s]"
     ]
    },
    {
     "name": "stdout",
     "output_type": "stream",
     "text": [
      "Skipping: One of the rows is empty.\n"
     ]
    },
    {
     "name": "stderr",
     "output_type": "stream",
     "text": [
      " 93%|█████████▎| 34601/37253 [04:12<00:19, 134.00it/s]"
     ]
    },
    {
     "name": "stdout",
     "output_type": "stream",
     "text": [
      "Skipping: One of the rows is empty.\n"
     ]
    },
    {
     "name": "stderr",
     "output_type": "stream",
     "text": [
      " 94%|█████████▎| 34846/37253 [04:14<00:17, 137.14it/s]"
     ]
    },
    {
     "name": "stdout",
     "output_type": "stream",
     "text": [
      "Skipping due to missing or non-string Azure.\n"
     ]
    },
    {
     "name": "stderr",
     "output_type": "stream",
     "text": [
      " 94%|█████████▍| 34960/37253 [04:15<00:16, 139.37it/s]"
     ]
    },
    {
     "name": "stdout",
     "output_type": "stream",
     "text": [
      "Skipping due to missing or non-string Azure.\n"
     ]
    },
    {
     "name": "stderr",
     "output_type": "stream",
     "text": [
      " 96%|█████████▋| 35858/37253 [04:21<00:10, 132.49it/s]"
     ]
    },
    {
     "name": "stdout",
     "output_type": "stream",
     "text": [
      "Skipping due to missing or non-string Azure.\n"
     ]
    },
    {
     "name": "stderr",
     "output_type": "stream",
     "text": [
      " 96%|█████████▋| 35886/37253 [04:21<00:10, 131.73it/s]"
     ]
    },
    {
     "name": "stdout",
     "output_type": "stream",
     "text": [
      "Skipping due to missing or non-string Azure.\n"
     ]
    },
    {
     "name": "stderr",
     "output_type": "stream",
     "text": [
      "100%|██████████| 37253/37253 [04:31<00:00, 137.19it/s]\n"
     ]
    }
   ],
   "source": [
    "print_ = True\n",
    "\n",
    "for index, row in tqdm(net_aigenerated_data_azure.iterrows(), total=len(net_aigenerated_data_azure)):\n",
    "    \n",
    "    mask_large = (\n",
    "        (net_aigenerated_data_azure[\"Filename\"] == row[\"Filename\"]) &\n",
    "        (net_aigenerated_data_azure[\"Start_time\"] == row[\"Start_time\"])\n",
    "    )\n",
    "\n",
    "    mask_net = (\n",
    "        (net_data[\"Filename\"] == row[\"Filename\"]) &\n",
    "        (net_data[\"Start_time\"] == row[\"Start_time\"])\n",
    "    )\n",
    "\n",
    "    \n",
    "    large_row = net_aigenerated_data_azure.loc[mask_large]\n",
    "    net_row = net_data.loc[mask_net]\n",
    "\n",
    "    # print(large_row)\n",
    "    # print('\\n\\n\\n\\n')\n",
    "    # print(net_row)\n",
    "    \n",
    "    if large_row.empty or net_row.empty:\n",
    "        print(\"Skipping: One of the rows is empty.\")\n",
    "        continue\n",
    "        \n",
    "    azure = large_row[\"Azure\"].values[0]\n",
    "    cleaned_transcript = net_row[\"Cleaned_Transcript\"].values[0]\n",
    "    \n",
    "    if pd.isna(azure) or not isinstance(azure, str):\n",
    "        print(\"Skipping due to missing or non-string Azure.\")\n",
    "        continue\n",
    "    if pd.isna(cleaned_transcript) or not isinstance(cleaned_transcript, str):\n",
    "        print(\"Skipping due to missing or non-string Cleaned_Transcript.\")\n",
    "        continue\n",
    "\n",
    "    try:\n",
    "        \n",
    "        scores = rouge.get_scores(' '.join(jieba.cut(azure)), ' '.join(jieba.cut(cleaned_transcript)))\n",
    "        \n",
    "        net_aigenerated_data_azure.loc[mask_large, \"rouge1-precision\"] = scores[0][\"rouge-1\"][\"p\"]\n",
    "        net_aigenerated_data_azure.loc[mask_large, \"rouge1-recall\"] = scores[0][\"rouge-1\"][\"r\"]\n",
    "        net_aigenerated_data_azure.loc[mask_large, \"rouge1-f1\"] = scores[0][\"rouge-1\"][\"f\"]\n",
    "        \n",
    "        \n",
    "        net_aigenerated_data_azure.loc[mask_large, \"rouge2-precision\"] = scores[0][\"rouge-2\"][\"p\"]\n",
    "        net_aigenerated_data_azure.loc[mask_large, \"rouge2-recall\"] = scores[0][\"rouge-2\"][\"r\"]\n",
    "        net_aigenerated_data_azure.loc[mask_large, \"rouge2-f1\"] = scores[0][\"rouge-2\"][\"f\"]\n",
    "        \n",
    "        \n",
    "        net_aigenerated_data_azure.loc[mask_large, \"rougel-precision\"] = scores[0][\"rouge-l\"][\"p\"]\n",
    "        net_aigenerated_data_azure.loc[mask_large, \"rougel-recall\"] = scores[0][\"rouge-l\"][\"r\"]\n",
    "        net_aigenerated_data_azure.loc[mask_large, \"rougel-f1\"] = scores[0][\"rouge-l\"][\"f\"]\n",
    "        \n",
    "        stutterance_count = net_row[\"Stutterance_Count\"].values[0]\n",
    "        net_aigenerated_data_azure.loc[mask_large, \"Stutterance_Count\"] = stutterance_count\n",
    "\n",
    "        if (print_):\n",
    "            print(net_aigenerated_data_azure)\n",
    "            print_ = False\n",
    "        \n",
    "        # Verify assignment\n",
    "        # print(f'Assigned Stutterance_Count: {stutterance_count}')\n",
    "        # print(net_aigenerated_data_azure.loc[mask_large, \"Stutterance_Count\"])\n",
    "\n",
    "    except Exception as e:\n",
    "        print(f'ERROR: {e}')\n",
    "        print('Occurred with the following data:')\n",
    "        print(large_row)\n",
    "        print(net_row)"
   ]
  },
  {
   "cell_type": "code",
   "execution_count": 23,
   "id": "8e6bc54a-90fb-409a-a30d-d90ddf2550cf",
   "metadata": {
    "tags": []
   },
   "outputs": [
    {
     "data": {
      "text/html": [
       "<div>\n",
       "<style scoped>\n",
       "    .dataframe tbody tr th:only-of-type {\n",
       "        vertical-align: middle;\n",
       "    }\n",
       "\n",
       "    .dataframe tbody tr th {\n",
       "        vertical-align: top;\n",
       "    }\n",
       "\n",
       "    .dataframe thead th {\n",
       "        text-align: right;\n",
       "    }\n",
       "</style>\n",
       "<table border=\"1\" class=\"dataframe\">\n",
       "  <thead>\n",
       "    <tr style=\"text-align: right;\">\n",
       "      <th></th>\n",
       "      <th>Filename</th>\n",
       "      <th>Start_time</th>\n",
       "      <th>End_time</th>\n",
       "      <th>Azure</th>\n",
       "      <th>WER</th>\n",
       "      <th>Stutterance_Count</th>\n",
       "      <th>NA_Count</th>\n",
       "      <th>NA_Cleaned_Count</th>\n",
       "      <th>WER_Binned</th>\n",
       "      <th>rouge1-precision</th>\n",
       "      <th>rouge1-recall</th>\n",
       "      <th>rouge1-f1</th>\n",
       "      <th>rouge2-precision</th>\n",
       "      <th>rouge2-recall</th>\n",
       "      <th>rouge2-f1</th>\n",
       "      <th>rougel-precision</th>\n",
       "      <th>rougel-recall</th>\n",
       "      <th>rougel-f1</th>\n",
       "    </tr>\n",
       "  </thead>\n",
       "  <tbody>\n",
       "    <tr>\n",
       "      <th>0</th>\n",
       "      <td>D0001_A</td>\n",
       "      <td>2081.540000</td>\n",
       "      <td>2109.650000</td>\n",
       "      <td>我说出来就比较的需要时间啊，然后那个嗯识别的它的它就是它等你一会儿你那个话还没有说完的，还没...</td>\n",
       "      <td>0.072165</td>\n",
       "      <td>1.0</td>\n",
       "      <td>470</td>\n",
       "      <td>0</td>\n",
       "      <td>0.07</td>\n",
       "      <td>0.948718</td>\n",
       "      <td>0.973684</td>\n",
       "      <td>0.961039</td>\n",
       "      <td>0.850000</td>\n",
       "      <td>0.836066</td>\n",
       "      <td>0.842975</td>\n",
       "      <td>0.942857</td>\n",
       "      <td>0.942857</td>\n",
       "      <td>0.942857</td>\n",
       "    </tr>\n",
       "    <tr>\n",
       "      <th>1</th>\n",
       "      <td>D0001_A</td>\n",
       "      <td>790.130000</td>\n",
       "      <td>796.580000</td>\n",
       "      <td>电视剧。</td>\n",
       "      <td>0.600000</td>\n",
       "      <td>1.0</td>\n",
       "      <td>470</td>\n",
       "      <td>0</td>\n",
       "      <td>0.60</td>\n",
       "      <td>1.000000</td>\n",
       "      <td>0.285714</td>\n",
       "      <td>0.444444</td>\n",
       "      <td>0.000000</td>\n",
       "      <td>0.000000</td>\n",
       "      <td>0.000000</td>\n",
       "      <td>1.000000</td>\n",
       "      <td>0.285714</td>\n",
       "      <td>0.444444</td>\n",
       "    </tr>\n",
       "    <tr>\n",
       "      <th>2</th>\n",
       "      <td>D0001_A</td>\n",
       "      <td>1562.083518</td>\n",
       "      <td>1586.220000</td>\n",
       "      <td>这部剧是不怎么？</td>\n",
       "      <td>0.875000</td>\n",
       "      <td>10.0</td>\n",
       "      <td>470</td>\n",
       "      <td>0</td>\n",
       "      <td>0.88</td>\n",
       "      <td>0.750000</td>\n",
       "      <td>0.096774</td>\n",
       "      <td>0.171429</td>\n",
       "      <td>0.666667</td>\n",
       "      <td>0.050000</td>\n",
       "      <td>0.093023</td>\n",
       "      <td>0.750000</td>\n",
       "      <td>0.071429</td>\n",
       "      <td>0.130435</td>\n",
       "    </tr>\n",
       "    <tr>\n",
       "      <th>3</th>\n",
       "      <td>D0001_A</td>\n",
       "      <td>2016.780000</td>\n",
       "      <td>2035.673559</td>\n",
       "      <td>很很精准，对。</td>\n",
       "      <td>0.868421</td>\n",
       "      <td>7.0</td>\n",
       "      <td>470</td>\n",
       "      <td>0</td>\n",
       "      <td>0.87</td>\n",
       "      <td>0.800000</td>\n",
       "      <td>0.200000</td>\n",
       "      <td>0.320000</td>\n",
       "      <td>0.600000</td>\n",
       "      <td>0.107143</td>\n",
       "      <td>0.181818</td>\n",
       "      <td>0.666667</td>\n",
       "      <td>0.129032</td>\n",
       "      <td>0.216216</td>\n",
       "    </tr>\n",
       "    <tr>\n",
       "      <th>4</th>\n",
       "      <td>D0001_A</td>\n",
       "      <td>1682.670000</td>\n",
       "      <td>1709.110000</td>\n",
       "      <td>一个，那个是，嗯，叫。</td>\n",
       "      <td>0.882353</td>\n",
       "      <td>8.0</td>\n",
       "      <td>470</td>\n",
       "      <td>0</td>\n",
       "      <td>0.88</td>\n",
       "      <td>1.000000</td>\n",
       "      <td>0.212121</td>\n",
       "      <td>0.350000</td>\n",
       "      <td>0.125000</td>\n",
       "      <td>0.022727</td>\n",
       "      <td>0.038462</td>\n",
       "      <td>0.777778</td>\n",
       "      <td>0.142857</td>\n",
       "      <td>0.241379</td>\n",
       "    </tr>\n",
       "    <tr>\n",
       "      <th>...</th>\n",
       "      <td>...</td>\n",
       "      <td>...</td>\n",
       "      <td>...</td>\n",
       "      <td>...</td>\n",
       "      <td>...</td>\n",
       "      <td>...</td>\n",
       "      <td>...</td>\n",
       "      <td>...</td>\n",
       "      <td>...</td>\n",
       "      <td>...</td>\n",
       "      <td>...</td>\n",
       "      <td>...</td>\n",
       "      <td>...</td>\n",
       "      <td>...</td>\n",
       "      <td>...</td>\n",
       "      <td>...</td>\n",
       "      <td>...</td>\n",
       "      <td>...</td>\n",
       "    </tr>\n",
       "    <tr>\n",
       "      <th>37248</th>\n",
       "      <td>P0070</td>\n",
       "      <td>2586.616000</td>\n",
       "      <td>2589.346000</td>\n",
       "      <td>单曲循环歌曲，这样而已。</td>\n",
       "      <td>0.090909</td>\n",
       "      <td>0.0</td>\n",
       "      <td>470</td>\n",
       "      <td>0</td>\n",
       "      <td>0.09</td>\n",
       "      <td>0.857143</td>\n",
       "      <td>1.000000</td>\n",
       "      <td>0.923077</td>\n",
       "      <td>0.666667</td>\n",
       "      <td>0.800000</td>\n",
       "      <td>0.727273</td>\n",
       "      <td>0.857143</td>\n",
       "      <td>1.000000</td>\n",
       "      <td>0.923077</td>\n",
       "    </tr>\n",
       "    <tr>\n",
       "      <th>37249</th>\n",
       "      <td>P0070</td>\n",
       "      <td>2782.496000</td>\n",
       "      <td>2783.706000</td>\n",
       "      <td>杨幂的电影。</td>\n",
       "      <td>0.000000</td>\n",
       "      <td>0.0</td>\n",
       "      <td>470</td>\n",
       "      <td>0</td>\n",
       "      <td>0.00</td>\n",
       "      <td>1.000000</td>\n",
       "      <td>1.000000</td>\n",
       "      <td>1.000000</td>\n",
       "      <td>1.000000</td>\n",
       "      <td>1.000000</td>\n",
       "      <td>1.000000</td>\n",
       "      <td>1.000000</td>\n",
       "      <td>1.000000</td>\n",
       "      <td>1.000000</td>\n",
       "    </tr>\n",
       "    <tr>\n",
       "      <th>37250</th>\n",
       "      <td>P0070</td>\n",
       "      <td>2995.296000</td>\n",
       "      <td>2998.116000</td>\n",
       "      <td>你好米呀今天柴油价怎么样？</td>\n",
       "      <td>0.200000</td>\n",
       "      <td>0.0</td>\n",
       "      <td>470</td>\n",
       "      <td>0</td>\n",
       "      <td>0.20</td>\n",
       "      <td>0.625000</td>\n",
       "      <td>0.625000</td>\n",
       "      <td>0.625000</td>\n",
       "      <td>0.428571</td>\n",
       "      <td>0.375000</td>\n",
       "      <td>0.400000</td>\n",
       "      <td>0.625000</td>\n",
       "      <td>0.555556</td>\n",
       "      <td>0.588235</td>\n",
       "    </tr>\n",
       "    <tr>\n",
       "      <th>37251</th>\n",
       "      <td>P0070</td>\n",
       "      <td>2604.066000</td>\n",
       "      <td>2606.656000</td>\n",
       "      <td>单曲循环歌曲流离光之歌。</td>\n",
       "      <td>0.166667</td>\n",
       "      <td>0.0</td>\n",
       "      <td>470</td>\n",
       "      <td>0</td>\n",
       "      <td>0.17</td>\n",
       "      <td>0.833333</td>\n",
       "      <td>0.833333</td>\n",
       "      <td>0.833333</td>\n",
       "      <td>0.600000</td>\n",
       "      <td>0.600000</td>\n",
       "      <td>0.600000</td>\n",
       "      <td>0.833333</td>\n",
       "      <td>0.833333</td>\n",
       "      <td>0.833333</td>\n",
       "    </tr>\n",
       "    <tr>\n",
       "      <th>37252</th>\n",
       "      <td>P0070</td>\n",
       "      <td>2434.606000</td>\n",
       "      <td>2436.576000</td>\n",
       "      <td>导航到龙城苑。</td>\n",
       "      <td>0.250000</td>\n",
       "      <td>0.0</td>\n",
       "      <td>470</td>\n",
       "      <td>0</td>\n",
       "      <td>0.25</td>\n",
       "      <td>0.600000</td>\n",
       "      <td>0.600000</td>\n",
       "      <td>0.600000</td>\n",
       "      <td>0.250000</td>\n",
       "      <td>0.250000</td>\n",
       "      <td>0.250000</td>\n",
       "      <td>0.600000</td>\n",
       "      <td>0.600000</td>\n",
       "      <td>0.600000</td>\n",
       "    </tr>\n",
       "  </tbody>\n",
       "</table>\n",
       "<p>37253 rows × 18 columns</p>\n",
       "</div>"
      ],
      "text/plain": [
       "      Filename   Start_time     End_time  \\\n",
       "0      D0001_A  2081.540000  2109.650000   \n",
       "1      D0001_A   790.130000   796.580000   \n",
       "2      D0001_A  1562.083518  1586.220000   \n",
       "3      D0001_A  2016.780000  2035.673559   \n",
       "4      D0001_A  1682.670000  1709.110000   \n",
       "...        ...          ...          ...   \n",
       "37248    P0070  2586.616000  2589.346000   \n",
       "37249    P0070  2782.496000  2783.706000   \n",
       "37250    P0070  2995.296000  2998.116000   \n",
       "37251    P0070  2604.066000  2606.656000   \n",
       "37252    P0070  2434.606000  2436.576000   \n",
       "\n",
       "                                                   Azure       WER  \\\n",
       "0      我说出来就比较的需要时间啊，然后那个嗯识别的它的它就是它等你一会儿你那个话还没有说完的，还没...  0.072165   \n",
       "1                                                   电视剧。  0.600000   \n",
       "2                                               这部剧是不怎么？  0.875000   \n",
       "3                                                很很精准，对。  0.868421   \n",
       "4                                            一个，那个是，嗯，叫。  0.882353   \n",
       "...                                                  ...       ...   \n",
       "37248                                       单曲循环歌曲，这样而已。  0.090909   \n",
       "37249                                             杨幂的电影。  0.000000   \n",
       "37250                                      你好米呀今天柴油价怎么样？  0.200000   \n",
       "37251                                       单曲循环歌曲流离光之歌。  0.166667   \n",
       "37252                                            导航到龙城苑。  0.250000   \n",
       "\n",
       "       Stutterance_Count  NA_Count  NA_Cleaned_Count  WER_Binned  \\\n",
       "0                    1.0       470                 0        0.07   \n",
       "1                    1.0       470                 0        0.60   \n",
       "2                   10.0       470                 0        0.88   \n",
       "3                    7.0       470                 0        0.87   \n",
       "4                    8.0       470                 0        0.88   \n",
       "...                  ...       ...               ...         ...   \n",
       "37248                0.0       470                 0        0.09   \n",
       "37249                0.0       470                 0        0.00   \n",
       "37250                0.0       470                 0        0.20   \n",
       "37251                0.0       470                 0        0.17   \n",
       "37252                0.0       470                 0        0.25   \n",
       "\n",
       "       rouge1-precision  rouge1-recall  rouge1-f1  rouge2-precision  \\\n",
       "0              0.948718       0.973684   0.961039          0.850000   \n",
       "1              1.000000       0.285714   0.444444          0.000000   \n",
       "2              0.750000       0.096774   0.171429          0.666667   \n",
       "3              0.800000       0.200000   0.320000          0.600000   \n",
       "4              1.000000       0.212121   0.350000          0.125000   \n",
       "...                 ...            ...        ...               ...   \n",
       "37248          0.857143       1.000000   0.923077          0.666667   \n",
       "37249          1.000000       1.000000   1.000000          1.000000   \n",
       "37250          0.625000       0.625000   0.625000          0.428571   \n",
       "37251          0.833333       0.833333   0.833333          0.600000   \n",
       "37252          0.600000       0.600000   0.600000          0.250000   \n",
       "\n",
       "       rouge2-recall  rouge2-f1  rougel-precision  rougel-recall  rougel-f1  \n",
       "0           0.836066   0.842975          0.942857       0.942857   0.942857  \n",
       "1           0.000000   0.000000          1.000000       0.285714   0.444444  \n",
       "2           0.050000   0.093023          0.750000       0.071429   0.130435  \n",
       "3           0.107143   0.181818          0.666667       0.129032   0.216216  \n",
       "4           0.022727   0.038462          0.777778       0.142857   0.241379  \n",
       "...              ...        ...               ...            ...        ...  \n",
       "37248       0.800000   0.727273          0.857143       1.000000   0.923077  \n",
       "37249       1.000000   1.000000          1.000000       1.000000   1.000000  \n",
       "37250       0.375000   0.400000          0.625000       0.555556   0.588235  \n",
       "37251       0.600000   0.600000          0.833333       0.833333   0.833333  \n",
       "37252       0.250000   0.250000          0.600000       0.600000   0.600000  \n",
       "\n",
       "[37253 rows x 18 columns]"
      ]
     },
     "execution_count": 23,
     "metadata": {},
     "output_type": "execute_result"
    }
   ],
   "source": [
    "net_aigenerated_data_azure"
   ]
  },
  {
   "cell_type": "code",
   "execution_count": 24,
   "id": "92cba2a5-5178-4579-b0a0-5ec8b89181fb",
   "metadata": {
    "tags": []
   },
   "outputs": [],
   "source": [
    "# net_aigenerated_data_azure.to_csv('net_aigenerated_data_azure_performance_data.csv', sep=',')"
   ]
  },
  {
   "cell_type": "markdown",
   "id": "1c4dd59d-7ebd-49bd-8d18-acae4780be3c",
   "metadata": {},
   "source": [
    "***"
   ]
  },
  {
   "cell_type": "markdown",
   "id": "413e91e6-4f9d-423a-9d57-d19ba960bac1",
   "metadata": {},
   "source": [
    "## Visualization of Relationship between Stutterance Count and Rouge Scores (Azure)"
   ]
  },
  {
   "cell_type": "code",
   "execution_count": 25,
   "id": "edf03ee0-99ec-4f0a-8a29-bc6d6e53bcb1",
   "metadata": {
    "tags": []
   },
   "outputs": [],
   "source": [
    "## Load data from csv if starting here\n",
    "\n",
    "# net_aigenerated_data_azure = pd.read_csv('/projectnb/ds549/projects/AImpower/evaluation-azure/net_aigenerated_data_azure_performance_data.csv', delimiter=',')"
   ]
  },
  {
   "cell_type": "code",
   "execution_count": 26,
   "id": "833e1afc-5996-44a9-a70a-feb0cdd29237",
   "metadata": {
    "tags": []
   },
   "outputs": [
    {
     "data": {
      "image/png": "[encoded data removed]",
      "text/plain": [
       "<Figure size 600x400 with 1 Axes>"
      ]
     },
     "metadata": {},
     "output_type": "display_data"
    }
   ],
   "source": [
    "plt.figure(figsize=(6, 4))\n",
    "plt.scatter(\n",
    "    net_aigenerated_data_azure[\"Stutterance_Count\"], \n",
    "    net_aigenerated_data_azure[\"rouge1-precision\"], \n",
    "    facecolors=\"none\", edgecolors='r',\n",
    "    marker=\"8\",\n",
    "    alpha=0.7  # Handle overlapping points\n",
    ")\n",
    "\n",
    "plt.scatter(\n",
    "    net_aigenerated_data_azure[\"Stutterance_Count\"], \n",
    "    net_aigenerated_data_azure[\"rouge1-recall\"], \n",
    "    facecolors=\"none\", edgecolors='g',\n",
    "    marker=\"^\",\n",
    "    alpha=0.7  # Handle overlapping points\n",
    ")\n",
    "\n",
    "plt.scatter(\n",
    "    net_aigenerated_data_azure[\"Stutterance_Count\"], \n",
    "    net_aigenerated_data_azure[\"rouge1-f1\"], \n",
    "    facecolors=\"none\", edgecolors='b',\n",
    "    marker=\".\",\n",
    "    alpha=0.7  # Handle overlapping points\n",
    ")\n",
    "\n",
    "plt.title(\"Rouge-1 vs Stutterance Count\", fontsize=16)\n",
    "plt.xlabel(\"Stutterance Count\", fontsize=14)\n",
    "plt.ylabel(\"Rouge Score\", fontsize=14)\n",
    "plt.grid(True)\n",
    "plt.show()"
   ]
  },
  {
   "cell_type": "code",
   "execution_count": 27,
   "id": "21b7c856-ac25-4ad8-af68-94b7603e413f",
   "metadata": {
    "tags": []
   },
   "outputs": [
    {
     "data": {
      "image/png": "[encoded data removed]",
      "text/plain": [
       "<Figure size 600x400 with 1 Axes>"
      ]
     },
     "metadata": {},
     "output_type": "display_data"
    }
   ],
   "source": [
    "plt.figure(figsize=(6, 4))\n",
    "plt.scatter(\n",
    "    net_aigenerated_data_azure[\"Stutterance_Count\"], \n",
    "    net_aigenerated_data_azure[\"rouge2-precision\"], \n",
    "    facecolors=\"none\", edgecolors='r',\n",
    "    marker=\"8\",\n",
    "    alpha=0.7  # Handle overlapping points\n",
    ")\n",
    "\n",
    "plt.scatter(\n",
    "    net_aigenerated_data_azure[\"Stutterance_Count\"], \n",
    "    net_aigenerated_data_azure[\"rouge2-recall\"], \n",
    "    facecolors=\"none\", edgecolors='g',\n",
    "    marker=\"^\",\n",
    "    alpha=0.7  # Handle overlapping points\n",
    ")\n",
    "\n",
    "plt.scatter(\n",
    "    net_aigenerated_data_azure[\"Stutterance_Count\"], \n",
    "    net_aigenerated_data_azure[\"rouge2-f1\"], \n",
    "    facecolors=\"none\", edgecolors='b',\n",
    "    marker=\".\",\n",
    "    alpha=0.7  # Handle overlapping points\n",
    ")\n",
    "\n",
    "plt.title(\"Rouge-2 vs Stutterance Count\", fontsize=16)\n",
    "plt.xlabel(\"Stutterance Count\", fontsize=14)\n",
    "plt.ylabel(\"Rouge Score\", fontsize=14)\n",
    "plt.grid(True)\n",
    "plt.show()"
   ]
  },
  {
   "cell_type": "code",
   "execution_count": 28,
   "id": "15aacd2e-8b9a-49e0-b93a-61cd141809ee",
   "metadata": {
    "tags": []
   },
   "outputs": [
    {
     "data": {
      "image/png": "[encoded data removed]",
      "text/plain": [
       "<Figure size 600x400 with 1 Axes>"
      ]
     },
     "metadata": {},
     "output_type": "display_data"
    }
   ],
   "source": [
    "plt.figure(figsize=(6, 4))\n",
    "plt.scatter(\n",
    "    net_aigenerated_data_azure[\"Stutterance_Count\"], \n",
    "    net_aigenerated_data_azure[\"rougel-precision\"], \n",
    "    facecolors=\"none\", edgecolors='r',\n",
    "    marker=\"8\",\n",
    "    alpha=0.7  # Handle overlapping points\n",
    ")\n",
    "\n",
    "plt.scatter(\n",
    "    net_aigenerated_data_azure[\"Stutterance_Count\"], \n",
    "    net_aigenerated_data_azure[\"rougel-recall\"], \n",
    "    facecolors=\"none\", edgecolors='g',\n",
    "    marker=\"^\",\n",
    "    alpha=0.7  # Handle overlapping points\n",
    ")\n",
    "\n",
    "plt.scatter(\n",
    "    net_aigenerated_data_azure[\"Stutterance_Count\"], \n",
    "    net_aigenerated_data_azure[\"rougel-f1\"], \n",
    "    facecolors=\"none\", edgecolors='b',\n",
    "    marker=\".\",\n",
    "    alpha=0.7  # Handle overlapping points\n",
    ")\n",
    "\n",
    "plt.title(\"Rouge-L vs Stutterance Count\", fontsize=16)\n",
    "plt.xlabel(\"Stutterance Count\", fontsize=14)\n",
    "plt.ylabel(\"Rouge Score\", fontsize=14)\n",
    "plt.grid(True)\n",
    "plt.show()"
   ]
  },
  {
   "cell_type": "markdown",
   "id": "60ec04e9-605d-4d66-ab46-87f8441a790c",
   "metadata": {},
   "source": [
    "## Correlations between Stuttering and Rouge Scores (Azure)"
   ]
  },
  {
   "cell_type": "code",
   "execution_count": 29,
   "id": "2f1aeda0-f917-4f4c-b5aa-bf5fe18f17f1",
   "metadata": {
    "tags": []
   },
   "outputs": [
    {
     "name": "stdout",
     "output_type": "stream",
     "text": [
      "p-value [stuttering count & rouge-1 precision] = 1.0095000362889638e-152\n",
      "rho [stuttering count & rouge-1 precision] = -0.13662674459631924\n",
      "p-value [stuttering count & rouge-1 recall] = 1.302145460028583e-288\n",
      "rho [stuttering count & rouge-1 recall] = -0.1876371806735333\n",
      "p-value [stuttering count & rouge-1 f1] = 0.0\n",
      "rho [stuttering count & rouge-1 f1] = -0.2170199655911308\n"
     ]
    }
   ],
   "source": [
    "from scipy.stats import spearmanr\n",
    "rho, p = spearmanr(net_aigenerated_data_azure.dropna()['Stutterance_Count'], net_aigenerated_data_azure.dropna()['rouge1-precision'])\n",
    "print(f\"p-value [stuttering count & rouge-1 precision] = {p}\")\n",
    "print(f\"rho [stuttering count & rouge-1 precision] = {rho}\")\n",
    "\n",
    "rho, p = spearmanr(net_aigenerated_data_azure.dropna()['Stutterance_Count'], net_aigenerated_data_azure.dropna()['rouge1-recall'])\n",
    "print(f\"p-value [stuttering count & rouge-1 recall] = {p}\")\n",
    "print(f\"rho [stuttering count & rouge-1 recall] = {rho}\")\n",
    "\n",
    "rho, p = spearmanr(net_aigenerated_data_azure.dropna()['Stutterance_Count'], net_aigenerated_data_azure.dropna()['rouge1-f1'])\n",
    "print(f\"p-value [stuttering count & rouge-1 f1] = {p}\")\n",
    "print(f\"rho [stuttering count & rouge-1 f1] = {rho}\")"
   ]
  },
  {
   "cell_type": "markdown",
   "id": "65baa6fc-1c22-4b22-9311-7c0109502d32",
   "metadata": {},
   "source": [
    "***\n",
    "***\n",
    "***"
   ]
  }
 ],
 "metadata": {
  "kernelspec": {
   "display_name": "Python 3 (ipykernel)",
   "language": "python",
   "name": "python3"
  },
  "language_info": {
   "codemirror_mode": {
    "name": "ipython",
    "version": 3
   },
   "file_extension": ".py",
   "mimetype": "text/x-python",
   "name": "python",
   "nbconvert_exporter": "python",
   "pygments_lexer": "ipython3",
   "version": "3.10.12"
  }
 },
 "nbformat": 4,
 "nbformat_minor": 5
}
