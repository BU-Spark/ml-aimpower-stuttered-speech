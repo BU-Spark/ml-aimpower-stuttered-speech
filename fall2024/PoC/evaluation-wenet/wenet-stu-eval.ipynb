{
 "cells": [
  {
   "cell_type": "markdown",
   "id": "39ade53f-41d9-4929-b8a6-c7bda2487903",
   "metadata": {},
   "source": [
    "# WeNet Evaluation On Stuttering"
   ]
  },
  {
   "cell_type": "markdown",
   "id": "0e91f32c-9f44-445e-af1d-d80438c80a73",
   "metadata": {},
   "source": [
    "1. Turn original transcripts into dataframes\n",
    "2. Read generated transcript dataframes\n",
    "3. Get Error & Stuttering count\n",
    "4. Get Error & Stuttering Type ==> show which Stuttering type is more prone to error\n",
    "5. Calculate Correlation Score\n",
    "6. Generate Heatmap\n",
    "7. Summarize Trend\n",
    "\n",
    "*** \n",
    "\n",
    "### Error Metrics\n",
    "1. Net / Total Word Error Rate\n",
    "2. Word Error Rate Specific After Cleaning other Stuttering Type Annotations"
   ]
  },
  {
   "cell_type": "markdown",
   "id": "7f3447c6-7204-47d4-90e4-c5cfdea58819",
   "metadata": {},
   "source": [
    "***"
   ]
  },
  {
   "cell_type": "markdown",
   "id": "cea686dc-bce5-4d46-9064-b11e197e5a78",
   "metadata": {},
   "source": [
    "## Using Custom Kernel on SCC\n",
    "\n",
    "SCC sometimes has the problem with installed library not importable [`module not found` error], this is an alternative.\n",
    "\n",
    "Assuming you have a conda environment created, you would do the following:\n",
    "1. `conda install -c anaconda ipykernel` \n",
    "2. `python -m ipykernel install --user --name=<env name>`\n",
    "3. If the new kernel cannot be found, relaunch a new SCC instance\n",
    "\n",
    "**Remember to switch to the conda env kernel**"
   ]
  },
  {
   "cell_type": "code",
   "execution_count": 1,
   "id": "e07f1428-92a8-4db0-829c-f30a8146f0ed",
   "metadata": {
    "tags": []
   },
   "outputs": [],
   "source": [
    "ds_transcript_path = \"/projectnb/ds549/projects/AImpower/datasets/updated_annotation_deid_full\""
   ]
  },
  {
   "cell_type": "code",
   "execution_count": 2,
   "id": "148a20da-9100-47fe-b6b4-acd844df0194",
   "metadata": {
    "tags": []
   },
   "outputs": [
    {
     "name": "stdout",
     "output_type": "stream",
     "text": [
      "Defaulting to user installation because normal site-packages is not writeable\n",
      "Requirement already satisfied: pandas in /share/pkg.8/python3/3.10.12/install/lib/python3.10/site-packages (2.0.3)\n",
      "Requirement already satisfied: numpy in /share/pkg.8/python3/3.10.12/install/lib/python3.10/site-packages (1.24.4)\n",
      "Requirement already satisfied: scipy in /share/pkg.8/python3/3.10.12/install/lib/python3.10/site-packages (1.11.1)\n",
      "Requirement already satisfied: tqdm in /share/pkg.8/python3/3.10.12/install/lib/python3.10/site-packages (4.65.0)\n",
      "Requirement already satisfied: python-dateutil>=2.8.2 in /share/pkg.8/python3/3.10.12/install/lib/python3.10/site-packages (from pandas) (2.8.2)\n",
      "Requirement already satisfied: pytz>=2020.1 in /share/pkg.8/python3/3.10.12/install/lib/python3.10/site-packages (from pandas) (2023.3)\n",
      "Requirement already satisfied: tzdata>=2022.1 in /share/pkg.8/python3/3.10.12/install/lib/python3.10/site-packages (from pandas) (2023.3)\n",
      "Requirement already satisfied: six>=1.5 in /share/pkg.8/python3/3.10.12/install/lib/python3.10/site-packages (from python-dateutil>=2.8.2->pandas) (1.16.0)\n",
      "\n",
      "\u001b[1m[\u001b[0m\u001b[34;49mnotice\u001b[0m\u001b[1;39;49m]\u001b[0m\u001b[39;49m A new release of pip is available: \u001b[0m\u001b[31;49m23.2.1\u001b[0m\u001b[39;49m -> \u001b[0m\u001b[32;49m24.3.1\u001b[0m\n",
      "\u001b[1m[\u001b[0m\u001b[34;49mnotice\u001b[0m\u001b[1;39;49m]\u001b[0m\u001b[39;49m To update, run: \u001b[0m\u001b[32;49mpip install --upgrade pip\u001b[0m\n"
     ]
    }
   ],
   "source": [
    "!pip install pandas numpy scipy tqdm"
   ]
  },
  {
   "cell_type": "markdown",
   "id": "0c243649-dc9e-45da-84b9-1698d77b8232",
   "metadata": {},
   "source": [
    "---"
   ]
  },
  {
   "cell_type": "markdown",
   "id": "ca38fa21-278b-424f-8346-a22b6090b43a",
   "metadata": {
    "tags": []
   },
   "source": [
    "## Word Error Rate\n",
    "\n",
    "Objectives:\n",
    "* split sequence into characters\n",
    "* count:\n",
    "    * deletion: missing words\n",
    "    * substitutions: wrongly recognized words\n",
    "    * insertions: extra words"
   ]
  },
  {
   "cell_type": "code",
   "execution_count": 3,
   "id": "0c81df43-e7a5-4fc8-bd91-aea09d092265",
   "metadata": {
    "tags": []
   },
   "outputs": [],
   "source": [
    "def wer(candidate, reference):\n",
    "    \"\"\"\n",
    "    Parameter(s)\n",
    "    ------------\n",
    "    candidate ==> generated transcript\n",
    "    reference ==> dataset transcript\n",
    "    \"\"\"\n",
    "    \n",
    "    candidate_tokens = list(candidate)\n",
    "    reference_tokens = list(reference)\n",
    "    \n",
    "    cand_len = len(candidate_tokens)\n",
    "    ref_len = len(reference_tokens)\n",
    "    \n",
    "    dist_mat = np.zeros((ref_len, cand_len), dtype=int)\n",
    "    \n",
    "    for i in range(ref_len):\n",
    "        dist_mat[i][0] = i\n",
    "    for j in range(cand_len):\n",
    "        dist_mat[0][j] = j\n",
    "        \n",
    "    for i in range(1, ref_len):\n",
    "        for j in range(1, cand_len):\n",
    "            if (candidate_tokens[j - 1] == reference_tokens[i - 1]):\n",
    "                cost = 0\n",
    "            else:\n",
    "                cost = 1\n",
    "                \n",
    "            dist_mat[i][j] = min(\n",
    "                dist_mat[i-1][j] + 1,\n",
    "                dist_mat[i][j-1] + 1,\n",
    "                dist_mat[i-1][j-1] + cost\n",
    "            )\n",
    "            # print(dist_mat)\n",
    "            \n",
    "    wer = dist_mat[-1][-1] / len(reference_tokens)\n",
    "    return wer"
   ]
  },
  {
   "cell_type": "markdown",
   "id": "febcf1a3-f6cc-4a91-adba-bcc77778de63",
   "metadata": {},
   "source": [
    "***"
   ]
  },
  {
   "cell_type": "markdown",
   "id": "b5a446d7-0d6b-4dee-bab6-04f07a352782",
   "metadata": {},
   "source": [
    "## Imports and Data Ingestion"
   ]
  },
  {
   "cell_type": "code",
   "execution_count": 2,
   "id": "e93b0091-575e-456b-98b3-512203307bbd",
   "metadata": {
    "tags": []
   },
   "outputs": [],
   "source": [
    "import pandas as pd\n",
    "import numpy as np\n",
    "import scipy\n",
    "import os\n",
    "from tqdm import tqdm\n",
    "import re\n",
    "import sys"
   ]
  },
  {
   "cell_type": "code",
   "execution_count": 5,
   "id": "fd42a3b2-7d82-49c2-8ef9-78072b41ea77",
   "metadata": {
    "tags": []
   },
   "outputs": [],
   "source": [
    "net_data = pd.DataFrame(columns=[\"Filename\", \"Start_time\", \"End_time\", \"Transcript\"]) \n",
    "net_aigenerated_data_wenet = pd.read_csv(\"/projectnb/ds549/projects/AImpower/datasets/generated-transcripts/WeNet.csv\", delimiter=\",\")\n",
    "\n",
    "del net_aigenerated_data_wenet[net_aigenerated_data_wenet.columns[0]]"
   ]
  },
  {
   "cell_type": "code",
   "execution_count": 6,
   "id": "39f9f360-6023-4820-8e62-0fec34f36acc",
   "metadata": {
    "tags": []
   },
   "outputs": [],
   "source": [
    "for folder in os.listdir(ds_transcript_path):\n",
    "    if folder == \"command_stats.xlsx\" or folder == \"command_stats.csv\":\n",
    "        continue\n",
    "    for audio_sample in os.listdir(os.path.join(ds_transcript_path, f\"{folder}\")):\n",
    "        if (\"_A.txt\" in audio_sample):\n",
    "            net_data = pd.concat([net_data, pd.read_csv(os.path.join(ds_transcript_path, f\"{folder}/{audio_sample}\"), sep=\"\\t\", names=[\"Start_time\", \"End_time\", \"Transcript\"]).assign(Filename=f\"D{folder}_A\")])\n",
    "        if (\"_B.txt\" in audio_sample):\n",
    "            net_data = pd.concat([net_data, pd.read_csv(os.path.join(ds_transcript_path, f\"{folder}/{audio_sample}\"), sep=\"\\t\", names=[\"Start_time\", \"End_time\", \"Transcript\"]).assign(Filename=f\"D{folder}_B\")])\n",
    "        if (\"P\" in audio_sample):\n",
    "            net_data = pd.concat([net_data, pd.read_csv(os.path.join(ds_transcript_path, f\"{folder}/{audio_sample}\"), sep=\"\\t\", names=[\"Start_time\", \"End_time\", \"Transcript\"]).assign(Filename=f\"P{folder}\")])"
   ]
  },
  {
   "cell_type": "code",
   "execution_count": 7,
   "id": "06ce2b50-9c43-40a6-ae23-69ed8676ff3b",
   "metadata": {
    "tags": []
   },
   "outputs": [],
   "source": [
    "mask_pattern = r\"\\<.*?\\>\"\n",
    "repetition_pattern = r\"\\[.*?\\]\"\n",
    "annotation_pattern = r\"/\\w\"\n",
    "\n",
    "\n",
    "net_data = net_data.assign(Cleaned_Transcript=net_data['Transcript'].apply(lambda x: re.sub(annotation_pattern, \"\", re.sub(repetition_pattern, \"\", re.sub(mask_pattern, \"\", x)))))\n",
    "net_data = net_data.assign(Stutterance_Count=net_data['Transcript'].apply(lambda x: len(re.findall(mask_pattern, x)) + len(re.findall(repetition_pattern, x)) + len(re.findall(annotation_pattern, x))))"
   ]
  },
  {
   "cell_type": "code",
   "execution_count": 8,
   "id": "0c0f8b87-c5bc-453f-9399-efef62a00a6c",
   "metadata": {
    "tags": []
   },
   "outputs": [
    {
     "data": {
      "text/html": [
       "<div>\n",
       "<style scoped>\n",
       "    .dataframe tbody tr th:only-of-type {\n",
       "        vertical-align: middle;\n",
       "    }\n",
       "\n",
       "    .dataframe tbody tr th {\n",
       "        vertical-align: top;\n",
       "    }\n",
       "\n",
       "    .dataframe thead th {\n",
       "        text-align: right;\n",
       "    }\n",
       "</style>\n",
       "<table border=\"1\" class=\"dataframe\">\n",
       "  <thead>\n",
       "    <tr style=\"text-align: right;\">\n",
       "      <th></th>\n",
       "      <th>Filename</th>\n",
       "      <th>Start_time</th>\n",
       "      <th>End_time</th>\n",
       "      <th>Transcript</th>\n",
       "      <th>Cleaned_Transcript</th>\n",
       "      <th>Stutterance_Count</th>\n",
       "    </tr>\n",
       "  </thead>\n",
       "  <tbody>\n",
       "    <tr>\n",
       "      <th>0</th>\n",
       "      <td>D0045_A</td>\n",
       "      <td>48.330</td>\n",
       "      <td>58.020</td>\n",
       "      <td>嗯，我[我/b我]现在已经工作了，我是/p一八年毕业的，然后我的专业是/p国际经济与贸易。</td>\n",
       "      <td>嗯，我现在已经工作了，我是一八年毕业的，然后我的专业是国际经济与贸易。</td>\n",
       "      <td>4</td>\n",
       "    </tr>\n",
       "    <tr>\n",
       "      <th>1</th>\n",
       "      <td>D0045_A</td>\n",
       "      <td>58.900</td>\n",
       "      <td>72.140</td>\n",
       "      <td>然后我现在嗯/i/p我现在的工作是/p[是]在/p[是在]&lt;人民银行&gt;，但是这个工作就是/p...</td>\n",
       "      <td>然后我现在嗯我现在的工作是在，但是这个工作就是可能快要就不干了。</td>\n",
       "      <td>8</td>\n",
       "    </tr>\n",
       "    <tr>\n",
       "      <th>2</th>\n",
       "      <td>D0045_A</td>\n",
       "      <td>74.100</td>\n",
       "      <td>81.260</td>\n",
       "      <td>嗯/i/p然后我平常的爱好是/p比较喜欢看电影，然后还喜欢打网球。</td>\n",
       "      <td>嗯然后我平常的爱好是比较喜欢看电影，然后还喜欢打网球。</td>\n",
       "      <td>3</td>\n",
       "    </tr>\n",
       "    <tr>\n",
       "      <th>3</th>\n",
       "      <td>D0045_A</td>\n",
       "      <td>84.930</td>\n",
       "      <td>86.320</td>\n",
       "      <td>嗯/i&lt;overlap&gt;结束了。</td>\n",
       "      <td>嗯结束了。</td>\n",
       "      <td>2</td>\n",
       "    </tr>\n",
       "    <tr>\n",
       "      <th>4</th>\n",
       "      <td>D0045_A</td>\n",
       "      <td>100.950</td>\n",
       "      <td>113.700</td>\n",
       "      <td>嗯，这个就是它[它]不是银行系统，然后它然/r后那个之所以不干，是因为就是这个，嗯/i就是现...</td>\n",
       "      <td>嗯，这个就是它不是银行系统，然后它然后那个之所以不干，是因为就是这个，嗯就是现在人民银行的县...</td>\n",
       "      <td>4</td>\n",
       "    </tr>\n",
       "    <tr>\n",
       "      <th>...</th>\n",
       "      <td>...</td>\n",
       "      <td>...</td>\n",
       "      <td>...</td>\n",
       "      <td>...</td>\n",
       "      <td>...</td>\n",
       "      <td>...</td>\n",
       "    </tr>\n",
       "    <tr>\n",
       "      <th>135</th>\n",
       "      <td>P0030</td>\n",
       "      <td>3202.732</td>\n",
       "      <td>3213.472</td>\n",
       "      <td>单曲循环歌曲最[最最]爱的为何没结果。</td>\n",
       "      <td>单曲循环歌曲最爱的为何没结果。</td>\n",
       "      <td>1</td>\n",
       "    </tr>\n",
       "    <tr>\n",
       "      <th>136</th>\n",
       "      <td>P0030</td>\n",
       "      <td>3216.222</td>\n",
       "      <td>3221.042</td>\n",
       "      <td>来[来]一首朴/p树的歌。</td>\n",
       "      <td>来一首朴树的歌。</td>\n",
       "      <td>2</td>\n",
       "    </tr>\n",
       "    <tr>\n",
       "      <th>137</th>\n",
       "      <td>P0030</td>\n",
       "      <td>3225.732</td>\n",
       "      <td>3236.142</td>\n",
       "      <td>搜[搜/r/b搜]索小灿的多/p年/p/r/b以后。</td>\n",
       "      <td>搜索小灿的多年以后。</td>\n",
       "      <td>7</td>\n",
       "    </tr>\n",
       "    <tr>\n",
       "      <th>138</th>\n",
       "      <td>P0030</td>\n",
       "      <td>3240.652</td>\n",
       "      <td>3253.172</td>\n",
       "      <td>播放半吨/b/r/p孙弟歌孙兄弟的歌。</td>\n",
       "      <td>播放半吨孙弟歌孙兄弟的歌。</td>\n",
       "      <td>3</td>\n",
       "    </tr>\n",
       "    <tr>\n",
       "      <th>139</th>\n",
       "      <td>P0030</td>\n",
       "      <td>3256.672</td>\n",
       "      <td>3264.012</td>\n",
       "      <td>单/p曲循环歌/p曲你的灵魂。</td>\n",
       "      <td>单曲循环歌曲你的灵魂。</td>\n",
       "      <td>2</td>\n",
       "    </tr>\n",
       "  </tbody>\n",
       "</table>\n",
       "<p>37250 rows × 6 columns</p>\n",
       "</div>"
      ],
      "text/plain": [
       "    Filename  Start_time  End_time  \\\n",
       "0    D0045_A      48.330    58.020   \n",
       "1    D0045_A      58.900    72.140   \n",
       "2    D0045_A      74.100    81.260   \n",
       "3    D0045_A      84.930    86.320   \n",
       "4    D0045_A     100.950   113.700   \n",
       "..       ...         ...       ...   \n",
       "135    P0030    3202.732  3213.472   \n",
       "136    P0030    3216.222  3221.042   \n",
       "137    P0030    3225.732  3236.142   \n",
       "138    P0030    3240.652  3253.172   \n",
       "139    P0030    3256.672  3264.012   \n",
       "\n",
       "                                            Transcript  \\\n",
       "0        嗯，我[我/b我]现在已经工作了，我是/p一八年毕业的，然后我的专业是/p国际经济与贸易。   \n",
       "1    然后我现在嗯/i/p我现在的工作是/p[是]在/p[是在]<人民银行>，但是这个工作就是/p...   \n",
       "2                    嗯/i/p然后我平常的爱好是/p比较喜欢看电影，然后还喜欢打网球。   \n",
       "3                                     嗯/i<overlap>结束了。   \n",
       "4    嗯，这个就是它[它]不是银行系统，然后它然/r后那个之所以不干，是因为就是这个，嗯/i就是现...   \n",
       "..                                                 ...   \n",
       "135                                单曲循环歌曲最[最最]爱的为何没结果。   \n",
       "136                                      来[来]一首朴/p树的歌。   \n",
       "137                         搜[搜/r/b搜]索小灿的多/p年/p/r/b以后。   \n",
       "138                                播放半吨/b/r/p孙弟歌孙兄弟的歌。   \n",
       "139                                    单/p曲循环歌/p曲你的灵魂。   \n",
       "\n",
       "                                    Cleaned_Transcript  Stutterance_Count  \n",
       "0                  嗯，我现在已经工作了，我是一八年毕业的，然后我的专业是国际经济与贸易。                  4  \n",
       "1                     然后我现在嗯我现在的工作是在，但是这个工作就是可能快要就不干了。                  8  \n",
       "2                          嗯然后我平常的爱好是比较喜欢看电影，然后还喜欢打网球。                  3  \n",
       "3                                                嗯结束了。                  2  \n",
       "4    嗯，这个就是它不是银行系统，然后它然后那个之所以不干，是因为就是这个，嗯就是现在人民银行的县...                  4  \n",
       "..                                                 ...                ...  \n",
       "135                                    单曲循环歌曲最爱的为何没结果。                  1  \n",
       "136                                           来一首朴树的歌。                  2  \n",
       "137                                         搜索小灿的多年以后。                  7  \n",
       "138                                      播放半吨孙弟歌孙兄弟的歌。                  3  \n",
       "139                                        单曲循环歌曲你的灵魂。                  2  \n",
       "\n",
       "[37250 rows x 6 columns]"
      ]
     },
     "execution_count": 8,
     "metadata": {},
     "output_type": "execute_result"
    }
   ],
   "source": [
    "net_data"
   ]
  },
  {
   "cell_type": "code",
   "execution_count": 9,
   "id": "04a8c032-607b-4eb7-ac99-6d82c28d846a",
   "metadata": {
    "tags": []
   },
   "outputs": [
    {
     "data": {
      "text/html": [
       "<div>\n",
       "<style scoped>\n",
       "    .dataframe tbody tr th:only-of-type {\n",
       "        vertical-align: middle;\n",
       "    }\n",
       "\n",
       "    .dataframe tbody tr th {\n",
       "        vertical-align: top;\n",
       "    }\n",
       "\n",
       "    .dataframe thead th {\n",
       "        text-align: right;\n",
       "    }\n",
       "</style>\n",
       "<table border=\"1\" class=\"dataframe\">\n",
       "  <thead>\n",
       "    <tr style=\"text-align: right;\">\n",
       "      <th></th>\n",
       "      <th>Filename</th>\n",
       "      <th>Start_time</th>\n",
       "      <th>End_time</th>\n",
       "      <th>WeNet</th>\n",
       "    </tr>\n",
       "  </thead>\n",
       "  <tbody>\n",
       "    <tr>\n",
       "      <th>0</th>\n",
       "      <td>D0001_A</td>\n",
       "      <td>2081.540000</td>\n",
       "      <td>2109.650000</td>\n",
       "      <td>我说出来就比较地需要时间然后那个识别的他的不就是他等你一会你那个话还没有说完的还没有说出来的...</td>\n",
       "    </tr>\n",
       "    <tr>\n",
       "      <th>1</th>\n",
       "      <td>D0001_A</td>\n",
       "      <td>790.130000</td>\n",
       "      <td>796.580000</td>\n",
       "      <td>第四句有我我说的话</td>\n",
       "    </tr>\n",
       "    <tr>\n",
       "      <th>2</th>\n",
       "      <td>D0001_A</td>\n",
       "      <td>1562.083518</td>\n",
       "      <td>1586.220000</td>\n",
       "      <td>这部剧是不怎么评分是不怎么好的就因为评评论区的那那些人他们都在说拿到号做好惨的那个就那么勤奋...</td>\n",
       "    </tr>\n",
       "    <tr>\n",
       "      <th>3</th>\n",
       "      <td>D0001_A</td>\n",
       "      <td>2016.780000</td>\n",
       "      <td>2035.673559</td>\n",
       "      <td>很精准对讯飞语音还是讯飞助手来着就我记得他是叫讯飞我之前就是他</td>\n",
       "    </tr>\n",
       "    <tr>\n",
       "      <th>4</th>\n",
       "      <td>D0001_A</td>\n",
       "      <td>1682.670000</td>\n",
       "      <td>1709.110000</td>\n",
       "      <td>一个个是叫啥来的我忘了就是出现了这一个人然后呢他他就射了一把剑然后就就把那个拿二号给长杀了就...</td>\n",
       "    </tr>\n",
       "    <tr>\n",
       "      <th>...</th>\n",
       "      <td>...</td>\n",
       "      <td>...</td>\n",
       "      <td>...</td>\n",
       "      <td>...</td>\n",
       "    </tr>\n",
       "    <tr>\n",
       "      <th>37248</th>\n",
       "      <td>P0070</td>\n",
       "      <td>2586.616000</td>\n",
       "      <td>2589.346000</td>\n",
       "      <td>单曲循环歌曲这样而已</td>\n",
       "    </tr>\n",
       "    <tr>\n",
       "      <th>37249</th>\n",
       "      <td>P0070</td>\n",
       "      <td>2782.496000</td>\n",
       "      <td>2783.706000</td>\n",
       "      <td>杨幂的电影</td>\n",
       "    </tr>\n",
       "    <tr>\n",
       "      <th>37250</th>\n",
       "      <td>P0070</td>\n",
       "      <td>2995.296000</td>\n",
       "      <td>2998.116000</td>\n",
       "      <td>你好米娅今天柴油价怎么样</td>\n",
       "    </tr>\n",
       "    <tr>\n",
       "      <th>37251</th>\n",
       "      <td>P0070</td>\n",
       "      <td>2604.066000</td>\n",
       "      <td>2606.656000</td>\n",
       "      <td>单曲循环歌曲琉璃光之歌</td>\n",
       "    </tr>\n",
       "    <tr>\n",
       "      <th>37252</th>\n",
       "      <td>P0070</td>\n",
       "      <td>2434.606000</td>\n",
       "      <td>2436.576000</td>\n",
       "      <td>导航到龙城明月</td>\n",
       "    </tr>\n",
       "  </tbody>\n",
       "</table>\n",
       "<p>37253 rows × 4 columns</p>\n",
       "</div>"
      ],
      "text/plain": [
       "      Filename   Start_time     End_time  \\\n",
       "0      D0001_A  2081.540000  2109.650000   \n",
       "1      D0001_A   790.130000   796.580000   \n",
       "2      D0001_A  1562.083518  1586.220000   \n",
       "3      D0001_A  2016.780000  2035.673559   \n",
       "4      D0001_A  1682.670000  1709.110000   \n",
       "...        ...          ...          ...   \n",
       "37248    P0070  2586.616000  2589.346000   \n",
       "37249    P0070  2782.496000  2783.706000   \n",
       "37250    P0070  2995.296000  2998.116000   \n",
       "37251    P0070  2604.066000  2606.656000   \n",
       "37252    P0070  2434.606000  2436.576000   \n",
       "\n",
       "                                                   WeNet  \n",
       "0      我说出来就比较地需要时间然后那个识别的他的不就是他等你一会你那个话还没有说完的还没有说出来的...  \n",
       "1                                              第四句有我我说的话  \n",
       "2      这部剧是不怎么评分是不怎么好的就因为评评论区的那那些人他们都在说拿到号做好惨的那个就那么勤奋...  \n",
       "3                        很精准对讯飞语音还是讯飞助手来着就我记得他是叫讯飞我之前就是他  \n",
       "4      一个个是叫啥来的我忘了就是出现了这一个人然后呢他他就射了一把剑然后就就把那个拿二号给长杀了就...  \n",
       "...                                                  ...  \n",
       "37248                                         单曲循环歌曲这样而已  \n",
       "37249                                              杨幂的电影  \n",
       "37250                                       你好米娅今天柴油价怎么样  \n",
       "37251                                        单曲循环歌曲琉璃光之歌  \n",
       "37252                                            导航到龙城明月  \n",
       "\n",
       "[37253 rows x 4 columns]"
      ]
     },
     "execution_count": 9,
     "metadata": {},
     "output_type": "execute_result"
    }
   ],
   "source": [
    "net_aigenerated_data_wenet"
   ]
  },
  {
   "cell_type": "markdown",
   "id": "70509616-62dc-494d-9914-f96010242e1c",
   "metadata": {},
   "source": [
    "**Now we have raw data of all audio transcriptions from datasets [updated_annotation_deid_full] in `net_data` and AI predicted transcriptions in `net_aigenerated_data_wenet`**"
   ]
  },
  {
   "cell_type": "markdown",
   "id": "ced1999f-2d44-4709-8169-719369c1067c",
   "metadata": {},
   "source": [
    "***"
   ]
  },
  {
   "cell_type": "markdown",
   "id": "060e2625-861c-4bd9-a7b2-82db58f4e931",
   "metadata": {},
   "source": [
    "## WER Analysis"
   ]
  },
  {
   "cell_type": "code",
   "execution_count": 10,
   "id": "a194fb38-ea3c-4028-92be-c106a00e84a8",
   "metadata": {
    "tags": []
   },
   "outputs": [
    {
     "name": "stderr",
     "output_type": "stream",
     "text": [
      "  2%|▏         | 704/37253 [00:04<04:32, 134.12it/s]"
     ]
    },
    {
     "name": "stdout",
     "output_type": "stream",
     "text": [
      "Skipping due to missing or non-string WeNet.\n"
     ]
    },
    {
     "name": "stderr",
     "output_type": "stream",
     "text": [
      "  4%|▎         | 1356/37253 [00:08<04:07, 144.75it/s]"
     ]
    },
    {
     "name": "stdout",
     "output_type": "stream",
     "text": [
      "Skipping due to missing or non-string WeNet.\n"
     ]
    },
    {
     "name": "stderr",
     "output_type": "stream",
     "text": [
      "  4%|▍         | 1447/37253 [00:09<04:06, 144.98it/s]"
     ]
    },
    {
     "name": "stdout",
     "output_type": "stream",
     "text": [
      "Skipping due to missing or non-string WeNet.\n"
     ]
    },
    {
     "name": "stderr",
     "output_type": "stream",
     "text": [
      "  5%|▍         | 1854/37253 [00:12<03:41, 159.72it/s]"
     ]
    },
    {
     "name": "stdout",
     "output_type": "stream",
     "text": [
      "Skipping due to missing or non-string WeNet.\n",
      "Skipping: One of the rows is empty.\n"
     ]
    },
    {
     "name": "stderr",
     "output_type": "stream",
     "text": [
      "  6%|▌         | 2157/37253 [00:14<03:44, 156.07it/s]"
     ]
    },
    {
     "name": "stdout",
     "output_type": "stream",
     "text": [
      "Skipping due to missing or non-string WeNet.\n"
     ]
    },
    {
     "name": "stderr",
     "output_type": "stream",
     "text": [
      "  6%|▌         | 2206/37253 [00:14<03:42, 157.45it/s]"
     ]
    },
    {
     "name": "stdout",
     "output_type": "stream",
     "text": [
      "Skipping due to missing or non-string WeNet.\n"
     ]
    },
    {
     "name": "stderr",
     "output_type": "stream",
     "text": [
      "  7%|▋         | 2732/37253 [00:18<03:42, 154.97it/s]"
     ]
    },
    {
     "name": "stdout",
     "output_type": "stream",
     "text": [
      "Skipping due to missing or non-string WeNet.\n",
      "Skipping due to missing or non-string WeNet.\n"
     ]
    },
    {
     "name": "stderr",
     "output_type": "stream",
     "text": [
      " 10%|█         | 3843/37253 [00:26<03:17, 169.42it/s]"
     ]
    },
    {
     "name": "stdout",
     "output_type": "stream",
     "text": [
      "Skipping due to missing or non-string WeNet.\n"
     ]
    },
    {
     "name": "stderr",
     "output_type": "stream",
     "text": [
      " 11%|█         | 4056/37253 [00:27<03:15, 169.50it/s]"
     ]
    },
    {
     "name": "stdout",
     "output_type": "stream",
     "text": [
      "Skipping due to missing or non-string WeNet.\n",
      "Skipping due to missing or non-string WeNet.\n"
     ]
    },
    {
     "name": "stderr",
     "output_type": "stream",
     "text": [
      " 11%|█         | 4128/37253 [00:27<03:12, 171.89it/s]"
     ]
    },
    {
     "name": "stdout",
     "output_type": "stream",
     "text": [
      "Skipping due to missing or non-string WeNet.\n"
     ]
    },
    {
     "name": "stderr",
     "output_type": "stream",
     "text": [
      " 12%|█▏        | 4452/37253 [00:29<03:10, 171.81it/s]"
     ]
    },
    {
     "name": "stdout",
     "output_type": "stream",
     "text": [
      "Skipping due to missing or non-string WeNet.\n",
      "Skipping due to missing or non-string WeNet.\n",
      "Skipping due to missing or non-string WeNet.\n"
     ]
    },
    {
     "name": "stderr",
     "output_type": "stream",
     "text": [
      " 12%|█▏        | 4607/37253 [00:30<03:26, 158.05it/s]"
     ]
    },
    {
     "name": "stdout",
     "output_type": "stream",
     "text": [
      "Skipping due to missing or non-string WeNet.\n"
     ]
    },
    {
     "name": "stderr",
     "output_type": "stream",
     "text": [
      " 13%|█▎        | 4760/37253 [00:31<03:17, 164.81it/s]"
     ]
    },
    {
     "name": "stdout",
     "output_type": "stream",
     "text": [
      "Skipping due to missing or non-string WeNet.\n"
     ]
    },
    {
     "name": "stderr",
     "output_type": "stream",
     "text": [
      " 14%|█▎        | 5111/37253 [00:33<03:02, 176.09it/s]"
     ]
    },
    {
     "name": "stdout",
     "output_type": "stream",
     "text": [
      "Skipping due to missing or non-string WeNet.\n"
     ]
    },
    {
     "name": "stderr",
     "output_type": "stream",
     "text": [
      " 14%|█▍        | 5235/37253 [00:34<03:20, 160.09it/s]"
     ]
    },
    {
     "name": "stdout",
     "output_type": "stream",
     "text": [
      "Skipping due to missing or non-string WeNet.\n"
     ]
    },
    {
     "name": "stderr",
     "output_type": "stream",
     "text": [
      " 14%|█▍        | 5284/37253 [00:34<03:27, 154.08it/s]"
     ]
    },
    {
     "name": "stdout",
     "output_type": "stream",
     "text": [
      "Skipping due to missing or non-string WeNet.\n"
     ]
    },
    {
     "name": "stderr",
     "output_type": "stream",
     "text": [
      " 14%|█▍        | 5332/37253 [00:35<03:29, 152.53it/s]"
     ]
    },
    {
     "name": "stdout",
     "output_type": "stream",
     "text": [
      "Skipping due to missing or non-string WeNet.\n"
     ]
    },
    {
     "name": "stderr",
     "output_type": "stream",
     "text": [
      " 16%|█▌        | 5811/37253 [00:38<03:45, 139.22it/s]"
     ]
    },
    {
     "name": "stdout",
     "output_type": "stream",
     "text": [
      "Skipping due to missing or non-string WeNet.\n"
     ]
    },
    {
     "name": "stderr",
     "output_type": "stream",
     "text": [
      " 16%|█▌        | 5925/37253 [00:39<03:13, 161.51it/s]"
     ]
    },
    {
     "name": "stdout",
     "output_type": "stream",
     "text": [
      "Skipping due to missing or non-string WeNet.\n"
     ]
    },
    {
     "name": "stderr",
     "output_type": "stream",
     "text": [
      " 17%|█▋        | 6266/37253 [00:41<03:13, 159.87it/s]"
     ]
    },
    {
     "name": "stdout",
     "output_type": "stream",
     "text": [
      "Skipping due to missing or non-string WeNet.\n"
     ]
    },
    {
     "name": "stderr",
     "output_type": "stream",
     "text": [
      " 17%|█▋        | 6301/37253 [00:41<03:09, 163.06it/s]"
     ]
    },
    {
     "name": "stdout",
     "output_type": "stream",
     "text": [
      "Skipping due to missing or non-string WeNet.\n"
     ]
    },
    {
     "name": "stderr",
     "output_type": "stream",
     "text": [
      " 18%|█▊        | 6762/37253 [00:44<03:29, 145.84it/s]"
     ]
    },
    {
     "name": "stdout",
     "output_type": "stream",
     "text": [
      "Skipping due to missing or non-string WeNet.\n"
     ]
    },
    {
     "name": "stderr",
     "output_type": "stream",
     "text": [
      " 19%|█▉        | 7165/37253 [00:47<02:57, 169.36it/s]"
     ]
    },
    {
     "name": "stdout",
     "output_type": "stream",
     "text": [
      "Skipping due to missing or non-string WeNet.\n"
     ]
    },
    {
     "name": "stderr",
     "output_type": "stream",
     "text": [
      " 19%|█▉        | 7233/37253 [00:47<03:08, 159.67it/s]"
     ]
    },
    {
     "name": "stdout",
     "output_type": "stream",
     "text": [
      "Skipping due to missing or non-string WeNet.\n"
     ]
    },
    {
     "name": "stderr",
     "output_type": "stream",
     "text": [
      " 20%|██        | 7491/37253 [00:49<03:11, 155.26it/s]"
     ]
    },
    {
     "name": "stdout",
     "output_type": "stream",
     "text": [
      "Skipping due to missing or non-string WeNet.\n"
     ]
    },
    {
     "name": "stderr",
     "output_type": "stream",
     "text": [
      " 20%|██        | 7539/37253 [00:49<03:15, 152.28it/s]"
     ]
    },
    {
     "name": "stdout",
     "output_type": "stream",
     "text": [
      "Skipping due to missing or non-string WeNet.\n"
     ]
    },
    {
     "name": "stderr",
     "output_type": "stream",
     "text": [
      " 21%|██        | 7902/37253 [00:52<03:05, 158.38it/s]"
     ]
    },
    {
     "name": "stdout",
     "output_type": "stream",
     "text": [
      "Skipping due to missing or non-string WeNet.\n"
     ]
    },
    {
     "name": "stderr",
     "output_type": "stream",
     "text": [
      " 22%|██▏       | 8125/37253 [00:53<02:50, 171.17it/s]"
     ]
    },
    {
     "name": "stdout",
     "output_type": "stream",
     "text": [
      "Skipping due to missing or non-string WeNet.\n"
     ]
    },
    {
     "name": "stderr",
     "output_type": "stream",
     "text": [
      " 22%|██▏       | 8210/37253 [00:54<03:09, 152.89it/s]"
     ]
    },
    {
     "name": "stdout",
     "output_type": "stream",
     "text": [
      "Skipping due to missing or non-string WeNet.\n"
     ]
    },
    {
     "name": "stderr",
     "output_type": "stream",
     "text": [
      " 22%|██▏       | 8242/37253 [00:54<03:09, 152.79it/s]"
     ]
    },
    {
     "name": "stdout",
     "output_type": "stream",
     "text": [
      "Skipping due to missing or non-string WeNet.\n",
      "Skipping due to missing or non-string WeNet.\n"
     ]
    },
    {
     "name": "stderr",
     "output_type": "stream",
     "text": [
      " 22%|██▏       | 8307/37253 [00:54<03:05, 156.22it/s]"
     ]
    },
    {
     "name": "stdout",
     "output_type": "stream",
     "text": [
      "Skipping due to missing or non-string WeNet.\n"
     ]
    },
    {
     "name": "stderr",
     "output_type": "stream",
     "text": [
      " 22%|██▏       | 8371/37253 [00:55<03:05, 155.38it/s]"
     ]
    },
    {
     "name": "stdout",
     "output_type": "stream",
     "text": [
      "Skipping due to missing or non-string WeNet.\n",
      "Skipping due to missing or non-string WeNet.\n",
      "Skipping due to missing or non-string WeNet.\n"
     ]
    },
    {
     "name": "stderr",
     "output_type": "stream",
     "text": [
      " 23%|██▎       | 8404/37253 [00:55<03:05, 155.43it/s]"
     ]
    },
    {
     "name": "stdout",
     "output_type": "stream",
     "text": [
      "Skipping due to missing or non-string WeNet.\n",
      "Skipping due to missing or non-string WeNet.\n"
     ]
    },
    {
     "name": "stderr",
     "output_type": "stream",
     "text": [
      " 23%|██▎       | 8527/37253 [00:55<02:46, 172.36it/s]"
     ]
    },
    {
     "name": "stdout",
     "output_type": "stream",
     "text": [
      "Skipping due to missing or non-string WeNet.\n",
      "Skipping due to missing or non-string WeNet.\n"
     ]
    },
    {
     "name": "stderr",
     "output_type": "stream",
     "text": [
      " 23%|██▎       | 8629/37253 [00:56<03:00, 158.53it/s]"
     ]
    },
    {
     "name": "stdout",
     "output_type": "stream",
     "text": [
      "Skipping due to missing or non-string WeNet.\n",
      "Skipping due to missing or non-string WeNet.\n"
     ]
    },
    {
     "name": "stderr",
     "output_type": "stream",
     "text": [
      " 24%|██▎       | 8787/37253 [00:57<03:19, 142.94it/s]"
     ]
    },
    {
     "name": "stdout",
     "output_type": "stream",
     "text": [
      "Skipping due to missing or non-string WeNet.\n"
     ]
    },
    {
     "name": "stderr",
     "output_type": "stream",
     "text": [
      " 24%|██▍       | 8849/37253 [00:58<03:16, 144.32it/s]"
     ]
    },
    {
     "name": "stdout",
     "output_type": "stream",
     "text": [
      "Skipping due to missing or non-string WeNet.\n"
     ]
    },
    {
     "name": "stderr",
     "output_type": "stream",
     "text": [
      " 24%|██▍       | 9049/37253 [00:59<03:08, 149.56it/s]"
     ]
    },
    {
     "name": "stdout",
     "output_type": "stream",
     "text": [
      "Skipping due to missing or non-string WeNet.\n"
     ]
    },
    {
     "name": "stderr",
     "output_type": "stream",
     "text": [
      " 25%|██▌       | 9386/37253 [01:01<03:19, 139.94it/s]"
     ]
    },
    {
     "name": "stdout",
     "output_type": "stream",
     "text": [
      "Skipping due to missing or non-string WeNet.\n"
     ]
    },
    {
     "name": "stderr",
     "output_type": "stream",
     "text": [
      " 28%|██▊       | 10315/37253 [01:07<02:43, 165.17it/s]"
     ]
    },
    {
     "name": "stdout",
     "output_type": "stream",
     "text": [
      "Skipping due to missing or non-string WeNet.\n"
     ]
    },
    {
     "name": "stderr",
     "output_type": "stream",
     "text": [
      " 28%|██▊       | 10488/37253 [01:08<02:56, 151.74it/s]"
     ]
    },
    {
     "name": "stdout",
     "output_type": "stream",
     "text": [
      "Skipping: One of the rows is empty.\n"
     ]
    },
    {
     "name": "stderr",
     "output_type": "stream",
     "text": [
      " 29%|██▉       | 10869/37253 [01:11<02:38, 166.44it/s]"
     ]
    },
    {
     "name": "stdout",
     "output_type": "stream",
     "text": [
      "Skipping due to missing or non-string WeNet.\n"
     ]
    },
    {
     "name": "stderr",
     "output_type": "stream",
     "text": [
      " 29%|██▉       | 10986/37253 [01:12<02:51, 152.97it/s]"
     ]
    },
    {
     "name": "stdout",
     "output_type": "stream",
     "text": [
      "Skipping due to missing or non-string WeNet.\n",
      "Skipping due to missing or non-string WeNet.\n"
     ]
    },
    {
     "name": "stderr",
     "output_type": "stream",
     "text": [
      " 30%|███       | 11287/37253 [01:14<02:49, 153.08it/s]"
     ]
    },
    {
     "name": "stdout",
     "output_type": "stream",
     "text": [
      "Skipping due to missing or non-string WeNet.\n"
     ]
    },
    {
     "name": "stderr",
     "output_type": "stream",
     "text": [
      " 31%|███       | 11598/37253 [01:16<02:44, 155.80it/s]"
     ]
    },
    {
     "name": "stdout",
     "output_type": "stream",
     "text": [
      "Skipping due to missing or non-string WeNet.\n"
     ]
    },
    {
     "name": "stderr",
     "output_type": "stream",
     "text": [
      " 33%|███▎      | 12151/37253 [01:19<02:39, 157.48it/s]"
     ]
    },
    {
     "name": "stdout",
     "output_type": "stream",
     "text": [
      "Skipping due to missing or non-string WeNet.\n"
     ]
    },
    {
     "name": "stderr",
     "output_type": "stream",
     "text": [
      " 33%|███▎      | 12218/37253 [01:20<02:33, 163.57it/s]"
     ]
    },
    {
     "name": "stdout",
     "output_type": "stream",
     "text": [
      "Skipping due to missing or non-string WeNet.\n",
      "Skipping due to missing or non-string WeNet.\n"
     ]
    },
    {
     "name": "stderr",
     "output_type": "stream",
     "text": [
      " 33%|███▎      | 12318/37253 [01:20<02:47, 149.23it/s]"
     ]
    },
    {
     "name": "stdout",
     "output_type": "stream",
     "text": [
      "Skipping due to missing or non-string WeNet.\n"
     ]
    },
    {
     "name": "stderr",
     "output_type": "stream",
     "text": [
      " 34%|███▍      | 12736/37253 [01:23<02:35, 157.26it/s]"
     ]
    },
    {
     "name": "stdout",
     "output_type": "stream",
     "text": [
      "Skipping due to missing or non-string WeNet.\n"
     ]
    },
    {
     "name": "stderr",
     "output_type": "stream",
     "text": [
      " 35%|███▍      | 12959/37253 [01:24<02:45, 146.56it/s]"
     ]
    },
    {
     "name": "stdout",
     "output_type": "stream",
     "text": [
      "Skipping due to missing or non-string WeNet.\n"
     ]
    },
    {
     "name": "stderr",
     "output_type": "stream",
     "text": [
      " 35%|███▌      | 13114/37253 [01:25<02:45, 145.56it/s]"
     ]
    },
    {
     "name": "stdout",
     "output_type": "stream",
     "text": [
      "Skipping due to missing or non-string WeNet.\n"
     ]
    },
    {
     "name": "stderr",
     "output_type": "stream",
     "text": [
      " 35%|███▌      | 13160/37253 [01:26<02:45, 145.32it/s]"
     ]
    },
    {
     "name": "stdout",
     "output_type": "stream",
     "text": [
      "Skipping due to missing or non-string WeNet.\n",
      "Skipping due to missing or non-string WeNet.\n"
     ]
    },
    {
     "name": "stderr",
     "output_type": "stream",
     "text": [
      " 36%|███▌      | 13271/37253 [01:26<02:37, 152.26it/s]"
     ]
    },
    {
     "name": "stdout",
     "output_type": "stream",
     "text": [
      "Skipping due to missing or non-string WeNet.\n"
     ]
    },
    {
     "name": "stderr",
     "output_type": "stream",
     "text": [
      " 38%|███▊      | 13985/37253 [01:31<02:40, 145.36it/s]"
     ]
    },
    {
     "name": "stdout",
     "output_type": "stream",
     "text": [
      "Skipping due to missing or non-string WeNet.\n"
     ]
    },
    {
     "name": "stderr",
     "output_type": "stream",
     "text": [
      " 38%|███▊      | 14108/37253 [01:32<02:15, 170.96it/s]"
     ]
    },
    {
     "name": "stdout",
     "output_type": "stream",
     "text": [
      "Skipping due to missing or non-string WeNet.\n"
     ]
    },
    {
     "name": "stderr",
     "output_type": "stream",
     "text": [
      " 38%|███▊      | 14216/37253 [01:32<02:14, 171.61it/s]"
     ]
    },
    {
     "name": "stdout",
     "output_type": "stream",
     "text": [
      "Skipping due to missing or non-string WeNet.\n"
     ]
    },
    {
     "name": "stderr",
     "output_type": "stream",
     "text": [
      " 39%|███▊      | 14389/37253 [01:34<02:26, 155.61it/s]"
     ]
    },
    {
     "name": "stdout",
     "output_type": "stream",
     "text": [
      "Skipping due to missing or non-string WeNet.\n",
      "Skipping due to missing or non-string WeNet.\n"
     ]
    },
    {
     "name": "stderr",
     "output_type": "stream",
     "text": [
      " 40%|███▉      | 14748/37253 [01:36<02:11, 171.69it/s]"
     ]
    },
    {
     "name": "stdout",
     "output_type": "stream",
     "text": [
      "Skipping due to missing or non-string WeNet.\n"
     ]
    },
    {
     "name": "stderr",
     "output_type": "stream",
     "text": [
      " 42%|████▏     | 15662/37253 [01:41<01:55, 187.67it/s]"
     ]
    },
    {
     "name": "stdout",
     "output_type": "stream",
     "text": [
      "Skipping due to missing or non-string WeNet.\n"
     ]
    },
    {
     "name": "stderr",
     "output_type": "stream",
     "text": [
      " 45%|████▍     | 16610/37253 [01:46<01:50, 187.46it/s]"
     ]
    },
    {
     "name": "stdout",
     "output_type": "stream",
     "text": [
      "Skipping due to missing or non-string WeNet.\n"
     ]
    },
    {
     "name": "stderr",
     "output_type": "stream",
     "text": [
      " 47%|████▋     | 17509/37253 [01:51<01:44, 188.35it/s]"
     ]
    },
    {
     "name": "stdout",
     "output_type": "stream",
     "text": [
      "Skipping due to missing or non-string WeNet.\n"
     ]
    },
    {
     "name": "stderr",
     "output_type": "stream",
     "text": [
      " 48%|████▊     | 17874/37253 [01:53<01:42, 188.21it/s]"
     ]
    },
    {
     "name": "stdout",
     "output_type": "stream",
     "text": [
      "Skipping due to missing or non-string WeNet.\n",
      "Skipping due to missing or non-string WeNet.\n",
      "Skipping due to missing or non-string WeNet.\n"
     ]
    },
    {
     "name": "stderr",
     "output_type": "stream",
     "text": [
      " 48%|████▊     | 18029/37253 [01:54<01:42, 188.22it/s]"
     ]
    },
    {
     "name": "stdout",
     "output_type": "stream",
     "text": [
      "Skipping due to missing or non-string WeNet.\n"
     ]
    },
    {
     "name": "stderr",
     "output_type": "stream",
     "text": [
      " 51%|█████     | 19090/37253 [01:59<01:36, 189.15it/s]"
     ]
    },
    {
     "name": "stdout",
     "output_type": "stream",
     "text": [
      "Skipping due to missing or non-string WeNet.\n",
      "Skipping due to missing or non-string WeNet.\n"
     ]
    },
    {
     "name": "stderr",
     "output_type": "stream",
     "text": [
      " 52%|█████▏    | 19264/37253 [02:00<01:35, 189.08it/s]"
     ]
    },
    {
     "name": "stdout",
     "output_type": "stream",
     "text": [
      "Skipping due to missing or non-string WeNet.\n"
     ]
    },
    {
     "name": "stderr",
     "output_type": "stream",
     "text": [
      " 54%|█████▎    | 19999/37253 [02:04<01:31, 188.82it/s]"
     ]
    },
    {
     "name": "stdout",
     "output_type": "stream",
     "text": [
      "Skipping due to missing or non-string WeNet.\n"
     ]
    },
    {
     "name": "stderr",
     "output_type": "stream",
     "text": [
      " 57%|█████▋    | 21277/37253 [02:11<01:24, 189.00it/s]"
     ]
    },
    {
     "name": "stdout",
     "output_type": "stream",
     "text": [
      "Skipping due to missing or non-string WeNet.\n",
      "Skipping due to missing or non-string WeNet.\n"
     ]
    },
    {
     "name": "stderr",
     "output_type": "stream",
     "text": [
      " 57%|█████▋    | 21316/37253 [02:11<01:24, 189.56it/s]"
     ]
    },
    {
     "name": "stdout",
     "output_type": "stream",
     "text": [
      "Skipping due to missing or non-string WeNet.\n"
     ]
    },
    {
     "name": "stderr",
     "output_type": "stream",
     "text": [
      " 58%|█████▊    | 21547/37253 [02:12<01:23, 187.71it/s]"
     ]
    },
    {
     "name": "stdout",
     "output_type": "stream",
     "text": [
      "Skipping due to missing or non-string WeNet.\n"
     ]
    },
    {
     "name": "stderr",
     "output_type": "stream",
     "text": [
      " 58%|█████▊    | 21623/37253 [02:13<01:23, 187.65it/s]"
     ]
    },
    {
     "name": "stdout",
     "output_type": "stream",
     "text": [
      "Skipping due to missing or non-string WeNet.\n"
     ]
    },
    {
     "name": "stderr",
     "output_type": "stream",
     "text": [
      " 58%|█████▊    | 21700/37253 [02:13<01:23, 186.48it/s]"
     ]
    },
    {
     "name": "stdout",
     "output_type": "stream",
     "text": [
      "Skipping due to missing or non-string WeNet.\n"
     ]
    },
    {
     "name": "stderr",
     "output_type": "stream",
     "text": [
      " 58%|█████▊    | 21758/37253 [02:14<01:22, 187.97it/s]"
     ]
    },
    {
     "name": "stdout",
     "output_type": "stream",
     "text": [
      "Skipping due to missing or non-string WeNet.\n"
     ]
    },
    {
     "name": "stderr",
     "output_type": "stream",
     "text": [
      " 63%|██████▎   | 23435/37253 [02:22<01:13, 189.14it/s]"
     ]
    },
    {
     "name": "stdout",
     "output_type": "stream",
     "text": [
      "Skipping due to missing or non-string WeNet.\n"
     ]
    },
    {
     "name": "stderr",
     "output_type": "stream",
     "text": [
      " 66%|██████▋   | 24724/37253 [02:29<01:07, 185.89it/s]"
     ]
    },
    {
     "name": "stdout",
     "output_type": "stream",
     "text": [
      "Skipping due to missing or non-string WeNet.\n"
     ]
    },
    {
     "name": "stderr",
     "output_type": "stream",
     "text": [
      " 67%|██████▋   | 24857/37253 [02:30<01:06, 187.36it/s]"
     ]
    },
    {
     "name": "stdout",
     "output_type": "stream",
     "text": [
      "Skipping due to missing or non-string WeNet.\n"
     ]
    },
    {
     "name": "stderr",
     "output_type": "stream",
     "text": [
      " 67%|██████▋   | 25085/37253 [02:31<01:05, 186.55it/s]"
     ]
    },
    {
     "name": "stdout",
     "output_type": "stream",
     "text": [
      "Skipping due to missing or non-string WeNet.\n",
      "Skipping due to missing or non-string WeNet.\n"
     ]
    },
    {
     "name": "stderr",
     "output_type": "stream",
     "text": [
      " 81%|████████  | 30112/37253 [02:58<00:37, 188.31it/s]"
     ]
    },
    {
     "name": "stdout",
     "output_type": "stream",
     "text": [
      "Skipping due to missing or non-string WeNet.\n"
     ]
    },
    {
     "name": "stderr",
     "output_type": "stream",
     "text": [
      " 81%|████████  | 30265/37253 [02:59<00:37, 188.06it/s]"
     ]
    },
    {
     "name": "stdout",
     "output_type": "stream",
     "text": [
      "Skipping due to missing or non-string WeNet.\n",
      "Skipping due to missing or non-string WeNet.\n"
     ]
    },
    {
     "name": "stderr",
     "output_type": "stream",
     "text": [
      " 82%|████████▏ | 30379/37253 [03:00<00:36, 188.15it/s]"
     ]
    },
    {
     "name": "stdout",
     "output_type": "stream",
     "text": [
      "Skipping due to missing or non-string WeNet.\n"
     ]
    },
    {
     "name": "stderr",
     "output_type": "stream",
     "text": [
      " 82%|████████▏ | 30703/37253 [03:01<00:35, 186.81it/s]"
     ]
    },
    {
     "name": "stdout",
     "output_type": "stream",
     "text": [
      "Skipping due to missing or non-string WeNet.\n"
     ]
    },
    {
     "name": "stderr",
     "output_type": "stream",
     "text": [
      " 83%|████████▎ | 30761/37253 [03:02<00:34, 188.00it/s]"
     ]
    },
    {
     "name": "stdout",
     "output_type": "stream",
     "text": [
      "Skipping due to missing or non-string WeNet.\n"
     ]
    },
    {
     "name": "stderr",
     "output_type": "stream",
     "text": [
      " 91%|█████████▏| 34081/37253 [03:19<00:16, 189.21it/s]"
     ]
    },
    {
     "name": "stdout",
     "output_type": "stream",
     "text": [
      "Skipping: One of the rows is empty.\n",
      "Skipping: One of the rows is empty.\n"
     ]
    },
    {
     "name": "stderr",
     "output_type": "stream",
     "text": [
      " 93%|█████████▎| 34595/37253 [03:22<00:14, 187.36it/s]"
     ]
    },
    {
     "name": "stdout",
     "output_type": "stream",
     "text": [
      "Skipping: One of the rows is empty.\n"
     ]
    },
    {
     "name": "stderr",
     "output_type": "stream",
     "text": [
      "100%|██████████| 37253/37253 [03:36<00:00, 171.89it/s]\n"
     ]
    }
   ],
   "source": [
    "na_count_large = 0\n",
    "na_count_cleaned = 0\n",
    "for index, row in tqdm(net_aigenerated_data_wenet.iterrows(), total=len(net_aigenerated_data_wenet)):\n",
    "    \n",
    "    mask_large = (\n",
    "        (net_aigenerated_data_wenet[\"Filename\"] == row[\"Filename\"]) &\n",
    "        (net_aigenerated_data_wenet[\"Start_time\"] == row[\"Start_time\"])\n",
    "    )\n",
    "\n",
    "    mask_net = (\n",
    "        (net_data[\"Filename\"] == row[\"Filename\"]) &\n",
    "        (net_data[\"Start_time\"] == row[\"Start_time\"])\n",
    "    )\n",
    "\n",
    "    \n",
    "    large_row = net_aigenerated_data_wenet.loc[mask_large]\n",
    "    net_row = net_data.loc[mask_net]\n",
    "\n",
    "    # print(large_row)\n",
    "    # print('\\n\\n\\n\\n')\n",
    "    # print(net_row)\n",
    "    \n",
    "    if large_row.empty or net_row.empty:\n",
    "        print(\"Skipping: One of the rows is empty.\")\n",
    "        continue\n",
    "        \n",
    "    wenet = large_row[\"WeNet\"].values[0]\n",
    "    cleaned_transcript = net_row[\"Cleaned_Transcript\"].values[0]\n",
    "    \n",
    "    if pd.isna(wenet) or not isinstance(wenet, str):\n",
    "        print(\"Skipping due to missing or non-string WeNet.\")\n",
    "        na_count_large = na_count_large + 1\n",
    "        continue\n",
    "    if pd.isna(cleaned_transcript) or not isinstance(cleaned_transcript, str):\n",
    "        print(\"Skipping due to missing or non-string Cleaned_Transcript.\")\n",
    "        na_count_cleaned = na_count_cleaned + 1\n",
    "        continue\n",
    "\n",
    "    try:\n",
    "        \n",
    "        wer_value = wer(wenet, cleaned_transcript)\n",
    "        \n",
    "        net_aigenerated_data_wenet.loc[mask_large, \"WER\"] = wer_value\n",
    "        \n",
    "        stutterance_count = net_row[\"Stutterance_Count\"].values[0]\n",
    "        net_aigenerated_data_wenet.loc[mask_large, \"Stutterance_Count\"] = stutterance_count\n",
    "\n",
    "        # Verify assignment\n",
    "        # print(f'Assigned Stutterance_Count: {stutterance_count}')\n",
    "        # print(net_aigenerated_data_wenet.loc[mask_large, \"Stutterance_Count\"])\n",
    "\n",
    "    except Exception as e:\n",
    "        print(f'ERROR: {e}')\n",
    "        print('Occurred with the following data:')\n",
    "        print(large_row)\n",
    "        print(net_row)\n",
    "        \n",
    "net_aigenerated_data_wenet = net_aigenerated_data_wenet.assign(NA_Count=na_count_large)\n",
    "net_aigenerated_data_wenet = net_aigenerated_data_wenet.assign(NA_Cleaned_Count=na_count_cleaned)"
   ]
  },
  {
   "cell_type": "code",
   "execution_count": 11,
   "id": "6bc3731c-0be0-4659-955b-5d47f7e33137",
   "metadata": {
    "tags": []
   },
   "outputs": [
    {
     "data": {
      "text/html": [
       "<div>\n",
       "<style scoped>\n",
       "    .dataframe tbody tr th:only-of-type {\n",
       "        vertical-align: middle;\n",
       "    }\n",
       "\n",
       "    .dataframe tbody tr th {\n",
       "        vertical-align: top;\n",
       "    }\n",
       "\n",
       "    .dataframe thead th {\n",
       "        text-align: right;\n",
       "    }\n",
       "</style>\n",
       "<table border=\"1\" class=\"dataframe\">\n",
       "  <thead>\n",
       "    <tr style=\"text-align: right;\">\n",
       "      <th></th>\n",
       "      <th>Filename</th>\n",
       "      <th>Start_time</th>\n",
       "      <th>End_time</th>\n",
       "      <th>WeNet</th>\n",
       "      <th>WER</th>\n",
       "      <th>Stutterance_Count</th>\n",
       "      <th>NA_Count</th>\n",
       "      <th>NA_Cleaned_Count</th>\n",
       "    </tr>\n",
       "  </thead>\n",
       "  <tbody>\n",
       "    <tr>\n",
       "      <th>0</th>\n",
       "      <td>D0001_A</td>\n",
       "      <td>2081.540000</td>\n",
       "      <td>2109.650000</td>\n",
       "      <td>我说出来就比较地需要时间然后那个识别的他的不就是他等你一会你那个话还没有说完的还没有说出来的...</td>\n",
       "      <td>0.226804</td>\n",
       "      <td>1.0</td>\n",
       "      <td>100</td>\n",
       "      <td>0</td>\n",
       "    </tr>\n",
       "    <tr>\n",
       "      <th>1</th>\n",
       "      <td>D0001_A</td>\n",
       "      <td>790.130000</td>\n",
       "      <td>796.580000</td>\n",
       "      <td>第四句有我我说的话</td>\n",
       "      <td>0.500000</td>\n",
       "      <td>1.0</td>\n",
       "      <td>100</td>\n",
       "      <td>0</td>\n",
       "    </tr>\n",
       "    <tr>\n",
       "      <th>2</th>\n",
       "      <td>D0001_A</td>\n",
       "      <td>1562.083518</td>\n",
       "      <td>1586.220000</td>\n",
       "      <td>这部剧是不怎么评分是不怎么好的就因为评评论区的那那些人他们都在说拿到号做好惨的那个就那么勤奋...</td>\n",
       "      <td>0.203125</td>\n",
       "      <td>10.0</td>\n",
       "      <td>100</td>\n",
       "      <td>0</td>\n",
       "    </tr>\n",
       "    <tr>\n",
       "      <th>3</th>\n",
       "      <td>D0001_A</td>\n",
       "      <td>2016.780000</td>\n",
       "      <td>2035.673559</td>\n",
       "      <td>很精准对讯飞语音还是讯飞助手来着就我记得他是叫讯飞我之前就是他</td>\n",
       "      <td>0.210526</td>\n",
       "      <td>7.0</td>\n",
       "      <td>100</td>\n",
       "      <td>0</td>\n",
       "    </tr>\n",
       "    <tr>\n",
       "      <th>4</th>\n",
       "      <td>D0001_A</td>\n",
       "      <td>1682.670000</td>\n",
       "      <td>1709.110000</td>\n",
       "      <td>一个个是叫啥来的我忘了就是出现了这一个人然后呢他他就射了一把剑然后就就把那个拿二号给长杀了就...</td>\n",
       "      <td>0.250000</td>\n",
       "      <td>8.0</td>\n",
       "      <td>100</td>\n",
       "      <td>0</td>\n",
       "    </tr>\n",
       "    <tr>\n",
       "      <th>...</th>\n",
       "      <td>...</td>\n",
       "      <td>...</td>\n",
       "      <td>...</td>\n",
       "      <td>...</td>\n",
       "      <td>...</td>\n",
       "      <td>...</td>\n",
       "      <td>...</td>\n",
       "      <td>...</td>\n",
       "    </tr>\n",
       "    <tr>\n",
       "      <th>37248</th>\n",
       "      <td>P0070</td>\n",
       "      <td>2586.616000</td>\n",
       "      <td>2589.346000</td>\n",
       "      <td>单曲循环歌曲这样而已</td>\n",
       "      <td>0.090909</td>\n",
       "      <td>0.0</td>\n",
       "      <td>100</td>\n",
       "      <td>0</td>\n",
       "    </tr>\n",
       "    <tr>\n",
       "      <th>37249</th>\n",
       "      <td>P0070</td>\n",
       "      <td>2782.496000</td>\n",
       "      <td>2783.706000</td>\n",
       "      <td>杨幂的电影</td>\n",
       "      <td>0.166667</td>\n",
       "      <td>0.0</td>\n",
       "      <td>100</td>\n",
       "      <td>0</td>\n",
       "    </tr>\n",
       "    <tr>\n",
       "      <th>37250</th>\n",
       "      <td>P0070</td>\n",
       "      <td>2995.296000</td>\n",
       "      <td>2998.116000</td>\n",
       "      <td>你好米娅今天柴油价怎么样</td>\n",
       "      <td>0.266667</td>\n",
       "      <td>0.0</td>\n",
       "      <td>100</td>\n",
       "      <td>0</td>\n",
       "    </tr>\n",
       "    <tr>\n",
       "      <th>37251</th>\n",
       "      <td>P0070</td>\n",
       "      <td>2604.066000</td>\n",
       "      <td>2606.656000</td>\n",
       "      <td>单曲循环歌曲琉璃光之歌</td>\n",
       "      <td>0.083333</td>\n",
       "      <td>0.0</td>\n",
       "      <td>100</td>\n",
       "      <td>0</td>\n",
       "    </tr>\n",
       "    <tr>\n",
       "      <th>37252</th>\n",
       "      <td>P0070</td>\n",
       "      <td>2434.606000</td>\n",
       "      <td>2436.576000</td>\n",
       "      <td>导航到龙城明月</td>\n",
       "      <td>0.375000</td>\n",
       "      <td>0.0</td>\n",
       "      <td>100</td>\n",
       "      <td>0</td>\n",
       "    </tr>\n",
       "  </tbody>\n",
       "</table>\n",
       "<p>37253 rows × 8 columns</p>\n",
       "</div>"
      ],
      "text/plain": [
       "      Filename   Start_time     End_time  \\\n",
       "0      D0001_A  2081.540000  2109.650000   \n",
       "1      D0001_A   790.130000   796.580000   \n",
       "2      D0001_A  1562.083518  1586.220000   \n",
       "3      D0001_A  2016.780000  2035.673559   \n",
       "4      D0001_A  1682.670000  1709.110000   \n",
       "...        ...          ...          ...   \n",
       "37248    P0070  2586.616000  2589.346000   \n",
       "37249    P0070  2782.496000  2783.706000   \n",
       "37250    P0070  2995.296000  2998.116000   \n",
       "37251    P0070  2604.066000  2606.656000   \n",
       "37252    P0070  2434.606000  2436.576000   \n",
       "\n",
       "                                                   WeNet       WER  \\\n",
       "0      我说出来就比较地需要时间然后那个识别的他的不就是他等你一会你那个话还没有说完的还没有说出来的...  0.226804   \n",
       "1                                              第四句有我我说的话  0.500000   \n",
       "2      这部剧是不怎么评分是不怎么好的就因为评评论区的那那些人他们都在说拿到号做好惨的那个就那么勤奋...  0.203125   \n",
       "3                        很精准对讯飞语音还是讯飞助手来着就我记得他是叫讯飞我之前就是他  0.210526   \n",
       "4      一个个是叫啥来的我忘了就是出现了这一个人然后呢他他就射了一把剑然后就就把那个拿二号给长杀了就...  0.250000   \n",
       "...                                                  ...       ...   \n",
       "37248                                         单曲循环歌曲这样而已  0.090909   \n",
       "37249                                              杨幂的电影  0.166667   \n",
       "37250                                       你好米娅今天柴油价怎么样  0.266667   \n",
       "37251                                        单曲循环歌曲琉璃光之歌  0.083333   \n",
       "37252                                            导航到龙城明月  0.375000   \n",
       "\n",
       "       Stutterance_Count  NA_Count  NA_Cleaned_Count  \n",
       "0                    1.0       100                 0  \n",
       "1                    1.0       100                 0  \n",
       "2                   10.0       100                 0  \n",
       "3                    7.0       100                 0  \n",
       "4                    8.0       100                 0  \n",
       "...                  ...       ...               ...  \n",
       "37248                0.0       100                 0  \n",
       "37249                0.0       100                 0  \n",
       "37250                0.0       100                 0  \n",
       "37251                0.0       100                 0  \n",
       "37252                0.0       100                 0  \n",
       "\n",
       "[37253 rows x 8 columns]"
      ]
     },
     "execution_count": 11,
     "metadata": {},
     "output_type": "execute_result"
    }
   ],
   "source": [
    "net_aigenerated_data_wenet"
   ]
  },
  {
   "cell_type": "code",
   "execution_count": 12,
   "id": "3b9a6dfc-fa15-45c4-8c08-1682e3fb482e",
   "metadata": {
    "tags": []
   },
   "outputs": [],
   "source": [
    "net_aigenerated_data_wenet.to_csv('net_aigenerated_data_wenet_performance_stu.csv', sep=',')"
   ]
  },
  {
   "cell_type": "markdown",
   "id": "79206fa2-50ce-4c59-aece-f17439fdcf92",
   "metadata": {},
   "source": [
    "***"
   ]
  },
  {
   "cell_type": "markdown",
   "id": "5dd854d6-464c-49a3-a82b-c6603567fb0c",
   "metadata": {
    "tags": []
   },
   "source": [
    "## Visualization of Relationship between Stuttering Count and Word Error Rate"
   ]
  },
  {
   "cell_type": "code",
   "execution_count": 3,
   "id": "b9f87049-4fd6-447b-aa37-1d3bb808a1e7",
   "metadata": {
    "tags": []
   },
   "outputs": [],
   "source": [
    "## Load data from csv if starting here\n",
    "\n",
    "net_aigenerated_data_wenet = pd.read_csv('/projectnb/ds549/projects/AImpower/evaluation-wenet/net_aigenerated_data_wenet_performance_stu.csv', delimiter=',')"
   ]
  },
  {
   "cell_type": "code",
   "execution_count": 4,
   "id": "797a7d2b-f110-4b04-8500-1a956ebf78be",
   "metadata": {
    "tags": []
   },
   "outputs": [],
   "source": [
    "import matplotlib.pyplot as plt"
   ]
  },
  {
   "cell_type": "code",
   "execution_count": 5,
   "id": "414d5c7c-bc01-4dfc-959f-589115e8fd75",
   "metadata": {
    "tags": []
   },
   "outputs": [
    {
     "data": {
      "image/png": "[encoded data removed]",
      "text/plain": [
       "<Figure size 640x480 with 1 Axes>"
      ]
     },
     "metadata": {},
     "output_type": "display_data"
    }
   ],
   "source": [
    "## Null value plots\n",
    "\n",
    "nonnull_count_large = net_aigenerated_data_wenet[\"NA_Count\"].count() - net_aigenerated_data_wenet.iloc[0][\"NA_Count\"]\n",
    "null_count_large = net_aigenerated_data_wenet.iloc[0][\"NA_Count\"]\n",
    "\n",
    "nonnull_count_cleaned = net_aigenerated_data_wenet[\"NA_Cleaned_Count\"].count() - net_aigenerated_data_wenet.iloc[0][\"NA_Cleaned_Count\"]\n",
    "null_count_cleaned = net_aigenerated_data_wenet.iloc[0][\"NA_Cleaned_Count\"]\n",
    "\n",
    "\n",
    "data = {\n",
    "    \"NA Values\": [null_count_large, null_count_cleaned],\n",
    "    \"Non NA Values\": [nonnull_count_large, nonnull_count_cleaned],\n",
    "}\n",
    "\n",
    "species = (\n",
    "    \"WeNet\",\n",
    "    \"Cleaned Ground Truth\"\n",
    ")\n",
    "\n",
    "width = 0.5\n",
    "\n",
    "fig, ax = plt.subplots()\n",
    "bottom = np.zeros(2)\n",
    "\n",
    "totals = np.zeros(2)\n",
    "\n",
    "for na, count in data.items():\n",
    "    p = ax.bar(species, count, width, label=na, bottom=bottom)\n",
    "    bottom += count\n",
    "    totals += count\n",
    "    ax.bar_label(p, label_type=\"center\")\n",
    "    \n",
    "\n",
    "# Add total counts above the bars\n",
    "for i, total in enumerate(totals):\n",
    "    ax.text(i, total + 1, str(int(total)), ha='center', va='bottom', fontsize=10)\n",
    "\n",
    "\n",
    "ax.set_title(\"NA value counting\", fontsize=16)\n",
    "ax.set_xlabel(\"Source\", fontsize=14)\n",
    "ax.set_ylabel(\"Count\", fontsize=14)\n",
    "ax.legend(bbox_to_anchor = (1.25, 0.6), loc='center right')\n",
    "ax.grid(True)\n",
    "\n",
    "plt.show()"
   ]
  },
  {
   "cell_type": "code",
   "execution_count": 16,
   "id": "c8b57777-464a-43d5-b3c1-510ae5b7f459",
   "metadata": {
    "tags": []
   },
   "outputs": [
    {
     "data": {
      "image/png": "[encoded data removed]",
      "text/plain": [
       "<Figure size 600x400 with 1 Axes>"
      ]
     },
     "metadata": {},
     "output_type": "display_data"
    }
   ],
   "source": [
    "plt.figure(figsize=(6, 4))\n",
    "plt.scatter(\n",
    "    net_aigenerated_data_wenet[\"Stutterance_Count\"], \n",
    "    net_aigenerated_data_wenet[\"WER\"], \n",
    "    alpha=0.7  # Handle overlapping points\n",
    ")\n",
    "\n",
    "plt.title(\"WER vs Stutterance Count\", fontsize=16)\n",
    "plt.xlabel(\"Stutterance Count\", fontsize=14)\n",
    "plt.ylabel(\"WER\", fontsize=14)\n",
    "plt.grid(True)\n",
    "plt.show()"
   ]
  },
  {
   "cell_type": "code",
   "execution_count": 17,
   "id": "c787eb1b-8b2f-45bd-aca7-2e6490f4a56f",
   "metadata": {
    "tags": []
   },
   "outputs": [
    {
     "data": {
      "image/png": "[encoded data removed]",
      "text/plain": [
       "<Figure size 600x400 with 2 Axes>"
      ]
     },
     "metadata": {},
     "output_type": "display_data"
    }
   ],
   "source": [
    "import seaborn as sns\n",
    "from matplotlib.colors import LinearSegmentedColormap\n",
    "\n",
    "net_aigenerated_data_wenet['WER_Binned'] = np.round(net_aigenerated_data_wenet['WER'], 2)\n",
    "\n",
    "grouped_data = net_aigenerated_data_wenet.groupby(\n",
    "    ['Stutterance_Count', 'WER_Binned']\n",
    ").size().reset_index(name='Count')\n",
    "heatmap_data = grouped_data.pivot(index='WER_Binned', columns='Stutterance_Count', values='Count').fillna(0)\n",
    "\n",
    "plt.figure(figsize=(6, 4))\n",
    "sns.heatmap(\n",
    "    heatmap_data, cmap='cool', annot=False, fmt='g', cbar=True\n",
    ")\n",
    "\n",
    "plt.title(\"Stutterance Count vs WER (Color = Number of Cases)\", fontsize=16)\n",
    "plt.xlabel(\"Stutterance Count\", fontsize=14)\n",
    "plt.ylabel(\"WER (Binned)\", fontsize=14)\n",
    "\n",
    "plt.show()"
   ]
  },
  {
   "cell_type": "code",
   "execution_count": 18,
   "id": "0655e4f3-8870-45a1-bdcc-cbe54d532f63",
   "metadata": {
    "tags": []
   },
   "outputs": [
    {
     "name": "stdout",
     "output_type": "stream",
     "text": [
      "p-value = 4.15318155648368e-60\n",
      "rho = -0.08469511105071073\n"
     ]
    }
   ],
   "source": [
    "from scipy.stats import spearmanr\n",
    "rho, p = spearmanr(net_aigenerated_data_wenet.dropna()['Stutterance_Count'], net_aigenerated_data_wenet.dropna()['WER'])\n",
    "print(f\"p-value = {p}\")\n",
    "print(f\"rho = {rho}\")"
   ]
  },
  {
   "cell_type": "code",
   "execution_count": 17,
   "id": "720d79b3-3067-480e-872c-6ca00cc1871a",
   "metadata": {
    "tags": []
   },
   "outputs": [
    {
     "data": {
      "text/html": [
       "<div>\n",
       "<style scoped>\n",
       "    .dataframe tbody tr th:only-of-type {\n",
       "        vertical-align: middle;\n",
       "    }\n",
       "\n",
       "    .dataframe tbody tr th {\n",
       "        vertical-align: top;\n",
       "    }\n",
       "\n",
       "    .dataframe thead th {\n",
       "        text-align: right;\n",
       "    }\n",
       "</style>\n",
       "<table border=\"1\" class=\"dataframe\">\n",
       "  <thead>\n",
       "    <tr style=\"text-align: right;\">\n",
       "      <th></th>\n",
       "      <th>WER</th>\n",
       "      <th>rougel-f1</th>\n",
       "      <th>rouge1-f1</th>\n",
       "      <th>rouge2-f1</th>\n",
       "    </tr>\n",
       "  </thead>\n",
       "  <tbody>\n",
       "    <tr>\n",
       "      <th>count</th>\n",
       "      <td>37148.000000</td>\n",
       "      <td>37148.000000</td>\n",
       "      <td>37148.000000</td>\n",
       "      <td>37148.000000</td>\n",
       "    </tr>\n",
       "    <tr>\n",
       "      <th>mean</th>\n",
       "      <td>0.265648</td>\n",
       "      <td>0.683893</td>\n",
       "      <td>0.694439</td>\n",
       "      <td>0.503720</td>\n",
       "    </tr>\n",
       "    <tr>\n",
       "      <th>std</th>\n",
       "      <td>0.177740</td>\n",
       "      <td>0.242651</td>\n",
       "      <td>0.243858</td>\n",
       "      <td>0.317447</td>\n",
       "    </tr>\n",
       "    <tr>\n",
       "      <th>min</th>\n",
       "      <td>0.000000</td>\n",
       "      <td>0.000000</td>\n",
       "      <td>0.000000</td>\n",
       "      <td>0.000000</td>\n",
       "    </tr>\n",
       "    <tr>\n",
       "      <th>25%</th>\n",
       "      <td>0.142857</td>\n",
       "      <td>0.571429</td>\n",
       "      <td>0.600000</td>\n",
       "      <td>0.222222</td>\n",
       "    </tr>\n",
       "    <tr>\n",
       "      <th>50%</th>\n",
       "      <td>0.200000</td>\n",
       "      <td>0.775510</td>\n",
       "      <td>0.800000</td>\n",
       "      <td>0.615385</td>\n",
       "    </tr>\n",
       "    <tr>\n",
       "      <th>75%</th>\n",
       "      <td>0.333333</td>\n",
       "      <td>0.857143</td>\n",
       "      <td>0.872727</td>\n",
       "      <td>0.769231</td>\n",
       "    </tr>\n",
       "    <tr>\n",
       "      <th>max</th>\n",
       "      <td>2.333333</td>\n",
       "      <td>1.000000</td>\n",
       "      <td>1.000000</td>\n",
       "      <td>1.000000</td>\n",
       "    </tr>\n",
       "  </tbody>\n",
       "</table>\n",
       "</div>"
      ],
      "text/plain": [
       "                WER     rougel-f1     rouge1-f1     rouge2-f1\n",
       "count  37148.000000  37148.000000  37148.000000  37148.000000\n",
       "mean       0.265648      0.683893      0.694439      0.503720\n",
       "std        0.177740      0.242651      0.243858      0.317447\n",
       "min        0.000000      0.000000      0.000000      0.000000\n",
       "25%        0.142857      0.571429      0.600000      0.222222\n",
       "50%        0.200000      0.775510      0.800000      0.615385\n",
       "75%        0.333333      0.857143      0.872727      0.769231\n",
       "max        2.333333      1.000000      1.000000      1.000000"
      ]
     },
     "execution_count": 17,
     "metadata": {},
     "output_type": "execute_result"
    }
   ],
   "source": [
    "net_aigenerated_data_wenet[[\"WER\", \"rougel-f1\", \"rouge1-f1\", \"rouge2-f1\"]].describe()"
   ]
  },
  {
   "cell_type": "markdown",
   "id": "c7f6bf6e-2993-485d-9141-a78634637a50",
   "metadata": {},
   "source": [
    "***"
   ]
  },
  {
   "cell_type": "markdown",
   "id": "343e4ac0-04a6-4896-b5b4-cbcfc330e0d6",
   "metadata": {
    "tags": []
   },
   "source": [
    "## ROUGE-N/L Scores (Semantic Evaluation)"
   ]
  },
  {
   "cell_type": "code",
   "execution_count": 19,
   "id": "175ed190-1369-45ce-bd2e-863505f99a8d",
   "metadata": {},
   "outputs": [],
   "source": [
    "from rouge_chinese import Rouge\n",
    "import jieba"
   ]
  },
  {
   "cell_type": "code",
   "execution_count": 20,
   "id": "f2f1133e-38f4-4798-8bfe-7afb95778756",
   "metadata": {
    "tags": []
   },
   "outputs": [],
   "source": [
    "rouge = Rouge()"
   ]
  },
  {
   "cell_type": "code",
   "execution_count": 21,
   "id": "e5ee381a-b7b8-4dd5-8e76-d7a8f3483e1c",
   "metadata": {
    "tags": []
   },
   "outputs": [
    {
     "name": "stderr",
     "output_type": "stream",
     "text": [
      "  0%|          | 0/37253 [00:00<?, ?it/s]Building prefix dict from the default dictionary ...\n",
      "Dumping model to file cache /scratch/296134.1.ood/jieba.cache\n",
      "Loading model cost 0.635 seconds.\n",
      "Prefix dict has been built successfully.\n",
      "  0%|          | 15/37253 [00:00<24:15, 25.59it/s] "
     ]
    },
    {
     "name": "stdout",
     "output_type": "stream",
     "text": [
      "       Unnamed: 0 Filename   Start_time     End_time  \\\n",
      "0               0  D0001_A  2081.540000  2109.650000   \n",
      "1               1  D0001_A   790.130000   796.580000   \n",
      "2               2  D0001_A  1562.083518  1586.220000   \n",
      "3               3  D0001_A  2016.780000  2035.673559   \n",
      "4               4  D0001_A  1682.670000  1709.110000   \n",
      "...           ...      ...          ...          ...   \n",
      "37248       37248    P0070  2586.616000  2589.346000   \n",
      "37249       37249    P0070  2782.496000  2783.706000   \n",
      "37250       37250    P0070  2995.296000  2998.116000   \n",
      "37251       37251    P0070  2604.066000  2606.656000   \n",
      "37252       37252    P0070  2434.606000  2436.576000   \n",
      "\n",
      "                                                   WeNet       WER  \\\n",
      "0      我说出来就比较地需要时间然后那个识别的他的不就是他等你一会你那个话还没有说完的还没有说出来的...  0.226804   \n",
      "1                                              第四句有我我说的话  0.500000   \n",
      "2      这部剧是不怎么评分是不怎么好的就因为评评论区的那那些人他们都在说拿到号做好惨的那个就那么勤奋...  0.203125   \n",
      "3                        很精准对讯飞语音还是讯飞助手来着就我记得他是叫讯飞我之前就是他  0.210526   \n",
      "4      一个个是叫啥来的我忘了就是出现了这一个人然后呢他他就射了一把剑然后就就把那个拿二号给长杀了就...  0.250000   \n",
      "...                                                  ...       ...   \n",
      "37248                                         单曲循环歌曲这样而已  0.090909   \n",
      "37249                                              杨幂的电影  0.166667   \n",
      "37250                                       你好米娅今天柴油价怎么样  0.266667   \n",
      "37251                                        单曲循环歌曲琉璃光之歌  0.083333   \n",
      "37252                                            导航到龙城明月  0.375000   \n",
      "\n",
      "       Stutterance_Count  NA_Count  NA_Cleaned_Count  WER_Binned  \\\n",
      "0                    1.0       100                 0        0.23   \n",
      "1                    1.0       100                 0        0.50   \n",
      "2                   10.0       100                 0        0.20   \n",
      "3                    7.0       100                 0        0.21   \n",
      "4                    8.0       100                 0        0.25   \n",
      "...                  ...       ...               ...         ...   \n",
      "37248                0.0       100                 0        0.09   \n",
      "37249                0.0       100                 0        0.17   \n",
      "37250                0.0       100                 0        0.27   \n",
      "37251                0.0       100                 0        0.08   \n",
      "37252                0.0       100                 0        0.38   \n",
      "\n",
      "       rouge1-precision  rouge1-recall  rouge1-f1  rouge2-precision  \\\n",
      "0              0.837838       0.815789   0.826667          0.555556   \n",
      "1                   NaN            NaN        NaN               NaN   \n",
      "2                   NaN            NaN        NaN               NaN   \n",
      "3                   NaN            NaN        NaN               NaN   \n",
      "4                   NaN            NaN        NaN               NaN   \n",
      "...                 ...            ...        ...               ...   \n",
      "37248               NaN            NaN        NaN               NaN   \n",
      "37249               NaN            NaN        NaN               NaN   \n",
      "37250               NaN            NaN        NaN               NaN   \n",
      "37251               NaN            NaN        NaN               NaN   \n",
      "37252               NaN            NaN        NaN               NaN   \n",
      "\n",
      "       rouge2-recall  rouge2-f1  rougel-precision  rougel-recall  rougel-f1  \n",
      "0           0.491803   0.521739          0.803279            0.7   0.748092  \n",
      "1                NaN        NaN               NaN            NaN        NaN  \n",
      "2                NaN        NaN               NaN            NaN        NaN  \n",
      "3                NaN        NaN               NaN            NaN        NaN  \n",
      "4                NaN        NaN               NaN            NaN        NaN  \n",
      "...              ...        ...               ...            ...        ...  \n",
      "37248            NaN        NaN               NaN            NaN        NaN  \n",
      "37249            NaN        NaN               NaN            NaN        NaN  \n",
      "37250            NaN        NaN               NaN            NaN        NaN  \n",
      "37251            NaN        NaN               NaN            NaN        NaN  \n",
      "37252            NaN        NaN               NaN            NaN        NaN  \n",
      "\n",
      "[37253 rows x 19 columns]\n"
     ]
    },
    {
     "name": "stderr",
     "output_type": "stream",
     "text": [
      "  2%|▏         | 709/37253 [00:05<04:23, 138.51it/s]"
     ]
    },
    {
     "name": "stdout",
     "output_type": "stream",
     "text": [
      "Skipping due to missing or non-string WeNet.\n"
     ]
    },
    {
     "name": "stderr",
     "output_type": "stream",
     "text": [
      "  4%|▎         | 1351/37253 [00:10<04:23, 136.44it/s]"
     ]
    },
    {
     "name": "stdout",
     "output_type": "stream",
     "text": [
      "Skipping due to missing or non-string WeNet.\n"
     ]
    },
    {
     "name": "stderr",
     "output_type": "stream",
     "text": [
      "  4%|▍         | 1450/37253 [00:11<04:21, 136.93it/s]"
     ]
    },
    {
     "name": "stdout",
     "output_type": "stream",
     "text": [
      "Skipping due to missing or non-string WeNet.\n"
     ]
    },
    {
     "name": "stderr",
     "output_type": "stream",
     "text": [
      "  5%|▍         | 1853/37253 [00:14<04:13, 139.82it/s]"
     ]
    },
    {
     "name": "stdout",
     "output_type": "stream",
     "text": [
      "Skipping due to missing or non-string WeNet.\n",
      "Skipping: One of the rows is empty.\n"
     ]
    },
    {
     "name": "stderr",
     "output_type": "stream",
     "text": [
      "  6%|▌         | 2165/37253 [00:16<04:10, 139.98it/s]"
     ]
    },
    {
     "name": "stdout",
     "output_type": "stream",
     "text": [
      "Skipping due to missing or non-string WeNet.\n"
     ]
    },
    {
     "name": "stderr",
     "output_type": "stream",
     "text": [
      "  6%|▌         | 2207/37253 [00:16<04:15, 137.39it/s]"
     ]
    },
    {
     "name": "stdout",
     "output_type": "stream",
     "text": [
      "Skipping due to missing or non-string WeNet.\n"
     ]
    },
    {
     "name": "stderr",
     "output_type": "stream",
     "text": [
      "  7%|▋         | 2726/37253 [00:20<04:16, 134.87it/s]"
     ]
    },
    {
     "name": "stdout",
     "output_type": "stream",
     "text": [
      "Skipping due to missing or non-string WeNet.\n",
      "Skipping due to missing or non-string WeNet.\n"
     ]
    },
    {
     "name": "stderr",
     "output_type": "stream",
     "text": [
      " 10%|█         | 3825/37253 [00:28<03:56, 141.16it/s]"
     ]
    },
    {
     "name": "stdout",
     "output_type": "stream",
     "text": [
      "Skipping due to missing or non-string WeNet.\n"
     ]
    },
    {
     "name": "stderr",
     "output_type": "stream",
     "text": [
      " 11%|█         | 4050/37253 [00:30<03:52, 142.88it/s]"
     ]
    },
    {
     "name": "stdout",
     "output_type": "stream",
     "text": [
      "Skipping due to missing or non-string WeNet.\n"
     ]
    },
    {
     "name": "stderr",
     "output_type": "stream",
     "text": [
      " 11%|█         | 4080/37253 [00:30<03:52, 142.68it/s]"
     ]
    },
    {
     "name": "stdout",
     "output_type": "stream",
     "text": [
      "Skipping due to missing or non-string WeNet.\n"
     ]
    },
    {
     "name": "stderr",
     "output_type": "stream",
     "text": [
      " 11%|█         | 4125/37253 [00:30<03:51, 143.20it/s]"
     ]
    },
    {
     "name": "stdout",
     "output_type": "stream",
     "text": [
      "Skipping due to missing or non-string WeNet.\n"
     ]
    },
    {
     "name": "stderr",
     "output_type": "stream",
     "text": [
      " 12%|█▏        | 4444/37253 [00:33<03:47, 144.00it/s]"
     ]
    },
    {
     "name": "stdout",
     "output_type": "stream",
     "text": [
      "Skipping due to missing or non-string WeNet.\n",
      "Skipping due to missing or non-string WeNet.\n",
      "Skipping due to missing or non-string WeNet.\n"
     ]
    },
    {
     "name": "stderr",
     "output_type": "stream",
     "text": [
      " 12%|█▏        | 4605/37253 [00:34<03:54, 139.16it/s]"
     ]
    },
    {
     "name": "stdout",
     "output_type": "stream",
     "text": [
      "Skipping due to missing or non-string WeNet.\n"
     ]
    },
    {
     "name": "stderr",
     "output_type": "stream",
     "text": [
      " 13%|█▎        | 4766/37253 [00:35<03:49, 141.25it/s]"
     ]
    },
    {
     "name": "stdout",
     "output_type": "stream",
     "text": [
      "Skipping due to missing or non-string WeNet.\n"
     ]
    },
    {
     "name": "stderr",
     "output_type": "stream",
     "text": [
      " 14%|█▎        | 5105/37253 [00:37<03:47, 141.58it/s]"
     ]
    },
    {
     "name": "stdout",
     "output_type": "stream",
     "text": [
      "Skipping due to missing or non-string WeNet.\n"
     ]
    },
    {
     "name": "stderr",
     "output_type": "stream",
     "text": [
      " 14%|█▍        | 5236/37253 [00:38<03:53, 137.16it/s]"
     ]
    },
    {
     "name": "stdout",
     "output_type": "stream",
     "text": [
      "Skipping due to missing or non-string WeNet.\n"
     ]
    },
    {
     "name": "stderr",
     "output_type": "stream",
     "text": [
      " 14%|█▍        | 5279/37253 [00:39<03:52, 137.74it/s]"
     ]
    },
    {
     "name": "stdout",
     "output_type": "stream",
     "text": [
      "Skipping due to missing or non-string WeNet.\n"
     ]
    },
    {
     "name": "stderr",
     "output_type": "stream",
     "text": [
      " 14%|█▍        | 5335/37253 [00:39<03:55, 135.43it/s]"
     ]
    },
    {
     "name": "stdout",
     "output_type": "stream",
     "text": [
      "Skipping due to missing or non-string WeNet.\n"
     ]
    },
    {
     "name": "stderr",
     "output_type": "stream",
     "text": [
      " 16%|█▌        | 5804/37253 [00:42<03:51, 135.96it/s]"
     ]
    },
    {
     "name": "stdout",
     "output_type": "stream",
     "text": [
      "Skipping due to missing or non-string WeNet.\n"
     ]
    },
    {
     "name": "stderr",
     "output_type": "stream",
     "text": [
      " 16%|█▌        | 5918/37253 [00:43<03:43, 140.34it/s]"
     ]
    },
    {
     "name": "stdout",
     "output_type": "stream",
     "text": [
      "Skipping due to missing or non-string WeNet.\n"
     ]
    },
    {
     "name": "stderr",
     "output_type": "stream",
     "text": [
      " 17%|█▋        | 6251/37253 [00:46<03:37, 142.58it/s]"
     ]
    },
    {
     "name": "stdout",
     "output_type": "stream",
     "text": [
      "Skipping due to missing or non-string WeNet.\n"
     ]
    },
    {
     "name": "stderr",
     "output_type": "stream",
     "text": [
      " 17%|█▋        | 6296/37253 [00:46<03:39, 140.85it/s]"
     ]
    },
    {
     "name": "stdout",
     "output_type": "stream",
     "text": [
      "Skipping due to missing or non-string WeNet.\n"
     ]
    },
    {
     "name": "stderr",
     "output_type": "stream",
     "text": [
      " 18%|█▊        | 6756/37253 [00:49<03:39, 138.68it/s]"
     ]
    },
    {
     "name": "stdout",
     "output_type": "stream",
     "text": [
      "Skipping due to missing or non-string WeNet.\n"
     ]
    },
    {
     "name": "stderr",
     "output_type": "stream",
     "text": [
      " 19%|█▉        | 7152/37253 [00:52<03:29, 144.02it/s]"
     ]
    },
    {
     "name": "stdout",
     "output_type": "stream",
     "text": [
      "Skipping due to missing or non-string WeNet.\n"
     ]
    },
    {
     "name": "stderr",
     "output_type": "stream",
     "text": [
      " 19%|█▉        | 7242/37253 [00:53<03:34, 140.01it/s]"
     ]
    },
    {
     "name": "stdout",
     "output_type": "stream",
     "text": [
      "Skipping due to missing or non-string WeNet.\n"
     ]
    },
    {
     "name": "stderr",
     "output_type": "stream",
     "text": [
      " 20%|██        | 7497/37253 [00:55<03:33, 139.43it/s]"
     ]
    },
    {
     "name": "stdout",
     "output_type": "stream",
     "text": [
      "Skipping due to missing or non-string WeNet.\n"
     ]
    },
    {
     "name": "stderr",
     "output_type": "stream",
     "text": [
      " 20%|██        | 7539/37253 [00:55<03:33, 139.11it/s]"
     ]
    },
    {
     "name": "stdout",
     "output_type": "stream",
     "text": [
      "Skipping due to missing or non-string WeNet.\n"
     ]
    },
    {
     "name": "stderr",
     "output_type": "stream",
     "text": [
      " 21%|██        | 7903/37253 [00:58<03:30, 139.71it/s]"
     ]
    },
    {
     "name": "stdout",
     "output_type": "stream",
     "text": [
      "Skipping due to missing or non-string WeNet.\n"
     ]
    },
    {
     "name": "stderr",
     "output_type": "stream",
     "text": [
      " 22%|██▏       | 8120/37253 [00:59<03:23, 143.00it/s]"
     ]
    },
    {
     "name": "stdout",
     "output_type": "stream",
     "text": [
      "Skipping due to missing or non-string WeNet.\n"
     ]
    },
    {
     "name": "stderr",
     "output_type": "stream",
     "text": [
      " 22%|██▏       | 8210/37253 [01:00<03:25, 141.64it/s]"
     ]
    },
    {
     "name": "stdout",
     "output_type": "stream",
     "text": [
      "Skipping due to missing or non-string WeNet.\n"
     ]
    },
    {
     "name": "stderr",
     "output_type": "stream",
     "text": [
      " 22%|██▏       | 8240/37253 [01:00<03:24, 141.60it/s]"
     ]
    },
    {
     "name": "stdout",
     "output_type": "stream",
     "text": [
      "Skipping due to missing or non-string WeNet.\n",
      "Skipping due to missing or non-string WeNet.\n"
     ]
    },
    {
     "name": "stderr",
     "output_type": "stream",
     "text": [
      " 22%|██▏       | 8300/37253 [01:00<03:26, 140.19it/s]"
     ]
    },
    {
     "name": "stdout",
     "output_type": "stream",
     "text": [
      "Skipping due to missing or non-string WeNet.\n"
     ]
    },
    {
     "name": "stderr",
     "output_type": "stream",
     "text": [
      " 22%|██▏       | 8360/37253 [01:01<03:23, 141.91it/s]"
     ]
    },
    {
     "name": "stdout",
     "output_type": "stream",
     "text": [
      "Skipping due to missing or non-string WeNet.\n",
      "Skipping due to missing or non-string WeNet.\n",
      "Skipping due to missing or non-string WeNet.\n"
     ]
    },
    {
     "name": "stderr",
     "output_type": "stream",
     "text": [
      " 23%|██▎       | 8404/37253 [01:01<03:26, 139.69it/s]"
     ]
    },
    {
     "name": "stdout",
     "output_type": "stream",
     "text": [
      "Skipping due to missing or non-string WeNet.\n",
      "Skipping due to missing or non-string WeNet.\n"
     ]
    },
    {
     "name": "stderr",
     "output_type": "stream",
     "text": [
      " 23%|██▎       | 8521/37253 [01:02<03:20, 143.16it/s]"
     ]
    },
    {
     "name": "stdout",
     "output_type": "stream",
     "text": [
      "Skipping due to missing or non-string WeNet.\n",
      "Skipping due to missing or non-string WeNet.\n"
     ]
    },
    {
     "name": "stderr",
     "output_type": "stream",
     "text": [
      " 23%|██▎       | 8624/37253 [01:03<03:25, 139.31it/s]"
     ]
    },
    {
     "name": "stdout",
     "output_type": "stream",
     "text": [
      "Skipping due to missing or non-string WeNet.\n",
      "Skipping due to missing or non-string WeNet.\n"
     ]
    },
    {
     "name": "stderr",
     "output_type": "stream",
     "text": [
      " 24%|██▎       | 8794/37253 [01:04<03:27, 136.88it/s]"
     ]
    },
    {
     "name": "stdout",
     "output_type": "stream",
     "text": [
      "Skipping due to missing or non-string WeNet.\n"
     ]
    },
    {
     "name": "stderr",
     "output_type": "stream",
     "text": [
      " 24%|██▍       | 8851/37253 [01:04<03:27, 136.94it/s]"
     ]
    },
    {
     "name": "stdout",
     "output_type": "stream",
     "text": [
      "Skipping due to missing or non-string WeNet.\n"
     ]
    },
    {
     "name": "stderr",
     "output_type": "stream",
     "text": [
      " 24%|██▍       | 9034/37253 [01:06<03:25, 137.08it/s]"
     ]
    },
    {
     "name": "stdout",
     "output_type": "stream",
     "text": [
      "Skipping due to missing or non-string WeNet.\n"
     ]
    },
    {
     "name": "stderr",
     "output_type": "stream",
     "text": [
      " 25%|██▌       | 9380/37253 [01:08<03:23, 136.66it/s]"
     ]
    },
    {
     "name": "stdout",
     "output_type": "stream",
     "text": [
      "Skipping due to missing or non-string WeNet.\n"
     ]
    },
    {
     "name": "stderr",
     "output_type": "stream",
     "text": [
      " 28%|██▊       | 10308/37253 [01:15<03:09, 142.15it/s]"
     ]
    },
    {
     "name": "stdout",
     "output_type": "stream",
     "text": [
      "Skipping due to missing or non-string WeNet.\n"
     ]
    },
    {
     "name": "stderr",
     "output_type": "stream",
     "text": [
      " 28%|██▊       | 10486/37253 [01:16<03:13, 138.38it/s]"
     ]
    },
    {
     "name": "stdout",
     "output_type": "stream",
     "text": [
      "Skipping: One of the rows is empty.\n"
     ]
    },
    {
     "name": "stderr",
     "output_type": "stream",
     "text": [
      " 29%|██▉       | 10865/37253 [01:19<03:05, 141.92it/s]"
     ]
    },
    {
     "name": "stdout",
     "output_type": "stream",
     "text": [
      "Skipping due to missing or non-string WeNet.\n"
     ]
    },
    {
     "name": "stderr",
     "output_type": "stream",
     "text": [
      " 29%|██▉       | 10984/37253 [01:20<03:05, 141.48it/s]"
     ]
    },
    {
     "name": "stdout",
     "output_type": "stream",
     "text": [
      "Skipping due to missing or non-string WeNet.\n",
      "Skipping due to missing or non-string WeNet.\n"
     ]
    },
    {
     "name": "stderr",
     "output_type": "stream",
     "text": [
      " 30%|███       | 11283/37253 [01:22<03:05, 140.05it/s]"
     ]
    },
    {
     "name": "stdout",
     "output_type": "stream",
     "text": [
      "Skipping due to missing or non-string WeNet.\n"
     ]
    },
    {
     "name": "stderr",
     "output_type": "stream",
     "text": [
      " 31%|███       | 11592/37253 [01:24<03:04, 139.25it/s]"
     ]
    },
    {
     "name": "stdout",
     "output_type": "stream",
     "text": [
      "Skipping due to missing or non-string WeNet.\n"
     ]
    },
    {
     "name": "stderr",
     "output_type": "stream",
     "text": [
      " 33%|███▎      | 12160/37253 [01:28<02:58, 140.50it/s]"
     ]
    },
    {
     "name": "stdout",
     "output_type": "stream",
     "text": [
      "Skipping due to missing or non-string WeNet.\n"
     ]
    },
    {
     "name": "stderr",
     "output_type": "stream",
     "text": [
      " 33%|███▎      | 12220/37253 [01:29<02:56, 141.53it/s]"
     ]
    },
    {
     "name": "stdout",
     "output_type": "stream",
     "text": [
      "Skipping due to missing or non-string WeNet.\n"
     ]
    },
    {
     "name": "stderr",
     "output_type": "stream",
     "text": [
      " 33%|███▎      | 12250/37253 [01:29<02:55, 142.31it/s]"
     ]
    },
    {
     "name": "stdout",
     "output_type": "stream",
     "text": [
      "Skipping due to missing or non-string WeNet.\n"
     ]
    },
    {
     "name": "stderr",
     "output_type": "stream",
     "text": [
      " 33%|███▎      | 12310/37253 [01:29<02:57, 140.16it/s]"
     ]
    },
    {
     "name": "stdout",
     "output_type": "stream",
     "text": [
      "Skipping due to missing or non-string WeNet.\n"
     ]
    },
    {
     "name": "stderr",
     "output_type": "stream",
     "text": [
      " 34%|███▍      | 12728/37253 [01:32<02:55, 139.89it/s]"
     ]
    },
    {
     "name": "stdout",
     "output_type": "stream",
     "text": [
      "Skipping due to missing or non-string WeNet.\n"
     ]
    },
    {
     "name": "stderr",
     "output_type": "stream",
     "text": [
      " 35%|███▍      | 12961/37253 [01:34<02:53, 139.62it/s]"
     ]
    },
    {
     "name": "stdout",
     "output_type": "stream",
     "text": [
      "Skipping due to missing or non-string WeNet.\n"
     ]
    },
    {
     "name": "stderr",
     "output_type": "stream",
     "text": [
      " 35%|███▌      | 13103/37253 [01:35<02:54, 138.10it/s]"
     ]
    },
    {
     "name": "stdout",
     "output_type": "stream",
     "text": [
      "Skipping due to missing or non-string WeNet.\n"
     ]
    },
    {
     "name": "stderr",
     "output_type": "stream",
     "text": [
      " 35%|███▌      | 13160/37253 [01:36<02:57, 135.47it/s]"
     ]
    },
    {
     "name": "stdout",
     "output_type": "stream",
     "text": [
      "Skipping due to missing or non-string WeNet.\n",
      "Skipping due to missing or non-string WeNet.\n"
     ]
    },
    {
     "name": "stderr",
     "output_type": "stream",
     "text": [
      " 36%|███▌      | 13273/37253 [01:36<02:51, 139.68it/s]"
     ]
    },
    {
     "name": "stdout",
     "output_type": "stream",
     "text": [
      "Skipping due to missing or non-string WeNet.\n"
     ]
    },
    {
     "name": "stderr",
     "output_type": "stream",
     "text": [
      " 38%|███▊      | 13990/37253 [01:41<02:49, 137.65it/s]"
     ]
    },
    {
     "name": "stdout",
     "output_type": "stream",
     "text": [
      "Skipping due to missing or non-string WeNet.\n"
     ]
    },
    {
     "name": "stderr",
     "output_type": "stream",
     "text": [
      " 38%|███▊      | 14109/37253 [01:42<02:41, 143.15it/s]"
     ]
    },
    {
     "name": "stdout",
     "output_type": "stream",
     "text": [
      "Skipping due to missing or non-string WeNet.\n"
     ]
    },
    {
     "name": "stderr",
     "output_type": "stream",
     "text": [
      " 38%|███▊      | 14214/37253 [01:43<02:41, 142.82it/s]"
     ]
    },
    {
     "name": "stdout",
     "output_type": "stream",
     "text": [
      "Skipping due to missing or non-string WeNet.\n"
     ]
    },
    {
     "name": "stderr",
     "output_type": "stream",
     "text": [
      " 39%|███▊      | 14393/37253 [01:44<02:42, 140.56it/s]"
     ]
    },
    {
     "name": "stdout",
     "output_type": "stream",
     "text": [
      "Skipping due to missing or non-string WeNet.\n",
      "Skipping due to missing or non-string WeNet.\n"
     ]
    },
    {
     "name": "stderr",
     "output_type": "stream",
     "text": [
      " 40%|███▉      | 14743/37253 [01:47<02:39, 141.23it/s]"
     ]
    },
    {
     "name": "stdout",
     "output_type": "stream",
     "text": [
      "Skipping due to missing or non-string WeNet.\n"
     ]
    },
    {
     "name": "stderr",
     "output_type": "stream",
     "text": [
      " 42%|████▏     | 15659/37253 [01:53<02:27, 146.70it/s]"
     ]
    },
    {
     "name": "stdout",
     "output_type": "stream",
     "text": [
      "Skipping due to missing or non-string WeNet.\n"
     ]
    },
    {
     "name": "stderr",
     "output_type": "stream",
     "text": [
      " 45%|████▍     | 16617/37253 [02:00<02:30, 137.54it/s]"
     ]
    },
    {
     "name": "stdout",
     "output_type": "stream",
     "text": [
      "Skipping due to missing or non-string WeNet.\n"
     ]
    },
    {
     "name": "stderr",
     "output_type": "stream",
     "text": [
      " 47%|████▋     | 17495/37253 [02:06<02:15, 145.92it/s]"
     ]
    },
    {
     "name": "stdout",
     "output_type": "stream",
     "text": [
      "Skipping due to missing or non-string WeNet.\n"
     ]
    },
    {
     "name": "stderr",
     "output_type": "stream",
     "text": [
      " 48%|████▊     | 17870/37253 [02:09<02:13, 145.62it/s]"
     ]
    },
    {
     "name": "stdout",
     "output_type": "stream",
     "text": [
      "Skipping due to missing or non-string WeNet.\n",
      "Skipping due to missing or non-string WeNet.\n"
     ]
    },
    {
     "name": "stderr",
     "output_type": "stream",
     "text": [
      " 48%|████▊     | 17900/37253 [02:09<02:14, 144.31it/s]"
     ]
    },
    {
     "name": "stdout",
     "output_type": "stream",
     "text": [
      "Skipping due to missing or non-string WeNet.\n"
     ]
    },
    {
     "name": "stderr",
     "output_type": "stream",
     "text": [
      " 48%|████▊     | 18020/37253 [02:10<02:13, 143.65it/s]"
     ]
    },
    {
     "name": "stdout",
     "output_type": "stream",
     "text": [
      "Skipping due to missing or non-string WeNet.\n"
     ]
    },
    {
     "name": "stderr",
     "output_type": "stream",
     "text": [
      " 51%|█████     | 19082/37253 [02:17<02:13, 135.72it/s]"
     ]
    },
    {
     "name": "stdout",
     "output_type": "stream",
     "text": [
      "Skipping due to missing or non-string WeNet.\n"
     ]
    },
    {
     "name": "stderr",
     "output_type": "stream",
     "text": [
      " 51%|█████▏    | 19126/37253 [02:17<02:09, 140.20it/s]"
     ]
    },
    {
     "name": "stdout",
     "output_type": "stream",
     "text": [
      "Skipping due to missing or non-string WeNet.\n"
     ]
    },
    {
     "name": "stderr",
     "output_type": "stream",
     "text": [
      " 52%|█████▏    | 19261/37253 [02:18<02:03, 145.51it/s]"
     ]
    },
    {
     "name": "stdout",
     "output_type": "stream",
     "text": [
      "Skipping due to missing or non-string WeNet.\n"
     ]
    },
    {
     "name": "stderr",
     "output_type": "stream",
     "text": [
      " 54%|█████▎    | 20001/37253 [02:24<01:59, 144.10it/s]"
     ]
    },
    {
     "name": "stdout",
     "output_type": "stream",
     "text": [
      "Skipping due to missing or non-string WeNet.\n"
     ]
    },
    {
     "name": "stderr",
     "output_type": "stream",
     "text": [
      " 57%|█████▋    | 21276/37253 [02:33<01:48, 147.18it/s]"
     ]
    },
    {
     "name": "stdout",
     "output_type": "stream",
     "text": [
      "Skipping due to missing or non-string WeNet.\n",
      "Skipping due to missing or non-string WeNet.\n"
     ]
    },
    {
     "name": "stderr",
     "output_type": "stream",
     "text": [
      " 57%|█████▋    | 21306/37253 [02:33<01:48, 146.62it/s]"
     ]
    },
    {
     "name": "stdout",
     "output_type": "stream",
     "text": [
      "Skipping due to missing or non-string WeNet.\n"
     ]
    },
    {
     "name": "stderr",
     "output_type": "stream",
     "text": [
      " 58%|█████▊    | 21546/37253 [02:34<01:47, 146.34it/s]"
     ]
    },
    {
     "name": "stdout",
     "output_type": "stream",
     "text": [
      "Skipping due to missing or non-string WeNet.\n"
     ]
    },
    {
     "name": "stderr",
     "output_type": "stream",
     "text": [
      " 58%|█████▊    | 21606/37253 [02:35<01:47, 145.03it/s]"
     ]
    },
    {
     "name": "stdout",
     "output_type": "stream",
     "text": [
      "Skipping due to missing or non-string WeNet.\n"
     ]
    },
    {
     "name": "stderr",
     "output_type": "stream",
     "text": [
      " 58%|█████▊    | 21696/37253 [02:35<01:46, 145.83it/s]"
     ]
    },
    {
     "name": "stdout",
     "output_type": "stream",
     "text": [
      "Skipping due to missing or non-string WeNet.\n"
     ]
    },
    {
     "name": "stderr",
     "output_type": "stream",
     "text": [
      " 58%|█████▊    | 21741/37253 [02:36<01:47, 144.29it/s]"
     ]
    },
    {
     "name": "stdout",
     "output_type": "stream",
     "text": [
      "Skipping due to missing or non-string WeNet.\n"
     ]
    },
    {
     "name": "stderr",
     "output_type": "stream",
     "text": [
      " 63%|██████▎   | 23420/37253 [02:47<01:36, 144.09it/s]"
     ]
    },
    {
     "name": "stdout",
     "output_type": "stream",
     "text": [
      "Skipping due to missing or non-string WeNet.\n"
     ]
    },
    {
     "name": "stderr",
     "output_type": "stream",
     "text": [
      " 66%|██████▋   | 24717/37253 [02:57<01:26, 144.65it/s]"
     ]
    },
    {
     "name": "stdout",
     "output_type": "stream",
     "text": [
      "Skipping due to missing or non-string WeNet.\n"
     ]
    },
    {
     "name": "stderr",
     "output_type": "stream",
     "text": [
      " 67%|██████▋   | 24852/37253 [02:58<01:26, 142.81it/s]"
     ]
    },
    {
     "name": "stdout",
     "output_type": "stream",
     "text": [
      "Skipping due to missing or non-string WeNet.\n"
     ]
    },
    {
     "name": "stderr",
     "output_type": "stream",
     "text": [
      " 67%|██████▋   | 25077/37253 [02:59<01:25, 141.66it/s]"
     ]
    },
    {
     "name": "stdout",
     "output_type": "stream",
     "text": [
      "Skipping due to missing or non-string WeNet.\n",
      "Skipping due to missing or non-string WeNet.\n"
     ]
    },
    {
     "name": "stderr",
     "output_type": "stream",
     "text": [
      " 81%|████████  | 30111/37253 [03:34<00:50, 140.69it/s]"
     ]
    },
    {
     "name": "stdout",
     "output_type": "stream",
     "text": [
      "Skipping due to missing or non-string WeNet.\n"
     ]
    },
    {
     "name": "stderr",
     "output_type": "stream",
     "text": [
      " 81%|████████  | 30246/37253 [03:35<00:47, 146.11it/s]"
     ]
    },
    {
     "name": "stdout",
     "output_type": "stream",
     "text": [
      "Skipping due to missing or non-string WeNet.\n",
      "Skipping due to missing or non-string WeNet.\n"
     ]
    },
    {
     "name": "stderr",
     "output_type": "stream",
     "text": [
      " 82%|████████▏ | 30364/37253 [03:36<00:51, 134.46it/s]"
     ]
    },
    {
     "name": "stdout",
     "output_type": "stream",
     "text": [
      "Skipping due to missing or non-string WeNet.\n"
     ]
    },
    {
     "name": "stderr",
     "output_type": "stream",
     "text": [
      " 82%|████████▏ | 30707/37253 [03:39<00:45, 145.31it/s]"
     ]
    },
    {
     "name": "stdout",
     "output_type": "stream",
     "text": [
      "Skipping due to missing or non-string WeNet.\n"
     ]
    },
    {
     "name": "stderr",
     "output_type": "stream",
     "text": [
      " 83%|████████▎ | 30752/37253 [03:39<00:45, 141.83it/s]"
     ]
    },
    {
     "name": "stdout",
     "output_type": "stream",
     "text": [
      "Skipping due to missing or non-string WeNet.\n"
     ]
    },
    {
     "name": "stderr",
     "output_type": "stream",
     "text": [
      " 91%|█████████▏| 34063/37253 [04:02<00:21, 145.14it/s]"
     ]
    },
    {
     "name": "stdout",
     "output_type": "stream",
     "text": [
      "Skipping: One of the rows is empty.\n"
     ]
    },
    {
     "name": "stderr",
     "output_type": "stream",
     "text": [
      " 92%|█████████▏| 34108/37253 [04:02<00:21, 144.06it/s]"
     ]
    },
    {
     "name": "stdout",
     "output_type": "stream",
     "text": [
      "Skipping: One of the rows is empty.\n"
     ]
    },
    {
     "name": "stderr",
     "output_type": "stream",
     "text": [
      " 93%|█████████▎| 34603/37253 [04:06<00:18, 145.79it/s]"
     ]
    },
    {
     "name": "stdout",
     "output_type": "stream",
     "text": [
      "Skipping: One of the rows is empty.\n"
     ]
    },
    {
     "name": "stderr",
     "output_type": "stream",
     "text": [
      "100%|██████████| 37253/37253 [04:24<00:00, 140.76it/s]\n"
     ]
    }
   ],
   "source": [
    "print_ = True\n",
    "\n",
    "for index, row in tqdm(net_aigenerated_data_wenet.iterrows(), total=len(net_aigenerated_data_wenet)):\n",
    "    \n",
    "    mask_large = (\n",
    "        (net_aigenerated_data_wenet[\"Filename\"] == row[\"Filename\"]) &\n",
    "        (net_aigenerated_data_wenet[\"Start_time\"] == row[\"Start_time\"])\n",
    "    )\n",
    "\n",
    "    mask_net = (\n",
    "        (net_data[\"Filename\"] == row[\"Filename\"]) &\n",
    "        (net_data[\"Start_time\"] == row[\"Start_time\"])\n",
    "    )\n",
    "\n",
    "    \n",
    "    large_row = net_aigenerated_data_wenet.loc[mask_large]\n",
    "    net_row = net_data.loc[mask_net]\n",
    "\n",
    "    # print(large_row)\n",
    "    # print('\\n\\n\\n\\n')\n",
    "    # print(net_row)\n",
    "    \n",
    "    if large_row.empty or net_row.empty:\n",
    "        print(\"Skipping: One of the rows is empty.\")\n",
    "        continue\n",
    "        \n",
    "    wenet = large_row[\"WeNet\"].values[0]\n",
    "    cleaned_transcript = net_row[\"Cleaned_Transcript\"].values[0]\n",
    "    \n",
    "    if pd.isna(wenet) or not isinstance(wenet, str):\n",
    "        print(\"Skipping due to missing or non-string WeNet.\")\n",
    "        continue\n",
    "    if pd.isna(cleaned_transcript) or not isinstance(cleaned_transcript, str):\n",
    "        print(\"Skipping due to missing or non-string Cleaned_Transcript.\")\n",
    "        continue\n",
    "\n",
    "    try:\n",
    "        \n",
    "        scores = rouge.get_scores(' '.join(jieba.cut(wenet)), ' '.join(jieba.cut(cleaned_transcript)))\n",
    "        \n",
    "        net_aigenerated_data_wenet.loc[mask_large, \"rouge1-precision\"] = scores[0][\"rouge-1\"][\"p\"]\n",
    "        net_aigenerated_data_wenet.loc[mask_large, \"rouge1-recall\"] = scores[0][\"rouge-1\"][\"r\"]\n",
    "        net_aigenerated_data_wenet.loc[mask_large, \"rouge1-f1\"] = scores[0][\"rouge-1\"][\"f\"]\n",
    "        \n",
    "        \n",
    "        net_aigenerated_data_wenet.loc[mask_large, \"rouge2-precision\"] = scores[0][\"rouge-2\"][\"p\"]\n",
    "        net_aigenerated_data_wenet.loc[mask_large, \"rouge2-recall\"] = scores[0][\"rouge-2\"][\"r\"]\n",
    "        net_aigenerated_data_wenet.loc[mask_large, \"rouge2-f1\"] = scores[0][\"rouge-2\"][\"f\"]\n",
    "        \n",
    "        \n",
    "        net_aigenerated_data_wenet.loc[mask_large, \"rougel-precision\"] = scores[0][\"rouge-l\"][\"p\"]\n",
    "        net_aigenerated_data_wenet.loc[mask_large, \"rougel-recall\"] = scores[0][\"rouge-l\"][\"r\"]\n",
    "        net_aigenerated_data_wenet.loc[mask_large, \"rougel-f1\"] = scores[0][\"rouge-l\"][\"f\"]\n",
    "        \n",
    "        stutterance_count = net_row[\"Stutterance_Count\"].values[0]\n",
    "        net_aigenerated_data_wenet.loc[mask_large, \"Stutterance_Count\"] = stutterance_count\n",
    "\n",
    "        if (print_):\n",
    "            print(net_aigenerated_data_wenet)\n",
    "            print_ = False\n",
    "        \n",
    "        # Verify assignment\n",
    "        # print(f'Assigned Stutterance_Count: {stutterance_count}')\n",
    "        # print(net_aigenerated_data_wenet.loc[mask_large, \"Stutterance_Count\"])\n",
    "\n",
    "    except Exception as e:\n",
    "        print(f'ERROR: {e}')\n",
    "        print('Occurred with the following data:')\n",
    "        print(large_row)\n",
    "        print(net_row)"
   ]
  },
  {
   "cell_type": "code",
   "execution_count": 22,
   "id": "8e6bc54a-90fb-409a-a30d-d90ddf2550cf",
   "metadata": {
    "tags": []
   },
   "outputs": [
    {
     "data": {
      "text/html": [
       "<div>\n",
       "<style scoped>\n",
       "    .dataframe tbody tr th:only-of-type {\n",
       "        vertical-align: middle;\n",
       "    }\n",
       "\n",
       "    .dataframe tbody tr th {\n",
       "        vertical-align: top;\n",
       "    }\n",
       "\n",
       "    .dataframe thead th {\n",
       "        text-align: right;\n",
       "    }\n",
       "</style>\n",
       "<table border=\"1\" class=\"dataframe\">\n",
       "  <thead>\n",
       "    <tr style=\"text-align: right;\">\n",
       "      <th></th>\n",
       "      <th>Unnamed: 0</th>\n",
       "      <th>Filename</th>\n",
       "      <th>Start_time</th>\n",
       "      <th>End_time</th>\n",
       "      <th>WeNet</th>\n",
       "      <th>WER</th>\n",
       "      <th>Stutterance_Count</th>\n",
       "      <th>NA_Count</th>\n",
       "      <th>NA_Cleaned_Count</th>\n",
       "      <th>WER_Binned</th>\n",
       "      <th>rouge1-precision</th>\n",
       "      <th>rouge1-recall</th>\n",
       "      <th>rouge1-f1</th>\n",
       "      <th>rouge2-precision</th>\n",
       "      <th>rouge2-recall</th>\n",
       "      <th>rouge2-f1</th>\n",
       "      <th>rougel-precision</th>\n",
       "      <th>rougel-recall</th>\n",
       "      <th>rougel-f1</th>\n",
       "    </tr>\n",
       "  </thead>\n",
       "  <tbody>\n",
       "    <tr>\n",
       "      <th>0</th>\n",
       "      <td>0</td>\n",
       "      <td>D0001_A</td>\n",
       "      <td>2081.540000</td>\n",
       "      <td>2109.650000</td>\n",
       "      <td>我说出来就比较地需要时间然后那个识别的他的不就是他等你一会你那个话还没有说完的还没有说出来的...</td>\n",
       "      <td>0.226804</td>\n",
       "      <td>1.0</td>\n",
       "      <td>100</td>\n",
       "      <td>0</td>\n",
       "      <td>0.23</td>\n",
       "      <td>0.837838</td>\n",
       "      <td>0.815789</td>\n",
       "      <td>0.826667</td>\n",
       "      <td>0.555556</td>\n",
       "      <td>0.491803</td>\n",
       "      <td>0.521739</td>\n",
       "      <td>0.803279</td>\n",
       "      <td>0.700000</td>\n",
       "      <td>0.748092</td>\n",
       "    </tr>\n",
       "    <tr>\n",
       "      <th>1</th>\n",
       "      <td>1</td>\n",
       "      <td>D0001_A</td>\n",
       "      <td>790.130000</td>\n",
       "      <td>796.580000</td>\n",
       "      <td>第四句有我我说的话</td>\n",
       "      <td>0.500000</td>\n",
       "      <td>1.0</td>\n",
       "      <td>100</td>\n",
       "      <td>0</td>\n",
       "      <td>0.50</td>\n",
       "      <td>0.800000</td>\n",
       "      <td>0.571429</td>\n",
       "      <td>0.666667</td>\n",
       "      <td>0.400000</td>\n",
       "      <td>0.333333</td>\n",
       "      <td>0.363636</td>\n",
       "      <td>0.666667</td>\n",
       "      <td>0.571429</td>\n",
       "      <td>0.615385</td>\n",
       "    </tr>\n",
       "    <tr>\n",
       "      <th>2</th>\n",
       "      <td>2</td>\n",
       "      <td>D0001_A</td>\n",
       "      <td>1562.083518</td>\n",
       "      <td>1586.220000</td>\n",
       "      <td>这部剧是不怎么评分是不怎么好的就因为评评论区的那那些人他们都在说拿到号做好惨的那个就那么勤奋...</td>\n",
       "      <td>0.203125</td>\n",
       "      <td>10.0</td>\n",
       "      <td>100</td>\n",
       "      <td>0</td>\n",
       "      <td>0.20</td>\n",
       "      <td>0.806452</td>\n",
       "      <td>0.806452</td>\n",
       "      <td>0.806452</td>\n",
       "      <td>0.617647</td>\n",
       "      <td>0.525000</td>\n",
       "      <td>0.567568</td>\n",
       "      <td>0.828571</td>\n",
       "      <td>0.690476</td>\n",
       "      <td>0.753247</td>\n",
       "    </tr>\n",
       "    <tr>\n",
       "      <th>3</th>\n",
       "      <td>3</td>\n",
       "      <td>D0001_A</td>\n",
       "      <td>2016.780000</td>\n",
       "      <td>2035.673559</td>\n",
       "      <td>很精准对讯飞语音还是讯飞助手来着就我记得他是叫讯飞我之前就是他</td>\n",
       "      <td>0.210526</td>\n",
       "      <td>7.0</td>\n",
       "      <td>100</td>\n",
       "      <td>0</td>\n",
       "      <td>0.21</td>\n",
       "      <td>0.888889</td>\n",
       "      <td>0.800000</td>\n",
       "      <td>0.842105</td>\n",
       "      <td>0.650000</td>\n",
       "      <td>0.464286</td>\n",
       "      <td>0.541667</td>\n",
       "      <td>0.863636</td>\n",
       "      <td>0.612903</td>\n",
       "      <td>0.716981</td>\n",
       "    </tr>\n",
       "    <tr>\n",
       "      <th>4</th>\n",
       "      <td>4</td>\n",
       "      <td>D0001_A</td>\n",
       "      <td>1682.670000</td>\n",
       "      <td>1709.110000</td>\n",
       "      <td>一个个是叫啥来的我忘了就是出现了这一个人然后呢他他就射了一把剑然后就就把那个拿二号给长杀了就...</td>\n",
       "      <td>0.250000</td>\n",
       "      <td>8.0</td>\n",
       "      <td>100</td>\n",
       "      <td>0</td>\n",
       "      <td>0.25</td>\n",
       "      <td>0.806452</td>\n",
       "      <td>0.757576</td>\n",
       "      <td>0.781250</td>\n",
       "      <td>0.512821</td>\n",
       "      <td>0.454545</td>\n",
       "      <td>0.481928</td>\n",
       "      <td>0.761905</td>\n",
       "      <td>0.653061</td>\n",
       "      <td>0.703297</td>\n",
       "    </tr>\n",
       "    <tr>\n",
       "      <th>...</th>\n",
       "      <td>...</td>\n",
       "      <td>...</td>\n",
       "      <td>...</td>\n",
       "      <td>...</td>\n",
       "      <td>...</td>\n",
       "      <td>...</td>\n",
       "      <td>...</td>\n",
       "      <td>...</td>\n",
       "      <td>...</td>\n",
       "      <td>...</td>\n",
       "      <td>...</td>\n",
       "      <td>...</td>\n",
       "      <td>...</td>\n",
       "      <td>...</td>\n",
       "      <td>...</td>\n",
       "      <td>...</td>\n",
       "      <td>...</td>\n",
       "      <td>...</td>\n",
       "      <td>...</td>\n",
       "    </tr>\n",
       "    <tr>\n",
       "      <th>37248</th>\n",
       "      <td>37248</td>\n",
       "      <td>P0070</td>\n",
       "      <td>2586.616000</td>\n",
       "      <td>2589.346000</td>\n",
       "      <td>单曲循环歌曲这样而已</td>\n",
       "      <td>0.090909</td>\n",
       "      <td>0.0</td>\n",
       "      <td>100</td>\n",
       "      <td>0</td>\n",
       "      <td>0.09</td>\n",
       "      <td>1.000000</td>\n",
       "      <td>0.833333</td>\n",
       "      <td>0.909091</td>\n",
       "      <td>1.000000</td>\n",
       "      <td>0.800000</td>\n",
       "      <td>0.888889</td>\n",
       "      <td>1.000000</td>\n",
       "      <td>0.833333</td>\n",
       "      <td>0.909091</td>\n",
       "    </tr>\n",
       "    <tr>\n",
       "      <th>37249</th>\n",
       "      <td>37249</td>\n",
       "      <td>P0070</td>\n",
       "      <td>2782.496000</td>\n",
       "      <td>2783.706000</td>\n",
       "      <td>杨幂的电影</td>\n",
       "      <td>0.166667</td>\n",
       "      <td>0.0</td>\n",
       "      <td>100</td>\n",
       "      <td>0</td>\n",
       "      <td>0.17</td>\n",
       "      <td>1.000000</td>\n",
       "      <td>0.750000</td>\n",
       "      <td>0.857143</td>\n",
       "      <td>1.000000</td>\n",
       "      <td>0.666667</td>\n",
       "      <td>0.800000</td>\n",
       "      <td>1.000000</td>\n",
       "      <td>0.750000</td>\n",
       "      <td>0.857143</td>\n",
       "    </tr>\n",
       "    <tr>\n",
       "      <th>37250</th>\n",
       "      <td>37250</td>\n",
       "      <td>P0070</td>\n",
       "      <td>2995.296000</td>\n",
       "      <td>2998.116000</td>\n",
       "      <td>你好米娅今天柴油价怎么样</td>\n",
       "      <td>0.266667</td>\n",
       "      <td>0.0</td>\n",
       "      <td>100</td>\n",
       "      <td>0</td>\n",
       "      <td>0.27</td>\n",
       "      <td>0.833333</td>\n",
       "      <td>0.625000</td>\n",
       "      <td>0.714286</td>\n",
       "      <td>0.600000</td>\n",
       "      <td>0.375000</td>\n",
       "      <td>0.461538</td>\n",
       "      <td>0.833333</td>\n",
       "      <td>0.555556</td>\n",
       "      <td>0.666667</td>\n",
       "    </tr>\n",
       "    <tr>\n",
       "      <th>37251</th>\n",
       "      <td>37251</td>\n",
       "      <td>P0070</td>\n",
       "      <td>2604.066000</td>\n",
       "      <td>2606.656000</td>\n",
       "      <td>单曲循环歌曲琉璃光之歌</td>\n",
       "      <td>0.083333</td>\n",
       "      <td>0.0</td>\n",
       "      <td>100</td>\n",
       "      <td>0</td>\n",
       "      <td>0.08</td>\n",
       "      <td>1.000000</td>\n",
       "      <td>0.833333</td>\n",
       "      <td>0.909091</td>\n",
       "      <td>1.000000</td>\n",
       "      <td>0.800000</td>\n",
       "      <td>0.888889</td>\n",
       "      <td>1.000000</td>\n",
       "      <td>0.833333</td>\n",
       "      <td>0.909091</td>\n",
       "    </tr>\n",
       "    <tr>\n",
       "      <th>37252</th>\n",
       "      <td>37252</td>\n",
       "      <td>P0070</td>\n",
       "      <td>2434.606000</td>\n",
       "      <td>2436.576000</td>\n",
       "      <td>导航到龙城明月</td>\n",
       "      <td>0.375000</td>\n",
       "      <td>0.0</td>\n",
       "      <td>100</td>\n",
       "      <td>0</td>\n",
       "      <td>0.38</td>\n",
       "      <td>0.500000</td>\n",
       "      <td>0.400000</td>\n",
       "      <td>0.444444</td>\n",
       "      <td>0.333333</td>\n",
       "      <td>0.250000</td>\n",
       "      <td>0.285714</td>\n",
       "      <td>0.500000</td>\n",
       "      <td>0.400000</td>\n",
       "      <td>0.444444</td>\n",
       "    </tr>\n",
       "  </tbody>\n",
       "</table>\n",
       "<p>37253 rows × 19 columns</p>\n",
       "</div>"
      ],
      "text/plain": [
       "       Unnamed: 0 Filename   Start_time     End_time  \\\n",
       "0               0  D0001_A  2081.540000  2109.650000   \n",
       "1               1  D0001_A   790.130000   796.580000   \n",
       "2               2  D0001_A  1562.083518  1586.220000   \n",
       "3               3  D0001_A  2016.780000  2035.673559   \n",
       "4               4  D0001_A  1682.670000  1709.110000   \n",
       "...           ...      ...          ...          ...   \n",
       "37248       37248    P0070  2586.616000  2589.346000   \n",
       "37249       37249    P0070  2782.496000  2783.706000   \n",
       "37250       37250    P0070  2995.296000  2998.116000   \n",
       "37251       37251    P0070  2604.066000  2606.656000   \n",
       "37252       37252    P0070  2434.606000  2436.576000   \n",
       "\n",
       "                                                   WeNet       WER  \\\n",
       "0      我说出来就比较地需要时间然后那个识别的他的不就是他等你一会你那个话还没有说完的还没有说出来的...  0.226804   \n",
       "1                                              第四句有我我说的话  0.500000   \n",
       "2      这部剧是不怎么评分是不怎么好的就因为评评论区的那那些人他们都在说拿到号做好惨的那个就那么勤奋...  0.203125   \n",
       "3                        很精准对讯飞语音还是讯飞助手来着就我记得他是叫讯飞我之前就是他  0.210526   \n",
       "4      一个个是叫啥来的我忘了就是出现了这一个人然后呢他他就射了一把剑然后就就把那个拿二号给长杀了就...  0.250000   \n",
       "...                                                  ...       ...   \n",
       "37248                                         单曲循环歌曲这样而已  0.090909   \n",
       "37249                                              杨幂的电影  0.166667   \n",
       "37250                                       你好米娅今天柴油价怎么样  0.266667   \n",
       "37251                                        单曲循环歌曲琉璃光之歌  0.083333   \n",
       "37252                                            导航到龙城明月  0.375000   \n",
       "\n",
       "       Stutterance_Count  NA_Count  NA_Cleaned_Count  WER_Binned  \\\n",
       "0                    1.0       100                 0        0.23   \n",
       "1                    1.0       100                 0        0.50   \n",
       "2                   10.0       100                 0        0.20   \n",
       "3                    7.0       100                 0        0.21   \n",
       "4                    8.0       100                 0        0.25   \n",
       "...                  ...       ...               ...         ...   \n",
       "37248                0.0       100                 0        0.09   \n",
       "37249                0.0       100                 0        0.17   \n",
       "37250                0.0       100                 0        0.27   \n",
       "37251                0.0       100                 0        0.08   \n",
       "37252                0.0       100                 0        0.38   \n",
       "\n",
       "       rouge1-precision  rouge1-recall  rouge1-f1  rouge2-precision  \\\n",
       "0              0.837838       0.815789   0.826667          0.555556   \n",
       "1              0.800000       0.571429   0.666667          0.400000   \n",
       "2              0.806452       0.806452   0.806452          0.617647   \n",
       "3              0.888889       0.800000   0.842105          0.650000   \n",
       "4              0.806452       0.757576   0.781250          0.512821   \n",
       "...                 ...            ...        ...               ...   \n",
       "37248          1.000000       0.833333   0.909091          1.000000   \n",
       "37249          1.000000       0.750000   0.857143          1.000000   \n",
       "37250          0.833333       0.625000   0.714286          0.600000   \n",
       "37251          1.000000       0.833333   0.909091          1.000000   \n",
       "37252          0.500000       0.400000   0.444444          0.333333   \n",
       "\n",
       "       rouge2-recall  rouge2-f1  rougel-precision  rougel-recall  rougel-f1  \n",
       "0           0.491803   0.521739          0.803279       0.700000   0.748092  \n",
       "1           0.333333   0.363636          0.666667       0.571429   0.615385  \n",
       "2           0.525000   0.567568          0.828571       0.690476   0.753247  \n",
       "3           0.464286   0.541667          0.863636       0.612903   0.716981  \n",
       "4           0.454545   0.481928          0.761905       0.653061   0.703297  \n",
       "...              ...        ...               ...            ...        ...  \n",
       "37248       0.800000   0.888889          1.000000       0.833333   0.909091  \n",
       "37249       0.666667   0.800000          1.000000       0.750000   0.857143  \n",
       "37250       0.375000   0.461538          0.833333       0.555556   0.666667  \n",
       "37251       0.800000   0.888889          1.000000       0.833333   0.909091  \n",
       "37252       0.250000   0.285714          0.500000       0.400000   0.444444  \n",
       "\n",
       "[37253 rows x 19 columns]"
      ]
     },
     "execution_count": 22,
     "metadata": {},
     "output_type": "execute_result"
    }
   ],
   "source": [
    "net_aigenerated_data_wenet"
   ]
  },
  {
   "cell_type": "code",
   "execution_count": 23,
   "id": "92cba2a5-5178-4579-b0a0-5ec8b89181fb",
   "metadata": {
    "tags": []
   },
   "outputs": [],
   "source": [
    "net_aigenerated_data_wenet.to_csv('net_aigenerated_data_wenet_performance_stu.csv', sep=',')"
   ]
  },
  {
   "cell_type": "markdown",
   "id": "1c4dd59d-7ebd-49bd-8d18-acae4780be3c",
   "metadata": {},
   "source": [
    "***"
   ]
  },
  {
   "cell_type": "markdown",
   "id": "413e91e6-4f9d-423a-9d57-d19ba960bac1",
   "metadata": {},
   "source": [
    "## Visualization of Relationship between Stuttering Count and Rouge Scores"
   ]
  },
  {
   "cell_type": "code",
   "execution_count": 6,
   "id": "edf03ee0-99ec-4f0a-8a29-bc6d6e53bcb1",
   "metadata": {
    "tags": []
   },
   "outputs": [],
   "source": [
    "## Load data from csv if starting here\n",
    "\n",
    "net_aigenerated_data_wenet = pd.read_csv('/projectnb/ds549/projects/AImpower/evaluation-wenet/net_aigenerated_data_wenet_performance_stu.csv', delimiter=',')"
   ]
  },
  {
   "cell_type": "code",
   "execution_count": 9,
   "id": "833e1afc-5996-44a9-a70a-feb0cdd29237",
   "metadata": {
    "tags": []
   },
   "outputs": [
    {
     "data": {
      "image/png": "[encoded data removed]",
      "text/plain": [
       "<Figure size 600x400 with 1 Axes>"
      ]
     },
     "metadata": {},
     "output_type": "display_data"
    }
   ],
   "source": [
    "plt.figure(figsize=(6, 4))\n",
    "# plt.scatter(\n",
    "#     net_aigenerated_data_wenet[\"Stutterance_Count\"], \n",
    "#     net_aigenerated_data_wenet[\"rouge1-precision\"], \n",
    "#     facecolors=\"none\", edgecolors='r',\n",
    "#     marker=\"8\",\n",
    "#     alpha=0.7  # Handle overlapping points\n",
    "# )\n",
    "\n",
    "# plt.scatter(\n",
    "#     net_aigenerated_data_wenet[\"Stutterance_Count\"], \n",
    "#     net_aigenerated_data_wenet[\"rouge1-recall\"], \n",
    "#     facecolors=\"none\", edgecolors='g',\n",
    "#     marker=\"^\",\n",
    "#     alpha=0.7  # Handle overlapping points\n",
    "# )\n",
    "\n",
    "plt.scatter(\n",
    "    net_aigenerated_data_wenet[\"Stutterance_Count\"], \n",
    "    net_aigenerated_data_wenet[\"rouge1-f1\"], \n",
    "    facecolors=\"none\", edgecolors='b',\n",
    "    marker=\".\",\n",
    "    alpha=0.7  # Handle overlapping points\n",
    ")\n",
    "\n",
    "plt.title(\"Rouge-1 vs Stutterance Count\", fontsize=16)\n",
    "plt.xlabel(\"Stutterance Count\", fontsize=14)\n",
    "plt.ylabel(\"Rouge Score\", fontsize=14)\n",
    "plt.grid(True)\n",
    "plt.show()"
   ]
  },
  {
   "cell_type": "code",
   "execution_count": 12,
   "id": "21b7c856-ac25-4ad8-af68-94b7603e413f",
   "metadata": {
    "tags": []
   },
   "outputs": [
    {
     "data": {
      "image/png": "[encoded data removed]",
      "text/plain": [
       "<Figure size 600x400 with 1 Axes>"
      ]
     },
     "metadata": {},
     "output_type": "display_data"
    }
   ],
   "source": [
    "plt.figure(figsize=(6, 4))\n",
    "# plt.scatter(\n",
    "#     net_aigenerated_data_wenet[\"Stutterance_Count\"], \n",
    "#     net_aigenerated_data_wenet[\"rouge2-precision\"], \n",
    "#     facecolors=\"none\", edgecolors='r',\n",
    "#     marker=\"8\",\n",
    "#     alpha=0.7  # Handle overlapping points\n",
    "# )\n",
    "\n",
    "# plt.scatter(\n",
    "#     net_aigenerated_data_wenet[\"Stutterance_Count\"], \n",
    "#     net_aigenerated_data_wenet[\"rouge2-recall\"], \n",
    "#     facecolors=\"none\", edgecolors='g',\n",
    "#     marker=\"^\",\n",
    "#     alpha=0.7  # Handle overlapping points\n",
    "# )\n",
    "\n",
    "plt.scatter(\n",
    "    net_aigenerated_data_wenet[\"Stutterance_Count\"], \n",
    "    net_aigenerated_data_wenet[\"rouge2-f1\"], \n",
    "    facecolors=\"none\", edgecolors='b',\n",
    "    marker=\".\",\n",
    "    alpha=0.7  # Handle overlapping points\n",
    ")\n",
    "\n",
    "plt.title(\"Rouge-2 vs Stutterance Count\", fontsize=16)\n",
    "plt.xlabel(\"Stutterance Count\", fontsize=14)\n",
    "plt.ylabel(\"Rouge Score\", fontsize=14)\n",
    "plt.grid(True)\n",
    "plt.show()"
   ]
  },
  {
   "cell_type": "code",
   "execution_count": 15,
   "id": "15aacd2e-8b9a-49e0-b93a-61cd141809ee",
   "metadata": {
    "tags": []
   },
   "outputs": [
    {
     "data": {
      "image/png": "[encoded data removed]",
      "text/plain": [
       "<Figure size 600x400 with 1 Axes>"
      ]
     },
     "metadata": {},
     "output_type": "display_data"
    }
   ],
   "source": [
    "plt.figure(figsize=(6, 4))\n",
    "# plt.scatter(\n",
    "#     net_aigenerated_data_wenet[\"Stutterance_Count\"], \n",
    "#     net_aigenerated_data_wenet[\"rougel-precision\"], \n",
    "#     facecolors=\"none\", edgecolors='r',\n",
    "#     marker=\"8\",\n",
    "#     alpha=0.7  # Handle overlapping points\n",
    "# )\n",
    "\n",
    "# plt.scatter(\n",
    "#     net_aigenerated_data_wenet[\"Stutterance_Count\"], \n",
    "#     net_aigenerated_data_wenet[\"rougel-recall\"], \n",
    "#     facecolors=\"none\", edgecolors='g',\n",
    "#     marker=\"^\",\n",
    "#     alpha=0.7  # Handle overlapping points\n",
    "# )\n",
    "\n",
    "plt.scatter(\n",
    "    net_aigenerated_data_wenet[\"Stutterance_Count\"], \n",
    "    net_aigenerated_data_wenet[\"rougel-f1\"], \n",
    "    facecolors=\"none\", edgecolors='b',\n",
    "    marker=\".\",\n",
    "    alpha=0.7  # Handle overlapping points\n",
    ")\n",
    "\n",
    "plt.title(\"Rouge-L vs Stutterance Count\", fontsize=16)\n",
    "plt.xlabel(\"Stutterance Count\", fontsize=14)\n",
    "plt.ylabel(\"Rouge Score\", fontsize=14)\n",
    "plt.grid(True)\n",
    "plt.show()"
   ]
  },
  {
   "cell_type": "markdown",
   "id": "60ec04e9-605d-4d66-ab46-87f8441a790c",
   "metadata": {},
   "source": [
    "## Correlations between Stuttering and Rouge Scores"
   ]
  },
  {
   "cell_type": "code",
   "execution_count": 16,
   "id": "2f1aeda0-f917-4f4c-b5aa-bf5fe18f17f1",
   "metadata": {
    "tags": []
   },
   "outputs": [
    {
     "name": "stdout",
     "output_type": "stream",
     "text": [
      "p-value [stuttering count & rouge-1 f1] = 0.0\n",
      "rho [stuttering count & rouge-1 f1] = 0.21527309202876885\n",
      "p-value [stuttering count & rouge-2 f1] = 3.693334793086846e-135\n",
      "rho [stuttering count & rouge-2 f1] = 0.12785307221499698\n",
      "p-value [stuttering count & rouge-l f1] = 6.48359802224591e-206\n",
      "rho [stuttering count & rouge-l f1] = 0.15788019321213467\n"
     ]
    }
   ],
   "source": [
    "from scipy.stats import spearmanr\n",
    "rho, p = spearmanr(net_aigenerated_data_wenet.dropna()['Stutterance_Count'], net_aigenerated_data_wenet.dropna()['rouge1-f1'])\n",
    "print(f\"p-value [stuttering count & rouge-1 f1] = {p}\")\n",
    "print(f\"rho [stuttering count & rouge-1 f1] = {rho}\")\n",
    "\n",
    "rho, p = spearmanr(net_aigenerated_data_wenet.dropna()['Stutterance_Count'], net_aigenerated_data_wenet.dropna()['rouge2-f1'])\n",
    "print(f\"p-value [stuttering count & rouge-2 f1] = {p}\")\n",
    "print(f\"rho [stuttering count & rouge-2 f1] = {rho}\")\n",
    "\n",
    "rho, p = spearmanr(net_aigenerated_data_wenet.dropna()['Stutterance_Count'], net_aigenerated_data_wenet.dropna()['rougel-f1'])\n",
    "print(f\"p-value [stuttering count & rouge-l f1] = {p}\")\n",
    "print(f\"rho [stuttering count & rouge-l f1] = {rho}\")"
   ]
  },
  {
   "cell_type": "code",
   "execution_count": null,
   "id": "b1eba2fc-f5c1-41fd-be6b-2442b882e86e",
   "metadata": {},
   "outputs": [],
   "source": []
  }
 ],
 "metadata": {
  "kernelspec": {
   "display_name": "Python 3 (ipykernel)",
   "language": "python",
   "name": "python3"
  },
  "language_info": {
   "codemirror_mode": {
    "name": "ipython",
    "version": 3
   },
   "file_extension": ".py",
   "mimetype": "text/x-python",
   "name": "python",
   "nbconvert_exporter": "python",
   "pygments_lexer": "ipython3",
   "version": "3.10.12"
  }
 },
 "nbformat": 4,
 "nbformat_minor": 5
}
