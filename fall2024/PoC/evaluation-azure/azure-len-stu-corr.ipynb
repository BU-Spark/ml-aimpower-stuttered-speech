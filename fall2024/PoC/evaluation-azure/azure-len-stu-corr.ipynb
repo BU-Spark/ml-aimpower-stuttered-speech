{
 "cells": [
  {
   "cell_type": "markdown",
   "id": "bb774a58-d18e-4222-bdea-baa78f10cfd5",
   "metadata": {},
   "source": [
    "# Correlation Between Length of Audio & Stuttering Count [Azure]"
   ]
  },
  {
   "cell_type": "code",
   "execution_count": null,
   "id": "165164da-212f-4e80-b5a4-009bf0ea0678",
   "metadata": {
    "tags": []
   },
   "outputs": [],
   "source": [
    "import pandas as pd\n",
    "import numpy as np\n",
    "import sys\n",
    "import os\n",
    "import matplotlib.pyplot as plt\n",
    "from tqdm import tqdm\n",
    "import re"
   ]
  },
  {
   "cell_type": "markdown",
   "id": "ff098b66-648f-4d0c-8357-00f34e860ea6",
   "metadata": {},
   "source": [
    "## Data Ingestion"
   ]
  },
  {
   "cell_type": "code",
   "execution_count": null,
   "id": "59eff766-35c2-43bd-876d-bc95c8d1d747",
   "metadata": {
    "tags": []
   },
   "outputs": [],
   "source": [
    "cols = list(pd.read_csv(\"net_aigenerated_data_azure_performance_stu.csv\", nrows=1))\n",
    "print(cols)\n",
    "\n",
    "net_aigenerated_data_azure = pd.read_csv('/projectnb/ds549/projects/AImpower/evaluation-azure/net_aigenerated_data_azure_performance_stu.csv', delimiter=',', usecols =[i for i in cols if \"Unnamed:\" not in i])\n"
   ]
  },
  {
   "cell_type": "markdown",
   "id": "cc2fa5c2-1b38-4dcc-bcdb-730728f2dac8",
   "metadata": {},
   "source": [
    "## Visualization of Correlation"
   ]
  },
  {
   "cell_type": "code",
   "execution_count": null,
   "id": "5245aebf-f684-4105-bd27-fc525be35243",
   "metadata": {
    "tags": []
   },
   "outputs": [],
   "source": [
    "plt.figure(figsize=(6, 4))\n",
    "plt.scatter(\n",
    "    net_aigenerated_data_azure[\"Duration\"], \n",
    "    net_aigenerated_data_azure[\"Stutterance_Count\"], \n",
    "    alpha=0.7  # Handle overlapping points\n",
    ")\n",
    "\n",
    "plt.title(\"Audio Duration to Stuttering Count Relationship\", fontsize=16)\n",
    "plt.xlabel(\"Audio Duration\", fontsize=14)\n",
    "plt.ylabel(\"Stuttering Count\", fontsize=14)\n",
    "plt.grid(True)\n",
    "plt.show()"
   ]
  },
  {
   "cell_type": "code",
   "execution_count": null,
   "id": "0bc38425-8d2d-4c53-972e-4e21240c4791",
   "metadata": {},
   "outputs": [],
   "source": []
  }
 ],
 "metadata": {
  "kernelspec": {
   "display_name": "Python 3 (ipykernel)",
   "language": "python",
   "name": "python3"
  },
  "language_info": {
   "codemirror_mode": {
    "name": "ipython",
    "version": 3
   },
   "file_extension": ".py",
   "mimetype": "text/x-python",
   "name": "python",
   "nbconvert_exporter": "python",
   "pygments_lexer": "ipython3",
   "version": "3.10.12"
  }
 },
 "nbformat": 4,
 "nbformat_minor": 5
}
