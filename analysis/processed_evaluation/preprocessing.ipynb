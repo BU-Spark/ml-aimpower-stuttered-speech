{
 "cells": [
  {
   "cell_type": "code",
   "execution_count": 1,
   "metadata": {},
   "outputs": [],
   "source": [
    "import pandas as pd\n",
    "import numpy as np\n",
    "import string\n",
    "import re"
   ]
  },
  {
   "cell_type": "code",
   "execution_count": 3,
   "metadata": {},
   "outputs": [],
   "source": [
    "df_whisper_tiny = pd.read_csv('processed_Whisper_tiny_evaluation.csv', index_col=0)\n",
    "df_cleaned_whisper_tiny = pd.read_csv('processed_Whisper_tiny_cleaned_evaluation.csv', index_col=0)\n",
    "df_whisper_large = pd.read_csv('processed_Whisper_large_evaluation.csv', index_col=0)\n",
    "df_cleaned_whisper_large = pd.read_csv('processed_Whisper_large_cleaned_evaluation.csv', index_col=0)\n",
    "df_googlecloud = pd.read_csv('processed_GoogleCloud_evaluation.csv', index_col=0)\n",
    "df_cleaned_googlecloud = pd.read_csv('processed_GoogleCloud_cleaned_evaluation.csv', index_col=0)\n",
    "df_wav2vec = pd.read_csv('processed_Wav2vec_evaluation.csv', index_col=0)\n",
    "df_cleaned_wav2vec = pd.read_csv('processed_Wav2vec_cleaned_evaluation.csv', index_col=0)\n",
    "df_wenet = pd.read_csv('processed_WeNet_evaluation.csv', index_col=0)\n",
    "df_cleaned_wenet = pd.read_csv('processed_WeNet_cleaned_evaluation.csv', index_col=0)\n",
    "df_azure = pd.read_csv('processed_Azure_evaluation.csv', index_col=0)\n",
    "df_cleaned_azure = pd.read_csv('processed_Azure_cleaned_evaluation.csv', index_col=0)\n",
    "\n",
    "modelnames = ['Whisper_tiny', 'Whisper_large', 'GoogleCloud', 'Wav2vec', 'WeNet', 'Azure']\n",
    "eval_metrics = ['WER', 'CER', 'BLEU', 'WordNet_first', 'WordNet_all', 'GloVe', 'BERT', 'Sent2Vec']\n",
    "dfs = [df_whisper_tiny, df_whisper_large, df_googlecloud, df_wav2vec, df_wenet, df_azure]\n",
    "dfs_cleaned = [df_cleaned_whisper_tiny, df_cleaned_whisper_large, df_cleaned_googlecloud, df_cleaned_wav2vec, df_cleaned_wenet, df_cleaned_azure]"
   ]
  },
  {
   "cell_type": "code",
   "execution_count": null,
   "metadata": {},
   "outputs": [],
   "source": [
    "def remove_punctuation(text):\n",
    "    punctuation = string.punctuation + \"。，？\"\n",
    "    translator = str.maketrans('', '', punctuation)\n",
    "    return text.translate(translator)\n",
    "\n",
    "for df, df_cleaned, modelname in zip(dfs, dfs_cleaned, modelnames):\n",
    "    df['ground_truth_cleaned'] = df['ground_truth_cleaned'].apply(lambda x: remove_punctuation(x) if pd.notnull(x) else x)\n",
    "    df_cleaned['ground_truth_cleaned'] = df_cleaned['ground_truth_cleaned'].apply(lambda x: remove_punctuation(x) if pd.notnull(x) else x)\n",
    "    df[modelname] = df[modelname].apply(lambda x: remove_punctuation(x) if pd.notnull(x) else x)\n",
    "    df_cleaned[f'{modelname}_cleaned'] = df_cleaned[f'{modelname}_cleaned'].apply(lambda x: remove_punctuation(x) if pd.notnull(x) else x)"
   ]
  },
  {
   "cell_type": "code",
   "execution_count": 3,
   "metadata": {},
   "outputs": [],
   "source": [
    "def remove_punctuation(text):\n",
    "    punctuation = string.punctuation + \"。，？\"\n",
    "    translator = str.maketrans('', '', punctuation)\n",
    "    return text.translate(translator)"
   ]
  },
  {
   "cell_type": "code",
   "execution_count": 5,
   "metadata": {},
   "outputs": [
    {
     "name": "stdout",
     "output_type": "stream",
     "text": [
      "original text: 就出現了,就打瘋我到了那個同年的時候進層的享受看電視劇的那些時光這不去呢?\n",
      "cleaned text: 就出現了就打瘋我到了那個同年的時候進層的享受看電視劇的那些時光這不去呢\n"
     ]
    }
   ],
   "source": [
    "text = \"就出現了,就打瘋我到了那個同年的時候進層的享受看電視劇的那些時光這不去呢?\"\n",
    "\n",
    "print(f'original text: {text}\\ncleaned text: {remove_punctuation(text)}')"
   ]
  },
  {
   "cell_type": "code",
   "execution_count": 5,
   "metadata": {},
   "outputs": [],
   "source": [
    "for df, df_cleaned, modelname in zip(dfs, dfs_cleaned, modelnames):\n",
    "    df.to_csv(f'processed_{modelname}_evaluation.csv')\n",
    "    df_cleaned.to_csv(f'processed_{modelname}_cleaned_evaluation.csv')"
   ]
  }
 ],
 "metadata": {
  "kernelspec": {
   "display_name": "Python 3",
   "language": "python",
   "name": "python3"
  },
  "language_info": {
   "codemirror_mode": {
    "name": "ipython",
    "version": 3
   },
   "file_extension": ".py",
   "mimetype": "text/x-python",
   "name": "python",
   "nbconvert_exporter": "python",
   "pygments_lexer": "ipython3",
   "version": "3.12.3"
  },
  "orig_nbformat": 4
 },
 "nbformat": 4,
 "nbformat_minor": 2
}
