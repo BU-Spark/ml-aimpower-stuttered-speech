{
 "cells": [
  {
   "cell_type": "code",
   "execution_count": null,
   "metadata": {},
   "outputs": [],
   "source": [
    "#https://cloud.google.com/speech-to-text/docs/sync-recognize#speech-sync-recognize-python\n",
    "# !pip3 install --upgrade google-cloud-speech\n",
    "# !pip3 install argparse"
   ]
  },
  {
   "cell_type": "code",
   "execution_count": 2,
   "metadata": {},
   "outputs": [],
   "source": [
    "import os\n",
    "import re\n",
    "import io\n",
    "from google.oauth2 import service_account\n",
    "from google.cloud import speech\n",
    "import pandas as pd\n",
    "\n",
    "client_file = 'stutteringspeech-010b30e534ca.json'\n",
    "credentials = service_account.Credentials.from_service_account_file(client_file)\n",
    "client = speech.SpeechClient(credentials=credentials)\n",
    "config = speech.RecognitionConfig(\n",
    "    encoding=speech.RecognitionConfig.AudioEncoding.LINEAR16,\n",
    "    sample_rate_hertz=16000,\n",
    "    language_code='cmn-Hans-CN'\n",
    ")\n",
    "\n",
    "def transcribe_GoogleCloud(filename):\n",
    "    with io.open(filename, 'rb') as f:\n",
    "        audio = speech.RecognitionAudio(content=f.read())\n",
    "    response = client.recognize(config=config, audio=audio)\n",
    "    try:\n",
    "        return response.results[0].alternatives[0].transcript\n",
    "    except:\n",
    "        return ''\n",
    "\n",
    "df_googlecloud = pd.DataFrame({\n",
    "    'Filename': [],\n",
    "    'Start_time': [],\n",
    "    'End_time': [],\n",
    "    'GoogleCloud': []\n",
    "})"
   ]
  },
  {
   "cell_type": "code",
   "execution_count": 56,
   "metadata": {},
   "outputs": [],
   "source": [
    "for i in range(1, 71):\n",
    "    number = str(i).zfill(2)\n",
    "    input_files = [f for f in os.listdir(f\"segmented_audio/conversationA/00{number}\")]\n",
    "    for input_file in input_files:\n",
    "        predicted = transcribe_GoogleCloud(f'segmented_audio/conversationA/00{number}/{input_file}')\n",
    "        match = re.search(r'(\\d+\\.\\d+)_(\\d+\\.\\d+)\\.wav$', input_file)\n",
    "        start_time = match.group(1)\n",
    "        end_time = match.group(2)\n",
    "        df_googlecloud.loc[len(df_googlecloud)] = {'Filename': f'D00{number}_A','Start_time': start_time,'End_time': end_time,'GoogleCloud': predicted}\n",
    "\n",
    "for i in range(1, 71):\n",
    "    number = str(i).zfill(2)\n",
    "    input_files = [f for f in os.listdir(f\"segmented_audio/conversationB/00{number}\")]\n",
    "    for input_file in input_files:\n",
    "        predicted = transcribe_GoogleCloud(f'segmented_audio/conversationB/00{number}/{input_file}')\n",
    "        match = re.search(r'(\\d+\\.\\d+)_(\\d+\\.\\d+)\\.wav$', input_file)\n",
    "        start_time = match.group(1)\n",
    "        end_time = match.group(2)\n",
    "        df_googlecloud.loc[len(df_googlecloud)] = {'Filename': f'D00{number}_B','Start_time': start_time,'End_time': end_time,'GoogleCloud': predicted}\n",
    "\n",
    "for i in range(1, 71):\n",
    "    number = str(i).zfill(2)\n",
    "    input_files = [f for f in os.listdir(f\"segmented_audio/voice_command/00{number}\")]\n",
    "    for input_file in input_files:\n",
    "        predicted = transcribe_GoogleCloud(f'segmented_audio/voice_command/00{number}/{input_file}')\n",
    "        match = re.search(r'(\\d+\\.\\d+)_(\\d+\\.\\d+)\\.wav$', input_file)\n",
    "        start_time = match.group(1)\n",
    "        end_time = match.group(2)\n",
    "        df_googlecloud.loc[len(df_googlecloud)] = {'Filename': f'P00{number}','Start_time': start_time,'End_time': end_time,'GoogleCloud': predicted}\n",
    "\n",
    "df_googlecloud.to_csv('predicted_transcription/GoogleCloud.csv')"
   ]
  }
 ],
 "metadata": {
  "kernelspec": {
   "display_name": "myenv",
   "language": "python",
   "name": "python3"
  },
  "language_info": {
   "codemirror_mode": {
    "name": "ipython",
    "version": 3
   },
   "file_extension": ".py",
   "mimetype": "text/x-python",
   "name": "python",
   "nbconvert_exporter": "python",
   "pygments_lexer": "ipython3",
   "version": "3.12.3"
  }
 },
 "nbformat": 4,
 "nbformat_minor": 2
}
