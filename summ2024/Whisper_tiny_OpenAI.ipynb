{
 "cells": [
  {
   "cell_type": "code",
   "execution_count": null,
   "metadata": {},
   "outputs": [],
   "source": [
    "# !pip3 install git+https://github.com/openai/whisper.git\n",
    "# !pip3 install ffmpeg"
   ]
  },
  {
   "cell_type": "code",
   "execution_count": 28,
   "metadata": {},
   "outputs": [],
   "source": [
    "import os\n",
    "import re\n",
    "import whisper\n",
    "import pandas as pd\n",
    "# import ffmpeg\n",
    "\n",
    "model = whisper.load_model(\"tiny\")\n",
    "\n",
    "def transcribe_Whisper_tiny(filename):\n",
    "    result = model.transcribe(filename, language='zh')\n",
    "    return result[\"text\"]\n",
    "\n",
    "df_whisper_tiny = pd.DataFrame({\n",
    "    'Filename': [],\n",
    "    'Start_time': [],\n",
    "    'End_time': [],\n",
    "    'Whisper_tiny': []\n",
    "})"
   ]
  },
  {
   "cell_type": "code",
   "execution_count": 29,
   "metadata": {},
   "outputs": [],
   "source": [
    "for i in range(1, 71):\n",
    "    number = str(i).zfill(2)\n",
    "    input_files = [f for f in os.listdir(f\"segmented_audio/conversationA/00{number}\")]\n",
    "    for input_file in input_files:\n",
    "        predicted = transcribe_Whisper_tiny(f'segmented_audio/conversationA/00{number}/{input_file}')\n",
    "        match = re.search(r'(\\d+\\.\\d+)_(\\d+\\.\\d+)\\.wav$', input_file)\n",
    "        start_time = match.group(1)\n",
    "        end_time = match.group(2)\n",
    "        df_whisper_tiny.loc[len(df_whisper_tiny)] = {'Filename': f'D00{number}_A','Start_time': start_time,'End_time': end_time,'Whisper_tiny': predicted}\n",
    "\n",
    "for i in range(1, 71):\n",
    "    number = str(i).zfill(2)\n",
    "    input_files = [f for f in os.listdir(f\"segmented_audio/conversationB/00{number}\")]\n",
    "    for input_file in input_files:\n",
    "        predicted = transcribe_Whisper_tiny(f'segmented_audio/conversationB/00{number}/{input_file}')\n",
    "        match = re.search(r'(\\d+\\.\\d+)_(\\d+\\.\\d+)\\.wav$', input_file)\n",
    "        start_time = match.group(1)\n",
    "        end_time = match.group(2)\n",
    "        df_whisper_tiny.loc[len(df_whisper_tiny)] = {'Filename': f'D00{number}_B','Start_time': start_time,'End_time': end_time,'Whisper_tiny': predicted}\n",
    "\n",
    "for i in range(1, 71):\n",
    "    number = str(i).zfill(2)\n",
    "    input_files = [f for f in os.listdir(f\"segmented_audio/voice_command/00{number}\")]\n",
    "    for input_file in input_files:\n",
    "        predicted = transcribe_Whisper_tiny(f'segmented_audio/voice_command/00{number}/{input_file}')\n",
    "        match = re.search(r'(\\d+\\.\\d+)_(\\d+\\.\\d+)\\.wav$', input_file)\n",
    "        start_time = match.group(1)\n",
    "        end_time = match.group(2)\n",
    "        df_whisper_tiny.loc[len(df_whisper_tiny)] = {'Filename': f'P00{number}','Start_time': start_time,'End_time': end_time,'Whisper_tiny': predicted}\n",
    "\n",
    "df_whisper_tiny.to_csv('predicted_transcription/Whisper_tiny.csv')"
   ]
  }
 ],
 "metadata": {
  "kernelspec": {
   "display_name": "myenv",
   "language": "python",
   "name": "python3"
  },
  "language_info": {
   "codemirror_mode": {
    "name": "ipython",
    "version": 3
   },
   "file_extension": ".py",
   "mimetype": "text/x-python",
   "name": "python",
   "nbconvert_exporter": "python",
   "pygments_lexer": "ipython3",
   "version": "3.11.6"
  }
 },
 "nbformat": 4,
 "nbformat_minor": 2
}
