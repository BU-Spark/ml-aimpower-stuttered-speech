{
 "cells": [
  {
   "cell_type": "code",
   "execution_count": 1,
   "metadata": {},
   "outputs": [
    {
     "name": "stdout",
     "output_type": "stream",
     "text": [
      "Collecting pydub\n",
      "  Downloading pydub-0.25.1-py2.py3-none-any.whl.metadata (1.4 kB)\n",
      "Downloading pydub-0.25.1-py2.py3-none-any.whl (32 kB)\n",
      "Installing collected packages: pydub\n",
      "Successfully installed pydub-0.25.1\n",
      "Collecting pandas\n",
      "  Downloading pandas-2.2.2-cp312-cp312-manylinux_2_17_x86_64.manylinux2014_x86_64.whl.metadata (19 kB)\n",
      "Collecting numpy>=1.26.0 (from pandas)\n",
      "  Downloading numpy-1.26.4-cp312-cp312-manylinux_2_17_x86_64.manylinux2014_x86_64.whl.metadata (61 kB)\n",
      "\u001b[2K     \u001b[90m━━━━━━━━━━━━━━━━━━━━━━━━━━━━━━━━━━━━━━━━\u001b[0m \u001b[32m61.0/61.0 kB\u001b[0m \u001b[31m4.2 MB/s\u001b[0m eta \u001b[36m0:00:00\u001b[0m\n",
      "\u001b[?25hRequirement already satisfied: python-dateutil>=2.8.2 in /rprojectnb/sparkpit/dlee5/.conda/envs/my_conda_env/lib/python3.12/site-packages (from pandas) (2.9.0)\n",
      "Requirement already satisfied: pytz>=2020.1 in /rprojectnb/sparkpit/dlee5/.conda/envs/my_conda_env/lib/python3.12/site-packages (from pandas) (2024.1)\n",
      "Collecting tzdata>=2022.7 (from pandas)\n",
      "  Downloading tzdata-2024.1-py2.py3-none-any.whl.metadata (1.4 kB)\n",
      "Requirement already satisfied: six>=1.5 in /rprojectnb/sparkpit/dlee5/.conda/envs/my_conda_env/lib/python3.12/site-packages (from python-dateutil>=2.8.2->pandas) (1.16.0)\n",
      "Downloading pandas-2.2.2-cp312-cp312-manylinux_2_17_x86_64.manylinux2014_x86_64.whl (12.7 MB)\n",
      "\u001b[2K   \u001b[90m━━━━━━━━━━━━━━━━━━━━━━━━━━━━━━━━━━━━━━━━\u001b[0m \u001b[32m12.7/12.7 MB\u001b[0m \u001b[31m189.1 MB/s\u001b[0m eta \u001b[36m0:00:00\u001b[0m00:01\u001b[0m:01\u001b[0m\n",
      "\u001b[?25hDownloading numpy-1.26.4-cp312-cp312-manylinux_2_17_x86_64.manylinux2014_x86_64.whl (18.0 MB)\n",
      "\u001b[2K   \u001b[90m━━━━━━━━━━━━━━━━━━━━━━━━━━━━━━━━━━━━━━━━\u001b[0m \u001b[32m18.0/18.0 MB\u001b[0m \u001b[31m182.1 MB/s\u001b[0m eta \u001b[36m0:00:00\u001b[0m00:01\u001b[0m00:01\u001b[0m\n",
      "\u001b[?25hDownloading tzdata-2024.1-py2.py3-none-any.whl (345 kB)\n",
      "\u001b[2K   \u001b[90m━━━━━━━━━━━━━━━━━━━━━━━━━━━━━━━━━━━━━━━━\u001b[0m \u001b[32m345.4/345.4 kB\u001b[0m \u001b[31m60.4 MB/s\u001b[0m eta \u001b[36m0:00:00\u001b[0m\n",
      "\u001b[?25hInstalling collected packages: tzdata, numpy, pandas\n",
      "Successfully installed numpy-1.26.4 pandas-2.2.2 tzdata-2024.1\n",
      "Requirement already satisfied: numpy in /rprojectnb/sparkpit/dlee5/.conda/envs/my_conda_env/lib/python3.12/site-packages (1.26.4)\n"
     ]
    }
   ],
   "source": [
    "# !pip3 install pydub\n",
    "# !pip3 install pandas\n",
    "# !pip3 install numpy"
   ]
  },
  {
   "cell_type": "code",
   "execution_count": 2,
   "metadata": {},
   "outputs": [
    {
     "name": "stderr",
     "output_type": "stream",
     "text": [
      "/restricted/projectnb/sparkpit/dlee5/.conda/envs/my_conda_env/lib/python3.12/site-packages/pydub/utils.py:170: RuntimeWarning: Couldn't find ffmpeg or avconv - defaulting to ffmpeg, but may not work\n",
      "  warn(\"Couldn't find ffmpeg or avconv - defaulting to ffmpeg, but may not work\", RuntimeWarning)\n"
     ]
    }
   ],
   "source": [
    "import pandas as pd\n",
    "import numpy as np\n",
    "from pydub import AudioSegment"
   ]
  },
  {
   "cell_type": "code",
   "execution_count": 3,
   "metadata": {},
   "outputs": [],
   "source": [
    "def extract_audio_segment(input_file, start_time, end_time, output_file):\n",
    "    \"\"\"\n",
    "    Extracts a segment from an audio file based on start and end timestamps.\n",
    "\n",
    "    Args:\n",
    "        input_file (str): Path to the input audio file.\n",
    "        start_time (int): Start time in milliseconds.\n",
    "        end_time (int): End time in milliseconds.\n",
    "        output_file (str): Path to the output audio file.\n",
    "    \"\"\"\n",
    "    audio = AudioSegment.from_wav(input_file) # Load the audio file\n",
    "    segment = audio[start_time:end_time] # Extract the segment\n",
    "    segment.export(output_file, format=\"wav\") # Export the segment as a new WAV file"
   ]
  },
  {
   "cell_type": "code",
   "execution_count": 4,
   "metadata": {},
   "outputs": [],
   "source": [
    "# segment participant's conversation audio files\n",
    "for i in range(1, 71):\n",
    "    number = str(i).zfill(2)\n",
    "    input_file = f'updated_annotation_deid_full/00{number}/D00{number}_A.txt'\n",
    "    df = pd.read_csv(input_file, sep='\\t', names=['Starting', 'Ending', 'Transcript'])\n",
    "    input_audio = f'audio_deid_full/00{number}/meeting_01.wav'\n",
    "    for j in range(df.shape[0]):\n",
    "        start_time = df['Starting'][j] * 1000\n",
    "        end_time = df['Ending'][j] * 1000\n",
    "        output_file = f'segmented_audio/conversationA/00{number}/conversationA-{number}_{start_time/1000}_{end_time/1000}.wav'\n",
    "        extract_audio_segment(input_audio, start_time, end_time, output_file)"
   ]
  },
  {
   "cell_type": "code",
   "execution_count": 5,
   "metadata": {},
   "outputs": [],
   "source": [
    "# segment moderator's conversation audio files\n",
    "for i in range(1, 71):\n",
    "  number = str(i).zfill(2)\n",
    "  input_file = f'updated_annotation_deid_full/00{number}/D00{number}_B.txt'\n",
    "  df = pd.read_csv(input_file, sep='\\t', names=['Starting', 'Ending', 'Transcript'])\n",
    "  input_audio = f'audio_deid_full/00{number}/meeting_01.wav'\n",
    "  for j in range(df.shape[0]):\n",
    "    start_time = df['Starting'][j] * 1000\n",
    "    end_time = df['Ending'][j] * 1000\n",
    "    output_file = f'segmented_audio/conversationB/00{number}/conversationB-{number}_{start_time/1000}_{end_time/1000}.wav'\n",
    "    extract_audio_segment(input_audio, start_time, end_time, output_file)"
   ]
  },
  {
   "cell_type": "code",
   "execution_count": 6,
   "metadata": {},
   "outputs": [],
   "source": [
    "# segment voice command audio files\n",
    "for i in range(1, 71):\n",
    "  number = str(i).zfill(2)\n",
    "  input_file = f'updated_annotation_deid_full/00{number}/P00{number}.txt'\n",
    "  df = pd.read_csv(input_file, sep='\\t', names=['Starting', 'Ending', 'Transcript'])\n",
    "  input_audio = f'audio_deid_full/00{number}/meeting_01.wav'\n",
    "  for j in range(df.shape[0]):\n",
    "    start_time = df['Starting'][j] * 1000\n",
    "    end_time = df['Ending'][j] * 1000\n",
    "    output_file = f'segmented_audio/voice_command/00{number}/command-{number}_{start_time/1000}_{end_time/1000}.wav'\n",
    "    extract_audio_segment(input_audio, start_time, end_time, output_file)"
   ]
  }
 ],
 "metadata": {
  "kernelspec": {
   "display_name": "Python 3",
   "language": "python",
   "name": "python3"
  },
  "language_info": {
   "codemirror_mode": {
    "name": "ipython",
    "version": 3
   },
   "file_extension": ".py",
   "mimetype": "text/x-python",
   "name": "python",
   "nbconvert_exporter": "python",
   "pygments_lexer": "ipython3",
   "version": "3.12.3"
  }
 },
 "nbformat": 4,
 "nbformat_minor": 2
}
