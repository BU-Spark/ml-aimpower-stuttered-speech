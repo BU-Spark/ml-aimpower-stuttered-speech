{
 "cells": [
  {
   "cell_type": "code",
   "execution_count": 22,
   "metadata": {},
   "outputs": [],
   "source": [
    "import pandas as pd\n",
    "\n",
    "df_A_cleaned = pd.read_csv('../ground_truth_cleaned/D00XX_A_ground_truth_cleaned.csv', index_col=0)\n",
    "df_B_cleaned = pd.read_csv('../ground_truth_cleaned/D00XX_B_ground_truth_cleaned.csv', index_col=0)\n",
    "df_P_cleaned = pd.read_csv('../ground_truth_cleaned/P00XX_ground_truth_cleaned.csv', index_col=0)\n",
    "df_A_cleaned['file'] = df_A_cleaned['file'].str.extract(r'/(D\\d{4}_A)', expand=False)\n",
    "df_B_cleaned['file'] = df_B_cleaned['file'].str.extract(r'/(D\\d{4}_B)', expand=False)\n",
    "df_P_cleaned['file'] = df_P_cleaned['file'].str.extract(r'/(P\\d{4})', expand=False)\n",
    "df_model = pd.read_csv(f'../predicted_transcription/Whisper_tiny.csv', index_col=0)\n",
    "df_model = df_model.rename(columns={'Filename': 'file', 'Start_time': 'start_time', 'End_time': 'end_time'})\n",
    "df_merged = pd.merge(df_A_cleaned, df_model, on=['file', 'start_time', 'end_time'], how='outer')\n",
    "df_merged = pd.merge(df_B_cleaned, df_merged, on=['file', 'start_time', 'end_time'], how='right', suffixes=('_x',''))\n",
    "df_merged['participant'] = df_merged['participant'].combine_first(df_merged['participant_x'])\n",
    "df_merged['ground_truth'] = df_merged['ground_truth'].combine_first(df_merged['ground_truth_x'])\n",
    "df_merged['ground_truth_cleaned'] = df_merged['ground_truth_cleaned'].combine_first(df_merged['ground_truth_cleaned_x'])\n",
    "df_merged = df_merged.drop(columns=['participant_x', 'ground_truth_x', 'ground_truth_cleaned_x'])\n",
    "df_merged = pd.merge(df_merged, df_P_cleaned, on=['file', 'start_time', 'end_time'], how='outer', suffixes=('','_x'))\n",
    "df_merged['participant'] = df_merged['participant'].combine_first(df_merged['participant_x'])\n",
    "df_merged['ground_truth'] = df_merged['ground_truth'].combine_first(df_merged['ground_truth_x'])\n",
    "df_merged['ground_truth_cleaned'] = df_merged['ground_truth_cleaned'].combine_first(df_merged['ground_truth_cleaned_x'])\n",
    "df_merged = df_merged.drop(columns=['participant_x', 'ground_truth_x', 'ground_truth_cleaned_x'])\n",
    "\n",
    "df_A = df_merged[df_merged['file'].str.endswith('A')]\n",
    "df_B = df_merged[df_merged['file'].str.startswith('P')]\n",
    "\n",
    "sampled_A = df_A.sample(n=80, random_state=42)\n",
    "sampled_B = df_B.sample(n=20, random_state=42)\n",
    "sampled_df = pd.concat([sampled_A, sampled_B])\n",
    "\n",
    "sampled_df.to_csv('sampled_hundred_lines.csv')"
   ]
  }
 ],
 "metadata": {
  "kernelspec": {
   "display_name": "Python 3",
   "language": "python",
   "name": "python3"
  },
  "language_info": {
   "codemirror_mode": {
    "name": "ipython",
    "version": 3
   },
   "file_extension": ".py",
   "mimetype": "text/x-python",
   "name": "python",
   "nbconvert_exporter": "python",
   "pygments_lexer": "ipython3",
   "version": "3.12.3"
  },
  "orig_nbformat": 4
 },
 "nbformat": 4,
 "nbformat_minor": 2
}
